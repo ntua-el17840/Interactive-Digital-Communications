{
 "cells": [
  {
   "cell_type": "code",
   "execution_count": 1,
   "metadata": {},
   "outputs": [
    {
     "data": {
      "application/vnd.jupyter.widget-view+json": {
       "model_id": "2894d4a3fb6f450988fafc652e91415e",
       "version_major": 2,
       "version_minor": 0
      },
      "text/plain": [
       "VBox(children=(HBox(children=(VBox(children=(Dropdown(description='nsamp:', options=(8, 16, 32, 64), value=8),…"
      ]
     },
     "metadata": {},
     "output_type": "display_data"
    }
   ],
   "source": [
    "# Necessary imports\n",
    "import numpy as np\n",
    "import matplotlib.pyplot as plt\n",
    "from ipywidgets import Layout, widgets\n",
    "from IPython.display import display\n",
    "\n",
    "output = widgets.Output()\n",
    "\n",
    "# Function to plot filters based on nsamp input\n",
    "def plot_filters(change):\n",
    "    nsamp = nsamp_input.value\n",
    "\n",
    "    with output:\n",
    "        output.clear_output(wait=True)  # Clear the previous output\n",
    "\n",
    "        # Generate orthogonal and sinusoidal signals\n",
    "        orthogonal = np.ones(nsamp) / np.sqrt(nsamp)\n",
    "        sinusoidal = np.cos(2 * np.pi * np.arange(1, nsamp + 1) / nsamp)\n",
    "        sinusoidal = sinusoidal / np.sqrt(np.sum(sinusoidal**2))\n",
    "\n",
    "        # Create matched filters\n",
    "        matched_orthogonal = orthogonal[::-1]\n",
    "        matched_sinusoidal = sinusoidal[::-1]\n",
    "\n",
    "        # Create subplots\n",
    "        fig, axs = plt.subplots(2, 2, figsize=(14, 8))\n",
    "\n",
    "        # Plot orthogonal\n",
    "        markerline, stemlines, baseline = axs[0, 0].stem(orthogonal)\n",
    "        plt.setp(stemlines, 'linewidth', 0.5)\n",
    "        plt.setp(markerline, 'markersize', 4)\n",
    "        axs[0, 0].set_title('Orthogonal')\n",
    "        axs[0, 0].set_xlabel('Index')\n",
    "        axs[0, 0].set_ylabel('Amplitude')\n",
    "\n",
    "        # Plot sinusoidal\n",
    "        markerline, stemlines, baseline = axs[0, 1].stem(sinusoidal)\n",
    "        plt.setp(stemlines, 'linewidth', 0.5)\n",
    "        plt.setp(markerline, 'markersize', 4)\n",
    "        axs[0, 1].set_title('Sinusoidal')\n",
    "        axs[0, 1].set_xlabel('Index')\n",
    "        axs[0, 1].set_ylabel('Amplitude')\n",
    "\n",
    "        # Plot matched orthogonal\n",
    "        markerline, stemlines, baseline = axs[1, 0].stem(matched_orthogonal)\n",
    "        plt.setp(stemlines, 'linewidth', 0.5)\n",
    "        plt.setp(markerline, 'markersize', 4)\n",
    "        axs[1, 0].set_title('Matched Orthogonal')\n",
    "        axs[1, 0].set_xlabel('Index')\n",
    "        axs[1, 0].set_ylabel('Amplitude')\n",
    "\n",
    "        # Plot matched sinusoidal\n",
    "        markerline, stemlines, baseline = axs[1, 1].stem(matched_sinusoidal)\n",
    "        plt.setp(stemlines, 'linewidth', 0.5)\n",
    "        plt.setp(markerline, 'markersize', 4)\n",
    "        axs[1, 1].set_title('Matched Sinusoidal')\n",
    "        axs[1, 1].set_xlabel('Index')\n",
    "        axs[1, 1].set_ylabel('Amplitude')\n",
    "\n",
    "        plt.tight_layout()  # Adjust layout\n",
    "        plt.show()\n",
    "\n",
    "# Widget UI component with Dropdown for nsamp selection\n",
    "nsamp_input = widgets.Dropdown(\n",
    "    options=[8, 16, 32, 64],\n",
    "    value=8,  # Default value\n",
    "    description='nsamp:',\n",
    ")\n",
    "\n",
    "# Observe changes in nsamp dropdown\n",
    "nsamp_input.observe(plot_filters, names='value')\n",
    "\n",
    "inputs = widgets.VBox([nsamp_input])\n",
    "\n",
    "# Combine inputs and output\n",
    "ui = widgets.HBox([inputs], layout=Layout(align_items='center'))\n",
    "out = widgets.VBox([ui, output])\n",
    "\n",
    "# Display UI\n",
    "display(out)\n",
    "\n",
    "# Initial plot to show when the page loads\n",
    "plot_filters(None)\n"
   ]
  }
 ],
 "metadata": {
  "kernelspec": {
   "display_name": "digital_communications",
   "language": "python",
   "name": "python3"
  },
  "language_info": {
   "codemirror_mode": {
    "name": "ipython",
    "version": 3
   },
   "file_extension": ".py",
   "mimetype": "text/x-python",
   "name": "python",
   "nbconvert_exporter": "python",
   "pygments_lexer": "ipython3",
   "version": "3.8.18"
  }
 },
 "nbformat": 4,
 "nbformat_minor": 2
}
