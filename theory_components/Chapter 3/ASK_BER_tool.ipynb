{
 "cells": [
  {
   "cell_type": "code",
   "execution_count": 1,
   "metadata": {},
   "outputs": [
    {
     "data": {
      "application/vnd.jupyter.widget-view+json": {
       "model_id": "f23c7a5ebc304d158578263f70c03a01",
       "version_major": 2,
       "version_minor": 0
      },
      "text/plain": [
       "HBox(children=(VBox(children=(HBox(children=(HBox(children=(Dropdown(description='Samples per Symbol:', index=…"
      ]
     },
     "metadata": {},
     "output_type": "display_data"
    },
    {
     "data": {
      "application/vnd.jupyter.widget-view+json": {
       "model_id": "9a2f48db2b39451ca8b5fabef14ac1c2",
       "version_major": 2,
       "version_minor": 0
      },
      "text/plain": [
       "Output()"
      ]
     },
     "metadata": {},
     "output_type": "display_data"
    }
   ],
   "source": [
    "# Necessary imports\n",
    "import numpy as np\n",
    "import matplotlib.pyplot as plt\n",
    "from ipywidgets import Layout, widgets, Output, RadioButtons, Checkbox, Dropdown\n",
    "from IPython.display import display\n",
    "from scipy.special import erfc\n",
    "from scipy.signal import upfirdn\n",
    "\n",
    "# Function to calculate ASK modulation errors\n",
    "def ask_errors_sin(k, M, nsamp, EbN0_db, matched_filter_type='Normal'):\n",
    "    L = 2**k\n",
    "    SNR_db = EbN0_db - 10 * np.log10(nsamp / (2 * k))\n",
    "    SNR_linear = 10 ** (SNR_db / 10)\n",
    "    x = 2 * np.floor(L * np.random.rand(M)) - L + 1\n",
    "\n",
    "    h = np.cos(2 * np.pi * np.arange(1, nsamp + 1) / nsamp)\n",
    "    h = h / np.sqrt(np.sum(h**2))\n",
    "\n",
    "    y = upfirdn(h, x, up=nsamp)\n",
    "    y = y[:M * nsamp]\n",
    "\n",
    "    P_x = np.mean(y ** 2)\n",
    "    noise_variance = P_x / SNR_linear\n",
    "    noise = np.random.normal(0, np.sqrt(noise_variance), len(y))\n",
    "    y_noisy = y + noise\n",
    "\n",
    "    matched = h[::-1] if matched_filter_type == 'Reversed' else h\n",
    "    yrx = np.convolve(y_noisy, matched, mode='full')\n",
    "    z = yrx[nsamp - 1:M * nsamp:nsamp]\n",
    "\n",
    "    levels = np.arange(-L + 1, L, 2)\n",
    "    z_decided = levels[np.abs(levels[:, None] - z).argmin(axis=0)]\n",
    "\n",
    "    errors = np.count_nonzero(x != z_decided)\n",
    "\n",
    "    return errors\n",
    "\n",
    "# Initialize parameters\n",
    "M = 10000\n",
    "EbN0_db = np.arange(0, 21, 2)\n",
    "\n",
    "checkbox_4qam4 = Checkbox(value=True, description='4-ASK')\n",
    "checkbox_8qam4 = Checkbox(value=False, description='8-ASK')\n",
    "checkbox_16qam4 = Checkbox(value=False, description='16-ASK')\n",
    "nsamp_dropdown4 = Dropdown(options=[4, 8, 16, 32, 64], value=16, description='Samples per Symbol:')\n",
    "matched_radio = RadioButtons(options=['Normal', 'Reversed'], value='Normal', description='Matched Filter:')\n",
    "plot_output4 = Output()\n",
    "\n",
    "# Function to plot the selected modulations\n",
    "def plot_selected_modulations4(change):\n",
    "    with plot_output4:\n",
    "        plot_output4.clear_output(wait=True)\n",
    "        nsamp = nsamp_dropdown4.value\n",
    "        matched_filter_type = matched_radio.value\n",
    "        plt.figure(figsize=(10, 7))\n",
    "        colors = {'4-ASK': 'red', '8-ASK': 'green', '16-ASK': 'blue'}\n",
    "\n",
    "        for k, checkbox, color in zip([2, 3, 4], [checkbox_4qam4, checkbox_8qam4, checkbox_16qam4], colors.values()):\n",
    "            if checkbox.value:\n",
    "                L = 2**k\n",
    "                modulation_name = f'{L}-ASK'\n",
    "                ber = np.zeros(len(EbN0_db))\n",
    "                for index, eb_n0 in enumerate(EbN0_db):\n",
    "                    ber[index] = ask_errors_sin(k, M, nsamp, eb_n0, matched_filter_type) / (M * np.log2(L))\n",
    "\n",
    "                plt.semilogy(EbN0_db, ber, 'o', label=f'Experimental {modulation_name}', color=color)\n",
    "                ber_theoretical = (((L-1)/L) * erfc(np.sqrt(10**(EbN0_db / 10) * (3 * np.log2(L)) / (L**2 - 1)))) / k\n",
    "                plt.semilogy(EbN0_db, ber_theoretical, linestyle='-', label=f'Theoretical {modulation_name}', color=color)\n",
    "\n",
    "        plt.grid(True, which='both')\n",
    "        plt.xlabel(\"Eb/N0 (dB)\")\n",
    "        plt.ylabel(\"BER\")\n",
    "        plt.title(f'Theoretical and Experimental BER of ASK Modulations [nsamp={nsamp}]')\n",
    "        plt.legend()\n",
    "        plt.show()\n",
    "\n",
    "# Attach the plot function to UI components\n",
    "checkbox_4qam4.observe(plot_selected_modulations4, names='value')\n",
    "checkbox_8qam4.observe(plot_selected_modulations4, names='value')\n",
    "checkbox_16qam4.observe(plot_selected_modulations4, names='value')\n",
    "nsamp_dropdown4.observe(plot_selected_modulations4, names='value')\n",
    "matched_radio.observe(plot_selected_modulations4, names='value')\n",
    "\n",
    "# Set up the UI layout\n",
    "inputs1 = widgets.HBox([nsamp_dropdown4])\n",
    "inputs2 = widgets.HBox([matched_radio], layout=Layout(margin=\"0 0 0 20px\"))\n",
    "inputs12 = widgets.HBox([inputs1, inputs2], layout=Layout(align_items='center'))\n",
    "inputs3 = widgets.VBox([checkbox_4qam4, checkbox_8qam4, checkbox_16qam4])\n",
    "\n",
    "inputs = widgets.VBox([inputs12, inputs3])\n",
    "\n",
    "ui = widgets.HBox([inputs], layout=Layout(align_items='center'))\n",
    "\n",
    "# Display the UI and plot\n",
    "display(ui, plot_output4)\n",
    "\n",
    "# Initial plot call\n",
    "plot_selected_modulations4(None)\n"
   ]
  }
 ],
 "metadata": {
  "kernelspec": {
   "display_name": "digital_communications",
   "language": "python",
   "name": "python3"
  },
  "language_info": {
   "codemirror_mode": {
    "name": "ipython",
    "version": 3
   },
   "file_extension": ".py",
   "mimetype": "text/x-python",
   "name": "python",
   "nbconvert_exporter": "python",
   "pygments_lexer": "ipython3",
   "version": "3.8.18"
  }
 },
 "nbformat": 4,
 "nbformat_minor": 2
}
