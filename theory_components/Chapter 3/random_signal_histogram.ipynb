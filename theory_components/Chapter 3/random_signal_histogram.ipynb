{
 "cells": [
  {
   "cell_type": "code",
   "execution_count": 1,
   "metadata": {},
   "outputs": [
    {
     "data": {
      "application/vnd.jupyter.widget-view+json": {
       "model_id": "17ae2717adbc4c21a0ef7587fda542d8",
       "version_major": 2,
       "version_minor": 0
      },
      "text/plain": [
       "VBox(children=(IntText(value=3, description='k:'), FloatText(value=1.0, description='d:')))"
      ]
     },
     "metadata": {},
     "output_type": "display_data"
    },
    {
     "data": {
      "application/vnd.jupyter.widget-view+json": {
       "model_id": "a6fe866930894c0a93f1dac7daea2826",
       "version_major": 2,
       "version_minor": 0
      },
      "text/plain": [
       "Output()"
      ]
     },
     "metadata": {},
     "output_type": "display_data"
    }
   ],
   "source": [
    "import numpy as np\n",
    "import matplotlib.pyplot as plt\n",
    "from ipywidgets import Layout, widgets\n",
    "from IPython.display import display\n",
    "import time\n",
    "\n",
    "# Function to generate histogram based on k and d inputs\n",
    "def generate_histogram(k, d):\n",
    "    M = 40000\n",
    "    L = 2 ** k\n",
    "\n",
    "    x = (2 * np.floor(L * np.random.rand(M)) - L + 1) * d / 2\n",
    "    bins = np.arange(-L * d / 2, L * d / 2 + 2 * d / 2, d)\n",
    "    A = np.arange(-L * d / 2 + d / 2, L * d / 2, d)\n",
    "    \n",
    "    fig, ax = plt.subplots(1, 1, figsize=(14, 4))\n",
    "    ax.hist(x, bins=bins, edgecolor='white', color='#1F77B4')\n",
    "    ax.set_xticks(A)\n",
    "    ax.set_xlabel(\"Integers\")\n",
    "    ax.set_ylabel(\"Frequency\")\n",
    "    ax.set_title(\"Histogram of array x elements\")\n",
    "    \n",
    "    plt.show()\n",
    "\n",
    "# UI Components\n",
    "k_input = widgets.IntText(\n",
    "    value=3,  # default value\n",
    "    description='k:',\n",
    "    continuous_update=False\n",
    ")\n",
    "d_input = widgets.FloatText(\n",
    "    value=1,  # default value\n",
    "    description='d:',\n",
    "    continuous_update=False\n",
    ")\n",
    "\n",
    "inputs = widgets.VBox([k_input, d_input])\n",
    "\n",
    "# Interactive output to update the plot based on k and d values\n",
    "out = widgets.interactive_output(generate_histogram, {'k': k_input, 'd': d_input})\n",
    "\n",
    "# Display the UI and output\n",
    "display(inputs, out)"
   ]
  }
 ],
 "metadata": {
  "kernelspec": {
   "display_name": "digital_communications",
   "language": "python",
   "name": "python3"
  },
  "language_info": {
   "codemirror_mode": {
    "name": "ipython",
    "version": 3
   },
   "file_extension": ".py",
   "mimetype": "text/x-python",
   "name": "python",
   "nbconvert_exporter": "python",
   "pygments_lexer": "ipython3",
   "version": "3.8.18"
  }
 },
 "nbformat": 4,
 "nbformat_minor": 2
}
