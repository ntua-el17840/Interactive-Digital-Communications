{
 "cells": [
  {
   "cell_type": "code",
   "execution_count": 1,
   "metadata": {},
   "outputs": [
    {
     "data": {
      "application/vnd.jupyter.widget-view+json": {
       "model_id": "a9b220b877374ee9bbd08576cc23d501",
       "version_major": 2,
       "version_minor": 0
      },
      "text/plain": [
       "interactive(children=(Dropdown(description='M-PSK:', index=2, options=(4, 8, 16, 32, 64), value=16), Output())…"
      ]
     },
     "metadata": {},
     "output_type": "display_data"
    }
   ],
   "source": [
    "import numpy as np\n",
    "import matplotlib.pyplot as plt\n",
    "from ipywidgets import Layout, widgets, IntSlider, FloatSlider, Dropdown, VBox, HBox, interactive, Output, interact\n",
    "from IPython.display import display, clear_output\n",
    "import time\n",
    "\n",
    "def generate_psk_constellation(M):\n",
    "    k = int(np.log2(M))\n",
    "    ph1 = np.pi / 4\n",
    "\n",
    "    # Initialize theta\n",
    "    theta = np.array([ph1, -ph1, np.pi - ph1, -np.pi + ph1])\n",
    "    mapping = np.exp(1j * theta)\n",
    "\n",
    "    # Generate PSK constellation\n",
    "    if k > 2:\n",
    "        for j in range(3, k + 1):\n",
    "            theta = theta / 2\n",
    "            mapping = np.exp(1j * theta)\n",
    "            mapping = np.concatenate((mapping, -np.conjugate(mapping)))\n",
    "            theta = np.real(np.log(mapping) / 1j)\n",
    "\n",
    "    return mapping\n",
    "\n",
    "def plot_psk_constellation(M):\n",
    "    constellation = generate_psk_constellation(M)\n",
    "    k = int(np.log2(M))\n",
    "    plt.figure(figsize=(10, 7))\n",
    "    plt.scatter(np.real(constellation), np.imag(constellation))\n",
    "    plt.grid(True)\n",
    "    plt.title(f'{M}-PSK Constellation')\n",
    "    plt.xlabel('In-Phase')\n",
    "    plt.ylabel('Quadrature')\n",
    "    plt.axhline(0, color='gray', linewidth=0.5)\n",
    "    plt.axvline(0, color='gray', linewidth=0.5)\n",
    "    for m in range(len(constellation)):\n",
    "        plt.text(np.real(constellation[m]) + 0.05, np.imag(constellation[m]), \n",
    "                 format(m, '0{}b'.format(k)), \n",
    "                 bbox=dict(facecolor='red', alpha=0.5))\n",
    "    plt.show()\n",
    "\n",
    "# Dropdown for selecting M\n",
    "M_dropdown = Dropdown(\n",
    "    options=[4, 8, 16, 32, 64],\n",
    "    value=16,\n",
    "    description='M-PSK:'\n",
    ")\n",
    "\n",
    "# Create interactive widget for PSK\n",
    "interactive_plot_psk = interact(plot_psk_constellation, M=M_dropdown)"
   ]
  }
 ],
 "metadata": {
  "kernelspec": {
   "display_name": "digital_communications",
   "language": "python",
   "name": "python3"
  },
  "language_info": {
   "codemirror_mode": {
    "name": "ipython",
    "version": 3
   },
   "file_extension": ".py",
   "mimetype": "text/x-python",
   "name": "python",
   "nbconvert_exporter": "python",
   "pygments_lexer": "ipython3",
   "version": "3.8.18"
  }
 },
 "nbformat": 4,
 "nbformat_minor": 2
}
