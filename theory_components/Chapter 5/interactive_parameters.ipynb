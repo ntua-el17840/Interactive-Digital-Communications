{
 "cells": [
  {
   "cell_type": "code",
   "execution_count": 1,
   "metadata": {},
   "outputs": [
    {
     "data": {
      "application/vnd.jupyter.widget-view+json": {
       "model_id": "a219894cbe27417a98516be289a2f165",
       "version_major": 2,
       "version_minor": 0
      },
      "text/plain": [
       "VBox(children=(VBox(children=(FloatText(value=8.0, description='R (Mbps):'), FloatText(value=16.0, description…"
      ]
     },
     "metadata": {},
     "output_type": "display_data"
    }
   ],
   "source": [
    "# Necessary imports\n",
    "import numpy as np\n",
    "import time\n",
    "import ipywidgets as widgets\n",
    "from IPython.display import display, clear_output\n",
    "from ipywidgets import HBox, VBox, Layout\n",
    "\n",
    "# Function to calculate the maximum achievable transmission rate R' and the percentage increase\n",
    "def calculate_R_and_percentage_increase(M, a, R):\n",
    "    W = 2.5 * (10 ** 6)  # Fixed bandwidth in Hz\n",
    "    log2M = np.log2(M)\n",
    "    R_prime = (log2M * W) / (1 + a)  # Maximum achievable rate in bps\n",
    "    R_prime_mbps = R_prime / (10 ** 6)  # Convert to Mbps\n",
    "    percentage_increase = ((R_prime_mbps - R) / R) * 100\n",
    "    return R_prime_mbps, percentage_increase\n",
    "\n",
    "# Widgets for inputs\n",
    "R_input = widgets.FloatText(description='R (Mbps):', value=8.0)\n",
    "M_input = widgets.FloatText(description='M:', value=16)\n",
    "a_input = widgets.FloatText(description='α\\' (roll-off):', value=0.125)\n",
    "\n",
    "# Output widget\n",
    "output_vals = widgets.Output()\n",
    "\n",
    "# Function to update the result\n",
    "def update_result(change=None):\n",
    "    with output_vals:\n",
    "        output_vals.clear_output()\n",
    "        R = R_input.value\n",
    "        M = M_input.value\n",
    "        a = a_input.value\n",
    "        R_prime_mbps, percentage_increase = calculate_R_and_percentage_increase(M, a, R)\n",
    "        print(f\"Maximum Achievable Rate (R') = {R_prime_mbps:.3f} Mbps\")\n",
    "        print(f\"Percentage Increase = {percentage_increase:.2f}%\")\n",
    "\n",
    "# Observers to update the result when any input changes\n",
    "R_input.observe(update_result, names='value')\n",
    "M_input.observe(update_result, names='value')\n",
    "a_input.observe(update_result, names='value')\n",
    "\n",
    "# Create interactive widget\n",
    "input_widgets = VBox([R_input, M_input, a_input], layout=Layout(width='auto'))\n",
    "\n",
    "# Create a VBox that includes both the input widgets and the output\n",
    "ui = VBox([input_widgets, output_vals])\n",
    "\n",
    "# Display the UI components\n",
    "clear_output(wait=True)\n",
    "display(ui)\n",
    "\n",
    "# Initial calculation\n",
    "update_result()\n"
   ]
  }
 ],
 "metadata": {
  "kernelspec": {
   "display_name": "digital_communications",
   "language": "python",
   "name": "python3"
  },
  "language_info": {
   "codemirror_mode": {
    "name": "ipython",
    "version": 3
   },
   "file_extension": ".py",
   "mimetype": "text/x-python",
   "name": "python",
   "nbconvert_exporter": "python",
   "pygments_lexer": "ipython3",
   "version": "3.8.18"
  }
 },
 "nbformat": 4,
 "nbformat_minor": 2
}
