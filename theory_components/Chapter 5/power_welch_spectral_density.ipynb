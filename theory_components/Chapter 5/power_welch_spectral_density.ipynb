{
 "cells": [
  {
   "cell_type": "code",
   "execution_count": 1,
   "metadata": {},
   "outputs": [
    {
     "data": {
      "application/vnd.jupyter.widget-view+json": {
       "model_id": "559a3a47b0794a38ac9e72a4035193df",
       "version_major": 2,
       "version_minor": 0
      },
      "text/plain": [
       "Dropdown(description='QAM Type:', index=1, options=(4, 16, 64), value=16)"
      ]
     },
     "metadata": {},
     "output_type": "display_data"
    },
    {
     "data": {
      "application/vnd.jupyter.widget-view+json": {
       "model_id": "70db84e57b6e4b62a193d62d2eb72ee9",
       "version_major": 2,
       "version_minor": 0
      },
      "text/plain": [
       "FloatText(value=6.75, description='f1:')"
      ]
     },
     "metadata": {},
     "output_type": "display_data"
    },
    {
     "data": {
      "application/vnd.jupyter.widget-view+json": {
       "model_id": "20f30379ebd748d4bf743128be8c41c8",
       "version_major": 2,
       "version_minor": 0
      },
      "text/plain": [
       "FloatText(value=9.25, description='f2:')"
      ]
     },
     "metadata": {},
     "output_type": "display_data"
    },
    {
     "data": {
      "application/vnd.jupyter.widget-view+json": {
       "model_id": "f91661ba93894b289d7002267e214a8b",
       "version_major": 2,
       "version_minor": 0
      },
      "text/plain": [
       "Output()"
      ]
     },
     "metadata": {},
     "output_type": "display_data"
    }
   ],
   "source": [
    "# Necessary imports\n",
    "import numpy as np\n",
    "import matplotlib.pyplot as plt\n",
    "from scipy.signal import upfirdn, convolve, welch\n",
    "import ipywidgets as widgets\n",
    "from IPython.display import display, clear_output\n",
    "\n",
    "\n",
    "def rtrapezium(nsamp, rolloff, delay):\n",
    "    T = 1\n",
    "    t = np.arange(-delay*T, (delay*T) + 1/nsamp, 1/nsamp)\n",
    "    rrc = np.zeros_like(t)\n",
    "    for i, ti in enumerate(t):\n",
    "        if ti == 0.0:\n",
    "            rrc[i] = 1.0 - rolloff + 4*rolloff/np.pi\n",
    "        elif abs(ti) == T / (4 * rolloff):\n",
    "            rrc[i] = (rolloff / np.sqrt(2)) * (((1 + 2/np.pi) * (np.sin(np.pi / (4 * rolloff)))) + ((1 - 2/np.pi) * (np.cos(np.pi / (4 * rolloff)))))\n",
    "        else:\n",
    "            rrc[i] = (np.sin(np.pi * ti * (1 - rolloff) / T) + 4 * rolloff * ti * np.cos(np.pi * ti * (1 + rolloff) / T)) / (np.pi * ti * (1 - (4 * rolloff * ti / T) ** 2))\n",
    "    return rrc / np.sqrt(np.sum(rrc**2))\n",
    "\n",
    "def run_simulation(f1, f2, qam_type):\n",
    "    with output8:\n",
    "        clear_output(wait=True)\n",
    "\n",
    "        # Parameters\n",
    "        k = int(np.log2(qam_type))\n",
    "        M = 2**k\n",
    "        Nsymb = 30000\n",
    "        pulse_type = 1  # 1 for rtrapezium shaping filter, 0 for rectangular pulse\n",
    "        nsamp = 32  # oversampling factor\n",
    "        fc = (f1 + f2) / 2  # carrier frequency\n",
    "        bandwidth = f2 - f1  # signal bandwidth\n",
    "        rolloff = bandwidth / (2 * fc)  # adjust rolloff factor based on bandwidth\n",
    "        EbNo = 10  # Eb/No in dB\n",
    "        SNR = EbNo - 10 * np.log10(nsamp / k / 2)  # SNR per signal sample\n",
    "\n",
    "        # Phase and mapping initialization\n",
    "        ph1 = np.pi / 4\n",
    "        theta = np.array([ph1, -ph1, np.pi - ph1, -np.pi + ph1])\n",
    "        mapping = np.exp(1j * theta)\n",
    "\n",
    "        if k > 2:\n",
    "            for j in range(3, k + 1):\n",
    "                theta = theta / 2\n",
    "                mapping = np.exp(1j * theta)\n",
    "                mapping = np.concatenate([mapping, -np.conj(mapping)])\n",
    "                theta = np.angle(mapping)\n",
    "\n",
    "        # Transmitter\n",
    "        x = np.random.randint(0, 2, k * Nsymb)  # random binary sequence\n",
    "        xsym = x.reshape(-1, k)\n",
    "        xsym = xsym.dot(2**np.arange(xsym.shape[-1])[::-1])  # bitwise to decimal\n",
    "        y = mapping[xsym]\n",
    "\n",
    "        # Shaping filter definition\n",
    "        if pulse_type == 1:  # Nyquist pulse -- rtrapezium\n",
    "            delay = 8  # Group delay (# of T periods)\n",
    "            shaping_filter = rtrapezium(nsamp, rolloff, delay)\n",
    "        else:  # Rectangular pulse\n",
    "            delay = 0.5\n",
    "            shaping_filter = np.ones(nsamp) / np.sqrt(nsamp)  # with normalization\n",
    "\n",
    "        # Transmitted signal\n",
    "        ytx = upfirdn([1], y, nsamp)\n",
    "        ytx = convolve(ytx, shaping_filter, mode='same')\n",
    "\n",
    "        # Quadrature modulation\n",
    "        m = np.arange(len(ytx))\n",
    "        s = np.real(ytx * np.exp(1j * 2 * np.pi * fc * m / nsamp))\n",
    "\n",
    "        # Adding white Gaussian noise\n",
    "        Ps = 10 * np.log10(np.mean(s**2))  # signal power in dB\n",
    "        Pn = Ps - SNR  # corresponding noise power in dB\n",
    "        n = np.sqrt(10**(Pn / 10)) * np.random.randn(len(ytx))\n",
    "        snoisy = s + n  # noisy bandpass signal\n",
    "\n",
    "        # Receiver\n",
    "        yrx = 2 * snoisy * np.exp(-1j * 2 * np.pi * fc * m / nsamp)\n",
    "        yrx = convolve(yrx, shaping_filter, mode='same')\n",
    "\n",
    "        # Spectrum plot of received signal\n",
    "        f, Pxx_den = welch(np.real(s), fs=nsamp, nperseg=1024)\n",
    "        Pxx_den = 10 * np.log10(Pxx_den)\n",
    "        plt.figure(figsize=(10, 8))\n",
    "        plt.plot(f, Pxx_den, 'r')\n",
    "        plt.title('Welch Power Spectral Density Estimate')\n",
    "        plt.xlabel('Frequency (Hz)')\n",
    "        plt.ylabel('Power Spectral Density (V^2/Hz)')\n",
    "        plt.xlim(0, max(f1, f2) + 5)\n",
    "        plt.grid()\n",
    "        plt.show()\n",
    "\n",
    "# Widgets for f1, f2, and QAM type\n",
    "f1_widget = widgets.FloatText(value=6.75, description='f1:')\n",
    "f2_widget = widgets.FloatText(value=9.25, description='f2:')\n",
    "qam_widget = widgets.Dropdown(options=[4, 16, 64], value=16, description='QAM Type:')\n",
    "\n",
    "def on_value_change(change):\n",
    "    run_simulation(f1_widget.value, f2_widget.value, qam_widget.value)\n",
    "\n",
    "f1_widget.observe(on_value_change, names='value')\n",
    "f2_widget.observe(on_value_change, names='value')\n",
    "qam_widget.observe(on_value_change, names='value')\n",
    "\n",
    "output8 = widgets.Output()\n",
    "\n",
    "display(qam_widget,f1_widget, f2_widget, output8)\n",
    "\n",
    "# Run initial simulation\n",
    "run_simulation(f1_widget.value, f2_widget.value, qam_widget.value)"
   ]
  }
 ],
 "metadata": {
  "kernelspec": {
   "display_name": "digital_communications",
   "language": "python",
   "name": "python3"
  },
  "language_info": {
   "codemirror_mode": {
    "name": "ipython",
    "version": 3
   },
   "file_extension": ".py",
   "mimetype": "text/x-python",
   "name": "python",
   "nbconvert_exporter": "python",
   "pygments_lexer": "ipython3",
   "version": "3.8.18"
  }
 },
 "nbformat": 4,
 "nbformat_minor": 2
}
