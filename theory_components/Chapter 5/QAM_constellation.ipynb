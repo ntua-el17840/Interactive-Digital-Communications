{
 "cells": [
  {
   "cell_type": "code",
   "execution_count": 1,
   "metadata": {},
   "outputs": [
    {
     "data": {
      "application/vnd.jupyter.widget-view+json": {
       "model_id": "1e12b03a49914aeb833ac06cb695315e",
       "version_major": 2,
       "version_minor": 0
      },
      "text/plain": [
       "interactive(children=(Dropdown(description='L-QAM:', index=2, options=(2, 4, 8, 16, 32, 64), value=8), Output(…"
      ]
     },
     "metadata": {},
     "output_type": "display_data"
    }
   ],
   "source": [
    "import numpy as np\n",
    "import matplotlib.pyplot as plt\n",
    "from ipywidgets import Layout, widgets, IntSlider, FloatSlider, Dropdown, VBox, HBox, interactive, Output, interact\n",
    "from IPython.display import display, clear_output\n",
    "import time\n",
    "\n",
    "def generate_qam_constellation(L):\n",
    "    M = L * L\n",
    "    l = int(np.log2(L))\n",
    "    \n",
    "    # Generate the QAM constellation points\n",
    "    x = np.arange(-(L - 1), L, 2)\n",
    "    y = np.arange(-(L - 1), L, 2)\n",
    "    xv, yv = np.meshgrid(x, y)\n",
    "    mapping = xv + 1j * yv\n",
    "    mapping = mapping.flatten()\n",
    "\n",
    "    return mapping\n",
    "\n",
    "def plot_qam_constellation(L):\n",
    "    mapping = generate_qam_constellation(L)\n",
    "    M = L * L\n",
    "    l = int(np.log2(L))\n",
    "\n",
    "    # Plotting the constellation\n",
    "    plt.figure(figsize=(10, 7))\n",
    "    plt.scatter(mapping.real, mapping.imag)\n",
    "    if L < 16:  # Include text for points if L is less than 16\n",
    "        # Gray code labels\n",
    "        labels = [bin(i)[2:].zfill(2 * l) for i in range(M)]\n",
    "        dx, dy = -0.5, 0.3  # Label offsets\n",
    "        for i in range(len(labels)):\n",
    "            plt.text(mapping[i].real + dx, mapping[i].imag + dy, labels[i], bbox=dict(facecolor='red', alpha=0.5))\n",
    "    \n",
    "    plt.grid(True)\n",
    "    plt.xlim(-1 * L, 1 * L)\n",
    "    plt.ylim(-1 * L, 1 * L)\n",
    "    plt.title(f\"{L}x{L} QAM Constellation\")\n",
    "    plt.xlabel(\"In-phase\")\n",
    "    plt.ylabel(\"Quadrature\")\n",
    "    plt.show()\n",
    "\n",
    "# Dropdown for selecting L\n",
    "L_dropdown = Dropdown(options=[2, 4, 8, 16, 32, 64], value=8, description='L-QAM:', continuous_update=False)\n",
    "\n",
    "# Create interactive widget\n",
    "interactive_plot = interact(plot_qam_constellation, L=L_dropdown)"
   ]
  }
 ],
 "metadata": {
  "kernelspec": {
   "display_name": "digital_communications",
   "language": "python",
   "name": "python3"
  },
  "language_info": {
   "codemirror_mode": {
    "name": "ipython",
    "version": 3
   },
   "file_extension": ".py",
   "mimetype": "text/x-python",
   "name": "python",
   "nbconvert_exporter": "python",
   "pygments_lexer": "ipython3",
   "version": "3.8.18"
  }
 },
 "nbformat": 4,
 "nbformat_minor": 2
}
