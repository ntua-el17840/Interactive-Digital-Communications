{
 "cells": [
  {
   "cell_type": "code",
   "execution_count": null,
   "metadata": {},
   "outputs": [],
   "source": [
    "import numpy as np\n",
    "# Create a Sinusoidal Signal\n",
    "Fs = 2000                  # Sampling frequency in Hz\n",
    "Ts = 1 / Fs                # Sampling period in seconds\n",
    "T = 0.1                    # Signal duration in seconds\n",
    "t = np.arange(0, T, Ts)    # Time vector for signal\n",
    "A = 1                      # Signal amplitude\n",
    "x = A * np.sin(2 * np.pi * 100 * t)  # Generate sinusoidal signal\n",
    "L = len(x)                 # Length of the signal"
   ]
  }
 ],
 "metadata": {
  "kernelspec": {
   "display_name": "digital_communications",
   "language": "python",
   "name": "python3"
  },
  "language_info": {
   "name": "python",
   "version": "3.8.18"
  }
 },
 "nbformat": 4,
 "nbformat_minor": 2
}
