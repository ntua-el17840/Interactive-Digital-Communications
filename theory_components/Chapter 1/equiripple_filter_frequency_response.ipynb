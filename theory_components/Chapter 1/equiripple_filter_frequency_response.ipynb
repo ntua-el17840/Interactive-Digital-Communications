{
 "cells": [
  {
   "cell_type": "code",
   "execution_count": 2,
   "metadata": {},
   "outputs": [
    {
     "data": {
      "application/vnd.jupyter.widget-view+json": {
       "model_id": "fe8b41c3c3c24369acc4f4096ce67911",
       "version_major": 2,
       "version_minor": 0
      },
      "text/plain": [
       "VBox(children=(HBox(children=(VBox(children=(Label(value='Select Equiripple Filter Length:'), Checkbox(value=T…"
      ]
     },
     "metadata": {},
     "output_type": "display_data"
    }
   ],
   "source": [
    "import numpy as np\n",
    "import matplotlib.pyplot as plt\n",
    "from ipywidgets import Layout, widgets\n",
    "from IPython.display import display, clear_output\n",
    "import scipy.signal\n",
    "from scipy import signal\n",
    "import requests\n",
    "import warnings\n",
    "warnings.filterwarnings('ignore')\n",
    "\n",
    "Fs=8192\n",
    "\n",
    "filters = {\n",
    "    'Equiripple Filter 32+1': scipy.signal.remez(33, [0, 0.1*Fs, 0.15*Fs, 0.5*Fs], [1, 0], Hz=Fs),\n",
    "    'Equiripple Filter 64+1': scipy.signal.remez(65, [0, 0.1*Fs, 0.15*Fs, 0.5*Fs], [1, 0], Hz=Fs),\n",
    "    'Equiripple Filter 128+1': scipy.signal.remez(129, [0, 0.1*Fs, 0.15*Fs, 0.5*Fs], [1, 0], Hz=Fs),\n",
    "    'Equiripple Filter 140+1': scipy.signal.remez(141, [0, 0.1*Fs, 0.15*Fs, 0.5*Fs], [1, 0], Hz=Fs)\n",
    "}\n",
    "\n",
    "output_plot2 = widgets.Output()\n",
    "output_plot2.layout = Layout(width='auto', margin='0 auto')\n",
    "\n",
    "# Function to update the plot based on selected filters\n",
    "def update_plot2(change=None):\n",
    "    selected_filters = [cb.description for cb in checkboxes2 if cb.value]\n",
    "    with output_plot2:\n",
    "        clear_output(wait=True)\n",
    "        plt.figure(figsize=(10, 5))\n",
    "        for filter_name in selected_filters:\n",
    "            filter_coeffs = filters[filter_name]\n",
    "            w, h = signal.freqz(filter_coeffs, worN=8000)\n",
    "            plt.semilogy(w * Fs / (2 * np.pi), np.abs(h), label=filter_name)\n",
    "        plt.title('Frequency Response')\n",
    "        plt.xlabel('Frequency (Hz)')\n",
    "        plt.ylabel('Gain')\n",
    "        plt.legend()\n",
    "        plt.grid(True)\n",
    "\n",
    "        plt.show()\n",
    "\n",
    "checkboxes2 = [widgets.Checkbox(value=True, description=name) for name in filters.keys()]\n",
    "for cb in checkboxes2:\n",
    "    cb.observe(update_plot2, names='value')\n",
    "\n",
    "# VBox layout to align items\n",
    "vbox_layout = Layout(align_items='center', justify_content='center')\n",
    "vbox_checkboxes = widgets.VBox([widgets.Label('Select Equiripple Filter Length:')] + checkboxes2, layout=vbox_layout)\n",
    "\n",
    "vbox_loader = widgets.HBox([vbox_checkboxes])\n",
    "\n",
    "# Combine everything into a final VBox with the layout\n",
    "vbox_final = widgets.VBox([vbox_loader, output_plot2], layout=vbox_layout)\n",
    "\n",
    "# Display the final layout\n",
    "display(vbox_final)\n",
    "\n",
    "\n",
    "# Initial plot update to show default visualization\n",
    "update_plot2()\n"
   ]
  }
 ],
 "metadata": {
  "kernelspec": {
   "display_name": "digital_communications",
   "language": "python",
   "name": "python3"
  },
  "language_info": {
   "codemirror_mode": {
    "name": "ipython",
    "version": 3
   },
   "file_extension": ".py",
   "mimetype": "text/x-python",
   "name": "python",
   "nbconvert_exporter": "python",
   "pygments_lexer": "ipython3",
   "version": "3.8.18"
  }
 },
 "nbformat": 4,
 "nbformat_minor": 2
}
