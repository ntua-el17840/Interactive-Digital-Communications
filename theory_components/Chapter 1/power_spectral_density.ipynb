{
 "cells": [
  {
   "cell_type": "code",
   "execution_count": 1,
   "metadata": {},
   "outputs": [
    {
     "data": {
      "application/vnd.jupyter.widget-view+json": {
       "model_id": "53c93155abc645f28e9adb566c77927f",
       "version_major": 2,
       "version_minor": 0
      },
      "text/plain": [
       "VBox(children=(HTML(value=\"\\n    <h2 style='font-weight: bold; font-size: 30px; text-align: center; margin: 20…"
      ]
     },
     "metadata": {},
     "output_type": "display_data"
    }
   ],
   "source": [
    "import numpy as np\n",
    "import matplotlib.pyplot as plt\n",
    "from ipywidgets import Layout, widgets\n",
    "from IPython.display import display, clear_output\n",
    "import scipy.signal as signal\n",
    "import time\n",
    "import warnings\n",
    "warnings.filterwarnings('ignore')\n",
    "\n",
    "# Sampling frequency\n",
    "Fs = 8192  \n",
    "# Signal duration\n",
    "t = np.arange(0, 1.0, 1/Fs)  \n",
    "# Re-define the signal with new frequencies\n",
    "s_new = np.sin(2*np.pi*400*t) + np.sin(2*np.pi*950*t) + np.sin(2*np.pi*1500*t) + np.sin(2*np.pi*3000*t)\n",
    "\n",
    "# Re-define the filters with different lengths\n",
    "filters5 = {\n",
    "    'Equiripple Filter 32+1 Q3': signal.remez(33, [0, 0.1*Fs, 0.15*Fs, 0.5*Fs], [1, 0], Hz=Fs),\n",
    "    'Equiripple Filter 32+1 Q4': signal.remez(33, [0, 0.11*Fs, 0.12*Fs, 0.5*Fs], [1, 0], Hz=Fs),\n",
    "    'Equiripple Filter 64+1 Q3': signal.remez(65, [0, 0.1*Fs, 0.15*Fs, 0.5*Fs], [1, 0], Hz=Fs),\n",
    "    'Equiripple Filter 64+1 Q4': signal.remez(65, [0, 0.11*Fs, 0.12*Fs, 0.5*Fs], [1, 0], Hz=Fs),\n",
    "    'Equiripple Filter 128+1 Q3': signal.remez(129, [0, 0.1*Fs, 0.15*Fs, 0.5*Fs], [1, 0], Hz=Fs),\n",
    "    'Equiripple Filter 128+1 Q4': signal.remez(129, [0, 0.11*Fs, 0.12*Fs, 0.5*Fs], [1, 0], Hz=Fs),\n",
    "    'Equiripple Filter 140+1 Q3': signal.remez(141, [0, 0.1*Fs, 0.15*Fs, 0.5*Fs], [1, 0], Hz=Fs),\n",
    "    'Equiripple Filter 140+1 Q4': signal.remez(141, [0, 0.11*Fs, 0.12*Fs, 0.5*Fs], [1, 0], Hz=Fs),\n",
    "}\n",
    "\n",
    "# Create checkboxes for each filter\n",
    "checkboxes5 = [widgets.Checkbox(value=True, description=name) for name in filters5.keys()]\n",
    "\n",
    "# Create output widget\n",
    "output_plot5 = widgets.Output()\n",
    "\n",
    "# Update plot function\n",
    "def update_plot5(dummy=None):\n",
    "    with output_plot5:\n",
    "        clear_output(wait=True)\n",
    "        # Start a new plot\n",
    "        plt.figure(figsize=(14, 4))\n",
    "        # Add original signal PSD\n",
    "        f, Pxx_den_original = signal.welch(s_new, Fs, nperseg=1024)\n",
    "        plt.semilogy(f, Pxx_den_original, label='Original Signal')\n",
    "        # Plot PSD for each selected filter\n",
    "        for cb in checkboxes5:\n",
    "            if cb.value:  # only plot if the checkbox is checked\n",
    "                filter_name = cb.description\n",
    "                filter_coeffs = filters5[filter_name]\n",
    "                filtered_signal = signal.lfilter(filter_coeffs, 1.0, s_new)\n",
    "                f, Pxx_den_filtered = signal.welch(filtered_signal, Fs, nperseg=1024)\n",
    "                plt.semilogy(f, Pxx_den_filtered, label=filter_name)\n",
    "        # Formatting the plot\n",
    "        plt.title('Power Spectral Density')\n",
    "        plt.xlabel('Frequency (Hz)')\n",
    "        plt.ylabel('Power/Frequency (dB/Hz)')\n",
    "        plt.legend()\n",
    "        plt.grid(which='both', axis='both')\n",
    "        plt.show()\n",
    "\n",
    "# Attach the update_plot function to the checkboxes\n",
    "for cb in checkboxes5:\n",
    "    cb.observe(update_plot5, names='value')\n",
    "\n",
    "update_plot5()\n",
    "\n",
    "# HTML Label for enhanced UI\n",
    "html_label = widgets.HTML(\n",
    "    value=\"\"\"\n",
    "    <h2 style='font-weight: bold; font-size: 30px; text-align: center; margin: 20px 0 0 0;'>Power Spectral Density</h2>\n",
    "    <h4 style='font-weight: bold; font-size: 16px; text-align: center; margin: 0 0 20px 0;'>(using Parks-McClellan filters)</h4>\n",
    "    \"\"\"\n",
    ")\n",
    "\n",
    "vbox_checkboxes5 = widgets.VBox(checkboxes5)\n",
    "\n",
    "ui = widgets.HBox([vbox_checkboxes5], layout=Layout(justify_content='center', align_items='center'))\n",
    "\n",
    "out = widgets.VBox([html_label, ui, output_plot5])\n",
    "\n",
    "# Display the checkboxes and the plot\n",
    "display(out)\n",
    "\n",
    "# Initialize the first plot update\n",
    "update_plot5()"
   ]
  }
 ],
 "metadata": {
  "kernelspec": {
   "display_name": "digital_communications",
   "language": "python",
   "name": "python3"
  },
  "language_info": {
   "codemirror_mode": {
    "name": "ipython",
    "version": 3
   },
   "file_extension": ".py",
   "mimetype": "text/x-python",
   "name": "python",
   "nbconvert_exporter": "python",
   "pygments_lexer": "ipython3",
   "version": "3.8.18"
  }
 },
 "nbformat": 4,
 "nbformat_minor": 2
}
