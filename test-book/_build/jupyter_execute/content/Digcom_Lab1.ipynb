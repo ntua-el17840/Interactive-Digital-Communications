{
 "cells": [
  {
   "cell_type": "markdown",
   "metadata": {},
   "source": [
    "# Εργαστηριακή Άσκηση 1\n",
    "Σκοπός της πρώτης σειράς ασκήσεων είναι, αφ’ ενός η εξοικείωση με το προγραμματιστικό περιβάλλον της Python, αφ’ ετέρου, η εισαγωγή στους τρόπους παράστασης και επεξεργασίας τηλεπικοινωνιακών σημάτων στη συγκεκριμένη γλώσσα προγραμματισμού."
   ]
  },
  {
   "cell_type": "markdown",
   "metadata": {},
   "source": [
    "## Μέρος 1: Εξοικείωση με το προγραμματιστικό περιβάλλον της Python\n",
    "Λίγα λόγια για τον interactive python interpreter [ipython] και το jupyter notebook"
   ]
  },
  {
   "cell_type": "markdown",
   "metadata": {},
   "source": [
    "### Interactive python interpreter (IPython) notebook\n"
   ]
  },
  {
   "cell_type": "markdown",
   "metadata": {},
   "source": [
    "Το IPython (Interactive Python) (https://ipython.org/) είναι  ένα διαδραστικό κέλυφος γραμμής εντολών σχεδιασμένο για τη γλώσσα προγραμματισμού Python.Υπερβαίνει τον παραδοσιακό διερμηνέα Python και προσφέρει βελτιωμένες δυνατότητες (REPL): \n",
    "\n",
    "1)Ανάγνωσης (Read)  \n",
    "2)Aξιολόγησης (Evaluate)   \n",
    "3)Eκτύπωσης (Print)   \n",
    "4)Επαναλάψης (Loop)\n",
    "\n",
    "Μην ξεχνάτε ότι η IPython μας δίνει τη δυνατότητα να 'εξερευνήσουμε' το περιεχόμενο ενός package, χρησιμοποιώντας τη δυνατότητα του tab-completion, ή τη χρήση του ? για help/documentation: \n",
    "Π.χ., για να δούμε όλα τα περιεχόμενα του signal namespace δίνουμε:\n",
    "\n",
    "In [3]: signal?\n",
    "    \n",
    "και για να καλέσουμε την ενσωμετωμένη τεκμηρίωση της numpy, δίνουμε:\n",
    "\n",
    "In [4]: np?\n",
    "\n",
    "Περισσότερες πληροφορίες μπορείτε να πάρετε από το http://www.numpy.org."
   ]
  },
  {
   "cell_type": "markdown",
   "metadata": {},
   "source": [
    "### Jupyter notebook\n",
    "To Project Jupyter είναι ένας μη κερδοσκοπικός οργανισμός με αποστολή τη συγγραφή ανοικτού λογισμικού για διαδραστικές εφαρμογές. Ξεκίνησε από ipython, ωστόσο σήμερα προσφέρει προγράμματα σε πολλές γλώσσες προγραμματισμού. \n",
    "\n",
    "Το jupyter notebook (https://jupyter.org/) είναι μια πλατφόρμα web ανοικτού λογισμικού για την ανάπτυξη διαδραστικών εφαρμογών, κυρίως για επεξεργασία (επιστημονικών) δεδομένων και μηχανικής μάθησης."
   ]
  },
  {
   "cell_type": "markdown",
   "metadata": {},
   "source": [
    "### Εξάσκηση"
   ]
  },
  {
   "cell_type": "code",
   "execution_count": 1,
   "metadata": {
    "tags": [
     "hide-input",
     "thebe-init"
    ]
   },
   "outputs": [
    {
     "name": "stdout",
     "output_type": "stream",
     "text": [
      "Libraries added successfully!\n"
     ]
    }
   ],
   "source": [
    "from scipy import signal\n",
    "# Ανατρέξτε στην τεκμηρίωση της βιβλιοθήκης scipy.signal\n",
    "# https://docs.scipy.org/doc/scipy/reference/signal.html\n",
    "from scipy.fft import fft, fftfreq\n",
    "import dash\n",
    "from dash import Dash, dcc, html, Input, Output\n",
    "import matplotlib\n",
    "import matplotlib.pyplot as plt\n",
    "import numpy as np\n",
    "from numpy import random\n",
    "import pandas\n",
    "import plotly\n",
    "import plotly.express as px\n",
    "import plotly.graph_objs as go\n",
    "import dash_bootstrap_components as dbc\n",
    "import warnings\n",
    "warnings.filterwarnings('ignore')\n",
    "from ipywidgets import widgets, Layout, HBox, VBox, IntRangeSlider\n",
    "print(\"Libraries added successfully!\")"
   ]
  },
  {
   "cell_type": "markdown",
   "metadata": {},
   "source": [
    "#### Δημιουργήστε ένα βαθμωτό (μονοδιάστατο) μέγεθος"
   ]
  },
  {
   "cell_type": "code",
   "execution_count": 2,
   "metadata": {},
   "outputs": [
    {
     "name": "stdout",
     "output_type": "stream",
     "text": [
      "s = 2\n"
     ]
    }
   ],
   "source": [
    "s=2\n",
    "print('s =',s)"
   ]
  },
  {
   "cell_type": "markdown",
   "metadata": {},
   "source": [
    "#### Δημιουργείστε ένα διάνυσμα πραγματικών τιμών:"
   ]
  },
  {
   "cell_type": "code",
   "execution_count": 3,
   "metadata": {},
   "outputs": [
    {
     "name": "stdout",
     "output_type": "stream",
     "text": [
      "v = [1 5 9]\n"
     ]
    }
   ],
   "source": [
    "v=np.array([1,5,9])\n",
    "print('v =',v)"
   ]
  },
  {
   "cell_type": "markdown",
   "metadata": {},
   "source": [
    "#### Δημιουργείστε έναν πίνακα πραγματικών τιμών:"
   ]
  },
  {
   "cell_type": "code",
   "execution_count": 4,
   "metadata": {},
   "outputs": [
    {
     "name": "stdout",
     "output_type": "stream",
     "text": [
      "a = [[1 2 3]\n",
      " [4 5 6]\n",
      " [7 8 9]]\n"
     ]
    }
   ],
   "source": [
    "a=np.array([[1,2,3],[4,5,6],[7,8,9]])\n",
    "print('a =',a)"
   ]
  },
  {
   "cell_type": "markdown",
   "metadata": {},
   "source": [
    "#### Αθροίστε"
   ]
  },
  {
   "cell_type": "code",
   "execution_count": 5,
   "metadata": {},
   "outputs": [
    {
     "data": {
      "text/plain": [
       "array([[ 6,  7,  8],\n",
       "       [ 9, 10, 11],\n",
       "       [12, 13, 14]])"
      ]
     },
     "execution_count": 5,
     "metadata": {},
     "output_type": "execute_result"
    }
   ],
   "source": [
    "a+5"
   ]
  },
  {
   "cell_type": "markdown",
   "metadata": {},
   "source": [
    "#### Πολλαπλασιάστε"
   ]
  },
  {
   "cell_type": "code",
   "execution_count": 6,
   "metadata": {},
   "outputs": [
    {
     "name": "stdout",
     "output_type": "stream",
     "text": [
      "b= [ 4 20 36]\n"
     ]
    }
   ],
   "source": [
    "b=s*v*2\n",
    "print('b=',b)"
   ]
  },
  {
   "cell_type": "markdown",
   "metadata": {},
   "source": [
    "#### Πολλαπλασιάστε στοιχείο-προς-στοιχείο (elementwise)"
   ]
  },
  {
   "cell_type": "code",
   "execution_count": 7,
   "metadata": {},
   "outputs": [
    {
     "data": {
      "text/plain": [
       "array([  4, 100, 324])"
      ]
     },
     "execution_count": 7,
     "metadata": {},
     "output_type": "execute_result"
    }
   ],
   "source": [
    "np.multiply(v,b)"
   ]
  },
  {
   "cell_type": "markdown",
   "metadata": {},
   "source": [
    "#### Ελέγξτε το μήκος ενός διανύσματος"
   ]
  },
  {
   "cell_type": "code",
   "execution_count": 8,
   "metadata": {},
   "outputs": [
    {
     "data": {
      "text/plain": [
       "3"
      ]
     },
     "execution_count": 8,
     "metadata": {},
     "output_type": "execute_result"
    }
   ],
   "source": [
    "len(v)"
   ]
  },
  {
   "cell_type": "markdown",
   "metadata": {},
   "source": [
    "#### Ελέγξτε το μέγεθος ενός πίνακα"
   ]
  },
  {
   "cell_type": "code",
   "execution_count": 9,
   "metadata": {},
   "outputs": [
    {
     "data": {
      "text/plain": [
       "(3, 3)"
      ]
     },
     "execution_count": 9,
     "metadata": {},
     "output_type": "execute_result"
    }
   ],
   "source": [
    "a.shape   # για array: np.array(a.shape)"
   ]
  },
  {
   "cell_type": "markdown",
   "metadata": {},
   "source": [
    "#### Προσπελάστε συγκεκριμένα στοιχεία ενός πίνακα\n",
    "Η δεικτοδότηση αρχίζει από το 0. "
   ]
  },
  {
   "cell_type": "code",
   "execution_count": 10,
   "metadata": {},
   "outputs": [
    {
     "data": {
      "text/plain": [
       "2"
      ]
     },
     "execution_count": 10,
     "metadata": {},
     "output_type": "execute_result"
    }
   ],
   "source": [
    "a[0,1]"
   ]
  },
  {
   "cell_type": "markdown",
   "metadata": {},
   "source": [
    "#### Προσπελάστε συγκεκριμένα στοιχεία ενός πίνακα (συνέχεια)\n",
    "Αρνητικές τιμές μετρούν από το τέλος, π.χ. το -1 αναφέρεται στο τελευταίο στοιχείο."
   ]
  },
  {
   "cell_type": "code",
   "execution_count": 11,
   "metadata": {},
   "outputs": [
    {
     "data": {
      "text/plain": [
       "6"
      ]
     },
     "execution_count": 11,
     "metadata": {},
     "output_type": "execute_result"
    }
   ],
   "source": [
    "a[1,-1]"
   ]
  },
  {
   "cell_type": "markdown",
   "metadata": {},
   "source": [
    "#### Προσπελάστε συγκεκριμένο τμήμα ενός διανύσματος\n",
    "    \n",
    "ΠΡΟΣΟΧΗ: τα στοιχεία [2ο,3ο] δίνονται ως 1:3 και όχι ως 1:2"
   ]
  },
  {
   "cell_type": "code",
   "execution_count": 12,
   "metadata": {},
   "outputs": [
    {
     "name": "stdout",
     "output_type": "stream",
     "text": [
      "v1 = [5 9]\n",
      "v2 = [5]\n"
     ]
    }
   ],
   "source": [
    "v1 = v[1:3]\n",
    "v2 = v[1:2]\n",
    "print('v1 =',v1)\n",
    "print('v2 =',v2)"
   ]
  },
  {
   "cell_type": "markdown",
   "metadata": {},
   "source": [
    "#### Προσπελάστε συγκεκριμένα τμήματα ενός πίνακα\n",
    "Ομοίως: οι γραμμές 1 & 2 δίνονται ως 0:2 και όχι ως 0:1"
   ]
  },
  {
   "cell_type": "code",
   "execution_count": 13,
   "metadata": {},
   "outputs": [
    {
     "data": {
      "text/plain": [
       "array([[1, 2, 3],\n",
       "       [4, 5, 6]])"
      ]
     },
     "execution_count": 13,
     "metadata": {},
     "output_type": "execute_result"
    }
   ],
   "source": [
    "a[0:2,:]"
   ]
  },
  {
   "cell_type": "markdown",
   "metadata": {},
   "source": [
    "#### Δημιουργήστε ένα διάνυσμα με στοιχεία από το 0 έως το 0.5 και βήμα 0.1"
   ]
  },
  {
   "cell_type": "code",
   "execution_count": 14,
   "metadata": {},
   "outputs": [
    {
     "name": "stdout",
     "output_type": "stream",
     "text": [
      "t= [0.  0.1 0.2 0.3 0.4]\n"
     ]
    }
   ],
   "source": [
    "t=np.arange(0,0.5,0.1)\n",
    "print('t=',t)"
   ]
  },
  {
   "cell_type": "markdown",
   "metadata": {},
   "source": [
    "## Μέρος 2:  Δειγματοληψία - Ψηφιοποίηση\n",
    "\n",
    "Τα πρωτογενή σήματα είναι κυρίως αναλογικά (συνεχούς χρόνου). Για να τα παραστήσουμε και επεξεργαστούμε στον υπολογιστή μας (ή άλλη ψηφιακή μηχανή) θα πρέπει πρώτα να τα ψηφιοποιήσουμε. Υποθέστε ένα σήμα συνεχούς χρόνου $x(t)$ με μετασχηματισμό Fourier (Continuous Time Fourier Transform – CTFT):\n",
    "  \n",
    "$$\n",
    " \n",
    "X(f)=\\int_{-\\infty}^{\\infty} x(t)e^{-j2\\pi ft} dt\n",
    " \n",
    "$$"
   ]
  },
  {
   "cell_type": "code",
   "execution_count": 15,
   "metadata": {
    "tags": [
     "hide-input"
    ]
   },
   "outputs": [
    {
     "data": {
      "application/vnd.jupyter.widget-view+json": {
       "model_id": "8508e5d9102e4e57bd2b83913bf1df5c",
       "version_major": 2,
       "version_minor": 0
      },
      "text/plain": [
       "VBox(children=(HTML(value='\\n        <h2 style=\\'font-weight: bold; font-size: 30px; text-align: center;\\'>Int…"
      ]
     },
     "execution_count": 15,
     "metadata": {},
     "output_type": "execute_result"
    }
   ],
   "source": [
    "# Παράμετροι δειγματοληψίας\n",
    "fs = 1000  # Sampling frequency in Hz\n",
    "T = 1 / fs  # Sampling period\n",
    "L = 1000  # Number of samples\n",
    "\n",
    "# Create time vector\n",
    "t = np.arange(0, L) * T\n",
    "\n",
    "\n",
    "# Define the function to update the plot based on the selected frequencies\n",
    "def update_plot(selected_frequencies):\n",
    "    # Generate the signal with the selected frequencies\n",
    "    signal = np.zeros(len(t))\n",
    "    for f in range(selected_frequencies[0], selected_frequencies[1] + 1):\n",
    "        signal += np.sin(2 * np.pi * f * t)\n",
    "                    \n",
    "\n",
    "    # Calculate the FFT of the original signal\n",
    "    original_signal_fft = fft(signal)\n",
    "    # Calculate frequencies for the FFT of the original signal\n",
    "    original_freqs = fftfreq(L, T)[:L // 2]\n",
    "    # Calculate magnitude of Fourier coefficients (amplitude) for the original signal\n",
    "    original_magnitude = np.abs(original_signal_fft)[:L // 2]\n",
    "\n",
    "    # Create Plotly figures for the original signal\n",
    "    fig_signal = go.FigureWidget(\n",
    "        data=[go.Scatter(x=t, y=signal, mode='lines', line=dict(color='#00CC96', width=2))],\n",
    "        layout=go.Layout(\n",
    "            title='Original Signal',\n",
    "            xaxis=dict(title='Time (s)', showgrid=True, gridcolor='LightGrey'),\n",
    "            yaxis=dict(title='Amplitude', showgrid=True, gridcolor='LightGrey'),\n",
    "            margin=dict(l=40, b=40, t=40, r=40),\n",
    "            hovermode='closest',\n",
    "            paper_bgcolor='white',\n",
    "            plot_bgcolor='white',\n",
    "            template='plotly_white'\n",
    "        )\n",
    "    )\n",
    "\n",
    "    # Create Plotly figures for the Fourier transform\n",
    "    fig_fft = go.FigureWidget(\n",
    "        data=[go.Scatter(x=original_freqs, y=original_magnitude, mode='lines', line=dict(color='#1F77B4', width=2))],\n",
    "        layout=go.Layout(\n",
    "            title='Fourier Transformation of Original Signal',\n",
    "            xaxis=dict(title='Frequency (Hz)', showgrid=True, gridcolor='LightGrey'),\n",
    "            yaxis=dict(title='Amplitude', showgrid=True, gridcolor='LightGrey'),\n",
    "            margin=dict(l=40, b=40, t=40, r=40),\n",
    "            hovermode='closest',\n",
    "            paper_bgcolor='white',\n",
    "            plot_bgcolor='white',\n",
    "            template='plotly_white'\n",
    "        )\n",
    "    )\n",
    "\n",
    "    return fig_signal, fig_fft\n",
    "\n",
    "# Create the slider widget styled similarly to the Dash range slider\n",
    "frequency_slider = IntRangeSlider(\n",
    "    value=[5, 10],\n",
    "    min=1,\n",
    "    max=50,\n",
    "    step=1,\n",
    "    description='Frequency Range (Hz)',\n",
    "    style={'description_width': 'initial'},\n",
    "    layout=Layout(width='90%'),  # Set the width to 100% of the container\n",
    "    readout_format='d',  # Integer format\n",
    "    continuous_update=False\n",
    ")\n",
    "\n",
    "# Define tick marks at intervals of 5\n",
    "frequency_slider_marks = {i: str(i) + ' Hz' for i in range(1, 51, 5)}\n",
    "frequency_slider.style.handle_color = 'lightblue'  # Set the handle to light blue\n",
    "\n",
    "# Define the response function\n",
    "def response(change):\n",
    "    fig_signal, fig_fft = update_plot(frequency_slider.value)\n",
    "    with graph_output:\n",
    "        graph_output.clear_output(wait=True)\n",
    "        # Use Flexbox layout to center and stretch the graphs\n",
    "        hbox = HBox([fig_signal, fig_fft])\n",
    "        hbox.layout = Layout(display='flex', flex_flow='row', align_items='stretch', width='auto')\n",
    "        display(hbox)\n",
    "\n",
    "# Observe changes in the slider value\n",
    "frequency_slider.observe(response, names='value')\n",
    "\n",
    "# Create Output widgets for the plots\n",
    "graph_output = widgets.Output()\n",
    "\n",
    "# Call the response function to update the plots initially\n",
    "response(None)\n",
    "\n",
    "# Style the HTML element\n",
    "html_label = widgets.HTML(\n",
    "    value=\"\"\"\n",
    "        <h2 style='font-weight: bold; font-size: 30px; text-align: center;'>Interactive Signal and Fourier Transformation</h2>\n",
    "        <!-- Configure and load Thebe !-->\n",
    "<script type=\"text/x-thebe-config\">\n",
    "  {\n",
    "      requestKernel: true,\n",
    "      mountActivateWidget: true,\n",
    "      mountStatusWidget: true,\n",
    "      binderOptions: {\n",
    "      repo: \"binder-examples/requirements\",\n",
    "      },\n",
    "  }\n",
    "</script>\n",
    "\n",
    "<script src=\"https://unpkg.com/thebe@latest/lib/index.js\"></script>\n",
    "\n",
    "<div class=\"thebe-activate\"></div>\n",
    "<div class=\"thebe-status\"></div>\n",
    "<pre data-executable=\"true\" data-language=\"python\">print(\"Hello!\")</pre>\n",
    "    \"\"\"\n",
    ")\n",
    "\n",
    "# Display the slider and the outputs\n",
    "vbox_layout = Layout(display='flex', flex_flow='column', align_items='center', width='100%')\n",
    "widgets.VBox([html_label,\n",
    "              frequency_slider,\n",
    "              graph_output], layout=vbox_layout)\n"
   ]
  },
  {
   "cell_type": "code",
   "execution_count": 16,
   "metadata": {
    "tags": [
     "hide-input",
     "thebe-init"
    ]
   },
   "outputs": [
    {
     "data": {
      "text/html": [
       "\n",
       "        <iframe\n",
       "            width=\"100%\"\n",
       "            height=\"650\"\n",
       "            src=\"http://127.0.0.1:8050/\"\n",
       "            frameborder=\"0\"\n",
       "            allowfullscreen\n",
       "            \n",
       "        ></iframe>\n",
       "        "
      ],
      "text/plain": [
       "<IPython.lib.display.IFrame at 0x24315c8ebd0>"
      ]
     },
     "metadata": {},
     "output_type": "display_data"
    }
   ],
   "source": [
    "app1 = Dash(__name__, external_stylesheets=[dbc.themes.BOOTSTRAP])\n",
    "\n",
    "# Παράμετροι δειγματοληψίας\n",
    "fs = 1000  # Sampling frequency in Hz\n",
    "T = 1 / fs  # Sampling period\n",
    "L = 1000  # Number of samples\n",
    "\n",
    "# Create time vector\n",
    "t = np.arange(0, L) * T\n",
    "\n",
    "# Layout of the Dash app\n",
    "app1.layout = html.Div(\n",
    "    children=[\n",
    "        html.H2('Interactive Signal and Fourier Transformation'),\n",
    "        dcc.RangeSlider(\n",
    "            id='frequency-slider',\n",
    "            min=1,\n",
    "            max=51,\n",
    "            step=1,\n",
    "            value=[5, 10],\n",
    "            marks={i: f'{i} Hz' for i in range(1, 51, 5)}\n",
    "        ),\n",
    "        dbc.Row(\n",
    "            children=[\n",
    "                dbc.Col(\n",
    "                    dcc.Graph(id='original-signal'),\n",
    "                    width=6\n",
    "                ),\n",
    "                dbc.Col(\n",
    "                    dcc.Graph(id='fourier-transform'),\n",
    "                    width=6\n",
    "                )\n",
    "            ]\n",
    "        )\n",
    "    ],\n",
    "    style={'backgroundColor': 'white', 'padding': '20px'}\n",
    ")\n",
    "\n",
    "# Callback to update graphs\n",
    "@app1.callback(\n",
    "    [Output('original-signal', 'figure'),\n",
    "     Output('fourier-transform', 'figure')],\n",
    "    [Input('frequency-slider', 'value')]\n",
    ")\n",
    "def update_graph(selected_frequencies):\n",
    "    # Generate the signal with the selected frequencies\n",
    "    signal = np.zeros(len(t))\n",
    "    for f in range(selected_frequencies[0], selected_frequencies[1] + 1):\n",
    "        signal += np.sin(2 * np.pi * f * t)\n",
    "                    \n",
    "\n",
    "    # Calculate the FFT of the original signal\n",
    "    original_signal_fft = fft(signal)\n",
    "    # Calculate frequencies for the FFT of the original signal\n",
    "    original_freqs = fftfreq(L, T)[:L // 2]\n",
    "    # Calculate magnitude of Fourier coefficients (amplitude) for the original signal\n",
    "    original_magnitude = np.abs(original_signal_fft)[:L // 2]\n",
    "   \n",
    "\n",
    "    # Original signal graph\n",
    "    original_signal_figure = {\n",
    "        'data': [go.Scatter(x=t, y=signal, mode='lines', line=dict(color='#00CC96', width=2))],\n",
    "        'layout': go.Layout(\n",
    "            title='Original Signal',\n",
    "            xaxis={'title': 'Time (s)', 'showgrid': True, 'gridcolor': 'LightGrey'},\n",
    "            yaxis={'title': 'Amplitude', 'showgrid': True, 'gridcolor': 'LightGrey'},\n",
    "            margin={'l': 40, 'b': 40, 't': 40, 'r': 40},\n",
    "            hovermode='closest',\n",
    "            paper_bgcolor='white',\n",
    "            plot_bgcolor='white',\n",
    "            template='plotly_white'\n",
    "        )\n",
    "    }\n",
    "\n",
    "    # Fourier Transformation graph\n",
    "    fourier_transform_figure = {\n",
    "        'data': [go.Scatter(x=original_freqs, y=original_magnitude, mode='lines', line=dict(color='#1F77B4', width=2))],\n",
    "        'layout': go.Layout(\n",
    "            title='Fourier Transformation of Original Signal',\n",
    "            xaxis={'title': 'Frequency (Hz)', 'showgrid': True, 'gridcolor': 'LightGrey'},\n",
    "            yaxis={'title': 'Amplitude', 'showgrid': True, 'gridcolor': 'LightGrey'},\n",
    "            margin={'l': 40, 'b': 40, 't': 40, 'r': 40},\n",
    "            hovermode='closest',\n",
    "            paper_bgcolor='white',\n",
    "            plot_bgcolor='white',\n",
    "            template='plotly_white'\n",
    "        )\n",
    "    }\n",
    "\n",
    "    \n",
    "    # Return this additional figure in the callback\n",
    "    return original_signal_figure, fourier_transform_figure\n",
    "\n",
    "    \n",
    "\n",
    "if __name__ == '__main__':\n",
    "    app1.run_server(debug=True, port=8050)\n"
   ]
  },
  {
   "cell_type": "markdown",
   "metadata": {},
   "source": [
    "\n",
    "Λαμβάνοντας δείγματα του $x(t)$ με ρυθμό $f_s=1/T_s$ παράγεται σήμα διακριτού χρόνου $x(nT_s)$. Μαθηματικά το αναπαριστάνουμε ως σειρά συναρτήσεων δέλτα\n",
    "\n",
    "$$\n",
    " \n",
    "x_\\delta (t)=\\sum_{n=-\\infty}^{\\infty}x(nT_s)\\delta(t-nT_s)=x(t)\\sum_{n=-\\infty}^{\\infty}\\delta(t-nT_s)\n",
    " \n",
    "$$\n",
    "\n",
    "με μετασχηματισμό Fourier\n",
    "\n",
    "$$\n",
    " \n",
    "X_\\delta (f)=\\sum_{n=-\\infty}^{\\infty}x(nT_s)e^{-j2\\pi fnT_s}=X(f)*1/T_s\\sum_{n=-\\infty}^{\\infty}\\delta(f-k/T_s)=1/T_s\\sum_{n=-\\infty}^{\\infty}X(f-k/T_s)\n",
    " \n",
    "$$\n",
    "\n",
    "που είναι περιοδική συνάρτηση."
   ]
  },
  {
   "cell_type": "code",
   "execution_count": 17,
   "metadata": {
    "tags": [
     "hide-input"
    ]
   },
   "outputs": [
    {
     "data": {
      "text/html": [
       "\n",
       "        <iframe\n",
       "            width=\"100%\"\n",
       "            height=\"650\"\n",
       "            src=\"http://127.0.0.1:8051/\"\n",
       "            frameborder=\"0\"\n",
       "            allowfullscreen\n",
       "            \n",
       "        ></iframe>\n",
       "        "
      ],
      "text/plain": [
       "<IPython.lib.display.IFrame at 0x2431d9174d0>"
      ]
     },
     "metadata": {},
     "output_type": "display_data"
    }
   ],
   "source": [
    "from scipy.fftpack import fftshift, ifftshift\n",
    "\n",
    "\n",
    "app2 = Dash(__name__, external_stylesheets=[dbc.themes.BOOTSTRAP])\n",
    "\n",
    "# Παράμετροι δειγματοληψίας\n",
    "T = 1 / fs  # Sampling period\n",
    "L = 1000  # Number of samples\n",
    "\n",
    "# Create time vector\n",
    "t = np.arange(0, L) * T\n",
    "\n",
    "# Layout of the Dash app\n",
    "app2.layout = html.Div(\n",
    "    children=[\n",
    "        html.H2('Interactive Signal and Fourier Transformation'),\n",
    "        dcc.Slider(\n",
    "            id='samples-slider',\n",
    "            min=100,\n",
    "            max=1000,\n",
    "            step=25,\n",
    "            value=500, \n",
    "            marks={i: f'{i} samples' for i in range(100, 1000, 100)},\n",
    "            included=False,  # To remove the color fill\n",
    "            updatemode='drag',  # Update slider continuously while dragging\n",
    "            tooltip={'placement': 'bottom'}  # Show tooltip at the bottom\n",
    "        ),\n",
    "        dcc.RangeSlider(\n",
    "            id='frequency-slider',\n",
    "            min=1,\n",
    "            max=51,\n",
    "            step=1,\n",
    "            value=[5, 10],\n",
    "            marks={i: f'{i} Hz' for i in range(1, 51, 5)}\n",
    "        ),\n",
    "        dbc.Row(\n",
    "            children=[\n",
    "                dbc.Col(\n",
    "                    dcc.Graph(id='sampled-signal'),\n",
    "                    width=6\n",
    "                ),\n",
    "                dbc.Col(\n",
    "                    dcc.Graph(id='sampled-fourier-signal'),\n",
    "                    width=6\n",
    "                )\n",
    "\n",
    "            ]\n",
    "        )\n",
    "    ],\n",
    "    style={'backgroundColor': 'white', 'padding': '20px'}\n",
    ")\n",
    "\n",
    "# Callback to update graphs\n",
    "@app2.callback(\n",
    "    [Output('sampled-signal', 'figure'),\n",
    "     Output('sampled-fourier-signal', 'figure')],\n",
    "    [Input('frequency-slider', 'value'),\n",
    "    Input('samples-slider', 'value')]\n",
    ")\n",
    "def update_graph(selected_frequencies,selected_samples):\n",
    "    # Generate the signal with the selected frequencies\n",
    "    signal = np.zeros(len(t))\n",
    "    for f in range(selected_frequencies[0], selected_frequencies[1] + 1):\n",
    "        signal += np.sin(2 * np.pi * f * t)\n",
    "    \n",
    "   # Correct downsampling approach\n",
    "    sample_rate = selected_samples  # Directly using selected_samples as an integer\n",
    "    downsampling_factor = int(fs / sample_rate)  # Downsampling factor\n",
    "\n",
    "    # Select every nth sample from the original time vector to match the downsampled signal\n",
    "    sample_points = t[::downsampling_factor]\n",
    "\n",
    "    # Downsample the signal by selecting every nth sample\n",
    "    downsampled_signal = signal[::downsampling_factor]\n",
    "\n",
    "    # Recalculate L for the downsampled signal if needed\n",
    "    L_downsampled = len(downsampled_signal)\n",
    "\n",
    "    # Calculate the DFT of the downsampled signal\n",
    "    sampled_signal_fft = fft(downsampled_signal)\n",
    "\n",
    "    # Calculate frequencies for the FFT of the downsampled signal\n",
    "    # Note: The new sampling period is the inverse of the new sampling rate\n",
    "    sampled_freqs = fftfreq(L_downsampled, 1/sample_rate)[:L_downsampled // 2]\n",
    "\n",
    "    # Calculate magnitude of Fourier coefficients (amplitude) for the downsampled signal\n",
    "    sampled_magnitude = np.abs(sampled_signal_fft)[:L_downsampled // 2]\n",
    "\n",
    "    n = len(downsampled_signal)\n",
    "    T = 1 / sample_rate  # Recalculate the sampling period with the selected sample rate\n",
    "\n",
    "    # After calculating the magnitude of Fourier coefficients\n",
    "    sampled_magnitude = np.abs(sampled_signal_fft)[:L_downsampled // 2]\n",
    "\n",
    "    # Create a new frequency vector that includes the replicated frequencies\n",
    "    # First, calculate the original frequency bins for the positive frequencies\n",
    "    original_sampled_freqs = fftfreq(L_downsampled, T)[:L_downsampled // 2]\n",
    "\n",
    "    shifted_freqs_negative = original_sampled_freqs - 1/T  # Shift for -1/Ts\n",
    "    shifted_freqs_positive = original_sampled_freqs + 1/T  # Shift for +1/Ts\n",
    "\n",
    "    # Concatenate the original and shifted (replicated) frequencies and magnitudes\n",
    "    # This includes the original frequencies, and the replications at -1/Ts and +1/Ts\n",
    "    replicated_freqs = np.concatenate([shifted_freqs_negative, original_sampled_freqs, shifted_freqs_positive])\n",
    "    replicated_magnitude = np.concatenate([sampled_magnitude, sampled_magnitude, sampled_magnitude])\n",
    "\n",
    "    # Sort the replicated frequencies and magnitudes in ascending order for proper plotting\n",
    "    sorted_indices = np.argsort(replicated_freqs)\n",
    "    sorted_replicated_freqs = replicated_freqs[sorted_indices]\n",
    "    sorted_replicated_magnitude = replicated_magnitude[sorted_indices]\n",
    "\n",
    "    # Sampled signal graph\n",
    "    sampled_signal_figure = {\n",
    "        'data': [go.Scatter(x=sample_points, y=downsampled_signal, mode='markers', marker=dict(color='#00CC96', size=7))],\n",
    "        'layout': go.Layout(\n",
    "            title='Sampled Signal',\n",
    "            xaxis={'title': 'Time (s)', 'showgrid': True, 'gridcolor': 'LightGrey'},\n",
    "            yaxis={'title': 'Amplitude', 'showgrid': True, 'gridcolor': 'LightGrey'},\n",
    "            margin={'l': 40, 'b': 40, 't': 40, 'r': 40},\n",
    "            hovermode='closest',\n",
    "            paper_bgcolor='white',\n",
    "            plot_bgcolor='white',\n",
    "            template='plotly_white'\n",
    "        )\n",
    "    }\n",
    "\n",
    "    # Fourier Transformation graph for the sampled signal\n",
    "    sampled_fourier_transform_figure = {\n",
    "        'data': [go.Scatter(x=sorted_replicated_freqs, y=sorted_replicated_magnitude, mode='lines', line=dict(color='#1F77B4', width=2))],\n",
    "        'layout': go.Layout(\n",
    "            title='Fourier Transformation of Sampled Signal',\n",
    "            xaxis={'title': 'Frequency (Hz)', 'showgrid': True, 'gridcolor': 'LightGrey'},\n",
    "            yaxis={'title': 'Amplitude', 'showgrid': True, 'gridcolor': 'LightGrey'},\n",
    "            margin={'l': 40, 'b': 40, 't': 40, 'r': 40},\n",
    "            hovermode='closest',\n",
    "            paper_bgcolor='white',\n",
    "            plot_bgcolor='white',\n",
    "            template='plotly_white'\n",
    "        )\n",
    "    }\n",
    "\n",
    "    # Return this additional figure in the callback\n",
    "    return sampled_signal_figure, sampled_fourier_transform_figure\n",
    "\n",
    "    \n",
    "    \n",
    "\n",
    "if __name__ == '__main__':\n",
    "    app2.run_server(debug=True, port=8051)"
   ]
  },
  {
   "cell_type": "markdown",
   "metadata": {},
   "source": [
    "Για βαθυπερατά σήματα $x(t)$ εύρους ζώνης W, με την υπόθεση ότι ο ρυθμός δειγματοληψίας $fs ≥\n",
    "2W$, ισχύει ότι $X(f) = T_s X_\\delta(f)$, $0 ≤ f ≤ W$, δηλαδή, το σήμα $X(f)$ προκύπτει μετά από διάβαση του\n",
    "δειγματοληπτημένου $x_\\delta(t)$ μέσω ιδανικού βαθυπερατού φίλτρου κέρδους $T_s$. Από το προηγούμενο\n",
    "σχήμα γίνεται φανερό ότι εάν η δειγματοληψία γίνει με συχνότητα μικρότερη του διπλασίου της\n",
    "ανώτερης συχνότητας $W$ του σήματος (υποδειγμάτιση – undersampling), τότε εμφανίζονται στην\n",
    "περιοχή συχνοτήτων του σήματος «είδωλα» φάσματος από ανώτερες συχνότητες που δεν\n",
    "επιτρέπουν την ακριβή αποκατάσταση του αρχικού σήματος συνεχούς χρόνου. Το φαινόμενο αυτό\n",
    "ονομάζεται __αναδίπλωση__ ή __επικάλυψη__ (aliasing), το δε σφάλμα κατά την αποκατάσταση του\n",
    "αρχικού σήματος αποκαλείται σφάλμα αναδίπλωσης (aliasing error).\n",
    "Η δειγματοληψία στο πεδίο του χρόνου αποτελεί τη βάση για τον ορισμό του μετασχηματισμού\n",
    "Fourier διακριτού χρόνου (Discrete Time Fourier Transform – DTFT). Για μια σειρά διακριτών\n",
    "αριθμών $x[n]$, ο μετασχηματισμός Fourier διακριτού χρόνου ορίζεται ως:"
   ]
  },
  {
   "cell_type": "markdown",
   "metadata": {},
   "source": [
    "$$ \n",
    " \n",
    "X_d(\\phi) \\triangleq \\sum_{n=-\\infty}^{\\infty} x[n] \\exp (-j 2 \\pi n \\phi)\n",
    " \n",
    "$$"
   ]
  },
  {
   "cell_type": "markdown",
   "metadata": {},
   "source": [
    "O DTFT είναι περιοδική συνάρτηση με περίοδο $1$, επομένως, αρκεί ο υπολογισμός του στο\n",
    "διάστημα συχνοτήτων $[0,1]$ ή ισοδύναμα $[-½,½]$. Να σημειωθεί ότι ο DTFT, παρότι προκύπτει από\n",
    "μια σειρά διακριτών αριθμών $x[n]$, είναι συνεχής συνάρτηση της μεταβλητής $\\phi$ όπως παραστατικά\n",
    "φαίνεται στο επόμενο σχήμα."
   ]
  },
  {
   "cell_type": "code",
   "execution_count": 18,
   "metadata": {
    "tags": [
     "hide-input"
    ]
   },
   "outputs": [
    {
     "data": {
      "text/html": [
       "\n",
       "        <iframe\n",
       "            width=\"100%\"\n",
       "            height=\"650\"\n",
       "            src=\"http://127.0.0.1:8052/\"\n",
       "            frameborder=\"0\"\n",
       "            allowfullscreen\n",
       "            \n",
       "        ></iframe>\n",
       "        "
      ],
      "text/plain": [
       "<IPython.lib.display.IFrame at 0x2431d9c3010>"
      ]
     },
     "metadata": {},
     "output_type": "display_data"
    }
   ],
   "source": [
    "from scipy.fftpack import fftshift, ifftshift\n",
    "\n",
    "\n",
    "app3 = Dash(__name__, external_stylesheets=[dbc.themes.BOOTSTRAP])\n",
    "\n",
    "# Παράμετροι δειγματοληψίας\n",
    "T = 1 / fs  # Sampling period\n",
    "L = 1000  # Number of samples\n",
    "\n",
    "# Create time vector\n",
    "t = np.arange(0, L) * T\n",
    "\n",
    "# Layout of the Dash app\n",
    "app3.layout = html.Div(\n",
    "    children=[\n",
    "        html.H2('Interactive Signal and Fourier Transformation'),\n",
    "        dcc.Slider(\n",
    "            id='samples-slider',\n",
    "            min=100,\n",
    "            max=1000,\n",
    "            step=25,\n",
    "            value=500, \n",
    "            marks={i: f'{i} samples' for i in range(100, 1000, 100)},\n",
    "            included=False,  # To remove the color fill\n",
    "            updatemode='drag',  # Update slider continuously while dragging\n",
    "            tooltip={'placement': 'bottom'}  # Show tooltip at the bottom\n",
    "        ),\n",
    "        dcc.RangeSlider(\n",
    "            id='frequency-slider',\n",
    "            min=1,\n",
    "            max=51,\n",
    "            step=1,\n",
    "            value=[5, 10],\n",
    "            marks={i: f'{i} Hz' for i in range(1, 51, 5)}\n",
    "        ),\n",
    "        dbc.Row(\n",
    "            children=[\n",
    "                dbc.Col(\n",
    "                    dcc.Graph(id='sampled-signal'),\n",
    "                    width=6\n",
    "                ),\n",
    "                dbc.Col(\n",
    "                    dcc.Graph(id='sampled-fourier-signal'),\n",
    "                    width=6\n",
    "                )\n",
    "\n",
    "            ]\n",
    "        )\n",
    "    ],\n",
    "    style={'backgroundColor': 'white', 'padding': '20px'}\n",
    ")\n",
    "\n",
    "# Callback to update graphs\n",
    "@app3.callback(\n",
    "    [Output('sampled-signal', 'figure'),\n",
    "     Output('sampled-fourier-signal', 'figure')],\n",
    "    [Input('frequency-slider', 'value'),\n",
    "    Input('samples-slider', 'value')]\n",
    ")\n",
    "def update_graph(selected_frequencies,selected_samples):\n",
    "    # Generate the signal with the selected frequencies\n",
    "    signal = np.zeros(len(t))\n",
    "    for f in range(selected_frequencies[0], selected_frequencies[1] + 1):\n",
    "        signal += np.sin(2 * np.pi * f * t)\n",
    "    \n",
    "   # Correct downsampling approach\n",
    "    sample_rate = selected_samples  # Directly using selected_samples as an integer\n",
    "    downsampling_factor = int(fs / sample_rate)  # Downsampling factor\n",
    "\n",
    "    # Downsample the signal by selecting every nth sample\n",
    "    downsampled_signal = signal[::downsampling_factor]\n",
    "\n",
    "    # Recalculate L for the downsampled signal if needed\n",
    "    L_downsampled = len(downsampled_signal)\n",
    "\n",
    "    # Calculate the DFT of the downsampled signal\n",
    "    sampled_signal_fft = fft(downsampled_signal)\n",
    "\n",
    "    # Calculate magnitude of Fourier coefficients (amplitude) for the downsampled signal\n",
    "    sampled_magnitude = np.abs(sampled_signal_fft)[:L_downsampled // 2]\n",
    "\n",
    "    n = len(downsampled_signal)\n",
    "    T = 1 / sample_rate  # Recalculate the sampling period with the selected sample rate\n",
    "\n",
    "    # After calculating the magnitude of Fourier coefficients\n",
    "    sampled_magnitude = np.abs(sampled_signal_fft)[:L_downsampled // 2]\n",
    "\n",
    "    # Create a new frequency vector that includes the replicated frequencies\n",
    "    # First, calculate the original frequency bins for the positive frequencies\n",
    "    original_sampled_freqs = fftfreq(L_downsampled, T)[:L_downsampled // 2]\n",
    "\n",
    "    shifted_freqs_negative = original_sampled_freqs - 1/T  # Shift for -1/Ts\n",
    "    shifted_freqs_positive = original_sampled_freqs + 1/T  # Shift for +1/Ts\n",
    "\n",
    "    # Concatenate the original and shifted (replicated) frequencies and magnitudes\n",
    "    # This includes the original frequencies, and the replications at -1/Ts and +1/Ts\n",
    "    replicated_freqs = np.concatenate([shifted_freqs_negative, original_sampled_freqs, shifted_freqs_positive])\n",
    "    replicated_magnitude = np.concatenate([sampled_magnitude, sampled_magnitude, sampled_magnitude])\n",
    "\n",
    "    # Sort the replicated frequencies and magnitudes in ascending order for proper plotting\n",
    "    sorted_indices = np.argsort(replicated_freqs)\n",
    "    sorted_replicated_freqs = replicated_freqs[sorted_indices]\n",
    "    sorted_replicated_magnitude = replicated_magnitude[sorted_indices]\n",
    "\n",
    "    # Generate an array of sample indices for the downsampled signal\n",
    "    sample_indices = np.arange(len(downsampled_signal))\n",
    "\n",
    "    # Update the Sampled signal graph to plot against sample indices\n",
    "    sampled_signal_figure = {\n",
    "        'data': [go.Scatter(x=sample_indices, y=downsampled_signal, mode='markers', marker=dict(color='#00CC96', size=7))],\n",
    "        'layout': go.Layout(\n",
    "            title='Sampled Signal',\n",
    "            xaxis={'title': 'Sample Number', 'showgrid': True, 'gridcolor': 'LightGrey'},\n",
    "            yaxis={'title': 'Amplitude', 'showgrid': True, 'gridcolor': 'LightGrey'},\n",
    "            margin={'l': 40, 'b': 40, 't': 40, 'r': 40},\n",
    "            hovermode='closest',\n",
    "            paper_bgcolor='white',\n",
    "            plot_bgcolor='white',\n",
    "            template='plotly_white'\n",
    "        )\n",
    "    }\n",
    "\n",
    "    # Normalize the frequency values\n",
    "    normalized_freqs = original_sampled_freqs / (1/T)\n",
    "\n",
    "    # Since you previously concatenated and sorted for replication, ensure to apply normalization there as well\n",
    "    normalized_replicated_freqs = np.concatenate([\n",
    "        (shifted_freqs_negative / (1/T)),  # Normalize -1/Ts shifted frequencies\n",
    "        normalized_freqs,  # Already normalized original frequencies\n",
    "        (shifted_freqs_positive / (1/T))   # Normalize +1/Ts shifted frequencies\n",
    "    ])\n",
    "\n",
    "    # Sort the normalized and replicated frequencies for proper plotting\n",
    "    sorted_indices = np.argsort(normalized_replicated_freqs)\n",
    "    sorted_normalized_replicated_freqs = normalized_replicated_freqs[sorted_indices]\n",
    "    sorted_replicated_magnitude = replicated_magnitude[sorted_indices]\n",
    "\n",
    "    # Update the Fourier Transformation graph with normalized frequencies\n",
    "    sampled_fourier_transform_figure = {\n",
    "        'data': [go.Scatter(x=sorted_normalized_replicated_freqs, y=sorted_replicated_magnitude, mode='lines', line=dict(color='#1F77B4', width=2))],\n",
    "        'layout': go.Layout(\n",
    "            title='Normalized Fourier Transformation of Sampled Signal',\n",
    "            xaxis={'title': 'Normalized Frequency (f/fs)', 'showgrid': True, 'gridcolor': 'LightGrey'},\n",
    "            yaxis={'title': 'Amplitude', 'showgrid': True, 'gridcolor': 'LightGrey'},\n",
    "            margin={'l': 40, 'b': 40, 't': 40, 'r': 40},\n",
    "            hovermode='closest',\n",
    "            paper_bgcolor='white',\n",
    "            plot_bgcolor='white',\n",
    "            template='plotly_white'\n",
    "        )\n",
    "    }\n",
    "\n",
    "    # Return this additional figure in the callback\n",
    "    return sampled_signal_figure, sampled_fourier_transform_figure\n",
    "\n",
    "    \n",
    "    \n",
    "\n",
    "if __name__ == '__main__':\n",
    "    app3.run_server(debug=True, port=8052)"
   ]
  },
  {
   "cell_type": "markdown",
   "metadata": {},
   "source": [
    "Με τη σειρά των διακριτών αριθμών να προκύπτει ως αποτέλεσμα δειγματοληψίας, $x[n]=x(nT_s)$, ο\n",
    "DTFT και ο μετασχηματισμός Fourier $X_\\delta(f)$ του δειγματοληπτημένου σήματος συνδέονται μέσω\n",
    "της αντιστοιχίας $\\phi ↔ f/f_s$. Η συνήθης πρακτική είναι να παριστάνουμε τον λόγο $f/f_s$ ως\n",
    "κανονικοποιημένη συχνότητα $\\phi$ ($f_D$, στις σημειώσεις σας) και οι πραγματικές συχνότητες να\n",
    "προκύπτουν ως πολλαπλάσιά της (συνήθως κλασματικά). Για τη σύνδεση του DTFT με τον μετασχηματισμό Fourier $X(f)$ του σήματος πρέπει επιπλέον να γίνει αναγωγή στην περίοδο δειγματοληψίας με πολλαπλασιασμό επί $T_s$ (ή διαίρεση με $f_s$).\n",
    "Κατ΄ αναλογία με τη δειγματοληψία σημάτων στο χρόνο μπορούμε να κάνουμε δειγματοληψία στο\n",
    "πεδίο της συχνότητας λαμβάνοντας διακριτές τιμές $X(kf_o)$ του μετασχηματισμού Fourier που\n",
    "αντιστοιχούν σε ανάλυση συχνότητας $f_o=1/T_o$. Αυτό ισοδυναμεί με περιοδική επανάληψη του\n",
    "σήματος συνεχούς χρόνου $x(t)$ κάθε $Τ_ο$, αφού το περιοδικό σήμα"
   ]
  },
  {
   "cell_type": "markdown",
   "metadata": {},
   "source": [
    "$$\n",
    " \n",
    "x_p(t)=\\sum_{n=-\\infty}^{\\infty} x\\left(t-n T_{o}\\right)\n",
    " \n",
    "$$"
   ]
  },
  {
   "cell_type": "markdown",
   "metadata": {},
   "source": [
    "έχει μετασχηματισμό Fourier"
   ]
  },
  {
   "cell_type": "markdown",
   "metadata": {},
   "source": [
    "$$\n",
    " \n",
    "X(f) \\sum_{n=-\\infty}^{\\infty} \\exp \\left(-j 2 \\pi f n T_{o}\\right)=X(f) \\frac{1}{T_{o}} \\sum_{k=-\\infty}^{\\infty} \\delta\\left(f-k / T_{o}\\right)=\\frac{1}{T_{o}} \\sum_{k=-\\infty}^{\\infty} X\\left(k / T_{o}\\right) \\delta\\left(f-k / T_{o}\\right)\n",
    " \n",
    "$$"
   ]
  },
  {
   "cell_type": "markdown",
   "metadata": {},
   "source": [
    "Επομένως, $X[k] = X(kf_o)/Τ_o$ είναι οι συντελεστές του αναπτύγματος σε σειρά Fourier.του περιοδικού\n",
    "σήματος $x_p(t)$. Προφανώς, για σήματα $x(t)$ πεπερασμένης διάρκειας, όπου $x(t)=0$ για $|t| ≥ T$, με την\n",
    "υπόθεση ότι η περίοδος $T_o ≥ 2T$, ισχύει ότι $x(t) = x_p(t)$ για $|t| ≤ T$.\n",
    "Στην πράξη, τα σήματα έχουν πολύ μεγάλη διάρκεια για να μπορέσουμε να τα αναλύσουμε στην\n",
    "ολότητά τους. Έτσι εφαρμόζουμε ένα ορθογωνικό χρονικό παράθυρο, ώστε να διατηρήσουμε μόνο\n",
    "το πιο σημαντικό τους μέρος για το διάστημα παρατήρησης και $x(t)= 0$, αλλού. Κατά τον\n",
    "υπολογισμό του DTFT $X_d(\\phi)$ ενός τέτοιου ακρωτηριασμένου σήματος, αντί του απείρου\n",
    "αθροίσματος, περιοριζόμαστε σε μια πεπερασμένου μήκους $L$ σειρά αριθμών $x[n]$, οπότε"
   ]
  },
  {
   "cell_type": "markdown",
   "metadata": {},
   "source": [
    "$$ \n",
    " \n",
    "X_d(\\phi)=\\sum_{n=0}^{L-1} x[n] \\exp (-j 2 \\pi n \\phi)\n",
    " \n",
    "$$"
   ]
  },
  {
   "cell_type": "markdown",
   "metadata": {},
   "source": [
    "H δειγματοληψία του $X_d(\\phi)$ στο πεδίο συχνότητας σε $Ν$ ισαπέχουσες κανονικοποιημένες συχνότητες $0$, $1/Ν$, $2/Ν$, $…$, $(Ν-1)/Ν$, δίνει"
   ]
  },
  {
   "cell_type": "markdown",
   "metadata": {},
   "source": [
    "$$ \n",
    " \n",
    "X[k]=X_{d}\\left(\\frac{k}{N}\\right)=\\sum_{n=0}^{N-1} x[n] \\exp \\left(-j 2 \\pi n \\frac{k}{N}\\right), \\quad 0 \\leq k \\leq N-1\n",
    " \n",
    "$$"
   ]
  },
  {
   "cell_type": "markdown",
   "metadata": {},
   "source": [
    "όπου, εάν $N≥L$, θέτουμε $x[n]=0$ για $n≥L$. Η τελευταία σχέση αναγνωρίζεται ως ο διακριτός μετασχηματισμός Fourier (Discrete Fourier Transform – DFT), ο οποίος για μια πεπερασμένη σειρά $xn$, $n=0$, $1$, $…$, $N-1$, ορίζεται ως:"
   ]
  },
  {
   "cell_type": "markdown",
   "metadata": {},
   "source": [
    "$$ \n",
    " \n",
    "X_{k} \\triangleq \\sum_{n=0}^{N-1} x_{n} \\exp \\left(-j 2 \\pi n \\frac{k}{N}\\right), \\quad 0 \\leq k \\leq N-1\n",
    " \n",
    "$$"
   ]
  },
  {
   "cell_type": "markdown",
   "metadata": {},
   "source": [
    "και ο αντίστροφός του είναι"
   ]
  },
  {
   "cell_type": "markdown",
   "metadata": {},
   "source": [
    "$$ \n",
    " \n",
    "x_{n}=\\frac{1}{N} \\sum_{k=0}^{N-1} X_{k} \\exp \\left(j 2 \\pi n \\frac{k}{N}\\right), \\quad 0 \\leq n \\leq N-1\n",
    " \n",
    "$$"
   ]
  },
  {
   "cell_type": "markdown",
   "metadata": {},
   "source": [
    "Η $X_d(\\phi)$ ως DTFT είναι περιοδική συνάρτηση και εάν η αρχική σειρά xn ήταν περιοδική (και δεν\n",
    "εφαρμόζαμε το παράθυρο), τότε η $X_d(\\phi)$ θα ήταν μηδέν παντού εκτός των σημείων της\n",
    "δειγματοληψίας $k/Ν$. Δηλαδή, εάν θεωρήσουμε μια πεπερασμένου μήκους σειρά αριθμών που\n",
    "επαναλαμβάνεται περιοδικά, o διακριτού χρόνου μετασχηματισμός Fourier της (DTFT) είναι και\n",
    "αυτός περιοδικός και διακριτός. Επιπλέον, ο DFT και ο αντίστροφός του IDFT, εάν δεν\n",
    "περιορίζαμε τους δείκτες $n$ και $k$ μεταξύ $0$ και $N-1$, θα ήταν περιοδικές συναρτήσεις. Άρα η\n",
    "πεπερασμένη σειρά xn μπορεί να θεωρηθεί ως ένα περιοδικό σήμα διακριτού χρόνου ιδωμένο μόνο\n",
    "κατά τη διάρκεια μιας περιόδου και ο DFT, η σειρά $X_k$, ως τα δείγματα με ανάλυση $1/Ν$ του DTFT\n",
    "$X_d(\\phi)$ στο πεδίο κανονικοποιημένων συχνοτήτων $[0,1]$, όπως φαίνεται στο επόμενο σχήμα."
   ]
  },
  {
   "cell_type": "code",
   "execution_count": 19,
   "metadata": {
    "tags": [
     "hide-input"
    ]
   },
   "outputs": [
    {
     "data": {
      "text/html": [
       "\n",
       "        <iframe\n",
       "            width=\"100%\"\n",
       "            height=\"650\"\n",
       "            src=\"http://127.0.0.1:8053/\"\n",
       "            frameborder=\"0\"\n",
       "            allowfullscreen\n",
       "            \n",
       "        ></iframe>\n",
       "        "
      ],
      "text/plain": [
       "<IPython.lib.display.IFrame at 0x2431d8ec790>"
      ]
     },
     "metadata": {},
     "output_type": "display_data"
    }
   ],
   "source": [
    "from scipy.fftpack import fftshift, ifftshift\n",
    "\n",
    "\n",
    "app4 = Dash(__name__, external_stylesheets=[dbc.themes.BOOTSTRAP])\n",
    "\n",
    "# Παράμετροι δειγματοληψίας\n",
    "T = 1 / fs  # Sampling period\n",
    "L = 1000  # Number of samples\n",
    "\n",
    "# Create time vector\n",
    "t = np.arange(0, L) * T\n",
    "\n",
    "# Layout of the Dash app\n",
    "app4.layout = html.Div(\n",
    "    children=[\n",
    "        html.H2('Interactive Signal and Fourier Transformation'),\n",
    "        dcc.Slider(\n",
    "            id='samples-slider',\n",
    "            min=100,\n",
    "            max=1000,\n",
    "            step=25,\n",
    "            value=500, \n",
    "            marks={i: f'{i} samples' for i in range(100, 1000, 100)},\n",
    "            included=False,  # To remove the color fill\n",
    "            updatemode='drag',  # Update slider continuously while dragging\n",
    "            tooltip={'placement': 'bottom'}  # Show tooltip at the bottom\n",
    "        ),\n",
    "        dcc.RangeSlider(\n",
    "            id='frequency-slider',\n",
    "            min=1,\n",
    "            max=51,\n",
    "            step=1,\n",
    "            value=[5, 40],\n",
    "            marks={i: f'{i} Hz' for i in range(1, 51, 5)}\n",
    "        ),\n",
    "        dcc.Slider(\n",
    "            id='N-slider',\n",
    "            min=1,\n",
    "            max=25,\n",
    "            step=1,\n",
    "            value=1, \n",
    "            marks={i: f'{i} N' for i in range(1, 25, 1)},\n",
    "            included=False,  # To remove the color fill\n",
    "            updatemode='drag',  # Update slider continuously while dragging\n",
    "            tooltip={'placement': 'bottom'}  # Show tooltip at the bottom\n",
    "        ),\n",
    "        dbc.Row(\n",
    "            children=[\n",
    "                dbc.Col(\n",
    "                    dcc.Graph(id='sampled-signal'),\n",
    "                    width=6\n",
    "                ),\n",
    "                dbc.Col(\n",
    "                    dcc.Graph(id='sampled-fourier-signal'),\n",
    "                    width=6\n",
    "                )\n",
    "            ]\n",
    "        )\n",
    "    ],\n",
    "    style={'backgroundColor': 'white', 'padding': '20px'}\n",
    ")\n",
    "\n",
    "# Callback to update graphs\n",
    "@app4.callback(\n",
    "    [Output('sampled-signal', 'figure'),\n",
    "     Output('sampled-fourier-signal', 'figure')],\n",
    "    [Input('frequency-slider', 'value'),\n",
    "    Input('samples-slider', 'value'),\n",
    "    Input('N-slider','value')]\n",
    ")\n",
    "def update_graph(selected_frequencies,selected_samples,selected_N):\n",
    "    # Generate the signal with the selected frequencies\n",
    "    signal = np.zeros(len(t))\n",
    "    for f in range(selected_frequencies[0], selected_frequencies[1] + 1):\n",
    "        signal += np.sin(2 * np.pi * f * t)\n",
    "    \n",
    "   # Correct downsampling approach\n",
    "    sample_rate = selected_samples  # Directly using selected_samples as an integer\n",
    "    downsampling_factor = int(fs / sample_rate)  # Downsampling factor\n",
    "\n",
    "    # Downsample the signal by selecting every nth sample\n",
    "    downsampled_signal = signal[::downsampling_factor]\n",
    "\n",
    "    # Recalculate L for the downsampled signal if needed\n",
    "    L_downsampled = len(downsampled_signal)\n",
    "\n",
    "    # Calculate the DFT of the downsampled signal\n",
    "    sampled_signal_fft = fft(downsampled_signal)\n",
    "\n",
    "    # Calculate magnitude of Fourier coefficients (amplitude) for the downsampled signal\n",
    "    sampled_magnitude = np.abs(sampled_signal_fft)[:L_downsampled // 2]\n",
    "\n",
    "    n = len(downsampled_signal)\n",
    "    T = 1 / sample_rate  # Recalculate the sampling period with the selected sample rate\n",
    "\n",
    "    # After calculating the magnitude of Fourier coefficients\n",
    "    sampled_magnitude = np.abs(sampled_signal_fft)[:L_downsampled // 2]\n",
    "\n",
    "    # Create a new frequency vector that includes the replicated frequencies\n",
    "    # First, calculate the original frequency bins for the positive frequencies\n",
    "    original_sampled_freqs = fftfreq(L_downsampled, T)[:L_downsampled // 2]\n",
    "\n",
    "    shifted_freqs_negative = original_sampled_freqs - 1/T  # Shift for -1/Ts\n",
    "    shifted_freqs_positive = original_sampled_freqs + 1/T  # Shift for +1/Ts\n",
    "\n",
    "    # Concatenate the original and shifted (replicated) frequencies and magnitudes\n",
    "    # This includes the original frequencies, and the replications at -1/Ts and +1/Ts\n",
    "    replicated_freqs = np.concatenate([shifted_freqs_negative, original_sampled_freqs, shifted_freqs_positive])\n",
    "    replicated_magnitude = np.concatenate([sampled_magnitude, sampled_magnitude, sampled_magnitude])\n",
    "\n",
    "    # Sort the replicated frequencies and magnitudes in ascending order for proper plotting\n",
    "    sorted_indices = np.argsort(replicated_freqs)\n",
    "    sorted_replicated_freqs = replicated_freqs[sorted_indices]\n",
    "    sorted_replicated_magnitude = replicated_magnitude[sorted_indices]\n",
    "\n",
    "    # Generate an array of sample indices for the downsampled signal\n",
    "    sample_indices = np.arange(len(downsampled_signal))\n",
    "\n",
    "    # Create data for the markers on top of the stems\n",
    "    sampled_signal_markers = go.Scatter(\n",
    "        x=sample_indices, \n",
    "        y=downsampled_signal, \n",
    "        mode='markers', \n",
    "        marker=dict(color='#00CC96', size=5),\n",
    "        name='Markers'\n",
    "    )\n",
    "\n",
    "    # Create a list to hold all the scatter plots for the stems\n",
    "    sampled_signal_stems = []\n",
    "\n",
    "    # For each sample point, create a line from the x-axis to the point\n",
    "    for x, y in zip(sample_indices, downsampled_signal):\n",
    "        sampled_signal_stems.append(\n",
    "            go.Scatter(\n",
    "                x=[x, x],\n",
    "                y=[0, y],\n",
    "                mode='lines',\n",
    "                line=dict(color='#00CC96', width=0.3),\n",
    "                showlegend=False  # Hide legend for each stem\n",
    "            )\n",
    "        )\n",
    "\n",
    "    # Combine markers and stems for the plot\n",
    "    sampled_signal_data = [sampled_signal_markers] + sampled_signal_stems\n",
    "\n",
    "    # Update the figure with the new layout\n",
    "    sampled_signal_figure = {\n",
    "        'data': sampled_signal_data,\n",
    "        'layout': go.Layout(\n",
    "            title='Sampled Signal',\n",
    "            xaxis={'title': 'Sample Number', 'showgrid': True, 'gridcolor': 'LightGrey'},\n",
    "            yaxis={'title': 'Amplitude', 'showgrid': True, 'gridcolor': 'LightGrey'},\n",
    "            margin={'l': 40, 'b': 40, 't': 40, 'r': 40},\n",
    "            hovermode='closest',\n",
    "            paper_bgcolor='white',\n",
    "            plot_bgcolor='white',\n",
    "            template='plotly_white'\n",
    "        )\n",
    "    }\n",
    "\n",
    "    # Normalize the frequency values\n",
    "    normalized_freqs = original_sampled_freqs / (1/T)\n",
    "\n",
    "    # Since you previously concatenated and sorted for replication, ensure to apply normalization there as well\n",
    "    normalized_replicated_freqs = np.concatenate([\n",
    "        (shifted_freqs_negative / (1/T)),  # Normalize -1/Ts shifted frequencies\n",
    "        normalized_freqs,  # Already normalized original frequencies\n",
    "        (shifted_freqs_positive / (1/T))   # Normalize +1/Ts shifted frequencies\n",
    "    ])\n",
    "\n",
    "    # Sort the normalized and replicated frequencies for proper plotting\n",
    "    sorted_indices = np.argsort(normalized_replicated_freqs)\n",
    "    sorted_normalized_replicated_freqs = normalized_replicated_freqs[sorted_indices]\n",
    "    sorted_replicated_magnitude = replicated_magnitude[sorted_indices]\n",
    "\n",
    "    # Let's assume N is defined; for example, N could be 10 for sampling every 1/10th\n",
    "    N=selected_N\n",
    "\n",
    "    # Adjust the sampling interval for selecting frequencies and magnitudes\n",
    "    sampled_indices = np.arange(0, len(sorted_normalized_replicated_freqs), N)\n",
    "    sampled_normalized_replicated_freqs = sorted_normalized_replicated_freqs[sampled_indices]\n",
    "    sampled_replicated_magnitude = sorted_replicated_magnitude[sampled_indices]\n",
    "\n",
    "    markers_data = go.Scatter(\n",
    "    x=sampled_normalized_replicated_freqs, \n",
    "    y=sampled_replicated_magnitude, \n",
    "    mode='markers', \n",
    "    marker=dict(color='#00CC96', size=5),\n",
    "    name='Markers',\n",
    "    showlegend=False\n",
    ")\n",
    "\n",
    "    # Create a list to hold all the scatter plots for the stems\n",
    "    stems_data = []\n",
    "\n",
    "    # For each point, create a line from the x-axis to the point\n",
    "    for x, y in zip(sampled_normalized_replicated_freqs, sampled_replicated_magnitude):\n",
    "        stems_data.append(\n",
    "            go.Scatter(\n",
    "                x=[x, x],\n",
    "                y=[0, y],\n",
    "                mode='lines',\n",
    "                line=dict(color='#00CC96', width=0.25),\n",
    "                showlegend=False  # Hide legend for each stem\n",
    "            )\n",
    "        )\n",
    "\n",
    "    # Combine markers and stems for the plot\n",
    "    data = [markers_data] + stems_data\n",
    "\n",
    "    # Update the figure with the new layout\n",
    "    sampled_fourier_transform_figure = {\n",
    "        'data': data,\n",
    "        'layout': go.Layout(\n",
    "            title='Sampled Normalized Fourier Transformation of Sampled Signal',\n",
    "            xaxis={'title': 'Sampled Normalized Frequency (f/fs)', 'showgrid': True, 'gridcolor': 'LightGrey'},\n",
    "            yaxis={'title': 'Amplitude', 'showgrid': True, 'gridcolor': 'LightGrey'},\n",
    "            margin={'l': 40, 'b': 40, 't': 40, 'r': 40},\n",
    "            hovermode='closest',\n",
    "            paper_bgcolor='white',\n",
    "            plot_bgcolor='white',\n",
    "            template='plotly_white'\n",
    "        )\n",
    "    }\n",
    "\n",
    "    # Return this additional figure in the callback\n",
    "    return sampled_signal_figure, sampled_fourier_transform_figure\n",
    "\n",
    "    \n",
    "    \n",
    "\n",
    "if __name__ == '__main__':\n",
    "    app4.run_server(debug=True, port=8053)"
   ]
  },
  {
   "cell_type": "markdown",
   "metadata": {},
   "source": [
    "#### Φασματική Ανάλυση\n",
    "Για τον υπολογισμό της ενέργειας ή ισχύος της κυματομορφής $x(t)$, ανάλογα με την περίπτωση\n",
    "σήματος, ισχύει"
   ]
  },
  {
   "cell_type": "markdown",
   "metadata": {},
   "source": [
    "$$\n",
    " \n",
    "E_{X}=\\int_{-\\infty}^{\\infty} x^{2}(t) d t=\\int_{-\\infty}^{\\infty}|X(f)|^{2} d f\n",
    " \n",
    "$$"
   ]
  },
  {
   "cell_type": "markdown",
   "metadata": {},
   "source": [
    "$$ \n",
    " \n",
    "P_{X}=\\lim _{T \\rightarrow \\infty} \\frac{1}{T} \\int_{-T / 2}^{T / 2} x^{2}(t) d t=\\int_{-\\infty}^{\\infty} S_{X}(f) d f\n",
    " \n",
    "$$"
   ]
  },
  {
   "cell_type": "markdown",
   "metadata": {},
   "source": [
    "όπου για σήματα ισχύος $S_Χ(f)$ είναι η πυκνότητα φάσματος ισχύος (Power Spectral Density – PSD)\n",
    "της $x(t)$. Για σήματα διακριτού χρόνου που προκύπτουν από δειγματοληψία της $x(t)$ με περίοδο $T_s$,\n",
    "οι αντίστοιχες σχέσεις υπολογισμό της ενέργειας ή ισχύος γίνονται"
   ]
  },
  {
   "cell_type": "markdown",
   "metadata": {},
   "source": [
    "$$ \n",
    " \n",
    "E_{X}=T_{s} \\sum_{n=-\\infty}^{\\infty} x^{2}[n]\n",
    " \n",
    "$$"
   ]
  },
  {
   "cell_type": "markdown",
   "metadata": {},
   "source": [
    "$$ \n",
    " \n",
    "P_{X}=\\lim _{N \\rightarrow \\infty} \\frac{1}{2 N+1} \\sum_{n=-N}^{N} x^{2}[n]\n",
    " \n",
    "$$"
   ]
  },
  {
   "cell_type": "markdown",
   "metadata": {},
   "source": [
    "Ένας απλός τρόπος να εκτιμηθεί η πυκνότητα φάσματος ισχύος της κυματομορφής $x(t)$ είναι να\n",
    "ληφθεί ο DTFT των δειγμάτων του σήματος και μετά να υψωθεί στο τετράγωνο το μέτρο του\n",
    "αποτελέσματος. Αυτός ο εκτιμητής αποκαλείται περιοδόγραμμα (periodogram). Το περιοδόγραμμα\n",
    "ενός πεπερασμένου μήκους $L$ σήματος $x[n]$ ορίζεται ως"
   ]
  },
  {
   "cell_type": "markdown",
   "metadata": {},
   "source": [
    "$$ \n",
    " \n",
    "P_{x x}(f) \\triangleq \\frac{\\left|X_{d}\\left(f / f_{s}\\right)\\right|^{2}}{f_{s} L}\n",
    " \n",
    "$$"
   ]
  },
  {
   "cell_type": "markdown",
   "metadata": {},
   "source": [
    "όπου $X_d(\\phi)$ o DTFT του σήματος. Με το μήκος $L$ να τείνει στο άπειρο, το περιοδόγραμμα $P_{xx}(f)$\n",
    "τείνει στην πυκνότητα φάσματος ισχύος $S_Χ(f)$. Ο υπολογισμός του περιοδογράμματος σε\n",
    "πεπερασμένο πλήθος συχνοτήτων $kf_s/Ν$, $k=0$, $1$, $…$ , $Ν$ δίνει"
   ]
  },
  {
   "cell_type": "markdown",
   "metadata": {},
   "source": [
    "$$ \n",
    " \n",
    "P_{x x}[k]=\\frac{\\left|X_{k}\\right|^{2}}{f_{s} L}, \\quad k=0,1, \\ldots, N-1\n",
    " \n",
    "$$"
   ]
  },
  {
   "cell_type": "markdown",
   "metadata": {},
   "source": [
    "όπου $X_k$ και ο DFT της πεπερασμένου μήκους $L$ σειράς δειγμάτων του σήματος. Η ισχύς του\n",
    "σήματος είναι τότε"
   ]
  },
  {
   "cell_type": "markdown",
   "metadata": {},
   "source": [
    "$$ \n",
    " \n",
    "P_{X}=\\frac{1}{f_{s} L} \\sum_{k=0}^{N-1}\\left|X_{k}\\right|^{2} f_{o}=\\frac{1}{N L} \\sum_{k=0}^{N-1}\\left|X_{k}\\right|^{2}=\\frac{1}{L} \\sum_{n=0}^{L-1}\\left|x_{n}\\right|^{2}\n",
    " \n",
    "$$"
   ]
  },
  {
   "cell_type": "markdown",
   "metadata": {},
   "source": [
    "όπου η τελευταία ισότητα προκύπτει από το θεώρημα Parseval, που για την περίπτωση του DFT\n",
    "εκφράζεται ως:"
   ]
  },
  {
   "cell_type": "markdown",
   "metadata": {},
   "source": [
    "$$ \n",
    " \n",
    "\\sum_{n=0}^{N-1}\\left|x_{n}\\right|^{2}=\\frac{1}{N} \\sum_{k=0}^{N-1}\\left|X_{k}\\right|^{2}\n",
    " \n",
    "$$"
   ]
  },
  {
   "cell_type": "markdown",
   "metadata": {},
   "source": [
    "Στην ειδική περίπτωση περιοδικών σημάτων έχουμε"
   ]
  },
  {
   "cell_type": "markdown",
   "metadata": {},
   "source": [
    "$$ \n",
    " \n",
    "S_x(f) = \\sum_{k=-\\infty}^{\\infty} |X[k]|^2 \\delta(f - k/T_0)\n",
    " \n",
    "$$"
   ]
  },
  {
   "cell_type": "markdown",
   "metadata": {},
   "source": [
    "$$ \n",
    " \n",
    "P_x = \\sum_{k=-\\infty}^{\\infty} |X[k]|^2\n",
    " \n",
    "$$"
   ]
  },
  {
   "cell_type": "markdown",
   "metadata": {},
   "source": [
    "όπου $X[k]$ οι συντελεστές του αναπτύγματος σε σειρά Fourier και $T_o$ η περίοδος του σήματος."
   ]
  },
  {
   "cell_type": "markdown",
   "metadata": {},
   "source": [
    "## Μέρος 3:  Εφαρμογή Α"
   ]
  },
  {
   "cell_type": "code",
   "execution_count": 20,
   "metadata": {
    "tags": [
     "hide-input"
    ]
   },
   "outputs": [
    {
     "data": {
      "text/html": [
       "\n",
       "        <iframe\n",
       "            width=\"100%\"\n",
       "            height=\"650\"\n",
       "            src=\"http://127.0.0.1:8059/\"\n",
       "            frameborder=\"0\"\n",
       "            allowfullscreen\n",
       "            \n",
       "        ></iframe>\n",
       "        "
      ],
      "text/plain": [
       "<IPython.lib.display.IFrame at 0x2431d8fc450>"
      ]
     },
     "metadata": {},
     "output_type": "display_data"
    }
   ],
   "source": [
    "app10 = Dash(__name__, external_stylesheets=[dbc.themes.BOOTSTRAP])\n",
    "\n",
    "\n",
    "# Layout of the Dash app\n",
    "app10.layout = html.Div(\n",
    "    children=[\n",
    "        html.H2('Frequency and Frequency sampling selector'),\n",
    "        dcc.Slider(\n",
    "            id='Fs_slider',\n",
    "            min=100,\n",
    "            max=2000,\n",
    "            step=100,\n",
    "            value=1000, \n",
    "            marks={i: f'{i} Hz' for i in range(100, 2000, 100)},\n",
    "            included=False,  # To remove the color fill\n",
    "            updatemode='drag',  # Update slider continuously while dragging\n",
    "            tooltip={'placement': 'bottom'}  # Show tooltip at the bottom\n",
    "        ),\n",
    "        dcc.Slider(\n",
    "            id='Fo_slider',\n",
    "            min=40,\n",
    "            max=400,\n",
    "            step=10,\n",
    "            value=100, \n",
    "            marks={i: f'{i} Hz' for i in range(40, 400, 20)},\n",
    "            included=False,  # To remove the color fill\n",
    "            updatemode='drag',  # Update slider continuously while dragging\n",
    "            tooltip={'placement': 'bottom'}  # Show tooltip at the bottom\n",
    "        ),\n",
    "        dbc.Row(\n",
    "            children=[\n",
    "                dbc.Col(\n",
    "                    dcc.Graph(id='signal'),\n",
    "                    width=12\n",
    "                ),\n",
    "                dbc.Col(\n",
    "                    dcc.Graph(id='freq_signal'),\n",
    "                    width=12\n",
    "                ),\n",
    "                dbc.Col(\n",
    "                    dcc.Graph(id='double_signal'),\n",
    "                    width=12\n",
    "                ),\n",
    "                dbc.Col(\n",
    "                    dcc.Graph(id='spectrum_signal'),\n",
    "                    width=12\n",
    "                )\n",
    "            ]\n",
    "        )\n",
    "    ],\n",
    "    style={'backgroundColor': 'white', 'padding': '20px'}\n",
    ")\n",
    "\n",
    "# Callback to update graphs\n",
    "@app10.callback(\n",
    "    [Output('signal', 'figure'),\n",
    "     Output('freq_signal', 'figure'),\n",
    "     Output('double_signal', 'figure'),\n",
    "     Output('spectrum_signal', 'figure')],\n",
    "    [Input('Fs_slider', 'value'),\n",
    "     Input('Fo_slider', 'value')]\n",
    ")\n",
    "def update_graph(selected_frequencies,selected_Fo):\n",
    "    # Part 1: Create the signal\n",
    "    Fs = selected_frequencies        # Sampling frequency 1000 Hz\n",
    "    Ts = 1 / Fs                      # Sampling period\n",
    "    L = 1000                         # Length of signal (number of samples)\n",
    "    T = L * Ts                       # Duration of signal\n",
    "    t = np.arange(0, (L - 1) * Ts, Ts)  # Time vector\n",
    "\n",
    "    global x \n",
    "    x = np.sin(2 * np.pi * (selected_Fo-30) * t) \\\n",
    "        + 0.8 * np.sin(2 * np.pi * (selected_Fo+20) * (t - 2)) \\\n",
    "        + np.sin(2 * np.pi * selected_Fo * t)  # 60 Hz component\n",
    "\n",
    "    # Original signal graph\n",
    "    signal = {\n",
    "        'data': [go.Scatter(x=t, y=x, mode='lines', line=dict(color='#00CC96'))],\n",
    "        'layout': go.Layout(\n",
    "            title='Time domain plot of x',\n",
    "            xaxis={'title': 't (sec)', 'showgrid': True, 'gridcolor': 'LightGrey'},\n",
    "            yaxis={'title': 'Amplitude', 'showgrid': True, 'gridcolor': 'LightGrey'},\n",
    "            margin={'l': 40, 'b': 40, 't': 40, 'r': 40},\n",
    "            hovermode='closest',\n",
    "            paper_bgcolor='white',\n",
    "            plot_bgcolor='white',\n",
    "            template='plotly_white'\n",
    "        )\n",
    "    }\n",
    "    \n",
    "    # Fourier transform\n",
    "    def nextpow2(i):\n",
    "        n = 1\n",
    "        while n < i:\n",
    "            n *= 2\n",
    "        return n\n",
    "\n",
    "    N = nextpow2(L)                 # Length of Fourier transform\n",
    "    Fo = Fs / N                     # Frequency resolution\n",
    "    f = np.arange(0, N) * Fo        # Frequency vector\n",
    "    X = np.fft.fft(x, N)            # Compute DFT for N points\n",
    "\n",
    "\n",
    "    freq_signal = {\n",
    "        'data': [go.Scatter(x=f[1:N], y=abs(X[1:N]), mode='lines', line=dict(color='#1F77B4'))],\n",
    "        'layout': go.Layout(\n",
    "            title='Frequency domain plot of x',\n",
    "            xaxis={'title': 'f (Hz)', 'showgrid': True, 'gridcolor': 'LightGrey'},\n",
    "            yaxis={'title': 'Amplitude', 'showgrid': True, 'gridcolor': 'LightGrey'},\n",
    "            margin={'l': 40, 'b': 40, 't': 40, 'r': 40},\n",
    "            hovermode='closest',\n",
    "            paper_bgcolor='white',\n",
    "            plot_bgcolor='white',\n",
    "            template='plotly_white'\n",
    "        )\n",
    "    }\n",
    "\n",
    "    # Shift frequencies to center\n",
    "    f = f - Fs / 2\n",
    "    X = np.fft.fftshift(X)\n",
    "\n",
    "    # Two-sided spectrum of x\n",
    "    f_shifted = f \n",
    "\n",
    "    double_signal = {\n",
    "        'data': [go.Scatter(x=f_shifted, y=abs(X), mode='lines', line=dict(color='#1F77B4'))],\n",
    "        'layout': go.Layout(\n",
    "            title='Two sided spectrum of x',\n",
    "            xaxis={'title': 'f (Hz)', 'showgrid': True, 'gridcolor': 'LightGrey'},\n",
    "            yaxis={'title': 'Amplitude', 'showgrid': True, 'gridcolor': 'LightGrey'},\n",
    "            margin={'l': 40, 'b': 40, 't': 40, 'r': 40},\n",
    "            hovermode='closest',\n",
    "            paper_bgcolor='white',\n",
    "            plot_bgcolor='white',\n",
    "            template='plotly_white'\n",
    "        )\n",
    "    }\n",
    "\n",
    "    # Calculate power\n",
    "    power = np.multiply(X, np.conj(X)) / N / L\n",
    "\n",
    "    spectrum_signal = {\n",
    "        'data': [go.Scatter(x=f_shifted, y=power.real, mode='lines', line=dict(color='#1F77B4'))],\n",
    "        'layout': go.Layout(\n",
    "            title='Periodogram',\n",
    "            xaxis={'title': 'Frequency (Hz)', 'showgrid': True, 'gridcolor': 'LightGrey'},\n",
    "            yaxis={'title': 'Power', 'showgrid': True, 'gridcolor': 'LightGrey'},\n",
    "            margin={'l': 40, 'b': 40, 't': 40, 'r': 40},\n",
    "            hovermode='closest',\n",
    "            paper_bgcolor='white',\n",
    "            plot_bgcolor='white',\n",
    "            template='plotly_white'\n",
    "        )\n",
    "    }\n",
    "\n",
    "    # Return this additional figure in the callback\n",
    "    return signal,freq_signal,double_signal,spectrum_signal\n",
    "\n",
    "    \n",
    "\n",
    "if __name__ == '__main__':\n",
    "    app10.run_server(debug=True, port=8059)\n"
   ]
  },
  {
   "cell_type": "code",
   "execution_count": 21,
   "metadata": {
    "tags": [
     "hide-input"
    ]
   },
   "outputs": [
    {
     "data": {
      "text/html": [
       "\n",
       "        <iframe\n",
       "            width=\"100%\"\n",
       "            height=\"650\"\n",
       "            src=\"http://127.0.0.1:8060/\"\n",
       "            frameborder=\"0\"\n",
       "            allowfullscreen\n",
       "            \n",
       "        ></iframe>\n",
       "        "
      ],
      "text/plain": [
       "<IPython.lib.display.IFrame at 0x2431d8b6a90>"
      ]
     },
     "metadata": {},
     "output_type": "display_data"
    }
   ],
   "source": [
    "# Part 2 Προσθέστε θόρυβο στο σήμα\n",
    "\n",
    "# Συμπληρώστε τον κώδικα για τη δημιουργία του σήματος θορύβου n με τη βοήθεια της συνάρτησης randn.\n",
    "# Το διάνυσμα θορύβου n θα πρέπει να είναι του ίδιου μεγέθους με αυτό της ημιτονοειδούς κυματομορφής x του πρώτου μέρους.\n",
    "# Σχεδιάστε το σήμα θορύβου στο διάστημα από 0 έως 0.2 sec και κλίμακα σε από -2 έως 2.\n",
    "# Υπολογίστε το περιοδόγραμμα του n και σχεδιάστε την πυκνότητα φάσματος ισχύος του σήματος θορύβου.\n",
    "# Προσθέστε το σήμα θορύβου και το x για να λάβετε το σήμα με θόρυβο s.\n",
    "# Σχεδιάσατε το σήμα με θόρυβο s στο πεδίο του χρόνου στην περιοχή 0 έως 0.2 sec \n",
    "# και κλίμακα από -2 έως 2 καθώς και το αμφίπλευρο φάσμα του.\n",
    "\n",
    "app11 = Dash(__name__, external_stylesheets=[dbc.themes.BOOTSTRAP])\n",
    "\n",
    "\n",
    "# Layout of the Dash app\n",
    "app11.layout = html.Div(\n",
    "    children=[\n",
    "        html.H2('Frequency sampling selector'),\n",
    "        dcc.Slider(\n",
    "            id='Fs_slider',\n",
    "            min=100,\n",
    "            max=2000,\n",
    "            step=100,\n",
    "            value=1000, \n",
    "            marks={i: f'{i} Hz' for i in range(100, 2000, 100)},\n",
    "            included=False,  # To remove the color fill\n",
    "            updatemode='drag',  # Update slider continuously while dragging\n",
    "            tooltip={'placement': 'bottom'}  # Show tooltip at the bottom\n",
    "        ),\n",
    "        dbc.Row(\n",
    "            children=[\n",
    "                dbc.Col(\n",
    "                    dcc.Graph(id='signal'),\n",
    "                    width=12\n",
    "                ),\n",
    "                dbc.Col(\n",
    "                    dcc.Graph(id='freq_signal'),\n",
    "                    width=12\n",
    "                ),\n",
    "                dbc.Col(\n",
    "                    dcc.Graph(id='double_signal'),\n",
    "                    width=12\n",
    "                ),\n",
    "                dbc.Col(\n",
    "                    dcc.Graph(id='spectrum_signal'),\n",
    "                    width=12\n",
    "                )\n",
    "            ]\n",
    "        )\n",
    "    ],\n",
    "    style={'backgroundColor': 'white', 'padding': '20px'}\n",
    ")\n",
    "\n",
    "# Callback to update graphs\n",
    "@app11.callback(\n",
    "    [Output('signal', 'figure'),\n",
    "     Output('freq_signal', 'figure'),\n",
    "     Output('double_signal', 'figure'),\n",
    "     Output('spectrum_signal', 'figure')],\n",
    "    [Input('Fs_slider', 'value')]\n",
    ")\n",
    "def update_graph(selected_frequencies):\n",
    "\n",
    "    rand_n = np.random.randn(np.size(x))\n",
    "    Fs=selected_frequencies\n",
    "    # Original signal graph\n",
    "    domain_n = {\n",
    "        'data': [go.Scatter(x=t, y=rand_n, mode='lines', line=dict(color='#00CC96'))],\n",
    "        'layout': go.Layout(\n",
    "            title='Time domain plot of n',\n",
    "            xaxis={'title': 't (sec)', 'showgrid': True, 'gridcolor': 'LightGrey', 'range': [0, 0.2]},\n",
    "            yaxis={'title': 'Amplitude', 'showgrid': True, 'gridcolor': 'LightGrey'},\n",
    "            margin={'l': 40, 'b': 40, 't': 40, 'r': 40},\n",
    "            hovermode='closest',\n",
    "            paper_bgcolor='white',\n",
    "            plot_bgcolor='white',\n",
    "            template='plotly_white'\n",
    "        )\n",
    "    }\n",
    "    \n",
    "\n",
    "    # Fourier transform\n",
    "    def nextpow2(i):\n",
    "        n = 1\n",
    "        while n < i:\n",
    "            n *= 2\n",
    "        return n\n",
    "    \n",
    "\n",
    "    # Correction for N calculation using bitwise operator\n",
    "    N = 2^nextpow2(L)\n",
    "    Fo = Fs / N   \n",
    "    f = (np.arange(0, N)) * Fo\n",
    "    f_shifted = f - Fs/2\n",
    "    rand_N = np.fft.fft(rand_n, N)\n",
    "    rand_N = np.fft.fftshift(rand_N)\n",
    "    power_n = np.multiply(rand_N, np.conj(rand_N)) / N / L\n",
    "\n",
    "    freq_domain = {\n",
    "        'data': [go.Scatter(x=f_shifted, y=power_n.real, mode='lines', line=dict(color='#1F77B4'))],\n",
    "        'layout': go.Layout(\n",
    "            title='Frequency domain plot of x',\n",
    "            xaxis={'title': 'f (Hz)', 'showgrid': True, 'gridcolor': 'LightGrey'},\n",
    "            yaxis={'title': 'Amplitude', 'showgrid': True, 'gridcolor': 'LightGrey'},\n",
    "            margin={'l': 40, 'b': 40, 't': 40, 'r': 40},\n",
    "            hovermode='closest',\n",
    "            paper_bgcolor='white',\n",
    "            plot_bgcolor='white',\n",
    "            template='plotly_white'\n",
    "        )\n",
    "    }\n",
    "    \n",
    "\n",
    "    s = x + rand_n\n",
    "    spectrum = {\n",
    "        'data': [go.Scatter(x=t, y=s, mode='lines', line=dict(color='#00CC96'))],\n",
    "        'layout': go.Layout(\n",
    "            title='Two sided spectrum of x',\n",
    "            xaxis={'title': 't (sec)', 'showgrid': True, 'gridcolor': 'LightGrey', 'range': [0, 0.2]},\n",
    "            yaxis={'title': 'Amplitude', 'showgrid': True, 'gridcolor': 'LightGrey'},\n",
    "            margin={'l': 40, 'b': 40, 't': 40, 'r': 40},\n",
    "            hovermode='closest',\n",
    "            paper_bgcolor='white',\n",
    "            plot_bgcolor='white',\n",
    "            template='plotly_white'\n",
    "        )\n",
    "    }\n",
    "    \n",
    "    S = np.fft.fft(s, N)\n",
    "    S = np.fft.fftshift(S)\n",
    "\n",
    "\n",
    "    spectrum_two_sided = {\n",
    "        'data': [go.Scatter(x=f_shifted, y=np.abs(S), mode='lines', line=dict(color='#1F77B4'))],\n",
    "        'layout': go.Layout(\n",
    "            title='Two sided spectrum of s',\n",
    "            xaxis={'title': 'f (Hz)', 'showgrid': True, 'gridcolor': 'LightGrey'},\n",
    "            yaxis={'title': 'Amplitude', 'showgrid': True, 'gridcolor': 'LightGrey'},\n",
    "            margin={'l': 40, 'b': 40, 't': 40, 'r': 40},\n",
    "            hovermode='closest',\n",
    "            paper_bgcolor='white',\n",
    "            plot_bgcolor='white',\n",
    "            template='plotly_white'\n",
    "        )\n",
    "    }\n",
    "\n",
    "\n",
    "    # Return this additional figure in the callback\n",
    "    return domain_n,freq_domain,spectrum,spectrum_two_sided\n",
    "\n",
    "    \n",
    "\n",
    "if __name__ == '__main__':\n",
    "    app11.run_server(debug=True, port=8060)"
   ]
  },
  {
   "cell_type": "code",
   "execution_count": 22,
   "metadata": {
    "tags": [
     "hide-input"
    ]
   },
   "outputs": [
    {
     "data": {
      "text/html": [
       "\n",
       "        <iframe\n",
       "            width=\"100%\"\n",
       "            height=\"650\"\n",
       "            src=\"http://127.0.0.1:8063/\"\n",
       "            frameborder=\"0\"\n",
       "            allowfullscreen\n",
       "            \n",
       "        ></iframe>\n",
       "        "
      ],
      "text/plain": [
       "<IPython.lib.display.IFrame at 0x2431d9d9990>"
      ]
     },
     "metadata": {},
     "output_type": "display_data"
    }
   ],
   "source": [
    "# Part 3. Πολλαπλασιασμός σημάτων\n",
    "\n",
    "# Συμπληρώστε τον κώδικα δημιουργίας ενός ημιτονοειδούς σήματος συχνότητας\n",
    "# 100 Hz και πολλαπλασιάστε με το προηγούμενο σήμα s.\n",
    "# Τα δύο σήματα θα πρέπει να είναι του ίδιου μεγέθους.\n",
    "# Σχεδιάστε το αποτέλεσμα στο πεδίο του χρόνου στην περιοχή 0 έως 0.2 sec\n",
    "# και κλίμακα από -2 έως 2 καθώς και στο πεδίο της συχνότητας\n",
    "# χρησιμοποιώντας τη συνάρτηση fftshift.\n",
    "\n",
    "\n",
    "app12 = Dash(__name__, external_stylesheets=[dbc.themes.BOOTSTRAP])\n",
    "\n",
    "\n",
    "# Layout of the Dash app\n",
    "app12.layout = html.Div(\n",
    "    children=[\n",
    "        html.H2('Frequency resolution selector'),\n",
    "        dcc.Slider(\n",
    "            id='Fο_slider',\n",
    "            min=10,\n",
    "            max=200,\n",
    "            step=10,\n",
    "            value=100, \n",
    "            marks={i: f'{i} Hz' for i in range(10, 200, 10)},\n",
    "            included=False,  # To remove the color fill\n",
    "            updatemode='drag',  # Update slider continuously while dragging\n",
    "            tooltip={'placement': 'bottom'}  # Show tooltip at the bottom\n",
    "        ),\n",
    "        dbc.Row(\n",
    "            children=[\n",
    "                dbc.Col(\n",
    "                    dcc.Graph(id='domain_y'),\n",
    "                    width=12\n",
    "                ),\n",
    "                dbc.Col(\n",
    "                    dcc.Graph(id='domain_f_y'),\n",
    "                    width=12\n",
    "                )\n",
    "            ]\n",
    "        )\n",
    "    ],\n",
    "    style={'backgroundColor': 'white', 'padding': '20px'}\n",
    ")\n",
    "\n",
    "# Callback to update graphs\n",
    "@app12.callback(\n",
    "    [Output('domain_y', 'figure'),\n",
    "    Output('domain_f_y', 'figure')],\n",
    "    [Input('Fο_slider', 'value')]\n",
    ")\n",
    "def update_graph(selected_frequencies):\n",
    "\n",
    "    Fο=selected_frequencies\n",
    "    z=np.sin(2*np.pi*Fο*t)\n",
    "    x = np.sin(2 * np.pi * 30 * t) \\\n",
    "        + 0.8 * np.sin(2 * np.pi * 80 * (t - 2)) \\\n",
    "        + np.sin(2 * np.pi * 60 * t)  # 60 Hz component\n",
    "    L = 1000  # Length of signal\n",
    "    rand_n = np.random.normal(0, 1, L)  # Example random noise\n",
    "    s = x + rand_n\n",
    "    y= np.multiply(z,s)\n",
    "\n",
    "    # Time domain plot of y\n",
    "\n",
    "    domain_y = {\n",
    "        'data': [go.Scatter(x=t, y=y, mode='lines', line=dict(color='#00CC96'))],\n",
    "        'layout': go.Layout(\n",
    "            title='Time domain plot of y',\n",
    "            xaxis={'title': 't (sec)', 'showgrid': True, 'gridcolor': 'LightGrey'},\n",
    "            yaxis={'title': 'Amplitude', 'showgrid': True, 'gridcolor': 'LightGrey'},\n",
    "            margin={'l': 40, 'b': 40, 't': 40, 'r': 40},\n",
    "            hovermode='closest',\n",
    "            paper_bgcolor='white',\n",
    "            plot_bgcolor='white',\n",
    "            template='plotly_white'\n",
    "        )\n",
    "    }\n",
    "    \n",
    "\n",
    "    # Fourier transform\n",
    "    def nextpow2(i):\n",
    "        n = 1\n",
    "        while n < i:\n",
    "            n *= 2\n",
    "        return n\n",
    "            \n",
    "    N = 2^nextpow2(L)\n",
    "    Fo = Fs / N   \n",
    "    f = (np.arange(0, N)) * Fo\n",
    "    Y = np.fft.fft(y, N)\n",
    "    f=f-Fs/2   \n",
    "    Y = np.fft.fftshift(Y)\n",
    "\n",
    "    # Frequency domain plot of y\n",
    "\n",
    "    domain_f_y = {\n",
    "        'data': [go.Scatter(x=f, y=np.abs(Y), mode='lines', line=dict(color='#1F77B4'))],\n",
    "        'layout': go.Layout(\n",
    "            title='Frequency domain plot of y',\n",
    "            xaxis={'title': 'f (Hz)', 'showgrid': True, 'gridcolor': 'LightGrey'},\n",
    "            yaxis={'title': 'Amplitude', 'showgrid': True, 'gridcolor': 'LightGrey'},\n",
    "            margin={'l': 40, 'b': 40, 't': 40, 'r': 40},\n",
    "            hovermode='closest',\n",
    "            paper_bgcolor='white',\n",
    "            plot_bgcolor='white',\n",
    "            template='plotly_white'\n",
    "        )\n",
    "    }\n",
    "\n",
    "    # Return this additional figure in the callback\n",
    "    return domain_y, domain_f_y\n",
    "\n",
    "    \n",
    "\n",
    "if __name__ == '__main__':\n",
    "    app12.run_server(debug=True, port=8063)"
   ]
  },
  {
   "cell_type": "markdown",
   "metadata": {},
   "source": [
    "## Μέρος 4:  Εφαρμογή Β\n",
    "\n",
    "Να γραφεί σε Python συνάρτηση φασματικής ανάλυσης, παρόμοια με την `signal.welch()`: θα δέχεται ως είσοδο διάνυσμα πραγματικού σήματος καθώς και τη συχνότητα δειγματοληψίας, $F_s$, και θα σχεδιάζει τη μονόπλευρη φασματική πυκνότητα του σήματος στην περιοχή $[0-F_s/2)$. Το σήμα θα τεμαχίζεται σε τμήματα μήκους ίσου με τη δύναμη του $2$ την πλησιέστερη στο $1/8$ του συνολικού του μήκους, αλλά όχι μικρότερου από 256. Τα τμήματα θα είναι επικαλυπτόμενα κατά $50\\%$. Το τελευταίο τμήμα, εάν υπολείπεται σε μήκος των άλλων, θα αγνοείται. Θα υπολογίζεται με FFT το φάσμα κάθε τμήματος και θα λαμβάνεται η μέση τιμή όλων των τμημάτων. Η συνάρτηση να δοκιμαστεί με το σήμα του παραδείγματος 1.1 και να συγκριθεί το αποτέλεσμα με το αντίστοιχο της `signal.welch()`."
   ]
  },
  {
   "cell_type": "code",
   "execution_count": 23,
   "metadata": {
    "tags": [
     "hide-input"
    ]
   },
   "outputs": [],
   "source": [
    "# Fourier transform\n",
    "def nextpow2(i):\n",
    "        n = 1\n",
    "        while n < i:\n",
    "            n *= 2\n",
    "        return n\n",
    "\n",
    "def pwelch(x,Fs):                    \n",
    "    Ts=1/Fs                    \n",
    "    L=np.size(x)+1                 \n",
    "    T=L*Ts                     \n",
    "    N = 2^nextpow2(L)\n",
    "    Fo=Fs/N                   \n",
    "    f=np.arange(0,N)*Fo       \n",
    "     \n",
    "    window_size = nextpow2(np.size(x)/8)\n",
    "    if (window_size<256):\n",
    "        window_size=256\n",
    "    windows = np.size(x)//(window_size//2)-1\n",
    "    indexer = np.arange(window_size)[None, :] + (window_size//2)*np.arange(windows)[:, None]\n",
    "    windowed_x = x[indexer]\n",
    "\n",
    "    avg_pwr=0\n",
    "    for window in windowed_x:\n",
    "        window = window * np.hanning(np.size(window))\n",
    "        L=np.size(window)+1                 \n",
    "        T=L*Ts                     \n",
    "        N = 2^nextpow2(L)\n",
    "        Fo=Fs/N                   \n",
    "        f=np.arange(0,N)*Fo\n",
    "        window_fft=np.fft.fft(window,N)\n",
    "        power=np.multiply(window_fft,np.conj(window_fft))/N/L\n",
    "        avg_pwr=avg_pwr+power\n",
    "    avg_pwr=avg_pwr/windows\n",
    "\n",
    "    fig = go.Figure()\n",
    "    fig.add_trace(go.Scatter(x=f[:N//2], y=avg_pwr[:N//2].real, mode='lines', line=dict(color='#1F77B4')))\n",
    "    fig.update_layout(title='Periodogram pwelch()', title_x=0.5, \n",
    "                      title_font=dict(size=20, color='black', family=\"Arial, sans-serif\"),\n",
    "                      xaxis_title='Frequency (Hz)', yaxis_title='Power',\n",
    "                      template='plotly_white')\n",
    "    fig.show()\n",
    "    \n",
    "    return f[np.arange(0,N//2)], avg_pwr[np.arange(0,N//2)]"
   ]
  },
  {
   "cell_type": "code",
   "execution_count": 24,
   "metadata": {
    "tags": [
     "hide-input"
    ]
   },
   "outputs": [
    {
     "ename": "NameError",
     "evalue": "name 'x' is not defined",
     "output_type": "error",
     "traceback": [
      "\u001b[1;31m---------------------------------------------------------------------------\u001b[0m",
      "\u001b[1;31mNameError\u001b[0m                                 Traceback (most recent call last)",
      "Cell \u001b[1;32mIn[24], line 2\u001b[0m\n\u001b[0;32m      1\u001b[0m Fs\u001b[38;5;241m=\u001b[39m\u001b[38;5;241m500\u001b[39m\n\u001b[1;32m----> 2\u001b[0m f1,Pxx1 \u001b[38;5;241m=\u001b[39m pwelch(\u001b[43mx\u001b[49m,Fs)\n\u001b[0;32m      3\u001b[0m f2,Pxx2 \u001b[38;5;241m=\u001b[39m signal\u001b[38;5;241m.\u001b[39mwelch(x,fs\u001b[38;5;241m=\u001b[39mFs)\n\u001b[0;32m      5\u001b[0m fig \u001b[38;5;241m=\u001b[39m go\u001b[38;5;241m.\u001b[39mFigure()\n",
      "\u001b[1;31mNameError\u001b[0m: name 'x' is not defined"
     ]
    }
   ],
   "source": [
    "Fs=500\n",
    "f1,Pxx1 = pwelch(x,Fs)\n",
    "f2,Pxx2 = signal.welch(x,fs=Fs)\n",
    "\n",
    "fig = go.Figure()\n",
    "fig.add_trace(go.Scatter(x=f2, y=Pxx2, mode='lines', line=dict(color='#1F77B4')))\n",
    "fig.update_layout(title='Periodogram signal.welch()', title_x=0.5, \n",
    "                  title_font=dict(size=20, color='black', family=\"Arial, sans-serif\"),\n",
    "                  xaxis_title='Frequency (Hz)', yaxis_title='Power',\n",
    "                  template='plotly_white')\n",
    "fig.show()"
   ]
  }
 ],
 "metadata": {
  "kernelspec": {
   "display_name": "Python 3 (ipykernel)",
   "language": "python",
   "name": "python3"
  },
  "language_info": {
   "codemirror_mode": {
    "name": "ipython",
    "version": 3
   },
   "file_extension": ".py",
   "mimetype": "text/x-python",
   "name": "python",
   "nbconvert_exporter": "python",
   "pygments_lexer": "ipython3",
   "version": "3.11.5"
  }
 },
 "nbformat": 4,
 "nbformat_minor": 4
}