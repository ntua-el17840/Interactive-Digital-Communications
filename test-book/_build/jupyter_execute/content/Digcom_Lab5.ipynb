{
 "cells": [
  {
   "cell_type": "markdown",
   "metadata": {
    "collapsed": true
   },
   "source": [
    "# Lab Exercise 5: QAM-PSK\n",
    "\n",
    "```{image} ../content/images/QAM16_Demonstration.gif\n",
    ":align: center\n",
    "```"
   ]
  },
  {
   "cell_type": "markdown",
   "metadata": {},
   "source": [
    "```{admonition} Live Code\n",
    "Press the following button to make python code interactive. It will connect you to a kernel once it says \"ready\" (might take a bit, especially the first time it runs).\n",
    "```\n",
    "\n",
    "<div style=\"text-align: center;\">\n",
    "  <button title=\"Launch thebe\" class=\"thebelab-button thebe-launch-button\" onclick=\"initThebe()\">Python Interactive Code</button>\n",
    "</div>\n"
   ]
  },
  {
   "cell_type": "markdown",
   "metadata": {},
   "source": [
    "## Questions \n",
    " <font size=\"3\">1  ) Plot a 64-QAM signal constellation of a complete rectangular grid, with the binary words next to each of its points marked [as in figure 5.4(b) of the Course Notes] with Gray coding.</font>\n"
   ]
  },
  {
   "cell_type": "markdown",
   "metadata": {},
   "source": [
    "Hint: Use the section of commands 26-34 from Code 5.2 of the Course Notes (repeated below,\n",
    "for convenience) to produce a mapping vector containing all points of the signal constellation\n",
    "in ascending codeword order: mapping(1) -> 00..00, mapping (2)->00..01, … With the\n",
    "scatterplot() command, plot the points of the signal constellation and with appropriate\n",
    "text addition commands write near each point the corresponding code word [e.g. the\n",
    "command text(3,3,num2str(de2bi(4,3,'left-msb')), 'FontSize', 6); writes\n",
    "the codeword “1 0 0” at point (3,3) of the figure with font size 6].\n"
   ]
  },
  {
   "cell_type": "code",
   "execution_count": 1,
   "metadata": {
    "tags": [
     "thebe-init"
    ]
   },
   "outputs": [],
   "source": [
    "import numpy as np\n",
    "import matplotlib.pyplot as plt\n",
    "from ipywidgets import VBox, Output, Dropdown\n",
    "import ipywidgets as widgets\n",
    "import random\n",
    "import scipy.signal\n",
    "from math import log\n",
    "import array\n",
    "from scipy.signal import upfirdn,decimate\n",
    "from scipy.special import erfc"
   ]
  },
  {
   "cell_type": "markdown",
   "metadata": {},
   "source": [
    "`````{tab} Python\n",
    "````python\n",
    "# The mapping vector for M-QAM Gray coding\n",
    "# It is for a complete rectangular constellation, of dimension M=L^2\n",
    "# l=log2(L): number of bits per dimension (inphase, quadrature)\n",
    "core = np.array([1+1j, 1-1j, -1+1j, -1-1j]) # trivial case, M=4\n",
    "mapping = core\n",
    "\n",
    "if (l > 1):\n",
    "    for k in range (1,l):\n",
    "        mapping = mapping + k*2*core[0]\n",
    "        mapping = np.array([mapping, np.conj(mapping)])\n",
    "        mapping = np.array([mapping, (-np.conj(mapping))])\n",
    "        \n",
    "mapping = mapping.flatten().T\n",
    "\n",
    "````\n",
    "`````\n",
    "`````{tab} Matlab\n",
    "````matlab\n",
    "\n",
    "% The mapping vector for M-QAM Gray coding\n",
    "% It is for a complete rectangular constellation, of dimension M=L^2\n",
    "% l=log2(L): number of bits per dimension (inphase, quadrature)\n",
    "core=[1+i;1-i;-1+i;-1-i]; % trivial case, M=4\n",
    "mapping=core;\n",
    "if(l>1)\n",
    " for j=1:l-1\n",
    " mapping=mapping+j*2*core(1);\n",
    " mapping=[mapping;conj(mapping)];\n",
    " mapping=[mapping;-conj(mapping)];\n",
    " end\n",
    "end;\n",
    "\n",
    "\n",
    "````\n",
    "`````"
   ]
  },
  {
   "cell_type": "code",
   "execution_count": 2,
   "metadata": {
    "tags": [
     "hide-code-cell",
     "thebe-init"
    ]
   },
   "outputs": [
    {
     "data": {
      "application/vnd.jupyter.widget-view+json": {
       "model_id": "2b5959c8620e478cbbf0478b31c02693",
       "version_major": 2,
       "version_minor": 0
      },
      "text/plain": [
       "VBox(children=(Dropdown(description='Select L:', index=2, options=(2, 4, 8), value=8), Output()))"
      ]
     },
     "metadata": {},
     "output_type": "display_data"
    }
   ],
   "source": [
    "def plot_qam_constellation(L):\n",
    "    M = L * L\n",
    "    l = int(np.log2(L))\n",
    "    \n",
    "    # Core QAM constellation points\n",
    "    core = np.array([1+1j, 1-1j, -1+1j, -1-1j])\n",
    "    mapping = core\n",
    "\n",
    "    if (l > 1):\n",
    "        for k in range (1,l):\n",
    "            mapping = mapping + k*2*core[0]\n",
    "            mapping = np.array([mapping, np.conj(mapping)])\n",
    "            mapping = np.array([mapping, (-np.conj(mapping))])\n",
    "            \n",
    "    mapping = mapping.flatten().T\n",
    "\n",
    "    # Gray code labels\n",
    "    labels = [bin(i)[2:].zfill(2 * l) for i in range(M)]\n",
    "\n",
    "    # Plotting the constellation\n",
    "    with out:\n",
    "        out.clear_output(wait=True)\n",
    "        plt.figure(figsize=(10, 7))\n",
    "        plt.scatter(mapping.real, mapping.imag)\n",
    "        dx, dy = -0.5, 0.3  # Label offsets\n",
    "        for i in range(len(labels)):\n",
    "            plt.text(mapping[i].real + dx, mapping[i].imag + dy, labels[i], bbox=dict(facecolor='red', alpha=0.5))\n",
    "        \n",
    "        plt.grid(True)\n",
    "        plt.xlim(-1 * L, 1 * L)\n",
    "        plt.ylim(-1 * L, 1 * L)\n",
    "        plt.title(f\"{L}x{L} QAM Constellation\")\n",
    "        plt.xlabel(\"In-phase\")\n",
    "        plt.ylabel(\"Quadrature\")\n",
    "        plt.show()\n",
    "\n",
    "# Dropdown for selecting L\n",
    "L_dropdown = Dropdown(options=[2, 4, 8], value=8, description='Select L:')\n",
    "\n",
    "# Output widget for the plot\n",
    "out = Output()\n",
    "\n",
    "# Display widgets\n",
    "vbox = VBox([L_dropdown, out])\n",
    "display(vbox)\n",
    "\n",
    "# Update plot based on dropdown selection\n",
    "def on_value_change(change):\n",
    "    plot_qam_constellation(change['new'])\n",
    "\n",
    "L_dropdown.observe(on_value_change, names='value')\n",
    "\n",
    "# Initial plot\n",
    "plot_qam_constellation(L_dropdown.value)"
   ]
  },
  {
   "cell_type": "markdown",
   "metadata": {},
   "source": [
    "<font size=\"3\"> 2)We have available the 6.75-9.25 MHz bandpass channel and want to transmit\n",
    "at a rate of 10 Mbps. Select a complete rectangular constellation and Nyquist\n",
    "signaling M-QAM system suitable for this purpose. Choose the smallest\n",
    "possible M and an appropriate roll-off value to take advantage of all available\n",
    "bandwidth. Simulate transmitter and receiver and plot the Pb vs Eb/No curve\n",
    "theoretically and experimentally. The sampling frequency must be sufficiently\n",
    "high so that the signals of all modulation-demodulation stages can be\n",
    "represented without aliasing.</font>\n",
    "    \n",
    "Connection with theory: The transmission rate, R (bits/s), is related to the symbol rate, 1/Τ\n",
    "(also called baud rate) and the size of the signal constellation, M, with the relation\n",
    "$$\n",
    "\n",
    "\\frac{R}{\\log_2 L} = \\frac{l}{T} \n",
    "\n",
    "$$\n",
    "\n",
    "On the other hand, the required bandwidth for bandpass transmission with Nyquist signaling\n",
    "is equal to\n",
    "$$\n",
    "\n",
    "W = \\frac{1}{T}(1+\\alpha)\n",
    "\n",
    "$$\n",
    "where α is the roll-off factor of the Nyquist filter used. Combining the\n",
    "above relations, we conclude that the size of the constellation must satisfy the inequality: \n",
    "$$\n",
    "\n",
    "log_2 M >= \\frac{R}{W}(1+\\alpha), 0<a<=1\n",
    "\n",
    "$$\n"
   ]
  },
  {
   "cell_type": "markdown",
   "metadata": {},
   "source": [
    "```{image} ../content/images/Lab5_1.png\n",
    ":align: center\n",
    "```"
   ]
  },
  {
   "cell_type": "code",
   "execution_count": 3,
   "metadata": {
    "tags": [
     "remove-input",
     "remove-output"
    ]
   },
   "outputs": [
    {
     "name": "stdout",
     "output_type": "stream",
     "text": [
      "Result: a = 0.25\n"
     ]
    }
   ],
   "source": [
    "W=(9.25-6.75)*(10**6)\n",
    "R=12*(10**6)\n",
    "M=2**(R/W)\n",
    "M=64 #θέλουμε να είναι πλήρους ορθογωνικού πλέγματος οπότε επιλέγουμε αυτή την τιμή \n",
    "a=np.log2(M)*W/R-1\n",
    "print(\"Result: a =\", a) #roll-off\n",
    "\n"
   ]
  },
  {
   "cell_type": "markdown",
   "metadata": {},
   "source": [
    "Result: a = 0.25"
   ]
  },
  {
   "cell_type": "code",
   "execution_count": 4,
   "metadata": {},
   "outputs": [
    {
     "ename": "NameError",
     "evalue": "name 'L' is not defined",
     "output_type": "error",
     "traceback": [
      "\u001b[1;31m---------------------------------------------------------------------------\u001b[0m",
      "\u001b[1;31mNameError\u001b[0m                                 Traceback (most recent call last)",
      "Cell \u001b[1;32mIn[4], line 126\u001b[0m\n\u001b[0;32m    124\u001b[0m \u001b[38;5;28;01mfor\u001b[39;00m i \u001b[38;5;129;01min\u001b[39;00m \u001b[38;5;28mrange\u001b[39m(\u001b[38;5;241m1\u001b[39m,\u001b[38;5;241m15\u001b[39m):\n\u001b[0;32m    125\u001b[0m     ber_exp\u001b[38;5;241m=\u001b[39mber_exp\u001b[38;5;241m+\u001b[39m[ber_64qam(i)]\n\u001b[1;32m--> 126\u001b[0m     ber_th \u001b[38;5;241m=\u001b[39m ber_th \u001b[38;5;241m+\u001b[39m[((\u001b[43mL\u001b[49m \u001b[38;5;241m-\u001b[39m \u001b[38;5;241m1\u001b[39m) \u001b[38;5;241m/\u001b[39m(L\u001b[38;5;241m*\u001b[39mnp\u001b[38;5;241m.\u001b[39mlog2(L)) \u001b[38;5;241m*\u001b[39m scipy\u001b[38;5;241m.\u001b[39mspecial\u001b[38;5;241m.\u001b[39merfc(np\u001b[38;5;241m.\u001b[39msqrt(\u001b[38;5;241m3\u001b[39m \u001b[38;5;241m*\u001b[39m np\u001b[38;5;241m.\u001b[39mlog2(L) \u001b[38;5;241m/\u001b[39m (L \u001b[38;5;241m*\u001b[39m L \u001b[38;5;241m-\u001b[39m \u001b[38;5;241m1\u001b[39m) \u001b[38;5;241m*\u001b[39m \u001b[38;5;241m10\u001b[39m\u001b[38;5;241m*\u001b[39m\u001b[38;5;241m*\u001b[39m(i\u001b[38;5;241m/\u001b[39m\u001b[38;5;241m10\u001b[39m))))]\n\u001b[0;32m    128\u001b[0m plt\u001b[38;5;241m.\u001b[39mfigure(figsize\u001b[38;5;241m=\u001b[39m(\u001b[38;5;241m18\u001b[39m, \u001b[38;5;241m16\u001b[39m))\n\u001b[0;32m    129\u001b[0m plt\u001b[38;5;241m.\u001b[39msemilogy(ber_exp,\u001b[38;5;124m'\u001b[39m\u001b[38;5;124mo\u001b[39m\u001b[38;5;124m'\u001b[39m)\n",
      "\u001b[1;31mNameError\u001b[0m: name 'L' is not defined"
     ]
    }
   ],
   "source": [
    "def rootRaisedCosine(nsamp, roll_off, delay):\n",
    "    F0 = 0.5 / nsamp\n",
    "    Fd = 1\n",
    "    Fs = Fd * nsamp\n",
    "    Td = 1 / Fd\n",
    "    Ts = 1 / Fs\n",
    "    F1 = F0 * (1 - roll_off)\n",
    "    F2 = F0 * (1 + roll_off)\n",
    "    filter_order = 2 * nsamp * delay\n",
    "\n",
    "    t = np.arange(0, filter_order, Td)\n",
    "    h = []\n",
    "    for i in range(len(t)):\n",
    "        t_shifted = t[i] - filter_order / 2\n",
    "        if t_shifted == 0:\n",
    "            h.append(np.sqrt(2 * F0) *(1 + roll_off * ((4 / np.pi) - 1)))\n",
    "        elif t_shifted == 1 / 8 / roll_off / F0 or t_shifted == - 1 / 8 / roll_off / F0 :\n",
    "            h.append((roll_off * np.sqrt(F0)) * ((1 + 2 / np.pi) * np.sin(np.pi / 4 / roll_off) + (1 - 2 / np.pi) * np.cos(np.pi / 4 / roll_off)))\n",
    "        else:\n",
    "            factor1 = np.sqrt(2 * F0) / (1 - 64 * roll_off* roll_off * F0 * F0 * t_shifted * t_shifted)\n",
    "            factor2 = np.sin(2 * np.pi * F1 * t_shifted) / (2 * np.pi * F0 * t_shifted)\n",
    "            factor3 = (4 * roll_off / np.pi) * np.cos(2 * np.pi * F2 * t_shifted) \n",
    "            h.append(factor1 * (factor2 + factor3))\n",
    "\n",
    "\n",
    "  #  plt.plot(t,h)\n",
    "   # plt.grid()\n",
    "    #plt.show()\n",
    "    \n",
    "    return h\n",
    "\n",
    "def ber_64qam(EbNo):\n",
    "    a=0.25\n",
    "    L=8\n",
    "    l=np.log2(L)\n",
    "    k=2*l\n",
    "    M=64\n",
    "    Nsymb=30000\n",
    "    # προσομοίωση πομπού\n",
    "    nsamp=16\n",
    "    fc=4\n",
    "    SNR=EbNo-10*np.log10(nsamp/k/2) #σε db\n",
    "    core=[1+1j,1-1j,-1+1j,-1-1j]\n",
    "    mapping=core[:]\n",
    "    if(l>1):\n",
    "        for j in range(1,int(l)):\n",
    "            mapping=(list(map(lambda x:x+j*2*core[0],mapping)))\n",
    "            conj_arr=np.conj(mapping)\n",
    "            mapping= mapping + conj_arr.tolist()\n",
    "            conj_arr=-np.conj(mapping)\n",
    "            mapping= mapping + conj_arr.tolist()\n",
    "            \n",
    "    #παράγουμε τυχαία ακολουθία\n",
    "    x=np.floor(2*np.random.rand(int(k*Nsymb),1))\n",
    "    x_temp=np.reshape(x,(int(len(x)/(k)),int(k)))\n",
    "    xsym=[]\n",
    "\n",
    "    # χωρίζω τη λίστα σε επιμέρους λίστες και βάζω τα περιεχόμενα \n",
    "    #της καθεμίας σε ένα string ώστε με την εντολή int() να \n",
    "    # μετατραπεί από binary σε decimal\n",
    "    for i in range(0,len(x_temp)):\n",
    "        my_str=''\n",
    "        y=x_temp[i]\n",
    "        for j in range(0,int(np.log2(M))):\n",
    "            my_str=my_str+str(int(y[j]))\n",
    "        a=int(my_str, 2)\n",
    "        xsym=xsym+[a]\n",
    "\n",
    "    y=[]\n",
    "    for n in range(0,len(xsym)):\n",
    "        y=y + [mapping[xsym[n]]]\n",
    "    \n",
    "    delay=10\n",
    "    filtorder= delay*nsamp*2\n",
    "    rolloff=0.25\n",
    "\n",
    "    shaping_filter=rootRaisedCosine(nsamp, rolloff, delay)\n",
    "    ytx=upfirdn([1], y, nsamp) #upsample\n",
    "    ytx=np.convolve(ytx,shaping_filter)\n",
    "    m=np.arange(1,len(ytx)+1)\n",
    "    s=np.real(np.multiply(ytx,np.exp(1j*2*np.pi*fc*m/nsamp)))\n",
    "    \n",
    "    s_matrix=np.matrix(s) #ανάστροφος\n",
    "    s_matrix=s_matrix.getH()\n",
    "    s_list=s_matrix.tolist()\n",
    "    Ps=10*np.log10(np.matmul(s,s_list)/len(s)) #ισχύς μιγαδικού σήματος σε db\n",
    "    Pn=Ps-SNR\n",
    "\n",
    "    n=np.sqrt(10**(Pn/10))*np.random.randn(1,len(ytx))\n",
    "    snoisy=s+n\n",
    "    \n",
    "    #δέκτης\n",
    "    yrx=2*np.multiply(snoisy,np.exp(-1j*2*np.pi*fc*m/nsamp))\n",
    "    yrx=yrx[0,:]\n",
    "    yrx=np.convolve(yrx,shaping_filter)\n",
    "    yrx=yrx[::nsamp] #downsample \n",
    "    \n",
    "    yrx=yrx[2*delay+0:len(yrx)-2*delay]\n",
    "    \n",
    "    yi=yrx.copy()\n",
    "    yq=np.imag(yi)\n",
    "    yi=np.real(yi)\n",
    "    \n",
    "    xrx=[]\n",
    "    q=np.arange(-L+1,L,2)\n",
    "\n",
    "    for n in range(len(yrx)):\n",
    "        differences = np.abs(q-yi[n]) # Πίνακας με τις διαφορές του σήματος από τα επίπεδα\n",
    "        m = min(differences)\n",
    "        [index], = np.where(differences == m)\n",
    "        yi[n] = q[index]\n",
    "        differences = np.abs(q-yq[n]) # Πίνακας με τις διαφορές του σήματος από τα επίπεδα\n",
    "        m = min(differences)\n",
    "        [index], = np.where(differences == m)\n",
    "        yq[n] = q[index]\n",
    "    error = 0\n",
    "    for i in range(len(yrx)):\n",
    "        if y[i] != yi[i]+yq[i]*1j:\n",
    "            error += 1 \n",
    "    return (error/len(x))\n",
    "    \n",
    "ber_exp=[]\n",
    "ber_th=[]\n",
    "for i in range(1,15):\n",
    "    ber_exp=ber_exp+[ber_64qam(i)]\n",
    "    ber_th = ber_th +[((L - 1) /(L*np.log2(L)) * scipy.special.erfc(np.sqrt(3 * np.log2(L) / (L * L - 1) * 10**(i/10))))]\n",
    "\n",
    "plt.figure(figsize=(18, 16))\n",
    "plt.semilogy(ber_exp,'o')\n",
    "plt.semilogy(ber_th)\n",
    "plt.legend(['Simulation', 'Theoretical'])\n",
    "plt.xlabel('Eb/N0(db)')\n",
    "plt.ylabel('Bit Error Probability')\n",
    "plt.title('BER curve for 64-QAM')\n",
    "plt.grid(which='both')\n",
    "plt.show()"
   ]
  },
  {
   "cell_type": "markdown",
   "metadata": {},
   "source": [
    "<font size=\"3\">  3) If, for the system in question 2, the maximum normalized signal-to-noise ratio,\n",
    "Eb/No, that you can achieve at the receiver, is 10 db, and the channel encoder\n",
    "you have requires that the bit error probability does not exceed 0.005, fall back\n",
    "into a lower-order, rectangular grid QAM system again, without changing the\n",
    "other signaling parameters. What is the maximum baud rate now? Plot the\n",
    "power spectrum density of your signals again and see if there are any\n",
    "differences. Examine if a less fall back in a non-rectangular grid system could\n",
    "satisfy the required transmission quality..</font>"
   ]
  },
  {
   "cell_type": "code",
   "execution_count": null,
   "metadata": {},
   "outputs": [
    {
     "data": {
      "image/png": "[encoded data removed]",
      "text/plain": [
       "<Figure size 1800x1600 with 1 Axes>"
      ]
     },
     "metadata": {},
     "output_type": "display_data"
    }
   ],
   "source": [
    "# για μέγιστο Eb/N0=10db και μέγιστο Pb=0.002 βρίσκουμε από το σχήμα 5.11 \n",
    "# ότι το κατάλληλο σύστημα είναι αυτό για Μ=16\n",
    "# ο μέγιστος ρυθμός απόδοσης είναι: R<=log2(M)*W/(1+a)=8Mbps\n",
    "\n",
    "\n",
    "def MQAM(L):\n",
    "    a=0.25\n",
    "    l=np.log2(L)\n",
    "    k=2*l\n",
    "    M=L**2\n",
    "    Nsymb=30000\n",
    "    # προσομοίωση πομπού\n",
    "    nsamp=16\n",
    "    fc=4\n",
    "    SNR=L-10*np.log10(nsamp/k/2) #σε db\n",
    "    core=[1+1j,1-1j,-1+1j,-1-1j]\n",
    "    mapping=core[:]\n",
    "    if(l>1):\n",
    "        for j in range(1,int(l)):\n",
    "            mapping=(list(map(lambda x:x+j*2*core[0],mapping)))\n",
    "            conj_arr=np.conj(mapping)\n",
    "            mapping= mapping + conj_arr.tolist()\n",
    "            conj_arr=-np.conj(mapping)\n",
    "            mapping= mapping + conj_arr.tolist()\n",
    "\n",
    "    #παράγουμε τυχαία ακολουθία\n",
    "    x=np.floor(2*np.random.rand(int(k*Nsymb),1))\n",
    "    x_temp=np.reshape(x,(int(len(x)/(k)),int(k)))\n",
    "    xsym=[]\n",
    "\n",
    "    # χωρίζω τη λίστα σε επιμέρους λίστες και βάζω τα περιεχόμενα \n",
    "    #της καθεμίας σε ένα string ώστε με την εντολή int() να \n",
    "    # μετατραπεί από binary σε decimal\n",
    "    for i in range(0,len(x_temp)):\n",
    "        my_str=''\n",
    "        y=x_temp[i]\n",
    "        for j in range(0,int(np.log2(M))):\n",
    "            my_str=my_str+str(int(y[j]))\n",
    "        a=int(my_str, 2)\n",
    "        xsym=xsym+[a]\n",
    "\n",
    "    y=[]\n",
    "    for n in range(0,len(xsym)):\n",
    "        y=y + [mapping[xsym[n]]]\n",
    "\n",
    "    delay=10\n",
    "    filtorder= delay*nsamp*2\n",
    "    rolloff=0.25\n",
    "\n",
    "    shaping_filter=rootRaisedCosine(nsamp, rolloff, delay)\n",
    "    ytx=upfirdn([1], y, nsamp) #upsample\n",
    "    ytx=np.convolve(ytx,shaping_filter)\n",
    "    m=np.arange(1,len(ytx)+1)\n",
    "    s=np.real(np.multiply(ytx,np.exp(1j*2*np.pi*fc*m/nsamp)))\n",
    "\n",
    "    s_matrix=np.matrix(s) #ανάστροφος\n",
    "    s_matrix=s_matrix.getH()\n",
    "    s_list=s_matrix.tolist()\n",
    "    Ps=10*np.log10(np.matmul(s,s_list)/len(s)) #ισχύς μιγαδικού σήματος σε db\n",
    "    Pn=Ps-SNR\n",
    "\n",
    "    n=np.sqrt(10**(Pn/10))*np.random.randn(1,len(ytx))\n",
    "    snoisy=s+n\n",
    "\n",
    "    #δέκτης\n",
    "    yrx=2*np.multiply(snoisy,np.exp(-1j*2*np.pi*fc*m/nsamp))\n",
    "    yrx=yrx[0,:]\n",
    "    yrx=np.convolve(yrx,shaping_filter)\n",
    "    f, Pxx_den = scipy.signal.welch(np.real(yrx), window='hamming', nperseg=8196)\n",
    "    return f,Pxx_den\n",
    "\n",
    "# Υπολογίζουμε την φασματική πυκνότητα ισχύος του ληφθέντος σήματος\n",
    "f,Pxx_den=MQAM(4)\n",
    "Pxx_den = 10 * np.log10(Pxx_den)\n",
    "fig = plt.figure(figsize=(18, 16))\n",
    "plt.plot(f, Pxx_den,'r')\n",
    "f,Pxx_den=MQAM(8)\n",
    "Pxx_den = 10 * np.log10(Pxx_den)\n",
    "plt.plot(f, Pxx_den)\n",
    "plt.grid()\n",
    "plt.title('Φασματική πυκνότητα ισχύος του ληφθέντος σήματος')\n",
    "plt.xlabel('Normalized frequency')\n",
    "plt.ylabel('Power/frequency')\n",
    "plt.legend(['Μ=16', 'Μ=64'])\n",
    "plt.show()\n"
   ]
  },
  {
   "cell_type": "markdown",
   "metadata": {},
   "source": [
    "<font size=\"3\">4) How much can the bit rate in question 3 be increased if the roll-off of the\n",
    "Nyquist filter can be reduced by 50%;</font>"
   ]
  },
  {
   "cell_type": "code",
   "execution_count": null,
   "metadata": {},
   "outputs": [
    {
     "name": "stdout",
     "output_type": "stream",
     "text": [
      "Nέος ρυθμός μετάδοσης 13.333333333333334 Mbps\n"
     ]
    }
   ],
   "source": [
    "#Για 64-QAM  M=64\n",
    "W=(9.25-6.75)*(10**6)\n",
    "a=0.125 # μειωθεί στο μισό του το roll-off του φίλτρου Nyquist\n",
    "R=W*np.log2(64)/(1+a)\n",
    "print(\"Nέος ρυθμός μετάδοσης\" ,R/(10**6),\"Mbps\")\n"
   ]
  },
  {
   "cell_type": "markdown",
   "metadata": {},
   "source": [
    "<font size=\"3\">5) (Optional) Simulate a PSK system, of the same modulation order and with the\n",
    "same roll-off factor of Nyquist signals, as the QAM of question 3. Compare with\n",
    "the latter (a) in terms of BER, (b) in terms of bandwidth, after designing the\n",
    "BER-EbNo curve and the spectrum of the generated signal. Gray coding should\n",
    "also be used here, implementing the procedure described in Frame 5.10 of the\n",
    "Course Notes, with the help of the code:</font>"
   ]
  },
  {
   "cell_type": "markdown",
   "metadata": {},
   "source": [
    "`````{tab} Python\n",
    "````python\n",
    "# The mapping vector for M-QAM Gray coding\n",
    "# It is for a complete rectangular constellation, of dimension M=L^2\n",
    "# l=log2(L): number of bits per dimension (inphase, quadrature)\n",
    "core = np.array([1+1j, 1-1j, -1+1j, -1-1j]) # trivial case, M=4\n",
    "mapping = core\n",
    "\n",
    "if (l > 1):\n",
    "    for k in range (1,l):\n",
    "        mapping = mapping + k*2*core[0]\n",
    "        mapping = np.array([mapping, np.conj(mapping)])\n",
    "        mapping = np.array([mapping, (-np.conj(mapping))])\n",
    "        \n",
    "mapping = mapping.flatten().T\n",
    "\n",
    "````\n",
    "`````\n",
    "`````{tab} Matlab\n",
    "````matlab\n",
    "% The mapping vector for M-PSK Gray coding\n",
    "k=log2(M);\n",
    "ph1=[pi/4];\n",
    "theta=[ph1; -ph1; pi-ph1; -pi+ph1];\n",
    "mapping=exp(1j*theta);\n",
    "if(k>2)\n",
    " for j=3:k\n",
    " theta=theta/2;\n",
    " mapping=exp(1j*theta);\n",
    " mapping=[mapping; -conj(mapping)];\n",
    " theta=real(log(mapping)/1j);\n",
    " end\n",
    "end\n",
    "\n",
    "````\n",
    "`````"
   ]
  }
 ],
 "metadata": {
  "kernelspec": {
   "display_name": "Python 3",
   "language": "python",
   "name": "python3"
  },
  "language_info": {
   "codemirror_mode": {
    "name": "ipython",
    "version": 3
   },
   "file_extension": ".py",
   "mimetype": "text/x-python",
   "name": "python",
   "nbconvert_exporter": "python",
   "pygments_lexer": "ipython3",
   "version": "3.8.18"
  }
 },
 "nbformat": 4,
 "nbformat_minor": 2
}