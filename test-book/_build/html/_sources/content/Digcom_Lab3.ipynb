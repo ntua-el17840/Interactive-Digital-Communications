{
 "cells": [
  {
   "cell_type": "markdown",
   "metadata": {},
   "source": [
    "# Lab Exercise 3: Matched Filters and L-ASK\n",
    "After studying Chapter 3 and, in particular, Example 3.2 of the notes, copy Code 3.3 of this example into a file named ask_errors.m (the code is repeated here for convenience). Then execute the following:"
   ]
  },
  {
   "cell_type": "markdown",
   "metadata": {},
   "source": [
    "## Setup"
   ]
  },
  {
   "cell_type": "markdown",
   "metadata": {},
   "source": [
    "```{admonition} Live Code\n",
    "Press the following button to make python code interactive. It will connect you to a kernel once it says \"ready\" (might take a bit, especially the first time it runs).\n",
    "```\n",
    "\n",
    "<div style=\"text-align: center;\">\n",
    "  <button title=\"Launch thebe\" class=\"thebelab-button thebe-launch-button\" onclick=\"initThebe()\">Python Interactive Code</button>\n",
    "</div>\n"
   ]
  },
  {
   "cell_type": "markdown",
   "metadata": {},
   "source": [
    "#### Importing packages we will need later in Python"
   ]
  },
  {
   "cell_type": "code",
   "execution_count": 1,
   "metadata": {
    "tags": [
     "thebe-init"
    ]
   },
   "outputs": [],
   "source": [
    "from scipy import signal\n",
    "import numpy as np\n",
    "import matplotlib.pyplot as plt\n",
    "from scipy.special import erfc\n",
    "import ipywidgets as widgets\n",
    "from IPython.display import display, clear_output\n",
    "from scipy.signal import upfirdn, convolve\n",
    "from ipywidgets import Checkbox, Button, Output, VBox, HBox, Dropdown\n",
    "\n"
   ]
  },
  {
   "cell_type": "markdown",
   "metadata": {},
   "source": [
    "## Part 1: Theory"
   ]
  },
  {
   "cell_type": "markdown",
   "metadata": {},
   "source": [
    "#### Code 3.3: Calculation of the probability of erroneous symbol for coherent ASK with orthogonal"
   ]
  },
  {
   "cell_type": "markdown",
   "metadata": {
    "vscode": {
     "languageId": "matlab"
    }
   },
   "source": [
    "````` {admonition} Code 3.3\n",
    "````{tab} Python\n",
    "```python\n",
    "\n",
    "import numpy as np\n",
    "\n",
    "def ask_errors(k, M, nsamp, EbN0_db):\n",
    "    # L is the number of different amplitude levels (2^k)\n",
    "    L = 2**k\n",
    "    # Calculate SNR in dB adjusting for number of samples and bits per symbol\n",
    "    SNR_db = EbN0_db - 10*np.log10(nsamp/2/k)\n",
    "    # Convert SNR from dB to linear scale\n",
    "    SNR = 10 ** (SNR_db * 0.1)\n",
    "    # Generate a vector of random symbols with amplitudes {±1, ±3, ... ±(L-1)}\n",
    "    x = 2*np.floor(L*np.random.rand(M)) - L + 1\n",
    "    # Theoretical signal power\n",
    "    P_x = (L**2-1) / 3\n",
    "    # Measured signal power (for verification)\n",
    "    Measured_x = np.sum(x*x)/len(x)\n",
    "\n",
    "    # Generate oversampled signal y by repeating each symbol nsamp times\n",
    "    y = []\n",
    "    for i in range(len(x)):\n",
    "        for j in range(nsamp):\n",
    "            y.append(x[i])\n",
    "    y = np.array(y)\n",
    "\n",
    "    # Generate noise with zero mean and variance based on the signal power and SNR\n",
    "    noise = np.random.normal(0, np.sqrt(Measured_x/SNR), len(y))\n",
    "    # Add noise to the signal\n",
    "    y_noisy = y + noise\n",
    "\n",
    "    # Reshape the noisy signal for matched filtering\n",
    "    y = np.reshape(y_noisy, (M, nsamp))\n",
    "    # Create a matched filter with coefficients all ones\n",
    "    matched = np.ones((nsamp, 1))\n",
    "    # Apply matched filter to the signal\n",
    "    z = np.matmul(y, matched)\n",
    "    z = z / nsamp\n",
    "    # Levels for decision making {±1, ±3, ... ±(L-1)}\n",
    "    l = np.arange(-L+1, L, 2)\n",
    "\n",
    "    # Decision making: for each symbol, find the closest amplitude level\n",
    "    z = z[:, 0]\n",
    "    for i in range(len(z)):\n",
    "        differences = np.abs(l - z[i]) # Array of differences from the signal to the levels\n",
    "        m = min(differences)\n",
    "        [index], = np.where(differences == m)\n",
    "        z[i] = l[index]\n",
    "    \n",
    "    # Count errors: compare the decided symbols with the original symbols\n",
    "    errors = 0\n",
    "    for i in range(len(z)):\n",
    "        if x[i] != z[i]:\n",
    "            errors += 1\n",
    "    \n",
    "    # Return the total number of symbol errors\n",
    "    return errors\n",
    "\n",
    "```\n",
    "````\n",
    "````{tab} Matlab\n",
    "```matlab\n",
    "\n",
    "function errors=ask_errors(k, Nsymb, nsamp, EbNo)\n",
    "% This function simulates the generation and decoding\n",
    "% of a noisy L-ASK signal and counts the number of erroneous symbols.\n",
    "% It returns the number of erroneous symbols (in the variable errors).\n",
    "% k is the number of bits/symbol, therefore L=2^k -- the number of\n",
    "% different amplitudes\n",
    "% Nsymb is the number of generated symbols (length of LASK sequence)\n",
    "% nsamp is the number of samples per symbol (oversampling ratio)\n",
    "% EbNo is the normalized signal-to-noise ratio Eb/No, in dB\n",
    "%\n",
    "L=2^k;\n",
    "SNR=EbNo-10*log10(nsamp/2/k); % SNR per signal sample\n",
    "% Vector of random integers {±1, ±3, ... ±(L-1)}. To be verified\n",
    "x=2*floor(L*rand(1, Nsymb))-L+1;\n",
    "Px=(L^2-1)/3; % theoretical signal power\n",
    "sum(x.^2)/length(x); % measured signal power (for verification)\n",
    "y=rectpulse(x, nsamp);\n",
    "n=wgn(1, length(y), 10*log10(Px)-SNR);\n",
    "ynoisy=y+n; % noisy signal\n",
    "y=reshape(ynoisy, nsamp, length(ynoisy)/nsamp);\n",
    "matched=ones(1, nsamp);\n",
    "z=matched*y/nsamp;\n",
    "A=[-L+1:2:L-1];\n",
    "for i=1:length(z)\n",
    "    [m, j]=min(abs(A-z(i)));\n",
    "    z(i)=A(j);\n",
    "end\n",
    "err=not(x==z);\n",
    "errors=sum(err);\n",
    "end\n",
    "\n",
    "```\n",
    "````\n",
    "`````"
   ]
  },
  {
   "cell_type": "markdown",
   "metadata": {},
   "source": [
    "## Part 2: Simulation Code Exploration\n",
    "\n",
    "(a) Modify the code so that the L elements of vector x in line 14 take values from the set {±d/2, ±3d/2, ±5d/2...}, where the distance d of the points will be given as a parameter. Using the value d=5, verify by calculation and displaying a relevant histogram, that the elements of vector x indeed follow a uniform distribution. Use k=mod(nnnnn,2)+3, where nnnnn is the last 5-digit part of your registration number."
   ]
  },
  {
   "cell_type": "markdown",
   "metadata": {},
   "source": [
    "Hint: Generate (with command 14) at least 40,000 random integers, and use the command hist(x,A) to calculate and display the histogram, where A is the vector of the L different values of these integers. Modify command 15 appropriately for the theoretical calculation of power and verify with command 16. Similarly, modify command 23 appropriately."
   ]
  },
  {
   "cell_type": "code",
   "execution_count": 2,
   "metadata": {
    "tags": [
     "thebe-init",
     "hide-code-cell"
    ]
   },
   "outputs": [
    {
     "data": {
      "application/vnd.jupyter.widget-view+json": {
       "model_id": "a957f82c2e7742d1ae94c78cad75308a",
       "version_major": 2,
       "version_minor": 0
      },
      "text/plain": [
       "VBox(children=(IntText(value=3, description='k:'),))"
      ]
     },
     "metadata": {},
     "output_type": "display_data"
    },
    {
     "data": {
      "application/vnd.jupyter.widget-view+json": {
       "model_id": "57b861f4fce14595b2539547f2aa19aa",
       "version_major": 2,
       "version_minor": 0
      },
      "text/plain": [
       "Output()"
      ]
     },
     "metadata": {},
     "output_type": "display_data"
    }
   ],
   "source": [
    "def generate_histogram(k):\n",
    "    M = 40000\n",
    "    L = 2 ** k\n",
    "\n",
    "    x = 2 * np.floor(L * np.random.rand(M)) - L + 1\n",
    "    bins = np.arange(-L, L + 2, 2)\n",
    "    A = np.arange(-(L - 1), L, 2)\n",
    "    \n",
    "    fig, ax = plt.subplots(1, 1, figsize=(14, 4))\n",
    "    ax.hist(x, bins=bins, edgecolor='white', color='#1F77B4')  # Use ax.hist for compatibility with widgets\n",
    "    ax.set_xticks(A)\n",
    "    ax.set_xlabel(\"Integers\")\n",
    "    ax.set_ylabel(\"Frequency\")\n",
    "    ax.set_title(\"Histogram of array x elements\")\n",
    "    plt.show()\n",
    "\n",
    "k_input = widgets.IntText(\n",
    "    value=3,  # default value\n",
    "    description='k:',\n",
    "    continuous_update=False\n",
    ")\n",
    "\n",
    "ui = widgets.VBox([k_input])\n",
    "out = widgets.interactive_output(generate_histogram, {'k': k_input})\n",
    "\n",
    "# Display the UI components\n",
    "display(ui, out)"
   ]
  },
  {
   "cell_type": "markdown",
   "metadata": {},
   "source": [
    "(b) With parameter values of the function k=4, M=60000, nsamp=20, and EbNo=12, execute commands 11 to 22 and then plot the histogram of z with the command hist(z,200). Repeat the above for EbNo=16 and EbNo=20. What do you observe? Explain the differences in the three diagrams."
   ]
  },
  {
   "cell_type": "code",
   "execution_count": 3,
   "metadata": {
    "tags": [
     "thebe-init",
     "hide-code-cell"
    ]
   },
   "outputs": [
    {
     "data": {
      "application/vnd.jupyter.widget-view+json": {
       "model_id": "2428303fa99a42f0923413d6abb896ba",
       "version_major": 2,
       "version_minor": 0
      },
      "text/plain": [
       "VBox(children=(IntText(value=3, description='k:'), FloatSlider(value=12.0, continuous_update=False, descriptio…"
      ]
     },
     "metadata": {},
     "output_type": "display_data"
    },
    {
     "data": {
      "application/vnd.jupyter.widget-view+json": {
       "model_id": "13b6d21335f44992b150a1ef32cb6879",
       "version_major": 2,
       "version_minor": 0
      },
      "text/plain": [
       "Output()"
      ]
     },
     "metadata": {},
     "output_type": "display_data"
    }
   ],
   "source": [
    "def generate_histogram(k, EbN0_db):\n",
    "    M = 60000\n",
    "    nsamp = 16\n",
    "\n",
    "    L = 2**k\n",
    "    SNR_db = EbN0_db - 10*np.log10(nsamp/2/k)\n",
    "    SNR = 10 ** (SNR_db * 0.1)\n",
    "    x = 2*np.floor(L*np.random.rand(M)) - L + 1\n",
    "    P_x = (L**2 - 1) / 3\n",
    "    Measured_x = np.sum(x**2)/len(x)\n",
    "\n",
    "    y = np.repeat(x, nsamp)\n",
    "\n",
    "    noise = np.random.normal(0, np.sqrt(Measured_x/SNR), len(y))\n",
    "    y_noisy = y + noise\n",
    "\n",
    "    y_reshaped = np.reshape(y_noisy, (M, nsamp))\n",
    "    matched = np.ones((nsamp, 1))\n",
    "    z = np.matmul(y_reshaped, matched) / nsamp\n",
    "\n",
    "    A = np.arange(-(L-1), L, 2)  # Adjusted to use inside plotting\n",
    "    \n",
    "    fig, ax = plt.subplots(1, 1, figsize=(14, 4))\n",
    "    ax.hist(z, bins=200,  edgecolor='white', color='#1F77B4')\n",
    "    ax.set_xticks(A)\n",
    "    ax.set_xlabel(\"Integers\")\n",
    "    ax.set_ylabel(\"Frequency\")\n",
    "    ax.legend([\"Eb/N0 = \" + str(EbN0_db)])\n",
    "    ax.set_title('Histogram of the Noisy Signal')\n",
    "    plt.show()\n",
    "\n",
    "k_input = widgets.IntText(\n",
    "    value=3,  # default value\n",
    "    description='k:',\n",
    "    continuous_update=False\n",
    ")\n",
    "\n",
    "EbN0_db_slider = widgets.FloatSlider(\n",
    "    value=12,  # default value\n",
    "    min=0,    # minimum value\n",
    "    max=20,   # maximum value\n",
    "    step=0.1,   # step size\n",
    "    description='Eb/N0 (dB):',\n",
    "    continuous_update=False\n",
    ")\n",
    "\n",
    "ui = widgets.VBox([k_input, EbN0_db_slider])\n",
    "\n",
    "out = widgets.interactive_output(generate_histogram, {'k': k_input, 'EbN0_db': EbN0_db_slider})\n",
    "\n",
    "# Display the UI components\n",
    "display(ui, out)"
   ]
  },
  {
   "cell_type": "markdown",
   "metadata": {},
   "source": [
    "(c) What does command 20 do and what does command 22 do? What type and dimension are the variables: x in command 14, y in command 17, y in command 20, matched, z, err, and errors?"
   ]
  },
  {
   "cell_type": "markdown",
   "metadata": {},
   "source": [
    "(d) Explain the operation of the loop 24-27 of Code 3.3 as a minimum distance detector for L-ASK."
   ]
  },
  {
   "cell_type": "markdown",
   "metadata": {},
   "source": [
    "## Part 3: Performance Curves (BER as a function of the signal-to-noise ratio)\n",
    "\n",
    "Verify the curve of Figure 3.10 of the notes (for convenience repeated below) for L-ASK, with L=2k, k=mod(nnnnn, 2)+3, where nnnnn is the last 5-digit part of your registration number. Plot the theoretical curve and superimpose the simulation results (discrete points), as in the figure. 'Read' from the 8-ASK curve and write in the submission file the BER values for Eb/No={8,14,18}db. Conversely, find the appropriate Eb/No value for an 8-ASK system with a transmission rate of R=1Mbps, so that the error rate does not exceed the value {10, 100, 1000} bps."
   ]
  },
  {
   "cell_type": "markdown",
   "metadata": {},
   "source": [
    "![lab3_1.png](../content/images/lab3_1.png)"
   ]
  },
  {
   "cell_type": "markdown",
   "metadata": {},
   "source": [
    "This should be done in two ways:\n",
    "\n",
    "(a) With your main program, which (i) will plot the curve using equation (3.33) of the notes and the approximation BER≈Pe/log2L, and (ii) will appropriately call the function ask_errors() for calculating the discrete points.\n",
    "\n",
    "\n",
    "$\n",
    "P_e = \\frac{L-1}{L} \\cdot \\text{erfc}\\left( \\sqrt{\\frac{3 \\log_2 L  }{L^2 - 1} \\cdot \\frac{E_{b,av}}{N_o}} \\right)\n",
    "$\n",
    "\n",
    "\n",
    "(where Pe is the false symbol probability)\n",
    "\n",
    "Hint: (a) Call ask_errors(), once for each different value of EbNo, with a sufficiently high value of M (e.g., 20000) and calculate the error rate.\n",
    "\n",
    "(b) Using the MATLAB BERTOOL tool. The tool is called by typing the bertool command in the MATLAB command window. In the window that appears, you should make the appropriate settings for each case, as indicated in the boxes below. As explained in Example 3.2 of the notes, bertool calls our function, ask_errors(), through the ask_ber_func.m function of code 3.4, in which appropriate values for the parameters k, Nsymb, and nsamp must be set. The files of both functions must be in the current folder (or in a folder that is in the path) of MATLAB."
   ]
  },
  {
   "cell_type": "markdown",
   "metadata": {},
   "source": [
    "```` {tab} Image 1\n",
    "```{image} ../content/images/lab3_2.png\n",
    ":align: center\n",
    "```\n",
    "````\n",
    "```` {tab} Image 2\n",
    "```{image} ../content/images/lab3_3.png\n",
    ":align: center\n",
    "```\n",
    "````"
   ]
  },
  {
   "cell_type": "markdown",
   "metadata": {},
   "source": [
    "````` {admonition} ask_ber_func()\n",
    "````{tab} Python\n",
    "```python\n",
    "\n",
    "\n",
    "def ask_ber_func(EbNo_db, maxNumErrs, maxNumBits):\n",
    "    # Initialize variables related to exit criteria\n",
    "    totErr = 0  # Number of errors observed\n",
    "    numBits = 0  # Number of bits processed\n",
    "\n",
    "    # Set up parameters\n",
    "    k = 3  # Number of bits per symbol\n",
    "    Nsymb = 2000  # Number of symbols in each run\n",
    "    nsamp = 16  # Oversampling, i.e., number of samples per T\n",
    "    EbNo = 10 ** (EbNo_db / 10)  # Convert EbNo from dB to linear scale\n",
    "\n",
    "    # Simulate until the number of errors exceeds maxNumErrs\n",
    "    # or the number of bits processed exceeds maxNumBits\n",
    "    while (totErr < maxNumErrs) and (numBits < maxNumBits):\n",
    "        errors = ask_errors(k, Nsymb, nsamp, EbNo)\n",
    "        # Assume Gray coding: 1 symbol error ==> 1 bit error\n",
    "        totErr += errors\n",
    "        numBits += k * Nsymb\n",
    "\n",
    "    # Compute the BER\n",
    "    ber = totErr / numBits\n",
    "    return ber, numBits\n",
    "\n",
    "```\n",
    "````\n",
    "````{tab} Matlab\n",
    "```matlab\n",
    "\n",
    "function [ber,numBits] = ask_ber_func(EbNo, maxNumErrs, maxNumBits)\n",
    "% Import Java class for BERTool.\n",
    "import com.mathworks.toolbox.comm.BERTool;\n",
    "% Initialize variables related to exit criteria.\n",
    "totErr = 0; % Number of errors observed\n",
    "numBits = 0; % Number of bits processed\n",
    "% --- Set up parameters. ---\n",
    "% --- INSERT YOUR CODE HERE.\n",
    "k=3; % number of bits per symbol\n",
    "Nsymb=2000; % number of symbols in each run\n",
    "nsamp=16; % oversampling,i.e. number of samples per T\n",
    "% Simulate until number of errors exceeds maxNumErrs\n",
    "% or number of bits processed exceeds maxNumBits.\n",
    "while((totErr < maxNumErrs) && (numBits < maxNumBits))\n",
    "% Check if the user clicked the Stop button of BERTool.\n",
    "if (BERTool.getSimulationStop)\n",
    "break;\n",
    "end\n",
    "% Β. --- INSERT YOUR CODE HERE.\n",
    "errors=ask_errors(k,Nsymb,nsamp,EbNo);\n",
    "% Assume Gray coding: 1 symbol error ==> 1 bit error\n",
    "totErr=totErr+errors;\n",
    "numBits=numBits + k*Nsymb;\n",
    "end % End of loop\n",
    "% Compute the BER\n",
    "ber = totErr/numBits;\n",
    "\n",
    "\n",
    "```\n",
    "````\n",
    "`````\n",
    "\n",
    "\n"
   ]
  },
  {
   "cell_type": "code",
   "execution_count": 33,
   "metadata": {
    "tags": [
     "hide-code-cell",
     "thebe-init"
    ]
   },
   "outputs": [
    {
     "data": {
      "application/vnd.jupyter.widget-view+json": {
       "model_id": "915f1cd3ba1c425fa05b5730fbd84192",
       "version_major": 2,
       "version_minor": 0
      },
      "text/plain": [
       "VBox(children=(Checkbox(value=True, description='4-ASK'), Checkbox(value=False, description='8-ASK'), Checkbox…"
      ]
     },
     "metadata": {},
     "output_type": "display_data"
    },
    {
     "data": {
      "application/vnd.jupyter.widget-view+json": {
       "model_id": "79f2be12a3ea452c87209bc1011ab03b",
       "version_major": 2,
       "version_minor": 0
      },
      "text/plain": [
       "Output()"
      ]
     },
     "metadata": {},
     "output_type": "display_data"
    }
   ],
   "source": [
    "def ask_errors(k,M,nsamp,EbN0_db):\n",
    "    \n",
    "    L = 2**k\n",
    "    SNR_db = EbN0_db - 10*np.log10(nsamp/2/k)\n",
    "    SNR = 10 ** (SNR_db * 0.1)\n",
    "    x = 2*np.floor(L*np.random.rand(M)) - L + 1\n",
    "    P_x = (L*L-1) / 3\n",
    "    Measured_x = np.sum(x*x)/len(x)\n",
    "\n",
    "    y = []\n",
    "    for i in range(len(x)):\n",
    "        for j in range(nsamp):\n",
    "            y.append(x[i])\n",
    "    y = np.array(y)\n",
    "\n",
    "    noise = np.random.normal(0, np.sqrt(Measured_x/SNR),len(y))\n",
    "    y_noisy = y + noise\n",
    "\n",
    "    y = np.reshape(y_noisy, (M, nsamp))\n",
    "    matched = np.ones((nsamp,1))\n",
    "    z = np.matmul(y, matched)\n",
    "    z = z / nsamp\n",
    "    l = np.arange(-L+1,L,2)\n",
    "\n",
    "    z = z[:,0]\n",
    "    for i in range(len(z)):\n",
    "        differences = np.abs(l-z[i]) # Πίνακας με τις διαφορές του σήματος από τα επίπεδα\n",
    "        m = min(differences)\n",
    "        [index], = np.where(differences == m)\n",
    "        z[i] = l[index]\n",
    "    \n",
    "    errors = 0\n",
    "    for i in range(len(z)):\n",
    "        if x[i] != z[i]:\n",
    "            errors += 1\n",
    "    \n",
    "    return errors\n",
    "\n",
    "\n",
    "M = 20000\n",
    "nsamp = 16\n",
    "EbN0_db = np.arange(0, 10, 1)\n",
    "EbN0 = 10**(EbN0_db / 10)\n",
    "\n",
    "# Create checkboxes for each modulation level\n",
    "checkbox_4qam = Checkbox(value=True, description='4-ASK')\n",
    "checkbox_8qam = Checkbox(value=False, description='8-ASK')\n",
    "checkbox_16qam = Checkbox(value=False, description='16-ASK')\n",
    "\n",
    "plot_output = Output()\n",
    "\n",
    "def plot_selected_modulations(btn=None):\n",
    "    with plot_output:\n",
    "        clear_output(wait=True)\n",
    "        plt.figure(figsize=(10, 7))\n",
    "        \n",
    "        # Define colors for each modulation level\n",
    "        colors = {\n",
    "            '4-ASK': ('red', 'tomato'),\n",
    "            '8-ASK': ('green', 'limegreen'),\n",
    "            '16-ASK': ('blue', 'dodgerblue')\n",
    "        }\n",
    "        \n",
    "        for i, (k, checkbox) in enumerate(zip([2, 3, 4], [checkbox_4qam, checkbox_8qam, checkbox_16qam])):\n",
    "            if checkbox.value:\n",
    "                L = 2**k\n",
    "                modulation_name = f'{L}-ASK'\n",
    "                ber = np.zeros(len(EbN0_db))\n",
    "                for index, eb_n0 in enumerate(EbN0_db):\n",
    "                    # Simulate experimental BER using a placeholder function\n",
    "                    ber[index] = ask_errors(k, M, nsamp, index) / M / np.log2(L)\n",
    "                \n",
    "                # Plot experimental BER as points without connecting lines, using specific colors\n",
    "                plt.semilogy(EbN0_db, ber, 'o', label=f'Experimental {modulation_name}', color=colors[modulation_name][0])\n",
    "                \n",
    "                # Theoretical BER for comparison, with distinct line color\n",
    "                ber_theoretical = (((L-1)/L) * erfc(np.sqrt(EbN0 * (3 * np.log2(L)) / (L**2 - 1)))) / k\n",
    "                plt.semilogy(EbN0_db, ber_theoretical, linestyle='-', label=f'Theoretical {modulation_name}', color=colors[modulation_name][1])\n",
    "\n",
    "        plt.grid(True, which='both')\n",
    "        plt.xlabel(\"Eb/N0 (dB)\")\n",
    "        plt.ylabel(\"BER\")\n",
    "        plt.legend()\n",
    "        plt.title('Theoretical and Experimental BER of ask_errors')\n",
    "        plt.show()\n",
    "\n",
    "# Button to update the plot\n",
    "plot_button = Button(description=\"Plot\")\n",
    "plot_button.on_click(plot_selected_modulations)\n",
    "\n",
    "# Initially plot with default settings\n",
    "plot_selected_modulations()\n",
    "\n",
    "# Displaying the widgets and the output container\n",
    "display(VBox([checkbox_4qam, checkbox_8qam, checkbox_16qam, plot_button]), plot_output)"
   ]
  },
  {
   "cell_type": "markdown",
   "metadata": {},
   "source": [
    "## Part 4: Implementation with Convolution - Using Other Pulses\n",
    "\n",
    "Replace command 17 of Code 3.3 with the following commands"
   ]
  },
  {
   "cell_type": "markdown",
   "metadata": {},
   "source": [
    "`````{tab} Python\n",
    "````python\n",
    "\n",
    "# Filter impulse response: orthogonal pulse of unit energy\n",
    "h = np.ones(nsamp) / np.sqrt(nsamp)\n",
    "    \n",
    "# Upsample x by inserting zeros between samples\n",
    "# Note: 'x' should be a numpy array for direct indexing\n",
    "y_upsampled = np.zeros(M * nsamp)  # Preallocate upsampled signal array\n",
    "y_upsampled[::nsamp] = x  # Assign every nsamp-th sample to x, leaving zeros in between\n",
    "    \n",
    "# Convolution of the upsampled signal with the filter impulse response\n",
    "y = np.convolve(y_upsampled, h, mode='full')[:M*nsamp]  # Trim the convolution tail\n",
    "\n",
    "````\n",
    "`````\n",
    "`````{tab} Matlab\n",
    "````matlab\n",
    "\n",
    "h=ones(1,nsamp); h=h/sqrt(h*h'); % filter impulse response\n",
    "% transmitter (rectangular pulse of unit energy)\n",
    "y=upsample(x,nsamp); % conversion to the dense grid\n",
    "y=conv(y,h); % the signal to be transmitted\n",
    "y=y(1:M*nsamp); % tail left by the convolution is truncated\n",
    "\n",
    "````\n",
    "`````"
   ]
  },
  {
   "cell_type": "markdown",
   "metadata": {},
   "source": [
    "Also, the noisy signal, ynoisy, should be produced with the command:"
   ]
  },
  {
   "cell_type": "markdown",
   "metadata": {},
   "source": [
    "`````{tab} Python\n",
    "````python\n",
    "\n",
    "# Calculate signal power and convert SNR from dB to linear\n",
    "signal_power = np.mean(y**2)\n",
    "SNR = 10**(SNR_dB / 10)\n",
    "    \n",
    "# Calculate noise power to achieve desired SNR\n",
    "noise_power = signal_power / SNR\n",
    "    \n",
    "# Generate noise with calculated power\n",
    "noise = np.random.normal(0, np.sqrt(noise_power), y.shape)\n",
    "    \n",
    "# Add noise to signal\n",
    "y_noisy = y + noise\n",
    "\n",
    "````\n",
    "`````\n",
    "`````{tab} Matlab\n",
    "````matlab\n",
    "\n",
    "ynoisy=awgn(y,SNR,'measured'); % noisy signal\n",
    "\n",
    "````\n",
    "`````"
   ]
  },
  {
   "cell_type": "markdown",
   "metadata": {},
   "source": [
    "and the matched filter (commands 21,22) to be implemented with convolution as:"
   ]
  },
  {
   "cell_type": "markdown",
   "metadata": {},
   "source": [
    "`````{tab} Python\n",
    "````python\n",
    "\n",
    "# Create the matched filter by reversing 'h'\n",
    "matched = h[::-1]\n",
    "    \n",
    "# Convolve the noisy signal with the matched filter\n",
    "yrx = np.convolve(ynoisy, matched, mode='full')\n",
    "    \n",
    "# Sample the result at the end of each symbol period\n",
    "# Note: Python indexing starts at 0, so we adjust the start index accordingly\n",
    "z = yrx[nsamp-1:M*nsamp:nsamp]\n",
    "\n",
    "````\n",
    "`````\n",
    "`````{tab} Matlab\n",
    "````matlab\n",
    "\n",
    "for i=1:nsamp matched(i)=h(end-i+1); end\n",
    "yrx=conv(ynoisy,matched);\n",
    "z = yrx(nsamp:nsamp:M*nsamp);\n",
    "\n",
    "````\n",
    "`````"
   ]
  },
  {
   "cell_type": "markdown",
   "metadata": {},
   "source": [
    "(the command that does reshape on the ynoisy signal must, of course, be abolished here)."
   ]
  },
  {
   "cell_type": "markdown",
   "metadata": {},
   "source": [
    "````` {admonition} New Code 3.3\n",
    "````{tab} Python\n",
    "```python\n",
    "\n",
    "import numpy as np\n",
    "import matplotlib.pyplot as plt\n",
    "from scipy.special import erfc\n",
    "from scipy.stats import norm\n",
    "from scipy.signal import convolve\n",
    "\n",
    "def ask_errors_new(k, M, nsamp, EbN0_db):\n",
    "    # Constants and signal generation\n",
    "    L = 2**k\n",
    "    SNR_db = EbN0_db - 10 * np.log10(nsamp / (2 * k))\n",
    "    x = 2 * np.floor(L * np.random.rand(M)) - L + 1\n",
    "\n",
    "    # Filter impulse response: orthogonal pulse of unit energy\n",
    "    h = np.ones(nsamp) / np.sqrt(nsamp)\n",
    "\n",
    "    # Upsample x\n",
    "    y_upsampled = np.zeros(M * nsamp)\n",
    "    y_upsampled[::nsamp] = x\n",
    "\n",
    "    # Convolution with the filter impulse response\n",
    "    y = np.convolve(y_upsampled, h, mode='full')[:M*nsamp]\n",
    "\n",
    "    # Filter impulse response: orthogonal pulse of unit energy\n",
    "\n",
    "    # Add AWGN\n",
    "    signal_power = np.mean(y**2)\n",
    "    SNR_linear = 10**(SNR_db / 10)\n",
    "    noise_power = signal_power / SNR_linear\n",
    "    # Correctly define y_noisy\n",
    "    noise = np.random.normal(0, np.sqrt(noise_power), y.shape)\n",
    "    y_noisy = y + noise  # This should correctly define y_noisy\n",
    "\n",
    "    # Matched filter\n",
    "    matched = h[::-1]\n",
    "    yrx = np.convolve(y_noisy, matched, mode='full')  # Make sure to use y_noisy here\n",
    "\n",
    "    # Sampling at the end of each symbol period\n",
    "    z = yrx[nsamp-1::nsamp][:M]  # Ensure we only get M samples\n",
    "\n",
    "\n",
    "\n",
    "    # Decision making\n",
    "    l = np.arange(-L + 1, L, 2)\n",
    "    z_decoded = np.zeros(M, dtype=int)\n",
    "    for i in range(M):\n",
    "        index = np.argmin(np.abs(l - z[i]))\n",
    "        z_decoded[i] = l[index]\n",
    "\n",
    "    # Count errors\n",
    "    errors = np.sum(x != z_decoded)\n",
    "\n",
    "    return errors\n",
    "\n",
    "```\n",
    "````\n",
    "````{tab} Matlab\n",
    "```matlab\n",
    "\n",
    "function errors=ask_errors(k, Nsymb, nsamp, EbNo)\n",
    "% This function simulates the generation and decoding\n",
    "% of a noisy L-ASK signal and counts the number of erroneous symbols.\n",
    "% It returns the number of erroneous symbols (in the variable errors).\n",
    "% k is the number of bits/symbol, therefore L=2^k -- the number of\n",
    "% different amplitudes\n",
    "% Nsymb is the number of generated symbols (length of LASK sequence)\n",
    "% nsamp is the number of samples per symbol (oversampling ratio)\n",
    "% EbNo is the normalized signal-to-noise ratio Eb/No, in dB\n",
    "%\n",
    "L=2^k;\n",
    "SNR=EbNo-10*log10(nsamp/2/k); % SNR per signal sample\n",
    "% Vector of random integers {±1, ±3, ... ±(L-1)}. To be verified\n",
    "x=2*floor(L*rand(1, Nsymb))-L+1;\n",
    "Px=(L^2-1)/3; % theoretical signal power\n",
    "sum(x.^2)/length(x); % measured signal power (for verification)\n",
    "h=ones(1,nsamp); h=h/sqrt(h*h'); % filter impulse response\n",
    "% transmitter (rectangular pulse of unit energy)\n",
    "y=upsample(x,nsamp); % conversion to the dense grid\n",
    "y=conv(y,h); % the signal to be transmitted\n",
    "y=y(1:M*nsamp); % tail left by the convolution is truncated\n",
    "n=wgn(1, length(y), 10*log10(Px)-SNR);\n",
    "ynoisy=awgn(y,SNR,'measured'); % noisy signal\n",
    "for i=1:nsamp matched(i)=h(end-i+1); end\n",
    "yrx=conv(ynoisy,matched);\n",
    "z = yrx(nsamp:nsamp:M*nsamp);\n",
    "A=[-L+1:2:L-1];\n",
    "for i=1:length(z)\n",
    "    [m, j]=min(abs(A-z(i)));\n",
    "    z(i)=A(j);\n",
    "end\n",
    "err=not(x==z);\n",
    "errors=sum(err);\n",
    "end\n",
    "\n",
    "```\n",
    "````\n",
    "`````"
   ]
  },
  {
   "cell_type": "markdown",
   "metadata": {},
   "source": [
    "(a) Confirm that the modified code produces the same results as Code 3.3."
   ]
  },
  {
   "cell_type": "code",
   "execution_count": 5,
   "metadata": {
    "tags": [
     "hide-code-cell",
     "thebe-init"
    ]
   },
   "outputs": [
    {
     "data": {
      "application/vnd.jupyter.widget-view+json": {
       "model_id": "30963ef014214c1f97ddb1b2ac8f729b",
       "version_major": 2,
       "version_minor": 0
      },
      "text/plain": [
       "HBox(children=(Dropdown(description='Samples per Symbol:', index=2, options=(4, 8, 16, 32, 64), style=Descript…"
      ]
     },
     "metadata": {},
     "output_type": "display_data"
    },
    {
     "data": {
      "application/vnd.jupyter.widget-view+json": {
       "model_id": "71df39f361864a6c91a5b0b718d61356",
       "version_major": 2,
       "version_minor": 0
      },
      "text/plain": [
       "VBox(children=(Checkbox(value=True, description='4-QAM'), Checkbox(value=False, description='8-QAM'), Checkbox…"
      ]
     },
     "metadata": {},
     "output_type": "display_data"
    },
    {
     "data": {
      "application/vnd.jupyter.widget-view+json": {
       "model_id": "a736edfeb58a42bbbe938def5793808d",
       "version_major": 2,
       "version_minor": 0
      },
      "text/plain": [
       "Output()"
      ]
     },
     "metadata": {},
     "output_type": "display_data"
    }
   ],
   "source": [
    "def ask_errors_new(k, M, nsamp, EbN0_db):\n",
    "    # Constants and signal generation\n",
    "    L = 2**k\n",
    "    SNR_db = EbN0_db - 10 * np.log10(nsamp / (2 * k))\n",
    "    x = 2 * np.floor(L * np.random.rand(M)) - L + 1\n",
    "\n",
    "    # Filter impulse response: orthogonal pulse of unit energy\n",
    "    h = np.ones(nsamp) / np.sqrt(nsamp)\n",
    "\n",
    "    # Upsample x\n",
    "    y_upsampled = np.zeros(M * nsamp)\n",
    "    y_upsampled[::nsamp] = x\n",
    "\n",
    "    # Convolution with the filter impulse response\n",
    "    y = np.convolve(y_upsampled, h, mode='full')[:M*nsamp]\n",
    "\n",
    "    # Filter impulse response: orthogonal pulse of unit energy\n",
    "\n",
    "    # Add AWGN\n",
    "    signal_power = np.mean(y**2)\n",
    "    SNR_linear = 10**(SNR_db / 10)\n",
    "    noise_power = signal_power / SNR_linear\n",
    "    # Correctly define y_noisy\n",
    "    noise = np.random.normal(0, np.sqrt(noise_power), y.shape)\n",
    "    y_noisy = y + noise  # This should correctly define y_noisy\n",
    "\n",
    "    # Matched filter\n",
    "    matched = h[::-1]\n",
    "    yrx = np.convolve(y_noisy, matched, mode='full')  # Make sure to use y_noisy here\n",
    "\n",
    "    # Sampling at the end of each symbol period\n",
    "    z = yrx[nsamp-1::nsamp][:M]  # Ensure we only get M samples\n",
    "\n",
    "\n",
    "\n",
    "    # Decision making\n",
    "    l = np.arange(-L + 1, L, 2)\n",
    "    z_decoded = np.zeros(M, dtype=int)\n",
    "    for i in range(M):\n",
    "        index = np.argmin(np.abs(l - z[i]))\n",
    "        z_decoded[i] = l[index]\n",
    "\n",
    "    # Count errors\n",
    "    errors = np.sum(x != z_decoded)\n",
    "\n",
    "    return errors\n",
    "\n",
    "\n",
    "\n",
    "M = 20000\n",
    "EbN0_db = np.arange(0, 10, 1)\n",
    "\n",
    "# Initialize the widgets\n",
    "checkbox_4qam1 = Checkbox(value=True, description='4-ASK')\n",
    "checkbox_8qam1 = Checkbox(value=False, description='8-ASK')\n",
    "checkbox_16qam1 = Checkbox(value=False, description='16-ASK')\n",
    "nsamp_dropdown1 = Dropdown(options=[4, 8, 16, 32, 64], value=16, description='Samples per Symbol:', style={'description_width': 'initial'})\n",
    "\n",
    "plot_output1 = Output()\n",
    "\n",
    "def plot_selected_modulations1(btn=None):\n",
    "    with plot_output1:\n",
    "        clear_output(wait=True)\n",
    "        nsamp = nsamp_dropdown1.value  # Get the selected value from the dropdown\n",
    "        plt.figure(figsize=(10, 7))\n",
    "        \n",
    "        # Define colors for each modulation level\n",
    "        colors = {\n",
    "            '4-ASK': 'red',\n",
    "            '8-ASK': 'green',\n",
    "            '16-ASK': 'blue'\n",
    "        }\n",
    "        \n",
    "        for k, checkbox, color in zip([2, 3, 4], [checkbox_4qam1, checkbox_8qam1, checkbox_16qam1], colors.values()):\n",
    "            if checkbox.value:\n",
    "                L = 2**k\n",
    "                modulation_name = f'{L}-ASK'\n",
    "                ber = np.zeros(len(EbN0_db))\n",
    "                for index, eb_n0 in enumerate(EbN0_db):\n",
    "                    # Simulate experimental BER\n",
    "                    ber[index] = ask_errors_new(k, M, nsamp, eb_n0) / (M * np.log2(L))\n",
    "                \n",
    "                # Plot experimental BER\n",
    "                plt.semilogy(EbN0_db, ber, 'o', label=f'Experimental {modulation_name}', color=color)\n",
    "                \n",
    "                # Theoretical BER for comparison\n",
    "                ber_theoretical = (((L-1)/L) * erfc(np.sqrt(10**(EbN0_db / 10) * (3 * np.log2(L)) / (L**2 - 1)))) / k\n",
    "                plt.semilogy(EbN0_db, ber_theoretical, linestyle='-', label=f'Theoretical {modulation_name}', color=color)\n",
    "        \n",
    "        plt.grid(True, which='both')\n",
    "        plt.xlabel(\"Eb/N0 (dB)\")\n",
    "        plt.ylabel(\"BER\")\n",
    "        plt.title('Theoretical and Experimental BER of modified ask_errors')\n",
    "        plt.legend()\n",
    "        plt.show()\n",
    "\n",
    "# Button to update the plot based on the selected nsamp\n",
    "plot_button1 = Button(description=\"Plot\")\n",
    "plot_button1.on_click(plot_selected_modulations1)\n",
    "\n",
    "# Display the widgets and the output container\n",
    "display(HBox([nsamp_dropdown1]), VBox([checkbox_4qam1, checkbox_8qam1, checkbox_16qam1, plot_button1]), plot_output1)\n",
    "\n",
    "# Call the function initially to display the plot\n",
    "plot_selected_modulations1()"
   ]
  },
  {
   "cell_type": "markdown",
   "metadata": {},
   "source": [
    "(b) After executing the body of the modified function ask_errors() without adding noise (i.e., with ynoisy=y), plot a section of the signals x, y, and yrx."
   ]
  },
  {
   "cell_type": "code",
   "execution_count": 40,
   "metadata": {
    "tags": [
     "remove-input"
    ]
   },
   "outputs": [
    {
     "data": {
      "image/png": "[encoded data removed]",
      "text/plain": [
       "<Figure size 1400x500 with 3 Axes>"
      ]
     },
     "metadata": {},
     "output_type": "display_data"
    }
   ],
   "source": [
    "def ask_errors_modified(k, M, nsamp, add_noise=False):\n",
    "    L = 2**k\n",
    "    x = 2 * np.floor(L * np.random.rand(M)) - L + 1\n",
    "\n",
    "    # Create the filter impulse response\n",
    "    h = np.ones(nsamp) / np.sqrt(nsamp)\n",
    "\n",
    "    # Sender side: upsample and then convolve (filter) the signal\n",
    "    y = upfirdn(h, x, up=nsamp)\n",
    "    y = y[:M * nsamp]  # Cutting the last elements of convolution if any\n",
    "\n",
    "    # Optionally add noise\n",
    "    y_noisy = y\n",
    "    if add_noise:\n",
    "        SNR_db = 10  # Example SNR value, adjust as necessary\n",
    "        SNR_linear = 10 ** (SNR_db / 10)\n",
    "        P_x = np.mean(y ** 2)  # Signal power\n",
    "        noise_variance = P_x / SNR_linear\n",
    "        noise = np.random.normal(0, np.sqrt(noise_variance), len(y))\n",
    "        y_noisy = y + noise\n",
    "\n",
    "    # Receiver side: matched filtering\n",
    "    matched = h[::-1]  # Matched filter is a time-reversed version of h\n",
    "    yrx = convolve(y_noisy, matched, mode='full')\n",
    "    yrx = yrx[:M * nsamp]  # Adjust length to match y\n",
    "\n",
    "    # Returning slices for visualization\n",
    "    return x[:20], y[:20*nsamp], yrx[:20*nsamp]\n",
    "\n",
    "\n",
    "import matplotlib.pyplot as plt\n",
    "\n",
    "k=3\n",
    "# Get the signal parts\n",
    "x_part, y_part, yrx_part = ask_errors_modified(k, M, nsamp, add_noise=False)\n",
    "\n",
    "# Create a figure and a set of subplots\n",
    "fig, axs = plt.subplots(1, 3, figsize=(14, 5))\n",
    "\n",
    "# Plot x\n",
    "markerline, stemlines, baseline = axs[0].stem(x_part)\n",
    "plt.setp(stemlines, 'linewidth', 0.5)  # Set the stem lines' width\n",
    "plt.setp(markerline, 'markersize', 4)  # Set the marker size\n",
    "axs[0].set_title('x[1:20]')\n",
    "axs[0].set_xlabel('Index')\n",
    "axs[0].set_ylabel('Amplitude')\n",
    "\n",
    "# Plot y\n",
    "markerline, stemlines, baseline = axs[1].stem(y_part)\n",
    "plt.setp(stemlines, 'linewidth', 0.5)  # Set the stem lines' width\n",
    "plt.setp(markerline, 'markersize', 4)  # Set the marker size\n",
    "axs[1].set_title('y[1:20*nsamp]')\n",
    "axs[1].set_xlabel('Index')\n",
    "axs[1].set_ylabel('Amplitude')\n",
    "\n",
    "# Plot yrx\n",
    "markerline, stemlines, baseline = axs[2].stem(yrx_part)\n",
    "plt.setp(stemlines, 'linewidth', 0.5)  # Set the stem lines' width\n",
    "plt.setp(markerline, 'markersize', 4)  # Set the marker size\n",
    "axs[2].set_title('yrx[1:20*nsamp]')\n",
    "axs[2].set_xlabel('Index')\n",
    "axs[2].set_ylabel('Amplitude')\n",
    "\n",
    "# Adjust layout to prevent overlap\n",
    "plt.tight_layout()\n",
    "\n",
    "# Show the plot\n",
    "plt.show()\n"
   ]
  },
  {
   "cell_type": "markdown",
   "metadata": {},
   "source": [
    "Write a brief explanation of the second and third diagrams.\n",
    "\n",
    "(c) Replace the rectangular pulse h with another, e.g., a cosine of one period: \n",
    "$$\n",
    "h=cos(2*pi*(1:nsamp)/nsamp); h=h/sqrt(h*h’);\n",
    "$$"
   ]
  },
  {
   "cell_type": "markdown",
   "metadata": {},
   "source": [
    "Execute the simulation again with bertool. What is the conclusion about the performance of the new L-ASK system? If we revert the command matched=h for the matched filter, we will observe that we do not get correct results, especially for small values of nsamp (e.g., nsamp=8). Explain this, after observing the shape of the pulse h in the two cases (rectangular pulse and sine pulse), plotting it with stems (stem(h)). Repeat the experiment for nsamp=32 and 64."
   ]
  },
  {
   "cell_type": "code",
   "execution_count": 7,
   "metadata": {
    "tags": [
     "thebe-init",
     "hide-code-cell"
    ]
   },
   "outputs": [
    {
     "data": {
      "application/vnd.jupyter.widget-view+json": {
       "model_id": "9a44b774132e4bf2b312518bdb2a10e6",
       "version_major": 2,
       "version_minor": 0
      },
      "text/plain": [
       "HBox(children=(Dropdown(description='Samples per Symbol:', index=2, options=(4, 8, 16, 32, 64), style=Descript…"
      ]
     },
     "metadata": {},
     "output_type": "display_data"
    },
    {
     "data": {
      "application/vnd.jupyter.widget-view+json": {
       "model_id": "54db3af9f0184c1195fe4cd880fb4fe5",
       "version_major": 2,
       "version_minor": 0
      },
      "text/plain": [
       "VBox(children=(Checkbox(value=True, description='4-QAM'), Checkbox(value=False, description='8-QAM'), Checkbox…"
      ]
     },
     "metadata": {},
     "output_type": "display_data"
    },
    {
     "data": {
      "application/vnd.jupyter.widget-view+json": {
       "model_id": "3c6aaa14c2a6469fa3b9aa367c5c8812",
       "version_major": 2,
       "version_minor": 0
      },
      "text/plain": [
       "Output()"
      ]
     },
     "metadata": {},
     "output_type": "display_data"
    }
   ],
   "source": [
    "def ask_errors_sin(k, M, nsamp, EbN0_db):\n",
    "    L = 2**k\n",
    "    SNR_db = EbN0_db - 10 * np.log10(nsamp / (2 * k))\n",
    "    SNR_linear = 10 ** (SNR_db / 10)\n",
    "    x = 2 * np.floor(L * np.random.rand(M)) - L + 1\n",
    "\n",
    "    # Create the sinusoidal filter impulse response\n",
    "    h = np.cos(2 * np.pi * np.arange(1, nsamp + 1) / nsamp)\n",
    "    h = h / np.sqrt(np.sum(h**2))\n",
    "\n",
    "    # Sender side: upsample and then convolve (filter) the signal\n",
    "    y = upfirdn(h, x, up=nsamp)\n",
    "    y = y[:M * nsamp]  # Cutting the last elements of convolution if any\n",
    "\n",
    "    # Add noise to the signal. We calculate noise variance from SNR\n",
    "    P_x = np.mean(y ** 2)  # Signal power\n",
    "    noise_variance = P_x / SNR_linear\n",
    "    noise = np.random.normal(0, np.sqrt(noise_variance), len(y))\n",
    "    y_noisy = y + noise\n",
    "\n",
    "    # Receiver side: matched filtering\n",
    "    matched = h[::-1]  # Matched filter is a time-reversed version of h\n",
    "    yrx = convolve(y_noisy, matched, mode='full')\n",
    "    z = yrx[nsamp - 1:M * nsamp:nsamp]  # Sampling at symbol rate after matched filtering\n",
    "\n",
    "    # Decision device\n",
    "    levels = np.arange(-L + 1, L, 2)\n",
    "    z_decided = levels[np.abs(levels[:, None] - z).argmin(axis=0)]\n",
    "\n",
    "    # Count the errors\n",
    "    errors = np.count_nonzero(x != z_decided)\n",
    "    \n",
    "    return errors\n",
    "\n",
    "\n",
    "\n",
    "\n",
    "M = 20000\n",
    "EbN0_db = np.arange(0, 10, 1)\n",
    "\n",
    "# Initialize the widgets\n",
    "checkbox_4qam3 = Checkbox(value=True, description='4-ASK')\n",
    "checkbox_8qam3 = Checkbox(value=False, description='8-ASK')\n",
    "checkbox_16qam3 = Checkbox(value=False, description='16-ASK')\n",
    "nsamp_dropdown3 = Dropdown(options=[4, 8, 16, 32, 64], value=16, description='Samples per Symbol:', style={'description_width': 'initial'})\n",
    "\n",
    "plot_output3 = Output()\n",
    "\n",
    "def plot_selected_modulations3(btn=None):\n",
    "    with plot_output3:\n",
    "        clear_output(wait=True)\n",
    "        nsamp = nsamp_dropdown3.value  # Get the selected value from the dropdown\n",
    "        plt.figure(figsize=(10, 7))\n",
    "        \n",
    "        # Define colors for each modulation level\n",
    "        colors = {\n",
    "            '4-ASK': 'red',\n",
    "            '8-ASK': 'green',\n",
    "            '16-ASK': 'blue'\n",
    "        }\n",
    "        \n",
    "        for k, checkbox, color in zip([2, 3, 4], [checkbox_4qam3, checkbox_8qam3, checkbox_16qam3], colors.values()):\n",
    "            if checkbox.value:\n",
    "                L = 2**k\n",
    "                modulation_name = f'{L}-ASK'\n",
    "                ber = np.zeros(len(EbN0_db))\n",
    "                for index, eb_n0 in enumerate(EbN0_db):\n",
    "                    # Simulate experimental BER\n",
    "                    ber[index] = ask_errors_sin(k, M, nsamp, eb_n0) / (M * np.log2(L))\n",
    "                \n",
    "                # Plot experimental BER\n",
    "                plt.semilogy(EbN0_db, ber, 'o', label=f'Experimental {modulation_name}', color=color)\n",
    "                \n",
    "                # Theoretical BER for comparison\n",
    "                ber_theoretical = (((L-1)/L) * erfc(np.sqrt(10**(EbN0_db / 10) * (3 * np.log2(L)) / (L**2 - 1)))) / k\n",
    "                plt.semilogy(EbN0_db, ber_theoretical, linestyle='-', label=f'Theoretical {modulation_name}', color=color)\n",
    "        \n",
    "        plt.grid(True, which='both')\n",
    "        plt.xlabel(\"Eb/N0 (dB)\")\n",
    "        plt.ylabel(\"BER\")\n",
    "        plt.title('Theoretical and Experimental BER of ask_errors using sinusoidal pulse')\n",
    "        plt.legend()\n",
    "        plt.show()\n",
    "\n",
    "# Button to update the plot based on the selected nsamp\n",
    "plot_button3 = Button(description=\"Plot\")\n",
    "plot_button3.on_click(plot_selected_modulations3)\n",
    "\n",
    "# Display the widgets and the output container\n",
    "display(HBox([nsamp_dropdown3]), VBox([checkbox_4qam3, checkbox_8qam3, checkbox_16qam3, plot_button3]), plot_output3)\n",
    "\n",
    "\n",
    "\n",
    "# Call the function initially to display the plot\n",
    "plot_selected_modulations3()"
   ]
  },
  {
   "cell_type": "markdown",
   "metadata": {},
   "source": [
    "Reset matched=h for the matched filter. You will see that we do not get right results for low values\n",
    "of nsamp (e.g. nsamp=8). Can you explain why is that?"
   ]
  },
  {
   "cell_type": "code",
   "execution_count": 32,
   "metadata": {
    "tags": [
     "thebe-init",
     "hide-code-cell"
    ]
   },
   "outputs": [
    {
     "data": {
      "application/vnd.jupyter.widget-view+json": {
       "model_id": "a771ae64f42a48f29d7235947f59e92f",
       "version_major": 2,
       "version_minor": 0
      },
      "text/plain": [
       "HBox(children=(Dropdown(description='Samples per Symbol:', index=2, options=(4, 8, 16, 32, 64), style=Descript…"
      ]
     },
     "metadata": {},
     "output_type": "display_data"
    },
    {
     "data": {
      "application/vnd.jupyter.widget-view+json": {
       "model_id": "7e73699dc0a8421b86e1c0eb4a6ae8ed",
       "version_major": 2,
       "version_minor": 0
      },
      "text/plain": [
       "VBox(children=(Checkbox(value=True, description='4-QAM'), Checkbox(value=False, description='8-QAM'), Checkbox…"
      ]
     },
     "metadata": {},
     "output_type": "display_data"
    },
    {
     "data": {
      "application/vnd.jupyter.widget-view+json": {
       "model_id": "c3ee7dcb65d64241b5b48285b6a072c9",
       "version_major": 2,
       "version_minor": 0
      },
      "text/plain": [
       "Output()"
      ]
     },
     "metadata": {},
     "output_type": "display_data"
    }
   ],
   "source": [
    "def ask_errors_sin_wrong(k, M, nsamp, EbN0_db):\n",
    "    L = 2**k\n",
    "    SNR_db = EbN0_db - 10 * np.log10(nsamp / (2 * k))\n",
    "    SNR_linear = 10 ** (SNR_db / 10)\n",
    "    x = 2 * np.floor(L * np.random.rand(M)) - L + 1\n",
    "\n",
    "    # Create the sinusoidal filter impulse response\n",
    "    h = np.cos(2 * np.pi * np.arange(1, nsamp + 1) / nsamp)\n",
    "    h = h / np.sqrt(np.sum(h**2))\n",
    "\n",
    "    # Sender side: upsample and then convolve (filter) the signal\n",
    "    y = upfirdn(h, x, up=nsamp)\n",
    "    y = y[:M * nsamp]  # Cutting the last elements of convolution if any\n",
    "\n",
    "    # Add noise to the signal. We calculate noise variance from SNR\n",
    "    P_x = np.mean(y ** 2)  # Signal power\n",
    "    noise_variance = P_x / SNR_linear\n",
    "    noise = np.random.normal(0, np.sqrt(noise_variance), len(y))\n",
    "    y_noisy = y + noise\n",
    "\n",
    "    # Receiver side: matched filtering\n",
    "    matched = h \n",
    "    yrx = convolve(y_noisy, matched, mode='full')\n",
    "    z = yrx[nsamp - 1:M * nsamp:nsamp]  # Sampling at symbol rate after matched filtering\n",
    "\n",
    "    # Decision device\n",
    "    levels = np.arange(-L + 1, L, 2)\n",
    "    z_decided = levels[np.abs(levels[:, None] - z).argmin(axis=0)]\n",
    "\n",
    "    # Count the errors\n",
    "    errors = np.count_nonzero(x != z_decided)\n",
    "    \n",
    "    return errors\n",
    "\n",
    "\n",
    "\n",
    "\n",
    "M = 20000\n",
    "EbN0_db = np.arange(0, 10, 1)\n",
    "\n",
    "# Initialize the widgets\n",
    "checkbox_4qam4 = Checkbox(value=True, description='4-ASK')\n",
    "checkbox_8qam4 = Checkbox(value=False, description='8-ASK')\n",
    "checkbox_16qam4 = Checkbox(value=False, description='16-ASK')\n",
    "nsamp_dropdown4 = Dropdown(options=[4, 8, 16, 32, 64], value=16, description='Samples per Symbol:', style={'description_width': 'initial'})\n",
    "\n",
    "plot_output4 = Output()\n",
    "\n",
    "def plot_selected_modulations4(btn=None):\n",
    "    with plot_output4:\n",
    "        clear_output(wait=True)\n",
    "        nsamp = nsamp_dropdown4.value  # Get the selected value from the dropdown\n",
    "        plt.figure(figsize=(10, 7))\n",
    "        \n",
    "        # Define colors for each modulation level\n",
    "        colors = {\n",
    "            '4-ASK': 'red',\n",
    "            '8-ASK': 'green',\n",
    "            '16-ASK': 'blue'\n",
    "        }\n",
    "        \n",
    "        for k, checkbox, color in zip([2, 3, 4], [checkbox_4qam4, checkbox_8qam4, checkbox_16qam4], colors.values()):\n",
    "            if checkbox.value:\n",
    "                L = 2**k\n",
    "                modulation_name = f'{L}-ASK'\n",
    "                ber = np.zeros(len(EbN0_db))\n",
    "                for index, eb_n0 in enumerate(EbN0_db):\n",
    "                    # Simulate experimental BER\n",
    "                    ber[index] = ask_errors_sin_wrong(k, M, nsamp, eb_n0) / (M * np.log2(L))\n",
    "                \n",
    "                # Plot experimental BER\n",
    "                plt.semilogy(EbN0_db, ber, 'o', label=f'Experimental {modulation_name}', color=color)\n",
    "                \n",
    "                # Theoretical BER for comparison\n",
    "                ber_theoretical = (((L-1)/L) * erfc(np.sqrt(10**(EbN0_db / 10) * (3 * np.log2(L)) / (L**2 - 1)))) / k\n",
    "                plt.semilogy(EbN0_db, ber_theoretical, linestyle='-', label=f'Theoretical {modulation_name}', color=color)\n",
    "        \n",
    "        plt.grid(True, which='both')\n",
    "        plt.xlabel(\"Eb/N0 (dB)\")\n",
    "        plt.ylabel(\"BER\")\n",
    "        plt.title('Theoretical and Experimental BER of ask_errors using sinusoidal pulse but with matched=h')\n",
    "        plt.legend()\n",
    "        plt.show()\n",
    "\n",
    "# Button to update the plot based on the selected nsamp\n",
    "plot_button4 = Button(description=\"Plot\")\n",
    "plot_button4.on_click(plot_selected_modulations4)\n",
    "\n",
    "# Display the widgets and the output container\n",
    "display(HBox([nsamp_dropdown4]), VBox([checkbox_4qam4, checkbox_8qam4, checkbox_16qam4, plot_button4]), plot_output4)\n",
    "\n",
    "\n",
    "\n",
    "# Call the function initially to display the plot\n",
    "plot_selected_modulations4()"
   ]
  },
  {
   "cell_type": "markdown",
   "metadata": {},
   "source": [
    "Plot pulse h with nsamp 8 and 16,\n",
    "orthogonal and sinusoidal. Use stem(h). Repeat for nsamp=32 and 64."
   ]
  },
  {
   "cell_type": "code",
   "execution_count": 34,
   "metadata": {
    "tags": [
     "thebe-init",
     "hide-code-cell"
    ]
   },
   "outputs": [
    {
     "data": {
      "application/vnd.jupyter.widget-view+json": {
       "model_id": "201a64d4e9604540bfa6ece86257a690",
       "version_major": 2,
       "version_minor": 0
      },
      "text/plain": [
       "VBox(children=(Dropdown(description='nsamp:', options=(8, 16, 32, 64), value=8), Button(description='Update Pl…"
      ]
     },
     "metadata": {},
     "output_type": "display_data"
    }
   ],
   "source": [
    "# Adjusted function to plot filters\n",
    "def plot_filters(nsamp):\n",
    "    orthogonal = np.ones(nsamp) / np.sqrt(nsamp)\n",
    "    sinusoidal = np.cos(2 * np.pi * np.arange(1, nsamp + 1) / nsamp)\n",
    "    sinusoidal = sinusoidal / np.sqrt(np.sum(sinusoidal**2))\n",
    "\n",
    "    matched_orthogonal = orthogonal[::-1]\n",
    "    matched_sinusoidal = sinusoidal[::-1]\n",
    "\n",
    "    fig, axs = plt.subplots(2, 2, figsize=(14, 8))\n",
    "\n",
    "    markerline, stemlines, baseline = axs[0,0].stem(orthogonal)\n",
    "    plt.setp(stemlines, 'linewidth', 0.5)\n",
    "    plt.setp(markerline, 'markersize', 4)\n",
    "    axs[0,0].set_title('Orthogonal')\n",
    "    axs[0,0].set_xlabel('Index')\n",
    "    axs[0,0].set_ylabel('Amplitude')\n",
    "\n",
    "    markerline, stemlines, baseline = axs[0,1].stem(sinusoidal)\n",
    "    plt.setp(stemlines, 'linewidth', 0.5)\n",
    "    plt.setp(markerline, 'markersize', 4)\n",
    "    axs[0,1].set_title('Sinusoidal')\n",
    "    axs[0,1].set_xlabel('Index')\n",
    "    axs[0,1].set_ylabel('Amplitude')\n",
    "\n",
    "    markerline, stemlines, baseline = axs[1,0].stem(matched_orthogonal)\n",
    "    plt.setp(stemlines, 'linewidth', 0.5)\n",
    "    plt.setp(markerline, 'markersize', 4)\n",
    "    axs[1,0].set_title('Matched Orthogonal')\n",
    "    axs[1,0].set_xlabel('Index')\n",
    "    axs[1,0].set_ylabel('Amplitude')\n",
    "\n",
    "    markerline, stemlines, baseline = axs[1,1].stem(matched_sinusoidal)\n",
    "    plt.setp(stemlines, 'linewidth', 0.5)\n",
    "    plt.setp(markerline, 'markersize', 4)\n",
    "    axs[1,1].set_title('Matched Sinusoidal')\n",
    "    axs[1,1].set_xlabel('Index')\n",
    "    axs[1,1].set_ylabel('Amplitude')\n",
    "\n",
    "    plt.tight_layout()\n",
    "    return fig\n",
    "\n",
    "# Widget UI components with Dropdown\n",
    "nsamp_input = widgets.Dropdown(\n",
    "    options=[8, 16, 32, 64],\n",
    "    value=8,  # Default value\n",
    "    description='nsamp:',\n",
    ")\n",
    "\n",
    "plot_button = widgets.Button(description=\"Update Plot\")\n",
    "output = widgets.Output()\n",
    "\n",
    "# Button click event handler\n",
    "def on_plot_button_clicked(b):\n",
    "    with output:\n",
    "        clear_output(wait=True)\n",
    "        plot_filters(nsamp_input.value)\n",
    "        plt.show()\n",
    "\n",
    "plot_button.on_click(on_plot_button_clicked)\n",
    "\n",
    "# Display UI\n",
    "ui = widgets.VBox([nsamp_input, plot_button, output])\n",
    "display(ui)\n",
    "\n",
    "# Show initial plot automatically\n",
    "with output:\n",
    "    plot_filters(nsamp_input.value)\n",
    "    plt.show()\n"
   ]
  }
 ],
 "metadata": {
  "kernelspec": {
   "display_name": "Python 3",
   "language": "python",
   "name": "python3"
  },
  "language_info": {
   "codemirror_mode": {
    "name": "ipython",
    "version": 3
   },
   "file_extension": ".py",
   "mimetype": "text/x-python",
   "name": "python",
   "nbconvert_exporter": "python",
   "pygments_lexer": "ipython3",
   "version": "3.8.18"
  }
 },
 "nbformat": 4,
 "nbformat_minor": 2
}
