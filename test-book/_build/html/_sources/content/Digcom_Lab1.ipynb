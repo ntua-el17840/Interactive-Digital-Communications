{
 "cells": [
  {
   "cell_type": "markdown",
   "metadata": {},
   "source": [
    "# Lab Exercise 1\n",
    "The purpose of the first set of exercises is, on one hand, to familiarize with the programming environment of Python and Matlab, and on the other hand, to introduce the methods of representation and processing of telecommunication signals in these specific programming languages."
   ]
  },
  {
   "cell_type": "markdown",
   "metadata": {},
   "source": [
    "## Part 1: Training"
   ]
  },
  {
   "cell_type": "markdown",
   "metadata": {},
   "source": [
    "```{admonition} Live Code\n",
    "Press the following button to make python code interactive. It will connect you to a kernel once it says \"ready\" (might take a bit, especially the first time it runs).\n",
    "```\n",
    "\n",
    "<div style=\"text-align: center;\">\n",
    "  <button title=\"Launch thebe\" class=\"thebelab-button thebe-launch-button\" onclick=\"initThebe()\">Python Interactive Code</button>\n",
    "</div>\n"
   ]
  },
  {
   "cell_type": "markdown",
   "metadata": {},
   "source": [
    "#### Importing packages we will need later in Python"
   ]
  },
  {
   "cell_type": "markdown",
   "metadata": {},
   "source": [
    "`````{tab} Python\n",
    "<div class=\"cell tag_thebe-init docutils container\">\n",
    "<div class=\"cell_input docutils container\">\n",
    "<div class=\"highlight-ipython3 notranslate\"><div class=\"highlight\"><pre id=\"codecell1\"><span></span><span class=\"kn\">from</span> <span class=\"nn\">scipy</span> <span class=\"kn\">import</span> <span class=\"n\">signal</span>\n",
    "<span class=\"c1\"># Ανατρέξτε στην τεκμηρίωση της βιβλιοθήκης scipy.signal</span>\n",
    "<span class=\"c1\"># https://docs.scipy.org/doc/scipy/reference/signal.html</span>\n",
    "<span class=\"kn\">from</span> <span class=\"nn\">scipy.fft</span> <span class=\"kn\">import</span> <span class=\"n\">fft</span><span class=\"p\">,</span> <span class=\"n\">fftfreq</span>\n",
    "<span class=\"kn\">from</span> <span class=\"nn\">scipy.fftpack</span> <span class=\"kn\">import</span> <span class=\"n\">fftshift</span><span class=\"p\">,</span> <span class=\"n\">ifftshift</span>\n",
    "<span class=\"kn\">import</span> <span class=\"nn\">matplotlib</span>\n",
    "<span class=\"kn\">import</span> <span class=\"nn\">matplotlib.pyplot</span> <span class=\"k\">as</span> <span class=\"nn\">plt</span>\n",
    "<span class=\"kn\">import</span> <span class=\"nn\">numpy</span> <span class=\"k\">as</span> <span class=\"nn\">np</span>\n",
    "<span class=\"kn\">from</span> <span class=\"nn\">numpy</span> <span class=\"kn\">import</span> <span class=\"n\">random</span>\n",
    "<span class=\"kn\">import</span> <span class=\"nn\">warnings</span>\n",
    "<span class=\"n\">warnings</span><span class=\"o\">.</span><span class=\"n\">filterwarnings</span><span class=\"p\">(</span><span class=\"s1\">'ignore'</span><span class=\"p\">)</span>\n",
    "<span class=\"kn\">from</span> <span class=\"nn\">ipywidgets</span> <span class=\"kn\">import</span> <span class=\"n\">IntRangeSlider</span><span class=\"p\">,</span> <span class=\"n\">widgets</span><span class=\"p\">,</span> <span class=\"n\">Layout</span><span class=\"p\">,</span> <span class=\"n\">HBox</span><span class=\"p\">,</span> <span class=\"n\">VBox</span>\n",
    "<span class=\"kn\">from</span> <span class=\"nn\">IPython.display</span> <span class=\"kn\">import</span> <span class=\"n\">display</span><span class=\"p\">,</span> <span class=\"n\">clear_output</span>\n",
    "<span class=\"nb\">print</span><span class=\"p\">(</span><span class=\"s2\">\"Libraries added successfully!\"</span><span class=\"p\">)</span>\n",
    "</pre></div>\n",
    "</div>\n",
    "</div>\n",
    "</div>\n",
    "`````"
   ]
  },
  {
   "cell_type": "code",
   "execution_count": 1,
   "metadata": {
    "tags": [
     "thebe-init",
     "remove-input",
     "remove-output"
    ]
   },
   "outputs": [
    {
     "name": "stdout",
     "output_type": "stream",
     "text": [
      "Libraries added successfully!\n"
     ]
    }
   ],
   "source": [
    "from scipy import signal\n",
    "# Ανατρέξτε στην τεκμηρίωση της βιβλιοθήκης scipy.signal\n",
    "# https://docs.scipy.org/doc/scipy/reference/signal.html\n",
    "from scipy.fft import fft, fftfreq\n",
    "from scipy.fftpack import fftshift, ifftshift\n",
    "import matplotlib\n",
    "import matplotlib.pyplot as plt\n",
    "import numpy as np\n",
    "from numpy import random\n",
    "import warnings\n",
    "warnings.filterwarnings('ignore')\n",
    "from ipywidgets import IntRangeSlider, widgets, Layout, HBox, VBox\n",
    "from IPython.display import display, clear_output\n",
    "print(\"Libraries added successfully!\")"
   ]
  },
  {
   "cell_type": "markdown",
   "metadata": {},
   "source": [
    "#### Create a scalar (one-dimensional) quantity"
   ]
  },
  {
   "cell_type": "markdown",
   "metadata": {},
   "source": [
    "`````{tab} Python\n",
    "<div class=\"cell tag_thebe-init docutils container\">\n",
    "<div class=\"cell_input docutils container\">\n",
    "<div class=\"highlight-ipython3 notranslate\"><div class=\"highlight\"><pre id=\"codecell2\"><span></span><span class=\"n\">s</span><span class=\"o\">=</span><span class=\"mi\">2</span>\n",
    "<span class=\"nb\">print</span><span class=\"p\">(</span><span class=\"s1\">&#39;s =&#39;</span><span class=\"p\">,</span><span class=\"n\">s</span><span class=\"p\">)</span>\n",
    "</pre></div>\n",
    "</div>\n",
    "</div>\n",
    "</div>\n",
    "`````\n",
    "`````{tab} Matlab\n",
    "````matlab\n",
    "s = 2;\n",
    "disp(['s = ', num2str(s)]);\n",
    "````\n",
    "`````"
   ]
  },
  {
   "cell_type": "code",
   "execution_count": 2,
   "metadata": {
    "tags": [
     "remove-input",
     "remove-output",
     "thebe-init"
    ]
   },
   "outputs": [
    {
     "name": "stdout",
     "output_type": "stream",
     "text": [
      "s = 2\n"
     ]
    }
   ],
   "source": [
    "s=2\n",
    "print('s =',s)"
   ]
  },
  {
   "cell_type": "markdown",
   "metadata": {},
   "source": [
    "#### Create a vector of real values"
   ]
  },
  {
   "cell_type": "markdown",
   "metadata": {},
   "source": [
    "`````{tab} Python\n",
    "<div class=\"cell tag_thebe-init docutils container\">\n",
    "<div class=\"cell_input docutils container\">\n",
    "<div class=\"highlight-ipython3 notranslate\"><div class=\"highlight\"><pre id=\"codecell4\"><span></span><span class=\"n\">v</span><span class=\"o\">=</span><span class=\"n\">np</span><span class=\"o\">.</span><span class=\"n\">array</span><span class=\"p\">([</span><span class=\"mi\">1</span><span class=\"p\">,</span><span class=\"mi\">5</span><span class=\"p\">,</span><span class=\"mi\">9</span><span class=\"p\">])</span>\n",
    "<span class=\"nb\">print</span><span class=\"p\">(</span><span class=\"s1\">'v ='</span><span class=\"p\">,</span><span class=\"n\">v</span><span class=\"p\">)</span>\n",
    "</pre></div>\n",
    "</div>\n",
    "</div>\n",
    "</div>\n",
    "`````\n",
    "`````{tab} Matlab\n",
    "````matlab\n",
    "v = [1,5,9];\n",
    "disp(['v = ', mat2str(v)]);\n",
    "````\n",
    "`````"
   ]
  },
  {
   "cell_type": "code",
   "execution_count": 3,
   "metadata": {
    "tags": [
     "remove-input",
     "remove-output",
     "thebe-init"
    ]
   },
   "outputs": [
    {
     "name": "stdout",
     "output_type": "stream",
     "text": [
      "v = [1 5 9]\n"
     ]
    }
   ],
   "source": [
    "v=np.array([1,5,9])\n",
    "print('v =',v)"
   ]
  },
  {
   "cell_type": "markdown",
   "metadata": {},
   "source": [
    "#### Create a matrix of real values"
   ]
  },
  {
   "cell_type": "markdown",
   "metadata": {},
   "source": [
    "`````{tab} Python\n",
    "<div class=\"cell tag_thebe-init docutils container\">\n",
    "<div class=\"cell_input docutils container\">\n",
    "<div class=\"highlight-ipython3 notranslate\"><div class=\"highlight\"><pre id=\"codecell6\"><span></span><span class=\"n\">a</span><span class=\"o\">=</span><span class=\"n\">np</span><span class=\"o\">.</span><span class=\"n\">array</span><span class=\"p\">([[</span><span class=\"mi\">1</span><span class=\"p\">,</span><span class=\"mi\">2</span><span class=\"p\">,</span><span class=\"mi\">3</span><span class=\"p\">],[</span><span class=\"mi\">4</span><span class=\"p\">,</span><span class=\"mi\">5</span><span class=\"p\">,</span><span class=\"mi\">6</span><span class=\"p\">],[</span><span class=\"mi\">7</span><span class=\"p\">,</span><span class=\"mi\">8</span><span class=\"p\">,</span><span class=\"mi\">9</span><span class=\"p\">]])</span>\n",
    "<span class=\"nb\">print</span><span class=\"p\">(</span><span class=\"s1\">'a ='</span><span class=\"p\">,</span><span class=\"n\">a</span><span class=\"p\">)</span>\n",
    "</pre></div>\n",
    "</div>\n",
    "</div>\n",
    "</div>\n",
    "`````\n",
    "`````{tab} Matlab\n",
    "````matlab\n",
    "a = [1,2,3; 4,5,6; 7,8,9];\n",
    "disp(['a = ', mat2str(a)]);\n",
    "````\n",
    "`````"
   ]
  },
  {
   "cell_type": "code",
   "execution_count": 4,
   "metadata": {
    "tags": [
     "remove-input",
     "remove-output",
     "thebe-init"
    ]
   },
   "outputs": [
    {
     "name": "stdout",
     "output_type": "stream",
     "text": [
      "a = [[1 2 3]\n",
      " [4 5 6]\n",
      " [7 8 9]]\n"
     ]
    }
   ],
   "source": [
    "a=np.array([[1,2,3],[4,5,6],[7,8,9]])\n",
    "print('a =',a)"
   ]
  },
  {
   "cell_type": "markdown",
   "metadata": {},
   "source": [
    "#### Sum"
   ]
  },
  {
   "cell_type": "markdown",
   "metadata": {},
   "source": [
    "`````{tab} Python\n",
    "<div class=\"cell tag_thebe-init docutils container\">\n",
    "<div class=\"cell_input docutils container\">\n",
    "<div class=\"highlight-ipython3 notranslate\"><div class=\"highlight\"><pre id=\"codecell8\"><span></span><span class=\"n\">a</span><span class=\"o\">+</span><span class=\"mi\">5</span>\n",
    "</pre></div>\n",
    "</div>\n",
    "</div>\n",
    "</div>\n",
    "`````\n",
    "`````{tab} Matlab\n",
    "````matlab\n",
    "a_plus_5 = a + 5;\n",
    "disp(a_plus_5);\n",
    "````\n",
    "`````"
   ]
  },
  {
   "cell_type": "code",
   "execution_count": 5,
   "metadata": {
    "tags": [
     "remove-input",
     "remove-output",
     "thebe-init"
    ]
   },
   "outputs": [
    {
     "data": {
      "text/plain": [
       "array([[ 6,  7,  8],\n",
       "       [ 9, 10, 11],\n",
       "       [12, 13, 14]])"
      ]
     },
     "execution_count": 5,
     "metadata": {},
     "output_type": "execute_result"
    }
   ],
   "source": [
    "a+5"
   ]
  },
  {
   "cell_type": "markdown",
   "metadata": {},
   "source": [
    "#### Multiply"
   ]
  },
  {
   "cell_type": "markdown",
   "metadata": {},
   "source": [
    "`````{tab} Python\n",
    "<div class=\"cell tag_thebe-init docutils container\">\n",
    "<div class=\"cell_input docutils container\">\n",
    "<div class=\"highlight-ipython3 notranslate\"><div class=\"highlight\"><pre id=\"codecell10\"><span></span><span class=\"n\">b</span><span class=\"o\">=</span><span class=\"n\">s</span><span class=\"o\">*</span><span class=\"n\">v</span><span class=\"o\">*</span><span class=\"mi\">2</span>\n",
    "<span class=\"nb\">print</span><span class=\"p\">(</span><span class=\"s1\">'b='</span><span class=\"p\">,</span><span class=\"n\">b</span><span class=\"p\">)</span>\n",
    "</pre></div>\n",
    "</div>\n",
    "</div>\n",
    "</div>\n",
    "`````\n",
    "`````{tab} Matlab\n",
    "````matlab\n",
    "b = s * v * 2;\n",
    "disp(['b = ', mat2str(b)]);\n",
    "````\n",
    "`````"
   ]
  },
  {
   "cell_type": "code",
   "execution_count": 6,
   "metadata": {
    "tags": [
     "remove-input",
     "remove-output",
     "thebe-init"
    ]
   },
   "outputs": [
    {
     "name": "stdout",
     "output_type": "stream",
     "text": [
      "b= [ 4 20 36]\n"
     ]
    }
   ],
   "source": [
    "b=s*v*2\n",
    "print('b=',b)"
   ]
  },
  {
   "cell_type": "markdown",
   "metadata": {},
   "source": [
    "#### Multiply element-wise"
   ]
  },
  {
   "cell_type": "markdown",
   "metadata": {},
   "source": [
    "`````{tab} Python\n",
    "<div class=\"cell tag_thebe-init docutils container\">\n",
    "<div class=\"cell_input docutils container\">\n",
    "<div class=\"highlight-ipython3 notranslate\"><div class=\"highlight\"><pre id=\"codecell12\"><span></span><span class=\"n\">np</span><span class=\"o\">.</span><span class=\"n\">multiply</span><span class=\"p\">(</span><span class=\"n\">v</span><span class=\"p\">,</span><span class=\"n\">b</span><span class=\"p\">)</span>\n",
    "</pre></div>\n",
    "</div>\n",
    "</div>\n",
    "</div>\n",
    "`````\n",
    "`````{tab} Matlab\n",
    "````matlab\n",
    "elementwise_product = v .* b;\n",
    "disp(elementwise_product);\n",
    "````\n",
    "`````"
   ]
  },
  {
   "cell_type": "code",
   "execution_count": 7,
   "metadata": {
    "tags": [
     "remove-input",
     "remove-output",
     "thebe-init"
    ]
   },
   "outputs": [
    {
     "data": {
      "text/plain": [
       "array([  4, 100, 324])"
      ]
     },
     "execution_count": 7,
     "metadata": {},
     "output_type": "execute_result"
    }
   ],
   "source": [
    "np.multiply(v,b)"
   ]
  },
  {
   "cell_type": "markdown",
   "metadata": {},
   "source": [
    "#### Check the length of a vector"
   ]
  },
  {
   "cell_type": "markdown",
   "metadata": {},
   "source": [
    "`````{tab} Python\n",
    "<div class=\"cell tag_thebe-init docutils container\">\n",
    "<div class=\"cell_input docutils container\">\n",
    "<div class=\"highlight-ipython3 notranslate\"><div class=\"highlight\"><pre id=\"codecell14\"><span></span><span class=\"nb\">len</span><span class=\"p\">(</span><span class=\"n\">v</span><span class=\"p\">)</span>\n",
    "</pre></div>\n",
    "</div>\n",
    "</div>\n",
    "</div>\n",
    "`````\n",
    "`````{tab} Matlab\n",
    "````matlab\n",
    "length_v = length(v);\n",
    "disp(length_v);\n",
    "````\n",
    "`````"
   ]
  },
  {
   "cell_type": "code",
   "execution_count": 8,
   "metadata": {
    "tags": [
     "remove-input",
     "remove-output",
     "thebe-init"
    ]
   },
   "outputs": [
    {
     "data": {
      "text/plain": [
       "3"
      ]
     },
     "execution_count": 8,
     "metadata": {},
     "output_type": "execute_result"
    }
   ],
   "source": [
    "len(v)"
   ]
  },
  {
   "cell_type": "markdown",
   "metadata": {},
   "source": [
    "#### Check the size of a matrix"
   ]
  },
  {
   "cell_type": "markdown",
   "metadata": {},
   "source": [
    "`````{tab} Python\n",
    "<div class=\"cell tag_thebe-init docutils container\">\n",
    "<div class=\"cell_input docutils container\">\n",
    "<div class=\"highlight-ipython3 notranslate\"><div class=\"highlight\"><pre id=\"codecell16\"><span></span><span class=\"n\">a</span><span class=\"o\">.</span><span class=\"n\">shape</span>   <span class=\"c1\"># για array: np.array(a.shape)</span>\n",
    "</pre></div>\n",
    "</div>\n",
    "</div>\n",
    "</div>\n",
    "`````\n",
    "`````{tab} Matlab\n",
    "````matlab\n",
    "shape_a = size(a);  % This will return a 2-element vector: [rows, columns]\n",
    "disp(shape_a);\n",
    "````\n",
    "`````"
   ]
  },
  {
   "cell_type": "code",
   "execution_count": 9,
   "metadata": {
    "tags": [
     "remove-input",
     "remove-output",
     "thebe-init"
    ]
   },
   "outputs": [
    {
     "data": {
      "text/plain": [
       "(3, 3)"
      ]
     },
     "execution_count": 9,
     "metadata": {},
     "output_type": "execute_result"
    }
   ],
   "source": [
    "a.shape   # για array: np.array(a.shape)"
   ]
  },
  {
   "cell_type": "markdown",
   "metadata": {},
   "source": [
    "#### Access specific elements of a matrix (Part 1)"
   ]
  },
  {
   "cell_type": "markdown",
   "metadata": {},
   "source": [
    "`````{tab} Python\n",
    "<div class=\"cell tag_thebe-init docutils container\">\n",
    "<div class=\"cell_input docutils container\">\n",
    "<div class=\"highlight-ipython3 notranslate\"><div class=\"highlight\"><pre id=\"codecell18\"><span></span><span class=\"n\">a</span><span class=\"p\">[</span><span class=\"mi\">0</span><span class=\"p\">,</span><span class=\"mi\">1</span><span class=\"p\">]</span>   <span class=\"c1\"># Η δεικτοδότηση αρχίζει από το 0</span>\n",
    "</pre></div>\n",
    "</div>\n",
    "</div>\n",
    "</div>\n",
    "`````\n",
    "`````{tab} Matlab\n",
    "````matlab\n",
    "element_0_1 = a(1,2);  % MATLAB indexing starts at 1\n",
    "disp(element_0_1);\n",
    "````\n",
    "`````"
   ]
  },
  {
   "cell_type": "code",
   "execution_count": 10,
   "metadata": {
    "tags": [
     "remove-input",
     "remove-output",
     "thebe-init"
    ]
   },
   "outputs": [
    {
     "data": {
      "text/plain": [
       "2"
      ]
     },
     "execution_count": 10,
     "metadata": {},
     "output_type": "execute_result"
    }
   ],
   "source": [
    "a[0,1] # Η δεικτοδότηση αρχίζει από το 0"
   ]
  },
  {
   "cell_type": "markdown",
   "metadata": {},
   "source": [
    "#### Access specific elements of a matrix (Part 2)"
   ]
  },
  {
   "cell_type": "markdown",
   "metadata": {},
   "source": [
    "`````{tab} Python\n",
    "<div class=\"cell tag_thebe-init docutils container\">\n",
    "<div class=\"cell_input docutils container\">\n",
    "<div class=\"highlight-ipython3 notranslate\"><div class=\"highlight\"><pre id=\"codecell20\"><span></span><span class=\"n\">a</span><span class=\"p\">[</span><span class=\"mi\">1</span><span class=\"p\">,</span><span class=\"o\">-</span><span class=\"mi\">1</span><span class=\"p\">]</span>   <span class=\"c1\"># Αρνητικές τιμές μετρούν από το τέλος, π.χ. το -1 αναφέρεται στο τελευταίο στοιχείο</span>\n",
    "</pre></div>\n",
    "</div>\n",
    "</div>\n",
    "</div>\n",
    "`````\n",
    "`````{tab} Matlab\n",
    "````matlab\n",
    "element_1_end = a(2,end);  % 'end' keyword is used for the last element in MATLAB\n",
    "disp(element_1_end);\n",
    "````\n",
    "`````"
   ]
  },
  {
   "cell_type": "code",
   "execution_count": 11,
   "metadata": {
    "tags": [
     "remove-input",
     "remove-output",
     "thebe-init"
    ]
   },
   "outputs": [
    {
     "data": {
      "text/plain": [
       "6"
      ]
     },
     "execution_count": 11,
     "metadata": {},
     "output_type": "execute_result"
    }
   ],
   "source": [
    "a[1,-1] # Αρνητικές τιμές μετρούν από το τέλος, π.χ. το -1 αναφέρεται στο τελευταίο στοιχείο"
   ]
  },
  {
   "cell_type": "markdown",
   "metadata": {},
   "source": [
    "#### Access a specific segment of a vector"
   ]
  },
  {
   "cell_type": "markdown",
   "metadata": {},
   "source": [
    "`````{tab} Python\n",
    "<div class=\"cell tag_thebe-init docutils container\">\n",
    "<div class=\"cell_input docutils container\">\n",
    "<div class=\"highlight-ipython3 notranslate\"><div class=\"highlight\"><pre id=\"codecell22\"><span></span><span class=\"n\">v1</span> <span class=\"o\">=</span> <span class=\"n\">v</span><span class=\"p\">[</span><span class=\"mi\">1</span><span class=\"p\">:</span><span class=\"mi\">3</span><span class=\"p\">]</span>\n",
    "<span class=\"n\">v2</span> <span class=\"o\">=</span> <span class=\"n\">v</span><span class=\"p\">[</span><span class=\"mi\">1</span><span class=\"p\">:</span><span class=\"mi\">2</span><span class=\"p\">]</span>\n",
    "<span class=\"nb\">print</span><span class=\"p\">(</span><span class=\"s1\">'v1 ='</span><span class=\"p\">,</span><span class=\"n\">v1</span><span class=\"p\">)</span>\n",
    "<span class=\"nb\">print</span><span class=\"p\">(</span><span class=\"s1\">'v2 ='</span><span class=\"p\">,</span><span class=\"n\">v2</span><span class=\"p\">)</span>   <span class=\"c1\"># ΠΡΟΣΟΧΗ: τα στοιχεία [2ο,3ο] δίνονται ως 1:3 και όχι ως 1:2</span>\n",
    "</pre></div>\n",
    "</div>\n",
    "</div>\n",
    "</div>\n",
    "`````\n",
    "`````{tab} Matlab\n",
    "````matlab\n",
    "v1 = v(2:3);\n",
    "v2 = v(2);\n",
    "disp(['v1 = ', mat2str(v1)]);\n",
    "disp(['v2 = ', mat2str(v2)]);\n",
    "````\n",
    "`````"
   ]
  },
  {
   "cell_type": "code",
   "execution_count": 12,
   "metadata": {
    "tags": [
     "remove-input",
     "remove-output",
     "thebe-init"
    ]
   },
   "outputs": [
    {
     "name": "stdout",
     "output_type": "stream",
     "text": [
      "v1 = [5 9]\n",
      "v2 = [5]\n"
     ]
    }
   ],
   "source": [
    "v1 = v[1:3]\n",
    "v2 = v[1:2]\n",
    "print('v1 =',v1)\n",
    "print('v2 =',v2)\n",
    "# ΠΡΟΣΟΧΗ: τα στοιχεία [2ο,3ο] δίνονται ως 1:3 και όχι ως 1:2"
   ]
  },
  {
   "cell_type": "markdown",
   "metadata": {},
   "source": [
    "#### Access specific segments of a matrix"
   ]
  },
  {
   "cell_type": "markdown",
   "metadata": {},
   "source": [
    "`````{tab} Python\n",
    "<div class=\"cell tag_thebe-init docutils container\">\n",
    "<div class=\"cell_input docutils container\">\n",
    "<div class=\"highlight-ipython3 notranslate\"><div class=\"highlight\"><pre id=\"codecell24\"><span></span><span class=\"n\">a</span><span class=\"p\">[</span><span class=\"mi\">0</span><span class=\"p\">:</span><span class=\"mi\">2</span><span class=\"p\">,:]</span>   <span class=\"c1\"># Ομοίως: οι γραμμές 1 & 2 δίνονται ως 0:2 και όχι ως 0:1</span>\n",
    "</pre></div>\n",
    "</div>\n",
    "</div>\n",
    "</div>\n",
    "`````\n",
    "`````{tab} Matlab\n",
    "````matlab\n",
    "a_slice = a(1:2,:);\n",
    "disp(a_slice);\n",
    "````\n",
    "`````"
   ]
  },
  {
   "cell_type": "code",
   "execution_count": 13,
   "metadata": {
    "tags": [
     "remove-input",
     "remove-output",
     "thebe-init"
    ]
   },
   "outputs": [
    {
     "data": {
      "text/plain": [
       "array([[1, 2, 3],\n",
       "       [4, 5, 6]])"
      ]
     },
     "execution_count": 13,
     "metadata": {},
     "output_type": "execute_result"
    }
   ],
   "source": [
    "a[0:2,:] # Ομοίως: οι γραμμές 1 & 2 δίνονται ως 0:2 και όχι ως 0:1"
   ]
  },
  {
   "cell_type": "markdown",
   "metadata": {},
   "source": [
    "#### Create a vector with elements from 0 to 0.5 with a step of 0.1"
   ]
  },
  {
   "cell_type": "markdown",
   "metadata": {},
   "source": [
    "`````{tab} Python\n",
    "<div class=\"cell tag_thebe-init docutils container\">\n",
    "<div class=\"cell_input docutils container\">\n",
    "<div class=\"highlight-ipython3 notranslate\"><div class=\"highlight\"><pre id=\"codecell26\"><span></span><span class=\"n\">t</span><span class=\"o\">=</span><span class=\"n\">np</span><span class=\"o\">.</span><span class=\"n\">arange</span><span class=\"p\">(</span><span class=\"mi\">0</span><span class=\"p\">,</span><span class=\"mf\">0.5</span><span class=\"p\">,</span><span class=\"mf\">0.1</span><span class=\"p\">)</span>\n",
    "<span class=\"nb\">print</span><span class=\"p\">(</span><span class=\"s1\">'t='</span><span class=\"p\">,</span><span class=\"n\">t</span><span class=\"p\">)</span>\n",
    "</pre></div>\n",
    "</div>\n",
    "</div>\n",
    "</div>\n",
    "`````\n",
    "`````{tab} Matlab\n",
    "````matlab\n",
    "t = 0:0.1:0.5;  % The endpoint is inclusive in MATLAB, so you might want to adjust it if you want the exact same output as NumPy\n",
    "t(end) = [];  % Remove the last element to match Python's exclusive endpoint\n",
    "disp(['t = ', mat2str(t)]);\n",
    "````\n",
    "`````"
   ]
  },
  {
   "cell_type": "code",
   "execution_count": 14,
   "metadata": {
    "tags": [
     "remove-input",
     "remove-output",
     "thebe-init"
    ]
   },
   "outputs": [
    {
     "name": "stdout",
     "output_type": "stream",
     "text": [
      "t= [0.  0.1 0.2 0.3 0.4]\n"
     ]
    }
   ],
   "source": [
    "t=np.arange(0,0.5,0.1)\n",
    "print('t=',t)"
   ]
  },
  {
   "cell_type": "markdown",
   "metadata": {},
   "source": [
    "## Part 2: Theory\n",
    "### Sampling - Digitization\n",
    "Primary signals are mainly analog (continuous time). To represent and process them on our computer (or another digital machine), we must first digitize them. Consider a continuous-time signal $x(t)$ with Fourier transform (Continuous Time Fourier Transform – CTFT):\n",
    "  \n",
    "$$\n",
    " \n",
    "X(f)=\\int_{-\\infty}^{\\infty} x(t)e^{-j2\\pi ft} dt\n",
    " \n",
    "$$"
   ]
  },
  {
   "cell_type": "code",
   "execution_count": 15,
   "metadata": {
    "tags": [
     "thebe-init",
     "hide-code-cell"
    ]
   },
   "outputs": [
    {
     "data": {
      "application/vnd.jupyter.widget-view+json": {
       "model_id": "839571e2799f49ea9ef6179cc49af7a6",
       "version_major": 2,
       "version_minor": 0
      },
      "text/plain": [
       "VBox(children=(HTML(value=\"\\n        <h2 style='font-weight: bold; font-size: 30px; text-align: center;'>Conti…"
      ]
     },
     "metadata": {},
     "output_type": "display_data"
    },
    {
     "data": {
      "application/vnd.jupyter.widget-view+json": {
       "model_id": "6aa569d45bbf406ebb9fb1d8aad77d5f",
       "version_major": 2,
       "version_minor": 0
      },
      "text/plain": [
       "Output()"
      ]
     },
     "metadata": {},
     "output_type": "display_data"
    }
   ],
   "source": [
    "# Parameters\n",
    "fs = 1000  # Sampling frequency in Hz\n",
    "T = 1 / fs  # Sampling period\n",
    "L = 1000  # Number of samples\n",
    "t = np.arange(0, L) * T  # Create time vector\n",
    "\n",
    "\n",
    "# Output widget for the plots\n",
    "graph_output0 = widgets.Output()\n",
    "\n",
    "def update_plot(selected_frequencies_first):\n",
    "    with graph_output0:\n",
    "        clear_output(wait=True)  # Clear the previous plot\n",
    "        # Generate the signal with the selected frequencies\n",
    "        signal = np.zeros(len(t))\n",
    "        for f in range(selected_frequencies_first[0], selected_frequencies_first[1] + 1):\n",
    "            signal += np.sin(2 * np.pi * f * t)\n",
    "\n",
    "        # Calculate the FFT of the original signal\n",
    "        original_signal_fft = fft(signal)\n",
    "        # Calculate frequencies for the FFT of the original signal\n",
    "        original_freqs = fftfreq(L, T)[:L // 2]\n",
    "        # Calculate magnitude of Fourier coefficients (amplitude) for the original signal\n",
    "        original_magnitude = np.abs(original_signal_fft)[:L // 2]\n",
    "        \n",
    "        # Plotting\n",
    "        fig, axs = plt.subplots(1, 2, figsize=(15, 5))\n",
    "        \n",
    "        # Original signal plot\n",
    "        axs[0].plot(t, signal, color='#00CC96')\n",
    "        axs[0].set_title('Original Signal')\n",
    "        axs[0].set_xlabel('Time (s)')\n",
    "        axs[0].set_ylabel('Amplitude')\n",
    "        axs[0].grid(True)\n",
    "        \n",
    "        # Fourier Transform plot\n",
    "        axs[1].plot(original_freqs, original_magnitude)\n",
    "        axs[1].set_title('Fourier Transformation of Original Signal')\n",
    "        axs[1].set_xlabel('Frequency (Hz)')\n",
    "        axs[1].set_ylabel('Magnitude')\n",
    "        axs[1].grid(True)\n",
    "        \n",
    "        plt.tight_layout()\n",
    "        plt.show()\n",
    "\n",
    "# Create the slider widget\n",
    "frequency_slider = widgets.IntRangeSlider(\n",
    "    value=[5, 10],\n",
    "    min=1,\n",
    "    max=50,\n",
    "    step=1,\n",
    "    description='Frequency Range (Hz)',\n",
    "    style={'description_width': 'initial'},\n",
    "    layout=Layout(width='90%'),\n",
    "    continuous_update=False\n",
    ")\n",
    "\n",
    "\n",
    "def response(change):\n",
    "        fig = update_plot(frequency_slider.value)\n",
    "\n",
    "# Observe changes in the slider and update the plot accordingly\n",
    "frequency_slider.observe(response, names='value')\n",
    "\n",
    "# Style the HTML element\n",
    "html_label = widgets.HTML(\n",
    "    value=\"\"\"\n",
    "        <h2 style='font-weight: bold; font-size: 30px; text-align: center;'>Continuous Time Fourier Transform – CTFT</h2>\n",
    "    \"\"\"\n",
    ")\n",
    "\n",
    "# Display the slider and the outputs\n",
    "vbox_layout = Layout(display='flex', flex_flow='column', align_items='center', width='100%')\n",
    "ui = widgets.VBox([html_label,\n",
    "              frequency_slider,\n",
    "              graph_output0], layout=vbox_layout)\n",
    "\n",
    "out = widgets.interactive_output(update_plot, {'selected_frequencies_first': frequency_slider})\n",
    "\n",
    "clear_output(wait=True)  # Clear the previous plot\n",
    "display(ui, out)\n"
   ]
  },
  {
   "cell_type": "markdown",
   "metadata": {},
   "source": [
    "\n",
    "By sampling $x(t)$ at a rate $f_s=1/T_s$, a discrete-time signal $x(nT_s)$ is produced. Mathematically, it is represented as a series of delta functions\n",
    "\n",
    "$$\n",
    " \n",
    "x_\\delta (t)=\\sum_{n=-\\infty}^{\\infty}x(nT_s)\\delta(t-nT_s)=x(t)\\sum_{n=-\\infty}^{\\infty}\\delta(t-nT_s)\n",
    " \n",
    "$$\n",
    "\n",
    "with Fourier transform\n",
    "\n",
    "$$\n",
    " \n",
    "X_\\delta (f)=\\sum_{n=-\\infty}^{\\infty}x(nT_s)e^{-j2\\pi fnT_s}=X(f)*1/T_s\\sum_{n=-\\infty}^{\\infty}\\delta(f-k/T_s)=1/T_s\\sum_{n=-\\infty}^{\\infty}X(f-k/T_s)\n",
    " \n",
    "$$\n",
    "\n",
    "which is a periodic function."
   ]
  },
  {
   "cell_type": "code",
   "execution_count": 16,
   "metadata": {
    "tags": [
     "thebe-init",
     "hide-code-cell"
    ]
   },
   "outputs": [
    {
     "data": {
      "application/vnd.jupyter.widget-view+json": {
       "model_id": "6caf9cdadaa145709c5980e22cf1b651",
       "version_major": 2,
       "version_minor": 0
      },
      "text/plain": [
       "VBox(children=(HTML(value=\"\\n        <h2 style='font-weight: bold; font-size: 30px; text-align: center;'>Signa…"
      ]
     },
     "metadata": {},
     "output_type": "display_data"
    },
    {
     "data": {
      "application/vnd.jupyter.widget-view+json": {
       "model_id": "e92d003210cd493cb565a0e21924f95d",
       "version_major": 2,
       "version_minor": 0
      },
      "text/plain": [
       "Output()"
      ]
     },
     "metadata": {},
     "output_type": "display_data"
    }
   ],
   "source": [
    "# Παράμετροι δειγματοληψίας\n",
    "T = 1 / fs  # Sampling period\n",
    "L = 1000  # Number of samples\n",
    "\n",
    "# Create time vector\n",
    "t = np.arange(0, L) * T\n",
    "\n",
    "def plot_sampled_signal(f_range, n_samples):\n",
    "    # Generate the signal with the selected frequencies\n",
    "    signal = np.zeros(len(t))\n",
    "    for f in range(f_range[0], f_range[1] + 1):\n",
    "        signal += np.sin(2 * np.pi * f * t)\n",
    "    \n",
    "   # Correct downsampling approach\n",
    "    sample_rate = n_samples  # Directly using selected_samples as an integer\n",
    "    downsampling_factor = int(fs / sample_rate)  # Downsampling factor\n",
    "\n",
    "    # Select every nth sample from the original time vector to match the downsampled signal\n",
    "    sample_points = t[::downsampling_factor]\n",
    "\n",
    "    # Downsample the signal by selecting every nth sample\n",
    "    downsampled_signal = signal[::downsampling_factor]\n",
    "\n",
    "    # Recalculate L for the downsampled signal if needed\n",
    "    L_downsampled = len(downsampled_signal)\n",
    "\n",
    "    # Calculate the DFT of the downsampled signal\n",
    "    sampled_signal_fft = fft(downsampled_signal)\n",
    "\n",
    "    # Calculate frequencies for the FFT of the downsampled signal\n",
    "    # Note: The new sampling period is the inverse of the new sampling rate\n",
    "    sampled_freqs = fftfreq(L_downsampled, 1/sample_rate)[:L_downsampled // 2]\n",
    "\n",
    "    # Calculate magnitude of Fourier coefficients (amplitude) for the downsampled signal\n",
    "    sampled_magnitude = np.abs(sampled_signal_fft)[:L_downsampled // 2]\n",
    "\n",
    "    n = len(downsampled_signal)\n",
    "    T = 1 / sample_rate  # Recalculate the sampling period with the selected sample rate\n",
    "\n",
    "    # After calculating the magnitude of Fourier coefficients\n",
    "    sampled_magnitude = np.abs(sampled_signal_fft)[:L_downsampled // 2]\n",
    "\n",
    "    # Create a new frequency vector that includes the replicated frequencies\n",
    "    # First, calculate the original frequency bins for the positive frequencies\n",
    "    original_sampled_freqs = fftfreq(L_downsampled, T)[:L_downsampled // 2]\n",
    "\n",
    "    shifted_freqs_negative = original_sampled_freqs - 1/T  # Shift for -1/Ts\n",
    "    shifted_freqs_positive = original_sampled_freqs + 1/T  # Shift for +1/Ts\n",
    "\n",
    "    # Concatenate the original and shifted (replicated) frequencies and magnitudes\n",
    "    # This includes the original frequencies, and the replications at -1/Ts and +1/Ts\n",
    "    replicated_freqs = np.concatenate([shifted_freqs_negative, original_sampled_freqs, shifted_freqs_positive])\n",
    "    replicated_magnitude = np.concatenate([sampled_magnitude, sampled_magnitude, sampled_magnitude])\n",
    "\n",
    "    # Sort the replicated frequencies and magnitudes in ascending order for proper plotting\n",
    "    sorted_indices = np.argsort(replicated_freqs)\n",
    "    sorted_replicated_freqs = replicated_freqs[sorted_indices]\n",
    "    sorted_replicated_magnitude = replicated_magnitude[sorted_indices]\n",
    "    \n",
    "    # Plotting\n",
    "    fig, axs = plt.subplots(1, 2, figsize=(15, 5))\n",
    "    \n",
    "    axs[0].scatter(sample_points, downsampled_signal, color='#00CC96', s=12)\n",
    "    axs[0].set_title('Sampled Signal')\n",
    "    axs[0].set_xlabel('Time (s)')\n",
    "    axs[0].set_ylabel('Amplitude')\n",
    "    axs[0].grid(True)\n",
    "    \n",
    "    axs[1].plot(sorted_replicated_freqs, sorted_replicated_magnitude, color='#1F77B4')\n",
    "    axs[1].set_title('Fourier Transformation of Sampled Signal')\n",
    "    axs[1].set_xlabel('Frequency (Hz)')\n",
    "    axs[1].set_ylabel('Magnitude')\n",
    "    axs[1].grid(True)  \n",
    "\n",
    "    plt.tight_layout()\n",
    "    plt.show()\n",
    "\n",
    "# Widgets\n",
    "frequency_slider = widgets.IntRangeSlider(\n",
    "    value=[5, 10],\n",
    "    min=1,\n",
    "    max=50,\n",
    "    step=1,\n",
    "    description='Frequency Range (Hz):',\n",
    "    layout=Layout(width='90%'),\n",
    "    style={'description_width': 'initial'},\n",
    "    continuous_update=False\n",
    ")\n",
    "\n",
    "samples_slider = widgets.IntSlider(\n",
    "    value=500,\n",
    "    min=100,\n",
    "    max=1000,\n",
    "    step=25,\n",
    "    description='Samples:',\n",
    "    layout=Layout(width='90%'),\n",
    "    style={'description_width': 'initial'},\n",
    "    continuous_update=False\n",
    ")\n",
    "\n",
    "html_label = widgets.HTML(\n",
    "    value=\"\"\"\n",
    "        <h2 style='font-weight: bold; font-size: 30px; text-align: center;'>Signal Reconstruction in Digital Signal Processing</h2>\n",
    "    \"\"\"\n",
    ")\n",
    "\n",
    "vbox_layout = Layout(display='flex', flex_flow='column', align_items='center')\n",
    "ui = widgets.VBox([html_label, frequency_slider, samples_slider], layout=vbox_layout)\n",
    "\n",
    "out = widgets.interactive_output(plot_sampled_signal, {'f_range': frequency_slider, 'n_samples': samples_slider})\n",
    "\n",
    "clear_output(wait=True)  # Clear the previous plot\n",
    "display(ui, out)\n"
   ]
  },
  {
   "cell_type": "markdown",
   "metadata": {},
   "source": [
    "For band-limited signals $x(t)$ with bandwidth W, assuming that the sampling rate $fs ≥ 2W$, it holds that $X(f) = T_s X_\\delta(f)$, $0 ≤ f ≤ W$, meaning, the signal $X(f)$ results from passing the sampled $x_\\delta(t)$ through an ideal low-pass filter with gain $T_s$. From the previous schema, it becomes evident that if the sampling is done with a frequency less than twice the highest frequency $W$ of the signal (undersampling), then \"images\" of the spectrum from higher frequencies appear in the signal's frequency domain, preventing the accurate restoration of the original continuous-time signal. This phenomenon is called aliasing, and the error during the restoration of the original signal is referred to as aliasing error.\n",
    "Sampling in the time domain is the basis for defining the Discrete Time Fourier Transform (DTFT). For a series of discrete numbers $x[n]$, the discrete-time Fourier transform is defined as:"
   ]
  },
  {
   "cell_type": "markdown",
   "metadata": {},
   "source": [
    "$$ \n",
    " \n",
    "X_d(\\phi) \\triangleq \\sum_{n=-\\infty}^{\\infty} x[n] \\exp (-j 2 \\pi n \\phi)\n",
    " \n",
    "$$"
   ]
  },
  {
   "cell_type": "markdown",
   "metadata": {},
   "source": [
    "The DTFT is a periodic function with a period of $1$, therefore, it is sufficient to compute it in the frequency interval $[0,1]$ or equivalently $[-½,½]$. Note that the DTFT, although it arises from a series of discrete numbers $x[n]$, is a continuous function of the variable $\\phi$ as illustrated in the next schema."
   ]
  },
  {
   "cell_type": "code",
   "execution_count": 17,
   "metadata": {
    "tags": [
     "thebe-init",
     "hide-code-cell"
    ]
   },
   "outputs": [
    {
     "data": {
      "application/vnd.jupyter.widget-view+json": {
       "model_id": "68339023dcf845fbbd94c9a217f79675",
       "version_major": 2,
       "version_minor": 0
      },
      "text/plain": [
       "VBox(children=(HTML(value=\"\\n        <h2 style='font-weight: bold; font-size: 30px; text-align: center;'>Discr…"
      ]
     },
     "metadata": {},
     "output_type": "display_data"
    },
    {
     "data": {
      "application/vnd.jupyter.widget-view+json": {
       "model_id": "3a1d9f67c8154c20b122708c41b1057a",
       "version_major": 2,
       "version_minor": 0
      },
      "text/plain": [
       "Output()"
      ]
     },
     "metadata": {},
     "output_type": "display_data"
    }
   ],
   "source": [
    "# Παράμετροι δειγματοληψίας\n",
    "T = 1 / fs  # Sampling period\n",
    "L = 1000  # Number of samples\n",
    "\n",
    "# Create time vector\n",
    "t = np.arange(0, L) * T\n",
    "\n",
    "def plot_sampled_signal(selected_frequencies, selected_samples):\n",
    "    # Generate the signal with the selected frequencies\n",
    "    signal = np.zeros(len(t))\n",
    "    for f in range(selected_frequencies[0], selected_frequencies[1] + 1):\n",
    "        signal += np.sin(2 * np.pi * f * t)\n",
    "    \n",
    "   # Correct downsampling approach\n",
    "    sample_rate = selected_samples  # Directly using selected_samples as an integer\n",
    "    downsampling_factor = int(fs / sample_rate)  # Downsampling factor\n",
    "\n",
    "    # Downsample the signal by selecting every nth sample\n",
    "    downsampled_signal = signal[::downsampling_factor]\n",
    "\n",
    "    # Recalculate L for the downsampled signal if needed\n",
    "    L_downsampled = len(downsampled_signal)\n",
    "\n",
    "    # Calculate the DFT of the downsampled signal\n",
    "    sampled_signal_fft = fft(downsampled_signal)\n",
    "\n",
    "    # Calculate magnitude of Fourier coefficients (amplitude) for the downsampled signal\n",
    "    sampled_magnitude = np.abs(sampled_signal_fft)[:L_downsampled // 2]\n",
    "\n",
    "    n = len(downsampled_signal)\n",
    "    T = 1 / sample_rate  # Recalculate the sampling period with the selected sample rate\n",
    "\n",
    "    # After calculating the magnitude of Fourier coefficients\n",
    "    sampled_magnitude = np.abs(sampled_signal_fft)[:L_downsampled // 2]\n",
    "\n",
    "    # Create a new frequency vector that includes the replicated frequencies\n",
    "    # First, calculate the original frequency bins for the positive frequencies\n",
    "    original_sampled_freqs = fftfreq(L_downsampled, T)[:L_downsampled // 2]\n",
    "\n",
    "    shifted_freqs_negative = original_sampled_freqs - 1/T  # Shift for -1/Ts\n",
    "    shifted_freqs_positive = original_sampled_freqs + 1/T  # Shift for +1/Ts\n",
    "\n",
    "    # Concatenate the original and shifted (replicated) frequencies and magnitudes\n",
    "    # This includes the original frequencies, and the replications at -1/Ts and +1/Ts\n",
    "    replicated_freqs = np.concatenate([shifted_freqs_negative, original_sampled_freqs, shifted_freqs_positive])\n",
    "    replicated_magnitude = np.concatenate([sampled_magnitude, sampled_magnitude, sampled_magnitude])\n",
    "\n",
    "    # Sort the replicated frequencies and magnitudes in ascending order for proper plotting\n",
    "    sorted_indices = np.argsort(replicated_freqs)\n",
    "    sorted_replicated_freqs = replicated_freqs[sorted_indices]\n",
    "    sorted_replicated_magnitude = replicated_magnitude[sorted_indices]\n",
    "\n",
    "    # Generate an array of sample indices for the downsampled signal\n",
    "    sample_indices = np.arange(len(downsampled_signal))\n",
    "\n",
    "    # Normalize the frequency values\n",
    "    normalized_freqs = original_sampled_freqs / (1/T)\n",
    "\n",
    "    # Since you previously concatenated and sorted for replication, ensure to apply normalization there as well\n",
    "    normalized_replicated_freqs = np.concatenate([\n",
    "        (shifted_freqs_negative / (1/T)),  # Normalize -1/Ts shifted frequencies\n",
    "        normalized_freqs,  # Already normalized original frequencies\n",
    "        (shifted_freqs_positive / (1/T))   # Normalize +1/Ts shifted frequencies\n",
    "    ])\n",
    "\n",
    "    # Sort the normalized and replicated frequencies for proper plotting\n",
    "    sorted_indices = np.argsort(normalized_replicated_freqs)\n",
    "    sorted_normalized_replicated_freqs = normalized_replicated_freqs[sorted_indices]\n",
    "    sorted_replicated_magnitude = replicated_magnitude[sorted_indices]\n",
    "\n",
    "    # Create the plots\n",
    "    fig, axs = plt.subplots(1, 2, figsize=(15, 5))\n",
    "    \n",
    "    # Plot the downsampled signal\n",
    "    axs[0].scatter(sample_indices, downsampled_signal, color='#00CC96', s=12)\n",
    "    axs[0].set_title('Sampled Signal')\n",
    "    axs[0].set_xlabel('Sample Number')\n",
    "    axs[0].set_ylabel('Amplitude')\n",
    "    axs[0].grid(True)\n",
    "\n",
    "    # Plot the Fourier Transform of the downsampled signal\n",
    "    axs[1].plot(sorted_normalized_replicated_freqs, sorted_replicated_magnitude, color='#1F77B4')\n",
    "    axs[1].set_title('Normalized Fourier Transformation of Sampled Signal')\n",
    "    axs[1].set_xlabel('Normalized Frequency (f/fs)')\n",
    "    axs[1].set_ylabel('Magnitude')\n",
    "    axs[1].grid(True)\n",
    "    \n",
    "    plt.tight_layout()\n",
    "    plt.show()\n",
    "\n",
    "# IPyWidgets sliders\n",
    "frequency_slider = widgets.IntRangeSlider(\n",
    "    value=[5, 10],\n",
    "    min=1,\n",
    "    max=50,\n",
    "    step=1,\n",
    "    description='Frequency range (Hz):',\n",
    "    layout=Layout(width='90%'),\n",
    "    style={'description_width': 'initial'},\n",
    "    continuous_update=False\n",
    ")\n",
    "\n",
    "samples_slider = widgets.IntSlider(\n",
    "    value=500,\n",
    "    min=100,\n",
    "    max=1000,\n",
    "    step=25,\n",
    "    description='Samples:',\n",
    "    layout=Layout(width='90%'),\n",
    "    style={'description_width': 'initial'},\n",
    "    continuous_update=False\n",
    ")\n",
    "\n",
    "html_label = widgets.HTML(\n",
    "    value=\"\"\"\n",
    "        <h2 style='font-weight: bold; font-size: 30px; text-align: center;'>Discrete Time Fourier Transform – DTFT</h2>\n",
    "    \"\"\"\n",
    ")\n",
    "\n",
    "# Display the sliders and output\n",
    "vbox_layout = Layout(display='flex', flex_flow='column', align_items='center')\n",
    "ui = widgets.VBox([html_label, frequency_slider, samples_slider], layout=vbox_layout)\n",
    "\n",
    "# Interaction between widgets and function\n",
    "out = widgets.interactive_output(\n",
    "    plot_sampled_signal, \n",
    "    {'selected_frequencies': frequency_slider, 'selected_samples': samples_slider}\n",
    ")\n",
    "\n",
    "clear_output(wait=True)  # Clear the previous plot\n",
    "display(ui, out)\n"
   ]
  },
  {
   "cell_type": "markdown",
   "metadata": {},
   "source": [
    "With the series of discrete numbers arising as a result of sampling, $x[n]=x(nT_s)$, the DTFT and the Fourier transform $X_\\delta(f)$ of the sampled signal are connected through the correspondence $\\phi ↔ f/f_s$. The common practice is to represent the ratio $f/f_s$ as normalized frequency $\\phi$ ($f_D$, in your notes) and the real frequencies to arise as multiples of it (usually fractional). To link the DTFT with the Fourier transform $X(f)$ of the signal, an additional conversion to the sampling period by multiplying by $T_s$ (or dividing by $f_s$) is required.\n",
    "Analogous to sampling signals in time, we can sample in the frequency domain by taking discrete values $X(kf_o)$ of the Fourier transform corresponding to a frequency analysis $f_o=1/T_o$. This is equivalent to the periodic repetition of the continuous-time signal $x(t)$ every $Τ_ο$, since the periodic signal"
   ]
  },
  {
   "cell_type": "markdown",
   "metadata": {},
   "source": [
    "$$\n",
    " \n",
    "x_p(t)=\\sum_{n=-\\infty}^{\\infty} x\\left(t-n T_{o}\\right)\n",
    " \n",
    "$$"
   ]
  },
  {
   "cell_type": "markdown",
   "metadata": {},
   "source": [
    "has Fourier transform"
   ]
  },
  {
   "cell_type": "markdown",
   "metadata": {},
   "source": [
    "$$\n",
    " \n",
    "X(f) \\sum_{n=-\\infty}^{\\infty} \\exp \\left(-j 2 \\pi f n T_{o}\\right)=X(f) \\frac{1}{T_{o}} \\sum_{k=-\\infty}^{\\infty} \\delta\\left(f-k / T_{o}\\right)=\\frac{1}{T_{o}} \\sum_{k=-\\infty}^{\\infty} X\\left(k / T_{o}\\right) \\delta\\left(f-k / T_{o}\\right)\n",
    " \n",
    "$$"
   ]
  },
  {
   "cell_type": "markdown",
   "metadata": {},
   "source": [
    "Therefore, $X[k] = X(kf_o)/Τ_o$ are the coefficients of the Fourier series expansion of the periodic signal $x_p(t)$. Obviously, for signals $x(t)$ of finite duration, where $x(t)=0$ for $|t| ≥ T$, assuming that the period $T_o ≥ 2T$, it holds that $x(t) = x_p(t)$ for $|t| ≤ T$.\n",
    "In practice, signals have a very long duration to be analyzed in their entirety. Thus, we apply a rectangular time window to retain only their most significant part for the observation period and $x(t)= 0$ elsewhere. In computing the DTFT $X_d(\\phi)$ of such a truncated signal, instead of an infinite sum, we are limited to a finite-length $L$ series of numbers $x[n]$, therefore"
   ]
  },
  {
   "cell_type": "markdown",
   "metadata": {},
   "source": [
    "$$ \n",
    " \n",
    "X_d(\\phi)=\\sum_{n=0}^{L-1} x[n] \\exp (-j 2 \\pi n \\phi)\n",
    " \n",
    "$$"
   ]
  },
  {
   "cell_type": "markdown",
   "metadata": {},
   "source": [
    "The sampling of $X_d(\\phi)$ in the frequency domain at $N$ equidistant normalized frequencies $0$, $1/N$, $2/N$, $…$, $(N-1)/N$, gives"
   ]
  },
  {
   "cell_type": "markdown",
   "metadata": {},
   "source": [
    "$$ \n",
    " \n",
    "X[k]=X_{d}\\left(\\frac{k}{N}\\right)=\\sum_{n=0}^{N-1} x[n] \\exp \\left(-j 2 \\pi n \\frac{k}{N}\\right), \\quad 0 \\leq k \\leq N-1\n",
    " \n",
    "$$"
   ]
  },
  {
   "cell_type": "markdown",
   "metadata": {},
   "source": [
    "where, if $N≥L$, we set $x[n]=0$ for $n≥L$. The last relationship is recognized as the Discrete Fourier Transform (DFT), which for a finite series $xn$, $n=0$, $1$, $…$, $N-1$, is defined as:"
   ]
  },
  {
   "cell_type": "markdown",
   "metadata": {},
   "source": [
    "$$ \n",
    " \n",
    "X_{k} \\triangleq \\sum_{n=0}^{N-1} x_{n} \\exp \\left(-j 2 \\pi n \\frac{k}{N}\\right), \\quad 0 \\leq k \\leq N-1\n",
    " \n",
    "$$"
   ]
  },
  {
   "cell_type": "markdown",
   "metadata": {},
   "source": [
    "and its inverse is"
   ]
  },
  {
   "cell_type": "markdown",
   "metadata": {},
   "source": [
    "$$ \n",
    " \n",
    "x_{n}=\\frac{1}{N} \\sum_{k=0}^{N-1} X_{k} \\exp \\left(j 2 \\pi n \\frac{k}{N}\\right), \\quad 0 \\leq n \\leq N-1\n",
    " \n",
    "$$"
   ]
  },
  {
   "cell_type": "markdown",
   "metadata": {},
   "source": [
    "The $X_d(\\phi)$ as DTFT is a periodic function and if the original series xn was periodic (and we didn't apply the window), then $X_d(\\phi)$ would be zero everywhere except at the sampling points $k/N$. That is, if we consider a finite-length series of numbers that repeats periodically, the discrete-time Fourier transform of it (DTFT) is also periodic and discrete. Moreover, the DFT and its inverse IDFT, if we did not limit the indices $n$ and $k$ between $0$ and $N-1$, would be periodic functions. Therefore, the finite series xn can be considered as a periodic discrete-time signal observed only during a period and the DFT, the series $X_k$, as the samples with resolution $1/N$ of the DTFT $X_d(\\phi)$ in the domain of normalized frequencies $[0,1]$, as shown in the next schema."
   ]
  },
  {
   "cell_type": "code",
   "execution_count": 18,
   "metadata": {
    "tags": [
     "thebe-init",
     "hide-code-cell"
    ]
   },
   "outputs": [
    {
     "data": {
      "application/vnd.jupyter.widget-view+json": {
       "model_id": "e6a8ff4d4ca94427b10b69b13fbfa3d0",
       "version_major": 2,
       "version_minor": 0
      },
      "text/plain": [
       "VBox(children=(HTML(value=\"\\n        <h2 style='font-weight: bold; font-size: 30px; text-align: center;'>Prope…"
      ]
     },
     "metadata": {},
     "output_type": "display_data"
    },
    {
     "data": {
      "application/vnd.jupyter.widget-view+json": {
       "model_id": "c68379112dd74733830f00423e5ec91b",
       "version_major": 2,
       "version_minor": 0
      },
      "text/plain": [
       "Output()"
      ]
     },
     "metadata": {},
     "output_type": "display_data"
    }
   ],
   "source": [
    "# Παράμετροι δειγματοληψίας\n",
    "T = 1 / fs  # Sampling period\n",
    "L = 1000  # Number of samples\n",
    "\n",
    "# Create time vector\n",
    "t = np.arange(0, L) * T\n",
    "\n",
    "def plot_signals(f_range, samples, selected_N):\n",
    "    # Generate the signal with the selected frequencies\n",
    "    signal = np.zeros(len(t))\n",
    "    for f in range(f_range[0], f_range[1] + 1):\n",
    "        signal += np.sin(2 * np.pi * f * t)\n",
    "    \n",
    "   # Correct downsampling approach\n",
    "    sample_rate = samples  # Directly using samples as an integer\n",
    "    downsampling_factor = int(fs / sample_rate)  # Downsampling factor\n",
    "\n",
    "    # Downsample the signal by selecting every nth sample\n",
    "    downsampled_signal = signal[::downsampling_factor]\n",
    "\n",
    "    # Recalculate L for the downsampled signal if needed\n",
    "    L_downsampled = len(downsampled_signal)\n",
    "\n",
    "    # Calculate the DFT of the downsampled signal\n",
    "    sampled_signal_fft = fft(downsampled_signal)\n",
    "\n",
    "    # Calculate magnitude of Fourier coefficients (amplitude) for the downsampled signal\n",
    "    sampled_magnitude = np.abs(sampled_signal_fft)[:L_downsampled // 2]\n",
    "\n",
    "    n = len(downsampled_signal)\n",
    "    T = 1 / sample_rate  # Recalculate the sampling period with the selected sample rate\n",
    "\n",
    "    # After calculating the magnitude of Fourier coefficients\n",
    "    sampled_magnitude = np.abs(sampled_signal_fft)[:L_downsampled // 2]\n",
    "\n",
    "    # Create a new frequency vector that includes the replicated frequencies\n",
    "    # First, calculate the original frequency bins for the positive frequencies\n",
    "    original_sampled_freqs = fftfreq(L_downsampled, T)[:L_downsampled // 2]\n",
    "\n",
    "    shifted_freqs_negative = original_sampled_freqs - 1/T  # Shift for -1/Ts\n",
    "    shifted_freqs_positive = original_sampled_freqs + 1/T  # Shift for +1/Ts\n",
    "\n",
    "    # Concatenate the original and shifted (replicated) frequencies and magnitudes\n",
    "    # This includes the original frequencies, and the replications at -1/Ts and +1/Ts\n",
    "    replicated_freqs = np.concatenate([shifted_freqs_negative, original_sampled_freqs, shifted_freqs_positive])\n",
    "    replicated_magnitude = np.concatenate([sampled_magnitude, sampled_magnitude, sampled_magnitude])\n",
    "\n",
    "    # Sort the replicated frequencies and magnitudes in ascending order for proper plotting\n",
    "    sorted_indices = np.argsort(replicated_freqs)\n",
    "    sorted_replicated_freqs = replicated_freqs[sorted_indices]\n",
    "    sorted_replicated_magnitude = replicated_magnitude[sorted_indices]\n",
    "\n",
    "    # Generate an array of sample indices for the downsampled signal\n",
    "    sample_indices = np.arange(len(downsampled_signal))\n",
    "\n",
    "    # Normalize the frequency values\n",
    "    normalized_freqs = original_sampled_freqs / (1/T)\n",
    "\n",
    "    # Since you previously concatenated and sorted for replication, ensure to apply normalization there as well\n",
    "    normalized_replicated_freqs = np.concatenate([\n",
    "        (shifted_freqs_negative / (1/T)),  # Normalize -1/Ts shifted frequencies\n",
    "        normalized_freqs,  # Already normalized original frequencies\n",
    "        (shifted_freqs_positive / (1/T))   # Normalize +1/Ts shifted frequencies\n",
    "    ])\n",
    "\n",
    "    # Sort the normalized and replicated frequencies for proper plotting\n",
    "    sorted_indices = np.argsort(normalized_replicated_freqs)\n",
    "    sorted_normalized_replicated_freqs = normalized_replicated_freqs[sorted_indices]\n",
    "    sorted_replicated_magnitude = replicated_magnitude[sorted_indices]\n",
    "\n",
    "    # Adjust the sampling interval for selecting frequencies and magnitudes\n",
    "    sampled_indices = np.arange(0, len(sorted_normalized_replicated_freqs), selected_N)\n",
    "    sampled_normalized_replicated_freqs = sorted_normalized_replicated_freqs[sampled_indices]\n",
    "    sampled_replicated_magnitude = sorted_replicated_magnitude[sampled_indices]\n",
    "    \n",
    "    # Create the plots\n",
    "    fig, axs = plt.subplots(1, 2, figsize=(15, 5))\n",
    "\n",
    "    # Time-domain signal plot\n",
    "    axs[0].scatter(sample_indices, downsampled_signal, color='#00CC96', s=12)\n",
    "    axs[0].set_title('Sampled Signal')\n",
    "    axs[0].set_xlabel('Sample Number')\n",
    "    axs[0].set_ylabel('Amplitude')\n",
    "    axs[0].grid(True)\n",
    "\n",
    "    \n",
    "    axs[1].stem(sampled_normalized_replicated_freqs, sampled_replicated_magnitude, linefmt='#1F77B4', markerfmt='o', basefmt=\" \")\n",
    "    axs[1].set_title('Sampled Normalized Fourier Transformation')\n",
    "    axs[1].set_xlabel('Normalized Frequency (f/fs)')\n",
    "    axs[1].set_ylabel('Magnitude')\n",
    "    axs[1].grid(True)\n",
    "\n",
    "    plt.tight_layout()\n",
    "    plt.show()\n",
    "\n",
    "# Define interactive widgets\n",
    "frequency_slider = widgets.IntRangeSlider(\n",
    "    value=[5, 40],\n",
    "    min=1,\n",
    "    max=51,\n",
    "    step=1,\n",
    "    description='Frequency range (Hz):',\n",
    "    layout=Layout(width='90%'),\n",
    "    style={'description_width': 'initial'}\n",
    ")\n",
    "\n",
    "samples_slider = widgets.IntSlider(\n",
    "    value=500,\n",
    "    min=100,\n",
    "    max=1000,\n",
    "    step=25,\n",
    "    description='Samples:',\n",
    "    layout=Layout(width='90%'),\n",
    "    style={'description_width': 'initial'}\n",
    ")\n",
    "\n",
    "N_slider = widgets.IntSlider(\n",
    "    value=1,\n",
    "    min=1,\n",
    "    max=25,\n",
    "    step=1,\n",
    "    description='N:',\n",
    "    layout=Layout(width='90%'),\n",
    "    style={'description_width': 'initial'}\n",
    ")\n",
    "\n",
    "html_label = widgets.HTML(\n",
    "    value=\"\"\"\n",
    "        <h2 style='font-weight: bold; font-size: 30px; text-align: center;'>Properties of the Discrete Fourier Transform in Digital Signal Processing</h2>\n",
    "    \"\"\"\n",
    ")\n",
    "\n",
    "# Display the sliders and output\n",
    "vbox_layout = Layout(display='flex', flex_flow='column', align_items='center')\n",
    "ui = widgets.VBox([html_label, frequency_slider, samples_slider, N_slider], layout=vbox_layout)\n",
    "out = widgets.interactive_output(plot_signals, {'f_range': frequency_slider, 'samples': samples_slider, 'selected_N': N_slider})\n",
    "\n",
    "# Display the widgets and output\n",
    "clear_output(wait=True)  # Clear the previous plot\n",
    "display(ui, out)\n"
   ]
  },
  {
   "cell_type": "markdown",
   "metadata": {},
   "source": [
    "### Spectral Analysis\n",
    "To calculate the energy or power of the waveform $x(t)$, depending on the case of the signal, it holds"
   ]
  },
  {
   "cell_type": "markdown",
   "metadata": {},
   "source": [
    "$$\n",
    " \n",
    "E_{X}=\\int_{-\\infty}^{\\infty} x^{2}(t) d t=\\int_{-\\infty}^{\\infty}|X(f)|^{2} d f\n",
    " \n",
    "$$"
   ]
  },
  {
   "cell_type": "markdown",
   "metadata": {},
   "source": [
    "$$ \n",
    " \n",
    "P_{X}=\\lim _{T \\rightarrow \\infty} \\frac{1}{T} \\int_{-T / 2}^{T / 2} x^{2}(t) d t=\\int_{-\\infty}^{\\infty} S_{X}(f) d f\n",
    " \n",
    "$$"
   ]
  },
  {
   "cell_type": "markdown",
   "metadata": {},
   "source": [
    "where for power signals $S_Χ(f)$ is the power spectral density (PSD) of $x(t)$. For discrete-time signals resulting from sampling of $x(t)$ with period $T_s$, the corresponding relations for calculating the energy or power become"
   ]
  },
  {
   "cell_type": "markdown",
   "metadata": {},
   "source": [
    "$$ \n",
    " \n",
    "E_{X}=T_{s} \\sum_{n=-\\infty}^{\\infty} x^{2}[n]\n",
    " \n",
    "$$"
   ]
  },
  {
   "cell_type": "markdown",
   "metadata": {},
   "source": [
    "$$ \n",
    " \n",
    "P_{X}=\\lim _{N \\rightarrow \\infty} \\frac{1}{2 N+1} \\sum_{n=-N}^{N} x^{2}[n]\n",
    " \n",
    "$$"
   ]
  },
  {
   "cell_type": "markdown",
   "metadata": {},
   "source": [
    "A simple way to estimate the power spectral density of the waveform $x(t)$ is to take the DTFT of the signal's samples and then square the magnitude of the result. This estimator is called a periodogram. The periodogram of a finite-length $L$ signal $x[n]$ is defined as"
   ]
  },
  {
   "cell_type": "markdown",
   "metadata": {},
   "source": [
    "$$ \n",
    " \n",
    "P_{x x}(f) \\triangleq \\frac{\\left|X_{d}\\left(f / f_{s}\\right)\\right|^{2}}{f_{s} L}\n",
    " \n",
    "$$"
   ]
  },
  {
   "cell_type": "markdown",
   "metadata": {},
   "source": [
    "where $X_d(\\phi)$ the DTFT of the signal. As the length $L$ tends to infinity, the periodogram $P_{xx}(f)$ approaches the power spectral density $S_Χ(f)$. The calculation of the periodogram at a finite number of frequencies $kf_s/N$, $k=0$, $1$, $…$, $N$ gives"
   ]
  },
  {
   "cell_type": "markdown",
   "metadata": {},
   "source": [
    "$$ \n",
    " \n",
    "P_{x x}[k]=\\frac{\\left|X_{k}\\right|^{2}}{f_{s} L}, \\quad k=0,1, \\ldots, N-1\n",
    " \n",
    "$$"
   ]
  },
  {
   "cell_type": "markdown",
   "metadata": {},
   "source": [
    "where $X_k$ is the DFT of the finite-length $L$ series of signal samples. The power of the signal is then"
   ]
  },
  {
   "cell_type": "markdown",
   "metadata": {},
   "source": [
    "$$ \n",
    " \n",
    "P_{X}=\\frac{1}{f_{s} L} \\sum_{k=0}^{N-1}\\left|X_{k}\\right|^{2} f_{o}=\\frac{1}{N L} \\sum_{k=0}^{N-1}\\left|X_{k}\\right|^{2}=\\frac{1}{L} \\sum_{n=0}^{L-1}\\left|x_{n}\\right|^{2}\n",
    " \n",
    "$$"
   ]
  },
  {
   "cell_type": "markdown",
   "metadata": {},
   "source": [
    "where the last equality results from the Parseval's theorem, which for the DFT case is expressed as:"
   ]
  },
  {
   "cell_type": "markdown",
   "metadata": {},
   "source": [
    "$$ \n",
    " \n",
    "\\sum_{n=0}^{N-1}\\left|x_{n}\\right|^{2}=\\frac{1}{N} \\sum_{k=0}^{N-1}\\left|X_{k}\\right|^{2}\n",
    " \n",
    "$$"
   ]
  },
  {
   "cell_type": "markdown",
   "metadata": {},
   "source": [
    "In the special case of periodic signals we have"
   ]
  },
  {
   "cell_type": "markdown",
   "metadata": {},
   "source": [
    "$$ \n",
    " \n",
    "S_x(f) = \\sum_{k=-\\infty}^{\\infty} |X[k]|^2 \\delta(f - k/T_0)\n",
    " \n",
    "$$"
   ]
  },
  {
   "cell_type": "markdown",
   "metadata": {},
   "source": [
    "$$ \n",
    " \n",
    "P_x = \\sum_{k=-\\infty}^{\\infty} |X[k]|^2\n",
    " \n",
    "$$"
   ]
  },
  {
   "cell_type": "markdown",
   "metadata": {},
   "source": [
    "where $X[k]$ are the coefficients of the Fourier series expansion and $T_o$ the period of the signal."
   ]
  },
  {
   "cell_type": "markdown",
   "metadata": {},
   "source": [
    "### Application in Practice"
   ]
  },
  {
   "cell_type": "markdown",
   "metadata": {},
   "source": [
    "#### Create a sine wave signal"
   ]
  },
  {
   "cell_type": "markdown",
   "metadata": {},
   "source": [
    "``````{dropdown} Code\n",
    "\n",
    "`````{tab} Python\n",
    "````python\n",
    "import numpy as np\n",
    "import matplotlib.pyplot as plt\n",
    "\n",
    "# ==============================================================================\n",
    "# 2.1 Create a Sinusoidal Signal\n",
    "# ==============================================================================\n",
    "Fs = 2000                  # Sampling frequency in Hz\n",
    "Ts = 1 / Fs                # Sampling period in seconds\n",
    "T = 0.1                    # Signal duration in seconds\n",
    "t = np.arange(0, T, Ts)    # Time vector for signal\n",
    "A = 1                      # Signal amplitude\n",
    "x = A * np.sin(2 * np.pi * 100 * t)  # Generate sinusoidal signal\n",
    "L = len(x)                 # Length of the signal\n",
    "\n",
    "# Plot the sinusoidal signal in time domain\n",
    "plt.figure()\n",
    "plt.plot(t, x)\n",
    "plt.title('Sinusoidal Signal')\n",
    "plt.xlabel('Time (s)')\n",
    "plt.ylabel('Amplitude')\n",
    "plt.show(block=False)\n",
    "plt.pause(1)  # Pause to view the plot, press any key in the console to continue\n",
    "\n",
    "\n",
    "\n",
    "````\n",
    "`````\n",
    "`````{tab} Matlab\n",
    "````matlab\n",
    "% ==============================================================================\n",
    "% 2.1 Create a Sinusoidal Signal\n",
    "% ==============================================================================\n",
    "Fs = 2000;                 % Sampling frequency in Hz\n",
    "Ts = 1 / Fs;               % Sampling period in seconds\n",
    "T = 0.1;                   % Signal duration in seconds\n",
    "t = 0:Ts:T-Ts;             % Time vector for signal\n",
    "A = 1;                     % Signal amplitude\n",
    "x = A * sin(2 * pi * 100 * t); % Generate sinusoidal signal\n",
    "L = length(x);             % Length of the signal\n",
    "plot(t, x);                % Plot the sinusoidal signal in time domain\n",
    "title('Sinusoidal Signal');% Title for the plot\n",
    "xlabel('Time (s)');        % X-axis label\n",
    "ylabel('Amplitude');       % Y-axis label\n",
    "pause;                     % Pause to view the plot, press any key to continue\n",
    "````\n",
    "`````\n",
    "\n"
   ]
  },
  {
   "cell_type": "code",
   "execution_count": 19,
   "metadata": {
    "tags": [
     "remove-input"
    ]
   },
   "outputs": [
    {
     "data": {
      "image/png": "[encoded data removed]",
      "text/plain": [
       "<Figure size 640x480 with 1 Axes>"
      ]
     },
     "metadata": {},
     "output_type": "display_data"
    }
   ],
   "source": [
    "import numpy as np\n",
    "import matplotlib.pyplot as plt\n",
    "\n",
    "# ==============================================================================\n",
    "# 2.1 Create a Sinusoidal Signal\n",
    "# ==============================================================================\n",
    "Fs = 2000                  # Sampling frequency in Hz\n",
    "Ts = 1 / Fs                # Sampling period in seconds\n",
    "T = 0.1                    # Signal duration in seconds\n",
    "t = np.arange(0, T, Ts)    # Time vector for signal\n",
    "A = 1                      # Signal amplitude\n",
    "x = A * np.sin(2 * np.pi * 100 * t)  # Generate sinusoidal signal\n",
    "L = len(x)                 # Length of the signal\n",
    "\n",
    "# Plot the sinusoidal signal in time domain\n",
    "plt.figure()\n",
    "plt.plot(t, x)\n",
    "plt.title('Sinusoidal Signal')\n",
    "plt.xlabel('Time (s)')\n",
    "plt.ylabel('Amplitude')\n",
    "plt.show(block=False)"
   ]
  },
  {
   "cell_type": "markdown",
   "metadata": {},
   "source": [
    "#### Plot the discrete Fourier transform of the sine wave signal"
   ]
  },
  {
   "cell_type": "markdown",
   "metadata": {},
   "source": [
    "``````{dropdown} Code\n",
    "\n",
    "`````{tab} Python\n",
    "````python\n",
    "# ==============================================================================\n",
    "# 2.2 Plot Fourier Transform (FT) of the Signal\n",
    "# ==============================================================================\n",
    "N = 1 * L                  # Length of Fourier Transform\n",
    "Fo = Fs / N                # Frequency resolution\n",
    "Fx = np.fft.fft(x, N)      # Discrete Fourier Transform (DFT) of the signal\n",
    "freq = np.arange(0, N) * Fo  # Frequency vector\n",
    "\n",
    "# Plot the magnitude of the DFT\n",
    "plt.figure()\n",
    "plt.plot(freq, np.abs(Fx))\n",
    "plt.title('FFT of the Signal')\n",
    "plt.xlabel('Frequency (Hz)')\n",
    "plt.ylabel('Magnitude')\n",
    "plt.show(block=False)\n",
    "plt.pause(1)  # Pause to view the plot, press any key in the console to continue\n",
    "plt.axis([0, 100, 0, L/2])\n",
    "plt.pause(1)\n",
    "\n",
    "\n",
    "````\n",
    "`````\n",
    "`````{tab} Matlab\n",
    "````matlab\n",
    "\n",
    "\n",
    "% ==============================================================================\n",
    "% 2.2 Plot Fourier Transform (FT) of the Signal\n",
    "% ==============================================================================\n",
    "N = 1 * L;                 % Length of Fourier Transform\n",
    "Fo = Fs / N;               % Frequency resolution\n",
    "Fx = fft(x, N);            % Discrete Fourier Transform (DFT) of the signal\n",
    "freq = (0:N-1) * Fo;       % Frequency vector\n",
    "plot(freq, abs(Fx));       % Plot the magnitude of the DFT\n",
    "title('FFT of the Signal');% Title for the plot\n",
    "xlabel('Frequency (Hz)');  % X-axis label\n",
    "ylabel('Magnitude');       % Y-axis label\n",
    "pause;                     % Pause to view the plot, press any key to continue\n",
    "axis([0 100 0 L/2]);       % Set axis limits\n",
    "pause;                     % Pause, press any key to continue\n",
    "\n",
    "````\n",
    "`````\n",
    "\n"
   ]
  },
  {
   "cell_type": "code",
   "execution_count": 20,
   "metadata": {
    "tags": [
     "remove-input"
    ]
   },
   "outputs": [
    {
     "data": {
      "image/png": "[encoded data removed]",
      "text/plain": [
       "<Figure size 640x480 with 1 Axes>"
      ]
     },
     "metadata": {},
     "output_type": "display_data"
    }
   ],
   "source": [
    "# ==============================================================================\n",
    "# 2.2 Plot Fourier Transform (FT) of the Signal\n",
    "# ==============================================================================\n",
    "N = 1 * L                  # Length of Fourier Transform\n",
    "Fo = Fs / N                # Frequency resolution\n",
    "Fx = np.fft.fft(x, N)      # Discrete Fourier Transform (DFT) of the signal\n",
    "freq = np.arange(0, N) * Fo  # Frequency vector\n",
    "\n",
    "# Plot the magnitude of the DFT\n",
    "plt.figure()\n",
    "plt.plot(freq, np.abs(Fx))\n",
    "plt.title('FFT of the Signal')\n",
    "plt.xlabel('Frequency (Hz)')\n",
    "plt.ylabel('Magnitude')\n",
    "plt.show(block=False)\n"
   ]
  },
  {
   "cell_type": "markdown",
   "metadata": {},
   "source": [
    "#### Plot the periodogram"
   ]
  },
  {
   "cell_type": "markdown",
   "metadata": {},
   "source": [
    "``````{dropdown} Code\n",
    "\n",
    "`````{tab} Python\n",
    "````python\n",
    "# ==============================================================================\n",
    "# 2.3 Plot Signal Periodogram\n",
    "# ==============================================================================\n",
    "power = (Fx * np.conj(Fx)) / (Fs * L)  # Calculate spectral density\n",
    "\n",
    "plt.figure()\n",
    "plt.plot(freq, power)\n",
    "plt.title('Periodogram')\n",
    "plt.xlabel('Frequency (Hz)')\n",
    "plt.ylabel('Power')\n",
    "plt.show(block=False)\n",
    "plt.pause(1)\n",
    "\n",
    "\n",
    "\n",
    "````\n",
    "`````\n",
    "`````{tab} Matlab\n",
    "````matlab\n",
    "\n",
    "\n",
    "% ==============================================================================\n",
    "% 2.3 Plot Signal Periodogram\n",
    "% ==============================================================================\n",
    "power = Fx .* conj(Fx) / Fs / L; % Calculate spectral density\n",
    "plot(freq, power);         % Plot the periodogram\n",
    "title('{\\bf Periodogram}');% Title for the plot with bold characters\n",
    "xlabel('Frequency (Hz)');  % X-axis label\n",
    "ylabel('Power');           % Y-axis label\n",
    "\n",
    "````\n",
    "`````\n",
    "\n"
   ]
  },
  {
   "cell_type": "code",
   "execution_count": 21,
   "metadata": {
    "tags": [
     "remove-input"
    ]
   },
   "outputs": [
    {
     "data": {
      "image/png": "[encoded data removed]",
      "text/plain": [
       "<Figure size 640x480 with 1 Axes>"
      ]
     },
     "metadata": {},
     "output_type": "display_data"
    }
   ],
   "source": [
    "# ==============================================================================\n",
    "# 2.3 Plot Signal Periodogram\n",
    "# ==============================================================================\n",
    "power = ((Fx * np.conj(Fx)) / (Fs * L)).real  # Calculate spectral density\n",
    "\n",
    "plt.figure()\n",
    "plt.plot(freq, power)\n",
    "plt.title('Periodogram')\n",
    "plt.xlabel('Frequency (Hz)')\n",
    "plt.ylabel('Power')\n",
    "plt.show(block=False)"
   ]
  },
  {
   "cell_type": "markdown",
   "metadata": {},
   "source": [
    "#### Calculate the power of the sine wave signal"
   ]
  },
  {
   "cell_type": "markdown",
   "metadata": {},
   "source": [
    "``````{dropdown} Code\n",
    "\n",
    "`````{tab} Python\n",
    "````python\n",
    "# ==============================================================================\n",
    "# 2.4 Calculate Signal Power\n",
    "# ==============================================================================\n",
    "power_theory = A**2 / 2                # Theoretical power based on signal amplitude\n",
    "dB = 10 * np.log10(power_theory)       # Convert power to decibels (dB)\n",
    "power_time_domain = np.sum(np.abs(x)**2) / L  # Calculate power in time domain\n",
    "power_frequency_domain = np.sum(power) * Fo  # Calculate power in frequency domain\n",
    "\n",
    "# Display calculated power values\n",
    "print(f'Power (Theory): {power_theory}')\n",
    "print(f'Power (dB): {dB}')\n",
    "print(f'Power (Time Domain): {power_time_domain}')\n",
    "print(f'Power (Frequency Domain): {power_frequency_domain}')\n",
    "\n",
    "````\n",
    "`````\n",
    "`````{tab} Matlab\n",
    "````matlab\n",
    "\n",
    "% ==============================================================================\n",
    "% 2.4 Calculate Signal Power\n",
    "% ==============================================================================\n",
    "power_theory = A^2 / 2;            % Theoretical power based on signal amplitude\n",
    "dB = 10 * log10(power_theory);     % Convert power to decibels (dB)\n",
    "power_time_domain = sum(abs(x).^2) / L; % Calculate power in time domain\n",
    "power_frequency_domain = sum(power) * Fo; % Calculate power in frequency domain\n",
    "\n",
    "% Display calculated power values\n",
    "disp(['Power (Theory): ', num2str(power_theory)]);\n",
    "disp(['Power (dB): ', num2str(dB)]);\n",
    "disp(['Power (Time Domain): ', num2str(power_time_domain)]);\n",
    "disp(['Power (Frequency Domain): ', num2str(power_frequency_domain)]);\n",
    "````\n",
    "`````\n",
    "``````"
   ]
  },
  {
   "cell_type": "markdown",
   "metadata": {},
   "source": [
    "- Power (Theory): 0.5\n",
    "- Power (dB): -3.010299956639812\n",
    "- Power (Time Domain): 0.5000000000000001\n",
    "- Power (Frequency Domain): 0.5000000000000001"
   ]
  },
  {
   "cell_type": "code",
   "execution_count": 22,
   "metadata": {
    "tags": [
     "remove-input",
     "remove-output"
    ]
   },
   "outputs": [
    {
     "name": "stdout",
     "output_type": "stream",
     "text": [
      "Power (Theory): 0.5\n",
      "Power (dB): -3.010299956639812\n",
      "Power (Time Domain): 0.5000000000000001\n",
      "Power (Frequency Domain): 0.5000000000000001\n"
     ]
    }
   ],
   "source": [
    "# ==============================================================================\n",
    "# 2.4 Calculate Signal Power\n",
    "# ==============================================================================\n",
    "power_theory = A**2 / 2                # Theoretical power based on signal amplitude\n",
    "dB = 10 * np.log10(power_theory)       # Convert power to decibels (dB)\n",
    "power_time_domain = np.sum(np.abs(x)**2) / L  # Calculate power in time domain\n",
    "power_frequency_domain = np.sum(power * Fo).real  # Calculate power in frequency domain\n",
    "\n",
    "# Display calculated power values\n",
    "print(f'Power (Theory): {power_theory}')\n",
    "print(f'Power (dB): {dB}')\n",
    "print(f'Power (Time Domain): {power_time_domain}')\n",
    "print(f'Power (Frequency Domain): {power_frequency_domain}')"
   ]
  },
  {
   "cell_type": "markdown",
   "metadata": {},
   "source": [
    "## Part 3: Application A"
   ]
  },
  {
   "cell_type": "markdown",
   "metadata": {},
   "source": [
    "### Step 1: Signal creation and display\n",
    "Next, you will apply what you have learned in a more complex example of signal generation that includes modulation and noise addition. For convenience, incomplete PYTHON/MATLAB code with comments is provided, which you need to complete and save."
   ]
  },
  {
   "cell_type": "markdown",
   "metadata": {},
   "source": [
    "``````{dropdown} Code\n",
    "\n",
    "`````{tab} Python\n",
    "````python\n",
    "    # ==============================================================================\n",
    "    # Part 1: Create the signal\n",
    "    # ==============================================================================\n",
    "    import numpy as np\n",
    "    import matplotlib.pyplot as plt\n",
    "\n",
    "    # Close all figure windows\n",
    "    ______\n",
    "\n",
    "    # Clear workspace\n",
    "    # In Python, variables need to be explicitly deleted if needed. Typically, just overwrite or ignore.\n",
    "\n",
    "    # Clear command window\n",
    "    # This is not applicable in Python in the same way as in MATLAB.\n",
    "\n",
    "    Fs = 4000  # Sampling frequency in Hz\n",
    "    Ts = ___  # Sampling period\n",
    "    L = 3000  # Signal length (number of samples)\n",
    "    T = L * Ts  # Signal duration\n",
    "    t = np.arange(0, L) * Ts  # Timestamps of signal calculation\n",
    "\n",
    "    # Signal creation\n",
    "    x = np.sin(2 * np.pi * 200 * t) \\\n",
    "        + 0.3 * np.sin(2 * np.pi * 300 * (t - 2)) \\\n",
    "        + np.sin(2 * np.pi * 400 * t)\n",
    "\n",
    "    # Plot signal x in time\n",
    "    plt.figure(1)\n",
    "    plt.plot(t, x)\n",
    "    plt.title('Time domain plot of x')\n",
    "    plt.xlabel('t (sec)')\n",
    "    plt.ylabel('Amplitude')\n",
    "    plt.show(block=False)  # block=False allows the script to continue while the plot is shown\n",
    "    plt.pause(1)  # Pause for 1 second; adjust as needed\n",
    "\n",
    "    plt.axis([0, 0.3, -2, 2])  # Adjust axes\n",
    "    plt.pause(1)  # Pause for 1 second; adjust as needed\n",
    "\n",
    "    # Calculate Fourier Transform\n",
    "    N = 2 ** np.ceil(np.log2(L)).astype(int)  # FFT length\n",
    "    Fo = ___  # Frequency analysis step\n",
    "    f = np.arange(0, N) * Fo  # Frequency vector\n",
    "    X = ___  # DFT for N points, fill in with the correct function\n",
    "\n",
    "    # Plot signal in frequency domain\n",
    "    plt.figure(2)\n",
    "    plt.plot(f[:N // 2], np.abs(X[:N // 2]))  # Plot signal only for positive frequency values\n",
    "    plt.title('Frequency domain plot of x')\n",
    "    plt.xlabel('f (Hz)')\n",
    "    plt.ylabel('Amplitude')\n",
    "    plt.show(block=False)\n",
    "    plt.pause(1)\n",
    "\n",
    "    # For a two-sided signal plot\n",
    "    plt.figure(3)\n",
    "    f = f - Fs / 2  # Shift frequency vector\n",
    "    X = np.fft.fftshift(X)  # Shift the zero to the center\n",
    "    plt.plot(f, np.abs(X))\n",
    "    plt.title('Two sided spectrum of x')\n",
    "    plt.xlabel('f (Hz)')\n",
    "    plt.ylabel('Amplitude')\n",
    "    plt.show(block=False)\n",
    "    plt.pause(1)\n",
    "\n",
    "    # Calculate power of signal\n",
    "    power = (X * np.conj(X)) / N / L\n",
    "    plt.figure(4)\n",
    "    plt.plot(f, power)\n",
    "    plt.xlabel('Frequency (Hz)')\n",
    "    plt.ylabel('Power')\n",
    "    plt.title('Periodogram')\n",
    "    plt.show(block=False)\n",
    "    plt.pause(1)\n",
    "````\n",
    "`````\n",
    "\n",
    "`````{tab} Matlab\n",
    "````matlab\n",
    "% ==============================================================================\n",
    "% Part 1 Create the signal\n",
    "% ==============================================================================\n",
    "_________ % close all figure windows\n",
    "_________ % clear workspace\n",
    "_________ % clear command window\n",
    "Fs=4000; % sampling frequency 4000 Hz\n",
    "Ts=____; % sampling period\n",
    "L=3000; % signal length (number of samples)\n",
    "T=L*Ts; % signal duration\n",
    "t=0:Ts:(L-1)*Ts; % timestamps of signal calculation\n",
    "x=sin(2*pi*200*t)... % sinusoidal signal of frequency 200 Hz\n",
    "+ 0.3*sin(2*pi*300*(t-2))... % plus sinusoidal signal of frequency 300 Hz\n",
    "+ sin(2*pi*400*t); % plus sinusoidal signal of frequency 400 Hz\n",
    "% Plot signal x in time\n",
    "figure(1) % open a new figure window\n",
    "plot(t,x) % plot the signal\n",
    "title('Time domain plot of x') % plot title\n",
    "xlabel('t (sec)') % x axis label\n",
    "ylabel('Amplitude') % y axis label\n",
    "pause % pause, press any key to continue\n",
    "axis([0 0.3 -2 2]) % x axis values from 0 to 0.3 sec and\n",
    "% y axis values from -2 to 2\n",
    "pause % pause, press any key to continue\n",
    "% Calculate Fourier Transform\n",
    "N = 2^nextpow2(L); % FFT length\n",
    "% nextpow2 calculates next power of 2\n",
    "% grater or equal to L\n",
    "Fo=____; % frequency analysis\n",
    "f=(0:N-1)*Fo; % frequency vector\n",
    "X=________; % DFT for Ν points\n",
    "% Plot signal in frequency domain\n",
    "% As signal is real you can plot the one sided signal(positive frequency values)\n",
    "figure(2) % open a new figure window\n",
    "plot(f(1:_____)),abs(X(1:_____))) % plot signal only for positive\n",
    "%frequency values\n",
    "title('Frequency domain plot of x') % plot title\n",
    "xlabel('f (Hz)') % set x axis label\n",
    "ylabel('Amplitude') % set y axis label\n",
    "pause % pause, press any key to continue\n",
    "% in order to plot the 2-sided signal you can use fftshift matlab\n",
    "% function, type help fftshift for more details\n",
    "figure(3) % open a new figure window\n",
    "f=f-Fs/2; % shift frequency vector to the left by –Fs/2\n",
    "X=fftshift(X); % create 2-sided signal\n",
    "plot(f,abs(X));title('Two sided spectrum of x'); xlabel('f (Hz)');\n",
    "ylabel('Amplitude')\n",
    "pause % pause, press any key to continue\n",
    "% Calculate power of signal\n",
    "power=X.*conj(X)/N/L; % Calculate power of signal\n",
    "figure(4) % open a new figure window\n",
    "plot(f,power) % plot signal power to frequency\n",
    "xlabel('Frequency (Hz)') % x axis label\n",
    "ylabel('Power') % y axis label\n",
    "title('{\\bf Periodogram}') % plot title\n",
    "pause\n",
    "\n",
    "````\n",
    "`````\n",
    "``````"
   ]
  },
  {
   "cell_type": "code",
   "execution_count": 37,
   "metadata": {
    "tags": [
     "thebe-init",
     "hide-code-cell"
    ]
   },
   "outputs": [
    {
     "data": {
      "application/vnd.jupyter.widget-view+json": {
       "model_id": "8a27b82991274aa3bc9617e0857390c4",
       "version_major": 2,
       "version_minor": 0
      },
      "text/plain": [
       "VBox(children=(IntText(value=500, description='Freq 1 (Hz):'), IntText(value=1000, description='Freq 2 (Hz):')…"
      ]
     },
     "metadata": {},
     "output_type": "display_data"
    },
    {
     "data": {
      "application/vnd.jupyter.widget-view+json": {
       "model_id": "98c92a1026754a0790f047c6b1ccb1c8",
       "version_major": 2,
       "version_minor": 0
      },
      "text/plain": [
       "Output()"
      ]
     },
     "metadata": {},
     "output_type": "display_data"
    }
   ],
   "source": [
    "# Callback function to update graphs\n",
    "# Updated callback function to accept three frequency inputs\n",
    "\n",
    "# Create three IntText widgets for input frequencies\n",
    "freq1_input = widgets.IntText(value=500, description='Freq 1 (Hz):', continuous_update=False)\n",
    "freq2_input = widgets.IntText(value=1000, description='Freq 2 (Hz):', continuous_update=False)\n",
    "freq3_input = widgets.IntText(value=2000, description='Freq 3 (Hz):', continuous_update=False)\n",
    "\n",
    "\n",
    "\n",
    "def update_graph(freq1, freq2, freq3):\n",
    "    Fs = 5000  # Hardcoded for simplicity, adjust as needed\n",
    "    Ts = 1 / Fs\n",
    "    L = Fs\n",
    "    T = L * Ts\n",
    "    t = np.arange(0, L) * Ts  # Adjusted to include the last sample\n",
    "\n",
    "    \n",
    "\n",
    "    \n",
    "    global new_x\n",
    "    new_x = np.sin(2 * np.pi * freq1 * t) \\\n",
    "            + 0.8 * np.sin(2 * np.pi * freq2 * t) \\\n",
    "            + np.sin(2 * np.pi * freq3 * t)\n",
    "\n",
    "    \n",
    "    # Plotting\n",
    "    fig, axs = plt.subplots(4, 1, figsize=(12, 20))\n",
    "    \n",
    "    # Time domain plot\n",
    "    axs[0].plot(t, new_x, color='#00CC96')\n",
    "    axs[0].set_title('Time domain plot of x')\n",
    "    axs[0].set_xlabel('t (sec)')\n",
    "    axs[0].set_ylabel('Amplitude')\n",
    "    axs[0].grid(True)\n",
    "\n",
    "  \n",
    "    \n",
    "    # Fourier transform\n",
    "    def nextpow2(i):\n",
    "        n = 1\n",
    "        while n < i:\n",
    "            n *= 2\n",
    "        return n\n",
    "\n",
    "    N = nextpow2(L)                 # Length of Fourier transform\n",
    "    Fo = Fs / N                     # Frequency resolution\n",
    "    f = np.arange(0, N) * Fo        # Frequency vector\n",
    "    X = np.fft.fft(new_x, N)            # Compute DFT for N points\n",
    "\n",
    "    # Frequency domain plot\n",
    "    axs[1].plot(f[1:N], abs(X[1:N]), color='#1F77B4')\n",
    "    axs[1].set_title('Frequency domain plot of x')\n",
    "    axs[1].set_xlabel('f (Hz)')\n",
    "    axs[1].set_ylabel('Amplitude')\n",
    "    axs[1].grid(True)\n",
    "\n",
    "    # Shift frequencies to center\n",
    "    f = f - Fs / 2\n",
    "    X = np.fft.fftshift(X)\n",
    "\n",
    "    # Two-sided spectrum of x\n",
    "    f_shifted = f \n",
    "\n",
    "    # Two-sided spectrum plot\n",
    "    axs[2].plot(f_shifted, abs(X), color='#1F77B4')\n",
    "    axs[2].set_title('Two sided spectrum of x')\n",
    "    axs[2].set_xlabel('f (Hz)')\n",
    "    axs[2].set_ylabel('Amplitude')\n",
    "    axs[2].grid(True)\n",
    "\n",
    "    # Calculate power\n",
    "    power = np.multiply(X, np.conj(X)) / N / L\n",
    "\n",
    "    # Periodogram plot\n",
    "    axs[3].plot(f_shifted, power.real, color='#1F77B4')\n",
    "    axs[3].set_title('Periodogram')\n",
    "    axs[3].set_xlabel('Frequency (Hz)')\n",
    "    axs[3].set_ylabel('Power')\n",
    "    axs[3].grid(True)\n",
    "\n",
    "    plt.tight_layout()\n",
    "    plt.show()\n",
    "\n",
    "\n",
    "\n",
    "\n",
    "ui = widgets.VBox([freq1_input, freq2_input, freq3_input])\n",
    "\n",
    "# Adjusted to map the new frequency inputs\n",
    "out = widgets.interactive_output(update_graph, {'freq1': freq1_input, 'freq2': freq2_input, 'freq3': freq3_input})\n",
    "\n",
    "# Display the widgets and output\n",
    "clear_output(wait=True)  # Clear the previous plot\n",
    "display(ui, out)\n"
   ]
  },
  {
   "cell_type": "markdown",
   "metadata": {},
   "source": [
    "### Step 2: Add noise to the signal\n",
    "Complete the code to create the noise signal n using the randn function. The noise vector n should be the same size as the sine wave x from the first part. Plot the noise signal in the interval from 0 to 0.2 sec and scale from -2 to 2. Calculate the periodogram of n and plot the power spectral density of the noise signal. Add the noise signal and x to get the noisy signal s. Plot the noisy signal s in the time domain in the area from 0 to 0.2 sec and scale from -2 to 2 as well as its bilateral spectrum."
   ]
  },
  {
   "cell_type": "code",
   "execution_count": 38,
   "metadata": {
    "tags": [
     "thebe-init",
     "hide-code-cell"
    ]
   },
   "outputs": [
    {
     "data": {
      "application/vnd.jupyter.widget-view+json": {
       "model_id": "d98425fc309c49148ed2c5d325dc63ea",
       "version_major": 2,
       "version_minor": 0
      },
      "text/plain": [
       "VBox(children=(IntText(value=500, description='Freq 1 (Hz):'), IntText(value=1000, description='Freq 2 (Hz):')…"
      ]
     },
     "metadata": {},
     "output_type": "display_data"
    },
    {
     "data": {
      "application/vnd.jupyter.widget-view+json": {
       "model_id": "2e454129cd5043b392b194e8080a8966",
       "version_major": 2,
       "version_minor": 0
      },
      "text/plain": [
       "Output()"
      ]
     },
     "metadata": {},
     "output_type": "display_data"
    }
   ],
   "source": [
    "import numpy as np\n",
    "import matplotlib.pyplot as plt\n",
    "from ipywidgets import widgets, Layout\n",
    "from IPython.display import display, clear_output\n",
    "\n",
    "# Function to calculate the next highest power of 2\n",
    "def nextpow2(i):\n",
    "    n = 1\n",
    "    count = 0\n",
    "    while n < i:\n",
    "        n *= 2\n",
    "        count += 1\n",
    "    return count\n",
    "\n",
    "# Updated function to accept three frequency inputs\n",
    "def update_plots(freq1, freq2, freq3):\n",
    "    Fs = 5000                    # Sampling frequency\n",
    "    Ts = 1/Fs                    # Sampling period\n",
    "    L = 5000                     # Length of signal (number of samples)\n",
    "    T = L * Ts                   # Duration of signal\n",
    "    t = np.arange(0, L) * Ts     # Time vector, adjusted to include the last sample\n",
    "\n",
    "    # Create the signal using the three input frequencies\n",
    "    new_x = np.sin(2*np.pi*freq1*t) + 0.8*np.sin(2*np.pi*freq2*t) + np.sin(2*np.pi*freq3*t)\n",
    "    rand_n = np.random.randn(len(new_x))  # Generate random noise\n",
    "\n",
    "    # Plotting setup\n",
    "    fig, axs = plt.subplots(4, 1, figsize=(12, 20))\n",
    "    \n",
    "    # Time domain plot of n\n",
    "    axs[0].plot(t, rand_n, color='#00CC96')\n",
    "    axs[0].set_title('Time domain plot of n')\n",
    "    axs[0].set_xlabel('t (sec)')\n",
    "    axs[0].set_ylabel('Amplitude')\n",
    "    axs[0].grid(True)\n",
    "    \n",
    "    # Correction for N calculation using bitwise operator\n",
    "    N = 2**nextpow2(L)  # Corrected the exponentiation operator\n",
    "    Fo = Fs / N   \n",
    "    f = np.arange(0, N) * Fo\n",
    "    f_shifted = f - Fs/2\n",
    "    rand_N = np.fft.fft(rand_n, N)\n",
    "    rand_N = np.fft.fftshift(rand_N)\n",
    "    power_n = np.multiply(rand_N, np.conj(rand_N)) / N / L\n",
    "    \n",
    "    # Frequency domain plot of x\n",
    "    axs[1].plot(f_shifted, power_n.real, color='#1F77B4')\n",
    "    axs[1].set_title('Frequency domain plot of x')\n",
    "    axs[1].set_xlabel('f (Hz)')\n",
    "    axs[1].set_ylabel('Amplitude')\n",
    "    axs[1].grid(True)\n",
    "    \n",
    "    # Two sided spectrum of x\n",
    "    s = new_x + rand_n\n",
    "    axs[2].plot(t, s, color='#00CC96')\n",
    "    axs[2].set_title('Two sided spectrum of x')\n",
    "    axs[2].set_xlabel('t (sec)')\n",
    "    axs[2].set_ylabel('Amplitude')\n",
    "    axs[2].grid(True)\n",
    "    \n",
    "    # Two sided spectrum of s\n",
    "    S = np.fft.fft(s, N)\n",
    "    S = np.fft.fftshift(S)\n",
    "    axs[3].plot(f_shifted, np.abs(S), color='#1F77B4')\n",
    "    axs[3].set_title('Two sided spectrum of s')\n",
    "    axs[3].set_xlabel('f (Hz)')\n",
    "    axs[3].set_ylabel('Magnitude')\n",
    "    axs[3].grid(True)\n",
    "    \n",
    "    plt.tight_layout()\n",
    "    plt.show()\n",
    "\n",
    "# Create three IntText widgets for input frequencies\n",
    "freq1_input = widgets.IntText(value=500, description='Freq 1 (Hz):', continuous_update=False)\n",
    "freq2_input = widgets.IntText(value=1000, description='Freq 2 (Hz):', continuous_update=False)\n",
    "freq3_input = widgets.IntText(value=2000, description='Freq 3 (Hz):', continuous_update=False)\n",
    "\n",
    "# Display the input boxes and output\n",
    "ui = widgets.VBox([freq1_input, freq2_input, freq3_input])\n",
    "\n",
    "# Adjusted to map the new frequency inputs\n",
    "out = widgets.interactive_output(update_plots, {'freq1': freq1_input, 'freq2': freq2_input, 'freq3': freq3_input})\n",
    "\n",
    "# Display the UI\n",
    "clear_output(wait=True)  # Clear the previous plot\n",
    "display(ui, out)\n"
   ]
  },
  {
   "cell_type": "markdown",
   "metadata": {},
   "source": [
    "### Step 3: Multiplication of signals\n",
    "Complete the code for creating a sine wave signal of 1500 Hz frequency and multiply it with the previous signal s. The two signals should be of the same size. Plot the result in the time domain in the area from 0 to 0.2 sec and scale from -2 to 2 as well as in the frequency domain using the fftshift function."
   ]
  },
  {
   "cell_type": "code",
   "execution_count": 39,
   "metadata": {
    "tags": [
     "thebe-init",
     "hide-code-cell"
    ]
   },
   "outputs": [
    {
     "data": {
      "application/vnd.jupyter.widget-view+json": {
       "model_id": "1337ab8c096c4b748f26bbd48af79d7f",
       "version_major": 2,
       "version_minor": 0
      },
      "text/plain": [
       "VBox(children=(IntText(value=500, description='Freq 1 (Hz):'), IntText(value=1000, description='Freq 2 (Hz):')…"
      ]
     },
     "metadata": {},
     "output_type": "display_data"
    },
    {
     "ename": "ValueError",
     "evalue": "Maximum allowed dimension exceeded",
     "output_type": "error",
     "traceback": [
      "\u001b[1;31m---------------------------------------------------------------------------\u001b[0m",
      "\u001b[1;31mValueError\u001b[0m                                Traceback (most recent call last)",
      "Cell \u001b[1;32mIn[39], line 71\u001b[0m\n\u001b[0;32m     68\u001b[0m ui \u001b[38;5;241m=\u001b[39m widgets\u001b[38;5;241m.\u001b[39mVBox([freq1_input, freq2_input, freq3_input])\n\u001b[0;32m     69\u001b[0m display(ui)\n\u001b[1;32m---> 71\u001b[0m \u001b[43mupdate_plots\u001b[49m\u001b[43m(\u001b[49m\u001b[43mfreq1_input\u001b[49m\u001b[38;5;241;43m.\u001b[39;49m\u001b[43mvalue\u001b[49m\u001b[43m,\u001b[49m\u001b[43m \u001b[49m\u001b[43mfreq2_input\u001b[49m\u001b[38;5;241;43m.\u001b[39;49m\u001b[43mvalue\u001b[49m\u001b[43m,\u001b[49m\u001b[43m \u001b[49m\u001b[43mfreq3_input\u001b[49m\u001b[38;5;241;43m.\u001b[39;49m\u001b[43mvalue\u001b[49m\u001b[43m)\u001b[49m\n",
      "Cell \u001b[1;32mIn[39], line 41\u001b[0m, in \u001b[0;36mupdate_plots\u001b[1;34m(freq1, freq2, freq3)\u001b[0m\n\u001b[0;32m     39\u001b[0m \u001b[38;5;66;03m# Fourier transform\u001b[39;00m\n\u001b[0;32m     40\u001b[0m N \u001b[38;5;241m=\u001b[39m \u001b[38;5;241m2\u001b[39m \u001b[38;5;241m*\u001b[39m\u001b[38;5;241m*\u001b[39m nextpow2(L)\n\u001b[1;32m---> 41\u001b[0m Y \u001b[38;5;241m=\u001b[39m \u001b[43mnp\u001b[49m\u001b[38;5;241;43m.\u001b[39;49m\u001b[43mfft\u001b[49m\u001b[38;5;241;43m.\u001b[39;49m\u001b[43mfft\u001b[49m\u001b[43m(\u001b[49m\u001b[43my\u001b[49m\u001b[43m,\u001b[49m\u001b[43m \u001b[49m\u001b[43mN\u001b[49m\u001b[43m)\u001b[49m\n\u001b[0;32m     42\u001b[0m Y \u001b[38;5;241m=\u001b[39m np\u001b[38;5;241m.\u001b[39mfft\u001b[38;5;241m.\u001b[39mfftshift(Y)\n\u001b[0;32m     43\u001b[0m f \u001b[38;5;241m=\u001b[39m np\u001b[38;5;241m.\u001b[39mlinspace(\u001b[38;5;241m-\u001b[39mFs\u001b[38;5;241m/\u001b[39m\u001b[38;5;241m2\u001b[39m, Fs\u001b[38;5;241m/\u001b[39m\u001b[38;5;241m2\u001b[39m, N)\n",
      "File \u001b[1;32mc:\\Users\\lampr\\anaconda3\\Lib\\site-packages\\numpy\\fft\\_pocketfft.py:215\u001b[0m, in \u001b[0;36mfft\u001b[1;34m(a, n, axis, norm)\u001b[0m\n\u001b[0;32m    213\u001b[0m     n \u001b[38;5;241m=\u001b[39m a\u001b[38;5;241m.\u001b[39mshape[axis]\n\u001b[0;32m    214\u001b[0m inv_norm \u001b[38;5;241m=\u001b[39m _get_forward_norm(n, norm)\n\u001b[1;32m--> 215\u001b[0m output \u001b[38;5;241m=\u001b[39m \u001b[43m_raw_fft\u001b[49m\u001b[43m(\u001b[49m\u001b[43ma\u001b[49m\u001b[43m,\u001b[49m\u001b[43m \u001b[49m\u001b[43mn\u001b[49m\u001b[43m,\u001b[49m\u001b[43m \u001b[49m\u001b[43maxis\u001b[49m\u001b[43m,\u001b[49m\u001b[43m \u001b[49m\u001b[38;5;28;43;01mFalse\u001b[39;49;00m\u001b[43m,\u001b[49m\u001b[43m \u001b[49m\u001b[38;5;28;43;01mTrue\u001b[39;49;00m\u001b[43m,\u001b[49m\u001b[43m \u001b[49m\u001b[43minv_norm\u001b[49m\u001b[43m)\u001b[49m\n\u001b[0;32m    216\u001b[0m \u001b[38;5;28;01mreturn\u001b[39;00m output\n",
      "File \u001b[1;32mc:\\Users\\lampr\\anaconda3\\Lib\\site-packages\\numpy\\fft\\_pocketfft.py:65\u001b[0m, in \u001b[0;36m_raw_fft\u001b[1;34m(a, n, axis, is_real, is_forward, inv_norm)\u001b[0m\n\u001b[0;32m     63\u001b[0m index[axis] \u001b[38;5;241m=\u001b[39m \u001b[38;5;28mslice\u001b[39m(\u001b[38;5;241m0\u001b[39m, s[axis])\n\u001b[0;32m     64\u001b[0m s[axis] \u001b[38;5;241m=\u001b[39m n\n\u001b[1;32m---> 65\u001b[0m z \u001b[38;5;241m=\u001b[39m zeros(s, a\u001b[38;5;241m.\u001b[39mdtype\u001b[38;5;241m.\u001b[39mchar)\n\u001b[0;32m     66\u001b[0m z[\u001b[38;5;28mtuple\u001b[39m(index)] \u001b[38;5;241m=\u001b[39m a\n\u001b[0;32m     67\u001b[0m a \u001b[38;5;241m=\u001b[39m z\n",
      "\u001b[1;31mValueError\u001b[0m: Maximum allowed dimension exceeded"
     ]
    },
    {
     "data": {
      "image/png": "[encoded data removed]",
      "text/plain": [
       "<Figure size 1200x1000 with 2 Axes>"
      ]
     },
     "metadata": {},
     "output_type": "display_data"
    }
   ],
   "source": [
    "import numpy as np\n",
    "import matplotlib.pyplot as plt\n",
    "from ipywidgets import widgets, Layout\n",
    "from IPython.display import display, clear_output\n",
    "\n",
    "# Function to calculate the next highest power of 2\n",
    "def nextpow2(i):\n",
    "    n = 1\n",
    "    while n < i:\n",
    "        n *= 2\n",
    "    return n\n",
    "\n",
    "# Function to update plots with input frequencies\n",
    "def update_plots(freq1, freq2, freq3):\n",
    "    Fc = 1500  # Carrier frequency\n",
    "    F1, F2, F3 = freq1, freq2, freq3\n",
    "    Fs = 7000\n",
    "    Ts = 1 / Fs  # Sampling period\n",
    "    L = int(Fs)  # Length of signal, approximated to Fs for a 1-second signal\n",
    "    t = np.linspace(0, 1, L, endpoint=False)  # Time vector\n",
    "\n",
    "    # Creating the composite signal s\n",
    "    s = np.sin(2 * np.pi * F1 * t) + 0.8 * np.sin(2 * np.pi * F2 * t) + np.sin(2 * np.pi * F3 * t)\n",
    "    z = np.sin(2 * np.pi * Fc * t)  # Creating the carrier signal\n",
    "    y = s * z  # Modulating signal\n",
    "\n",
    "    # Plotting the modulated signal in time domain\n",
    "    fig, axs = plt.subplots(2, 1, figsize=(12, 10))\n",
    "    \n",
    "    # Time domain plot\n",
    "    axs[0].plot(t, y, color='#00CC96')\n",
    "    axs[0].set_title('Time domain plot of modulated signal y')\n",
    "    axs[0].set_xlabel('Time (sec)')\n",
    "    axs[0].set_ylabel('Amplitude')\n",
    "    axs[0].set_xlim(0, 0.2)\n",
    "    axs[0].set_ylim(-2, 2)\n",
    "    axs[0].grid(True)\n",
    "\n",
    "    # Fourier transform\n",
    "    N = 2 ** nextpow2(L)\n",
    "    Y = np.fft.fft(y, N)\n",
    "    Y = np.fft.fftshift(Y)\n",
    "    f = np.linspace(-Fs/2, Fs/2, N)\n",
    "    \n",
    "    # Frequency domain plot\n",
    "    axs[1].plot(f, np.abs(Y), color='#1F77B4')\n",
    "    axs[1].set_title('Frequency domain plot of modulated signal y')\n",
    "    axs[1].set_xlabel('Frequency (Hz)')\n",
    "    axs[1].set_ylabel('Magnitude')\n",
    "    axs[1].grid(True)\n",
    "\n",
    "\n",
    "    plt.tight_layout()\n",
    "    plt.show()\n",
    "\n",
    "    freq1_input = widgets.IntText(value=30, description='Freq 1 (Hz):', continuous_update=False)\n",
    "    freq2_input = widgets.IntText(value=80, description='Freq 2 (Hz):', continuous_update=False)\n",
    "    freq3_input = widgets.IntText(value=60, description='Freq 3 (Hz):', continuous_update=False)\n",
    "\n",
    "def handle_freq_update(change):\n",
    "    update_plots(freq1_input.value, freq2_input.value, freq3_input.value)\n",
    "\n",
    "\n",
    "freq1_input.observe(handle_freq_update, names='value')\n",
    "freq2_input.observe(handle_freq_update, names='value')\n",
    "freq3_input.observe(handle_freq_update, names='value')\n",
    "\n",
    "ui = widgets.VBox([freq1_input, freq2_input, freq3_input])\n",
    "display(ui)\n",
    "\n",
    "update_plots(freq1_input.value, freq2_input.value, freq3_input.value)"
   ]
  },
  {
   "cell_type": "markdown",
   "metadata": {},
   "source": [
    "## Part 4: Application B\n",
    "Write a Python spectral analysis function, similar to `signal.welch()`: it will accept as input a real signal vector as well as the sampling frequency, $F_s$, and will plot the one-sided spectral density of the signal in the range $[0-F_s/2)$. The signal will be segmented into sections of length equal to the power of $2$ closest to $1/8$ of its total length, but not less than 256. The sections will overlap by $50%$. The last section, if shorter than the others, will be ignored. The spectrum of each section will be calculated with FFT and the mean value of all sections will be taken. The function should be tested with the signal from example 1.1 and the result compared with that of `signal.welch()`."
   ]
  },
  {
   "cell_type": "markdown",
   "metadata": {},
   "source": [
    "``````{dropdown} Code\n",
    "\n",
    "`````{tab} Python\n",
    "````python\n",
    "# ==============================================================================\n",
    "# Custom nextpow2 and pwelch functions\n",
    "# ==============================================================================\n",
    "def nextpow2(i):\n",
    "        n = 1\n",
    "        while n < i:\n",
    "            n *= 2\n",
    "        return n\n",
    "\n",
    "def pwelch(x,Fs):                    \n",
    "    Ts=1/Fs                    \n",
    "    L=np.size(x)+1                 \n",
    "    T=L*Ts                     \n",
    "    N = 2^nextpow2(L)\n",
    "    Fo=Fs/N                   \n",
    "    f=np.arange(0,N)*Fo       \n",
    "     \n",
    "    window_size = nextpow2(np.size(x)/8)\n",
    "    if (window_size<256):\n",
    "        window_size=256\n",
    "    windows = np.size(x)//(window_size//2)-1\n",
    "    indexer = np.arange(window_size)[None, :] + (window_size//2)*np.arange(windows)[:, None]\n",
    "    windowed_x = x[indexer]\n",
    "\n",
    "    avg_pwr=0\n",
    "    for window in windowed_x:\n",
    "        window = window * np.hanning(np.size(window))\n",
    "        L=np.size(window)+1                 \n",
    "        T=L*Ts                     \n",
    "        N = 2^nextpow2(L)\n",
    "        Fo=Fs/N                   \n",
    "        f=np.arange(0,N)*Fo\n",
    "        window_fft=np.fft.fft(window,N)\n",
    "        power=np.multiply(window_fft,np.conj(window_fft))/N/L\n",
    "        avg_pwr=avg_pwr+power\n",
    "    avg_pwr=avg_pwr/windows\n",
    "\n",
    "    fig, ax = plt.subplots()\n",
    "    fig.set_size_inches(18.5, 10.5)\n",
    "    ax.plot(f[np.arange(0,N//2)],avg_pwr[np.arange(0,N//2)])\n",
    "    ax.set(xlabel='Frequency (Hz)', ylabel='Power',\n",
    "           title='Periodogram pwelch()')\n",
    "    ax.grid()\n",
    "    plt.show()\n",
    "    \n",
    "    return f[np.arange(0,N//2)], avg_pwr[np.arange(0,N//2)]\n",
    "\n",
    "# ==============================================================================\n",
    "# Test the functions & plot the results\n",
    "# ==============================================================================   \n",
    "Fs=______\n",
    "f1,Pxx1 = pwelch(x,Fs)\n",
    "f2,Pxx2 = signal.welch(x,fs=Fs)\n",
    "\n",
    "fig, ax = plt.subplots()\n",
    "fig.set_size_inches(18.5, 10.5)\n",
    "ax.plot(f2,Pxx2)\n",
    "ax.set(xlabel='Frequency (Hz)', ylabel='Power',\n",
    "       title='Periodogram signal.welch()')\n",
    "ax.grid()\n",
    "plt.show()\n",
    "````\n",
    "`````\n",
    "`````{tab} Matlab\n",
    "````matlab\n",
    "% ==============================================================================\n",
    "% Custom nextpow2 and pwelch functions\n",
    "% ==============================================================================\n",
    "function N = nextpow2(i)\n",
    "    n = 1;\n",
    "    while n < i\n",
    "        n = n * 2;\n",
    "    end\n",
    "    N = log2(n); % This returns the exponent N such that 2^N = n, aligning with MATLAB's built-in nextpow2 behavior.\n",
    "end\n",
    "\n",
    "function [f, avgPwr] = pwelch(x, Fs)\n",
    "    Ts = 1/Fs;\n",
    "    L = length(x)+1;\n",
    "    T = L * Ts;\n",
    "    N = 2^nextpow2(L);\n",
    "    Fo = Fs / N;\n",
    "    f = (0:N-1) * Fo;\n",
    "    \n",
    "    windowSize = nextpow2(length(x)/8);\n",
    "    if (windowSize < 256)\n",
    "        windowSize = 256;\n",
    "    end\n",
    "    windows = floor(length(x) / (windowSize / 2)) - 1;\n",
    "    indexer = bsxfun(@plus, (1:windowSize)', (windowSize / 2) * (0:windows-1));\n",
    "    windowedX = x(indexer);\n",
    "    \n",
    "    avgPwr = 0;\n",
    "    for i = 1:size(windowedX, 2)\n",
    "        window = windowedX(:, i) .* hanning(size(windowedX, 1));\n",
    "        L = length(window)+1;\n",
    "        T = L * Ts;\n",
    "        N = 2^nextpow2(L);\n",
    "        Fo = Fs / N;\n",
    "        f = (0:N-1) * Fo;\n",
    "        windowFFT = fft(window, N);\n",
    "        power = (windowFFT .* conj(windowFFT)) / (N * L);\n",
    "        avgPwr = avgPwr + power;\n",
    "    end\n",
    "    avgPwr = avgPwr / windows;\n",
    "    \n",
    "    figure;\n",
    "    set(gcf, 'Position', [100, 100, 1850, 1050]);\n",
    "    plot(f(1:floor(N/2)), avgPwr(1:floor(N/2)));\n",
    "    xlabel('Frequency (Hz)');\n",
    "    ylabel('Power');\n",
    "    title('Periodogram pwelch()');\n",
    "    grid on;\n",
    "    \n",
    "    f = f(1:floor(N/2));\n",
    "    avgPwr = avgPwr(1:floor(N/2));\n",
    "end\n",
    "\n",
    "% ==============================================================================\n",
    "% Test the functions & plot the results\n",
    "% ==============================================================================\n",
    "Fs = _______; % Define your sampling frequency\n",
    "x = randn(1, 10000); % Example data, replace with your actual data\n",
    "\n",
    "[f1, Pxx1] = pwelch(x, Fs);\n",
    "[f2, Pxx2] = pwelch(x, Fs, [], [], Fs); % MATLAB's built-in function\n",
    "\n",
    "figure;\n",
    "set(gcf, 'Position', [100, 100, 1850, 1050]);\n",
    "plot(f2, Pxx2);\n",
    "xlabel('Frequency (Hz)');\n",
    "ylabel('Power');\n",
    "title('Periodogram signal.welch()');\n",
    "grid on;\n",
    "````\n",
    "`````\n",
    "``````"
   ]
  },
  {
   "cell_type": "code",
   "execution_count": 26,
   "metadata": {
    "tags": [
     "thebe-init",
     "hide-code-cell"
    ]
   },
   "outputs": [
    {
     "data": {
      "application/vnd.jupyter.widget-view+json": {
       "model_id": "8e19a1f6cbf54f198c81169f548351cc",
       "version_major": 2,
       "version_minor": 0
      },
      "text/plain": [
       "VBox(children=(HTML(value='\\n    \\n    '), IntSlider(value=500, continuous_update=False, description='Sampling…"
      ]
     },
     "metadata": {},
     "output_type": "display_data"
    },
    {
     "data": {
      "application/vnd.jupyter.widget-view+json": {
       "model_id": "6576627cac3c4b2db4002650210e4aeb",
       "version_major": 2,
       "version_minor": 0
      },
      "text/plain": [
       "Output()"
      ]
     },
     "metadata": {},
     "output_type": "display_data"
    }
   ],
   "source": [
    "def nextpow2(i):\n",
    "        n = 1\n",
    "        while n < i:\n",
    "            n *= 2\n",
    "        return n\n",
    "\n",
    "def pwelch(x,Fs):                    \n",
    "    Ts=1/Fs                    \n",
    "    L=np.size(x)+1                 \n",
    "    T=L*Ts                     \n",
    "    N = 2^nextpow2(L)\n",
    "    Fo=Fs/N                   \n",
    "    f=np.arange(0,N)*Fo       \n",
    "     \n",
    "    window_size = nextpow2(np.size(x)/8)\n",
    "    if (window_size<256):\n",
    "        window_size=256\n",
    "    windows = np.size(x)//(window_size//2)-1\n",
    "    indexer = np.arange(window_size)[None, :] + (window_size//2)*np.arange(windows)[:, None]\n",
    "    windowed_x = x[indexer]\n",
    "\n",
    "    avg_pwr=0\n",
    "    for window in windowed_x:\n",
    "        window = window * np.hanning(np.size(window))\n",
    "        L=np.size(window)+1                 \n",
    "        T=L*Ts                     \n",
    "        N = 2^nextpow2(L)\n",
    "        Fo=Fs/N                   \n",
    "        f=np.arange(0,N)*Fo\n",
    "        window_fft=np.fft.fft(window,N)\n",
    "        power=np.multiply(window_fft,np.conj(window_fft))/N/L\n",
    "        avg_pwr=avg_pwr+power\n",
    "    avg_pwr=avg_pwr/windows\n",
    "\n",
    "    \n",
    "    \n",
    "    return f[np.arange(0,N//2)], avg_pwr[np.arange(0,N//2)]\n",
    "\n",
    "# Function to update plots based on slider value\n",
    "def update_plots(Fs):\n",
    "   \n",
    "    T = 1 / Fs  # Update sampling period\n",
    "    t1 = np.arange(0, L) * T  # Update time vector\n",
    "    \n",
    "    # Recompute signal x with new sampling frequency\n",
    "    last_x = np.sin(2 * np.pi * 30 * t1) + 0.8 * np.sin(2 * np.pi * 80 * (t1 - 2)) + np.sin(2 * np.pi * 60 * t1)\n",
    "    \n",
    "    # Compute pwelch\n",
    "    f1, Pxx1 = pwelch(last_x, Fs)\n",
    "    \n",
    "    # Compute signal.welch\n",
    "    f2, Pxx2 = signal.welch(last_x, fs=Fs)\n",
    "    \n",
    "    # Plot\n",
    "    fig, axs = plt.subplots(2, 1, figsize=(18.5, 20))\n",
    "    \n",
    "    # Plot custom pwelch\n",
    "    axs[0].plot(f1, Pxx1)\n",
    "    axs[0].set(xlabel='Frequency (Hz)', ylabel='Power', title='Periodogram pwelch()')\n",
    "    axs[0].grid()\n",
    "    \n",
    "    # Plot signal.welch\n",
    "    axs[1].plot(f2, Pxx2)\n",
    "    axs[1].set(xlabel='Frequency (Hz)', ylabel='Power', title='Periodogram signal.welch()')\n",
    "    axs[1].grid()\n",
    "    \n",
    "    plt.tight_layout()\n",
    "\n",
    "# Create slider for Fs\n",
    "Fs_slider = widgets.IntSlider(\n",
    "    value=500,\n",
    "    min=100,\n",
    "    max=2000, \n",
    "    step=100,\n",
    "    description='Sampling Frequency (Fs):',\n",
    "    layout=Layout(width='90%'),\n",
    "    style={'description_width': 'initial'}, \n",
    "    continuous_update=False\n",
    ")\n",
    "\n",
    "\n",
    "html_label = widgets.HTML(\n",
    "    value=\"\"\"\n",
    "    \n",
    "    \"\"\"\n",
    ")\n",
    "\n",
    "# Display the sliders and output\n",
    "vbox_layout = Layout(display='flex', flex_flow='column', align_items='center')\n",
    "\n",
    "ui = widgets.VBox([html_label, Fs_slider], layout=vbox_layout)\n",
    "out = widgets.interactive_output(update_plots, {'Fs': Fs_slider})\n",
    "\n",
    "# Display the slider\n",
    "clear_output(wait=True)  # Clear the previous plot\n",
    "display(ui,out)"
   ]
  }
 ],
 "metadata": {
  "kernelspec": {
   "display_name": "Python 3 (ipykernel)",
   "language": "python",
   "name": "python3"
  },
  "language_info": {
   "codemirror_mode": {
    "name": "ipython",
    "version": 3
   },
   "file_extension": ".py",
   "mimetype": "text/x-python",
   "name": "python",
   "nbconvert_exporter": "python",
   "pygments_lexer": "ipython3",
   "version": "3.11.5"
  }
 },
 "nbformat": 4,
 "nbformat_minor": 4
}
