{
 "cells": [
  {
   "cell_type": "markdown",
   "metadata": {},
   "source": [
    "# Εργαστηριακή Άσκηση 2\n",
    "Σκοπός της δεύτερης σειράς ασκήσεων είναι η εξοικείωση με τις συναρτήσεις σχεδιασμού φίλτρων πεπερασμένης κρουστικής απόκρισης (FIR) και την υλοποίησή τους στο MATLAB. **Προτού ξεκινήσετε την άσκηση θα πρέπει να μελετήσετε με προσοχή το Κεφάλαιο 1 και, ειδικότερα, την παράγραφο 1.3 του τεύχους του μαθήματος.** Το MATLAB (www.mathworks.com) είναι ένα διαδραστικό εμπορικό πρόγραμμα (Windows, Linux, Unix) με το οποίο μπορείτε να κάνετε εύκολα αριθμητικές πράξεις με πίνακες. Μπορεί να το έχετε εγκατεστημένο τοπικά, στον προσωπικό σας υπολογιστή ή να εργάζεστε σε κάποιο Εργαστήριο Προσωπικών Υπολογιστών (ΕΠΥ) της Σχολής σας που διαθέτει το συγκεκριμένο λογισμικό.\n"
   ]
  },
  {
   "cell_type": "markdown",
   "metadata": {},
   "source": [
    "## Μέρος 1: Εισαγωγή\n",
    "Στο MATLAB οι συναρτήσεις $fft$ και $ifft$ υποθέτουν ζεύγος μετασχηματισμού Fourier $x(t)$ και $X(f)$ υπολογισμένων σε μη αρνητικά διαστήματα \n",
    "$ t=[0:N-1]ts $ και $ f=[0:N-1]fo. $ Όπως έχετε ήδη δει στην Εργαστηριακή άσκηση 1, το άνω μισό μέρος του διαστήματος συχνοτήτων αντιστοιχεί στις αρνητικές συχνότητες του σήματος, όταν υπολογίζουμε το $X(f)$ με τη βοήθεια της συνάρτησης $fft$ (για σήματα πραγματικών τιμών, αυτά τα δυο μισά είναι κατοπτρικά ως προς το μέσο του διαστήματος). Ακριβώς το ίδιο ισχύει και για το άνω μισό μέρος του χρονικού διαστήματος, όταν το σήμα $x(t)$ προκύπτει από τον αντίστροφο μετασχηματισμό Fourier μέσω της $ifft$.\n",
    "\n",
    "Το MATLAB διαθέτει τη συνάρτηση $fftshift$ για να ολισθήσει κυκλικά τις τιμές του σήματος ή του μετασχηματισμού Fourier, ώστε να αντιστοιχούν σε κεντραρισμένα στο μηδέν αμφίπλευρα διαστήματα, δηλαδή, στις χρονικές στιγμές $tb=[-ceil((N-1)/2): floor((N-1)/2)]ts$ ή στις συχνότητες $fb=[–ceil((N-1)/2): floor((N-1)/2)]fo$. Με τον τρόπο αυτό μπορούμε να παράγουμε τα $xb(t)$ και $Xb(f)$ που αντιστοιχούν στην αμφίπλευρη αναπαράσταση του σήματος και του μετασχηματισμού Fourier.\n",
    "\n",
    "Για να κατανοήσετε τα ανωτέρω θεωρείστε το διάνυσμα $[1 2 3 4]$ ως το αποτέλεσμα του $FFT$ μήκους 4. Τότε, το πρώτο στοιχείο (1) είναι ο όρος dc, το τρίτο στοιχείο (3) είναι το σημείο στο μισό της συχνότητας δειγματοληψίας $fs/2$, που μπορεί να εκληφθεί ότι αντιστοιχεί είτε στην $–fs/2$ είτε στην $+fs/2$. Τα στοιχεία 2 και 4 αντιστοιχούν στις συχνότητες $+fs/4$ και $–fs/4$. Εφαρμόζοντας την $fftshift$, το στοιχείο 3 εμφανίζεται πρώτο, που σημαίνει ότι στο MATLAB αντιστοιχεί στην αρνητική συχνότητα $–fs/2$, το επόμενο στοιχείο 4 αντιστοιχεί στη συχνότητα $–fs/4$ ακολουθούμενο από το dc και τη συχνότητα $+fs/4$. Για ένα μετασχηματισμό περιττού μήκους, δεν υφίσταται σημείο για το $±fs/2$. Έτσι για το διάνυσμα $[1 2 3]$, η εφαρμογή της $fftshift$ θα δώσει τα στοιχεία που αντιστοιχούν στις συχνότητες $–fs/3, 0, +fs/3$.\n",
    "\n",
    "Εκτός του ότι παράγουν εξόδους με τις αρνητικές συχνότητες ή χρόνους στο άνω μισό του διανύσματος, αμφότερες οι συναρτήσεις $fft$ και $ifft$ αναμένουν ως είσοδο διάνυσμα με την ίδια μορφή, αφού προφανώς ισχύουν οι ταυτότητες\n",
    "\n",
    "<center>\n",
    "\n",
    "$h == \\text{ifft}(\\text{fft}(h))$ και $H == \\text{fft}(\\text{ifft}(H))$\n",
    "\n",
    "</center>\n",
    "\n",
    "\n",
    "Η πρώτη υποδεικνύει ότι η είσοδος της $ifft$ πρέπει να είναι αντεστραμμένη, όπως την παράγει η $fft$, και η δεύτερη ότι η είσοδος της $fft$ πρέπει να είναι αντεστραμμένη, όπως την παράγει η $ifft$.\n",
    "\n",
    "Στο επόμενο σχήμα βλέπετε παραστατικά ένα ημιτονικό σήμα που έχει πολλαπλασιασθεί με παράθυρο Blackman τόσο στην αμφίπλευρη, όσο και την μονόπλευρη αναπαράστασή του."
   ]
  },
  {
   "cell_type": "code",
   "execution_count": null,
   "metadata": {},
   "outputs": [],
   "source": [
    "import plotly.graph_objs as go\n",
    "import numpy as np\n",
    "from plotly.subplots import make_subplots\n",
    "\n",
    "\n",
    "# Seed for reproducibility\n",
    "np.random.seed(0)\n",
    "\n",
    "# Generate a windowed random data\n",
    "t = np.linspace(-40, 40, 80)  # 80 samples\n",
    "window = np.zeros_like(t)\n",
    "window[30:50] = 1  # non-zero between indices 30 and 50\n",
    "random_data = np.random.randn(len(t))\n",
    "x_t_windowed = window * random_data  # Apply window to random data\n",
    "\n",
    "# Create a figure\n",
    "fig = make_subplots()\n",
    "\n",
    "# Add stem lines - one line plot for each stem\n",
    "for i in range(len(t)):\n",
    "    if window[i] != 0:  # Only plot stems for the windowed part\n",
    "        fig.add_trace(go.Scatter(x=[t[i], t[i]], y=[0, x_t_windowed[i]], mode='lines', line=dict(color='blue'), showlegend=False))\n",
    "\n",
    "# Add markers at the top of stems\n",
    "fig.add_trace(go.Scatter(x=t, y=x_t_windowed, mode='markers', name='Windowed Random Data', marker=dict(color='blue')))\n",
    "\n",
    "# Update yaxis and xaxis properties\n",
    "fig.update_yaxes(title_text=\"Amplitude\")\n",
    "fig.update_xaxes(title_text=\"Time (samples)\")\n",
    "\n",
    "# Update layout\n",
    "fig.update_layout(height=600, width=800, title_text=\"Windowed Random Data with Stem Lines\")\n",
    "fig.show(renderer='notebook')\n"
   ]
  },
  {
   "cell_type": "markdown",
   "metadata": {},
   "source": [
    "<div style=\"text-align: center;\">\n",
    "    <img src=\"../content/images/lab2_1.png\" alt=\"lab2_1.png\">\n",
    "</div>"
   ]
  },
  {
   "cell_type": "code",
   "execution_count": null,
   "metadata": {},
   "outputs": [],
   "source": [
    "import plotly.graph_objs as go\n",
    "import numpy as np\n",
    "from plotly.subplots import make_subplots\n",
    "\n",
    "\n",
    "# Seed for reproducibility\n",
    "np.random.seed(0)\n",
    "\n",
    "# Generate windowed random data\n",
    "t = np.linspace(-40, 40, 80)  # 80 samples\n",
    "window = np.zeros_like(t)\n",
    "window[30:50] = 1  # non-zero between indices 30 and 50\n",
    "random_data = np.random.randn(len(t))\n",
    "x_t_windowed = window * random_data  # Apply window to random data\n",
    "\n",
    "# Μετατροπή των αρνητικών χρόνων στο τέλος\n",
    "negative_time_indices = t < 0\n",
    "positive_time_indices = t >= 0\n",
    "\n",
    "# Συνδυασμός των δεδομένων με τα αρνητικά στο τέλος\n",
    "t_reordered = np.concatenate((t[positive_time_indices], t[negative_time_indices]))\n",
    "x_t_windowed_reordered = np.concatenate((x_t_windowed[positive_time_indices], x_t_windowed[negative_time_indices]))\n",
    "\n",
    "# Create a figure\n",
    "fig = make_subplots()\n",
    "\n",
    "# Add stem lines for reordered data\n",
    "for i in range(len(t_reordered)):\n",
    "    fig.add_trace(go.Scatter(x=[t_reordered[i], t_reordered[i]], y=[0, x_t_windowed_reordered[i]], mode='lines', line=dict(color='blue'), showlegend=False))\n",
    "\n",
    "# Add markers at the top of stems for reordered data\n",
    "fig.add_trace(go.Scatter(x=t_reordered, y=x_t_windowed_reordered, mode='markers', name='Reordered Windowed Random Data', marker=dict(color='red')))\n",
    "\n",
    "# Update yaxis and xaxis properties\n",
    "fig.update_yaxes(title_text=\"Amplitude\")\n",
    "fig.update_xaxes(title_text=\"Time (samples)\")\n",
    "\n",
    "# Update layout\n",
    "fig.update_layout(height=600, width=800, title_text=\"Reordered Windowed Random Data with Stem Lines\")\n",
    "fig.show(renderer='notebook')\n"
   ]
  },
  {
   "cell_type": "markdown",
   "metadata": {},
   "source": [
    "Οι αντίστοιχοι μετασχηματισμοί Fourier, σε αμφίπλευρη και μονόπλευρη αναπαράσταση, φαίνονται στο επόμενο σχήμα:"
   ]
  },
  {
   "cell_type": "markdown",
   "metadata": {},
   "source": [
    "<div style=\"text-align: center;\">\n",
    "    <img src=\"../content/images/lab2_2.png\" alt=\"lab2_2.png\">\n",
    "</div>"
   ]
  },
  {
   "cell_type": "markdown",
   "metadata": {},
   "source": [
    "Όταν τα $x(t)$ και $X(f)$ παράγονται από το MATLAB, δεν χρειάζεται κάποια ιδιαίτερη προσοχή, πλην της κυκλικής ολίσθησης σε περίπτωση που θέλουμε π.χ. να σχεδιάσουμε το αμφίπλευρο φάσμα ή σήμα. Όταν όμως ένα εκ των $x(t)$ ή $X(f)$ ορίζεται από τον χρήστη απαιτείται περισσότερη προσοχή, διότι, συνήθως χρησιμοποιούνται τα αμφίπλευρα σήματα ή φάσματα. Μπορείτε να μεταβείτε από τη μία αναπαράσταση στην άλλη ως εξής:\n",
    "\n",
    "$x = ifftshift(xb)$, $X = fft(x)$, $Xb = fftshift(X)$, εάν ξεκινάτε από αμφίπλευρο σήμα και θέλετε να καταλήξετε σε αμφίπλευρο φάσμα, και\n",
    "\n",
    "$X = ifftshift(Xb)$, $x = ifft(X)$, $xb = fftshift(x)$, εάν ξεκινάτε από αμφίπλευρο φάσμα και θέλετε να καταλήξετε σε αμφίπλευρο σήμα,\n",
    "\n",
    "όπου η συνάρτηση $ifftshift$ του MATLAB εκτελεί την αντίστροφη λειτουργία της $fftshift$. Όταν το $N$ είναι άρτιο, οι $fftshift$ και $ifftshift$ δίνουν το ίδιο αποτέλεσμα. Όταν όμως το $N$ είναι περιττό αυτό δεν ισχύει και χρειάζεται προσοχή στη χρήση τους. Στην πράξη, η προσεκτική εφαρμογή των ανωτέρω έχει σημασία όταν υπολογίζεται η φάση του φάσματος. Το πλάτος του φάσματος δεν επηρεάζεται από την κυκλική ολίσθηση των στοιχείων που προκαλούν οι $fftshift$ και $ifftshift$ (δείτε ιδιότητες DFT)."
   ]
  },
  {
   "cell_type": "markdown",
   "metadata": {},
   "source": [
    "### Εξάσκηση\n",
    "Δοκιμάστε στο παράθυρο εντολών τα ακόλουθα προκειμένου να εμπεδώσετε τη χρήση των συναρτήσεων $fftshift$ και $ifftshift$.\n"
   ]
  },
  {
   "cell_type": "code",
   "execution_count": null,
   "metadata": {
    "tags": [
     "hide-input"
    ]
   },
   "outputs": [],
   "source": [
    "import numpy as np\n",
    "\n",
    "# Create the array X\n",
    "X = np.arange(-2, 3)  # equivalent to MATLAB's -2:2\n",
    "\n",
    "# Apply fftshift and ifftshift\n",
    "fftshifted_X = np.fft.fftshift(X)\n",
    "ifftshifted_X = np.fft.ifftshift(X)\n",
    "\n",
    "# Double fftshift and a combination of fftshift and ifftshift\n",
    "Y = np.fft.fftshift(np.fft.fftshift(X))\n",
    "Z = np.fft.ifftshift(np.fft.fftshift(X))\n",
    "\n",
    "# Check if arrays are equal\n",
    "X_equals_Y = np.array_equal(X, Y)\n",
    "X_equals_Z = np.array_equal(X, Z)\n",
    "\n",
    "print(f\"X equals Y: {X_equals_Y}\")\n",
    "print(f\"X equals Z: {X_equals_Z}\")"
   ]
  },
  {
   "cell_type": "markdown",
   "metadata": {
    "vscode": {
     "languageId": "xml"
    }
   },
   "source": [
    "<details>\n",
    "    <summary style=\"background-color: #3383FF; color: white; cursor: pointer; padding: 2px; border-radius: 5px;\"><strong>Αντίστοιχος κώδικας MatLab</strong></summary>\n",
    "    <div >\n",
    "        <pre>\n",
    "X = [-2:2]\n",
    "fftshift(X)\n",
    "ifftshift(X)\n",
    "Y = fftshift(fftshift(X));\n",
    "Z = ifftshift(fftshift(X));\n",
    "isequal(X,Y)\n",
    "isequal(X,Z)\n",
    "        </pre>\n",
    "    </div>\n",
    "</details>\n"
   ]
  },
  {
   "cell_type": "markdown",
   "metadata": {},
   "source": [
    "\n",
    "Ερώτηση 1: Ποιο εκ των διανυσμάτων Υ και Ζ ισούται με το X; Γράψτε την απάντησή σας σε ένα αρχείο κειμένου lab2_nnnnn.txt, όπου nnnnn τα πέντε τελευταία νούμερα του αριθμού μητρώου σας, χρησιμοποιώντας το Notepad από το μενού των Windows (Start → Programs → Accessories → Notepad) και αποθηκεύστε το στον φάκελο My Documents. Θα υποβάλετε το αρχείο αυτό ηλεκτρονικά στο τέλος, αφού απαντήσετε και τις επόμενες ερωτήσεις, οπότε μπορείτε να τα αφήσετε ανοικτό.\n",
    "Ερώτηση 2: Επαναλάβατε με $X=[-1:2]$. Τι παρατηρείτε; Γράψτε την απάντησή σας στο αρχείο κειμένου lab2_nnnnn.txt.\n",
    "Δοκιμάστε στο παράθυρο εντολών τα ακόλουθα δύο παραδείγματα για να εμπεδώσετε τη χρήση των συναρτήσεων $fftshift$ και $ifftshift$ σε συνδυασμό με τις $fft$ και $ifft$.\n",
    "\n",
    "\n"
   ]
  },
  {
   "cell_type": "code",
   "execution_count": null,
   "metadata": {
    "tags": [
     "hide-input"
    ]
   },
   "outputs": [],
   "source": [
    "import numpy as np\n",
    "from scipy.fft import fft, ifft, fftshift, ifftshift\n",
    "import dash\n",
    "from dash import Dash, dcc, html\n",
    "import plotly.graph_objs as go\n",
    "import dash_bootstrap_components as dbc\n",
    "\n",
    "\n",
    "# First part: Original signal and its FFT\n",
    "xb = np.array([1, 2, 3, 4, 5, 4, 3, 2, 1])\n",
    "x = ifftshift(xb)\n",
    "X = fft(x)\n",
    "Xb = fftshift(X)  # Spectrum with DC component in the center\n",
    "\n",
    "# Second part: Low-pass filter effect\n",
    "Xb_low_pass = np.array([0, 0, 1, 1, 1, 1, 1, 0, 0])\n",
    "X_low_pass = ifftshift(Xb_low_pass)\n",
    "x_low_pass = ifft(X_low_pass)\n",
    "xb_low_pass = fftshift(x_low_pass)\n",
    "\n",
    "app11 = Dash(__name__, external_stylesheets=[dbc.themes.BOOTSTRAP])\n",
    "\n",
    "# Directly define the figures for plotting\n",
    "Original_Signal = go.Figure(go.Scatter(x=np.arange(-4, 5), y=xb,line=dict(color='blue'), mode='lines+markers', name='Original Signal'))\n",
    "Original_Signal.update_layout(\n",
    "    title='Original Signal',\n",
    "    xaxis={'title': 'Time (s)', 'showgrid': True, 'gridcolor': 'LightGrey'},\n",
    "    yaxis={'title': 'Amplitude', 'showgrid': True, 'gridcolor': 'LightGrey'},\n",
    "    margin={'l': 40, 'b': 40, 't': 40, 'r': 40},\n",
    "    hovermode='closest',\n",
    "    paper_bgcolor='white',\n",
    "    plot_bgcolor='white',\n",
    "    template='plotly_white'\n",
    ")\n",
    "\n",
    "Magnitude_Spectrum = go.Figure(go.Scatter(x=np.arange(-4, 5), y=np.abs(Xb),line=dict(color='red'), mode='lines+markers', name='Magnitude Spectrum'))\n",
    "Magnitude_Spectrum.update_layout(\n",
    "    title='Magnitude Spectrum',\n",
    "    xaxis={'title': 'Frequency (Hz)', 'showgrid': True, 'gridcolor': 'LightGrey'},\n",
    "    yaxis={'title': 'Amplitude', 'showgrid': True, 'gridcolor': 'LightGrey'},\n",
    "    margin={'l': 40, 'b': 40, 't': 40, 'r': 40},\n",
    "    hovermode='closest',\n",
    "    paper_bgcolor='white',\n",
    "    plot_bgcolor='white',\n",
    "    template='plotly_white'\n",
    ")\n",
    "\n",
    "Low_pass_Spectrum = go.Figure(go.Scatter(x=np.arange(-4, 5), y=Xb_low_pass,line=dict(color='green'), mode='lines+markers', name='Low-pass Spectrum'))\n",
    "Low_pass_Spectrum.update_layout(\n",
    "    title='Low-pass Spectrum',\n",
    "    xaxis={'title': 'Time (s)', 'showgrid': True, 'gridcolor': 'LightGrey'},\n",
    "    yaxis={'title': 'Amplitude', 'showgrid': True, 'gridcolor': 'LightGrey'},\n",
    "    margin={'l': 40, 'b': 40, 't': 40, 'r': 40},\n",
    "    hovermode='closest',\n",
    "    paper_bgcolor='white',\n",
    "    plot_bgcolor='white',\n",
    "    template='plotly_white'\n",
    ")\n",
    "\n",
    "Reconstructed_Signal = go.Figure(go.Scatter(x=np.arange(-4, 5), y=xb_low_pass.real,line=dict(color='purple'), mode='lines+markers', name='Reconstructed Signal'))\n",
    "Reconstructed_Signal.update_layout(\n",
    "    title='Reconstructed Signal',\n",
    "    xaxis={'title': 'Frequency (Hz)', 'showgrid': True, 'gridcolor': 'LightGrey'},\n",
    "    yaxis={'title': 'Amplitude', 'showgrid': True, 'gridcolor': 'LightGrey'},\n",
    "    margin={'l': 40, 'b': 40, 't': 40, 'r': 40},\n",
    "    hovermode='closest',\n",
    "    paper_bgcolor='white',\n",
    "    plot_bgcolor='white',\n",
    "    template='plotly_white'\n",
    ")\n",
    "\n",
    "app11.layout = html.Div(\n",
    "    children=[\n",
    "        html.H2('Signal Analysis'),\n",
    "        dbc.Row(\n",
    "            children=[\n",
    "                dbc.Col(dcc.Graph(figure=Original_Signal, style={'height': '250px'}), width=6),\n",
    "                dbc.Col(dcc.Graph(figure=Magnitude_Spectrum, style={'height': '250px'}), width=6)\n",
    "            ]\n",
    "        ),\n",
    "        dbc.Row(\n",
    "            children=[\n",
    "                dbc.Col(dcc.Graph(figure=Low_pass_Spectrum, style={'height': '250px'}), width=6),\n",
    "                dbc.Col(dcc.Graph(figure=Reconstructed_Signal, style={'height': '250px'}), width=6)\n",
    "            ]\n",
    "        )\n",
    "    ],\n",
    "    style={'backgroundColor': 'white', 'padding': '20px'}\n",
    ")\n",
    "\n",
    "if __name__ == '__main__':\n",
    "    app11.run_server(mode='inline',debug=True, port=8200)\n"
   ]
  },
  {
   "cell_type": "markdown",
   "metadata": {},
   "source": [
    "<details>\n",
    "    <summary style=\"background-color: #3383FF; color: white; cursor: pointer; padding: 2px; border-radius: 5px;\"><strong>Αντίστοιχος κώδικας MatLab</strong></summary>\n",
    "    <div>\n",
    "        <pre>\n",
    "close all;\n",
    "clear all;\n",
    "clc;\n",
    "xb=[1 2 3 4 5 4 3 2 1]                          % πραγματικό σήμα με άρτια συμμετρία\n",
    "figure;\n",
    "subplot (2,1,1);\n",
    "plot([-4:4],xb);\n",
    "ylabel('xb');\n",
    "x=ifftshift(xb)                                 % το σήμα με τις αρνητικές συνιστώσες στο άνω μέρος\n",
    "X=fft(x)                                        % FFT\n",
    "Xb=fftshift(X)                                  % το φάσμα με τη dc συνιστώσα στο κέντρο, πραγματικές\n",
    "                                                % τιμές με άρτια συμμετρία όπως αναμένεται\n",
    "subplot (2,1,2);\n",
    "plot([-4:4],Xb);\n",
    "ylabel('Xb');\n",
    "close all;\n",
    "clear all;\n",
    "clc;\n",
    "Xb=[0 0 1 1 1 1 1 0 0]                          % φάσμα βαθυπερατού σήματος με άρτια συμμετρία\n",
    "figure;\n",
    "subplot (2,1,1);\n",
    "plot([-4:4],Xb);\n",
    "ylabel('Xb');\n",
    "X=ifftshift(Xb)                                 % το φάσμα με τις αρνητικές συνιστώσες στο άνω μέρος\n",
    "x=ifft(X)                                       % IFFT\n",
    "xb=fftshift(x)                                  % πραγματικό σήμα με άρτια συμμετρία όπως αναμένεται\n",
    "subplot (2,1,2);\n",
    "plot([-4:4],xb);\n",
    "ylabel('xb');\n",
    "        </pre>\n",
    "    </div>\n",
    "</details>\n"
   ]
  },
  {
   "cell_type": "markdown",
   "metadata": {},
   "source": [
    "\n",
    "Ερώτηση 3: Τροποποιείστε το προηγούμενο παράδειγμα ώστε να ξεκινήσετε απευθείας με τον ορισμό του φάσματος του βαθυπερατού σήματος $X$ όπως το αναμένει η $ifft$. Γράψτε την απάντησή σας στο αρχείο κειμένου lab2_nnnnn.txt."
   ]
  },
  {
   "cell_type": "code",
   "execution_count": null,
   "metadata": {
    "tags": [
     "hide-input"
    ]
   },
   "outputs": [],
   "source": [
    "from scipy import signal\n",
    "import scipy.io.wavfile\n",
    "# Ανατρέξτε στην τεκμηρίωση της βιβλιοθήκης scipy.signal\n",
    "# https://docs.scipy.org/doc/scipy/reference/signal.html\n",
    "from scipy.fft import fft, fftfreq\n",
    "from dash import Dash, dcc, html, Input, Output\n",
    "import matplotlib\n",
    "import matplotlib.pyplot as plt\n",
    "import numpy as np\n",
    "from numpy import random\n",
    "import pandas\n",
    "import plotly\n",
    "import plotly.express as px\n",
    "import plotly.graph_objs as go\n",
    "import dash_bootstrap_components as dbc\n",
    "import warnings\n",
    "warnings.filterwarnings('ignore')\n",
    "print(\"Libraries added successfully!\")"
   ]
  },
  {
   "cell_type": "markdown",
   "metadata": {},
   "source": [
    "## Μέρος 2: Σχεδιασμός και υλοποίηση φίλτρων\n",
    "\n",
    "Θα ασχοληθούμε με το Παράδειγμα 1.2 της παραγράφου 1.5 του τεύχους Μαθήματος. Το παράδειγμα αυτό παρουσιάζει δύο εναλλακτικές μεθόδους σχεδιασμού FIR φίλτρων:\n",
    "α) τη μέθοδο των παραθύρων και\n",
    "β) τη μέθοδο των ισοϋψών κυματώσεων\n",
    "τις οποίες εφαρμόζει στην περίπτωση βαθυπερατών φίλτρων. \n",
    "\n",
    "Στο παράδειγμα, τα φίλτρα δοκιμάζονται σε ένα πραγματικό σήμα, s, το οποίο είναι αποθηκευμένο  στο αρχείο sima.mat (binary αρχείο MATLAB). Πρόκειται για ένα σήμα sonar με φάσμα που εκτείνεται μέχρι περίπου τα 4 KHz και συχνότητα δειγματοληψίας Fs=8192 (είναι και αυτή αποθηκευμένη στο αρχείο sima.mat, μαζί με το σήμα).\n",
    "\n",
    "Εδώ θα πειραματιστούμε με δύο σήματα: (i) το sonar του παραδείγματος, το οποίο εδώ διαβάζεται από ένα .txt αρχείο (έχει προέλθει με εξαγωγή του s από το MATLAB) και (ii) ένα σήμα μουσικής, το violin.wav (σήμα από μουσική βιολιού), το οποίο περιέχει υψηλότερες συχνότητες και έχει προέλθει με δειγματοληψία στα Fs_viol=44100 Hz.\n"
   ]
  },
  {
   "cell_type": "markdown",
   "metadata": {},
   "source": [
    "### Σήμα sonar"
   ]
  },
  {
   "cell_type": "code",
   "execution_count": null,
   "metadata": {
    "tags": [
     "hide-input"
    ]
   },
   "outputs": [],
   "source": [
    "# Ανάγνωση δειγμάτων σήματος από txt file\n",
    "with open('files/sima.txt') as f:\n",
    "    s = [float(x) for x in f]\n",
    "s=np.array(s)   \n",
    "print('μέγεθος σήματος=', s.shape)\n",
    "Fs=8192"
   ]
  },
  {
   "cell_type": "markdown",
   "metadata": {},
   "source": [
    "#### Στο πεδίο του χρόνου"
   ]
  },
  {
   "cell_type": "code",
   "execution_count": null,
   "metadata": {
    "tags": [
     "hide-input"
    ]
   },
   "outputs": [],
   "source": [
    "import plotly.graph_objs as go\n",
    "import numpy as np\n",
    "from IPython.core.display import HTML\n",
    "import plotly.io as pio\n",
    "\n",
    "# Assuming s and Fs are defined earlier in your notebook\n",
    "t = np.arange(0, len(s)) / Fs\n",
    "\n",
    "# Time domain plot of x\n",
    "fig = go.Figure()\n",
    "fig.add_trace(go.Scatter(x=t, y=s, mode='lines', line=dict(color='#00CC96')))\n",
    "fig.update_layout(title='Time domain plot of x', title_x=0.5, title_font=dict(size=20, color='black', family=\"Arial, sans-serif\"),\n",
    "                  xaxis_title='t (sec)',\n",
    "                  yaxis_title='Amplitude',\n",
    "                  template='plotly_white',\n",
    "                  xaxis=dict(range=[0, 0.8]),\n",
    "                  yaxis=dict(range=[-0.05, 0.05]))\n",
    "fig.show(renderer='notebook')\n",
    "\n",
    "# Convert figure to HTML\n",
    "fig_html = pio.to_html(fig, full_html=False, include_plotlyjs='cdn')\n",
    "display(HTML(fig_html))"
   ]
  },
  {
   "cell_type": "markdown",
   "metadata": {},
   "source": [
    "#### Ακούμε το σήμα "
   ]
  },
  {
   "cell_type": "code",
   "execution_count": null,
   "metadata": {
    "tags": [
     "hide-input"
    ]
   },
   "outputs": [],
   "source": [
    "import ipywidgets as widgets\n",
    "from IPython.display import Audio, display\n",
    "\n",
    "# Assuming `s` is your audio signal and `Fs` is the sampling rate\n",
    "# If `s` is not defined, you need to define it or load an audio signal.\n",
    "\n",
    "# Function to play the sound\n",
    "def play_sound(b):\n",
    "    display(Audio(data=20*s, rate=Fs))\n",
    "\n",
    "# Create a button widget\n",
    "button1 = widgets.Button(description=\"Play Sound\")\n",
    "\n",
    "# Display the button\n",
    "display(button1)\n",
    "\n",
    "# On button click, play the sound\n",
    "button1.on_click(play_sound)"
   ]
  },
  {
   "cell_type": "markdown",
   "metadata": {},
   "source": [
    "#### Φάσμα (spectrum) "
   ]
  },
  {
   "cell_type": "code",
   "execution_count": null,
   "metadata": {
    "tags": [
     "hide-input"
    ]
   },
   "outputs": [],
   "source": [
    "f, Pxx_den = signal.welch(s, Fs, noverlap=128, nperseg=256)\n",
    "\n",
    "# Create Plotly figure\n",
    "fig = go.Figure()\n",
    "\n",
    "# Add trace for the PSD using a logarithmic scale on the y-axis\n",
    "fig.add_trace(go.Scatter(x=f, y=Pxx_den, mode='lines',line=dict(color='#1F77B4')))\n",
    "\n",
    "# Update layout for a semilog plot\n",
    "fig.update_layout(\n",
    "    title='Φάσμα σήματος sonar',title_x=0.5, title_font=dict(size=20, color='black', family=\"Arial, sans-serif\"),\n",
    "    xaxis_title='Συχνότητα (Hz)',\n",
    "    yaxis_title='Πυκνότητα φάσματος ισχύος',\n",
    "    yaxis_type='log',  # Set y-axis to logarithmic scale\n",
    "    template='plotly_white',\n",
    "    xaxis=dict(showgrid=True),\n",
    "    yaxis=dict(showgrid=True),  # Customize grid color\n",
    ")\n",
    "\n",
    "# Show figure\n",
    "fig.show(renderer='notebook')\n",
    "# Convert figure to HTML\n",
    "fig_html = pio.to_html(fig, full_html=False, include_plotlyjs='cdn')\n",
    "display(HTML(fig_html))"
   ]
  },
  {
   "cell_type": "markdown",
   "metadata": {},
   "source": [
    "### Σήμα βιολιού"
   ]
  },
  {
   "cell_type": "code",
   "execution_count": null,
   "metadata": {
    "scrolled": true,
    "tags": [
     "hide-input"
    ]
   },
   "outputs": [],
   "source": [
    "f=open(\"files/violin.wav\", 'rb')\n",
    "Fs_viol, s_viol = scipy.io.wavfile.read(f)\n",
    "print('Fs_viol=',Fs_viol, ' number of samples=',len(s_viol))\n",
    "f.close()"
   ]
  },
  {
   "cell_type": "markdown",
   "metadata": {},
   "source": [
    "#### Στο πεδίο του χρόνου"
   ]
  },
  {
   "cell_type": "code",
   "execution_count": null,
   "metadata": {
    "tags": [
     "hide-input"
    ]
   },
   "outputs": [],
   "source": [
    "tvl = np.arange(0, len(s_viol)) / Fs_viol\n",
    "\n",
    "# Create Plotly figure\n",
    "fig = go.Figure()\n",
    "\n",
    "# Add trace for the signal\n",
    "fig.add_trace(go.Scatter(x=tvl, y=s_viol, mode='lines',line=dict(color='#1F77B4')))\n",
    "\n",
    "# Update layout\n",
    "fig.update_layout(\n",
    "    title='Signal over time',title_x=0.5, title_font=dict(size=20, color='black', family=\"Arial, sans-serif\"),\n",
    "    xaxis_title='Time (s)',\n",
    "    yaxis_title='Amplitude',\n",
    "    template='plotly_white',\n",
    "    xaxis=dict(showgrid=True),\n",
    "    yaxis=dict(showgrid=True)\n",
    ")\n",
    "\n",
    "# Show figure\n",
    "fig.show(renderer='notebook')\n",
    "# Convert figure to HTML\n",
    "fig_html = pio.to_html(fig, full_html=False, include_plotlyjs='cdn')\n",
    "display(HTML(fig_html))"
   ]
  },
  {
   "cell_type": "code",
   "execution_count": null,
   "metadata": {
    "tags": [
     "hide-input"
    ]
   },
   "outputs": [],
   "source": [
    "import ipywidgets as widgets\n",
    "from IPython.display import display\n",
    "import sounddevice as sd\n",
    "import threading\n",
    "\n",
    "# Define your sound and its sampling rate\n",
    "# s_viol and Fs_viol should be defined before this point\n",
    "\n",
    "def play_sound():\n",
    "    sd.play(s_viol, Fs_viol)\n",
    "\n",
    "def on_button_clicked(b):\n",
    "    threading.Thread(target=play_sound).start()\n",
    "\n",
    "# Create a button widget\n",
    "play_button = widgets.Button(description=\"Play Sound\")\n",
    "\n",
    "# Link the button to the function that plays the sound\n",
    "play_button.on_click(on_button_clicked)\n",
    "\n",
    "# Display the button\n",
    "display(play_button)\n"
   ]
  },
  {
   "cell_type": "markdown",
   "metadata": {},
   "source": [
    "#### Φάσμα (spectrum) και Φασματόγραμμα  (spectorgram)"
   ]
  },
  {
   "cell_type": "code",
   "execution_count": null,
   "metadata": {
    "tags": [
     "hide-input"
    ]
   },
   "outputs": [],
   "source": [
    "f, Pxx_den = signal.welch(s_viol, Fs_viol, nperseg=1024, noverlap=256)\n",
    "\n",
    "# Create Plotly figure\n",
    "fig = go.Figure()\n",
    "\n",
    "# Add trace for the PSD using a logarithmic scale on the y-axis\n",
    "fig.add_trace(go.Scatter(x=f, y=Pxx_den, mode='lines',line=dict(color='#1F77B4')))\n",
    "\n",
    "# Update layout for a semilog plot\n",
    "fig.update_layout(\n",
    "    title='Power Spectral Density', title_x=0.5, title_font=dict(size=20, color='black', family=\"Arial, sans-serif\"),\n",
    "    xaxis_title='Συχνότητα [Hz]',\n",
    "    yaxis_title='Πυκνότητα φάσματος ισχύος [V<sup>2</sup>/Hz]',\n",
    "    yaxis_type='log',  # Set y-axis to logarithmic scale\n",
    "    template='plotly_white',\n",
    "    xaxis=dict(),\n",
    "    yaxis=dict(),  # Customize grid color\n",
    ")\n",
    "\n",
    "# Set y-axis range\n",
    "fig.update_yaxes(range=[np.log10(0.5e-2), np.log10(1e5)])\n",
    "\n",
    "# Show figure\n",
    "fig.show(renderer='notebook')\n",
    "# Convert figure to HTML\n",
    "fig_html = pio.to_html(fig, full_html=False, include_plotlyjs='cdn')\n",
    "display(HTML(fig_html))"
   ]
  },
  {
   "cell_type": "code",
   "execution_count": null,
   "metadata": {
    "tags": [
     "hide-input"
    ]
   },
   "outputs": [],
   "source": [
    "f, tsp, Sxx = signal.spectrogram(s, Fs)\n",
    "\n",
    "# Create Plotly figure\n",
    "fig = go.Figure(data=go.Heatmap(\n",
    "    z=10 * np.log10(Sxx),  # Convert power to dB\n",
    "    x=tsp,  # Time for x-axis\n",
    "    y=f,  # Frequency for y-axis\n",
    "))\n",
    "\n",
    "# Update layout\n",
    "fig.update_layout(\n",
    "    title='Spectrogram', title_x=0.5, title_font=dict(size=20, color='black', family=\"Arial, sans-serif\"),\n",
    "    xaxis_title='Χρόνος [sec]',\n",
    "    yaxis_title='Συχνότητα [Hz]',\n",
    "    template='plotly_white'\n",
    ")\n",
    "\n",
    "# Show figure\n",
    "fig.show(renderer='notebook')\n",
    "# Convert figure to HTML\n",
    "fig_html = pio.to_html(fig, full_html=False, include_plotlyjs='cdn')\n",
    "display(HTML(fig_html))"
   ]
  },
  {
   "cell_type": "markdown",
   "metadata": {},
   "source": [
    "### Βαθυπερατά φίλτρα"
   ]
  },
  {
   "cell_type": "markdown",
   "metadata": {},
   "source": [
    "#### Η μέθοδος των παραθύρων\n",
    "...\n",
    "...\n"
   ]
  },
  {
   "cell_type": "code",
   "execution_count": null,
   "metadata": {
    "scrolled": true,
    "tags": [
     "hide-input"
    ]
   },
   "outputs": [],
   "source": [
    "from scipy import signal\n",
    "import numpy as np\n",
    "import matplotlib.pyplot as plt\n",
    "\n",
    "\n",
    "H = np.hstack((np.ones(int(Fs/8)), np.zeros(int(Fs-Fs/4)), np.ones(int(Fs/8))))\n",
    "\n",
    "# Create the x values for the stem plot\n",
    "x_values = np.arange(len(H))\n",
    "\n",
    "# Create Plotly figure\n",
    "fig = go.Figure()\n",
    "\n",
    "# Add stems\n",
    "for x, y in zip(x_values, H):\n",
    "    fig.add_trace(go.Scatter(x=[x, x], y=[0, y], mode='lines', line=dict(color='#1F77B4')))\n",
    "\n",
    "# Add markers\n",
    "fig.add_trace(go.Scatter(x=x_values, y=H, mode='markers', marker=dict(color='#1F77B4')))\n",
    "\n",
    "# Update layout\n",
    "fig.update_layout(\n",
    "    title='Stem plot', title_x=0.5,title_font=dict(size=20, color='black', family=\"Arial, sans-serif\"),\n",
    "    xaxis_title='Index',\n",
    "    yaxis_title='Amplitude',\n",
    "    template='plotly_white'\n",
    ")\n",
    "\n",
    "# Show figure\n",
    "fig.show(renderer='notebook')\n",
    "# Convert figure to HTML\n",
    "fig_html = pio.to_html(fig, full_html=False, include_plotlyjs='cdn')\n",
    "display(HTML(fig_html))\n",
    "\n",
    "\n",
    "#its kinda slow\n"
   ]
  },
  {
   "cell_type": "markdown",
   "metadata": {},
   "source": [
    "#### _Ορθογωνικό παράθυρο (απλή περικοπή της h)_"
   ]
  },
  {
   "cell_type": "code",
   "execution_count": null,
   "metadata": {
    "tags": [
     "hide-input"
    ]
   },
   "outputs": [],
   "source": [
    "import dash\n",
    "from dash import dcc, html\n",
    "from dash.dependencies import Input, Output\n",
    "import numpy as np\n",
    "import plotly.graph_objs as go\n",
    "\n",
    "h = np.real(np.fft.ifft(H))\n",
    "middle = int(len(h)/2)\n",
    "h = np.hstack((h[middle:], h[:middle]))\n",
    "h32 = h[middle-16:middle+16]\n",
    "h64 = h[middle-32:middle+32]\n",
    "h128 = h[middle-64:middle+64]\n",
    "h160 = h[middle-80:middle+80]\n",
    "h256 = h[middle-128:middle+128]\n",
    "\n",
    "\n",
    "h_variants = {\n",
    "    'h32': h[middle-16:middle+16],\n",
    "    'h64': h[middle-32:middle+32],\n",
    "    'h128': h[middle-64:middle+64],\n",
    "    'h160': h[middle-80:middle+80],\n",
    "    'h256': h[middle-128:middle+128],\n",
    "}\n",
    "\n",
    "# Function to create and update the stem plot based on selected filter\n",
    "def create_update_stem_plot(h_data):\n",
    "    x_values = np.arange(len(h_data))\n",
    "    fig = go.Figure()\n",
    "    \n",
    "    # Add stems\n",
    "    for x, y in zip(x_values, h_data):\n",
    "        fig.add_trace(go.Scatter(x=[x, x], y=[0, y], mode='lines', line=dict(color='#1F77B4')))\n",
    "    \n",
    "    # Add markers\n",
    "    fig.add_trace(go.Scatter(x=x_values, y=h_data, mode='markers', marker=dict(color='#1F77B4')))\n",
    "    \n",
    "    # Update layout\n",
    "    fig.update_layout(\n",
    "        title='Stem plot of selected filter',\n",
    "        xaxis_title='Index',\n",
    "        yaxis_title='Amplitude',\n",
    "        template='plotly_white'\n",
    "    )\n",
    "    return fig\n",
    "\n",
    "# Initialize the Dash app\n",
    "app21 = dash.Dash(__name__)\n",
    "\n",
    "# App layout\n",
    "app21.layout = html.Div([\n",
    "    html.Label('Filter:'),  # Label for the dropdown\n",
    "    dcc.Dropdown(\n",
    "        id='filter-dropdown',\n",
    "        options=[{'label': key, 'value': key} for key in h_variants.keys()],\n",
    "        value='h32',  # Default value\n",
    "    ),\n",
    "    dcc.Graph(id='plot')\n",
    "])\n",
    "\n",
    "# Callback to update the plot based on the dropdown selection\n",
    "@app21.callback(\n",
    "    Output('plot', 'figure'),\n",
    "    [Input('filter-dropdown', 'value')]\n",
    ")\n",
    "def update_plot(selected_filter):\n",
    "    h_data = h_variants[selected_filter]\n",
    "    return create_update_stem_plot(h_data)\n",
    "\n",
    "# Run the app\n",
    "if __name__ == '__main__':\n",
    "    app21.run_server(mode='inline',debug=True, port=8071)  # You can change the port number if needed\n"
   ]
  },
  {
   "cell_type": "code",
   "execution_count": null,
   "metadata": {
    "tags": [
     "hide-input"
    ]
   },
   "outputs": [],
   "source": [
    "import ipywidgets as widgets\n",
    "from IPython.display import display\n",
    "import plotly.graph_objs as go\n",
    "from scipy import signal\n",
    "import numpy as np\n",
    "\n",
    "# Compute frequency responses\n",
    "freq32, resp32 = signal.freqz(h32)\n",
    "freq64, resp64 = signal.freqz(h64)\n",
    "freq128, resp128 = signal.freqz(h128)\n",
    "freq160, resp160 = signal.freqz(h160)\n",
    "freq256, resp256 = signal.freqz(h256)\n",
    "\n",
    "# Compute frequency responses\n",
    "freqs = {}\n",
    "resps = {}\n",
    "for filt in [32, 64, 128, 160, 256]:\n",
    "    freqs[f'h{filt}'], resps[f'h{filt}'] = signal.freqz(eval(f'h{filt}'))\n",
    "\n",
    "app22 = Dash(__name__)\n",
    "\n",
    "app22.layout = html.Div([\n",
    "    # Title for the checklist\n",
    "     html.H4('Select Filter Size:', style={\n",
    "        'textAlign': 'center',\n",
    "        'marginBottom': '10px',\n",
    "        'padding': '10px',  # Add some padding around the text\n",
    "        'borderRadius': '5px',  # Optional: round the corners of the background\n",
    "        'fontSize': '24px'  # Increase font size\n",
    "    }),\n",
    "    \n",
    "    # Checklist with custom styling for bigger checkboxes\n",
    "    dcc.Checklist(\n",
    "        id='filter-size-checklist',\n",
    "        options=[{'label': f'h{filt}', 'value': f'h{filt}'} for filt in [32, 64, 128, 160, 256]],\n",
    "        value=['h32'],  # Default selected value\n",
    "        labelStyle={'display': 'inline-block', 'marginRight': '20px', 'transform': 'scale(1.5)', 'marginBottom': '10px'},  # Customize checkbox size\n",
    "        inputStyle={\"marginRight\": \"5px\"}  # Adjust space between checkbox and label\n",
    "    ),\n",
    "    dcc.Graph(id='frequency-response-plot')\n",
    "])\n",
    "\n",
    "# Callback to update the frequency response plot\n",
    "@app22.callback(\n",
    "    Output('frequency-response-plot', 'figure'),\n",
    "    [Input('filter-size-checklist', 'value')]\n",
    ")\n",
    "def update_frequency_response(selected_filters):\n",
    "    fig = go.Figure()\n",
    "    \n",
    "    for filt in selected_filters:\n",
    "        fig.add_trace(go.Scatter(\n",
    "            x=0.5 * Fs * freqs[filt] / np.pi,\n",
    "            y=np.abs(resps[filt]),\n",
    "            mode='lines',\n",
    "            name=filt\n",
    "        ))\n",
    "    \n",
    "    fig.update_layout(\n",
    "        title='Frequency Response of Selected Filters',\n",
    "        xaxis_title='Frequency (Hz)',\n",
    "        yaxis_title='Gain',\n",
    "        yaxis_type='log',\n",
    "        template='plotly_white'\n",
    "    )\n",
    "    \n",
    "    return fig\n",
    "\n",
    "if __name__ == '__main__':\n",
    "    app22.run_server(mode='inline',debug=True, port=8072)"
   ]
  },
  {
   "cell_type": "markdown",
   "metadata": {},
   "source": [
    "#### _Παράθυρα Hamming και Kaiser_"
   ]
  },
  {
   "cell_type": "code",
   "execution_count": null,
   "metadata": {
    "tags": [
     "hide-input"
    ]
   },
   "outputs": [],
   "source": [
    "w_hamming=signal.hamming(len(h64))\n",
    "h64_hamming = np.multiply(h64,w_hamming)\n",
    "w_kaiser=signal.kaiser(len(h64),5)\n",
    "h64_kaiser = np.multiply(h64,w_kaiser)\n",
    "\n",
    "freq,resp64_hamming = signal.freqz(h64_hamming)\n",
    "freq,resp64_kaiser = signal.freqz(h64_kaiser)\n",
    "\n",
    "fig = go.Figure()\n",
    "\n",
    "# Add trace for h64 (rectangular window)\n",
    "fig.add_trace(go.Scatter(x=0.5 * Fs * freq / np.pi, y=np.abs(resp64), mode='lines', name='Rectangular', line=dict(color='#1F77B4')))\n",
    "\n",
    "# Add trace for h64 with Hamming window\n",
    "fig.add_trace(go.Scatter(x=0.5 * Fs * freq / np.pi, y=np.abs(resp64_hamming), mode='lines', name='Hamming', line=dict(color='green')))\n",
    "\n",
    "# Add trace for h64 with Kaiser window\n",
    "fig.add_trace(go.Scatter(x=0.5 * Fs * freq / np.pi, y=np.abs(resp64_kaiser), mode='lines', name='Kaiser', line=dict(color='red')))\n",
    "\n",
    "# Update layout for a semilog plot\n",
    "fig.update_layout(\n",
    "    title='Απόκριση συχνότητας βαθυπερατού φίλτρου<br>παράθυρα hamming (πράσινο) και kaiser (κόκκινο)<br>(το αντίστοιχο ορθογωνικό σε μπλε)', title_x=0.5,title_font=dict(size=20, color='black', family=\"Arial, sans-serif\"),\n",
    "    xaxis_title='Συχνότητα (Hz)',\n",
    "    yaxis_title='Κέρδος',\n",
    "    yaxis_type='log',  # Set y-axis to logarithmic scale\n",
    "    template='plotly_white',\n",
    "    xaxis=dict(showgrid=True),\n",
    "    yaxis=dict(showgrid=True)\n",
    ")\n",
    "\n",
    "# Show figure\n",
    "fig.show(renderer='notebook')\n",
    "# Convert figure to HTML\n",
    "fig_html = pio.to_html(fig, full_html=False, include_plotlyjs='cdn')\n",
    "display(HTML(fig_html))"
   ]
  },
  {
   "cell_type": "markdown",
   "metadata": {},
   "source": [
    "#### Φίλτρα ισοϋψών κυματώσεων"
   ]
  },
  {
   "cell_type": "code",
   "execution_count": null,
   "metadata": {
    "tags": [
     "hide-input"
    ]
   },
   "outputs": [],
   "source": [
    "from dash import Dash, dcc, html\n",
    "from dash.dependencies import Input, Output\n",
    "import plotly.graph_objs as go\n",
    "import numpy as np\n",
    "from scipy import signal\n",
    "\n",
    "\n",
    "# Define the filters using the Remez algorithm\n",
    "filters = {\n",
    "    'Equiripple Filter 32+1': signal.remez(32, [0, 1000, 1300, Fs/2], [1, 0], fs=Fs),\n",
    "    'Equiripple Filter 64+1': signal.remez(64, [0, 1000, 1300, Fs/2], [1, 0], fs=Fs),\n",
    "    'Equiripple Filter 128+1': signal.remez(128, [0, 1000, 1300, Fs/2], [1, 0], fs=Fs),\n",
    "    'Equiripple Filter 160+1': signal.remez(160, [0, 1000, 1300, Fs/2], [1, 0], fs=Fs),\n",
    "    'Equiripple Filter 256+1': signal.remez(256, [0, 1000, 1300, Fs/2], [1, 0], fs=Fs),\n",
    "}\n",
    "\n",
    "app23 = Dash(__name__)\n",
    "\n",
    "app23.layout = html.Div([\n",
    "    # Title\n",
    "    html.H4('Select Equiripple Filter Length:', style={\n",
    "        'textAlign': 'center',\n",
    "        'marginBottom': '10px',\n",
    "        'padding': '10px',  # Add some padding around the text\n",
    "        'borderRadius': '5px',  # Optional: round the corners of the background\n",
    "        'fontSize': '24px'  # Increase font size\n",
    "    }),\n",
    "    \n",
    "    # Checklist for selecting filters\n",
    "    dcc.Checklist(\n",
    "        id='filter-checklist',\n",
    "        options=[{'label': name, 'value': name} for name in filters.keys()],\n",
    "        value=[],  # No default selection\n",
    "        labelStyle={'display': 'block'},  # Display checkboxes in block style for better readability\n",
    "        inputStyle={'display': 'block',\"marginRight\": \"10px\", \"transform\": \"scale(1.5)\"},  # Make checkboxes slightly larger\n",
    "    ),\n",
    "    \n",
    "    # Graph for displaying frequency response\n",
    "    dcc.Graph(id='frequency-response-plot'),\n",
    "])\n",
    "\n",
    "@app23.callback(\n",
    "    Output('frequency-response-plot', 'figure'),\n",
    "    [Input('filter-checklist', 'value')]\n",
    ")\n",
    "def update_frequency_response(selected_filters):\n",
    "    fig = go.Figure()\n",
    "    \n",
    "    for filter_name in selected_filters:\n",
    "        filter_coeffs = filters[filter_name]\n",
    "        freq, response = signal.freqz(filter_coeffs, fs=Fs)\n",
    "        fig.add_trace(go.Scatter(x=freq, y=20 * np.log10(np.abs(response)), mode='lines', name=filter_name))\n",
    "    \n",
    "    fig.update_layout(\n",
    "        title='Frequency Response of Selected Equiripple Filters',\n",
    "        xaxis_title='Frequency (Hz)',\n",
    "        yaxis_title='Gain (dB)',\n",
    "        template='plotly_white'\n",
    "    )\n",
    "    return fig\n",
    "\n",
    "if __name__ == '__main__':\n",
    "    app23.run_server(mode='inline',debug=True, port=8073)\n"
   ]
  },
  {
   "cell_type": "markdown",
   "metadata": {},
   "source": [
    "#### Εφαρμογή του φίλτρου"
   ]
  },
  {
   "cell_type": "code",
   "execution_count": null,
   "metadata": {
    "tags": [
     "hide-input"
    ]
   },
   "outputs": [],
   "source": [
    "\n",
    "from dash import Dash, dcc, html\n",
    "from dash.dependencies import Input, Output\n",
    "import plotly.graph_objs as go\n",
    "import numpy as np\n",
    "from scipy import signal\n",
    "from scipy.io.wavfile import write\n",
    "\n",
    "\n",
    "# Design the filters (replace with your actual filter design)\n",
    "lp_filters = {\n",
    "    'lpass32': signal.remez(32, [0, 1000, 1300, Fs/2], [1, 0], fs=Fs),\n",
    "    'lpass64': signal.remez(64, [0, 1000, 1300, Fs/2], [1, 0], fs=Fs),\n",
    "    'lpass128': signal.remez(128, [0, 1000, 1300, Fs/2], [1, 0], fs=Fs),\n",
    "    'lpass160': signal.remez(160, [0, 1000, 1300, Fs/2], [1, 0], fs=Fs),\n",
    "    'lpass256': signal.remez(256, [0, 1000, 1300, Fs/2], [1, 0], fs=Fs)\n",
    "} \n",
    "\n",
    "for name, lp_filter_coeffs in lp_filters.items():\n",
    "    # Apply the filter to the signal\n",
    "    s_lp_filtered = signal.convolve(s, lp_filter_coeffs, mode='same') / np.sum(lp_filter_coeffs)\n",
    "\n",
    "    # Generate a filename based on the filter name\n",
    "    filename = f'assets/{name}.wav'\n",
    "\n",
    "    # Normalize the filtered signal to prevent clipping\n",
    "    s_lp_filtered_normalized = np.int16((s_lp_filtered / np.max(np.abs(s_lp_filtered))) * 32767)\n",
    "\n",
    "    # Save the filtered signal as a WAV file\n",
    "    write(filename, Fs, s_lp_filtered_normalized)\n",
    "\n",
    "app24 = Dash(__name__)\n",
    "\n",
    "app24.layout = html.Div([\n",
    "    dcc.Dropdown(\n",
    "        id='filter-dropdown',\n",
    "        options=[{'label': name, 'value': name} for name in lp_filters.keys()],\n",
    "        value='lpass64'\n",
    "    ),\n",
    "    dcc.Graph(id='psd-plot'),\n",
    "    html.Audio(id='audio-player', controls=True, src='assets/lpass32.wav')\n",
    "])\n",
    "\n",
    "@app24.callback(\n",
    "    Output('psd-plot', 'figure'),\n",
    "    [Input('filter-dropdown', 'value')]\n",
    ")\n",
    "def update_psd_plot(selected_lp_filter_name):\n",
    "    selected_lp_filter = lp_filters[selected_lp_filter_name]\n",
    "    s_lp_filtered = signal.convolve(s, selected_lp_filter, mode='same') / np.sum(selected_lp_filter)\n",
    "    f, Pxx_den_lp = signal.welch(s_lp_filtered, Fs, noverlap=128, nperseg=256)\n",
    "    \n",
    "    fig = go.Figure()\n",
    "    fig.add_trace(go.Scatter(x=f, y=Pxx_den_lp, mode='lines', line=dict(color='#1F77B4')))\n",
    "    fig.update_layout(\n",
    "        title=f'Φάσμα φιλτραρισμένου σήματος: {selected_lp_filter_name}',\n",
    "        xaxis_title='Συχνότητα (Hz)',\n",
    "        yaxis_title='Πυκνότητα φάσματος ισχύος',\n",
    "        yaxis_type='log',\n",
    "        template='plotly_white'\n",
    "    )\n",
    "    return fig\n",
    "\n",
    "@app24.callback(\n",
    "    Output('audio-player', 'src'),\n",
    "    [Input('filter-dropdown', 'value')]\n",
    ")\n",
    "def update_audio_source(selected_lp_filter_name):\n",
    "    return f'/assets/{selected_lp_filter_name}.wav'\n",
    "\n",
    "if __name__ == '__main__':\n",
    "    app24.run_server(mode='inline',debug=True, port=8074)"
   ]
  },
  {
   "cell_type": "code",
   "execution_count": null,
   "metadata": {
    "tags": [
     "hide-input"
    ]
   },
   "outputs": [],
   "source": [
    "# Παράμετροι σήματος\n",
    "Fs = 8192  # Συχνότητα δειγματοληψίας\n",
    "t = np.arange(0, 1.0, 1/Fs)  # Διάρκεια σήματος 1 δευτερόλεπτο\n",
    "\n",
    "# Δημιουργία του σήματος\n",
    "s1 = np.sin(2*np.pi*700*t) + np.sin(2*np.pi*900*t) + np.sin(2*np.pi*1400*t) + np.sin(2*np.pi*2500*t)\n",
    "\n",
    "# Σχεδιασμός των φίλτρων Parks-McClellan\n",
    "lpass32 = signal.remez(32, [0, 1000, 1300, Fs/2], [1, 0], fs=Fs)\n",
    "lpass64 = signal.remez(64, [0, 1000, 1300, Fs/2], [1, 0], fs=Fs)\n",
    "lpass128 = signal.remez(128, [0, 1000, 1300, Fs/2], [1, 0], fs=Fs)\n",
    "lpass160 = signal.remez(160, [0, 1000, 1300, Fs/2], [1, 0], fs=Fs)\n",
    "lpass256 = signal.remez(256, [0, 1000, 1300, Fs/2], [1, 0], fs=Fs)\n",
    "\n",
    "# Φιλτράρισμα του σήματος\n",
    "s1_filtered32 = signal.lfilter(lpass32, 1.0, s1)\n",
    "s1_filtered64 = signal.lfilter(lpass64, 1.0, s1)\n",
    "s1_filtered128 = signal.lfilter(lpass128, 1.0, s1)\n",
    "s1_filtered160 = signal.lfilter(lpass160, 1.0, s1)\n",
    "s1_filtered256 = signal.lfilter(lpass256, 1.0, s1)\n",
    "\n",
    "# Φασματική πυκνότητα των φιλτραρισμένων σημάτων\n",
    "f, Pxx1_den = signal.welch(s1, Fs, nperseg=1024)\n",
    "f32, Pxx1_den32 = signal.welch(s1_filtered32, Fs, nperseg=1024)\n",
    "f64, Pxx1_den64 = signal.welch(s1_filtered64, Fs, nperseg=1024)\n",
    "f128, Pxx1_den128 = signal.welch(s1_filtered128, Fs, nperseg=1024)\n",
    "f160, Pxx1_den160 = signal.welch(s1_filtered160, Fs, nperseg=1024)\n",
    "f256, Pxx1_den256 = signal.welch(s1_filtered256, Fs, nperseg=1024)\n",
    "\n",
    "# Σχεδίαση των φασματικών πυκνοτήτων σε Plotly\n",
    "fig = go.Figure()\n",
    "\n",
    "\n",
    "# Αρχικό σήμα\n",
    "fig.add_trace(go.Scatter(x=f, y=10*np.log10(Pxx1_den), mode='lines', name='Original Signal'))\n",
    "\n",
    "# Φιλτραρισμένο σήμα 32\n",
    "fig.add_trace(go.Scatter(x=f32, y=10*np.log10(Pxx1_den32), mode='lines', name='Filtered Signal 32'))\n",
    "\n",
    "# Φιλτραρισμένο σήμα 64\n",
    "fig.add_trace(go.Scatter(x=f64, y=10*np.log10(Pxx1_den64), mode='lines', name='Filtered Signal 64'))\n",
    "\n",
    "# Φιλτραρισμένο σήμα 128\n",
    "fig.add_trace(go.Scatter(x=f128, y=10*np.log10(Pxx1_den128), mode='lines', name='Filtered Signal 128'))\n",
    "\n",
    "# Φιλτραρισμένο σήμα 160\n",
    "fig.add_trace(go.Scatter(x=f160, y=10*np.log10(Pxx1_den160), mode='lines', name='Filtered Signal 256'))\n",
    "\n",
    "# Ενημέρωση layout\n",
    "fig.update_layout(title='Φασματική Πυκνότητα Ισχύος',\n",
    "                  xaxis_title='Συχνότητα (Hz)',\n",
    "                  yaxis_title='Πυκνότητα Ισχύος (dB)',\n",
    "                  template='plotly_white')\n",
    "\n",
    "fig.show(renderer='notebook')\n",
    "# Convert figure to HTML\n",
    "fig_html = pio.to_html(fig, full_html=False, include_plotlyjs='cdn')\n",
    "display(HTML(fig_html))\n"
   ]
  },
  {
   "cell_type": "markdown",
   "metadata": {},
   "source": [
    "### Ζωνοπερατά φίλτρα"
   ]
  },
  {
   "cell_type": "markdown",
   "metadata": {},
   "source": [
    "#### _Με αναλυτικό υπολογισμό της κρουστικής απόκρισης και παράθυρο_ "
   ]
  },
  {
   "cell_type": "code",
   "execution_count": null,
   "metadata": {
    "tags": [
     "hide-input"
    ]
   },
   "outputs": [],
   "source": [
    "# Με αναλυτικό υπολογισμό της κρουστικής απόκρισης και παράθυρο kaiser\n",
    "f1=700; f2=1500;  \n",
    "Ts=1/Fs\n",
    "f2m1=(f2-f1); f2p1=(f2+f1)/2; N=256\n",
    "t=np.arange(-(N-1),N-1,2)*Ts/2\n",
    "hbp=2/Fs*np.divide(np.multiply(np.cos(2*np.pi*f2p1*t),np.sin(np.pi*f2m1*t))/np.pi,t)\n",
    "hbpw=np.multiply(hbp,signal.kaiser(len(hbp),5))\n",
    "\n",
    "s1_bp=signal.convolve(s1,hbp,'same')"
   ]
  },
  {
   "cell_type": "code",
   "execution_count": null,
   "metadata": {
    "scrolled": true,
    "tags": [
     "hide-input"
    ]
   },
   "outputs": [],
   "source": [
    "f0, Pxx1_den = signal.welch(s1_bp, Fs, noverlap=128, nperseg=256)\n",
    "\n",
    "# Create Plotly figure\n",
    "fig = go.Figure()\n",
    "\n",
    "# Add trace for the power spectral density\n",
    "fig.add_trace(go.Scatter(x=f0, y=Pxx1_den, mode='lines', line=dict(color='blue')))\n",
    "\n",
    "# Update layout for a semilog plot\n",
    "fig.update_layout(\n",
    "    title='Φάσμα ζωνοπερατού σήματος sonar',title_x=0.5,title_font=dict(size=20, color='black', family=\"Arial, sans-serif\"),\n",
    "    xaxis_title='Συχνότητα (Hz)',\n",
    "    yaxis_title='Πυκνότητα φάσματος ισχύος',\n",
    "    yaxis_type='log',  # Set y-axis to logarithmic scale\n",
    "    template='plotly_white',\n",
    "    xaxis=dict(showgrid=True),\n",
    "    yaxis=dict(showgrid=True, range=[np.log10(1e-15), np.log10(1e-7)])  # Adjust y-axis range\n",
    ")\n",
    "\n",
    "# Show figure\n",
    "fig.show(renderer='notebook')\n",
    "# Convert figure to HTML\n",
    "fig_html = pio.to_html(fig, full_html=False, include_plotlyjs='cdn')\n",
    "display(HTML(fig_html))\n",
    "\n",
    "def play_sound(b):\n",
    "    sd.play(20 * s1_bp, Fs)\n",
    "\n",
    "# Create a button widget\n",
    "play_button = widgets.Button(description=\"Play Sound\")\n",
    "\n",
    "# Link the button to the function that plays the sound\n",
    "play_button.on_click(play_sound)\n",
    "\n",
    "# Display the button\n",
    "display(play_button)"
   ]
  },
  {
   "cell_type": "markdown",
   "metadata": {},
   "source": [
    "#### _Ζωνοπερατό ισουψών κυματώσεων_ "
   ]
  },
  {
   "cell_type": "code",
   "execution_count": null,
   "metadata": {
    "tags": [
     "hide-input"
    ]
   },
   "outputs": [],
   "source": [
    "bpass = signal.remez(128, [0, f1*0.95, f1*1.1, f2*0.95, f2*1.05, Fs/2], [0, 1, 0], fs=Fs)\n",
    "freq,resp_pm = signal.freqz(bpass)\n",
    "\n",
    "# Compute frequency response for the equiripple bandpass filter\n",
    "freq, resp_pm = signal.freqz(bpass)\n",
    "\n",
    "# Create Plotly figure\n",
    "fig = go.Figure()\n",
    "\n",
    "# Add trace for equiripple bandpass filter response\n",
    "fig.add_trace(go.Scatter(x=0.5 * Fs * freq / np.pi, y=np.abs(resp_pm), mode='lines', name='Equiripple Bandpass', line=dict(color='green')))\n",
    "\n",
    "# Update layout for a semilog plot\n",
    "fig.update_layout(\n",
    "    title='Απόκριση συχνότητας ζωνοπερατού φίλτρου equirriple',title_x=0.5,title_font=dict(size=20, color='black', family=\"Arial, sans-serif\"),\n",
    "    xaxis_title='Συχνότητα (Hz)',\n",
    "    yaxis_title='Κέρδος',\n",
    "    yaxis_type='log',  # Set y-axis to logarithmic scale\n",
    "    template='plotly_white',\n",
    "    xaxis=dict(showgrid=True),\n",
    "    yaxis=dict(showgrid=True)\n",
    ")\n",
    "\n",
    "# Show figure\n",
    "fig.show(renderer='notebook')\n",
    "\n",
    "# Convert figure to HTML\n",
    "fig_html = pio.to_html(fig, full_html=False, include_plotlyjs='cdn')\n",
    "display(HTML(fig_html))"
   ]
  }
 ],
 "metadata": {
  "kernelspec": {
   "display_name": "Python 3",
   "language": "python",
   "name": "python3"
  },
  "language_info": {
   "codemirror_mode": {
    "name": "ipython",
    "version": 3
   },
   "file_extension": ".py",
   "mimetype": "text/x-python",
   "name": "python",
   "nbconvert_exporter": "python",
   "pygments_lexer": "ipython3",
   "version": "3.8.18"
  }
 },
 "nbformat": 4,
 "nbformat_minor": 2
}
