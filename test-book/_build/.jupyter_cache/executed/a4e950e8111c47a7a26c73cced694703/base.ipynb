{
 "cells": [
  {
   "cell_type": "code",
   "execution_count": 1,
   "metadata": {},
   "outputs": [],
   "source": [
    "import math\n",
    "import numpy as np\n",
    "import matplotlib.pyplot as plt\n",
    "import random\n",
    "import scipy.signal\n",
    "from math import log\n",
    "import array\n",
    "from scipy.signal import upfirdn,decimate\n",
    "from scipy.special import erfc\n",
    "from scipy import signal"
   ]
  },
  {
   "cell_type": "code",
   "execution_count": 2,
   "metadata": {
    "colab": {},
    "colab_type": "code",
    "id": "X6E0InNughwR"
   },
   "outputs": [],
   "source": [
    "def bin2int(x):\n",
    "    y = 0\n",
    "    for i,j in enumerate(x):\n",
    "        y += j<<i\n",
    "    return y\n"
   ]
  },
  {
   "cell_type": "code",
   "execution_count": 3,
   "metadata": {},
   "outputs": [],
   "source": [
    "def method(byte,bps):\n",
    "    arr = []\n",
    "    for i in range(bps, 0, -1):\n",
    "        arr.append((byte & 1<<i)>>i)\n",
    "    return arr"
   ]
  },
  {
   "cell_type": "code",
   "execution_count": 4,
   "metadata": {},
   "outputs": [],
   "source": [
    "def maxInd(p):\n",
    "    b=max(p)\n",
    "    k=0\n",
    "    \n",
    "    for h in range(0,len(p)):\n",
    "        if (p[h]==b):\n",
    "            k=h\n",
    "    \n",
    "    \n",
    "    return k\n",
    "        "
   ]
  },
  {
   "cell_type": "code",
   "execution_count": 5,
   "metadata": {},
   "outputs": [],
   "source": [
    "def bi2de(test_list):\n",
    "    res = 0\n",
    "    for ele in test_list: \n",
    "        res = (res << 1) | ele    \n",
    "    return res "
   ]
  },
  {
   "cell_type": "code",
   "execution_count": 6,
   "metadata": {
    "colab": {},
    "colab_type": "code",
    "id": "JjFGkluTghwV"
   },
   "outputs": [],
   "source": [
    "def addAWGN(x, SNR_dB):\n",
    "    \n",
    "    L=len(x)\n",
    "    SNR = np.power(10,(SNR_dB/10)) #SNR to linear scale\n",
    "    Esym=np.sum(abs(x)*abs(x))/L  #Calculate actual symbol energy\n",
    "    \n",
    "      \n",
    "   \n",
    "    N0=Esym/SNR #Find the noise spectral density\n",
    "    \n",
    "    noiseSigma =math.sqrt(N0)#Standard deviation for AWGN Noise when x is real\n",
    "    n = noiseSigma*np.random.randn(1,L) #computed noise\n",
    "       \n",
    "    y = x + n  #received signal    \n",
    "    return y"
   ]
  },
  {
   "cell_type": "code",
   "execution_count": 7,
   "metadata": {
    "colab": {
     "base_uri": "https://localhost:8080/",
     "height": 34
    },
    "colab_type": "code",
    "id": "B5hp9-Hsghw8",
    "outputId": "c01733e9-4ce1-4c3e-f866-5d6c520036f9"
   },
   "outputs": [],
   "source": [
    "\n",
    "#Simulation of errors in MFSK \n",
    "def fsk_errors1(coherence,bps,Nsymb,nsamp,EbNo):\n",
    "    #coherence=True   \n",
    "    #bps=4\n",
    "    #Nsymb=2000\n",
    "    #nsamp=16\n",
    "    #EbNo=5\n",
    "        #Input Parameters\n",
    "        # bps:      bits per symbol\n",
    "        # Nsymb:    number of symbols to be simulated\n",
    "        # nsamp:    number of samples per symbol (oversampling)\n",
    "        # EbNo:     normalized signal-to-noise ratio (in dB)\n",
    "    M=np.power(2,bps) #Number of different symbols (modulation order)\n",
    "    BR=1              #Baud Rate\n",
    "    fc=2*M*BR         #RF Frequency \n",
    "        #nbits=bps*Nsymb  number of simulated data bits\n",
    "\n",
    "    T=1/BR     #one symbol perio\n",
    "    Ts=1/nsamp # oversampling period\n",
    "    Fs=1/Ts  #sampling frequency \n",
    "    k=np.arange(1,M+1)\n",
    "    f=fc +BR*(k-(M+1)/2) # M frequencies in \"non-coherent\" distance (BR)\n",
    "    SNR = EbNo + 10*np.log10(bps) - 10*np.log10(nsamp/2) # AWGN channel noise (in dB)\n",
    "    \n",
    "    x = np.transpose(np.random.randint(2, size=(bps,Nsymb)))     # Random binary data stream of (bps)x(Nsymb) bits\n",
    "    y = [bin2int(z[::-1]) for z in x]  #Sequence of symbols to be sent\n",
    "    tks = np.arange(0,1,Ts)\n",
    "    tks=np.transpose(tks)\n",
    "\n",
    "\n",
    "\n",
    "\n",
    "        # Sender: FSK signal\n",
    "    s=np.zeros((1,len(tks)*Nsymb+1))\n",
    "        #Create properly (f(i)) frequency modulated signal\n",
    "    for k in range(0,len(x[:, 1])):\n",
    "          # len(x[:, 1]) == Nsymb\n",
    "            index=bi2de(x[k,:]) \n",
    "            #print(index)\n",
    "            fk=f[index]\n",
    "            tk = k*T + tks\n",
    "            r= k*len(tk) + np.arange(1,len(tk)+1)\n",
    "                                   #print(r)\n",
    "            if coherence:\n",
    "                th = 0\n",
    "            else:\n",
    "                th = 2*np.pi*np.random.uniform(0,1,1)\n",
    "\n",
    "\n",
    "            s[0,r]=np.sin(2*np.pi*fk*tk + th)\n",
    "\n",
    "\n",
    "\n",
    "\n",
    "\n",
    "    #print(s)\n",
    "    #freq, Pxx_den =signal.welch(s,Fs)\n",
    "    #Pxx_den=np.transpose(Pxx_den)\n",
    "    #plt.figure(figsize=(13,15))\n",
    "    #plt.semilogy(freq, Pxx_den)\n",
    "    #plt.ylim([0.5e-3, 1])\n",
    "    #plt.xlabel('frequency [Hz]')\n",
    "    #plt.ylabel('PSD [V**2/Hz]')\n",
    "    #plt.grid()\n",
    "    #plt.show()\n",
    "    #figure(1); welch(s, [], [], [], Fs/Td);\n",
    "\n",
    "\n",
    "    # Channel: Noise addition to the bandpass signal\n",
    "    snoisy = addAWGN(s,SNR)\n",
    "    \n",
    "    #freq, Pxx_den =signal.welch(snoisy,Fs)\n",
    "    # Pxx_den=np.transpose(Pxx_den)\n",
    "    #plt.figure(figsize=(13,15))\n",
    "    #plt.semilogy(freq, Pxx_den)\n",
    "\n",
    "\n",
    "    #plt.ylim([0.5e-3, 1])\n",
    "    #plt.xlabel('frequency [Hz]')\n",
    "    #plt.ylabel('PSD with Gaussian Noise [V**2/Hz]')\n",
    "    #plt.grid()\n",
    "    \n",
    "    #plt.show()\n",
    "\n",
    "\n",
    "      #figure(2); welch(snoisy, [], [], [], Fs/Td);\n",
    "\n",
    "\n",
    "\n",
    "\n",
    "    # Receiver: FSK signal\n",
    "    xr=np.zeros((int(len(tks)*Nsymb/nsamp),bps))\n",
    "\n",
    "    for k in range(1,int(len(tks)*Nsymb/nsamp)): #len(snoisy)/nsamp == Nsymb\n",
    "            tk = k*T + tks\n",
    "\n",
    "            sk = np.take(snoisy, range((k-1)*nsamp, k*nsamp)) \n",
    "            smi = []\n",
    "            #Coherent demodulation MLE\n",
    "            if coherence:\n",
    "                for i in range(0,M):\n",
    "                    si=np.sin(2*np.pi*f[i]*tk)\n",
    "\n",
    "                    smi[0:]=sum([np.multiply(sk,si)])\n",
    "\n",
    "\n",
    "            # Non-coherent demodulation MLE\n",
    "            else:\n",
    "                for i in range(1,M):\n",
    "                    si=np.sin(2*np.pi*f[i]*tk)\n",
    "                    sq=np.cos(2*np.pi*f[i]*tk)\n",
    "                    sm[0:]=np.power(np.power(sum([np.multiply(sk,si)]),2)+np.power(sum([np.multiply(sk,sq)]),2),0.5)\n",
    "\n",
    "            p=np.transpose(smi)\n",
    "            j=maxInd(p)\n",
    "            r=int(np.binary_repr(j, width=bps))\n",
    "\n",
    "\n",
    "            xr[k:] = method(r,bps) # convert in demodulation to binary \n",
    "\n",
    "    errors=0\n",
    "    #print(xr.shape)\n",
    "    for i in range(0,int(len(tks)*Nsymb/nsamp)):\n",
    "        p=0\n",
    "        for j in range(0,bps):\n",
    "            if (x[i,j]==xr[i,j]):\n",
    "                 p=p+1\n",
    "        if(p!=bps):\n",
    "            errors=errors+1\n",
    "            \n",
    "        \n",
    "    \n",
    "\n",
    "    return errors"
   ]
  },
  {
   "cell_type": "code",
   "execution_count": 8,
   "metadata": {},
   "outputs": [
    {
     "data": {
      "image/png": "[encoded data removed]",
      "text/plain": [
       "<Figure size 640x480 with 1 Axes>"
      ]
     },
     "metadata": {},
     "output_type": "display_data"
    }
   ],
   "source": [
    "from scipy.special import erfc\n",
    "\n",
    "coherence=True   \n",
    "bps=4\n",
    "L = 2**bps\n",
    "Nsymb=2500\n",
    "nsamp=16\n",
    "\n",
    "ber = np.zeros(18)\n",
    "for index in range (0,18):\n",
    "    ber[index] = fsk_errors1(coherence,bps,Nsymb,nsamp,index)/(bps*Nsymb)\n",
    "plt.semilogy(ber,'o')\n",
    "plt.grid(True,which='both')\n",
    "plt.xlabel(\"Eb/N0 (dB)\")\n",
    "plt.ylabel(\"BER\")\n",
    "\n",
    "EbN0_db = np.arange(0,18,1)\n",
    "EbN0 = 10**(EbN0_db/10)\n",
    "#ber_theoretical = (((L-1)/L)*erfc(np.sqrt(EbN0*(3*np.log2(L))/(L**2-1))))/k\n",
    "#plt.semilogy(ber_theoretical)\n",
    "\n",
    "#plt.legend(['Experimental','Theoretical'])\n",
    "\n",
    "plt.show()"
   ]
  },
  {
   "cell_type": "code",
   "execution_count": 9,
   "metadata": {},
   "outputs": [],
   "source": [
    "# N"
   ]
  },
  {
   "cell_type": "code",
   "execution_count": 10,
   "metadata": {},
   "outputs": [
    {
     "data": {
      "text/plain": [
       "array([0.2338, 0.2346, 0.2347, 0.2327, 0.2343, 0.2365, 0.2357, 0.2352,\n",
       "       0.2354, 0.2347, 0.2318, 0.2367, 0.2345, 0.2338, 0.2347, 0.235 ,\n",
       "       0.236 , 0.237 ])"
      ]
     },
     "execution_count": 10,
     "metadata": {},
     "output_type": "execute_result"
    }
   ],
   "source": [
    "ber"
   ]
  }
 ],
 "metadata": {
  "colab": {
   "collapsed_sections": [],
   "name": "LAB6.ipynb",
   "provenance": [],
   "version": "0.3.2"
  },
  "kernelspec": {
   "display_name": "Python 3 (ipykernel)",
   "language": "python",
   "name": "python3"
  },
  "language_info": {
   "codemirror_mode": {
    "name": "ipython",
    "version": 3
   },
   "file_extension": ".py",
   "mimetype": "text/x-python",
   "name": "python",
   "nbconvert_exporter": "python",
   "pygments_lexer": "ipython3",
   "version": "3.8.18"
  }
 },
 "nbformat": 4,
 "nbformat_minor": 1
}