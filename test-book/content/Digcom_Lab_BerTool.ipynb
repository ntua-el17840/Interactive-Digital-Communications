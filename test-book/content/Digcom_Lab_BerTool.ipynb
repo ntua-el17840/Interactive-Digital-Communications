{
 "cells": [
  {
   "cell_type": "markdown",
   "metadata": {},
   "source": [
    "# BER Tool: ASK - QAM - PSK - FSK - MSK\n",
    "- The following tool can be used to measure the bit error rate (BER) for various modulation schemes. For each, multiple configurations are available. \n",
    "- In addition to providing theoretical BER versus Eb/No curves, this tool allows users to run simulations by defining their own error and BER functions, offering a customizable and interactive approach to analyzing the performance of different modulation schemes in various conditions."
   ]
  },
  {
   "cell_type": "markdown",
   "metadata": {},
   "source": [
    "## Setup"
   ]
  },
  {
   "cell_type": "markdown",
   "metadata": {},
   "source": [
    "```{admonition} Live Code\n",
    "Press the following button to make python code interactive. It will connect you to a kernel once it says \"ready\" (might take a bit, especially the first time it runs).\n",
    "```\n",
    "\n",
    "<div style=\"text-align: center;\">\n",
    "  <button title=\"Launch thebe\" class=\"thebelab-button thebe-launch-button\" onclick=\"initThebe()\">Python Interactive Code</button>\n",
    "</div>\n"
   ]
  },
  {
   "cell_type": "markdown",
   "metadata": {},
   "source": [
    "#### Importing packages we will need later in Python"
   ]
  },
  {
   "cell_type": "code",
   "execution_count": 6,
   "metadata": {},
   "outputs": [
    {
     "name": "stdout",
     "output_type": "stream",
     "text": [
      "Libraries added successfully!\n"
     ]
    }
   ],
   "source": [
    "from scipy import signal\n",
    "import numpy as np\n",
    "import matplotlib.pyplot as plt\n",
    "from scipy.special import erfc\n",
    "import ipywidgets as widgets\n",
    "from ipywidgets import RadioButtons\n",
    "from IPython.display import display, clear_output\n",
    "from scipy.signal import upfirdn, convolve\n",
    "from ipywidgets import Checkbox, Button, Output, VBox, HBox, Dropdown, Layout\n",
    "import time\n",
    "print(\"Libraries added successfully!\")"
   ]
  },
  {
   "cell_type": "markdown",
   "metadata": {},
   "source": [
    "## Bit Error Rate Tool"
   ]
  },
  {
   "cell_type": "code",
   "execution_count": 14,
   "metadata": {},
   "outputs": [
    {
     "data": {
      "application/vnd.jupyter.widget-view+json": {
       "model_id": "483b600bb982469eadbfb818ea331ebe",
       "version_major": 2,
       "version_minor": 0
      },
      "text/plain": [
       "HBox(children=(VBox(children=(Dropdown(description='Modulation:', options=('ASK', 'QAM', 'PSK', 'FSK', 'MSK'),…"
      ]
     },
     "metadata": {},
     "output_type": "display_data"
    },
    {
     "data": {
      "application/vnd.jupyter.widget-view+json": {
       "model_id": "ec8bd9ec829a4a0f89c06e39fae8ef6e",
       "version_major": 2,
       "version_minor": 0
      },
      "text/plain": [
       "Output()"
      ]
     },
     "metadata": {},
     "output_type": "display_data"
    },
    {
     "data": {
      "text/plain": [
       "<Figure size 1000x700 with 0 Axes>"
      ]
     },
     "metadata": {},
     "output_type": "display_data"
    },
    {
     "data": {
      "text/plain": [
       "<Figure size 1000x700 with 0 Axes>"
      ]
     },
     "metadata": {},
     "output_type": "display_data"
    }
   ],
   "source": [
    "# Loading animation\n",
    "loading = \"\"\"\n",
    "    <div style='display: flex; justify-content: center; align-items: center; height: 80px;'>\n",
    "        <div class='loader' style='border: 12px solid #f3f3f3; /* Light grey */\n",
    "                                     border-top: 12px solid #01cc97; /* Blue */\n",
    "                                     border-radius: 50%;\n",
    "                                     width: 40px;\n",
    "                                     height: 40px;\n",
    "                                     animation: spin 2s linear infinite;'></div>\n",
    "    </div>\n",
    "    <style>\n",
    "    @keyframes spin {\n",
    "        0% { transform: rotate(0deg); }\n",
    "        100% { transform: rotate(360deg); }\n",
    "    }\n",
    "    </style>\n",
    "    \"\"\"\n",
    "done = \"\"\"\n",
    "        <div style='display: flex; justify-content: center; align-items: center; height: 80px;'>\n",
    "            <div style='font-size: 40px; color: #01cc97;'>&#10003;</div>\n",
    "        </div>\n",
    "        \"\"\"\n",
    "loader_html3 = widgets.HTML(\n",
    "  value=loading\n",
    ")\n",
    "timer_html3 = widgets.HTML(\n",
    "    value=\"Elapsed time: - seconds\"\n",
    ")\n",
    "\n",
    "# Define the modulation schemes and levels\n",
    "modulation_schemes = {\n",
    "    'ASK': ['2-ASK', '4-ASK', '8-ASK', '16-ASK', '32-ASK', '64-ASK'],\n",
    "    'QAM': ['4-QAM', '16-QAM', '64-QAM', '256-QAM'],\n",
    "    'PSK': ['4-PSK', '8-PSK', '16-PSK', '32-PSK', '64-PSK'],\n",
    "    'FSK': ['4-FSK', '8-FSK', '16-FSK', '32-FSK', '64-FSK'],\n",
    "    'MSK': ['MSK (with precoding)', 'MSK (without precoding)']\n",
    "}\n",
    "\n",
    "# Dropdown for modulation schemes\n",
    "modulation_dropdown = widgets.Dropdown(\n",
    "    options=list(modulation_schemes.keys()),\n",
    "    value='ASK',\n",
    "    description='Modulation:'\n",
    ")\n",
    "\n",
    "# Dropdown for levels\n",
    "levels_dropdown = widgets.Dropdown(\n",
    "    description='Levels:'\n",
    ")\n",
    "\n",
    "def update_levels_dropdown(*args):\n",
    "    levels_dropdown.options = modulation_schemes[modulation_dropdown.value]\n",
    "    levels_dropdown.value = levels_dropdown.options[0]  # Set default value\n",
    "\n",
    "modulation_dropdown.observe(update_levels_dropdown, 'value')\n",
    "update_levels_dropdown()  # Initialize the levels dropdown\n",
    "\n",
    "plot_output = widgets.Output()\n",
    "\n",
    "def ask_errors(k, M, nsamp, EbN0_db):\n",
    "    L = 2**k\n",
    "    SNR_db = EbN0_db - 10*np.log10(nsamp/(2*k))\n",
    "    SNR = 10 ** (SNR_db * 0.1)\n",
    "    x = 2 * np.floor(L * np.random.rand(M)) - L + 1\n",
    "    P_x = (L**2 - 1) / 3\n",
    "    Measured_x = np.sum(x**2) / len(x)\n",
    "\n",
    "    y = []\n",
    "    for i in range(len(x)):\n",
    "        y.extend([x[i]] * nsamp)\n",
    "    y = np.array(y)\n",
    "\n",
    "    noise = np.random.normal(0, np.sqrt(Measured_x / SNR), len(y))\n",
    "    y_noisy = y + noise\n",
    "\n",
    "    y = np.reshape(y_noisy, (M, nsamp))\n",
    "    matched = np.ones((nsamp, 1))\n",
    "    z = np.matmul(y, matched) / nsamp\n",
    "    l = np.arange(-L+1, L, 2)\n",
    "\n",
    "    z = z[:, 0]\n",
    "    errors = 0\n",
    "    for i in range(len(z)):\n",
    "        differences = np.abs(l - z[i])\n",
    "        m = np.min(differences)\n",
    "        index = np.where(differences == m)[0][0]\n",
    "        z[i] = l[index]\n",
    "        if x[i] != z[i]:\n",
    "            errors += 1\n",
    "    \n",
    "    return errors\n",
    "\n",
    "# Placeholder error functions\n",
    "def qam_errors(k, M, nsamp, EbN0_db):\n",
    "    # Placeholder for QAM error function\n",
    "    return 0\n",
    "\n",
    "def psk_errors(k, M, nsamp, EbN0_db):\n",
    "    # Placeholder for PSK error function\n",
    "    return 0\n",
    "\n",
    "def fsk_errors(k, M, nsamp, EbN0_db, coherent=True):\n",
    "    # Placeholder for FSK error function\n",
    "    return 0\n",
    "\n",
    "def msk_errors(M, nsamp, EbN0_db, precoding=True):\n",
    "    # Placeholder for MSK error function\n",
    "    return 0\n",
    "\n",
    "# Update Eb/N0 dB range to go up to 20 dB\n",
    "M = 20000\n",
    "nsamp = 16\n",
    "EbN0_db = np.arange(0, 21, 2)  # Now goes up to 20 dB\n",
    "EbN0 = 10 ** (EbN0_db / 10)\n",
    "\n",
    "def plot_selected_modulations(change):\n",
    "    # Start timer\n",
    "    start_time = time.time()\n",
    "\n",
    "    with plot_output:\n",
    "        loader_html3.value = loading\n",
    "        plot_output.clear_output(wait=True)\n",
    "        plt.figure(figsize=(10, 7))\n",
    "        \n",
    "        modulation = modulation_dropdown.value\n",
    "        level = levels_dropdown.value\n",
    "        if level is None:\n",
    "            return\n",
    "        L = int(level.split('-')[0])\n",
    "        k = int(np.log2(L))\n",
    "        modulation_name = level\n",
    "        \n",
    "        if modulation == 'ASK':\n",
    "            ber = [ask_errors(k, M, nsamp, db) / M / np.log2(L) for db in EbN0_db]\n",
    "            ber_theoretical = (((L - 1) / L) * erfc(np.sqrt(EbN0 * (3 * np.log2(L)) / (L**2 - 1)))) / k\n",
    "        elif modulation == 'QAM':\n",
    "            ber = [qam_errors(k, M, nsamp, db) / M / np.log2(L) for db in EbN0_db]\n",
    "            ber_theoretical = erfc(np.sqrt(3 * EbN0 / (2 * (L - 1))))\n",
    "        elif modulation == 'PSK':\n",
    "            ber = [psk_errors(k, M, nsamp, db) / M / np.log2(L) for db in EbN0_db]\n",
    "            ber_theoretical = erfc(np.sqrt(EbN0 * np.sin(np.pi / L)))\n",
    "        elif modulation == 'FSK':\n",
    "            ber = [fsk_errors(k, M, nsamp, db, coherent=True) / M / np.log2(L) for db in EbN0_db]\n",
    "            ber_theoretical = erfc(np.sqrt(EbN0 / (2 * np.log2(L))))\n",
    "        elif modulation == 'MSK':\n",
    "            ber = [msk_errors(M, nsamp, db, precoding=True) / M for db in EbN0_db]\n",
    "            ber_theoretical = erfc(np.sqrt(EbN0))\n",
    "\n",
    "        plt.semilogy(EbN0_db, ber, 'o', label=f'Experimental {modulation_name}', color='#1F77B4')\n",
    "        plt.semilogy(EbN0_db, ber_theoretical, linestyle='-', label=f'Theoretical {modulation_name}', color='#00CC96')\n",
    "\n",
    "        plt.grid(True, which='both')\n",
    "        plt.xlabel(\"Eb/N0 (dB)\")\n",
    "        plt.ylabel(\"BER\")\n",
    "        plt.legend()\n",
    "        plt.title('Theoretical and Experimental BER')\n",
    "\n",
    "        # Show elapsed time\n",
    "        elapsed_time = time.time() - start_time\n",
    "        timer_html3.value = f\"Elapsed time: {elapsed_time:.2f} seconds\"\n",
    "        loader_html3.value = done\n",
    "\n",
    "        plt.show()\n",
    "\n",
    "# Attach the update_plot function to the 'value' property of the dropdowns\n",
    "modulation_dropdown.observe(plot_selected_modulations, names='value')\n",
    "levels_dropdown.observe(plot_selected_modulations, names='value')\n",
    "\n",
    "inputs = widgets.VBox([modulation_dropdown, levels_dropdown])\n",
    "\n",
    "# Group the loader and timer together (they will appear next to each other horizontally)\n",
    "loader_timer_box = widgets.VBox([loader_html3, timer_html3], layout=widgets.Layout(margin='0 0 0 20px', width='auto'))\n",
    "\n",
    "ui = widgets.HBox([inputs, loader_timer_box], layout=Layout(align_items='center'))\n",
    "\n",
    "# Setup the display layout\n",
    "display(ui, plot_output)\n",
    "\n",
    "# Display the initial plot\n",
    "plot_selected_modulations(None)\n"
   ]
  }
 ],
 "metadata": {
  "kernelspec": {
   "display_name": "digital_communications",
   "language": "python",
   "name": "python3"
  },
  "language_info": {
   "codemirror_mode": {
    "name": "ipython",
    "version": 3
   },
   "file_extension": ".py",
   "mimetype": "text/x-python",
   "name": "python",
   "nbconvert_exporter": "python",
   "pygments_lexer": "ipython3",
   "version": "3.8.18"
  }
 },
 "nbformat": 4,
 "nbformat_minor": 2
}
