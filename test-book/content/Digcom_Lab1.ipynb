{
 "cells": [
  {
   "cell_type": "markdown",
   "metadata": {},
   "source": [
    "# Εργαστηριακή Άσκηση 1\n",
    "Σκοπός της πρώτης σειράς ασκήσεων είναι, αφ’ ενός η εξοικείωση με το προγραμματιστικό περιβάλλον της Python και Matlab, αφ’ ετέρου, η εισαγωγή στους τρόπους παράστασης και επεξεργασίας τηλεπικοινωνιακών σημάτων στις συγκεκριμένες γλώσσες προγραμματισμού."
   ]
  },
  {
   "cell_type": "markdown",
   "metadata": {},
   "source": [
    "## Μέρος 1: Εξοικείωση με το προγραμματιστικό περιβάλλον της Python και Matlab"
   ]
  },
  {
   "cell_type": "markdown",
   "metadata": {},
   "source": [
    "<button title=\"Launch thebe\" class=\"thebelab-button thebe-launch-button\" onclick=\"initThebe()\">Python Interactive Code</button>"
   ]
  },
  {
   "cell_type": "markdown",
   "metadata": {},
   "source": [
    "### Εξάσκηση"
   ]
  },
  {
   "cell_type": "code",
   "execution_count": 1,
   "metadata": {
    "tags": [
     "hide-input",
     "thebe-init"
    ]
   },
   "outputs": [
    {
     "name": "stdout",
     "output_type": "stream",
     "text": [
      "Libraries added successfully!\n"
     ]
    }
   ],
   "source": [
    "from scipy import signal\n",
    "# Ανατρέξτε στην τεκμηρίωση της βιβλιοθήκης scipy.signal\n",
    "# https://docs.scipy.org/doc/scipy/reference/signal.html\n",
    "from scipy.fft import fft, fftfreq\n",
    "from scipy.fftpack import fftshift, ifftshift\n",
    "import matplotlib\n",
    "import matplotlib.pyplot as plt\n",
    "import numpy as np\n",
    "from numpy import random\n",
    "import warnings\n",
    "warnings.filterwarnings('ignore')\n",
    "from ipywidgets import IntRangeSlider, widgets, Layout, HBox, VBox\n",
    "from IPython.display import display, clear_output\n",
    "print(\"Libraries added successfully!\")"
   ]
  },
  {
   "cell_type": "markdown",
   "metadata": {},
   "source": [
    "#### Δημιουργήστε ένα βαθμωτό (μονοδιάστατο) μέγεθος"
   ]
  },
  {
   "cell_type": "markdown",
   "metadata": {},
   "source": [
    "`````{tab} Python\n",
    "<div class=\"cell docutils container\">\n",
    "<div class=\"cell_input docutils container\">\n",
    "<div class=\"highlight-ipython3 notranslate\"><div class=\"highlight\"><pre><span></span><span class=\"n\">s</span><span class=\"o\">=</span><span class=\"mi\">2</span>\n",
    "<span class=\"nb\">print</span><span class=\"p\">(</span><span class=\"s1\">&#39;s =&#39;</span><span class=\"p\">,</span><span class=\"n\">s</span><span class=\"p\">)</span>\n",
    "</pre></div>\n",
    "</div>\n",
    "</div>\n",
    "</div>\n",
    "`````\n",
    "`````{tab} Matlab\n",
    "````matlab\n",
    "s = 2;\n",
    "disp(['s = ', num2str(s)]);\n",
    "````\n",
    "`````"
   ]
  },
  {
   "cell_type": "code",
   "execution_count": 2,
   "metadata": {
    "tags": [
     "remove-input",
     "remove-output",
     "thebe-init"
    ]
   },
   "outputs": [
    {
     "name": "stdout",
     "output_type": "stream",
     "text": [
      "s = 2\n"
     ]
    }
   ],
   "source": [
    "s=2\n",
    "print('s =',s)"
   ]
  },
  {
   "cell_type": "markdown",
   "metadata": {},
   "source": [
    "#### Δημιουργείστε ένα διάνυσμα πραγματικών τιμών:"
   ]
  },
  {
   "cell_type": "markdown",
   "metadata": {},
   "source": [
    "`````{tab} Python\n",
    "<div class=\"cell docutils container\">\n",
    "<div class=\"cell_input docutils container\">\n",
    "<div class=\"highlight-ipython3 notranslate\"><div class=\"highlight\"><pre id=\"codecell4\"><span></span><span class=\"n\">v</span><span class=\"o\">=</span><span class=\"n\">np</span><span class=\"o\">.</span><span class=\"n\">array</span><span class=\"p\">([</span><span class=\"mi\">1</span><span class=\"p\">,</span><span class=\"mi\">5</span><span class=\"p\">,</span><span class=\"mi\">9</span><span class=\"p\">])</span>\n",
    "<span class=\"nb\">print</span><span class=\"p\">(</span><span class=\"s1\">'v ='</span><span class=\"p\">,</span><span class=\"n\">v</span><span class=\"p\">)</span>\n",
    "</pre></div>\n",
    "</div>\n",
    "</div>\n",
    "</div>\n",
    "`````\n",
    "`````{tab} Matlab\n",
    "````matlab\n",
    "v = [1,5,9];\n",
    "disp(['v = ', mat2str(v)]);\n",
    "````\n",
    "`````"
   ]
  },
  {
   "cell_type": "code",
   "execution_count": 3,
   "metadata": {
    "tags": [
     "remove-input",
     "remove-output",
     "thebe-init"
    ]
   },
   "outputs": [
    {
     "name": "stdout",
     "output_type": "stream",
     "text": [
      "v = [1 5 9]\n"
     ]
    }
   ],
   "source": [
    "v=np.array([1,5,9])\n",
    "print('v =',v)"
   ]
  },
  {
   "cell_type": "markdown",
   "metadata": {},
   "source": [
    "#### Δημιουργείστε έναν πίνακα πραγματικών τιμών:"
   ]
  },
  {
   "cell_type": "markdown",
   "metadata": {},
   "source": [
    "`````{tab} Python\n",
    "<div class=\"cell docutils container\">\n",
    "<div class=\"cell_input docutils container\">\n",
    "<div class=\"highlight-ipython3 notranslate\"><div class=\"highlight\"><pre id=\"codecell6\"><span></span><span class=\"n\">a</span><span class=\"o\">=</span><span class=\"n\">np</span><span class=\"o\">.</span><span class=\"n\">array</span><span class=\"p\">([[</span><span class=\"mi\">1</span><span class=\"p\">,</span><span class=\"mi\">2</span><span class=\"p\">,</span><span class=\"mi\">3</span><span class=\"p\">],[</span><span class=\"mi\">4</span><span class=\"p\">,</span><span class=\"mi\">5</span><span class=\"p\">,</span><span class=\"mi\">6</span><span class=\"p\">],[</span><span class=\"mi\">7</span><span class=\"p\">,</span><span class=\"mi\">8</span><span class=\"p\">,</span><span class=\"mi\">9</span><span class=\"p\">]])</span>\n",
    "<span class=\"nb\">print</span><span class=\"p\">(</span><span class=\"s1\">'a ='</span><span class=\"p\">,</span><span class=\"n\">a</span><span class=\"p\">)</span>\n",
    "</pre></div>\n",
    "</div>\n",
    "</div>\n",
    "</div>\n",
    "`````\n",
    "`````{tab} Matlab\n",
    "````matlab\n",
    "a = [1,2,3; 4,5,6; 7,8,9];\n",
    "disp(['a = ', mat2str(a)]);\n",
    "````\n",
    "`````"
   ]
  },
  {
   "cell_type": "code",
   "execution_count": 4,
   "metadata": {
    "tags": [
     "remove-input",
     "remove-output",
     "thebe-init"
    ]
   },
   "outputs": [
    {
     "name": "stdout",
     "output_type": "stream",
     "text": [
      "a = [[1 2 3]\n",
      " [4 5 6]\n",
      " [7 8 9]]\n"
     ]
    }
   ],
   "source": [
    "a=np.array([[1,2,3],[4,5,6],[7,8,9]])\n",
    "print('a =',a)"
   ]
  },
  {
   "cell_type": "markdown",
   "metadata": {},
   "source": [
    "#### Αθροίστε"
   ]
  },
  {
   "cell_type": "markdown",
   "metadata": {},
   "source": [
    "`````{tab} Python\n",
    "<div class=\"cell docutils container\">\n",
    "<div class=\"cell_input docutils container\">\n",
    "<div class=\"highlight-ipython3 notranslate\"><div class=\"highlight\"><pre id=\"codecell8\"><span></span><span class=\"n\">a</span><span class=\"o\">+</span><span class=\"mi\">5</span>\n",
    "</pre></div>\n",
    "</div>\n",
    "</div>\n",
    "</div>\n",
    "`````\n",
    "`````{tab} Matlab\n",
    "````matlab\n",
    "a_plus_5 = a + 5;\n",
    "disp(a_plus_5);\n",
    "````\n",
    "`````"
   ]
  },
  {
   "cell_type": "code",
   "execution_count": 5,
   "metadata": {
    "tags": [
     "remove-input",
     "remove-output",
     "thebe-init"
    ]
   },
   "outputs": [
    {
     "data": {
      "text/plain": [
       "array([[ 6,  7,  8],\n",
       "       [ 9, 10, 11],\n",
       "       [12, 13, 14]])"
      ]
     },
     "execution_count": 5,
     "metadata": {},
     "output_type": "execute_result"
    }
   ],
   "source": [
    "a+5"
   ]
  },
  {
   "cell_type": "markdown",
   "metadata": {},
   "source": [
    "#### Πολλαπλασιάστε"
   ]
  },
  {
   "cell_type": "markdown",
   "metadata": {},
   "source": [
    "`````{tab} Python\n",
    "<div class=\"cell docutils container\">\n",
    "<div class=\"cell_input docutils container\">\n",
    "<div class=\"highlight-ipython3 notranslate\"><div class=\"highlight\"><pre id=\"codecell10\"><span></span><span class=\"n\">b</span><span class=\"o\">=</span><span class=\"n\">s</span><span class=\"o\">*</span><span class=\"n\">v</span><span class=\"o\">*</span><span class=\"mi\">2</span>\n",
    "<span class=\"nb\">print</span><span class=\"p\">(</span><span class=\"s1\">'b='</span><span class=\"p\">,</span><span class=\"n\">b</span><span class=\"p\">)</span>\n",
    "</pre></div>\n",
    "</div>\n",
    "</div>\n",
    "</div>\n",
    "`````\n",
    "`````{tab} Matlab\n",
    "````matlab\n",
    "b = s * v * 2;\n",
    "disp(['b = ', mat2str(b)]);\n",
    "````\n",
    "`````"
   ]
  },
  {
   "cell_type": "code",
   "execution_count": 6,
   "metadata": {
    "tags": [
     "remove-input",
     "remove-output",
     "thebe-init"
    ]
   },
   "outputs": [
    {
     "name": "stdout",
     "output_type": "stream",
     "text": [
      "b= [ 4 20 36]\n"
     ]
    }
   ],
   "source": [
    "b=s*v*2\n",
    "print('b=',b)"
   ]
  },
  {
   "cell_type": "markdown",
   "metadata": {},
   "source": [
    "#### Πολλαπλασιάστε στοιχείο-προς-στοιχείο (elementwise)"
   ]
  },
  {
   "cell_type": "markdown",
   "metadata": {},
   "source": [
    "`````{tab} Python\n",
    "<div class=\"cell docutils container\">\n",
    "<div class=\"cell_input docutils container\">\n",
    "<div class=\"highlight-ipython3 notranslate\"><div class=\"highlight\"><pre id=\"codecell12\"><span></span><span class=\"n\">np</span><span class=\"o\">.</span><span class=\"n\">multiply</span><span class=\"p\">(</span><span class=\"n\">v</span><span class=\"p\">,</span><span class=\"n\">b</span><span class=\"p\">)</span>\n",
    "</pre></div>\n",
    "</div>\n",
    "</div>\n",
    "</div>\n",
    "`````\n",
    "`````{tab} Matlab\n",
    "````matlab\n",
    "elementwise_product = v .* b;\n",
    "disp(elementwise_product);\n",
    "````\n",
    "`````"
   ]
  },
  {
   "cell_type": "code",
   "execution_count": 7,
   "metadata": {
    "tags": [
     "remove-input",
     "remove-output",
     "thebe-init"
    ]
   },
   "outputs": [
    {
     "data": {
      "text/plain": [
       "array([  4, 100, 324])"
      ]
     },
     "execution_count": 7,
     "metadata": {},
     "output_type": "execute_result"
    }
   ],
   "source": [
    "np.multiply(v,b)"
   ]
  },
  {
   "cell_type": "markdown",
   "metadata": {},
   "source": [
    "#### Ελέγξτε το μήκος ενός διανύσματος"
   ]
  },
  {
   "cell_type": "markdown",
   "metadata": {},
   "source": [
    "`````{tab} Python\n",
    "<div class=\"cell docutils container\">\n",
    "<div class=\"cell_input docutils container\">\n",
    "<div class=\"highlight-ipython3 notranslate\"><div class=\"highlight\"><pre id=\"codecell14\"><span></span><span class=\"nb\">len</span><span class=\"p\">(</span><span class=\"n\">v</span><span class=\"p\">)</span>\n",
    "</pre></div>\n",
    "</div>\n",
    "</div>\n",
    "</div>\n",
    "`````\n",
    "`````{tab} Matlab\n",
    "````matlab\n",
    "length_v = length(v);\n",
    "disp(length_v);\n",
    "````\n",
    "`````"
   ]
  },
  {
   "cell_type": "code",
   "execution_count": 8,
   "metadata": {
    "tags": [
     "remove-input",
     "remove-output",
     "thebe-init"
    ]
   },
   "outputs": [
    {
     "data": {
      "text/plain": [
       "3"
      ]
     },
     "execution_count": 8,
     "metadata": {},
     "output_type": "execute_result"
    }
   ],
   "source": [
    "len(v)"
   ]
  },
  {
   "cell_type": "markdown",
   "metadata": {},
   "source": [
    "#### Ελέγξτε το μέγεθος ενός πίνακα"
   ]
  },
  {
   "cell_type": "markdown",
   "metadata": {},
   "source": [
    "`````{tab} Python\n",
    "<div class=\"cell docutils container\">\n",
    "<div class=\"cell_input docutils container\">\n",
    "<div class=\"highlight-ipython3 notranslate\"><div class=\"highlight\"><pre id=\"codecell16\"><span></span><span class=\"n\">a</span><span class=\"o\">.</span><span class=\"n\">shape</span>   <span class=\"c1\"># για array: np.array(a.shape)</span>\n",
    "</pre></div>\n",
    "</div>\n",
    "</div>\n",
    "</div>\n",
    "`````\n",
    "`````{tab} Matlab\n",
    "````matlab\n",
    "shape_a = size(a);  % This will return a 2-element vector: [rows, columns]\n",
    "disp(shape_a);\n",
    "````\n",
    "`````"
   ]
  },
  {
   "cell_type": "code",
   "execution_count": 9,
   "metadata": {
    "tags": [
     "remove-input",
     "remove-output",
     "thebe-init"
    ]
   },
   "outputs": [
    {
     "data": {
      "text/plain": [
       "(3, 3)"
      ]
     },
     "execution_count": 9,
     "metadata": {},
     "output_type": "execute_result"
    }
   ],
   "source": [
    "a.shape   # για array: np.array(a.shape)"
   ]
  },
  {
   "cell_type": "markdown",
   "metadata": {},
   "source": [
    "#### Προσπελάστε συγκεκριμένα στοιχεία ενός πίνακα\n",
    "Η δεικτοδότηση αρχίζει από το 0. "
   ]
  },
  {
   "cell_type": "markdown",
   "metadata": {},
   "source": [
    "`````{tab} Python\n",
    "<div class=\"cell docutils container\">\n",
    "<div class=\"cell_input docutils container\">\n",
    "<div class=\"highlight-ipython3 notranslate\"><div class=\"highlight\"><pre id=\"codecell18\"><span></span><span class=\"n\">a</span><span class=\"p\">[</span><span class=\"mi\">0</span><span class=\"p\">,</span><span class=\"mi\">1</span><span class=\"p\">]</span>\n",
    "</pre></div>\n",
    "</div>\n",
    "</div>\n",
    "</div>\n",
    "`````\n",
    "`````{tab} Matlab\n",
    "````matlab\n",
    "element_0_1 = a(1,2);  % MATLAB indexing starts at 1\n",
    "disp(element_0_1);\n",
    "````\n",
    "`````"
   ]
  },
  {
   "cell_type": "code",
   "execution_count": 10,
   "metadata": {
    "tags": [
     "remove-input",
     "remove-output",
     "thebe-init"
    ]
   },
   "outputs": [
    {
     "data": {
      "text/plain": [
       "2"
      ]
     },
     "execution_count": 10,
     "metadata": {},
     "output_type": "execute_result"
    }
   ],
   "source": [
    "a[0,1]"
   ]
  },
  {
   "cell_type": "markdown",
   "metadata": {},
   "source": [
    "#### Προσπελάστε συγκεκριμένα στοιχεία ενός πίνακα (συνέχεια)\n",
    "Αρνητικές τιμές μετρούν από το τέλος, π.χ. το -1 αναφέρεται στο τελευταίο στοιχείο."
   ]
  },
  {
   "cell_type": "markdown",
   "metadata": {},
   "source": [
    "`````{tab} Python\n",
    "<div class=\"cell docutils container\">\n",
    "<div class=\"cell_input docutils container\">\n",
    "<div class=\"highlight-ipython3 notranslate\"><div class=\"highlight\"><pre id=\"codecell20\"><span></span><span class=\"n\">a</span><span class=\"p\">[</span><span class=\"mi\">1</span><span class=\"p\">,</span><span class=\"o\">-</span><span class=\"mi\">1</span><span class=\"p\">]</span>\n",
    "</pre></div>\n",
    "</div>\n",
    "</div>\n",
    "</div>\n",
    "`````\n",
    "`````{tab} Matlab\n",
    "````matlab\n",
    "element_1_end = a(2,end);  % 'end' keyword is used for the last element in MATLAB\n",
    "disp(element_1_end);\n",
    "````\n",
    "`````"
   ]
  },
  {
   "cell_type": "code",
   "execution_count": 11,
   "metadata": {
    "tags": [
     "remove-input",
     "remove-output",
     "thebe-init"
    ]
   },
   "outputs": [
    {
     "data": {
      "text/plain": [
       "6"
      ]
     },
     "execution_count": 11,
     "metadata": {},
     "output_type": "execute_result"
    }
   ],
   "source": [
    "a[1,-1]"
   ]
  },
  {
   "cell_type": "markdown",
   "metadata": {},
   "source": [
    "#### Προσπελάστε συγκεκριμένο τμήμα ενός διανύσματος\n",
    "    \n",
    "ΠΡΟΣΟΧΗ: τα στοιχεία [2ο,3ο] δίνονται ως 1:3 και όχι ως 1:2"
   ]
  },
  {
   "cell_type": "markdown",
   "metadata": {},
   "source": [
    "`````{tab} Python\n",
    "<div class=\"cell docutils container\">\n",
    "<div class=\"cell_input docutils container\">\n",
    "<div class=\"highlight-ipython3 notranslate\"><div class=\"highlight\"><pre id=\"codecell22\"><span></span><span class=\"n\">v1</span> <span class=\"o\">=</span> <span class=\"n\">v</span><span class=\"p\">[</span><span class=\"mi\">1</span><span class=\"p\">:</span><span class=\"mi\">3</span><span class=\"p\">]</span>\n",
    "<span class=\"n\">v2</span> <span class=\"o\">=</span> <span class=\"n\">v</span><span class=\"p\">[</span><span class=\"mi\">1</span><span class=\"p\">:</span><span class=\"mi\">2</span><span class=\"p\">]</span>\n",
    "<span class=\"nb\">print</span><span class=\"p\">(</span><span class=\"s1\">'v1 ='</span><span class=\"p\">,</span><span class=\"n\">v1</span><span class=\"p\">)</span>\n",
    "<span class=\"nb\">print</span><span class=\"p\">(</span><span class=\"s1\">'v2 ='</span><span class=\"p\">,</span><span class=\"n\">v2</span><span class=\"p\">)</span>\n",
    "</pre></div>\n",
    "</div>\n",
    "</div>\n",
    "</div>\n",
    "`````\n",
    "`````{tab} Matlab\n",
    "````matlab\n",
    "v1 = v(2:3);\n",
    "v2 = v(2);\n",
    "disp(['v1 = ', mat2str(v1)]);\n",
    "disp(['v2 = ', mat2str(v2)]);\n",
    "````\n",
    "`````"
   ]
  },
  {
   "cell_type": "code",
   "execution_count": 12,
   "metadata": {
    "tags": [
     "remove-input",
     "remove-output",
     "thebe-init"
    ]
   },
   "outputs": [
    {
     "name": "stdout",
     "output_type": "stream",
     "text": [
      "v1 = [5 9]\n",
      "v2 = [5]\n"
     ]
    }
   ],
   "source": [
    "v1 = v[1:3]\n",
    "v2 = v[1:2]\n",
    "print('v1 =',v1)\n",
    "print('v2 =',v2)"
   ]
  },
  {
   "cell_type": "markdown",
   "metadata": {},
   "source": [
    "#### Προσπελάστε συγκεκριμένα τμήματα ενός πίνακα\n",
    "Ομοίως: οι γραμμές 1 & 2 δίνονται ως 0:2 και όχι ως 0:1"
   ]
  },
  {
   "cell_type": "markdown",
   "metadata": {},
   "source": [
    "`````{tab} Python\n",
    "<div class=\"cell docutils container\">\n",
    "<div class=\"cell_input docutils container\">\n",
    "<div class=\"highlight-ipython3 notranslate\"><div class=\"highlight\"><pre id=\"codecell24\"><span></span><span class=\"n\">a</span><span class=\"p\">[</span><span class=\"mi\">0</span><span class=\"p\">:</span><span class=\"mi\">2</span><span class=\"p\">,:]</span>\n",
    "</pre></div>\n",
    "</div>\n",
    "</div>\n",
    "</div>\n",
    "`````\n",
    "`````{tab} Matlab\n",
    "````matlab\n",
    "a_slice = a(1:2,:);\n",
    "disp(a_slice);\n",
    "````\n",
    "`````"
   ]
  },
  {
   "cell_type": "code",
   "execution_count": 13,
   "metadata": {
    "tags": [
     "remove-input",
     "remove-output",
     "thebe-init"
    ]
   },
   "outputs": [
    {
     "data": {
      "text/plain": [
       "array([[1, 2, 3],\n",
       "       [4, 5, 6]])"
      ]
     },
     "execution_count": 13,
     "metadata": {},
     "output_type": "execute_result"
    }
   ],
   "source": [
    "a[0:2,:]"
   ]
  },
  {
   "cell_type": "markdown",
   "metadata": {},
   "source": [
    "#### Δημιουργήστε ένα διάνυσμα με στοιχεία από το 0 έως το 0.5 και βήμα 0.1"
   ]
  },
  {
   "cell_type": "markdown",
   "metadata": {},
   "source": [
    "`````{tab} Python\n",
    "<div class=\"cell docutils container\">\n",
    "<div class=\"cell_input docutils container\">\n",
    "<div class=\"highlight-ipython3 notranslate\"><div class=\"highlight\"><pre id=\"codecell26\"><span></span><span class=\"n\">t</span><span class=\"o\">=</span><span class=\"n\">np</span><span class=\"o\">.</span><span class=\"n\">arange</span><span class=\"p\">(</span><span class=\"mi\">0</span><span class=\"p\">,</span><span class=\"mf\">0.5</span><span class=\"p\">,</span><span class=\"mf\">0.1</span><span class=\"p\">)</span>\n",
    "<span class=\"nb\">print</span><span class=\"p\">(</span><span class=\"s1\">'t='</span><span class=\"p\">,</span><span class=\"n\">t</span><span class=\"p\">)</span>\n",
    "</pre></div>\n",
    "</div>\n",
    "</div>\n",
    "</div>\n",
    "`````\n",
    "`````{tab} Matlab\n",
    "````matlab\n",
    "t = 0:0.1:0.5;  % The endpoint is inclusive in MATLAB, so you might want to adjust it if you want the exact same output as NumPy\n",
    "t(end) = [];  % Remove the last element to match Python's exclusive endpoint\n",
    "disp(['t = ', mat2str(t)]);\n",
    "````\n",
    "`````"
   ]
  },
  {
   "cell_type": "code",
   "execution_count": 14,
   "metadata": {
    "tags": [
     "remove-input",
     "remove-output",
     "thebe-init"
    ]
   },
   "outputs": [
    {
     "name": "stdout",
     "output_type": "stream",
     "text": [
      "t= [0.  0.1 0.2 0.3 0.4]\n"
     ]
    }
   ],
   "source": [
    "t=np.arange(0,0.5,0.1)\n",
    "print('t=',t)"
   ]
  },
  {
   "cell_type": "markdown",
   "metadata": {},
   "source": [
    "## Μέρος 2:  Δειγματοληψία - Ψηφιοποίηση\n",
    "\n",
    "Τα πρωτογενή σήματα είναι κυρίως αναλογικά (συνεχούς χρόνου). Για να τα παραστήσουμε και επεξεργαστούμε στον υπολογιστή μας (ή άλλη ψηφιακή μηχανή) θα πρέπει πρώτα να τα ψηφιοποιήσουμε. Υποθέστε ένα σήμα συνεχούς χρόνου $x(t)$ με μετασχηματισμό Fourier (Continuous Time Fourier Transform – CTFT):\n",
    "  \n",
    "$$\n",
    " \n",
    "X(f)=\\int_{-\\infty}^{\\infty} x(t)e^{-j2\\pi ft} dt\n",
    " \n",
    "$$"
   ]
  },
  {
   "cell_type": "code",
   "execution_count": 15,
<<<<<<< HEAD
=======
   "metadata": {},
   "outputs": [
    {
     "data": {
      "image/png": "iVBORw0KGgoAAAANSUhEUgAABdIAAAHqCAYAAAAAkLx0AAAAOXRFWHRTb2Z0d2FyZQBNYXRwbG90bGliIHZlcnNpb24zLjguMywgaHR0cHM6Ly9tYXRwbG90bGliLm9yZy/H5lhTAAAACXBIWXMAAA9hAAAPYQGoP6dpAADhV0lEQVR4nOzdeXgTVdsG8HuSpmnTje4bBQqUfQdFUNlbBEEQFRX1A0VFceMFRRGFggpaFVFRcEFEEQEFVASBsoMsVkD2ndKytHTf26zz/ZFk2rRpaIE2LXP/rqsXzeQkc05OUibPPPMcQRRFEUREREREREREREREZJfC2R0gIiIiIiIiIiIiIqrLGEgnIiIiIiIiIiIiInKAgXQiIiIiIiIiIiIiIgcYSCciIiIiIiIiIiIicoCBdCIiIiIiIiIiIiIiBxhIJyIiIiIiIiIiIiJygIF0IiIiIiIiIiIiIiIHGEgnIiIiIiIiIiIiInKAgXQiIiIiIiIiIiIiIgcYSCciqmF79+7FQw89hNDQULi6uiIkJAQPPvgg9uzZU63niY2NhSAI19WHbdu2QRAEbNu27boeX1V9+vRBnz59rtlOr9fjq6++wm233QY/Pz9oNBo0btwYw4YNw+rVq6V2Fy5cgCAI+P7772uu09VQ1/pDREREte/777+HIAh2f1599VWn9EkQBMTGxtboPqzHotf6qcqxYG3S6XR47rnnEBoaCqVSiU6dOjm7S9W2dOlSzJ071+59tTH3N2rz5s3o1q0bPDw8IAgCfvvtN4ftL168iBdffBHNmjWDm5sbfH190adPH/z0008QRbHK+73R70C1+bmqig0bNiAmJgZhYWFQq9UICwtDnz598P7779u0a9KkCcaMGVMDvb0+da0/RDfCxdkdICK6lX3++eeYMGECbr/9dsTFxaFx48ZITk7GF198gbvuuguffvopXnzxxSo919NPP4177rnnuvrRpUsX7NmzB23atLmux99sTzzxBFatWoUJEyZgxowZUKvVOH/+PNavX48NGzbg/vvvBwCEhoZiz549aNasmZN7TERERGRr0aJFaNWqlc22sLAwp/Rlz549aNiwYY3uo/yxaEpKCkaMGIGXXnoJo0aNkrZ7e3vXaD+qa/78+fjqq6/w+eefo2vXrvD09HR2l6pt6dKlOHr0KCZMmFDhvtqY+xshiiJGjhyJFi1a4I8//oCHhwdatmxZafu///4bQ4YMgaenJ1577TV06NABubm5WLFiBR5//HGsWbMGS5cuhUJx7bzQG/0OVJde2wULFuD555/HAw88gHnz5sHPzw8XL17E7t278euvv+KNN96Q2q5evbrOfQ6JbhUMpBMR1ZC///4bEyZMwODBg7F69Wq4uJT+yX3kkUdw//3345VXXkHnzp1x5513Vvo8RUVF0Gg0aNiw4XUfyHl7e+OOO+64rsfebImJiVi+fDmmTZuGGTNmSNv79++PZ555BiaTSdqmVqvrTL+JiIiIymrXrh26devmtP2LooiSkhK4u7vf1OMlo9EIg8EAtVpts738seiFCxcAAI0aNXK4f71eD0EQbI6Fa9PRo0fh7u5e5eSVqiguLoa7u/tNe74bUdePla9cuYKsrCzcf//96N+/v8O2OTk5GDFiBHx8fLBv3z4EBwdL9w0bNgwdOnTAG2+8gU6dOtkEjsuzvudu9DtQXXptZ8+ejV69euHXX3+12f7EE0/YfH8CgM6dO9dm14hkhaVdiIhqyOzZsyEIAubPn1/hi4OLiwu+/PJLCIJgcyme9dK+AwcO4MEHH4Svr6+UjW3vsj+tVotJkyYhJCQEGo0GvXr1wv79+ytcPmfvssYxY8bA09MTZ8+exeDBg+Hp6YmIiAhMmjQJWq3WZj8zZsxA9+7d4efnB29vb3Tp0gULFy6s1qWVVpmZmQDM2eb2lM0uqayUyu+//44OHTpArVajadOm+PTTT+2+PoIg4MUXX8SPP/6I1q1bQ6PRoGPHjvjzzz9t2p09exZPPvkkoqKioNFoEB4ejqFDh+LIkSPVHh8RERERAPzxxx/o0aMHNBoNvLy8EB0dXaG035gxY9CkSZMKj3V0XLNgwQK0bt0aarUaixcvlu4rX4IiNTUV48aNQ8OGDeHq6orIyEjMmDEDBoNBamM91oqLi8O7776LyMhIqNVqbN269brGbD3m/PHHHzFp0iSEh4dDrVbj7NmzSE9Px/jx49GmTRt4enoiKCgI/fr1w86dO22ew9qnjz76CHPmzEFkZCQ8PT3Ro0cP7N2716bt+fPn8cgjj0ilLoKDg9G/f3/8999/0uvy7bffori4WCo9Yz2uLCkpwZQpUxAZGQlXV1eEh4fjhRdeQE5Ojs0+mjRpgiFDhmDVqlXo3Lkz3NzcMGPGDGmsS5cuxeuvv47Q0FB4enpi6NChuHr1KvLz8/Hss88iICAAAQEBePLJJ1FQUGDz3F988QV69eqFoKAgeHh4oH379oiLi4Ner5fa9OnTB2vXrkVSUpJNCR0re3N/9OhRDBs2DL6+vnBzc0OnTp2k90r5ufr5558xdepUhIWFwdvbGwMGDMCpU6eqNN+7du1C//794eXlBY1Gg549e2Lt2rXS/bGxsdLJl9dffx2CINh9v1t9++23SEtLw/vvv28TRLeaPHkyWrVqhQ8//FB6jRy95yor7fLNN9+gRYsWUKvVaNOmDZYuXWr3s1j+tbWWddq6dSuef/55BAQEwN/fHyNGjMCVK1dsHrt8+XLExMQgNDQU7u7uaN26Nd544w0UFhZW4ZWtKDMzs0rfnwD7pVSOHTuGmJgYaDQaBAYG4oUXXsDatWsrvD59+vRBu3btkJCQgLvvvhsajQZNmzbF+++/bxOwLykpwaRJk9CpUyf4+PjAz88PPXr0wO+//35d4yOqL5iRTkRUA4xGI7Zu3Ypu3bpVmkUeERGBrl27YsuWLTAajVAqldJ9I0aMwCOPPILnnnvO4cHWk08+ieXLl2Py5Mno168fjh8/jvvvvx95eXlV6qder8d9992HsWPHYtKkSdixYwfeeecd+Pj4YNq0aVK7CxcuYNy4cWjUqBEAc933l156CZcvX7ZpVxWtW7dGgwYNMGPGDCgUCsTExDg8oC5v/fr1GDFiBHr16oXly5fDYDDgo48+wtWrV+22X7t2LRISEjBz5kx4enoiLi4O999/P06dOoWmTZsCMGfK+Pv74/3330dgYCCysrKwePFidO/eHQcPHnR4+SkRERHJkzVzuyxr8sTSpUvx2GOPISYmBj///DO0Wi3i4uLQp08fbN68GXfdddd17fO3337Dzp07MW3aNISEhCAoKMhuu9TUVNx+++1QKBSYNm0amjVrhj179uDdd9/FhQsXsGjRIpv2n332GVq0aIGPPvoI3t7eiIqKuq7+WU2ZMgU9evTAggULoFAoEBQUhPT0dADA9OnTERISgoKCAqxevVp6TcrXVv/iiy/QqlUrqTb422+/jcGDByMxMRE+Pj4AgMGDB8NoNCIuLg6NGjVCRkYGdu/eLQXD9+zZg3feeQdbt27Fli1bAADNmjWDKIoYPnw4Nm/ejClTpuDuu+/G4cOHMX36dOzZswd79uyxycg/cOAATpw4gbfeeguRkZHw8PCQjtHffPNN9O3bF99//z0uXLiAV199FY8++ihcXFzQsWNH/Pzzzzh48CDefPNNeHl54bPPPpOe99y5cxg1apQUzD906BDee+89nDx5Et999x0A4Msvv8Szzz6Lc+fO2awlVJlTp06hZ8+eCAoKwmeffQZ/f38sWbIEY8aMwdWrVzF58mSb9m+++SbuvPNOfPvtt8jLy8Prr7+OoUOH4sSJEzbfT8rbvn07oqOj0aFDByxcuBBqtRpffvklhg4dip9//hkPP/wwnn76aXTs2NGmBFD5Kx3Kio+Ph1KpxNChQ+3eLwgC7rvvPsTFxWH//v02GeP23nOpqakVnuPrr7/GuHHj8MADD+CTTz5Bbm4uZsyYUSGRyJGnn34a9957L5YuXYqLFy/itddew+OPPy69xwDgzJkzGDx4MCZMmAAPDw+cPHkSH3zwAf755x+bdlXVo0cPrFy5ErGxsbj//vvRrl07h/NTVkpKCnr37g0PDw/Mnz8fQUFB+Pnnnyu9SiM1NRWPPfYYJk2ahOnTp2P16tWYMmUKwsLC8H//938AzAldWVlZePXVVxEeHg6dTodNmzZhxIgRWLRokdSO6JYjEhHRTZeamioCEB955BGH7R5++GERgHj16lVRFEVx+vTpIgBx2rRpFdpa77M6duyYCEB8/fXXbdr9/PPPIgBx9OjR0ratW7eKAMStW7dK20aPHi0CEFesWGHz+MGDB4stW7astM9Go1HU6/XizJkzRX9/f9FkMkn39e7dW+zdu7fDMYuiKK5du1YMCAgQAYgARH9/f/Ghhx4S//jjD5t2iYmJIgBx0aJF0rbbbrtNjIiIELVarbQtPz9f9Pf3F8v/twZADA4OFvPy8qRtqampokKhEGfPnl1p/wwGg6jT6cSoqCjxf//7n8P+EBERkbwsWrRIOoYp/6PX60Wj0SiGhYWJ7du3F41Go/S4/Px8MSgoSOzZs6e0bfTo0WLjxo0r7KP8cZ8omo9rfHx8xKysrArtAYjTp0+Xbo8bN0709PQUk5KSbNp99NFHIgDx2LFjoiiWHts0a9ZM1Ol01XodrI/98MMPpW3WY85evXpd8/EGg0HU6/Vi//79xfvvv7/C87Zv3140GAzS9n/++UcEIP7888+iKIpiRkaGCECcO3euw/2MHj1a9PDwsNm2fv16EYAYFxdns3358uUiAPHrr7+WtjVu3FhUKpXiqVOnbNpaxzp06FCb7RMmTBABiC+//LLN9uHDh4t+fn6V9tN6jP3DDz+ISqXSZp7vvfdeu+8TUaw494888oioVqvF5ORkm3aDBg0SNRqNmJOTY9P/wYMH27RbsWKFCEDcs2dPpX0VRVG84447xKCgIDE/P1/aZjAYxHbt2okNGzaUviPYe59UplWrVmJISIjDNvPnzxcBiMuXL7cZh733XPnvQEajUQwJCRG7d+9u0y4pKUlUqVQVXuPyr631sz9+/HibdnFxcSIAMSUlxW6fTSaTqNfrxe3bt4sAxEOHDkn32fus23P27FmxXbt20t8ad3d3sX///uK8efMqfHYbN25s813wtddeEwVBkD73VgMHDqzwHbF3794iAHHfvn02bdu0aSMOHDiw0v5ZP89jx44VO3fu7LA/RPUZS7sQETmRaCmNUv7S3QceeOCaj92+fTsAYOTIkTbbH3zwwSrXoBQEoULGR4cOHZCUlGSzbcuWLRgwYAB8fHygVCqhUqkwbdo0ZGZmIi0trUr7Kmvw4MFITk7G6tWr8eqrr6Jt27b47bffcN999zmsX1lYWIh///0Xw4cPh6urq7TdehmtPX379oWXl5d0Ozg4GEFBQTZjNBgMmDVrFtq0aQNXV1e4uLjA1dUVZ86cwYkTJ6o9PiIiIrr1/fDDD0hISLD5cXFxwalTp3DlyhU88cQTNiUXPD098cADD2Dv3r0oKiq6rn3269cPvr6+12z3559/om/fvggLC4PBYJB+Bg0aBKD0ONLqvvvug0qluq4+2VPZseyCBQvQpUsXuLm5wcXFBSqVCps3b7Z7vHXvvffaZNx26NABAKRjOD8/PzRr1gwffvgh5syZg4MHD1aoFV0Za0Zw+fIXDz30EDw8PLB582ab7R06dECLFi3sPteQIUNsbrdu3Vrqf/ntWVlZNuVdDh48iPvuuw/+/v7SMfb//d//wWg04vTp01Uai72x9e/fHxERETbbx4wZg6Kiogrlhe677z6b2+VfZ3sKCwuxb98+PPjggzaLtyqVSjzxxBO4dOlSlcvDVNeNfH86deoUUlNTK3x/atSokcM1q8qrymt2/vx5jBo1CiEhIdLc9u7dGwCu6/tFs2bNcOjQIWzfvh0zZszAgAEDkJCQgBdffBE9evRASUlJpY/dvn072rVrV2HR1UcffdRu+5CQENx+++0Vxlj+PfHLL7/gzjvvhKenp/R5XrhwIb8/0S2NgXQiohoQEBAAjUaDxMREh+0uXLgAjUYDPz8/m+2V1b8ry1prvHz9QBcXF/j7+1epnxqNBm5ubjbb1Gq1zYHYP//8g5iYGADmeoJ///03EhISMHXqVADmxZauh7u7O4YPH44PP/wQ27dvx9mzZ9GmTRt88cUXOHbsmN3HZGdnQxRFuzUT7W0DYPe1UKvVNv2eOHEi3n77bQwfPhxr1qzBvn37kJCQgI4dO173+IiIiOjW1rp1a3Tr1s3mB3C8HkxYWBhMJhOys7Ova59VOUYEgKtXr2LNmjVQqVQ2P23btgUAZGRkXNfz3kg/58yZg+effx7du3fHypUrsXfvXiQkJOCee+6xe7xV/hjOWhLE2lYQBGzevBkDBw5EXFwcunTpgsDAQLz88svIz8932L/MzEy4uLggMDDQZrsgCAgJCZHm0NF4rMofx1uTPSrbbj3OTk5Oxt13343Lly/j008/xc6dO5GQkIAvvvjCZpzVVVkt7bCwMOn+sq71OttjPSavzn6qolGjRkhPT3dY2tK6yG35EwU38v2psm2VudZrVlBQgLvvvhv79u3Du+++i23btiEhIQGrVq2yaVddCoUCvXr1wrRp0/DHH3/gypUrePjhh7F//36pFJA9mZmZN/3706pVqzBy5EiEh4djyZIl2LNnDxISEvDUU085DOoT1XeskU5EVAOUSiX69u2L9evX49KlS3brpF+6dAn79+/HoEGDKtS3K59hYY/1AOfq1asIDw+XthsMhus6cK3MsmXLoFKp8Oeff9oE3X/77bebtg/AfOD87LPPYsKECTh27Jj0Ra8sX19fCIJgtx66vRqIVbVkyRL83//9H2bNmmWzPSMjAw0aNLju5yUiIiL5sR6jpaSkVLjvypUrUCgUUla5m5ub3drM5QPdVlU5RgTMSR0dOnTAe++9Z/d+a7Czus9bVfaeb8mSJejTpw/mz59vs/1aQW9HGjdujIULFwIATp8+jRUrViA2NhY6nQ4LFiyo9HH+/v4wGAxIT0+3CaaLoojU1FTcdttt1xzPjfrtt99QWFiIVatWoXHjxtJ260Kp18vf37/S9x5gfm/cKF9fXygUipu+n+joaGzcuBFr1qzBI488UuF+URTxxx9/wM/PD127drW5r7rfn8q7ke8S5W3ZsgVXrlzBtm3bpCx0ABUWsr1RHh4emDJlCpYvX46jR49W2s7f379Gvj9FRkZi+fLlNq99dWrNE9VHzEgnIqohU6ZMgSiKGD9+PIxGo819RqMRzz//PERRxJQpU67r+Xv16gXAvCJ8Wb/++muFha9uhCAIcHFxsQn2FxcX48cff7yu58vPz7e5pLUs62WA5b/cWXl4eKBbt2747bffoNPppO0FBQX4888/r6s/gHmM5Rc+Wrt2LS5fvnzdz0lERETy1LJlS4SHh2Pp0qVSGQrAXA5j5cqV6NGjBzQaDQCgSZMmSEtLswly6XQ6bNiw4Yb6MGTIEBw9ehTNmjWrkDXfrVu3So+1apK9463Dhw9XKDVyvVq0aIG33noL7du3x4EDBxy27d+/PwBzMLCslStXorCwULq/JlmDj2VfE1EU8c0331RoWz4b2JH+/ftLgdyyfvjhB2g0GpsFOq+Xh4cHunfvjlWrVtn0y2QyYcmSJWjYsGGlpXAcefrppxEUFIQpU6bYLR8ZFxeHkydPYvLkyddViqhly5YICQnBihUrbLYnJydj9+7d1X6+ytibWwD46quvrvs57Z20AK79/QkAevfujaNHj+L48eM225ctW3bd/REEAa6urjZB9NTUVPz+++/X/ZxE9QEz0omIasidd96JuXPnYsKECbjrrrvw4osvolGjRkhOTsYXX3yBffv2Ye7cuejZs+d1PX/btm3x6KOP4uOPP4ZSqUS/fv1w7NgxfPzxx/Dx8bGpyXkj7r33XsyZMwejRo3Cs88+i8zMTHz00UcVDgyr6tSpUxg4cCAeeeQR9O7dG6GhocjOzsbatWvx9ddfo0+fPg5fk5kzZ+Lee+/FwIED8corr8BoNOLDDz+Ep6cnsrKyrqtPQ4YMwffff49WrVqhQ4cO2L9/Pz788EO7VxIQEREROaJQKBAXF4fHHnsMQ4YMwbhx46DVavHhhx8iJycH77//vtT24YcfxrRp0/DII4/gtddeQ0lJCT777LMKSRjVNXPmTMTHx6Nnz554+eWX0bJlS5SUlODChQtYt24dFixYUOvHOUOGDME777yD6dOno3fv3jh16hRmzpyJyMjI60oCOXz4MF588UU89NBDiIqKgqurK7Zs2YLDhw/jjTfecPjY6OhoDBw4EK+//jry8vJw55134vDhw5g+fTo6d+6MJ5544nqHWWXR0dFwdXXFo48+ismTJ6OkpATz58+3W/anffv2WLVqFebPn4+uXbtCoVBIpYTKmz59ulQjf9q0afDz88NPP/2EtWvXIi4uDj4+Pjel/7Nnz0Z0dDT69u2LV199Fa6urvjyyy9x9OhR/Pzzz9eVxd+gQQOsWrUKQ4YMQdeuXfHaa6+hY8eOyMvLw/Lly/HTTz/h4YcfxmuvvXZdfVYoFJgxYwbGjRuHBx98EE899RRycnIwY8YMhIaG3rTvTz179oSvry+ee+45TJ8+HSqVCj/99BMOHTp03c/Ztm1b9O/fH4MGDUKzZs1QUlKCffv24eOPP0ZwcDDGjh1b6WMnTJiA7777DoMGDcLMmTMRHByMpUuX4uTJkwBwXeMeMmQIVq1ahfHjx+PBBx/ExYsX8c477yA0NBRnzpy57nES1XUMpBMR1aCXXnoJt912Gz7++GNMmjQJmZmZ8PPzw1133YVdu3ahR48eN/T8ixYtQmhoKBYuXIhPPvkEnTp1wooVK3DPPffctJIk/fr1w3fffYcPPvgAQ4cORXh4OJ555hkEBQU5PGCrTPPmzTFx4kRs2bIFv//+O9LT06FSqRAVFYV3330XEydOdHgwd88992DlypWYNm0aHn74YYSEhGD8+PG4cuXKdWfJf/rpp1CpVJg9ezYKCgrQpUsXrFq1Cm+99dZ1PR8RERHJ26hRo+Dh4YHZs2fj4YcfhlKpxB133IGtW7faJAxERkbi999/x5tvvokHH3wQoaGhmDhxItLT0zFjxozr3n9oaCj+/fdfvPPOO/jwww9x6dIleHl5ITIyEvfcc0+VFiy92aZOnYqioiIsXLgQcXFxaNOmDRYsWIDVq1dj27Zt1X6+kJAQNGvWDF9++SUuXrwIQRDQtGlTfPzxx3jppZccPlYQBPz222+IjY3FokWL8N577yEgIABPPPEEZs2add0JI9XRqlUrrFy5Em+99RZGjBgBf39/jBo1ChMnTpQWhbV65ZVXcOzYMbz55pvIzc2FKIo2VzuU1bJlS+zevRtvvvkmXnjhBRQXF6N169ZYtGhRhcVVb0Tv3r2xZcsWTJ8+HWPGjIHJZELHjh3xxx9/VFiAtTqsJzU++OADfPrpp7h06RLc3d3RsWNHLFmyBKNGjbqhUjvPPvssBEFAXFwc7r//fjRp0gRvvPEGfv/9dyQnJ1/385bl7++PtWvXYtKkSXj88cfh4eGBYcOGYfny5ejSpct1Pef777+PDRs24L333kNqaioMBgMiIiIwatQoTJ061WGN+LCwMGzfvh0TJkzAc889B41Gg/vvvx8zZ87E6NGjr+t745NPPom0tDQsWLAA3333HZo2bYo33ngDly5duqG/XUR1nSBW9teXiIjqpd27d+POO+/ETz/9hFGjRjm7O7VCr9ejU6dOCA8Px8aNG53dHSIiIiIiqidycnLQokULDB8+HF9//bWzu1Nrnn32Wfz888/IzMyUFsMlIseYkU5EVI/Fx8djz5496Nq1K9zd3XHo0CG8//77iIqKwogRI5zdvRozduxYREdHIzQ0FKmpqViwYAFOnDiBTz/91NldIyIiIiKiOio1NRXvvfce+vbtC39/fyQlJeGTTz5Bfn4+XnnlFWd3r8bMnDkTYWFhaNq0qbS+1Lfffou33nqLQXSiamAgnYioHvP29sbGjRsxd+5c5OfnIyAgAIMGDcLs2bPh5ubm7O7VmPz8fLz66qtSWZguXbpg3bp1GDBggLO7RkREREREdZRarcaFCxcwfvx4ZGVlSQuwLliwAG3btnV292qMSqWSyjwZDAZERUVhzpw5t/TJA6KawNIuREREREREREREREQO3JwliYmIiIiIiIiIiIiIblH1NpA+e/ZsCIKACRMmSNtEUURsbCzCwsLg7u6OPn364NixY87rJBERERERERERERHVe/UykJ6QkICvv/4aHTp0sNkeFxeHOXPmYN68eUhISEBISAiio6ORn5/vpJ4SERERERERERERUX1X7xYbLSgowGOPPYZvvvkG7777rrRdFEXMnTsXU6dOxYgRIwAAixcvRnBwMJYuXYpx48ZV6flNJhOuXLkCLy8vCIJQI2MgIiIiIhJFEfn5+QgLC4NCUS/zW2oMj8mJiIiIqDZU55i83gXSX3jhBdx7770YMGCATSA9MTERqampiImJkbap1Wr07t0bu3fvrjSQrtVqodVqpduXL19GmzZtam4ARERERERlXLx4EQ0bNnR2N+qUK1euICIiwtndICIiIiKZqMoxeb0KpC9btgwHDhxAQkJChftSU1MBAMHBwTbbg4ODkZSUVOlzzp49GzNmzKiw/dtvv4VGo7nBHhMRERER2VdUVISnn34aXl5ezu5KnWN9TS5evAhvb+9a269er8fGjRsRExMDlUpVa/ul2sV5lgfOs3xwruWB8ywPzpjnvLw8REREVOmYvN4E0i9evIhXXnkFGzduhJubW6Xtyl/6KYqiw8tBp0yZgokTJ0q3rS/e8OHDa/2gPT4+HtHR0fyDcAvjPMsD51keOM/ywHmWB2fNc15eHp5++mmWLrHD+pp4e3vX+jG5RqOBt7c3P/O3MM6zPHCe5YNzLQ+cZ3lw5jxX5Zi83gTS9+/fj7S0NHTt2lXaZjQasWPHDsybNw+nTp0CYM5MDw0NldqkpaVVyFIvS61WQ61WV9iuUqmc8sF01n6pdnGe5YHzLA+cZ3ngPMtDbc8z31NERERERPVHvVnVqH///jhy5Aj+++8/6adbt2547LHH8N9//6Fp06YICQlBfHy89BidToft27ejZ8+eTuw5EREREREREREREdVn9SYj3cvLC+3atbPZ5uHhAX9/f2n7hAkTMGvWLERFRSEqKgqzZs2CRqPBqFGjnNFlIiIiIiIiIiIiIroF1JtAelVMnjwZxcXFGD9+PLKzs9G9e3ds3LiRCzgRERERERERERER0XWr14H0bdu22dwWBAGxsbGIjY11Sn+IiIiIiIiIiIiI6NZTb2qkExERERERERERERE5AwPpREREREREREREREQOMJBOREREREREREREROQAA+lERERERERERERERA4wkE5ERERERERERERE5AAD6UREREREREREREREDjCQTkREREREiI2NhSAINj8hISHS/aIoIjY2FmFhYXB3d0efPn1w7Ngxm+fQarV46aWXEBAQAA8PD9x33324dOlSbQ+FiIiIiOimYyCdiIiIiIgAAG3btkVKSor0c+TIEem+uLg4zJkzB/PmzUNCQgJCQkIQHR2N/Px8qc2ECROwevVqLFu2DLt27UJBQQGGDBkCo9HojOEQEREREd00Ls7uABERERER1Q0uLi42WehWoihi7ty5mDp1KkaMGAEAWLx4MYKDg7F06VKMGzcOubm5WLhwIX788UcMGDAAALBkyRJERERg06ZNGDhwYK2OhYiIiIjoZmIgvY4yiCZc1hWisdrL2V0hIiIiIpk4c+YMwsLCoFar0b17d8yaNQtNmzZFYmIiUlNTERMTI7VVq9Xo3bs3du/ejXHjxmH//v3Q6/U2bcLCwtCuXTvs3r273gTSRRE4diUPelFwdldqTZCXGo39PZzdDSIiIqI6jYH0Oir2SgLeSz2Arxv1xjOBbZzdHSIiIiK6xXXv3h0//PADWrRogatXr+Ldd99Fz549cezYMaSmpgIAgoODbR4THByMpKQkAEBqaipcXV3h6+tboY318ZXRarXQarXS7by8PACAXq+HXq+/4bFVlV6vx7YUAb/t3Vtr+6wrVj3XHe3DfZzdjVphfU/V5nuLah/nWT441/LAeZYHZ8xzdfbFQHod9V7qAQDAs8nbMTagNRSCfDJiiIiIiKj2DRo0SPq9ffv26NGjB5o1a4bFixfjjjvuAAAI5Y5JRVGssK28qrSZPXs2ZsyYUWH7xo0bodFoqjqEmyK9xLyMlMZFhKcMvi1lawG9KOD3zbtxMUB0dndqVXx8vLO7QLWA8ywfnGt54DzLQ23Oc1FRUZXbyuDQsH5qofbBaW0uACDTUIJAlbuTe0REREREcuLh4YH27dvjzJkzGD58OABz1nloaKjUJi0tTcpSDwkJgU6nQ3Z2tk1WelpaGnr27OlwX1OmTMHEiROl23l5eYiIiEBMTAy8vb1v4qgc0+v1WPHVZgDA03c3x0v9mtXavp3l8e8SsC8xG507d8bg9hXr49+K9Ho94uPjER0dDZVK5ezuUA3hPMsH51oeOM/y4Ix5tl4JWRUMpNdROUad9HumkYF0IiIiIqpdWq0WJ06cwN13343IyEiEhIQgPj4enTt3BgDodDps374dH3zwAQCga9euUKlUiI+Px8iRIwEAKSkpOHr0KOLi4hzuS61WQ61WV9iuUqmc9mVZoVTI4ou69WoBhVIpi/GW5cz3F9UezrN8cK7lgfMsD7U5z9XZDwPpdZBBNCHdUCzdzjSUOLE3RERERCQHr776KoYOHYpGjRohLS0N7777LvLy8jB69GgIgoAJEyZg1qxZiIqKQlRUFGbNmgWNRoNRo0YBAHx8fDB27FhMmjQJ/v7+8PPzw6uvvor27dtjwIABTh5d1VmLmwiQR2lF6zhFUV5lXYiIiIiqi4H0OijDUIKyh7EMpBMRERFRTbt06RIeffRRZGRkIDAwEHfccQf27t2Lxo0bAwAmT56M4uJijB8/HtnZ2ejevTs2btwILy8v6Tk++eQTuLi4YOTIkSguLkb//v3x/fffQ6lUOmtY1Wc5EJfLEkVyGScRERHRjWIgvQ5K1dsWuc80aJ3UEyIiIiKSi2XLljm8XxAExMbGIjY2ttI2bm5u+Pzzz/H555/f5N7VntKMdHmwBtKZkE5ERETkmMLZHaCKypZ1AZiRTkRERERU2+SSqS2VdgEj6URERESOMJBeBxWaDDa3M40MpBMRERER1SZBJpF0mQyTiIiI6IYxkF4HFRr1NreZkU5EREREVDvkmpfN0i5EREREjjGQXgeVz0jPMeqc1BMiIiIiInmRa0BZruMmIiIiqioG0uugQpNtRnr5DHUiIiIiIqpZcil5Yi1hwzg6ERERkWMMpNdB1ox0b4WrzW0iIiIiIqpZ1oCydRHOW511lCJT0omIiIgcYiC9DiqyZKQHqdwBVMxQJyIiIiKimiWfjHTzvwyjExERETnGQHodZM1AD3Jxt7lNRERERES1QyZx9NJxMpJORERE5BAD6XWQtSZ6oIub+TYz0omIiIiIaoVU2kUmkXRBLgMlIiIiukEMpNdB1gz0QEtplyJmpBMRERER1Q6ZZmaLch04ERERURUxkF4HWTPQpdIuRgbSiYiIiIhqg3wXG3VqN4iIiIjqPAbS66CicjXSi0UDTDyyJSIiIiKqcfIr7WL+l982iIiIiBxjIL0OKi3t4iZtY3kXIiIiIiK6+cyRdObtEBERETnGQHodZC3tEmDJSC+7jYiIiIiIao41oCyXRThLM9IZSSciIiJyhIH0OshaE91ToYJG4WLexox0IiIiIqJaI48wunzGSURERHSjGEivg0pEIwDAXaGEhxRIZ0Y6EREREVFtkUlCemlGOhPSiYiIiBxiIL0O0prMgXS1oISHQgUAKDQykE5EREREVNPkGk+W67iJiIiIqoqB9DpIa8lIV5fJSOdio0REREREtUcmCekQwJR0IiIioqpgIL0OKimTke5mCaRby70QEREREVHNsYaT5bfYKBERERE5wkB6HWMSRRhgAmAOpKsFJYDSci9ERERERFSDLBFlmcTRWSOdiIiIqIoYSK9jtGUyz9UKJdwU5kA6M9KJiIiIiGqPTOLoUmkXkZF0IiIiIocYSK9jbALpzEgnIiIiIqpVUjhZNinpzu4AERERUf1QbwLp8+fPR4cOHeDt7Q1vb2/06NEDf/31l3S/KIqIjY1FWFgY3N3d0adPHxw7dsyJPb4+ZQPmroKCGelERERERLVIrnnZch03ERERUVXVm0B6w4YN8f777+Pff//Fv//+i379+mHYsGFSsDwuLg5z5szBvHnzkJCQgJCQEERHRyM/P9/JPa8erVhaH10QBLhZMtJLTAZndouIiIiISFbkkqhtHScruxARERE5Vm8C6UOHDsXgwYPRokULtGjRAu+99x48PT2xd+9eiKKIuXPnYurUqRgxYgTatWuHxYsXo6ioCEuXLnV216vFWtrFWtJFbclItwbYiYiIiIio5oiyW2zUUiPdyf0gIiIiquvqTSC9LKPRiGXLlqGwsBA9evRAYmIiUlNTERMTI7VRq9Xo3bs3du/e7cSeVp8USFeYp4YZ6UREREREtU+QSU56aUY6Q+lEREREjrg4uwPVceTIEfTo0QMlJSXw9PTE6tWr0aZNGylYHhwcbNM+ODgYSUlJDp9Tq9VCq9VKt/Py8gAAer0eer3+Jo+gctZ9Fel0AMwZ6Xq9HirLoW2RoXb7QzXDOoecy1sb51keOM/ywHmWB2fNM99XdZM1nCyfjHRn94CIiIiofqhXgfSWLVviv//+Q05ODlauXInRo0dj+/bt0v1CuaNAURQrbCtv9uzZmDFjRoXtGzduhEajuTkdr4Zd/+wFggBDcQnWrVuHy955gDdw8vxZrDuYXuv9oZoRHx/v7C5QLeA8ywPnWR44z/JQ2/NcVFRUq/uj6pFLfFku4yQiIiK6UfUqkO7q6ormzZsDALp164aEhAR8+umneP311wEAqampCA0NldqnpaVVyFIvb8qUKZg4caJ0Oy8vDxEREYiJiYG3t3cNjMI+vV6P+Ph4dOjWBUjeCF8PLwwePBj/pu7HqrSDCGvSCIPD76y1/lDNsM5zdHQ0VCqVs7tDNYTzLA+cZ3ngPMuDs+bZeiUkkTNJNdJZ2YWIiIjIoXoVSC9PFEVotVpERkYiJCQE8fHx6Ny5MwBAp9Nh+/bt+OCDDxw+h1qthlqtrrBdpVI55QuzUWk+kHVTuEClUkHj4goA0EHkF/hbiLPeX1S7OM/ywHmWB86zPNT2PPM9VTfJrbSLlcjlRomIiIgcqjeB9DfffBODBg1CREQE8vPzsWzZMmzbtg3r16+HIAiYMGECZs2ahaioKERFRWHWrFnQaDQYNWqUs7teLVqTCQCgVpgXGXWz/FtiWYSUiIiIiIhqjjUzW36LjTq1G0RERER1Xr0JpF+9ehVPPPEEUlJS4OPjgw4dOmD9+vWIjo4GAEyePBnFxcUYP348srOz0b17d2zcuBFeXl5O7nn1aC0Bc7WgtPlXa2IgnYiIiIio1sgjji6Nk3F0IiIiIsfqTSB94cKFDu8XBAGxsbGIjY2tnQ7VECmQzox0IiIiIqJaJ5V2cWovao81854Z6URERESOKZzdAbJlzTxXCwrLv8xIJyIiIiKqbYJMiqQLUkY6I+lEREREjjCQXseUL+1SmpFucFqfiIiIiIjkRh5hdPmMk4iIiOhGMZBex1Qs7WKuvlPCjHQiIiIiohontxInUka6zMZNREREVF0MpNcxWtEEwM5io6yRTkRERERUa2RS2YWIiIiIqoiB9DpGZ8k8d7XUSJdKuzAjnYiIiIioxkmLjcokkF662ChT0omIiIgcYSC9jtHDnJGuYkY6EREREVGtkwLpMqkeztIuRERERFXDQHodoxetgXRmpBMREREROYtsMtKtgXTndoOIiIiozmMgvY4xWlJBrIF0ZqQTEREREVHNkckZAyIiIqIbxEB6HcOMdCIiIiIi55FbiROWdiEiIiKqGgbS65gKgfQyGelcAIiIiIiIqHYIcqntYiGyuAsRERGRQwyk1zHlA+lqS0Y6AOgs9xERERERUc0oXWxUHqzjZM4OERERkWMMpNcxFTPSXaT7SkSDU/pERERERCQf5tCyXBLSudgoERERUdUwkF7HlA+kuwqlU6RlnXQiIiIiohplzcwWZJKTLo2TKelEREREDjGQXsfoYRtIFwQBakud9BKRgXQiIiIiotrAjHQiIiIiKouB9DqmfEY6ALhZ6qQzI52IiIiIqHbIJI4um3ESERER3SgG0usYg51AOjPSiYiIiIhqh9wyswVLSjoruxARERE5xkB6HeMoI72EGelERERERDXKGk+WS2kXK1F2pxCIiIiIqoeB9DrGXiDdmpGuZUY6EREREVEtkVcknRnpRERERI4xkF7HMCOdiIiIiMh5rAFluWSkc7FRIiIioqphIL2O0VuO3JmRTkRERETkPDKJo0MAa6QTERERVQUD6XWM44x0g1P6REREREQkN4JMUtJlMkwiIiKiG8ZAeh1jDaS7lA2kCy4AWNqFiIiIiKimyS0x2xpH52KjRERERI4xkF7H2F1sVMHSLkREREREtUl2idqMoxMRERE5xEB6HWOAndIuAhcbJSIiIiKqDVxslIiIiIjsYSC9jjEwI52IiIiIyGmsAWX5BNKti40ylE5ERETkCAPpdYzdxUaZkU5EREREVKsEmRR3kWqkM45ORERE5BAD6XUMa6QTEREREdUB8oijS+NkHJ2IiIjIMQbS6xi7gXSBgXQiIiIiotoglXZxai9qj1wy74mIiIhuFAPpdYy9QLqr5XctS7sQEREREdFNJC02ypR0IiIiIocYSK9jHJV20VnuIyIiIiKimmENKAtyWW3UQmRxFyIiIiKHGEivQ0SIMFgOYFnahYiIiIicafbs2RAEARMmTJC2iaKI2NhYhIWFwd3dHX369MGxY8dsHqfVavHSSy8hICAAHh4euO+++3Dp0qVa7v2Nk0sYnYuNEhEREVUNA+l1SNkwucoSPAfKBNJZ2oWIiIiIakFCQgK+/vprdOjQwWZ7XFwc5syZg3nz5iEhIQEhISGIjo5Gfn6+1GbChAlYvXo1li1bhl27dqGgoABDhgyB0Vg/jmWlGukyiaTLZZxEREREN4qB9DrEKJSmgdgr7cKMdCIiIiKqaQUFBXjsscfwzTffwNfXV9ouiiLmzp2LqVOnYsSIEWjXrh0WL16MoqIiLF26FACQm5uLhQsX4uOPP8aAAQPQuXNnLFmyBEeOHMGmTZucNaTrIpdFOK3jFJmSTkREROQQA+l1iKHM71xslIiIiIic4YUXXsC9996LAQMG2GxPTExEamoqYmJipG1qtRq9e/fG7t27AQD79++HXq+3aRMWFoZ27dpJbeo6ZqQTERERkT0uzu4Alao0I5010omIiIioFixbtgwHDhxAQkJChftSU1MBAMHBwTbbg4ODkZSUJLVxdXW1yWS3trE+3h6tVgutVivdzsvLAwDo9Xro9frrG8x10Ov1UiTdYDDU6r6dxWQyAQCMJpMsxgtAGqdcxitXnGf54FzLA+dZHpwxz9XZFwPpdYg1I10BAYoyqSHW0i460eSEXhERERGRHFy8eBGvvPIKNm7cCDc3t0rbCeVSmEVRrLCtvGu1mT17NmbMmFFh+8aNG6HRaK7R85tLhPnY+59//kHOqVu/3MnZZAUABS5cSMK6dYnO7k6tio+Pd3YXqBZwnuWDcy0PnGd5qM15LioqqnJbBtLrEGtGetlsdICLjRIRERFRzdu/fz/S0tLQtWtXaZvRaMSOHTswb948nDp1CoA56zw0NFRqk5aWJmWph4SEQKfTITs72yYrPS0tDT179qx031OmTMHEiROl23l5eYiIiEBMTAy8vb1v2hivRa/XY/Z/WwAAd3Tvjjua+tXavp3lzOaz2HD5PBo1boTBg9s4uzu1Qq/XIz4+HtHR0VCpVM7uDtUQzrN8cK7lgfMsD86YZ+uVkFXBQHodYs1IrxBI52KjRERERFTD+vfvjyNHjthse/LJJ9GqVSu8/vrraNq0KUJCQhAfH4/OnTsDAHQ6HbZv344PPvgAANC1a1eoVCrEx8dj5MiRAICUlBQcPXoUcXFxle5brVZDrVZX2K5SqWr9y7I1B93FxUUWX9SVSvN3DUFQyGK8ZTnj/UW1j/MsH5xreeA8y0NtznN19sNAeh1izUh3KXfZK2ukExEREVFN8/LyQrt27Wy2eXh4wN/fX9o+YcIEzJo1C1FRUYiKisKsWbOg0WgwatQoAICPjw/Gjh2LSZMmwd/fH35+fnj11VfRvn37CouX1nVyWYTTOs5bv4gNERER0Y1hIL0OqSwj3dVym6VdiIiIiMiZJk+ejOLiYowfPx7Z2dno3r07Nm7cCC8vL6nNJ598AhcXF4wcORLFxcXo378/vv/+eynzub6QSRwdgmWkIiPpRERERA4prt2kbpg9ezZuu+02eHl5ISgoCMOHD5fqNFqJoojY2FiEhYXB3d0dffr0wbFjx5zU4+orrZFu+yWDi40SERERkTNs27YNc+fOlW4LgoDY2FikpKSgpKQE27dvr5DF7ubmhs8//xyZmZkoKirCmjVrEBERUcs9v35yCyjLJfOeiIiI6EbVm0D69u3b8cILL2Dv3r2Ij4+HwWBATEwMCgsLpTZxcXGYM2cO5s2bh4SEBISEhCA6Ohr5+flO7HnVWfPNK11slKVdiIiIiIhqhSCTCHPpKGV2BoGIiIiomupNaZf169fb3F60aBGCgoKwf/9+9OrVC6IoYu7cuZg6dSpGjBgBAFi8eDGCg4OxdOlSjBs3zhndrpbSjPRKAuks7UJEREREVKOs4WSZxNElcsvEJyIiIqquehNILy83NxcA4OfnBwBITExEamoqYmJipDZqtRq9e/fG7t27Kw2ka7VaaLVa6XZeXh4AQK/XQ6/X11T3K9Dr9TBYDtZdINjsW2E0l3TRisZa7RPdfNb54zze2jjP8sB5lgfOszw4a575vqqbpEC6U3tRe6TFRhlIJyIiInKoXgbSRVHExIkTcdddd0k1GVNTUwEAwcHBNm2Dg4ORlJRU6XPNnj0bM2bMqLB948aN0Gg0N7HX12ZUm49eS/ILsG7dOml7htIIhAIlRoPNdqq/4uPjnd0FqgWcZ3ngPMsD51keanuei4qKanV/VEWWgLJcMtKtJWxElnYhIiIicqheBtJffPFFHD58GLt27apwX/lahqIoOqxvOGXKFEycOFG6nZeXh4iICMTExMDb2/vmdfoa9Ho9/t25BgDg59MAg7sNlu5LNxQDx3+CUQDuGTQICrkc1d+C9Ho94uPjER0dDZVK5ezuUA3hPMsD51keOM/y4Kx5tl4JSXWVvI65mZFORERE5Fi9C6S/9NJL+OOPP7Bjxw40bNhQ2h4SEgLAnJkeGhoqbU9LS6uQpV6WWq2GWq2usF2lUtX6F2ajJQvEVaG02benovSoVnRRQKWod9NG5Tjj/UW1j/MsD5xneeA8y0NtzzPfU3WT3GqkS6VdnNsNIiIiojpPce0mdYMoinjxxRexatUqbNmyBZGRkTb3R0ZGIiQkxOaSXJ1Oh+3bt6Nnz5613d3rYrQcxFa22ChgrpNORERERER0Mwgyy7wnIiIiul71JrX5hRdewNKlS/H777/Dy8tLqonu4+MDd3d3CIKACRMmYNasWYiKikJUVBRmzZoFjUaDUaNGObn3VWOw5IGUD6S7lrmtNRkBJYiIiIiIqAbIbbFRK5Z2ISIiInKs3gTS58+fDwDo06ePzfZFixZhzJgxAIDJkyejuLgY48ePR3Z2Nrp3746NGzfCy8urlnt7fSrLSBcEAa6CAjrRBK1ockLPiIiIiIjkxdE6S7eS0tIujKQTEREROVJvAuliFVIkBEFAbGwsYmNja75DNaCyjHQAcBWU5kC6iaVdiIiIiIhqivVrhzzC6GXGyTg6ERERkUP1pka6HFSWkQ6U1knXsUY6EREREVGN4WKjRERERGQPA+l1iKOMdLXCHEjnYqNERERERDVPLotwWsdZlSuAiYiIiOSMgfQ6xHFGunkbS7sQEREREdHNIpfMeyIiIqIbxUB6HWIUqpKRzsVGiYiIiIhqitxKu1gxH52IiIjIMQbS6xCD5V8XBzXSWdqFiIiIiKgGyTSizMouRERERI4xkF6HOMpId7UG0lnahYiIiIioxsgtI12wDJRxdCIiIiLHGEivQ6wZ6fZLu5i36ZiRTkRERERU4+Sz2KgZFxslIiIicoyB9DrEYY10lnYhIiIiIqo18slIN//LMDoRERGRYwyk1yHWELnDQLqJi40SEREREdUU2ZV2sf7CSDoRERGRQwyk1yEOM9IVzEgnIiIiIqppcosnC3I5Y0BERER0gxhIr0Mc1UjnYqNERERERLXAEkmXS410K1F2pxCIiIiIqoeB9DrEcY108zZmpBMRERER1RzZlXax1khnHJ2IiIjIIQbS6xBHGenW0i46kTXSiYiIiIhqmkzi6NI4GUgnIiIicoyB9DrEcUY6S7sQEREREdU0uWWkWwfK0i5EREREjjGQXodUJSOdpV2IiIiIiGqDPCLpzEgnIiIiqhoG0uuQKmWkM5BORERERFRzZBZQlk3mPREREdENYiC9DrGGyF3sTIurdbFRlnYhIiIiIqoxcivtIsBa2oWIiIiIHGEgvQ4xWg7WudgoEREREZFzySSOLmFpFyIiIiLHGEivQ0yWPBAXlnYhIiIiInKK0ox0eYTSS4fJSDoRERGRIwyk1yHWjHQXOwftUiCdpV2IiIiIiGqMFEh3ai9qDxcbJSIiIqoaBtLrEKOjjHQFM9KJiIiIiGqLTBLSpXEyjk5ERETkGAPpdYhJykjnYqNERERERE5hiSgLMslJlxYbZUo6ERERkUMMpNch1hC5i52DdtZIJyIiIiKqebILJ8vjfAERERHRDWMgvQ6pSmkXnWiq1T4REREREcmRXEq7WMnuBAIRERFRNTGQXocYHZR24WKjREREREQ1T24BZS42SkRERFQ1DKTXISYpI91OaRcuNkpEREREVPOsNdJlkpEuWAbKODoRERGRYwyk1yFVykhnIJ2IiIiIqMZYA8qCTCLppRnpDKUTEREROcJAeh1SuthoxWlxtQTXWdqFiIiIiKjmySOMLp/MeyIiIqIbxUB6HWIUrl3ahYuNEhERERHVHLnlZTOQTkRERFQ1DKTXIdYQOUu7EBERERE5l1wCzIIl956VXYiIiIgcYyC9DnGYkW4NpLO0CxERERFRjZFqpMumuIuZKLtcfCIiIqLqYSC9DpFqpNvLSFeUZqRzISAiIiIiohpiOdSWTUa6ZZz8ikFERETkGAPpdYijxUatGekiAANYJ52IiIiIqCaUZqTLCwPpRERERI4xkF6HmByUdnEtk6WuNTGQTkRERERUo2QSSRcs3z1Y2oWIiIjIMQbS65CqlHYBAB0XHCUiIiIiqlFyqZFuHSUz0omIiIgcYyC9jjCJIkTLUazSTka6i6CAwnKYq2UgnYiIiIioRogyCaBbyaUWPBEREdGNYiC9jjCIpeVa7NVIB0rrpGtNDKQTEREREdUkuQWYmZBORERE5BgD6XWEocyhq73SLgCgVpi3MyOdiIiIiOjmE8vUN5FLHF0qYcNIOhEREZFDDKTXETYZ6ZWkv7hKGemVLzZ6sCgdafqim9s5IiIiIiIZKFsnXJBJSrogxdEZSSciIiJypF4F0nfs2IGhQ4ciLCwMgiDgt99+s7lfFEXExsYiLCwM7u7u6NOnD44dO+aczlaTbSD9GqVdKslI312Qiq4nfkXf03/AKFYebCciIiIiIsfkEUbnYqNEREREVVWvAumFhYXo2LEj5s2bZ/f+uLg4zJkzB/PmzUNCQgJCQkIQHR2N/Pz8Wu5p9ZUt7aKs5LBdrTAH0nWVBNI/vPofRADHS7LxR86Fm91FIiIiIqJbWtlYskwS0stkpBMRERGRIy7O7kB1DBo0CIMGDbJ7nyiKmDt3LqZOnYoRI0YAABYvXozg4GAsXboU48aNq82uVps1I10JodLLSNWWTPXKFhv9uyBF+n1XQSru9216k3tJRERERHTrEmWZli2TMwZEREREN6heZaQ7kpiYiNTUVMTExEjb1Go1evfujd27dzuxZ1VjsBy0V1bWBSjNSLdX2iXboEW6oUS6faIk+yb3kIiIiIjo1maTkS6TALOUkS7LkwhEREREVVevMtIdSU1NBQAEBwfbbA8ODkZSUlKlj9NqtdBqtdLtvLw8AIBer4der6+BntpXotcBAFwgVLpfV8t5jwK9rkKb40UZtreLs2q1/1Q11jnh3NzaOM/ywHmWB86zPDhrnvm+qntE20i6rDCMTkREROTYLRNItypfFkUUxUpLpQDA7NmzMWPGjArbN27cCI1Gc9P7V5nLLgYgBBCNRqxbt85um8KAHMAN2HdgP1yLj9vct1VTBPgBjfQuSFYZkKQvwOq//oRavGUuOrilxMfHO7sLVAs4z/LAeZYHzrM81PY8FxUV1er+6NpkWSPd8i8T0omIiIgcu2UC6SEhIQDMmemhoaHS9rS0tApZ6mVNmTIFEydOlG7n5eUhIiICMTEx8Pb2rrkOl3O4IB04/zvcVa4YPHiw3TZfJW7AkfyLaN2xPQb7tbC57+DVg8DV/egX1BS/5iaiwKRH2353o4Xapza6T1Wk1+sRHx+P6OhoqFQqZ3eHagjnWR44z/LAeZYHZ82z9UpIqkPKRJNlEkeXko4YRyciIiJy7JYJpEdGRiIkJATx8fHo3LkzAECn02H79u344IMPKn2cWq2GWq2usF2lUtXuF2alOXPcRVBUul93pXm6dAqxQps0k7k+ekO1F8JUGpzW5iJd1KItv/TXSbX+/iKn4DzLA+dZHjjP8lDb88z3VN3m6KrWW4k0SqakExERETlUrwLpBQUFOHv2rHQ7MTER//33H/z8/NCoUSNMmDABs2bNQlRUFKKiojBr1ixoNBqMGjXKib2uGqO02GjlB+xuCvN0lZgqLjaaqjdfGhyq0iDc1QOntbm4rCusgZ4SEREREd2a5BhKlhYbdW43iIiIiOq8ehVI//fff9G3b1/ptrUky+jRo/H9999j8uTJKC4uxvjx45GdnY3u3btj48aN8PLyclaXq8wAEwDABZXXNHcTlAAcB9JDVBqEqzwBAJf1DKQTEREREVVV2aRseeSjy6cWPBEREdGNqleB9D59+kB0cMmhIAiIjY1FbGxs7XXqJjFIGemVB9LdLRnpxaKhwn1lM9LDVOZFUq8wkE5EREREVGVimbxsuQSYBcspA1Z2ISIiInKs8qgt1SqDaM5IVzos7WI/I10URaSUzUh39QAAlnYhIiIiIqoG24x0mUTSLUQWdyEiIiJyiIH0OsJgOXC9ntIueSYdSkTztmCVO4Jc3AEAGYaSmugqEREREdEtqWwoWS4Z6dbzBcxIJyIiInKMgfQ6wpqR7mix0cpKu2QZtAAAjcIFGoUKAQykExERERFRFVi/fTCQTkREROQYA+l1RFVqpFdW2sUaSPdTqgEAgS5uAIB0Q/FN7ycRERER3Zrmz5+PDh06wNvbG97e3ujRowf++usv6X5RFBEbG4uwsDC4u7ujT58+OHbsmM1zaLVavPTSSwgICICHhwfuu+8+XLp0qbaHct1sSrvIJCNdsAyUcXQiIiIixxhIryOqkpHuJpgz0ktM5TLSjebMcz9LAD3A8m+GocTh4qxERERERFYNGzbE+++/j3///Rf//vsv+vXrh2HDhknB8ri4OMyZMwfz5s1DQkICQkJCEB0djfz8fOk5JkyYgNWrV2PZsmXYtWsXCgoKMGTIEBiNxsp2W8fI79hZJucLiIiIiG4YA+l1hAGWQLqDKXG3ZqSLjjPS/S2BdCNE5Bp1N72vRERERHTrGTp0KAYPHowWLVqgRYsWeO+99+Dp6Ym9e/dCFEXMnTsXU6dOxYgRI9CuXTssXrwYRUVFWLp0KQAgNzcXCxcuxMcff4wBAwagc+fOWLJkCY4cOYJNmzY5eXRVI8fFRgWpRrr8TiIQERERVQcD6XVEaWkXBxnplkB6cbmM9EyDNSNdbWnnAk+FCgDrpBMRERFR9RmNRixbtgyFhYXo0aMHEhMTkZqaipiYGKmNWq1G7969sXv3bgDA/v37odfrbdqEhYWhXbt2Upu6TpaLjRIRERFRlbg4uwNkVlraxUGNdKm0S7mMdKMlI92SiQ6Y66QX6PTIMBSjOXxudneJiIiI6BZ05MgR9OjRAyUlJfD09MTq1avRpk0bKRAeHBxs0z44OBhJSUkAgNTUVLi6usLX17dCm9TUVIf71Wq10Gq10u28vDwAgF6vh16vv+FxVZWuzL4Mej1guvXzjqxld0wmsVZfa2eyjlMu45UrzrN8cK7lgfMsD86Y5+rsi4H0OsJgyX9xVNrFrdLSLpaMdEtpFwAIcHFHoi4f6cxIJyIiIqIqatmyJf777z/k5ORg5cqVGD16NLZv3y7dL5RL0xZFscK28qrSZvbs2ZgxY0aF7Rs3boRGo6nGCG5MoR6wfkVav349FDLISj+VKwBQIi8/H+vWrXN2d2pVfHy8s7tAtYDzLB+ca3ngPMtDbc5zUVFRldsykF5HGKuw2Ki7wjxd5Uu72MtIL7vgKBERERFRVbi6uqJ58+YAgG7duiEhIQGffvopXn/9dQDmrPPQ0FCpfVpampSlHhISAp1Oh+zsbJus9LS0NPTs2dPhfqdMmYKJEydKt/Py8hAREYGYmBh4e3vftPFdS3puEfDvLgDA4EGDoJBBJN33fCa+PL4fnp6eGDz4Tmd3p1bo9XrEx8cjOjoaKpXK2d2hGsJ5lg/OtTxwnuXBGfNsvRKyKhhIryOsNdKVDku7WDLSy5d2sZuRbg2kFzvcr140QgkFFCwCSURERHRLKCkpgZub27UbVoEoitBqtYiMjERISAji4+PRuXNnAIBOp8P27dvxwQcfAAC6du0KlUqF+Ph4jBw5EgCQkpKCo0ePIi4uzuF+1Go11Gp1he0qlapWvywrXUq/HqlUKlkE0l2sYxYE2QUmavv9Rc7BeZYPzrU8cJ7loTbnuTr7ua6ifzk5Ofj2228xZcoUZGVlAQAOHDiAy5cvX8/TEcrWSL/2YqMVS7tYM9JLv3wEurgDcJyRnmvUotPxXxB1dCnOa6t+9oWIiIiI6haTyYR33nkH4eHh8PT0xPnz5wEAb7/9NhYuXFil53jzzTexc+dOXLhwAUeOHMHUqVOxbds2PPbYYxAEARMmTMCsWbOwevVqHD16FGPGjIFGo8GoUaMAAD4+Phg7diwmTZqEzZs34+DBg3j88cfRvn17DBgwoMbGfjPJcbFRATIZKBEREdENqnZG+uHDhzFgwAD4+PjgwoULeOaZZ+Dn54fVq1cjKSkJP/zwQ03085ZngCWQ7uDchrW0S5HJtgi+o9Iujmqkv596EMdLsgEAb1zeixVNY66j50RERETkbO+++y4WL16MuLg4PPPMM9L29u3b45NPPsHYsWOv+RxXr17FE088gZSUFPj4+KBDhw5Yv349oqOjAQCTJ09GcXExxo8fj+zsbHTv3h0bN26El5eX9ByffPIJXFxcMHLkSBQXF6N///74/vvvoVQqb/6ga4JYGkq/Vl33W4V1mKIoOm5IREREJHPVDqRPnDgRY8aMQVxcnM1B86BBg6RsFKo+a2kXRxnpHgrzpQZF5WukX2dpl7W5SdLvG/MuwiCa4OKgtAwRERER1U0//PADvv76a/Tv3x/PPfectL1Dhw44efJklZ7jWpnrgiAgNjYWsbGxlbZxc3PD559/js8//7xK+6xr5BxKlvPYiYiIiKqi2lHThIQEjBs3rsL28PBwpKam3pROyVFpaZfKp0RjyUjXiSapvSiKUka6f5mM9ECV49Iu2QYtjhZnSbdzjTokFKbdwAiIiIiIyFkuX74sLRJalslkgl6vt/MIssealC2TZHQAKC3swkg6ERERkUPVDqS7ubnZXc301KlTCAwMvCmdkiOD5cjVxUGNQg9F6QUE1qz0QpMBektQvWyN9GuVdkkoSoMIIErtg8HejQAA/xVnXP8AiIiIiMhp2rZti507d1bY/ssvv0iLg1LVySiOLpWwYRydiIiIyLFql3YZNmwYZs6ciRUrVgAwH3glJyfjjTfewAMPPHDTOygXVclIVwtKCDAf5BaZDPBWuiLLWCLd5y6UTqc1kJ5ZSSD9RLG5NnoHd380V/tgXV4yjpTJUCciIiKi+mP69Ol44okncPnyZZhMJqxatQqnTp3CDz/8gD///NPZ3as3rMFkudRHB1gjnYiIiKiqqp2R/tFHHyE9PR1BQUEoLi5G79690bx5c3h5eeG9996riT7KQmmN9MqnRBAEqU56oWXB0SyDdaFRtc0BvzWQnm3UQi8aKzzXScsio63cGqCdux8A4Ehx5o0Og4iIiIicYOjQoVi+fDnWrVsHQRAwbdo0nDhxAmvWrJEWC6Vrk2MwWT6nDIiIiIhuTLUz0r29vbFr1y5s2bIFBw4cgMlkQpcuXTBgwICa6J9slGakOz6U1ShcUGDSS6Vd7C00CgC+SrWUvZ5l0CJYpbG5/0RJDgCglZsv2rr7AgBOWrYRERERUf0zcOBADBw40NndqNekjHSn9qJ2SRnpzu0GERERUZ1X7UC6Vb9+/dCvX7+b2RdZM8ASSL/GRQLWOumFRnNGeqZloVFfF9tAulJQwE/phkxjCTIMJRUC6We0uQCAFm4+aKr2BmBemLTAqIenUnWDoyEiIiIiqn/kuNiolQyT8YmIiIiqpUqB9M8++6zKT/jyyy9fd2fkzGg5clVWISMdQIWMdH+lW4W2garSQHpZOpMRKfpCAECkqzd8lGr4KtXINmqRqMtDe3f/Svf/Q+Yp/FOYhplht8HPpeI+iYiIiKh2+Pr6VrmWd1YW18KhylgXG2UknYiIiMiRKgXSP/nkE5vb6enpKCoqQoMGDQAAOTk50Gg0CAoKYiD9OlVlsVEA0Eg10q2BdGuN9IpBbWud9HRDsc32i/oCiADcBRepTVO1N/YXpeO8tvJA+h85iRh9YQsAc431TS3uq8rQiIiIiKgGzJ07V/o9MzMT7777LgYOHIgePXoAAPbs2YMNGzbg7bffdlIP6x9rjXR5Ljbq3H4QERER1XVVCqQnJiZKvy9duhRffvklFi5ciJYtWwIATp06hWeeeQbjxo2rmV7KgMGSAeJyjYqMHuUz0o2WGunlSrsAQICLOwBUyEhP1hUAABq5ekpfEiJdvbC/KB2J2rxK970g/bj0++b8yzhdkoMWbg0c9peIiIiIasbo0aOl3x944AHMnDkTL774orTt5Zdfxrx587Bp0yb873//c0YX6y35hNFLx8pAOhEREZFjjtOf7Xj77bfx+eefS0F0AGjZsiU++eQTvPXWWze1c3JS9Yx0S410k6VGuiUj3V5pF2u2eflAepI2H4A5kG5lrZN+3nJfeblGLTbmXQQANFf7AAB+zT7nsK9EREREVDs2bNiAe+65p8L2gQMHYtOmTU7oUf0kx1iynLLviYiIiG5EtQPpKSkp0Ov1FbYbjUZcvXr1pnRKjqw10q8VSPewLARavka6/Yx0ayDdtrRLks4cLG+s9pK2RVoC6Yk6+xnpewuuwggRTV298XJQewDAzoIUh30lIiIiotrh7++P1atXV9j+22+/wd+/8vVvyJYcFxuV0VCJiIiIbkiVSruU1b9/fzzzzDNYuHAhunbtCkEQ8O+//2LcuHEYMGBATfRRFqTSLlVcbFSqkW68do10R6VdrKwZ6ZWVdtldmAoA6OkZgrs9QwEAfxekwiiaoHQQ/D9Vko2t+VfwmF8UvJSuDsdGRERERNdnxowZGDt2LLZt2ybVSN+7dy/Wr1+Pb7/91sm9qz+sC27KKbhcWiNdjvn4RERERFVX7Yz07777DuHh4bj99tvh5uYGtVqN7t27IzQ0lAfpN0Aq7XKNKSmtkW4t7WLJSFdWnpGeXr60izUj3bVMRrrl90Rdvt2D6ITCdADAHR7BaO/uBw+FC/JNepzR5lba16PFmeh8/Fc8n7wD0WfWwGgZIxERERHdXGPGjMHu3bvRoEEDrFq1CitXroSPjw/+/vtvjBkzxtndqzdKM9LlFEo3YxidiIiIyLFqZ6QHBgZi3bp1OH36NE6ePAlRFNG6dWu0aNGiJvonG6U10h0ftHsqzKVd8o3mQHqWtUa63Yx062Kj5Uu7mDPSywbSG7t6QYC5ZEyaoRjBKo3NY44WZwEAOrj7QSko0M7dD/sK03CkOAut3Hzt9vWdlP0oFs2Z8/sK0/BHzgXc79vU4fiIiIiI6Pp0794dP/30k7O7Ua9Zg8lyCqMLltEyIZ2IiIjIsWoH0q1atGjB4PlNZKhijXQfS3mUXKMOoigiy1iVGumlGekmUcRFO6VdXBVKhKs8cElfiERtnk0gPc+ow0W9+TFt3f0AAO3d/bGvMA2HizLxkG+zCvsuMOrxW04iAOAe7wisz7uI7zJPXjOQLooirhqKEeziLstMICIiIqLrkZyc7PD+Ro0a1VJPbhEyOgyVSrswJ52IiIjIoWoH0p966imH93/33XfX3Rk5M8Ba2sXxUbuPpYRLrlGHIpMBOksmu5+yYkZ6oJSRXhpITzMUQysaIQBo6Oph0z5S7W0OpOvycQdCpO3HLNnoYSoPqRZ7B3fzolWHizPt9nNj3kXoRBOaqb3xfvgdWJ93EZvzLqPEZICbwv7brsikx8Azf2JXQSoebNAUPzeNvuaJBSIiIiICmjRp4jAJwWg01mJv6jFraRc5RdItmJFORERE5Fi1A+nZ2dk2t/V6PY4ePYqcnBz069fvpnVMboyWI1dHC3cCthnpmZZsdJWgkGqnl2XNSC8yGVBk0kOjUOGCZTHRcJUHVILSpn2kqxd2IqXCgqPHSsyB9LZlSrhcK5C+Nf8yAGCwd2N0cPdHuMoDl/WF2FmQgmjvCLuPeS/lAHYVmBc1/TXnPAZnnsaTAa0qeymIiIiIyOLgwYM2t/V6PQ4ePIg5c+bgvffec1Kv6h85ZmXzIlAiIiKiqql2IH316tUVtplMJowfPx5Nm7L+9fWy1khXXuNItmwgXaqPrnSzm4HkpVBBJSigF01I15egsVol1Udvovaq0D5S7Q3AvOBoWdb66O0sZV0AoL3l9wu6fOQatVKmvNWewqsAgDs9QyAIAvp5hePHrNPYkW8/kK41GfFV+nEAwG2aICQUpeGjq/9hjH9Lh9lVX6YdxU9ZZzDCNxITgzqyHAwRERHJUseOHSts69atG8LCwvDhhx9ixIgRTuhV/VO62Khz+1GbpBrpTu4HERERUV13U+pmKBQK/O9//8Mnn3xyM55OlgyWQ1eXa0xJaSBdiyxD5fXRAUAQBIRaap2n6AsBmAPfANDE1btC+0hLcL1CRnqx+SqEtmUC6X4ubmioMpeGsQbarYpMehwqMmeq9/AMBgD08goFAOwsSLHb1415F5FpLEG4ygPro+6FWlDieEm2lA1vz4qss3jh4k7sLkzFq5f2YGHmiUrblpVpKIHRcuKCiIiI6FbWokULJCQkOLsb9YYUSHduN5yCpV2IiIiIHLtpBajPnTsHg8Fws55OdqwZ6S7VyEjPNJoz0isLpAMoE0gvAgCptEsTVzsZ6ZbgeqLWfkZ62dIugHnBUQA4Ui6Q/m9hOgwwIUzlgQiVeUHTXp5hAIC9hVehNVWs0bkx7yIAYKhPY/i5uGGgJWt9VXai3XGZRBFvX/kHQOnJh+lX/oXOznNblZgMGHb2LwQcWoT2x1cguVzmPREREVF9lZeXZ/OTm5uLkydP4u2330ZUVJSzu1dvWGPJsspIl8bKSDoRERGRI9Uu7TJx4kSb26IoIiUlBWvXrsXo0aNvWsfkpjSQXvUa6VJGup2FRq3CLFnjVyyB9KqUdknWFcAomqAUFMgwFCPVYH5s2Yx0wFwn/a+85Ap10q1lXXp4BEulVqLUPghycUeaoRgJRWm4yzPU5jHxeZcAADGWAPoQn8b4I/cCNuRdxLSwbhX6urfwKk5rc+GtcMW59qPQ9thyXNEXYlP+JQz2aWz3tZidegB/5F4AAJwoycaYC1uwOeo+h+VglmSexpfpR9HGzRdzIu6Et+X1JyIiIqpLGjRoUOGYRhRFREREYNmyZU7qVf0jWtKy5bTYqPVtw4x0IiIiIseqHUgvv5CRQqFAYGAgPv74Yzz11FM3rWNyY7AcuV47I92cfV4iGpFqCY5XLSPdtrRLYzsZ6WEqjVRT/bK+EI1cvaSyLk1cveBVLojcQWMOrB8uKhdItywYai3rApjLzPTyDMWvOeexI/+KTSD9oq4Ap7Q5UEBAX69wAMBAH3NAfV/hVeQYtGhQboyrcs4DAIY2aIwAF3eM9G2GeelH8XPWWbuB9ByDFh9fPQQAmBXWHTNS/sXW/CvYUZCC3l5hdl+7NTkX8MSFzeYxFV7FFX0R1jYf7DDwvibnAj5NO4yGrp6IC78DQZbXn4iIiKgmbd261ea29Ri9efPmcHGp9iG/7MkqI5010omIiIiqpNpH1eUP0unmMMCSkX6NajveSpX0+xltLgAg0MW90vZlM9JFUcQFrbVGesVAulJQoJGrJ85p85CozUcjVy8csWSbty+XjQ6YM9IB4HBxJkRRhCAIEEURe6WM9BCb9r28wvBrzvkKddLjLWVdbvcIkgLmjVy90MqtAU6W5GBz/iU84NtMai+KIlZlmwPpIxqYF7h91C8K89KP4recRBSbDHBX2L61f8g6hUKTAe3c/PBGSGdc0OXj64zj+DbjhN1Aul40YsLFvwEAd3uGYl/hVfyVl4y1uUkY0qBJhfYAsCnvEoafWw+T5WvIoaJM7Gs1Aq4Kpd32ADA//ShmpRyAr4saX0TcjbsrCeqXHfuR4iy4KhRoVa7UDhEREcmXIAjo2bNnhaC5wWDAjh070KtXLyf1rH6RYzC5NCNdjqMnIiIiqrpq10jv168fcnJyKmzPy8tDv379bkafZKmqGelKQQEvhTmYbq1NHm4JlttjDaRf1hciw1CCYtEAAUCEq6fd9s3VPgCA0yU5AErro7ezE0hv6dYAKkGBfJMeSZZM9yRdPq4aiqESFOisCbBp38uShf53QapUygYoLesS7d3Qpr21TvoGS6Dd6nBxJhJ1+XATlFKbHh7BaOzqhQKTHutzkyv0dUnmGQDAs4FtIAgCxga0AgD8mn0OuZZa82X9mn0e53V5CHJxx1/N78UrQR0AAHPSDlVoC5gD788n74AJIvp4hsFf6Yb/ijPwadphu+0BYF1uEsYn78QlfSGOFGdh8Nl1OGN53Svbx8jzG9HxxAq0PrYMzyVth+kaX3guaPPwcvIuPJ+0HadKsh22tcoxaKUrGIiIiKh+6Nu3L7KyKi7Snpubi759+zqhR/WUDGPJMkq+JyIiIroh1Q6kb9u2DTqdrsL2kpIS7Ny586Z0So6qWiMdKC3XYq1NHu5aeSA90lIL/bw2TyrrEqbygLqSLOk2liznE5agq6NAukpQorWlvbUv1mz0Tu4BFbLC27n7wUfpinyTHocs5WBMoohN+ZZAulflgfSyGTLWsi73+DSChyVDXxAEjGgQCQD43VIH3epsSS4SitKghICRlsz22zRBaOvmixLRiJ+zzlYY29fpxwEA4wPbwkOpwotB7aCAgK35V3C8uOKX1F+yz+GsNhdBLu74o/kgfNiwBwDgo6uHUGKquAivSRTx5uV9AIBHfJujp0cICkx6vHRxV4W2VtOvJOBXy9gB4KuM45iXfqTS9ue0ubj95Ep8nn4ECzKO47YTK3GoKKPS9qIo4p2UfxF0+HuEHf4BD53bgGI7fS/rsq4ALyTvwIPnNuDPnAsO21odLc7EnzkXkGes+HeEiIiIro/16sDyMjMz4eFR+bEi2RItkXRZlXaxZqQ7txtEREREdV6VA+mHDx/G4cPm7Nrjx49Ltw8fPoyDBw9i4cKFCA8Pr7GO3upKM9KvPSXlA+eOMtKtGeYXtPk4WVJa77wybdzNgfHjJdkQRRFHS8xB4/aWMi7lWcu7/FdkG0i/wyO4QluloJBqo+8ouAIAOFScgQxDCTwVKtzhafuY3l5hUAtKJFtqqFutyk4EAClwbjXMcntNzgWbjPefs83Z6P29GyLYchJCEAQ8aclKX5J52uZ5TpfkYFvBFSgg4KmA1gDMpWaGWUq6fJF+1Ka9KIpS/fWXgtrDS+mKx/2jEKHyRJqhGEuybJ8fAH7NPY9DxZnwVrjii0Z3Y3GTflAJCmzIu4it+ZcrtE/W5Uv7+KVpDD6LuAsAMO1KAtL1xRXam0QRTyRuRrqhBG3cfNFFE4B8kx7/d2GLzWtT1oKMY5h2JQF6y/2/5pzH00nb7La19um2kyvxZfoxrMw5j6Hn/sKXaUcrbQ8Ar13ajfbHV2Doub8QdXQp/rG8XyqztyAVXU/8Ao+D3+DBcxvsjrWsIpMecakH8ej5eMxPP1rpWMs6UZyN7zNOSmWMrsUkikjS5kNrMlapPRERUU0aMWIERowYAUEQMGbMGOn2iBEjMGzYMAwcOBA9e/Z0djfrDWvuhpwWG7ViZRciIiIix6ocSO/UqRM6d+4MQRDQr18/dOrUSfrp2rUr3n33XUybNq0m+1plX375JSIjI+Hm5oauXbvWi0x5o1Qj/doH7eEq27IsjjLSw1QecBOUMMCEP3OTANivd27Vxs1839HiLFzQ5SPXqIMLFGihbmC3/e0eQQCAPYXmBUb3FFgC6Z5Bdttby7tY66Rby7r08QqDSrDNktcoVLjb0n5Drrm8y5mSHBwtyYILFBji08Sm/Z2eIfBXuiHLqMUuy/OLoogfLIHyR32b27R/xLc5BAB/F6YiUZsnbf/Kko0+2KeRTQmc8YHtAAA/Zp5GgVEvbd9ecAUHijLgLrjgucA2AMzZ+hOCzeVgPr56yKYEixEiYlP3AwBeDekIPxc3NHfzwbMB5sdOuby3Qo3K6VcSoBNN6OsVhgcaNMX4wLbo5B6AXKMOsSkJFV7nn7JOY0/hVXgpVFgfNQQboobAT6nG4eJMfGEn2H1RV4BXL+0BAMwO746tLe6DEgKWZp3BOsv7piyTKGLU+U1I0RehtZsvnvBrAQB45eLfFRaftVqedRYfWU4G+CvdkGYoxvBz63HVsmhueQeL0tH/zBocKMpAkcmAlTnnMeDMmkqz5AuMevQ7/Qdev7wXy7LPYnzyTjx4bgOMDoLp76bsR5vjy/Bk0lZ0OL4Cb13e57A+6O6CVEQdXYomR5cg7PBi/Jx1ptK2AJBj1OKZpG2IOPwD+pz6HXstC/FWRhRF/JR5GiPPb8QrF3ch2XIViSNnSnIQl3oQ32Yct3lfVkZrMmJT3iX8XZByzdJAVun64muexCAiIufw8fGBj48PRFGEl5eXdNvHxwchISF49tlnsWTJEmd3s96w/s8op4x0a3EX1kgnIiIicqzKgfTExEScO3cOoijin3/+QWJiovRz+fJl5OXl4amnnqrJvlbJ8uXLMWHCBEydOhUHDx7E3XffjUGDBiE5uWLd7LqkWhnpZTLQBZSWerFHIQhopvYGAKy0LNDZQWM/uxwwZ5grIeCyvlAKEnb1CKi0FMxdnuYFRXcXXEWmoQT7i9IBAD3LLTRqZQ2k78hPgSiKWGepZ16+PrpV+TrpKy2lTfp6hcHXsjCplYugwNAGjQEAK7LPATAH7M9qc+GpUOHBMguWAkC4qyf6eZmvovjJMtYikx7fZZ4AAIyzBLat+nmFI0rtg3yTHsuySwOo1uDwaP8WCCiz8OvTAa3hrXDFyZIcrC0TjN6iKcJZXR4CXNwwwVJ7HQDeCu0KjcIF+wrT8EeZ8jTHi7OkkwGzw++AIAhQCgp8EmHOLvsm4wQulDkRUGIyYOrlfwAAU0O7IsLVEwEu7pgV3h0AEJuSgExDic3YXru0B0UmA+72DMXrwZ3RxytcOhHwQvJOFJlsA7TfZBzH34Wp8FSosK75YCxu0g/3N4iEASY8nbStQvA6WZeP55K3AwDeDu2KC+0fRxs3X6Toi/B/F7ZU+OJWbDLg8cTNKDIZMMCrIeKjhiLIxR2HizPxUnLFE2OiKGJs0lbsK0yDn1KNiUEd4SYo8XvuBbyTsr9CewD4Kv0Y3r5ifp2sV1a8l3oACzKO2W1/sCgdMWfW4LzO/FpnGbUYlbgJK+yUBgIAPUQ8cCEe32acwCV9IbYXXEHf039gdyXBdFEU8Wzydjx+YTN+yT6Hz9KOoNPxX3DUQab8T5mn0fb4crx+eS+eSdqOTidW4HyZ90J5h4oy0PrYz4g+swZ3nfoNd55ajdRKTmQAQLZBixHn1iPo8PcIOvw9Hjq3wWFJHpMo4v3UAwg9tBh+/32HiRf/tlvaqKyNeRcx4PQfuO3Er5hz9ZDDEx8AkKjNwysXd+Hh8xuxLOvMNb/0F5n0mJ9+FK9f2oPt+VcctgXM87A1/zIWpB/DMTtlnOxJ1hVgXW5SldcWKDEZcLQ4s8LnypE8o67KJz6ISF4WLVqERYsWYfr06Vi4cKF0e9GiRfjqq68wZcoUBAQEXPuJyIac4ugs7UJERERUNVUOpDdu3BhNmjSByWRCt27d0LhxY+knNDQUSqX9QGttmzNnDsaOHYunn34arVu3xty5cxEREYH58+c7u2sOWUtQKKuQ/lI2A7252qdCJnd51iCh0XJ4XFmZFgDwVKqkRULfTTkAAOjlGebwuX2Ursgz6TDtyj8wQkQbN180sQTvy+uiCYS74IJMYwk251+WSrwM84m0236QTyMAwOb8S0jXF+P7jFMAgIf9mttt/6hfFABgWdZZFJsM+C7zpLm9bzN4Wuqpl/WEvzmT+puM4zCIJizNOoMcow5NXb2lfVspBAHjLBnn89KOQhRFHC/OwtrcJAgAJgZ3tGnvrXSVMtQ/vPofAHM28HLvAgDAlJAu8FK6Su1DVBq8EtQeADD18j4YRRNEUcTES7thgoj7G0Sie5mSOX28wtHfKxx60YSZZYLFH179Dxf1BWio8sDLlucDzIH9Du7+yDHq8G6Z9pvyLmF59lkoIODziLuk+qqxobchQuWJC7p8xKX+J7W/rCvA65f3AgDeDbsdTdTeEAQB8yLuho/SFQlFaZhXJuvdKJrwf4lbkGPUobtHEN4O7QpPpQq/NI2Bm6DExryLWGg5eWH15uV9OF6SjRAXDX5uOgADvBtiaeQACAAWZp7Er5YTJVZLsk5jRfY5uECBP5sPxscRPfFt4z4AgJkp/2JbuXI5R4szMeHi39IYDrUZiQ/C7wAATLj4N/YXptu0zzVq8dD5jSg0GdDfKxzZHZ/CC5YrFMYmbauwkKsoivi6QS52FqbCS6HCr01jcI93BEpEI4aeXWdzBYTVnLRD+DbjBJQQ8GpwR3TRBCDbqMXgM+vsBmh35l/Bk0lboRdNuMszBBEqT5zT5uHes2uRY6i4gO55bR76n16DRF0+/JVu8FC4YG/hVQw+sxaFdjLZi0x6xJxZg9U5idK2X3POY/CZtXbL2oiiiOeTd2DK5X1INRQh26jFJ2mH8WjipkpL7CzKOIl7zvyJzfmX8W9ROiZd2o3RF7ZUGjBOKExD5xO/4LO0I1iRfQ6PJm7CCxd3VhpMT9EX4rYTKzE+eSfirv6HPqd/xxTLe9cercmIh85vRL/Tf+D55B1of3w53k89UGl7AFjtWYCWJ5fj3rPrEHnkJ3ybcdxh+z9zLqDRkR/R/vgKhB76AcuucVXDieJs3HbiV/j8txCNj/xoc1LOnmyDFk8kbobPwYXofPyXa548MIgmvJeyH+2OLUPM6TUV3vv2rMo+j0Fn/sSo8/FSyTBHDhVl4NmkbXjl4i677/3y0vRFeDdlP95J+bfSK1bK0pqM+CHzFBakH7P73i9PFEXsyL+Cldnn7L737bmqNGBnQQr0YtVKOuUbdThZkl3lkx8mUURWuROc18LMUSpv+vTprIV+E8jxoyV9+5Dh2ImIiIiqo0qB9D/++AN6vV763dGPM+l0Ouzfvx8xMTE222NiYrB7924n9apqDFJpl2tPSSu3BtLvHRwExa36eZfWrvdSqNBVE+iwfW8vc+C8WDRnklaWLQ6Y657fb6lN/mW6OZP3PkstcXtcFUr08jJnpUefWQMR5uz1xmr7ddvbuvuhiyYAOtGE206uxCltDjwULtKioeX19wpHY1cvZBu1eCl5p5RVP9ZS67y8kb7NEeDihmRdAT5PO4LZKQcBAM8HtoXSztUBY/xbwVOhwqHiTPycfQZTLAuGDm8Qiagy82L1clB7qAQFdhakYE3OBXycfhgZLkaEqzR4PrBthfavBXdGA6UrjpVk46esM/g99wI25F2Eq6BAXHiPCu3fDbsdAPB95knsK7yKc9pcvGc5AfJhwx42C74qBYW0COoX6UdxuMicEWvNFH8hsB06akoz1jyVKsyxZL2/n3oQp0tyIIoiXkjeiVyjDrdpgvBiUDupfZirh9THqVf2IUlrLkvy0dVD2F5wBR4KFyxpMkA68dPG3Q/vhpv7P/HiblzUmU8wrMm5gLlp5vUYvmvSR8ry7+/dEFNCugAAxiVtxxWdObh8uiQHL1iy1KeHdUMPy1USj/m3wNMBrSECGH1hC3KN5gBbvlGHkefjUSIaMdi7Ed60POdrwZ0wvEEkdKIJjybGS2VSRFHEUxe24pw2D41dvbCiaQwauKgxN+JO9PYMQ4FJj4fOb7QpOfNl5nHEexZBALCsaTQe8G2GX5sOxG2aIGQZtXjw/AabTO0teZcw+ZI5wDs34k582LAn4qOGoqW6AS7qC/DQuY3QlQleJ2nz8cD5DdCLJoz0bYYdLYZjb6sRaKjywMmSHDyWuMkmgFdk0mPEufXINJagqyYQZ9uNwn+tRyLAxQ0HizPwVNJWm6CcKIp4Nmk7/i1Kh7/SDftbP4h/Wj2ABkpX/F2YiheSd1QI4n2RfhRfZxyHAgIWNOqFX5rGQC0o8VtOonTSoqxdBSkYl7wdIoCx/q3wScOecIECP2Wdka4UKOuKrhDDzv2FXKMOd3gEY1JwRyggYH76MelEVVnFJgPuPbNOOiFj/ZvxfupBLEiveNWBKIp4OmkbVuach6ugQA+PYIgAplzeh8WWE3LlLcg4jsUN8mCEiDCVB7SiEc8mbceq7PN22+/Mv4L7z21AuqEECgjIM+nwWOJmbLRccWNvzH1O/45/LVf6XNIXYtjZvyoNjhca9Yg+swZLsk4jz6TDf8UZiDmzBn9bSl3ZG/NTF7birSv/4FhJNuLzL6HX6d+QUJhmtz0AfJZ2GA+c34D1eRfxc/ZZ3H5iZaXlnADgv6IMdD+5Ct9knMBnaUdw+8mVOFOSU2n7C9o8dD7xK96+8g+mXUlAlxO/Ogy+Fxr16Hv6d4y+sAXPJ+9A5xO/SH8bKhvzuOTt6H36dzx4fiNuO7kSadcI1n+deQLPh6Sh//m1uOPkKmRfI1i/I/8KIo78iNbHlqH36d+uWXIpSZuPDseXw//QIgw5u+6aVyoUGvV44Nx6qA9+jccTN10zuC+KIqZe3oeA/xbh+aTt17zqAwBWZJ1F22PL8OblvVU6GXCwKB3Dzv6FWZVcAVTeJV0BJl/aY7fUmD06kxFfph3FzipcVWK1LOsM/nOwwPatokuXLsjONp/Q6ty5M7p06VLpD1VN6WKj8slJl9NYiYiIiG6Ey7WbAMOHD0dqaiqCgoIwfPjwStsJggCj0XkL8GVkZMBoNCI42HbRyuDgYKSm2i+noNVqodWWfinOyzN/Ydfr9dLJg9pgLe0Co/Ga++3lVjq+fh6h12zf1z1U+n24TxO4GEXoHXyxf7JBC2lhy+au3ujlFuxwH6MbROH7THOmuAsEPNuglcP2L/u3lUq1AMCrge0dtp8Y0B6PJ29FkqVe9EsB7eBmEqCvJNjwRmBHPH95FxZagl8DPMPR1dXP7j5cALwR2AmvpuzFxEvmky3hKg2eahBlt703lPhfYHu8c/UAHkvcLI15WlAXu+2DBDVeCmiLOelHcN+5v6TtMwO72p0HTyjwamBHvJWagHFJ26Xt/wtsj8ZKTYV9dFX7Y1SD5liacxZDzqyDm0IJrWhEf88wjPBsXKF9X/cQDPVujDV5SRhydi3CVR44p81DuEqD6UGdK7S/zyMCAzzDsangMu49sxbdNUH4PfcCVIICXzW8CyaDESaUfuZH+zTHjx6nsKswFUPPrsNDDZpK9eA/CetRYQwv+LbGL1nnsK8oDQ+cXY//BbbH85d2AQBe9G+LAZowm/ZvBnTEX7lJOFiciYfPb8RHoXfgyYvbkG/S4y6PEEzyb2fTPi74dmzJu4Tzunw8cm4jFkf0xTOXduBESTbCVRp83fBuGAylAe0FYXfi38I0nNHm4v8SN2FJo374IO0/rMpJhKugwNJGfeElKqV9/BDRB7efWY0jxVl4JnErFkb0xob8S3j1ijko/k5QV0RbxuAKYFmjfrj9zGocKMrAi0k78GX4XTimzcYD5zfABBGP+0bh2QYtodfr4QUlVjWJRs8zv+PvwlT8L3kX5ob3RI5Ri8Fn1yLdUIJObv74Otw8hkDBFSubRKP32TVYl5eMmZcTMDW4M0yiiMeSNuNQcSYClW74pdEAeIgKeCg1+KXxAMScX4cV2efQzS0AEwLNVzDEpR3CT1lnoISA5Y37o72qAQBgSaN+uC9xAxZmnkRnN388628+QbUl/7IULJ8dehueamC+0uPHRn0xMmkTvkg/is5qP/yfpZZ+ki4fD5xbD71owgM+kfgy7E4IggAvuODpSzswK/UA2ro2wEMNmgIAikwGDD/3l7kmv7oB/mwyEN5KVzRUavC/K3vwxuW96ODqi/6WUk2iKGLcpR04WJyBQKUbtjcfikhXL3RQ++Gt1AS8lLwTrVXeNiWo5mccx5Ks01BCwOomMYj2aojY1P2YlXYQzyXtQGuVDzq7l55o2lZwBROu7JHel9NDu+Gly3/j66yTeDxxE/a4DEcbN1+pfZqhGI+cj4cBJozwicT3Eb3xwuW/8WP2GYw8txH7ooajaZkreQyiCY+e34g0QzHaufni18bReCs1Ab/mJuLh8xvxT9T9Fcp6Tbi0C/uL0hGgdMN3Eb3xddYJ/JmXjFHnNyEh6v4K5bAWZp7Ej5Yxx4V1x7q8ZGwuuIJR5+OR0OJ+eChsr+LZX5SOiRfNfyef8WuFIyVZ2FuUhgfPbcC/Le63OXEHmDPFn0jcBK1oRHdNEIpMBhwpycITiZuxrdmQCicrRcsiyVf0hWhqWRT7vC4fYxI3I77pvXYDPf+7tEtaD8JdocQFXT5GJ27G2sh77Lb/LvMkvsk4AQGAWlDiREk2xl7YilVNYiq0BYCDRRl4+fJumCxPdaAoA+OTtuOHRn3ttteZjHgscRNyLSWQdhWYP7tfNrzLbnvzehPxOGbJ7F+bm4S3L+3D+6Hd7bYHgDev7MUqy5UiP2WdQVOVF94OrjxIuiz7HGZZrqxYkHEczVReeCWwfaXtT2tzMSpxE4wQcTw1G01dvDDa8tm1R2syX2lzWV+EP3IvINLFEw9aPruVee7CdqzNN5d2a+Pqg7sqKQdn9VHaIUxNNa8Hsqv5fbhdY38dFqu9hVfxaOImAEB2u9EV3sv2WP+u1+ax383Y37Bhw6BWmz/bjo7RqepKFxuVD+tYmZBORERE5Jgg3kLXBl+5cgXh4eHYvXs3evQozd5977338OOPP+LkyYpZhbGxsZgxY0aF7UuXLoVGU3nt8ZvtR+88FCtEjMzzRAPTtcvkXHLR4183LYYWeEBZhUP9k646HFZrMbBQA58qPH+8phAn1ToMKvBAc73rNduv9SjEDk0RRuR7onuJu8O2IkT86lWA9R6FiCn0wMh8TwgOxiBCxGKfPKzzLETXYjdMyPKF2kF7E8xlNdZ7FiFS54I3M/0QaKz8nJERIub4ZeNvTQm8jALezPRDa5260vYGiJjln4UD7looROD5bB9EF1V+KbUWImYGZuKY2hxYuadAg3E5PpWOWSuY8FZgJs64mr9ct9G6YnqGH9Si/asVCgQT3gzKQLLKHBD2NygwOz0AQZWMOUdhxJuBGbiiMgfAVSIQm+6PtpWMOUthxOSgDGS4lAbMn832weBC+2O+qjRgclAGcpWlWY/9C93xYnYDu2O+7GLAG4HpyFeW/ilqrXXFzHR/qOy0v+iix2tBGShRlLb3NSow52ogfO28t8+qdHgzKAO6Mk/lIgLvpgegla7ie/u4qxbTAjNhEAA3kyDt57lsH9xjZ8yH1FrMCMiESQBC9UqkuRhhFIC+he542c6YD6pLMDMgC6IAtNW6ItnFgHylCa20KsxID6jw3v7HrQSzAsy1uu8ucsdFFz0uuBrgZ1Tgg7RABBptx7xJU4R5fjkAgPvyPZClNGKXpgQuIjDDzjyv8yjE1765EERgdK43TBDxQwPzSSt787zKKx8/+OTDRQReymoAT1GBD/2yUaIQ0avIHf/Lsh3zcq98/OyTD5UITMvwR7jeBW9Z3n+ROhfMTg+AW5n39mKfPKz2KoDaJGBWuj+a6FX4wD8b/7ibP59xaYEILfPe/qJBDuI9i+BtVCAuLQAhRhes8szHDw3yoRCB2Ax/dNCaxyxCxMd+2dilKYG/QYGP0wLRwKTEEbUWsQGZMArAmBxvDC8wLzJssnzW/3XXIsSgxMdXA+EhKpClMOJ/wenIVZps5tkIETMDsnDITYtGehd8mBYAtaiAASJmBmTisJsODS3b3UUF9BDxVmAGTqn1iNKpMCstQHrPL/HOw6/eBXAzCZiTFogwgwu0ggmTAzOQ5GpAl2I13s70k15r6/tEEIGZGf5or1WjWDBhYlA6UlRG3F3kjklZpYH9q0oDXglOR4lClMZcKJjwcnAaMl1MGFzggWdzfKT2eoiYFJyOZJUBdxa54dUsXxQIIl4JSUOW0oT78j3wVG5pe8D8/9pK7wL4GBX47GogdIKIV4LTUVRmn2Vt1RThU78cqE0CPr8aCBHAS8Hp0ClEvJzVAP2KbP9PPqvS4dVgc8bxzHR/BBiVeDk4DQYBeCvDD91K3GzaFwsmjAtJQ57ShNE53uhcosak4HQYBWBWmj/a2Pkb+HZABo646XBnkRuG5Xvi9aAMiAIw52ogmuorBmetnz9fowIvZDfAuwFZUIjA51eDEG6o+Dd5v1sJ3gnIgptJwOO5XvjWNw8qEViYEgJvU8W/+VkKI54JvQqjANxR5Ia9mhJoTAIWpgTD3c7/ESJEvBicjssqg/T3zM+owDcpwZUeO3zum4PNHqVZ+uF6F8y7Gljp/1nWebPqUOKKmRmV1+NOUxowLiQNouXpeha5YXJW5YugA8DLwWnS/3Ej8zwxKs9++TirFV75WOpj/jv2Qpbj/6OdraioCKNGjUJubi68vR2PS27y8vLg4+NT66/Nf0mZGD5/L4K91dj35oBa268zXcgoRJ+PtsHDVYljM+9xdndqhV6vx7p16zB48GCoVNc+2Ub1E+dZPjjX8sB5lgdnzHN1jjurlJFeXwQEBECpVFbIPk9LS6uQpW41ZcoUTJw4Ubqdl5eHiIgIxMTE1OpBe7Rej/j4eERHR1f5jfJsNZ5/cDX7U9Pt772O9qIoVvnS0yEwl3ZwE5RVesxQAJd0hfBzUUOjuPbHYqgo4r/iTAS4uCHC1fOa7YeIJmwvuAJ3UYGcXQcREx3jcJ7vMRmw2pL5Pcy7MVwrWezVarBRj++zT0FrMmG0XwsEuLg5bD/QUIJ5GceQa9ThKf+WaNfRcRCjr74QcWmHkKIvwhO+URjaobHD9n10+XgrJQEXdPkY4ROJCYHt7JbKsepZko1JV/bgZEkOBno1RFzYHfBRVn4Cp2tROp6/tAuHSjJxpyYYX0f0QlRnn0rbdypIwVMXtyNZX4AwFw2+juiFmI72SxYNBtAmLxlPXtyObGjhKijwTkg3/K9Dh0rbN805h3EXdyLFEuh52LspHrxUbHeeBwMIzjyJly7/LZ1c6eTmj/VtBsHPzrwNBuCdfhhvpPyDnZpiAICfUo31UYPRqXPF0k6DAWhSEhCXfgh/eJlLXCggYGGj3ni0Y8W1BQaJIoQru/FV5gl836C0hMZLAW3xcYeK5YQGiSJ0F7dhWc45fOKfI20f4BmOVe2i4Vbu83OPKCI/KR5/5iXj7cBMqAQF9KIJjVWe2NJ6qM3iyQAwUDThvsQNiC+4jLdDchCm0uCsrgRqQYnfWwzCXZ1tM1f7mQzofW4NDhZnYkZEAe70CMavuebyDx+H98ALHW1LKPUy6tDj7O84jVx8EKnFGL8W+DjtPxiNwMMNmuGr9n1s/mb0NJSg+5nfkIQCfN1CQGxIF8y8she5xSa0U/viuctqm3m+XV+E286sRjKKsbKNBgsjeuPly3/jcHYKPBQu+LPtMLTpWhrQ7qwrwG1nVuOMqxY7O/njo7A78GvOefyavAUA8E2TPni4U2kpq5Yl2eh+5jcccNci6fYmGB/QFhd0+XjyzG+AEZgQ2B6vdyzNZm5UlIZeZ9dgp6YYL7TuiRE+kTCIJvQ79ydKikTc5RGC+e0HS59P3/xLGJy4Hus8C/Fqx75SpvBbKQlITk8xX9XQ7UHpb4xXXjKGX9iINV6F+F+nvrjT0n5fYRpWn1tjHkPTfhjeuQkAQMw6hWcv7cQvfkWYdse9aGhZ8yPboMUzp34BjMC0sG4Y08m85kR62iG8lZqAFUFazGg1TMosFkURA8+vAwqBRxs0wxsdzBniZ1P2YU76EfwabsLUFvfY/N2ZdfUg8q6mormrN+bf/SBcBAWOXtqFb7NOIr6pGq82tf2fbHdhKo6c+xMqKDAm1wej+t2D/Sm7sDznHP5p6Y0Xy2WlG0UTXj31K6ADpjS8DRM6t8eBxA1Yl38Rh9v645nwO1HeN4kbgfwsjAtqi7iO3fHvmd/wX0kmrnZtjEfsZI2/e/UAjFevoqcmGFvaD0G7U7/grC4P2jta4QHfip/vvwtTcfncn/BQuOBsm0fQ4dSvSEcJXO7qgEGWxbzL0pqMGH38J8AE/NYkBg8nbcZllQGN+/VAOzf7/08suhAP5OXg/3yj8EP2GRxx0+H2mH6V/j/0XeZJiJfToIAAE0Sc8QIGdR9U6f/VWYYSJB9fIt2+GKLB4LscH3V8nbgByDcH0lUtIjA47A6H7QHzAXt1j8NuBuuVkDeTTqdDWloaTCbbMj6NGjWq5BFUliwz0rnYKBEREVGVVCmQ/tlnn1X5CV9++eXr7syNcnV1RdeuXREfH4/7779f2h4fH49hw4bZfYxarZYuiS1LpVI55QyXs/Z7K1Kheq9jpKV8RVXd7hp67UZSX4BBfpHmM2v475rzrIIKo4Ps13W3x1elwv9CO1e5fYhKhXcjrh1YsGqiaoAvm/SucvsWKj+saD6wyu07qYKwuaX9z6g9PXzC8J/PSJhEEYoqnCjp79sI5xs8hiv6IoSqNHBxENQHgGH+zXCxQSMcKs5Ec7U3glSOr055PLAV+jeIwM78FESqvdHJ1Rfrjq+rdJ6fD2mPPj4NsTY3CaEqDR70bQa1g5Mlr4d1RU+vUKzIPgc/FzXGBbRFmGvlGZYfNOqJ7l4h+D7zJNwULnglqD3u9Kz8/fpl495op/HHV+nHIQjA+MB2GBfQptLA1o9NByDyijc+TzsKnWjE//m3xKcRd0JTSfmEFc0G4rmk7fgh6zT0ogmd3APwS9MYNHGrePJDZWn/wPkN2JJ/GWd1efBSqPBT5AD0bVAx8KeCCmuj7kX06TU4VpKNX3PNJS/eCOmMCaGdKrT3U6nwZ/PB6HXqd5zQ5uD1FHM99js9QrAosh9cy50ICFapsLLZPeh7+ndsL0xB33N/AgD8lW5Y3mQAzpz722aeG6p88HPTaAw4vQYrcs9jZW4ijBChgIBlkdHo6GVbkqKZyhffN+mLYefW47OMo0goTpdqok8K7ojHA1vZtO+oCsL74d3xv0u7MenKXqSaSrA6OxHZRi26ewTh/YgeUJV5L/X0CcfrIZ0xK/UAxl3aiSC1B1Zmn8feojR4K1zxY2R/uLmW/h84yC8ST+e3xrcZJ/D0xR34p/UDOF6chY/SzesWfNW4N0LdS9e0GObfDE/mt8KizJN45tJOHGrzEEQRGHtpu7lckV8LPBQQJbUfG9QWi7PP4O/CVLx+9R+saGouqfLG5V1IN5agtZsvXg3tLI3htdDO+C7rFM7r8vB51nG8HdoNAPB7TiK2FabAVVBgdsMe0us/Lfw2fJ91Gie1OViRfwH/598SAJBpKMEnGUcAADPDb4e7Zcxvh3fD4uzT2FpwBXtL0nG3V+ni2u+nm0uc/Z9fFAIv5UOlUmFyaGcszzmHX3LO4/2GPWzW91iVdRZndXnwU6rxfHB7qJQqvBbaGevyL+LH7DOY1fAOm5Nlybp8/JVvLnP2fHA7uLq64rmgtngueQe+zTqFSaGdbT6DoihiaY55oeXng9pB7eqKUf5RmJmyH7/mJdr9P2NVnnlx2gcaNEWIuxce9GuG+enHsKHwEu7zr1h+ZUtuCnJNOoSqNBjq1xTR2afwZ24S/iq4hM5eFRMS9KIRmwrMizm/HNwR+4szcKwkG/u0GRjubn8R8b+LzTX4JwV3xGdpR5BuLMEFUxFa2FlnBAAu6XJsbh8uyYKLi4vDk+THtaWPuWIsrtZxVW0fh93MfZ0+fRpjx46tsC6QNRHBmeUX6yM51Q23XnFy61ynTERERFQzqhRI/+STT6r0ZIIgODWQDgATJ07EE088gW7duqFHjx74+uuvkZycjOeee86p/SKim68qQXQrpaCo0tUDVh5KFXp6Oq7bW1aoygMj/cwZoVWpedva3Ret3X2v2c7qbq8wmyDftYzwbYoRvo7rFFspBAEvBrXHi0GV100uy0VQYFb4HXgn7HaIltuOuCtcsDiyP2aFd0eeUY+Wbg0czl0DFzU2RQ3FjoIUpOqL0M8rHIGqyktGhao8sK/VA/gx6zSSdPm4x7uRtGiyPVFuDXCgzYN4L+UATpXkoK9XGCYGd6yQTW/V1SMQO1sOx8sXd+FgUQZ6eIbg84i7EKn0wBk77ft4hWN1s3vwVNJWZBhK4KVQYUHjXhhSyULM9zWIxMcNe+LVS7uxp/AqAOBh3+b4INz+ya5XgjrgcHEWFmWexPup5gWSw1UeWNE0xu7VK9NDu2FHwRXsKkhFv9Oli4J/07g3mqgrXnn1UcMeiM+7hPO6PLQ9tgx5Rj1MEPGYXxTut/OemtOwJ+LzLuKsNhePJW5GoVGP09pchKk88FmEbW1whSDgi0Z3o8uJX/FL9jmszD4HF0GBRZknIQD4qlEvmzG4KpSYFd4djyTG4/3Ug3jcrwWCXNzx8kXzWgqTgjvaBLN9lGq8HtIZr1/ei9grCXjEtzlcFUq8k/Ivco06dHT3x8NlMrcbuXphrH8rLMg4jndTD2CD5X2zr/Aq1uddhBICXgvsiJMw76+LJhD9vMKxJf8yPk07jDkR5ixzURSlOuSvBHWAp9IcHO3tGYaO7v44VJyJbzNOYHJI6QnPr9OPwwQR/bzC0dJST3+UXxQmXdqNU9oc7Cm8avM3aH9ROs5qc+EuuGC4ZZHvh32bY2bKfmzIu4gsQ4lNoF4URfyRewEApL8Fg7wbYX76MazLTbZ7ldem/EsAgHu8G0EhCIjxjsCfuUnYWcmCtYeKMlFoMsBXqUZnTQDu8gzFsZJs7CpIkfpYnvU9PsC7IXYXpOLvwlQkFKZVGkg/rzNnbHfVBOJgUQYKTQZcNRQjpJITnKIo4oq+dMHZyw4Wn73VPPnkk3BxccGff/6J0NBQWQWCbyZpsVEn96M2lWakM5JORERE5EiVAumJiYk13Y+b5uGHH0ZmZiZmzpyJlJQUtGvXDuvWrUPjxo5LURARUfU4KtdjT7irJ8Kr2FYQBIfB8PI8lCo8F9j22g0tQlUemNfo7iq376gJwPaWw222OTphMrRBEyR7P4Gz2lw0dfWGh9Jx1unE4I6I8W6IrflX0NrNvHBqZUEwQRDwbeM+6OERbF7c0dUbb4R0rvQqBVeFEn82H4znk3ZgRfY5BLq44+OIHtKJn/J8lGqsbT4Y95z5E5csAclor4b4urH9q1IauKixsElf3HPmT/xmWQRTLSixvGl0hQVOAfNrOTG4Az66eggPnt8obX8lqIPdk0UjfZvhy/Sj2FGQgqFn1yFU5YFkXQEau3rhrdD/b+/O46Mq7/7/v2fLZCOQEMjCvglCwAWqAiogEFSWWm/rWoSC3vJFVIq4UFsL/alYxKWiYmlZvG8XrHVpi9omKoIoKiCUzduFHUlE1kCWySQ5vz8yc5JJZkISYSaZ83o+HjzKnLkycx2uxJ7znk8+V/9a429vk6Unv9+sXaUn9HD+Bl2T3E3P/bBNkvRY+4G1PsS5L/08/fnQl8op2KdPTuZrUGK6Zh+o3Njy5tY91dWdpOo7rNyTdq4+OPGd/nzoSz2YMUCtnG69U7BXm4sPK9Hu0rS2WeZYm82m6W376Zd7VmrBwS36VVo/uWwOlVaU6y+HvpQk/b9q37ctHDG6ulVX/e+Rr/XykW8CgvRXjnwrSRrXqrMZ1PeOS1G/uNbaXHxYfz+2W79MrfoNhs3Fh7Wn9ITibE6NTKpsZXVZi3aKsdm1u/SEvvIcU6/YwA/z3i+orC4fkVT5kzrY9/5rC78P+htAn/pC8YsS0mS32TQ4MV1/OrRdn/mO11RY7tUOz3FJ0nlxqcqKS9HHhfn60rfZajC7PJVBeq/YVjpcVqLdpSf0red4yCD9UFmJSo2qlibfea0TpG/atEkbNmxQr169Tj0YIVm5KtvK5w4AAFAfDUtBajAMQ01xr9KpU6dq9+7d8ng82rBhgy699NJITwkAYDFxdqf6xrU+ZYjulxXXWne07asRSe1PWUlqt9l0a5ve+mf3K/V0x4vrbPUjVYbjL3cdqZLz/1sH+t2sG1POqnN8n7gUbetzvf7aNVu5PcbqXz3GhGzdI0nZSR307x5jNLplJ13dqovW9LxKF9fRTmhuu4s00dd2RZJuSO6uR0NU4NtsNr3Q+TK1dcZpW8lRvXdiv1w2u5Z0Ghp0TgkOl57sMEiS9Pu8DTp3+2vyGhUa07KTRgbpC97ZnWTO5bY9q/RY/kazGv2BjPNrjR+V1EFZsSk6WeHVMz9sVYVh6PcH1kuqDMVr7nVwfUp3tXXGab+3UG8erfyg4a1juyqrqp3x+mmN31S4KaWyFc5fj34rr1HZiqPMqNArRyt//+GGGh+A/FerruZrVuevRh+Z1N78d0pwuHRpYuWHFe8e3xsw/lBZsTYVV27eelmLyuC9X1xrJdidOl5eqm0lR2r9W6ytFqRL0rnxlZuMbik+EvT68MuSozIktXXGqY0rTr19v5WzvR5BepeYJHV3V7aD+rbkeMjxNYPzA97CJnmteib07t1bhw4divQ0mj3/d4uVCvqtdK4AAAA/RqOC9MWLFysrK0uxsbGKjY1VVlaW/vKXv5zuuQEAgNPIabPXu91DkiNGP0/uphFJ7evVRmlkUget6H6lXu92uQYktK1zrNNm19LOl2lX1k3akXWTXu46ss59Ajq7k/Rpr6t1S+rZui65u1ad9VNdlhR8w2BJuj6lh+73tVGpkKFz41K1rPNlIcfPbXeR2jhjtbXkiO797lNJlZXq3dy1+/jbbDb92hewz83/Qr/Y9Z4+LzqoRLtLM9LOqTU+1u7UVF/V+ZMHN8swDD3+fWX/9VtSz5bLFnjew5Paq40zVj+UlSinoLLVyjvH9yjPW6Q2zlhdkRS4YaQ/iM8t2K+iiqrfknj96M6A5/0ub9nBHF/dyhMHZEjKik0xq72dNrsZkn98MnAjd0n69KQvSE+sHNPT3UpO2XW8vFT7vCdrjd9SXBnG942r3Li0t28D0+3FoYP0naWVm4Z2cbdQN18rIn+7l2D8bV16+6rtS40KHS4vCTk+mvzhD3/Qvffeqw8//FCHDx9WQUFBwB/Uj/+DFytly/7/X7DGR04AAACN1+Ag/be//a3uuusujR07Vq+99ppee+01jR07Vr/61a/0m9/85kzMEQAARKHO7iR1DdKnPZgu7iT9udNQLe86UgPrsX/B3HYXaWvv6/R+j7H6rNfVal2jUry6Nq44/bvHGGXFpijOVrlB75zMn4Qcf31yd41o0V5FFWV65Whly5WH210Qst3IlDZ9FGOz69PC7zV2x7v6vOig4mzOgDYwfk6bXTf5fmPgeV9LGn8bmAmte9bqg98vrrU6x7RQsVFmBu/flBzTf4oPyyGbflqjV/nIFpVB+qqTB+SpqNp8MqegcuPT4UmBDZj87V3W1OiTftBbpJ2lBbJJutD3wUmM3aGz41pJkjYXHa51blt9QXqWL0jv6euLvrO0QOXV2rFU569I7+pOUjvfb14cqKPvub8nehd3khJ9lfjHykpDjo8mI0aM0Keffqrhw4erbdu2Sk5OVnJyslq1aqXk5PrvyWF1ZphsxTJtknQAAIA61atHenULFy7Un//8Z91www3msXHjxqlfv36644479NBDD53WCQIAADRGn7gU9fGFtqdyXnwbbelzXdBNOGuy2Wz6W7dsTd/3sTYVHdb41mfpjjahN+tNc8VrcurZWvjDNr19fI8k6bcZ/ZUWMnjvracObtaK43u0+NCXetvXhuWW1LODzuWqVl301MHNevXIt7qqVRe9dnSHpMrq9pofIPSNS1GaM07flxVrbWG+hrZoJ8Mw9O/jlUH6qBrtbwb7WvSsPRnY99zfH/3s2GS1dFT1wu8X11pbio9oc/HhWhvsbi0JDNIzXfGKsdlValRoX+nJWpvflhsV2uOvSI9J0g5XZaie5y0K+u8mSQfLiiVJac44tXTE6GSFV8fLrRGkr1y5MtJTiA6+MNlKMbr/XNlsFAAAoG4NDtLLy8s1YMCAWsf79++vsrKy0zIpAACASKhv65uWDreW1tEupqYn2g9ShWHoo5N5urpVV93naz0TTM/YZP0i5Sy9eORr3bLnQ0mVvdB7xgavKr4ppYeeOrhZbx3bpcNlJXr5SGU/9Z8nd6011mazaURSe7105Bu9V7BfQ1u00/+VHNM+70m5bY5am/xemNBWNlVWjed7i8yqe39/9IG+1i9+/eJa6yV9o83FtXuqbymurFLvG9daUuWGxV1ikvSV55h2eApqBekHvEUqNSrklF3tYxKU4XvvA3UE6UfKPJKk1s5YtXTE6DtvoY6Xe0KOjyZDhgTfEBiNY6WCdP+5WmQ7AQAAgEZrcJD+i1/8QgsXLtQTTzwRcHzRokW66aabTtvEAAAAokWs3annO9U/6HyywyBtKz6ijcWH1Cc2WQs6XhxybP/4Njo3LlWbig+p29aXdLy8VIl2l/6rVbeg40f6gvS3j+/VQ+0uNNu6XJKYUWsD15YOt/rEpmhryRGtPZmvn/nC+bU1+qP79fOF5P8pDtz08khZiVlJ3rvaBwLd3FVB+vAa8/S3denkTpTDZlemy9faxRu6tcsRXz/0FKdbLR0xkmSZivTNmzcHPW6z2RQbG6uOHTvK7XYHHYMqVsySbaJHOgAAQH00OEiXKjcbzcnJ0UUXXSRJ+vTTT7Vv3z7dfPPNmjFjhjmuZtgOAACAU0t1xmnd2f+l3aUn1DmmhRy20Nva2Gw2PdTuAo359h0zNP5VWj8lO4OHpqNbdpJDNm0qPqRvSo7pzWO7JNVu6+I3KDG9Mkgv/F4/S+6qMqNC64oOSpIGJgT2q/cH6V+XHFdJRZli7ZWXmtt8FeqdYlqohS/glmRu6LrDc7zW++7ybSraJaayUj3TV5H+Q1mxvEZ5rY1apWoV6Y5YywXp5557bp2/UeFyuXTdddfpT3/6k2JjQ+8ZYHVVm41apyS9qiKdKB0AAKAuDd5sdOvWrTr//PPVpk0b7dixQzt27FCbNm10/vnna+vWrdq4caM2btyoTZs2nYHpAgAAWIPDZlc3d8s6Q3S/0S07aWHHS9UvrrXuattXD2bUbsPnl+qM04ik9pKkqXs/0qqTB2STdF1K96Dj/e1bPjmZL0naXHxYRRVlaumI0dk12s1kuOKV4nCrQoa2lxw1j9fsj+7XzdfOZYev+ry6nb5jXdwtzHk7ZZch6aC3OOhcD5dVr0iv/CDBKkH6m2++qR49emjRokXatGmTNm7cqEWLFqlnz556+eWXtXjxYn3wwQf6zW9+E+mpNmn+KNlSrV0iPQEAAIBmosEV6WxkBAAA0PRMadNHU9r0qdfYu9PO0b8L9um9E/slST9t1UUdYhKDjh2cWFl1vq7ooArLvWagfmFCmuw10kabzaZ+ca314ckD2lJ8WOfHt5EkbfVVpGfF1j9I3+Wp2mhUkuw2m1o73fq+rFiHykrULsh8j/j6oac4rVeR/vDDD+uPf/yjRo0aZR7r16+f2rdvr9/+9rf6/PPPlZCQoLvvvlvz58+P4EybNsOCm436UY8OAABQtwZXpAMAAKB5G9GivW5L7S1J6hiTqD92GBxybHd3S3WOaaFSo0IfnPhO7x7fK0kakpgRdHy/+Mr2LpuLqjYc3VZcWZ3eJy6wgr16a5eabSX8rV26VtuEtI0zTpJ0yFd5XtMR33ErtnbZsmWLOnXqVOt4p06dtGXLFkmV7V/y8vLCPbVmxfDFyVaqSBebjQIAANRLgyvSS0pKtGDBAq1cuVIHDx5URUVFwPNffPHFaZscAAAATj+bzaaFHS/VzLRz1TEmUTH22v3Gq48d3bKTnv1hq/50aLveP/GdJGlcq85Bx/f1tW/ZXHxYUmXfZbMivUZrly7uFrJJOlHh1aGyErVxxZnPmRXpvtYukpTqrOztHSxINwxDh8v8FelVm40WVFgjSO/Vq5ceffRRLVq0SDExlefu9Xr16KOPqlevXpKk7777TmlpaXW9DEzWSdKt1A8eAADgx2hwkD5p0iTl5ubqmmuu0QUXXFDnpkYAAABommw2m7rHtqzX2Amte+rZH7bq7eN7JFWG5X1qtGnx82846g/SD5YV63B5ieyyqVeNnuqxdqfauRK031uoHZ7jZpBeUlGm77yFkqpau0hVQfoPZbV7pJ+s8KpMlQUe1YN0q1SkP/vssxo3bpzat2+vfv36yWazafPmzSovL9eKFSskSTt37tTUqVMjPNOmzWztYqFbnOrnahgG93cAAAAhNDhIf/vtt/XOO+9o8ODQvwIMAACA6PGThLYa07KTVviC9P8vM3QxRZ/YFNlUGaDne4u0xReod3UnKc5e+9Kzm7ulL0gv0EW+fux7Siur0RPtLjM8l+quSD/iq0Z32xyKsznVwuGSJJ2wSJA+aNAg7d69Wy+++KK+/vprGYaha665RjfeeKNatKis6h8/fnyEZ4mmqPpPsmFY60MEAACAhmhwkN6uXTvzYhwAAADW8Neu2frTD9vUL661LktqH3JcgsOls2OTtb3kqD4t/N4M0n/i23i0pm7uJK06eSBgw9HqbV2qB/apdfRIP1zu64/ujJXNZlOCvTJIL6ooa8hpNmuJiYmaMmVKpKfRrFlxs1Eq0AEAAOqnwUH6448/rvvuu0/PP/980A2NAAAAEH3i7E5NTzunXmMvTszQ9pKjWnMyT9t8/dEH+arNa+rm20x0h+e4eWynL1Sv3tZFql9FeorDLUmK91W/F1ooSJek7du3a+/evSotDazEHzduXIRm1LxYcbPRgIr0iM0CAACg6WtwkD5gwACVlJSoa9euio+Pl8vlCnj+yJEjp21yAAAAaH4uTczQokPb9cbRnTro62c+OGSQXtmnPaAivbTy713doYL02j3Sj/jC9RRnYJBulYr0nTt36mc/+5m2bNkim80mw/AHwpUxaXl5eSSn12xUVaRbKEmvpvL7xprnDgAAcCoNDtJvuOEGfffdd3rkkUeUlpbGrwICAAAgwJUtO8ltc2iXr9d5l5gWOjcuNejYqor04K1dqvNvRhq0Ir28siK9tS9s97d2KazwNvo8mpO77rpLXbp00XvvvaeuXbvq888/1+HDh3X33Xdr/vz5kZ5es+GvyLbSLU7AZqORmwYAAECT1+Ag/ZNPPtHatWt1zjn1+9VeAAAAWEuy063rkrvpf458LUm6NbV3yOILf0V6flmRCsu9SnC4GtXa5bC/It1hzYr0tWvX6oMPPlCbNm1kt9tlt9t18cUXa+7cubrzzju1cePGSE+xWbFQjh5QfW+QpAMAAITU4CC9V69eKi6u/eu0AAAAgN+zHS9VosOlFEes7k0/N+S4ZKdbyQ63jpZ7tLO0QH3jWputXWpWpFcP0g3DCAjnzR7pZkW6r0d6uTWC9PLyciUmJkqSUlNTdeDAAfXs2VOdOnXSV199FeHZNR+WDJIDKtKt+A8AAABQPw0O0h999FHdfffdevjhh9W3b99aPdKTkpJCfCUAAACsItHh0rMdL63X2G7uJK0v+kE7PAVq70rUsfLKjTJDVaR7jHIVVpQp0VF1HXqkPHiP9GKjTBWGIXuU9+rIysrS5s2b1bVrV1144YWaN2+eYmJitGjRInXt2jXS02s2zCA5yr9fqgto7UKODgAAEFKDg/TLL79ckjR8+PCA4/6qIDYyAgAAQEN0NYP040p3VvZBb+dKUIIjsGAj3u5SnM2pYqNMP5QVBwbp/op0R2CPdEkqriir9VrR5je/+Y0KCwslSQ899JDGjBmjSy65RK1bt9by5csjPLtmxNxs1DqsdK4AAAA/RoOD9JUrV4Z8jt6LAAAAaKjqG4629gXhvWJbBR2b6ozVPu9JHSorURd3VcW6vyK9ta8iPc5edZlbZIEgfdSoUebfu3btqu3bt+vIkSNKTk4O2Z8etVlxs1EAAADUT4OD9CFDhgQ8Pn78uF566SX95S9/0X/+8x9Nnz79dM0NAAAAFuDfcHSHp0BJ9hhJUq/Y5KBj/UH6D2WBe/bU7JFut9nM6vXCCq/aKO5MTT+iJk2aVK9xS5YsOcMziQ6Gr7eJlYL06h+00NoFAAAgtAYH6X4ffPCBlixZojfeeEOdOnXSf/3Xf2nx4sWnc24AAACwAH9F+k5PgVw2u6TQFeltXHFSsXS4rCTgeFVrF7d5LN7uVHF5mQoronfD0WXLlqlTp04677zzzBAYP57NQg1Pqp8pm40CAACE1qAgff/+/Vq2bJmWLFmiwsJCXXvttfJ6vXr99dfVu3fvMzVHAAAARLGevtD8W89xfes5Lkm6MCEt6Fj/hqOHqgXphmHosLnZaKx5PMHh1OHyytYu0WrKlClavny5du7cqUmTJukXv/iFUlJSIj2tZsuKrV3YbBQAAKB+7PUdeOWVV6p3797avn27FixYoAMHDmjBggVncm4AAACwgAxXgnpXa+WSYHfqvPjUoGP9QXr11i6FFWXyGhWSalekVz7vPe1zbiqee+455eXl6b777tM///lPdejQQddee63+/e9/U6HeCFb8J6tefW/B0wcAAKi3egfpOTk5uuWWWzRnzhyNHj1aDofjTM4LAAAAFnJly47m30e0aC+nLfhlarCKdP9GozE2uxmeS1KCvXKD0Whu7SJJbrdbN9xwg3Jzc7V9+3b16dNHU6dOVadOnXTy5MlIT69ZMSvSIzqL8LJS9T0AAMCPUe8g/aOPPtKJEyc0YMAAXXjhhXrmmWf0ww8/nMm5AQAAwCLuSTtXvWOT1doRq0fbXxRyXNAg3eyPHhuwcWKcvbLwoyTKg/TqbDabbDabDMNQRUVFg7527ty5+slPfqIWLVqobdu2uuqqq/TVV18FjDEMQ7Nnz1ZmZqbi4uI0dOhQbdu2LWCMx+PRHXfcodTUVCUkJGjcuHHav3//jz63cDCr+C0aLvNbDAAAAKHVO0gfOHCg/vznPysvL0+33Xabli9frnbt2qmiokK5ubk6ceLEmZwnAAAAolhbV7y29L5Ou/repF7V2rzU1MYZJ6lmkO7vj+4OGBtrq6xO9xjlp3u6TYrH49Err7yikSNHqmfPntqyZYueeeYZ7d27V4mJifV+nVWrVun222/Xp59+qtzcXJWVlSk7O1uFhYXmmHnz5umJJ57QM888o3Xr1ik9PV0jR44MuBeYPn263nzzTS1fvlxr1qzRyZMnNWbMGJWXN4N1MHN0aybpxOgAAACh1TtI94uPj9ekSZO0Zs0abdmyRXfffbceffRRtW3bVuPGjTsTcwQAAIAF2G02tXDE1DkmWI/0I+W+ivQaQbrbrEhvBgFuI02dOlUZGRn6wx/+oDFjxmj//v167bXXdOWVV8pub9il/r/+9S9NnDhRffr00TnnnKOlS5dq79692rBhg6TKauWnnnpKDzzwgK6++mplZWXphRdeUFFRkV5++WVJ0vHjx7V48WI9/vjjGjFihM477zy9+OKL2rJli957773Tfv6nG5uNRm4eAAAATZ3z1ENC69mzp+bNm6e5c+fqn//8p5YsWXK65gUAAADUcqrWLtXF2qI/SH/++efVsWNHdenSRatWrdKqVauCjnvjjTca/NrHjx+XJKWkpEiSdu3apfz8fGVnZ5tj3G63hgwZok8++US33XabNmzYIK/XGzAmMzNTWVlZ+uSTTzRq1Kig7+XxeOTxeMzHBQUFkiSv1yuvN3ybxZaV+9oAGUZY3zeSysqqWgB5vV55f9QdYvPgX1urrLFVsc7WwVpbA+tsDZFY54a812m5THI4HLrqqqt01VVXnY6XAwAAAIJK9bV2OVLmUblRIYfNbm42Wqu1i78iPYpbu9x8880BfeFPF8MwNGPGDF188cXKysqSJOXn50uS0tLSAsampaVpz5495piYmBglJyfXGuP/+mDmzp2rOXPm1Dqek5Oj+Pj4H3UuDbH5iE2SQ8eOHdc777wTtveNpPIKyX9bmJOTqwRXRKcTVrm5uZGeAsKAdbYO1toaWGdrCOc6FxUV1XusBeoNAAAAEC1a+8LyChk6Wu5RqjMuZEW621eR7oniivRly5adkdedNm2aNm/erDVr1tR6rmZwbxjGKcP8U42ZNWuWZsyYYT4uKChQhw4dlJ2draSkpAbOvvFsWw5IX21VcquWuvLK0JveRpOy8grN+Kyy7c6IkSOUHF93e6Vo4PV6lZubq5EjR8rlstAnBxbDOlsHa20NrLM1RGKd/b8JWR8E6QAAAGg2XDaHWjlidKy8VIfKSnxB+qkq0stCvt76woPaXXxchxyhx1jNHXfcoX/84x9avXq12rdvbx5PT0+XVFl1npGRYR4/ePCgWaWenp6u0tJSHT16NKAq/eDBgxo0aFDI93S73XK73bWOu1yusN4s233fM3a73TI36XZHVWN0lzO8/96RFu7vL0QG62wdrLU1sM7WEM51bsj7NHizUQAAACCS/O1d/H3S/ZuNtnbW7JFeWTNSV4/0BQe36Od73tNncSUhx1iFYRiaNm2a3njjDX3wwQfq0qVLwPNdunRRenp6wK/alpaWatWqVWZI3r9/f7lcroAxeXl52rp1a51BelNhxc1Gq2OvUQAAgNCoSAcAAECzkuqM1bee41VButnaJbCi2W2vrBnx1NEj3WtUbrRIdYl0++236+WXX9bf//53tWjRwuxp3rJlS8XFxclms2n69Ol65JFH1KNHD/Xo0UOPPPKI4uPjdeONN5pjJ0+erLvvvlutW7dWSkqKZs6cqb59+2rEiBGRPL16MQzrRcnVPzOw4vkDAADUF0E6AAAAmpU2vsrzH7zFklRts9GGV6SX+WpwHYZFS5CrWbhwoSRp6NChAceXLl2qiRMnSpLuvfdeFRcXa+rUqTp69KguvPBC5eTkqEWLFub4J598Uk6nU9dee62Ki4s1fPhwLVu2TA6HI1yn8qOdiQ1cm6rqp0qMDgAAEBpBOgAAAJqVmq1dDp2yR3odQbqvIp2L4vpVI9tsNs2ePVuzZ88OOSY2NlYLFizQggULTuPscKZU/9CAgnQAAIDQ+C1WAAAANCv+ivSDZcWqMAwd9FWmpzvjA8b5g3RPXRXp/tYuBIhQVZBsnXr0QAY16QAAACERpAMAAKBZyXBVBuYHvIU6VFaschmySWrrigsY57aduiLd3yPdYdnoFNVZdbNRq50vAABAYxCkAwAAoFlpF5MoSfqutFD5vmr0Ns44OW2Bl7Zma5eKspCvVWb4e6SfiZmiufG3t7FarmyeLz8HAAAAITWbIP3hhx/WoEGDFB8fr1atWgUds3fvXo0dO1YJCQlKTU3VnXfeqdLS0vBOFAAAAGdUO1eCpMqK9PyyIklSuiu+1rh6bTZKRTqqqapIt+b3Azk6AABAaM1mX6XS0lL9/Oc/18CBA7V48eJaz5eXl2v06NFq06aN1qxZo8OHD2vChAkyDIONjgAAAKJIVZBepDxvoaTgQbrb3yO9Pq1dSBAh6/ZIt9lskmGw2SgAAEAdmk2QPmfOHEnSsmXLgj6fk5Oj7du3a9++fcrMzJQkPf7445o4caIefvhhJSUlhWuqAAAAOIP8PdI9Rrm2Fh+RJKU742qNi/X3SK+rIl1UpCMIi307+E+XzUYBAABCazZB+qmsXbtWWVlZZoguSaNGjZLH49GGDRs0bNiwoF/n8Xjk8XjMxwUFBZIkr9crr9d7Ziddjf+9wvmeCD/W2RpYZ2tgna2BdW6abKoMzvPLivXe8f2SpA7OhFrr5KyoDAWLK8pCrqG3wh+kh3+d+b5qeqwaI/s72VCRDgAAEFrUBOn5+flKS0sLOJacnKyYmBjl5+eH/Lq5c+ea1e7V5eTkKD6+9q8In2m5ublhf0+EH+tsDayzNbDO1sA6Nz2pqeXKj5U2lRyWJBV9uUvvfPF9wJivYkqlttLRwhN65513gr7OkbbHpJjK1i7hXueioqKwvh/qwdxs1Fol6ZXnSz06AABAXSIapM+ePTtoiF3dunXrNGDAgHq9XrBNgQzDqHOzoFmzZmnGjBnm44KCAnXo0EHZ2dlhbQfj9XqVm5urkSNHyuVyhe19EV6sszWwztbAOlsD69x0vfvdx9p6+Evz8c8vHKIB8W0CxmQUH5K+eUuOWLeuvPLKoK8z66u/SZ5jcsgW9nX2/yYkmo6qzUYjOo3ws9r5AgAANEJEg/Rp06bp+uuvr3NM586d6/Va6enp+uyzzwKOHT16VF6vt1alenVut1tut7vWcZfLFZEb5ki9L8KLdbYG1tkaWGdrYJ2bnj7xraXDVY97J7aWyxG4Ri3KYiVJJUZ5yPUr90WnDiP868z3VNNj1c1G/Qx6uwAAAIQU0SA9NTVVqampp+W1Bg4cqIcfflh5eXnKyMiQVNmexe12q3///qflPQAAANA0DEyoKpRId8arpaN2YUSsvXKzUY8RerNRr8Fmo6jib25itYp0c7NRcnQAAICQ7JGeQH3t3btXmzZt0t69e1VeXq5NmzZp06ZNOnnypCQpOztbvXv31vjx47Vx40a9//77mjlzpm699dawtmgBAADAmTcgoa2GtajcZP6hdhcEHeO2VQbpJRWhg/Qyo6oiHfCzXI90a50uAABAozSbzUYffPBBvfDCC+bj8847T5K0cuVKDR06VA6HQ2+//bamTp2qwYMHKy4uTjfeeKPmz58fqSkDAADgDPpb11H6vPCgRiV1CPq8vyK9XIbKjAo5bbVrSMpERTqqWLUi2//BgVXPHwAAoD6aTZC+bNkyLVu2rM4xHTt21IoVK8IzIQAAAERUijNWl7fsGPJ5f5AuVValJzqCBOn+1i4EiFDVZqNW+1zFX5FuiB8EAACAUJpNaxcAAACgIfytXaTQfdLpkY7qrLrZqNXOFwAAoDEI0gEAABCVHDa7nL7L3ZKKsqBj6JGOQBbdbNRGaxcAAIBTIUgHAABA1PK3dykJUZFutnYJ24zQlFVVpFssSfchRwcAAAiNIB0AAABRyx+keypO0drFsGZwiuAsV5Hu+1+DknQAAICQCNIBAAAQtfx90oNVpBuGoXJfDS4V6ZCqKrItlqObJ0yMDgAAEBpBOgAAAKKW2dolSEV6ebXYkIp0SNbtEV5VkR7RaQAAADRpBOkAAACIWrG+inRPkIp0f1sXiYp0VDLMzUat9cFK1fmSpAMAAIRCkA4AAICo5TYr0stqPVdWLUi3U5EOWbci22KfGwAAADQKQToAAACiVqzNKSl4a5eyaqmpM2wzQlNm9ki3WLBMaxcAAIBTI0gHAABA1DJ7pAdt7VJ1jItiSDKTZIvl6CZydAAAgNC4ZwAAAEDUcvt7pNdRke6QTTbLRqcIxqo90qlIBwAACI0gHQAAAFGrror0MlX2SHfZuCRGJavmyFVbjVr1XwAAAODUuGsAAABA1Iq1hd5s1OvbbNRJkA4ff0W2terRq3rCU5EOAAAQGncNAAAAiFqx9sptRD2+0Ly6MjNIt1psilCsutmo9T46AAAAaDiCdAAAAEQtt6/aPFhFur9HuotLYvgY5maj1gqWqUgHAAA4Ne4aAAAAELX8FelBe6TT2gU1mDmytXJ0Ez3SAQAAQuOuAQAAAFErxheSeypqB+leWrsgBKt9R5ibjZKjAwAAhESQDgAAgKjltlduNlpaR490FxXp8DE3G7VYkm618wUAAGgM7hoAAAAQtdy2yiDdE6y1i6+NhYNLYlicvyc8FekAAAChcdcAAACAqGUG6bR2QT1YfrNReqQDAACERJAOAACAqOVv7RK0Ip3WLqjBHyNb7bMVi50uAABAo3DXAAAAgKjl32y0rh7pToJ0+Jg90iM7jbCz2WjtAgAAcCrcNQAAACBq0doFDeFvbWLVbwlydAAAgNAI0gEAABC16m7tUhkbOrkkRk0WTdINStIBAABC4q4BAAAAUauuinR6pKMmq+bIVZuNAgAAIBTuGgAAABC1/D3Sg1Wk09oFNVm3R3rl/1r1gwQAAID6IEgHAABA1PK3dgm62ajYbBTBWe2zFZvlPjoAAABoOO4aAAAAELXqbu1Cj3QE8vcIt1qwXPXBASXpAAAAoXDXAAAAgKhV92ajtHZBIH+MbNVvCVq7AAAAhEaQDgAAgKhVvx7pXBIjkNVydP/5kqMDAACExl0DAAAAopa/tUtpRZAe6b4g3UWQDh+rVmTbfCX4Vj1/AACA+uCuAQAAAFGr7tYuvh7pBOnwsWprF7MinSQdAAAgJO4aAAAAELXMzUbrau1iuUYeCKUqSLbY94TvdInRAQAAQiNIBwAAQNTy90j3GhWqqFFtWyZauyCQ1SvSAQAAEBp3DQAAAIha/tYuUlUFul8Zm42iJl+SbrVgmR7pAAAAp8ZdAwAAAKKWv7WLVLu9i9naxWrlxwjJ8CXpVv2WMGjuAgAAEBJBOgAAAKJWTPUgvSIwSDc3G+WSGDXYLFaTbp4tOToAAEBI3DUAAAAgatltNrMHes2KdFq7oCartjaxsdkoAADAKXHXAAAAgKjm33C0tEaPdFq7oCbrbjZKj3QAAIBTaRZB+u7duzV58mR16dJFcXFx6tatm373u9+ptLQ0YNzevXs1duxYJSQkKDU1VXfeeWetMQAAALAWf5/02q1dqEhHIMOym41GegYAAABNnzPSE6iP//u//1NFRYX+9Kc/qXv37tq6datuvfVWFRYWav78+ZKk8vJyjR49Wm3atNGaNWt0+PBhTZgwQYZhaMGCBRE+AwAAAESK2+6QyoO0dvHVH7sI0uFjbrZp0WSZzUYBAABCaxZB+uWXX67LL7/cfNy1a1d99dVXWrhwoRmk5+TkaPv27dq3b58yMzMlSY8//rgmTpyohx9+WElJSRGZOwAAACLLrEgP1SPdcvXHCMmiFel+tHYBAAAIrdmW3xw/flwpKSnm47Vr1yorK8sM0SVp1KhR8ng82rBhQySmCAAAgCbA3yO9ZmsXL61dEILVCtJtvhMmRwcAAAitWVSk17Rjxw4tWLBAjz/+uHksPz9faWlpAeOSk5MVExOj/Pz8kK/l8Xjk8XjMxwUFBZIkr9crr9d7mmcemv+9wvmeCD/W2RpYZ2tgna2BdY4O/iC9yFsasJal5ZXBur2iMj4M9zrzfdX0WDVI9n9uYFCSDgAAEFJEg/TZs2drzpw5dY5Zt26dBgwYYD4+cOCALr/8cv385z/XLbfcEjDWFqR0xDCMoMf95s6dG3QOOTk5io+PP9UpnHa5ublhf0+EH+tsDayzNbDO1sA6N28lbU9KMdLH6z6TpyTWPL4/5YgUL33zf1+puxLCvs5FRUVhfT+cmtU3GyVGBwAACC2iQfq0adN0/fXX1zmmc+fO5t8PHDigYcOGaeDAgVq0aFHAuPT0dH322WcBx44ePSqv11urUr26WbNmacaMGebjgoICdejQQdnZ2WHtq+71epWbm6uRI0fK5XKF7X0RXqyzNbDO1sA6WwPrHB3mfftPfVv0vfr2P09XtuxiHv/L7hypYK/6nt1bWr8n7Ovs/01INB3+zTbrKsSJRubpkqQDAACEFNEgPTU1VampqfUa+91332nYsGHq37+/li5dKrs9sJflwIED9fDDDysvL08ZGRmSKqvK3W63+vfvH/J13W633G53reMulysiN8yRel+EF+tsDayzNbDO1sA6N29uR+Vmo+V2W8A6Vvj+N9ZZeSzc68z3VNNj2Yp0y50xAABAwzWLHukHDhzQ0KFD1bFjR82fP18//PCD+Vx6erokKTs7W71799b48eP12GOP6ciRI5o5c6ZuvfXWsFaWAwAAoGlx2yqD9FIjcLPRMl/5rcNi1ccIzV+QbbVviarWLpSkAwAAhNIsgvScnBx9++23+vbbb9W+ffuA5/wb4jgcDr399tuaOnWqBg8erLi4ON14442aP39+JKYMAACAJsIfpHsqKgKOe33ButNmr/U1sCarb7Zp8dMHAACoU7O4a5g4caIMwwj6p7qOHTtqxYoVKioq0uHDh7VgwYKgbVsAAABgHW67L0ivWZHuu5Z0No9L4rBYvXq1xo4dq8zMTNlsNr311lsBzxuGodmzZyszM1NxcXEaOnSotm3bFjDG4/HojjvuUGpqqhISEjRu3Djt378/jGfx41muR7rvfwnSAQAAQuOuAQAAAFGtqiK9ZpBeWaHuoiLdVFhYqHPOOUfPPPNM0OfnzZunJ554Qs8884zWrVun9PR0jRw5UidOnDDHTJ8+XW+++aaWL1+uNWvW6OTJkxozZozKy8uDviaaAN8HB+ToAAAAoTWL1i4AAABAY8X4gvKaPdK9viDdabHq47pcccUVuuKKK4I+ZxiGnnrqKT3wwAO6+uqrJUkvvPCC0tLS9PLLL+u2227T8ePHtXjxYv3v//6vRowYIUl68cUX1aFDB7333nsaNWpU2M6lMay72Wglq7e2AQAAqAtBOgAAAKLaKVu72OwqC/usmp9du3YpPz9f2dnZ5jG3260hQ4bok08+0W233aYNGzbI6/UGjMnMzFRWVpY++eSTkEG6x+ORx+MxHxcUFEiSvF6vvF7vGTqj2vxV80ZFRVjfN/IqfxbKysotcd7+c7TCuVoZ62wdrLU1sM7WEIl1bsh7EaQDAAAgqoXabLR6axeC9FPLz8+XJKWlpQUcT0tL0549e8wxMTExSk5OrjXG//XBzJ07V3PmzKl1PCcnR/Hx8T926vW2e69dkl27d+/WO+/sDNv7Rtqxow5JNm34YoO8u61TlZ6bmxvpKSAMWGfrYK2tgXW2hnCuc1FRUb3HEqQDAAAgqoWqSDdbu1iukcePU3MjTsMwTrk556nGzJo1SzNmzDAfFxQUqEOHDsrOzlZSUtKPm3ADrF+xXcrbry5dOuvKy3uF7X0jbdn+z7T75HGdf/75yu6dduovaOa8Xq9yc3M1cuRIuVyuSE8HZwjrbB2stTWwztYQiXX2/yZkfRCkAwAAIKqF6pFeJn+PdDYbrY/09HRJlVXnGRkZ5vGDBw+aVerp6ekqLS3V0aNHA6rSDx48qEGDBoV8bbfbLbfbXeu4y+UK682y3V75veB0OCx1k+4/b4fFzjvc31+IDNbZOlhra2CdrSGc69yQ9+GuAQAAAFGtqrVLYJBe6mv1EkOQXi9dunRRenp6wK/alpaWatWqVWZI3r9/f7lcroAxeXl52rp1a51BelNh1b02qzYbjeg0AAAAmjQq0gEAABDVqlq7BPZIN1u7EKSbTp48qW+//dZ8vGvXLm3atEkpKSnq2LGjpk+frkceeUQ9evRQjx499Mgjjyg+Pl433nijJKlly5aaPHmy7r77brVu3VopKSmaOXOm+vbtqxEjRkTqtOrNzJEt1u3H33WHHB0AACA0gnQAAABENbMiPUSPdCrSq6xfv17Dhg0zH/v7lk+YMEHLli3Tvffeq+LiYk2dOlVHjx7VhRdeqJycHLVo0cL8mieffFJOp1PXXnutiouLNXz4cC1btkwOhyPs59NgvpJsm8WSdP/5UpEOAAAQGkE6AAAAolpMqNYuvmDdRZBuGjp0qIw60lSbzabZs2dr9uzZIcfExsZqwYIFWrBgwRmY4ZnlP/NT7J0afax2vgAAAI3AXQMAAACimtsefLPRqor0ZlApjbDwf4ZgtVzZ7JFOcxcAAICQCNIBAAAQ1UK1din1BelUpKMmy1Wk+9DaBQAAIDTuGgAAABDVzCC9omqz0XKjQhW+6luCdPj5K7It1yOdzUYBAABOibsGAAAARLUYe+2KdH9bF4nNRlHFqhXZVZuNWvQfAAAAoB64awAAAEBU81ekl4YI0qlIh58ZI1urIN2yrWwAAAAagrsGAAAARDW3Lyj3VFCRjrpZdrNRf2sXCtIBAABC4q4BAAAAUc1ttnapCs/9G43aJDkI0mHy9Ui3WIm21XrCAwAANAZ3DQAAAIhqVZuN1q5Ip60LqrNqRbqfwXajAAAAIXHnAAAAgKgWE6RHuv/v/ueA6ixWkE5rFwAAgHogSAcAAEBUq2rtQkU66mb1HJkgHQAAIDTuHAAAABDVqjYbreqR7g/S2WgU1Vm1tYu/Jzw5OgAAQGjcOQAAACCq+SvSy1ShCl9SWlpBRTpqMyy72Wglg5J0AACAkLhzAAAAQFSr3gfd397F6/tfgnRUZ9Uc2WKfGwAAADQKdw4AAACIau5qQbp/k9FSs7ULm42iij9Ht1qwbFakR3QWAAAATRtBOgAAAKJa9T7ongp/RTqtXRCa1YJ0E0k6AABASNw5AAAAIKrZbDYzTPf4AnR/ZXqMncthVGPR3i5Vm41a8/wBAADqgzsHAAAARD1/Cxcq0lEXf45uk7VK0qs2G43oNAAAAJo07hwAAAAQ9fx90kuNwCCdHumozrI90n3nS44OAAAQGkE6AAAAop7b7qtIr7HZKBXpqK6qIt1qfK1dSNIBAABC4s4BAAAAUc/t75FOaxfUwd8j3GaxknSLnS4AAECjcOcAAACAqGf2SK+52ShBOqqxekU2m40CAACExp0DAAAAop6/tUvNHulUpCMYq1Vos9koAADAqXHnAAAAgKjn32y0ZmsXNhtFdVbNkdlsFAAA4NQI0gEAABD13HZfj3T/ZqMVVKQjCItuNmrznzEl6QAAACFx5wAAAICoZ1ak+4N0eqQjCKtvNkqMDgAAEBp3DgAAAIh6sXanJKnE19rFH6j7e6cDUlVBtrVidOv1hAcAAGgMgnQAAABEvVhfRboZpPtau7jpkY5q/BXZVguW/a1d6OwCAAAQGkE6AAAAol6sr/K8xKAiHadmsRzdZJCkAwAAhESQDgAAgKhXVZFeJqlakE5FOqqxbJBMj3QAAIBTIkgHAABA1Ivz90j3Bej+Fi8E6ajODJIt1tvFf7ZW/RwBAACgPppNkD5u3Dh17NhRsbGxysjI0Pjx43XgwIGAMXv37tXYsWOVkJCg1NRU3XnnnSotLY3QjAEAANBU+Fu7FNesSKe1C6qx7majvh7pEZ4HAABAU9ZsgvRhw4bpr3/9q7766iu9/vrr2rFjh6655hrz+fLyco0ePVqFhYVas2aNli9frtdff1133313BGcNAACApiDW5qtINzcbpSIdoVmsIL1aRTpROgAAQCjOSE+gvn71q1+Zf+/UqZPuv/9+XXXVVfJ6vXK5XMrJydH27du1b98+ZWZmSpIef/xxTZw4UQ8//LCSkpIiNXUAAABEWOjNRptNXQnCwB8k2yxWk261Dw4AAAAao9kE6dUdOXJEL730kgYNGiSXyyVJWrt2rbKysswQXZJGjRolj8ejDRs2aNiwYUFfy+PxyOPxmI8LCgokSV6vV16v9wyeRSD/e4XzPRF+rLM1sM7WwDpbA+scPVy+QtuissprvJLyyhYvjorIrTPfV02Pvx6bYBkAAAA1Nasg/b777tMzzzyjoqIiXXTRRVqxYoX5XH5+vtLS0gLGJycnKyYmRvn5+SFfc+7cuZozZ06t4zk5OYqPjz99k6+n3NzcsL8nwo91tgbW2RpYZ2tgnZu/HQmFUrK0+8B+vbP1HeW1OSS5pS83bVZu8TeSwr/ORUVFYX0/1J/VcnQ2GwUAADi1iAbps2fPDhpiV7du3ToNGDBAknTPPfdo8uTJ2rNnj+bMmaObb75ZK1asMDfHsQUpHTEMI+hxv1mzZmnGjBnm44KCAnXo0EHZ2dlhbQfj9XqVm5urkSNHmlX2iD6sszWwztbAOlsD6xw9Dh75Sov2f6RWaW105UWj9Mi3f5eKftBF5w/QyPjMiKyz/zch0XRYNUiu2mzUov8AAAAA9RDRIH3atGm6/vrr6xzTuXNn8++pqalKTU3VWWedpbPPPlsdOnTQp59+qoEDByo9PV2fffZZwNcePXpUXq+3VqV6dW63W263u9Zxl8sVkRvmSL0vwot1tgbW2RpYZ2tgnZu/BFeMJMmjCrlcLpX6EtMEV4y5tuFeZ76nmh5/kGy11i5UpAMAAJxaRIN0fzDeGP6NgPz9zQcOHKiHH35YeXl5ysjIkFTZnsXtdqt///6nZ8IAAABolmJtlZe9JRU1Nxt1RGxOaHqqgmRrJunk6AAAAKE1ix7pn3/+uT7//HNdfPHFSk5O1s6dO/Xggw+qW7duGjhwoCQpOztbvXv31vjx4/XYY4/pyJEjmjlzpm699dawtmgBAABA0xPnC8xLfAG6xxeou20E6ahi1c1GbVb74AAAAKAR7JGeQH3ExcXpjTfe0PDhw9WzZ09NmjRJWVlZWrVqldmWxeFw6O2331ZsbKwGDx6sa6+9VldddZXmz58f4dkDAAAg0mLtlfUjxRVlkqhIRwi+JN1qsbL/gwNauwAAAITWLCrS+/btqw8++OCU4zp27KgVK1aEYUYAAABoTmJ9lee1WrtQkY4grFaR7sdmowAAAKE1i4p0AAAA4MeIpbUL6sGqQTKbjQIAAJwaQToAAACiXtVmo7R2QWiG2drFWiXpVq3ABwAAaAiCdAAAAEQ9/2ajxRXlqjAMlRoVkiS3jcthVLH6ZqMGJekAAAAhcecAAACAqBfv32zUKFOJUWYepyId1RlsNgoAAIAQCNIBAAAQ9RLsLvPvx8pKzb/TIx3VmT3SLVaSbrHTBQAAaBSCdAAAAES9OF9FuiQdKS8x/x5DkI7qLFqR7j9jCtIBAABCI0gHAABA1LPbbGZ7l4PeYkmV7V7slOIiCKt+W9DaBQAAIDSCdAAAAFhCgj9ILysOeAz4WTVHNnukW/ZfAAAA4NQI0gEAAGAJ/j7pVUG6q67hsCDDV5JttYJ0//lSkQ4AABAaQToAAAAswV+B/oO3JOAx4OfPkW0W6+1SVZEOAACAUAjSAQAAYAnxNSrS46lIRw2GRTcbtVnujAEAABqOIB0AAACWQI90nEpVRXpEpxF2Nnq7AAAAnBJBOgAAACwhweGrSPcWBzwGUIkYHQAAIDSCdAAAAFhCzYr0eCrSUYNh0YpsCtIBAABOjSAdAAAAlpDg64n+A61dcArW22y08nwNatIBAABCIkgHAACAJfiD8+Plpb7HtHZBIKtuNupHRToAAEBoBOkAAACwhJrBORXpqMnqm42SowMAAIRGkA4AAABLaOWMCXhMj3TU5O+RbrNYTbrVzhcAAKAxCNIBAABgCa0dsQGPae2CUCxbkU5JOgAAQEgE6QAAALCEFKc74HGCg4p0BLJ6jsxmowAAAKERpAMAAMASWjsDK9LbOOMiNBM0VVbdbNQ8X3J0AACAkAjSAQAAYAk1g/R0V3yEZoKmyqzItliSzmajAAAAp0aQDgAAAEuo2SM9jYr0M+q5555Tly5dFBsbq/79++ujjz6K9JROzZ+jW6xJuv98DZqkAwAAhESQDgAAAEugIj18Xn31VU2fPl0PPPCANm7cqEsuuURXXHGF9u7dG+mp1ckfI1srRrfe+QIAADQGQToAAAAswW13BDxOtLsiNJPo98QTT2jy5Mm65ZZbdPbZZ+upp55Shw4dtHDhwkhPrU5mj3SrJcv+1i4UpAMAAITkjPQEAAAAgEiwWvuOcCktLdWGDRt0//33BxzPzs7WJ598EvRrPB6PPB6P+bigoECS5PV65fV6z9xka/C3NikvKw/r+0ZaRXmFJOnNjd/ps12HIzybM88wDB0/7tCf96zlvwNRjHW2DtbaGlhna8julaqOUlivwxryXgTpAAAAsIzXu47Sf+38t65u1SXSU4lahw4dUnl5udLS0gKOp6WlKT8/P+jXzJ07V3PmzKl1PCcnR/Hx4WvBc7zAIcmmjRs3yrPbOuXZR/Ntkhw6XFiqw4WlkZ5OmNi0r/BEpCeBM451tg7W2hpY52jXquyYOnaVcnNzw/aeRUVF9R5LkA4AAADLuDq5q/6vz/XKdCVEeipRr2a1mGEYISvIZs2apRkzZpiPCwoK1KFDB2VnZyspKemMzrO6lJ4/6KNP1+sXoy9VeivrfI9cXmHo6r3HdNJTFumphEV5WZk2btqk8849Vw4nt8TRinW2DtbaGlhna0hLdGr3f9Zq5MiRcrnC04bR/5uQ9cF3HgAAACylZ2xypKcQ1VJTU+VwOGpVnx88eLBWlbqf2+2W2+2uddzlcoXtJkqSLurWRke+MpTeKiGs79sUDOrRNtJTCBuv16vSPRs1ok+G5dbZSlhn62CtrYF1tgav16vd/wnvNWBD3ofNRgEAAACcNjExMerfv3+tX8nNzc3VoEGDIjQrAAAA4MehIh0AAADAaTVjxgyNHz9eAwYM0MCBA7Vo0SLt3btXU6ZMifTUAAAAgEYhSAcAAABwWl133XU6fPiwfv/73ysvL09ZWVl655131KlTp0hPDQAAAGgUgnQAAAAAp93UqVM1derUSE8DAAAAOC3okQ4AAAAAAAAAQB0I0gEAAAAAAAAAqANBOgAAAAAAAAAAdSBIBwAAAAAAAACgDgTpAAAAAAAAAADUgSAdAAAAAAAAAIA6NLsg3ePx6Nxzz5XNZtOmTZsCntu7d6/Gjh2rhIQEpaam6s4771RpaWlkJgoAAAAAAAAAiArOSE+goe69915lZmbqP//5T8Dx8vJyjR49Wm3atNGaNWt0+PBhTZgwQYZhaMGCBRGaLQAAAAAAAACguWtWFenvvvuucnJyNH/+/FrP5eTkaPv27XrxxRd13nnnacSIEXr88cf15z//WQUFBRGYLQAAAAAAAAAgGjSbIP3777/Xrbfeqv/93/9VfHx8refXrl2rrKwsZWZmmsdGjRolj8ejDRs2hHOqAAAAAAAAAIAo0ixauxiGoYkTJ2rKlCkaMGCAdu/eXWtMfn6+0tLSAo4lJycrJiZG+fn5IV/b4/HI4/GYj/3V616vV16v9/ScQD343yuc74nwY52tgXW2BtbZGlhna4jUOvN9BQAAADQfEQ3SZ8+erTlz5tQ5Zt26dfrkk09UUFCgWbNm1TnWZrPVOmYYRtDjfnPnzg06h7feeito5fuZ9ve//z3s74nwY52tgXW2BtbZGlhnawj3OhcVFUmqvF5FIP+/SbhbNHq9XhUVFamgoEAulyus743wYZ2tgXW2DtbaGlhna4jEOvuvN+tzTW4zInjlfujQIR06dKjOMZ07d9b111+vf/7znwGBeHl5uRwOh2666Sa98MILevDBB/X3v/89YBPSo0ePKiUlRR988IGGDRsW9PVrVqR/99136t279488MwAAAKB+9u3bp/bt20d6Gk3K/v371aFDh0hPAwAAABZRn2vyiAbp9bV3796AapQDBw5o1KhR+tvf/qYLL7xQ7du317vvvqsxY8Zo//79ysjIkCS9+uqrmjBhgg4ePKikpKR6vVdFRYUOHDigFi1a1FnJfroVFBSoQ4cO2rdvX73niuaHdbYG1tkaWGdrYJ2tIVLrbBiGTpw4oczMTNntzWbrorDgmhxnEutsDayzdbDW1sA6W0Mk1rkh1+TNokd6x44dAx4nJiZKkrp162Z+UpCdna3evXtr/Pjxeuyxx3TkyBHNnDlTt956a4P+4e12e0QrgpKSkvgPggWwztbAOlsD62wNrLM1RGKdW7ZsGdb3ay64Jkc4sM7WwDpbB2ttDayzNYR7net7TR41pS8Oh0Nvv/22YmNjNXjwYF177bW66qqrNH/+/EhPDQAAAAAAAADQjDWLivSaOnfuHLQBfMeOHbVixYoIzAgAAAAAAAAAEK2ipiK9uXO73frd734nt9sd6angDGKdrYF1tgbW2RpYZ2tgneHH94I1sM7WwDpbB2ttDayzNTT1dW4Wm40CAAAAAAAAABApVKQDAAAAAAAAAFAHgnQAAAAAAAAAAOpAkA4AAAAAAAAAQB0I0sPoueeeU5cuXRQbG6v+/fvro48+qnP8qlWr1L9/f8XGxqpr1656/vnnwzRT/BgNWec33nhDI0eOVJs2bZSUlKSBAwfq3//+dxhni8Zq6M+z38cffyyn06lzzz33zE4Qp0VD19nj8eiBBx5Qp06d5Ha71a1bNy1ZsiRMs0VjNXSdX3rpJZ1zzjmKj49XRkaGfvnLX+rw4cNhmi0aY/Xq1Ro7dqwyMzNls9n01ltvnfJruA6zpsb+/zuahlP9rBuGodmzZyszM1NxcXEaOnSotm3bFjDG4/HojjvuUGpqqhISEjRu3Djt378/jGeBusydO1c/+clP1KJFC7Vt21ZXXXWVvvrqq4AxrHPzt3DhQvXr109JSUnmffK7775rPs8aR6e5c+fKZrNp+vTp5jHWOjrMnj1bNpst4E96err5fHNaZ4L0MHn11Vc1ffp0PfDAA9q4caMuueQSXXHFFdq7d2/Q8bt27dKVV16pSy65RBs3btSvf/1r3XnnnXr99dfDPHM0REPXefXq1Ro5cqTeeecdbdiwQcOGDdPYsWO1cePGMM8cDdHQdfY7fvy4br75Zg0fPjxMM8WP0Zh1vvbaa/X+++9r8eLF+uqrr/TKK6+oV69eYZw1Gqqh67xmzRrdfPPNmjx5srZt26bXXntN69at0y233BLmmaMhCgsLdc455+iZZ56p13iuw6ypsf//jqbjVD/r8+bN0xNPPKFnnnlG69atU3p6ukaOHKkTJ06YY6ZPn64333xTy5cv15o1a3Ty5EmNGTNG5eXl4ToN1GHVqlW6/fbb9emnnyo3N1dlZWXKzs5WYWGhOYZ1bv7at2+vRx99VOvXr9f69et12WWX6ac//akZrLHG0WfdunVatGiR+vXrF3CctY4effr0UV5envlny5Yt5nPNap0NhMUFF1xgTJkyJeBYr169jPvvvz/o+Hvvvdfo1atXwLHbbrvNuOiii87YHPHjNXSdg+ndu7cxZ86c0z01nEaNXefrrrvO+M1vfmP87ne/M84555wzOEOcDg1d53fffddo2bKlcfjw4XBMD6dJQ9f5scceM7p27Rpw7Omnnzbat29/xuaI00uS8eabb9Y5huswazod13FoOmr+rFdUVBjp6enGo48+ah4rKSkxWrZsaTz//POGYRjGsWPHDJfLZSxfvtwc89133xl2u93417/+Fba5o/4OHjxoSDJWrVplGAbrHM2Sk5ONv/zlL6xxFDpx4oTRo0cPIzc31xgyZIhx1113GYbBz3M0qSsDaW7rTEV6GJSWlmrDhg3Kzs4OOJ6dna1PPvkk6NesXbu21vhRo0Zp/fr18nq9Z2yuaLzGrHNNFRUVOnHihFJSUs7EFHEaNHadly5dqh07duh3v/vdmZ4iToPGrPM//vEPDRgwQPPmzVO7du101llnaebMmSouLg7HlNEIjVnnQYMGaf/+/XrnnXdkGIa+//57/e1vf9Po0aPDMWWECddh1nM6ruPQtO3atUv5+fkBa+x2uzVkyBBzjTds2CCv1xswJjMzU1lZWXwfNFHHjx+XJPP+iXWOPuXl5Vq+fLkKCws1cOBA1jgK3X777Ro9erRGjBgRcJy1ji7ffPONMjMz1aVLF11//fXauXOnpOa3zs6wvptFHTp0SOXl5UpLSws4npaWpvz8/KBfk5+fH3R8WVmZDh06pIyMjDM2XzROY9a5pscff1yFhYW69tprz8QUcRo0Zp2/+eYb3X///froo4/kdPKf3eagMeu8c+dOrVmzRrGxsXrzzTd16NAhTZ06VUeOHKFPehPVmHUeNGiQXnrpJV133XUqKSlRWVmZxo0bpwULFoRjyggTrsOs53Rcx6Fp869jsDXes2ePOSYmJkbJycm1xvB90PQYhqEZM2bo4osvVlZWliTWOZps2bJFAwcOVElJiRITE/Xmm2+qd+/eZmjGGkeH5cuX64svvtC6detqPcfPc/S48MIL9T//8z8666yz9P333+uhhx7SoEGDtG3btma3ziQ6YWSz2QIeG4ZR69ipxgc7jqaloevs98orr2j27Nn6+9//rrZt256p6eE0qe86l5eX68Ybb9ScOXN01llnhWt6OE0a8vNcUVEhm82ml156SS1btpQkPfHEE7rmmmv07LPPKi4u7ozPF43TkHXevn277rzzTj344IMaNWqU8vLydM8992jKlClavHhxOKaLMOE6zJoaex2H5qMxa8z3QdM0bdo0bd68WWvWrKn1HOvc/PXs2VObNm3SsWPH9Prrr2vChAlatWqV+Txr3Pzt27dPd911l3JychQbGxtyHGvd/F1xxRXm3/v27auBAweqW7dueuGFF3TRRRdJaj7rTGuXMEhNTZXD4aj1KcnBgwdrfeLil56eHnS80+lU69atz9hc0XiNWWe/V199VZMnT9Zf//rXWr/OhKaloet84sQJrV+/XtOmTZPT6ZTT6dTvf/97/ec//5HT6dQHH3wQrqmjARrz85yRkaF27dqZIboknX322TIMg13jm6jGrPPcuXM1ePBg3XPPPerXr59GjRql5557TkuWLFFeXl44po0w4DrMen7MdRyah/T0dEmqc43T09NVWlqqo0ePhhyDpuGOO+7QP/7xD61cuVLt27c3j7PO0SMmJkbdu3fXgAEDNHfuXJ1zzjn64x//yBpHkQ0bNujgwYPq37+/ea+8atUqPf3003I6neZasdbRJyEhQX379tU333zT7H6mCdLDICYmRv3791dubm7A8dzcXA0aNCjo1wwcOLDW+JycHA0YMEAul+uMzRWN15h1lior0SdOnKiXX36ZHrvNQEPXOSkpSVu2bNGmTZvMP1OmTDErLC688MJwTR0N0Jif58GDB+vAgQM6efKkeezrr7+W3W4PuMFD09GYdS4qKpLdHnj55HA4JFVVLKP54zrMehp7HYfmo0uXLkpPTw9Y49LSUq1atcpc4/79+8vlcgWMycvL09atW/k+aCIMw9C0adP0xhtv6IMPPlCXLl0Cnmedo5dhGPJ4PKxxFBk+fHite+UBAwbopptu0qZNm9S1a1fWOkp5PB59+eWXysjIaH4/0+Hb19Tali9fbrhcLmPx4sXG9u3bjenTpxsJCQnG7t27DcMwjPvvv98YP368OX7nzp1GfHy88atf/crYvn27sXjxYsPlchl/+9vfInUKqIeGrvPLL79sOJ1O49lnnzXy8vLMP8eOHYvUKaAeGrrONdW1YzWajoau84kTJ4z27dsb11xzjbFt2zZj1apVRo8ePYxbbrklUqeAemjoOi9dutRwOp3Gc889Z+zYscNYs2aNMWDAAOOCCy6I1CmgHk6cOGFs3LjR2LhxoyHJeOKJJ4yNGzcae/bsMQyD6zBUOtV/D9D0nepn/dFHHzVatmxpvPHGG8aWLVuMG264wcjIyDAKCgrM15gyZYrRvn1747333jO++OIL47LLLjPOOecco6ysLFKnhWr+3//7f0bLli2NDz/8MOD+qaioyBzDOjd/s2bNMlavXm3s2rXL2Lx5s/HrX//asNvtRk5OjmEYrHE0GzJkiHHXXXeZj1nr6HD33XcbH374obFz507j008/NcaMGWO0aNHCvMZqTutMkB5Gzz77rNGpUycjJibGOP/8841Vq1aZz02YMMEYMmRIwPgPP/zQOO+884yYmBijc+fOxsKFC8M8YzRGQ9Z5yJAhhqRafyZMmBD+iaNBGvrzXB1BevPR0HX+8ssvjREjRhhxcXFG+/btjRkzZgTc2KFpaug6P/3000bv3r2NuLg4IyMjw7jpppuM/fv3h3nWaIiVK1fW+f+3XIfBr67/HqDpO9XPekVFhfG73/3OSE9PN9xut3HppZcaW7ZsCXiN4uJiY9q0aUZKSooRFxdnjBkzxti7d28EzgbBBFtfScbSpUvNMaxz8zdp0iTzv8Vt2rQxhg8fbobohsEaR7OaQTprHR2uu+46IyMjw3C5XEZmZqZx9dVXG9u2bTOfb07rbDMMfg8ZAAAAAAAAAIBQ6JEOAAAAAAAAAEAdCNIBAAAAAAAAAKgDQToAAAAAAAAAAHUgSAcAAAAAAAAAoA4E6QAAAAAAAAAA1IEgHQAAAAAAAACAOhCkAwAAAAAAAABQB4J0AAAAAAAAAADqQJAOAAAAAACAeistLVX37t318ccfn9bXXbFihc477zxVVFSc1tcFgNOBIB0ALGz27Nk699xzI/b+v/3tb/Xf//3f9Ro7c+ZM3XnnnWd4RgAAALCaiRMnymaz1frz7bffRnpqTdaiRYvUqVMnDR482Dxms9n01ltv1Ro7ceJEXXXVVfV63TFjxshms+nll18+TTMFgNOHIB0AolSwm4HqfyZOnKiZM2fq/fffj8j8vv/+e/3xj3/Ur3/963qNv/fee7V06VLt2rXrDM8MAAAAVnP55ZcrLy8v4E+XLl1qjSstLY3A7JqeBQsW6JZbbjkjr/3LX/5SCxYsOCOvDQA/BkE6AESp6jcBTz31lJKSkgKO/fGPf1RiYqJat24dkfktXrxYAwcOVOfOnes1vm3btsrOztbzzz9/ZicGAAAAy3G73UpPTw/443A4NHToUE2bNk0zZsxQamqqRo4cKUnavn27rrzySiUmJiotLU3jx4/XoUOHzNcrLCzUzTffrMTERGVkZOjxxx/X0KFDNX36dHNMsAruVq1aadmyZebj7777Ttddd52Sk5PVunVr/fSnP9Xu3bvN5/3V3vPnz1dGRoZat26t22+/XV6v1xzj8Xh07733qkOHDnK73erRo4cWL14swzDUvXt3zZ8/P2AOW7duld1u144dO4L+W33xxRf69ttvNXr06Ab+K0u7d+8OWuQzdOhQc8y4ceP0+eefa+fOnQ1+fQA4kwjSASBKVb8JaNmypWw2W61jNVu7+C/EH3nkEaWlpalVq1aaM2eOysrKdM899yglJUXt27fXkiVLAt7rVBf4wSxfvlzjxo0LOPa3v/1Nffv2VVxcnFq3bq0RI0aosLDQfH7cuHF65ZVXfvS/DQAAAFBfL7zwgpxOpz7++GP96U9/Ul5enoYMGaJzzz1X69ev17/+9S99//33uvbaa82vueeee7Ry5Uq9+eabysnJ0YcffqgNGzY06H2Lioo0bNgwJSYmavXq1VqzZo0SExN1+eWXB1TGr1y5Ujt27NDKlSv1wgsvaNmyZQFh/M0336zly5fr6aef1pdffqnnn39eiYmJstlsmjRpkpYuXRrwvkuWLNEll1yibt26BZ3X6tWrddZZZykpKalB5yNJHTp0CCju2bhxo1q3bq1LL73UHNOpUye1bdtWH330UYNfHwDOJGekJwAAaFo++OADtW/fXqtXr9bHH3+syZMna+3atbr00kv12Wef6dVXX9WUKVM0cuRIdejQwbzAv+SSS7R69Wo5nU499NBDuvzyy7V582bFxMTUeo+jR49q69atGjBggHksLy9PN9xwg+bNm6ef/exnOnHihD766CMZhmGOueCCC7Rv3z7t2bNHnTp1Csu/BwAAAKLfihUrlJiYaD6+4oor9Nprr0mSunfvrnnz5pnPPfjggzr//PP1yCOPmMeWLFmiDh066Ouvv1ZmZqYWL16s//mf/zEr2F944QW1b9++QXNavny57Ha7/vKXv8hms0mSli5dqlatWunDDz9Udna2JCk5OVnPPPOMHA6HevXqpdGjR+v999/Xrbfeqq+//lp//etflZubqxEjRkiSunbtar7HL3/5Sz344IP6/PPPdcEFF8jr9erFF1/UY489FnJeu3fvVmZmZtDnbrjhBjkcjoBjHo/HrF53OBxKT0+XJJWUlOiqq67SwIEDNXv27ICvadeu3SkLcwAg3AjSAQABUlJS9PTTT8tut6tnz56aN2+eioqKzF7ms2bN0qOPPqqPP/5Y119/fb0v8Kvbs2ePDMMIuADPy8tTWVmZrr76ajMk79u3b8DXtWvXTlLlxTtBOgAAAE6XYcOGaeHChebjhIQE8+/Viz8kacOGDVq5cmVA8O63Y8cOFRcXq7S0VAMHDjSPp6SkqGfPng2a04YNG/Ttt9+qRYsWAcdLSkoC2q706dMnILzOyMjQli1bJEmbNm2Sw+HQkCFDgr5HRkaGRo8erSVLluiCCy7QihUrVFJSop///Och51VcXKzY2Nigzz355JNmYO933333qby8vNbYyZMn68SJE8rNzZXdHtgwIS4uTkVFRSHnAACRQJAOAAjQp0+fgAvZtLQ0ZWVlmY8dDodat26tgwcPSqr/BX51xcXFkhRwAX7OOedo+PDh6tu3r0aNGqXs7Gxdc801Sk5ONsfExcVJEhfVAAAAOK0SEhLUvXv3kM9VV1FRobFjx+oPf/hDrbEZGRn65ptv6vWeNpst4LcvJQX0Nq+oqFD//v310ksv1fraNm3amH93uVy1XreiokJS1fVzXW655RaNHz9eTz75pJYuXarrrrtO8fHxIcenpqaaQX1N6enptf4dW7RooWPHjgUce+ihh/Svf/1Ln3/+ea37CEk6cuRIwDkCQFNAkA4ACBDsQryui/P6XuBXl5qaKqmyxYt/jMPhUG5urj755BPl5ORowYIFeuCBB/TZZ5+pS5cukiovqOt6XQAAAOBMO//88/X666+rc+fOcjprxyrdu3eXy+XSp59+qo4dO0qqvO79+uuvAyrD27Rpo7y8PPPxN998E1Awcv755+vVV19V27ZtG9WPXKr8Dc+KigqtWrWqVqW435VXXqmEhAQtXLhQ7777rlavXl3na5533nlauHChDMMwfyO1IV5//XX9/ve/17vvvhu0D7u/IOe8885r8GsDwJnEZqMAgB/l/PPP1zfffKO2bduqe/fuAX9atmwZ9Gu6deumpKQkbd++PeC4zWbT4MGDNWfOHG3cuFExMTF68803zee3bt0ql8ulPn36nNFzAgAAAEK5/fbbdeTIEd1www36/PPPtXPnTuXk5GjSpEkqLy9XYmKiJk+erHvuuUfvv/++tm7dqokTJ9ZqX3LZZZfpmWee0RdffKH169drypQpAQUsN910k1JTU/XTn/5UH330kXbt2qVVq1bprrvu0v79++s1186dO2vChAmaNGmS3nrrLe3atUsffvih/vrXv5pjHA6HJk6cqFmzZql79+4BLWmCGTZsmAoLC7Vt27YG/KtV2rp1q26++Wbdd9996tOnj/Lz85Wfn28WzEjSp59+Krfbfcp5AEC4EaQDAH6Uxlzg2+12jRgxQmvWrDGPffbZZ3rkkUe0fv167d27V2+88YZ++OEHnX322eaYjz76SJdcckm9fkUVAAAAOBMyMzP18ccfq7y8XKNGjVJWVpbuuusutWzZ0gzLH3vsMV166aUaN26cRowYoYsvvlj9+/cPeJ3HH39cHTp00KWXXqobb7xRM2fODGipEh8fr9WrV6tjx466+uqrdfbZZ2vSpEkqLi5uUIX6woULdc0112jq1Knq1auXbr31VhUWFgaMmTx5skpLSzVp0qRTvl7r1q119dVXB/2N1FNZv369ioqK9NBDDykjI8P8c/XVV5tjXnnlFd100011tpcBgEiwGTUbcgEAos6yZcs0ffr0Wr0JZ8+erbfeekubNm2SJE2cOFHHjh3TW2+9ZY4ZOnSozj33XD311FPmsc6dO2v69OmaPn26JCk/P1/33Xef3nnnHZ04cULt2rXT8OHDNX/+/JAX+f/+9781efJk7d27V3a7XV9++aV+9atf6YsvvlBBQYE6deqkO+64Q9OmTTO/pmfPnpozZ46uv/760/HPAgAAAIRNsOvqpuLjjz/W0KFDtX//fqWlpZ1y/JYtWzRixIigeyX9GD/88IN69eql9evXm+0dAaCpIEgHAESEYRi66KKLNH36dN1www2nHP/222/rnnvu0ebNm4P2ogQAAACasqYYpHs8Hu3bt0///d//rYyMjAZVmb/wwgs6//zz1bdv39M2n88//1y7du3Sddddd9peEwBOF1q7AAAiwmazadGiRSorK6vX+MLCQi1dupQQHQAAADhNXnnlFfXs2VPHjx/XvHnzGvS1EyZMOK0huiRdcMEFhOgAmiwq0gEAAAAAAAAAqAMV6QAAAAAAAAAA1IEgHQAAAAAAAACAOhCkAwAAAAAAAABQB4J0AAAAAAAAAADqQJAOAAAAAAAAAEAdCNIBAAAAAAAAAKgDQToAAAAAAAAAAHUgSAcAAAAAAAAAoA4E6QAAAAAAAAAA1OH/B8tigbAfRkTVAAAAAElFTkSuQmCC",
      "text/plain": [
       "<Figure size 1500x500 with 2 Axes>"
      ]
     },
     "metadata": {},
     "output_type": "display_data"
    }
   ],
   "source": [
    "# Parameters\n",
    "fs = 1000  # Sampling frequency in Hz\n",
    "T = 1 / fs  # Sampling period\n",
    "L = 1000  # Number of samples\n",
    "t = np.arange(0, L) * T  # Create time vector\n",
    "\n",
    "selected_frequencies_first=[0, 50]\n",
    "\n",
    "# Generate the signal with the selected frequencies\n",
    "signal = np.zeros(len(t))\n",
    "for f in range(selected_frequencies_first[0], selected_frequencies_first[1] + 1):\n",
    "\tsignal += np.sin(2 * np.pi * f * t)\n",
    "\n",
    "# Calculate the FFT of the original signal\n",
    "original_signal_fft = fft(signal)\n",
    "# Calculate frequencies for the FFT of the original signal\n",
    "original_freqs = fftfreq(L, T)[:L // 2]\n",
    "# Calculate magnitude of Fourier coefficients (amplitude) for the original signal\n",
    "original_magnitude = np.abs(original_signal_fft)[:L // 2]\n",
    "\n",
    "# Plotting\n",
    "fig, axs = plt.subplots(1, 2, figsize=(15, 5))\n",
    "\n",
    "# Original signal plot\n",
    "axs[0].plot(t, signal, color='#00CC96')\n",
    "axs[0].set_title('Original Signal')\n",
    "axs[0].set_xlabel('Time (s)')\n",
    "axs[0].set_ylabel('Amplitude')\n",
    "axs[0].grid(True)\n",
    "\n",
    "# Fourier Transform plot\n",
    "axs[1].plot(original_freqs, original_magnitude)\n",
    "axs[1].set_title('Fourier Transformation of Original Signal')\n",
    "axs[1].set_xlabel('Frequency (Hz)')\n",
    "axs[1].set_ylabel('Magnitude')\n",
    "axs[1].grid(True)\n",
    "\n",
    "plt.tight_layout()\n",
    "plt.show()"
   ]
  },
  {
   "cell_type": "code",
   "execution_count": 25,
>>>>>>> fe66cec273e0b720f222b665b24f51f6af8b0116
   "metadata": {
    "tags": [
     "thebe-init"
    ]
   },
   "outputs": [
    {
     "data": {
      "application/vnd.jupyter.widget-view+json": {
<<<<<<< HEAD
       "model_id": "644c489629d4458cad51638d9d74de69",
=======
       "model_id": "6cedb355d7c34c12ab9ad80246f8ea8b",
>>>>>>> fe66cec273e0b720f222b665b24f51f6af8b0116
       "version_major": 2,
       "version_minor": 0
      },
      "text/plain": [
       "VBox(children=(HTML(value=\"\\n        <h2 style='font-weight: bold; font-size: 30px; text-align: center;'>Conti…"
      ]
     },
     "metadata": {},
     "output_type": "display_data"
    },
    {
     "data": {
      "application/vnd.jupyter.widget-view+json": {
<<<<<<< HEAD
       "model_id": "e24c3cfb4ae1449b879b5b46ecf31a1c",
=======
       "model_id": "b61aa1bd01ab48ab9b49321b132e08c3",
>>>>>>> fe66cec273e0b720f222b665b24f51f6af8b0116
       "version_major": 2,
       "version_minor": 0
      },
      "text/plain": [
       "Output()"
      ]
     },
     "metadata": {},
     "output_type": "display_data"
    }
   ],
   "source": [
    "# Parameters\n",
    "fs = 1000  # Sampling frequency in Hz\n",
    "T = 1 / fs  # Sampling period\n",
    "L = 1000  # Number of samples\n",
    "t = np.arange(0, L) * T  # Create time vector\n",
    "\n",
    "\n",
    "# Output widget for the plots\n",
    "graph_output0 = widgets.Output()\n",
    "\n",
    "def update_plot(selected_frequencies_first):\n",
    "    with graph_output0:\n",
    "        clear_output(wait=True)  # Clear the previous plot\n",
    "        # Generate the signal with the selected frequencies\n",
    "        signal = np.zeros(len(t))\n",
    "        for f in range(selected_frequencies_first[0], selected_frequencies_first[1] + 1):\n",
    "            signal += np.sin(2 * np.pi * f * t)\n",
    "\n",
    "        # Calculate the FFT of the original signal\n",
    "        original_signal_fft = fft(signal)\n",
    "        # Calculate frequencies for the FFT of the original signal\n",
    "        original_freqs = fftfreq(L, T)[:L // 2]\n",
    "        # Calculate magnitude of Fourier coefficients (amplitude) for the original signal\n",
    "        original_magnitude = np.abs(original_signal_fft)[:L // 2]\n",
    "        \n",
    "        # Plotting\n",
    "        fig, axs = plt.subplots(1, 2, figsize=(15, 5))\n",
    "        \n",
    "        # Original signal plot\n",
    "        axs[0].plot(t, signal, color='#00CC96')\n",
    "        axs[0].set_title('Original Signal')\n",
    "        axs[0].set_xlabel('Time (s)')\n",
    "        axs[0].set_ylabel('Amplitude')\n",
    "        axs[0].grid(True)\n",
    "        \n",
    "        # Fourier Transform plot\n",
    "        axs[1].plot(original_freqs, original_magnitude)\n",
    "        axs[1].set_title('Fourier Transformation of Original Signal')\n",
    "        axs[1].set_xlabel('Frequency (Hz)')\n",
    "        axs[1].set_ylabel('Magnitude')\n",
    "        axs[1].grid(True)\n",
    "        \n",
    "        plt.tight_layout()\n",
    "        plt.show()\n",
    "\n",
    "# Create the slider widget\n",
    "frequency_slider = widgets.IntRangeSlider(\n",
    "    value=[5, 10],\n",
    "    min=1,\n",
    "    max=50,\n",
    "    step=1,\n",
    "    description='Frequency Range (Hz)',\n",
    "    style={'description_width': 'initial'},\n",
    "    layout=Layout(width='90%'),\n",
    "    continuous_update=False\n",
    ")\n",
    "\n",
    "\n",
    "def response(change):\n",
    "        fig = update_plot(frequency_slider.value)\n",
    "\n",
    "# Observe changes in the slider and update the plot accordingly\n",
    "frequency_slider.observe(response, names='value')\n",
    "\n",
    "# Style the HTML element\n",
    "html_label = widgets.HTML(\n",
    "    value=\"\"\"\n",
    "        <h2 style='font-weight: bold; font-size: 30px; text-align: center;'>Continuous Time Fourier Transform – CTFT</h2>\n",
    "    \"\"\"\n",
    ")\n",
    "\n",
    "# Display the slider and the outputs\n",
    "vbox_layout = Layout(display='flex', flex_flow='column', align_items='center', width='100%')\n",
    "ui = widgets.VBox([html_label,\n",
    "              frequency_slider,\n",
    "              graph_output0], layout=vbox_layout)\n",
    "\n",
    "out = widgets.interactive_output(update_plot, {'selected_frequencies_first': frequency_slider})\n",
    "\n",
    "clear_output(wait=True)  # Clear the previous plot\n",
    "display(ui, out)\n"
   ]
  },
  {
   "cell_type": "markdown",
   "metadata": {},
   "source": [
    "\n",
    "Λαμβάνοντας δείγματα του $x(t)$ με ρυθμό $f_s=1/T_s$ παράγεται σήμα διακριτού χρόνου $x(nT_s)$. Μαθηματικά το αναπαριστάνουμε ως σειρά συναρτήσεων δέλτα\n",
    "\n",
    "$$\n",
    " \n",
    "x_\\delta (t)=\\sum_{n=-\\infty}^{\\infty}x(nT_s)\\delta(t-nT_s)=x(t)\\sum_{n=-\\infty}^{\\infty}\\delta(t-nT_s)\n",
    " \n",
    "$$\n",
    "\n",
    "με μετασχηματισμό Fourier\n",
    "\n",
    "$$\n",
    " \n",
    "X_\\delta (f)=\\sum_{n=-\\infty}^{\\infty}x(nT_s)e^{-j2\\pi fnT_s}=X(f)*1/T_s\\sum_{n=-\\infty}^{\\infty}\\delta(f-k/T_s)=1/T_s\\sum_{n=-\\infty}^{\\infty}X(f-k/T_s)\n",
    " \n",
    "$$\n",
    "\n",
    "που είναι περιοδική συνάρτηση."
   ]
  },
  {
   "cell_type": "code",
   "execution_count": 16,
   "metadata": {
    "tags": [
     "thebe-init"
    ]
   },
   "outputs": [
    {
     "data": {
      "application/vnd.jupyter.widget-view+json": {
<<<<<<< HEAD
       "model_id": "3c01346595e74080b4b66092934c8fe8",
=======
       "model_id": "0c5ae25833284a9991d566887f88910e",
>>>>>>> fe66cec273e0b720f222b665b24f51f6af8b0116
       "version_major": 2,
       "version_minor": 0
      },
      "text/plain": [
       "VBox(children=(HTML(value=\"\\n        <h2 style='font-weight: bold; font-size: 30px; text-align: center;'>Signa…"
      ]
     },
     "metadata": {},
     "output_type": "display_data"
    },
    {
     "data": {
      "application/vnd.jupyter.widget-view+json": {
<<<<<<< HEAD
       "model_id": "72ca9ab8ba7b4f7795e3452433ff072c",
=======
       "model_id": "8e53b8c6663844648a0e8604f0166d3a",
>>>>>>> fe66cec273e0b720f222b665b24f51f6af8b0116
       "version_major": 2,
       "version_minor": 0
      },
      "text/plain": [
       "Output()"
      ]
     },
     "metadata": {},
     "output_type": "display_data"
    }
   ],
   "source": [
    "# Παράμετροι δειγματοληψίας\n",
    "T = 1 / fs  # Sampling period\n",
    "L = 1000  # Number of samples\n",
    "\n",
    "# Create time vector\n",
    "t = np.arange(0, L) * T\n",
    "\n",
    "def plot_sampled_signal(f_range, n_samples):\n",
    "    # Generate the signal with the selected frequencies\n",
    "    signal = np.zeros(len(t))\n",
    "    for f in range(f_range[0], f_range[1] + 1):\n",
    "        signal += np.sin(2 * np.pi * f * t)\n",
    "    \n",
    "   # Correct downsampling approach\n",
    "    sample_rate = n_samples  # Directly using selected_samples as an integer\n",
    "    downsampling_factor = int(fs / sample_rate)  # Downsampling factor\n",
    "\n",
    "    # Select every nth sample from the original time vector to match the downsampled signal\n",
    "    sample_points = t[::downsampling_factor]\n",
    "\n",
    "    # Downsample the signal by selecting every nth sample\n",
    "    downsampled_signal = signal[::downsampling_factor]\n",
    "\n",
    "    # Recalculate L for the downsampled signal if needed\n",
    "    L_downsampled = len(downsampled_signal)\n",
    "\n",
    "    # Calculate the DFT of the downsampled signal\n",
    "    sampled_signal_fft = fft(downsampled_signal)\n",
    "\n",
    "    # Calculate frequencies for the FFT of the downsampled signal\n",
    "    # Note: The new sampling period is the inverse of the new sampling rate\n",
    "    sampled_freqs = fftfreq(L_downsampled, 1/sample_rate)[:L_downsampled // 2]\n",
    "\n",
    "    # Calculate magnitude of Fourier coefficients (amplitude) for the downsampled signal\n",
    "    sampled_magnitude = np.abs(sampled_signal_fft)[:L_downsampled // 2]\n",
    "\n",
    "    n = len(downsampled_signal)\n",
    "    T = 1 / sample_rate  # Recalculate the sampling period with the selected sample rate\n",
    "\n",
    "    # After calculating the magnitude of Fourier coefficients\n",
    "    sampled_magnitude = np.abs(sampled_signal_fft)[:L_downsampled // 2]\n",
    "\n",
    "    # Create a new frequency vector that includes the replicated frequencies\n",
    "    # First, calculate the original frequency bins for the positive frequencies\n",
    "    original_sampled_freqs = fftfreq(L_downsampled, T)[:L_downsampled // 2]\n",
    "\n",
    "    shifted_freqs_negative = original_sampled_freqs - 1/T  # Shift for -1/Ts\n",
    "    shifted_freqs_positive = original_sampled_freqs + 1/T  # Shift for +1/Ts\n",
    "\n",
    "    # Concatenate the original and shifted (replicated) frequencies and magnitudes\n",
    "    # This includes the original frequencies, and the replications at -1/Ts and +1/Ts\n",
    "    replicated_freqs = np.concatenate([shifted_freqs_negative, original_sampled_freqs, shifted_freqs_positive])\n",
    "    replicated_magnitude = np.concatenate([sampled_magnitude, sampled_magnitude, sampled_magnitude])\n",
    "\n",
    "    # Sort the replicated frequencies and magnitudes in ascending order for proper plotting\n",
    "    sorted_indices = np.argsort(replicated_freqs)\n",
    "    sorted_replicated_freqs = replicated_freqs[sorted_indices]\n",
    "    sorted_replicated_magnitude = replicated_magnitude[sorted_indices]\n",
    "    \n",
    "    # Plotting\n",
    "    fig, axs = plt.subplots(1, 2, figsize=(15, 5))\n",
    "    \n",
    "    axs[0].scatter(sample_points, downsampled_signal, color='#00CC96', s=12)\n",
    "    axs[0].set_title('Sampled Signal')\n",
    "    axs[0].set_xlabel('Time (s)')\n",
    "    axs[0].set_ylabel('Amplitude')\n",
    "    axs[0].grid(True)\n",
    "    \n",
    "    axs[1].plot(sorted_replicated_freqs, sorted_replicated_magnitude, color='#1F77B4')\n",
    "    axs[1].set_title('Fourier Transformation of Sampled Signal')\n",
    "    axs[1].set_xlabel('Frequency (Hz)')\n",
    "    axs[1].set_ylabel('Magnitude')\n",
    "    axs[1].grid(True)  \n",
    "\n",
    "    plt.tight_layout()\n",
    "    plt.show()\n",
    "\n",
    "# Widgets\n",
    "frequency_slider = widgets.IntRangeSlider(\n",
    "    value=[5, 10],\n",
    "    min=1,\n",
    "    max=50,\n",
    "    step=1,\n",
    "    description='Frequency Range (Hz):',\n",
    "    layout=Layout(width='90%'),\n",
    "    style={'description_width': 'initial'},\n",
    "    continuous_update=False\n",
    ")\n",
    "\n",
    "samples_slider = widgets.IntSlider(\n",
    "    value=500,\n",
    "    min=100,\n",
    "    max=1000,\n",
    "    step=25,\n",
    "    description='Samples:',\n",
    "    layout=Layout(width='90%'),\n",
    "    style={'description_width': 'initial'},\n",
    "    continuous_update=False\n",
    ")\n",
    "\n",
    "html_label = widgets.HTML(\n",
    "    value=\"\"\"\n",
    "        <h2 style='font-weight: bold; font-size: 30px; text-align: center;'>Signal Reconstruction in Digital Signal Processing</h2>\n",
    "    \"\"\"\n",
    ")\n",
    "\n",
    "vbox_layout = Layout(display='flex', flex_flow='column', align_items='center')\n",
    "ui = widgets.VBox([html_label, frequency_slider, samples_slider], layout=vbox_layout)\n",
    "\n",
    "out = widgets.interactive_output(plot_sampled_signal, {'f_range': frequency_slider, 'n_samples': samples_slider})\n",
    "\n",
    "clear_output(wait=True)  # Clear the previous plot\n",
    "display(ui, out)\n"
   ]
  },
  {
   "cell_type": "markdown",
   "metadata": {},
   "source": [
    "Για βαθυπερατά σήματα $x(t)$ εύρους ζώνης W, με την υπόθεση ότι ο ρυθμός δειγματοληψίας $fs ≥\n",
    "2W$, ισχύει ότι $X(f) = T_s X_\\delta(f)$, $0 ≤ f ≤ W$, δηλαδή, το σήμα $X(f)$ προκύπτει μετά από διάβαση του\n",
    "δειγματοληπτημένου $x_\\delta(t)$ μέσω ιδανικού βαθυπερατού φίλτρου κέρδους $T_s$. Από το προηγούμενο\n",
    "σχήμα γίνεται φανερό ότι εάν η δειγματοληψία γίνει με συχνότητα μικρότερη του διπλασίου της\n",
    "ανώτερης συχνότητας $W$ του σήματος (υποδειγμάτιση – undersampling), τότε εμφανίζονται στην\n",
    "περιοχή συχνοτήτων του σήματος «είδωλα» φάσματος από ανώτερες συχνότητες που δεν\n",
    "επιτρέπουν την ακριβή αποκατάσταση του αρχικού σήματος συνεχούς χρόνου. Το φαινόμενο αυτό\n",
    "ονομάζεται __αναδίπλωση__ ή __επικάλυψη__ (aliasing), το δε σφάλμα κατά την αποκατάσταση του\n",
    "αρχικού σήματος αποκαλείται σφάλμα αναδίπλωσης (aliasing error).\n",
    "Η δειγματοληψία στο πεδίο του χρόνου αποτελεί τη βάση για τον ορισμό του μετασχηματισμού\n",
    "Fourier διακριτού χρόνου (Discrete Time Fourier Transform – DTFT). Για μια σειρά διακριτών\n",
    "αριθμών $x[n]$, ο μετασχηματισμός Fourier διακριτού χρόνου ορίζεται ως:"
   ]
  },
  {
   "cell_type": "markdown",
   "metadata": {},
   "source": [
    "$$ \n",
    " \n",
    "X_d(\\phi) \\triangleq \\sum_{n=-\\infty}^{\\infty} x[n] \\exp (-j 2 \\pi n \\phi)\n",
    " \n",
    "$$"
   ]
  },
  {
   "cell_type": "markdown",
   "metadata": {},
   "source": [
    "O DTFT είναι περιοδική συνάρτηση με περίοδο $1$, επομένως, αρκεί ο υπολογισμός του στο\n",
    "διάστημα συχνοτήτων $[0,1]$ ή ισοδύναμα $[-½,½]$. Να σημειωθεί ότι ο DTFT, παρότι προκύπτει από\n",
    "μια σειρά διακριτών αριθμών $x[n]$, είναι συνεχής συνάρτηση της μεταβλητής $\\phi$ όπως παραστατικά\n",
    "φαίνεται στο επόμενο σχήμα."
   ]
  },
  {
   "cell_type": "code",
   "execution_count": 17,
   "metadata": {
    "tags": [
     "thebe-init"
    ]
   },
   "outputs": [
    {
     "data": {
      "application/vnd.jupyter.widget-view+json": {
<<<<<<< HEAD
       "model_id": "315bd1769d274d628941c803dc1cc59d",
=======
       "model_id": "0cbc9ad508774ef1bf86026e3beb94da",
>>>>>>> fe66cec273e0b720f222b665b24f51f6af8b0116
       "version_major": 2,
       "version_minor": 0
      },
      "text/plain": [
       "VBox(children=(HTML(value=\"\\n        <h2 style='font-weight: bold; font-size: 30px; text-align: center;'>Discr…"
      ]
     },
     "metadata": {},
     "output_type": "display_data"
    },
    {
     "data": {
      "application/vnd.jupyter.widget-view+json": {
<<<<<<< HEAD
       "model_id": "478ec17fe9994ace8d13f77d0c5cbf58",
=======
       "model_id": "6eceb00892cf4b3896e020b5e8a1c5f2",
>>>>>>> fe66cec273e0b720f222b665b24f51f6af8b0116
       "version_major": 2,
       "version_minor": 0
      },
      "text/plain": [
       "Output()"
      ]
     },
     "metadata": {},
     "output_type": "display_data"
    }
   ],
   "source": [
    "# Παράμετροι δειγματοληψίας\n",
    "T = 1 / fs  # Sampling period\n",
    "L = 1000  # Number of samples\n",
    "\n",
    "# Create time vector\n",
    "t = np.arange(0, L) * T\n",
    "\n",
    "def plot_sampled_signal(selected_frequencies, selected_samples):\n",
    "    # Generate the signal with the selected frequencies\n",
    "    signal = np.zeros(len(t))\n",
    "    for f in range(selected_frequencies[0], selected_frequencies[1] + 1):\n",
    "        signal += np.sin(2 * np.pi * f * t)\n",
    "    \n",
    "   # Correct downsampling approach\n",
    "    sample_rate = selected_samples  # Directly using selected_samples as an integer\n",
    "    downsampling_factor = int(fs / sample_rate)  # Downsampling factor\n",
    "\n",
    "    # Downsample the signal by selecting every nth sample\n",
    "    downsampled_signal = signal[::downsampling_factor]\n",
    "\n",
    "    # Recalculate L for the downsampled signal if needed\n",
    "    L_downsampled = len(downsampled_signal)\n",
    "\n",
    "    # Calculate the DFT of the downsampled signal\n",
    "    sampled_signal_fft = fft(downsampled_signal)\n",
    "\n",
    "    # Calculate magnitude of Fourier coefficients (amplitude) for the downsampled signal\n",
    "    sampled_magnitude = np.abs(sampled_signal_fft)[:L_downsampled // 2]\n",
    "\n",
    "    n = len(downsampled_signal)\n",
    "    T = 1 / sample_rate  # Recalculate the sampling period with the selected sample rate\n",
    "\n",
    "    # After calculating the magnitude of Fourier coefficients\n",
    "    sampled_magnitude = np.abs(sampled_signal_fft)[:L_downsampled // 2]\n",
    "\n",
    "    # Create a new frequency vector that includes the replicated frequencies\n",
    "    # First, calculate the original frequency bins for the positive frequencies\n",
    "    original_sampled_freqs = fftfreq(L_downsampled, T)[:L_downsampled // 2]\n",
    "\n",
    "    shifted_freqs_negative = original_sampled_freqs - 1/T  # Shift for -1/Ts\n",
    "    shifted_freqs_positive = original_sampled_freqs + 1/T  # Shift for +1/Ts\n",
    "\n",
    "    # Concatenate the original and shifted (replicated) frequencies and magnitudes\n",
    "    # This includes the original frequencies, and the replications at -1/Ts and +1/Ts\n",
    "    replicated_freqs = np.concatenate([shifted_freqs_negative, original_sampled_freqs, shifted_freqs_positive])\n",
    "    replicated_magnitude = np.concatenate([sampled_magnitude, sampled_magnitude, sampled_magnitude])\n",
    "\n",
    "    # Sort the replicated frequencies and magnitudes in ascending order for proper plotting\n",
    "    sorted_indices = np.argsort(replicated_freqs)\n",
    "    sorted_replicated_freqs = replicated_freqs[sorted_indices]\n",
    "    sorted_replicated_magnitude = replicated_magnitude[sorted_indices]\n",
    "\n",
    "    # Generate an array of sample indices for the downsampled signal\n",
    "    sample_indices = np.arange(len(downsampled_signal))\n",
    "\n",
    "    # Normalize the frequency values\n",
    "    normalized_freqs = original_sampled_freqs / (1/T)\n",
    "\n",
    "    # Since you previously concatenated and sorted for replication, ensure to apply normalization there as well\n",
    "    normalized_replicated_freqs = np.concatenate([\n",
    "        (shifted_freqs_negative / (1/T)),  # Normalize -1/Ts shifted frequencies\n",
    "        normalized_freqs,  # Already normalized original frequencies\n",
    "        (shifted_freqs_positive / (1/T))   # Normalize +1/Ts shifted frequencies\n",
    "    ])\n",
    "\n",
    "    # Sort the normalized and replicated frequencies for proper plotting\n",
    "    sorted_indices = np.argsort(normalized_replicated_freqs)\n",
    "    sorted_normalized_replicated_freqs = normalized_replicated_freqs[sorted_indices]\n",
    "    sorted_replicated_magnitude = replicated_magnitude[sorted_indices]\n",
    "\n",
    "    # Create the plots\n",
    "    fig, axs = plt.subplots(1, 2, figsize=(15, 5))\n",
    "    \n",
    "    # Plot the downsampled signal\n",
    "    axs[0].scatter(sample_indices, downsampled_signal, color='#00CC96', s=12)\n",
    "    axs[0].set_title('Sampled Signal')\n",
    "    axs[0].set_xlabel('Sample Number')\n",
    "    axs[0].set_ylabel('Amplitude')\n",
    "    axs[0].grid(True)\n",
    "\n",
    "    # Plot the Fourier Transform of the downsampled signal\n",
    "    axs[1].plot(sorted_normalized_replicated_freqs, sorted_replicated_magnitude, color='#1F77B4')\n",
    "    axs[1].set_title('Normalized Fourier Transformation of Sampled Signal')\n",
    "    axs[1].set_xlabel('Normalized Frequency (f/fs)')\n",
    "    axs[1].set_ylabel('Magnitude')\n",
    "    axs[1].grid(True)\n",
    "    \n",
    "    plt.tight_layout()\n",
    "    plt.show()\n",
    "\n",
    "# IPyWidgets sliders\n",
    "frequency_slider = widgets.IntRangeSlider(\n",
    "    value=[5, 10],\n",
    "    min=1,\n",
    "    max=50,\n",
    "    step=1,\n",
    "    description='Frequency range (Hz):',\n",
    "    layout=Layout(width='90%'),\n",
    "    style={'description_width': 'initial'},\n",
    "    continuous_update=False\n",
    ")\n",
    "\n",
    "samples_slider = widgets.IntSlider(\n",
    "    value=500,\n",
    "    min=100,\n",
    "    max=1000,\n",
    "    step=25,\n",
    "    description='Samples:',\n",
    "    layout=Layout(width='90%'),\n",
    "    style={'description_width': 'initial'},\n",
    "    continuous_update=False\n",
    ")\n",
    "\n",
    "html_label = widgets.HTML(\n",
    "    value=\"\"\"\n",
    "        <h2 style='font-weight: bold; font-size: 30px; text-align: center;'>Discrete Time Fourier Transform – DTFT</h2>\n",
    "    \"\"\"\n",
    ")\n",
    "\n",
    "# Display the sliders and output\n",
    "vbox_layout = Layout(display='flex', flex_flow='column', align_items='center')\n",
    "ui = widgets.VBox([html_label, frequency_slider, samples_slider], layout=vbox_layout)\n",
    "\n",
    "# Interaction between widgets and function\n",
    "out = widgets.interactive_output(\n",
    "    plot_sampled_signal, \n",
    "    {'selected_frequencies': frequency_slider, 'selected_samples': samples_slider}\n",
    ")\n",
    "\n",
    "clear_output(wait=True)  # Clear the previous plot\n",
    "display(ui, out)\n"
   ]
  },
  {
   "cell_type": "markdown",
   "metadata": {},
   "source": [
    "Με τη σειρά των διακριτών αριθμών να προκύπτει ως αποτέλεσμα δειγματοληψίας, $x[n]=x(nT_s)$, ο\n",
    "DTFT και ο μετασχηματισμός Fourier $X_\\delta(f)$ του δειγματοληπτημένου σήματος συνδέονται μέσω\n",
    "της αντιστοιχίας $\\phi ↔ f/f_s$. Η συνήθης πρακτική είναι να παριστάνουμε τον λόγο $f/f_s$ ως\n",
    "κανονικοποιημένη συχνότητα $\\phi$ ($f_D$, στις σημειώσεις σας) και οι πραγματικές συχνότητες να\n",
    "προκύπτουν ως πολλαπλάσιά της (συνήθως κλασματικά). Για τη σύνδεση του DTFT με τον μετασχηματισμό Fourier $X(f)$ του σήματος πρέπει επιπλέον να γίνει αναγωγή στην περίοδο δειγματοληψίας με πολλαπλασιασμό επί $T_s$ (ή διαίρεση με $f_s$).\n",
    "Κατ΄ αναλογία με τη δειγματοληψία σημάτων στο χρόνο μπορούμε να κάνουμε δειγματοληψία στο\n",
    "πεδίο της συχνότητας λαμβάνοντας διακριτές τιμές $X(kf_o)$ του μετασχηματισμού Fourier που\n",
    "αντιστοιχούν σε ανάλυση συχνότητας $f_o=1/T_o$. Αυτό ισοδυναμεί με περιοδική επανάληψη του\n",
    "σήματος συνεχούς χρόνου $x(t)$ κάθε $Τ_ο$, αφού το περιοδικό σήμα"
   ]
  },
  {
   "cell_type": "markdown",
   "metadata": {},
   "source": [
    "$$\n",
    " \n",
    "x_p(t)=\\sum_{n=-\\infty}^{\\infty} x\\left(t-n T_{o}\\right)\n",
    " \n",
    "$$"
   ]
  },
  {
   "cell_type": "markdown",
   "metadata": {},
   "source": [
    "έχει μετασχηματισμό Fourier"
   ]
  },
  {
   "cell_type": "markdown",
   "metadata": {},
   "source": [
    "$$\n",
    " \n",
    "X(f) \\sum_{n=-\\infty}^{\\infty} \\exp \\left(-j 2 \\pi f n T_{o}\\right)=X(f) \\frac{1}{T_{o}} \\sum_{k=-\\infty}^{\\infty} \\delta\\left(f-k / T_{o}\\right)=\\frac{1}{T_{o}} \\sum_{k=-\\infty}^{\\infty} X\\left(k / T_{o}\\right) \\delta\\left(f-k / T_{o}\\right)\n",
    " \n",
    "$$"
   ]
  },
  {
   "cell_type": "markdown",
   "metadata": {},
   "source": [
    "Επομένως, $X[k] = X(kf_o)/Τ_o$ είναι οι συντελεστές του αναπτύγματος σε σειρά Fourier.του περιοδικού\n",
    "σήματος $x_p(t)$. Προφανώς, για σήματα $x(t)$ πεπερασμένης διάρκειας, όπου $x(t)=0$ για $|t| ≥ T$, με την\n",
    "υπόθεση ότι η περίοδος $T_o ≥ 2T$, ισχύει ότι $x(t) = x_p(t)$ για $|t| ≤ T$.\n",
    "Στην πράξη, τα σήματα έχουν πολύ μεγάλη διάρκεια για να μπορέσουμε να τα αναλύσουμε στην\n",
    "ολότητά τους. Έτσι εφαρμόζουμε ένα ορθογωνικό χρονικό παράθυρο, ώστε να διατηρήσουμε μόνο\n",
    "το πιο σημαντικό τους μέρος για το διάστημα παρατήρησης και $x(t)= 0$, αλλού. Κατά τον\n",
    "υπολογισμό του DTFT $X_d(\\phi)$ ενός τέτοιου ακρωτηριασμένου σήματος, αντί του απείρου\n",
    "αθροίσματος, περιοριζόμαστε σε μια πεπερασμένου μήκους $L$ σειρά αριθμών $x[n]$, οπότε"
   ]
  },
  {
   "cell_type": "markdown",
   "metadata": {},
   "source": [
    "$$ \n",
    " \n",
    "X_d(\\phi)=\\sum_{n=0}^{L-1} x[n] \\exp (-j 2 \\pi n \\phi)\n",
    " \n",
    "$$"
   ]
  },
  {
   "cell_type": "markdown",
   "metadata": {},
   "source": [
    "H δειγματοληψία του $X_d(\\phi)$ στο πεδίο συχνότητας σε $Ν$ ισαπέχουσες κανονικοποιημένες συχνότητες $0$, $1/Ν$, $2/Ν$, $…$, $(Ν-1)/Ν$, δίνει"
   ]
  },
  {
   "cell_type": "markdown",
   "metadata": {},
   "source": [
    "$$ \n",
    " \n",
    "X[k]=X_{d}\\left(\\frac{k}{N}\\right)=\\sum_{n=0}^{N-1} x[n] \\exp \\left(-j 2 \\pi n \\frac{k}{N}\\right), \\quad 0 \\leq k \\leq N-1\n",
    " \n",
    "$$"
   ]
  },
  {
   "cell_type": "markdown",
   "metadata": {},
   "source": [
    "όπου, εάν $N≥L$, θέτουμε $x[n]=0$ για $n≥L$. Η τελευταία σχέση αναγνωρίζεται ως ο διακριτός μετασχηματισμός Fourier (Discrete Fourier Transform – DFT), ο οποίος για μια πεπερασμένη σειρά $xn$, $n=0$, $1$, $…$, $N-1$, ορίζεται ως:"
   ]
  },
  {
   "cell_type": "markdown",
   "metadata": {},
   "source": [
    "$$ \n",
    " \n",
    "X_{k} \\triangleq \\sum_{n=0}^{N-1} x_{n} \\exp \\left(-j 2 \\pi n \\frac{k}{N}\\right), \\quad 0 \\leq k \\leq N-1\n",
    " \n",
    "$$"
   ]
  },
  {
   "cell_type": "markdown",
   "metadata": {},
   "source": [
    "και ο αντίστροφός του είναι"
   ]
  },
  {
   "cell_type": "markdown",
   "metadata": {},
   "source": [
    "$$ \n",
    " \n",
    "x_{n}=\\frac{1}{N} \\sum_{k=0}^{N-1} X_{k} \\exp \\left(j 2 \\pi n \\frac{k}{N}\\right), \\quad 0 \\leq n \\leq N-1\n",
    " \n",
    "$$"
   ]
  },
  {
   "cell_type": "markdown",
   "metadata": {},
   "source": [
    "Η $X_d(\\phi)$ ως DTFT είναι περιοδική συνάρτηση και εάν η αρχική σειρά xn ήταν περιοδική (και δεν\n",
    "εφαρμόζαμε το παράθυρο), τότε η $X_d(\\phi)$ θα ήταν μηδέν παντού εκτός των σημείων της\n",
    "δειγματοληψίας $k/Ν$. Δηλαδή, εάν θεωρήσουμε μια πεπερασμένου μήκους σειρά αριθμών που\n",
    "επαναλαμβάνεται περιοδικά, o διακριτού χρόνου μετασχηματισμός Fourier της (DTFT) είναι και\n",
    "αυτός περιοδικός και διακριτός. Επιπλέον, ο DFT και ο αντίστροφός του IDFT, εάν δεν\n",
    "περιορίζαμε τους δείκτες $n$ και $k$ μεταξύ $0$ και $N-1$, θα ήταν περιοδικές συναρτήσεις. Άρα η\n",
    "πεπερασμένη σειρά xn μπορεί να θεωρηθεί ως ένα περιοδικό σήμα διακριτού χρόνου ιδωμένο μόνο\n",
    "κατά τη διάρκεια μιας περιόδου και ο DFT, η σειρά $X_k$, ως τα δείγματα με ανάλυση $1/Ν$ του DTFT\n",
    "$X_d(\\phi)$ στο πεδίο κανονικοποιημένων συχνοτήτων $[0,1]$, όπως φαίνεται στο επόμενο σχήμα."
   ]
  },
  {
   "cell_type": "code",
   "execution_count": 18,
   "metadata": {
    "tags": [
     "thebe-init"
    ]
   },
   "outputs": [
    {
     "data": {
      "application/vnd.jupyter.widget-view+json": {
<<<<<<< HEAD
       "model_id": "91772fa77cb94b7eaf47720dd08c9782",
=======
       "model_id": "3e16e5a111b74c9aa4c03d0c7355213b",
>>>>>>> fe66cec273e0b720f222b665b24f51f6af8b0116
       "version_major": 2,
       "version_minor": 0
      },
      "text/plain": [
       "VBox(children=(HTML(value=\"\\n        <h2 style='font-weight: bold; font-size: 30px; text-align: center;'>Prope…"
      ]
     },
     "metadata": {},
     "output_type": "display_data"
    },
    {
     "data": {
      "application/vnd.jupyter.widget-view+json": {
<<<<<<< HEAD
       "model_id": "7c9fb1a8e41341ca9a72325834fe9de9",
=======
       "model_id": "cf1d991ed9bb46ceb7fb5eaaf1a2d713",
>>>>>>> fe66cec273e0b720f222b665b24f51f6af8b0116
       "version_major": 2,
       "version_minor": 0
      },
      "text/plain": [
       "Output()"
      ]
     },
     "metadata": {},
     "output_type": "display_data"
    }
   ],
   "source": [
    "# Παράμετροι δειγματοληψίας\n",
    "T = 1 / fs  # Sampling period\n",
    "L = 1000  # Number of samples\n",
    "\n",
    "# Create time vector\n",
    "t = np.arange(0, L) * T\n",
    "\n",
    "def plot_signals(f_range, samples, selected_N):\n",
    "    # Generate the signal with the selected frequencies\n",
    "    signal = np.zeros(len(t))\n",
    "    for f in range(f_range[0], f_range[1] + 1):\n",
    "        signal += np.sin(2 * np.pi * f * t)\n",
    "    \n",
    "   # Correct downsampling approach\n",
    "    sample_rate = samples  # Directly using samples as an integer\n",
    "    downsampling_factor = int(fs / sample_rate)  # Downsampling factor\n",
    "\n",
    "    # Downsample the signal by selecting every nth sample\n",
    "    downsampled_signal = signal[::downsampling_factor]\n",
    "\n",
    "    # Recalculate L for the downsampled signal if needed\n",
    "    L_downsampled = len(downsampled_signal)\n",
    "\n",
    "    # Calculate the DFT of the downsampled signal\n",
    "    sampled_signal_fft = fft(downsampled_signal)\n",
    "\n",
    "    # Calculate magnitude of Fourier coefficients (amplitude) for the downsampled signal\n",
    "    sampled_magnitude = np.abs(sampled_signal_fft)[:L_downsampled // 2]\n",
    "\n",
    "    n = len(downsampled_signal)\n",
    "    T = 1 / sample_rate  # Recalculate the sampling period with the selected sample rate\n",
    "\n",
    "    # After calculating the magnitude of Fourier coefficients\n",
    "    sampled_magnitude = np.abs(sampled_signal_fft)[:L_downsampled // 2]\n",
    "\n",
    "    # Create a new frequency vector that includes the replicated frequencies\n",
    "    # First, calculate the original frequency bins for the positive frequencies\n",
    "    original_sampled_freqs = fftfreq(L_downsampled, T)[:L_downsampled // 2]\n",
    "\n",
    "    shifted_freqs_negative = original_sampled_freqs - 1/T  # Shift for -1/Ts\n",
    "    shifted_freqs_positive = original_sampled_freqs + 1/T  # Shift for +1/Ts\n",
    "\n",
    "    # Concatenate the original and shifted (replicated) frequencies and magnitudes\n",
    "    # This includes the original frequencies, and the replications at -1/Ts and +1/Ts\n",
    "    replicated_freqs = np.concatenate([shifted_freqs_negative, original_sampled_freqs, shifted_freqs_positive])\n",
    "    replicated_magnitude = np.concatenate([sampled_magnitude, sampled_magnitude, sampled_magnitude])\n",
    "\n",
    "    # Sort the replicated frequencies and magnitudes in ascending order for proper plotting\n",
    "    sorted_indices = np.argsort(replicated_freqs)\n",
    "    sorted_replicated_freqs = replicated_freqs[sorted_indices]\n",
    "    sorted_replicated_magnitude = replicated_magnitude[sorted_indices]\n",
    "\n",
    "    # Generate an array of sample indices for the downsampled signal\n",
    "    sample_indices = np.arange(len(downsampled_signal))\n",
    "\n",
    "    # Normalize the frequency values\n",
    "    normalized_freqs = original_sampled_freqs / (1/T)\n",
    "\n",
    "    # Since you previously concatenated and sorted for replication, ensure to apply normalization there as well\n",
    "    normalized_replicated_freqs = np.concatenate([\n",
    "        (shifted_freqs_negative / (1/T)),  # Normalize -1/Ts shifted frequencies\n",
    "        normalized_freqs,  # Already normalized original frequencies\n",
    "        (shifted_freqs_positive / (1/T))   # Normalize +1/Ts shifted frequencies\n",
    "    ])\n",
    "\n",
    "    # Sort the normalized and replicated frequencies for proper plotting\n",
    "    sorted_indices = np.argsort(normalized_replicated_freqs)\n",
    "    sorted_normalized_replicated_freqs = normalized_replicated_freqs[sorted_indices]\n",
    "    sorted_replicated_magnitude = replicated_magnitude[sorted_indices]\n",
    "\n",
    "    # Adjust the sampling interval for selecting frequencies and magnitudes\n",
    "    sampled_indices = np.arange(0, len(sorted_normalized_replicated_freqs), selected_N)\n",
    "    sampled_normalized_replicated_freqs = sorted_normalized_replicated_freqs[sampled_indices]\n",
    "    sampled_replicated_magnitude = sorted_replicated_magnitude[sampled_indices]\n",
    "    \n",
    "    # Create the plots\n",
    "    fig, axs = plt.subplots(1, 2, figsize=(15, 5))\n",
    "\n",
    "    # Time-domain signal plot\n",
    "    axs[0].scatter(sample_indices, downsampled_signal, color='#00CC96', s=12)\n",
    "    axs[0].set_title('Sampled Signal')\n",
    "    axs[0].set_xlabel('Sample Number')\n",
    "    axs[0].set_ylabel('Amplitude')\n",
    "    axs[0].grid(True)\n",
    "\n",
    "    \n",
    "    axs[1].stem(sampled_normalized_replicated_freqs, sampled_replicated_magnitude, linefmt='#1F77B4', markerfmt='o', basefmt=\" \")\n",
    "    axs[1].set_title('Sampled Normalized Fourier Transformation')\n",
    "    axs[1].set_xlabel('Normalized Frequency (f/fs)')\n",
    "    axs[1].set_ylabel('Magnitude')\n",
    "    axs[1].grid(True)\n",
    "\n",
    "    plt.tight_layout()\n",
    "    plt.show()\n",
    "\n",
    "# Define interactive widgets\n",
    "frequency_slider = widgets.IntRangeSlider(\n",
    "    value=[5, 40],\n",
    "    min=1,\n",
    "    max=51,\n",
    "    step=1,\n",
    "    description='Frequency range (Hz):',\n",
    "    layout=Layout(width='90%'),\n",
    "    style={'description_width': 'initial'}\n",
    ")\n",
    "\n",
    "samples_slider = widgets.IntSlider(\n",
    "    value=500,\n",
    "    min=100,\n",
    "    max=1000,\n",
    "    step=25,\n",
    "    description='Samples:',\n",
    "    layout=Layout(width='90%'),\n",
    "    style={'description_width': 'initial'}\n",
    ")\n",
    "\n",
    "N_slider = widgets.IntSlider(\n",
    "    value=1,\n",
    "    min=1,\n",
    "    max=25,\n",
    "    step=1,\n",
    "    description='N:',\n",
    "    layout=Layout(width='90%'),\n",
    "    style={'description_width': 'initial'}\n",
    ")\n",
    "\n",
    "html_label = widgets.HTML(\n",
    "    value=\"\"\"\n",
    "        <h2 style='font-weight: bold; font-size: 30px; text-align: center;'>Properties of the Discrete Fourier Transform in Digital Signal Processing</h2>\n",
    "    \"\"\"\n",
    ")\n",
    "\n",
    "# Display the sliders and output\n",
    "vbox_layout = Layout(display='flex', flex_flow='column', align_items='center')\n",
    "ui = widgets.VBox([html_label, frequency_slider, samples_slider, N_slider], layout=vbox_layout)\n",
    "out = widgets.interactive_output(plot_signals, {'f_range': frequency_slider, 'samples': samples_slider, 'selected_N': N_slider})\n",
    "\n",
    "# Display the widgets and output\n",
    "clear_output(wait=True)  # Clear the previous plot\n",
    "display(ui, out)\n"
   ]
  },
  {
   "cell_type": "markdown",
   "metadata": {},
   "source": [
    "#### Φασματική Ανάλυση\n",
    "Για τον υπολογισμό της ενέργειας ή ισχύος της κυματομορφής $x(t)$, ανάλογα με την περίπτωση\n",
    "σήματος, ισχύει"
   ]
  },
  {
   "cell_type": "markdown",
   "metadata": {},
   "source": [
    "$$\n",
    " \n",
    "E_{X}=\\int_{-\\infty}^{\\infty} x^{2}(t) d t=\\int_{-\\infty}^{\\infty}|X(f)|^{2} d f\n",
    " \n",
    "$$"
   ]
  },
  {
   "cell_type": "markdown",
   "metadata": {},
   "source": [
    "$$ \n",
    " \n",
    "P_{X}=\\lim _{T \\rightarrow \\infty} \\frac{1}{T} \\int_{-T / 2}^{T / 2} x^{2}(t) d t=\\int_{-\\infty}^{\\infty} S_{X}(f) d f\n",
    " \n",
    "$$"
   ]
  },
  {
   "cell_type": "markdown",
   "metadata": {},
   "source": [
    "όπου για σήματα ισχύος $S_Χ(f)$ είναι η πυκνότητα φάσματος ισχύος (Power Spectral Density – PSD)\n",
    "της $x(t)$. Για σήματα διακριτού χρόνου που προκύπτουν από δειγματοληψία της $x(t)$ με περίοδο $T_s$,\n",
    "οι αντίστοιχες σχέσεις υπολογισμό της ενέργειας ή ισχύος γίνονται"
   ]
  },
  {
   "cell_type": "markdown",
   "metadata": {},
   "source": [
    "$$ \n",
    " \n",
    "E_{X}=T_{s} \\sum_{n=-\\infty}^{\\infty} x^{2}[n]\n",
    " \n",
    "$$"
   ]
  },
  {
   "cell_type": "markdown",
   "metadata": {},
   "source": [
    "$$ \n",
    " \n",
    "P_{X}=\\lim _{N \\rightarrow \\infty} \\frac{1}{2 N+1} \\sum_{n=-N}^{N} x^{2}[n]\n",
    " \n",
    "$$"
   ]
  },
  {
   "cell_type": "markdown",
   "metadata": {},
   "source": [
    "Ένας απλός τρόπος να εκτιμηθεί η πυκνότητα φάσματος ισχύος της κυματομορφής $x(t)$ είναι να\n",
    "ληφθεί ο DTFT των δειγμάτων του σήματος και μετά να υψωθεί στο τετράγωνο το μέτρο του\n",
    "αποτελέσματος. Αυτός ο εκτιμητής αποκαλείται περιοδόγραμμα (periodogram). Το περιοδόγραμμα\n",
    "ενός πεπερασμένου μήκους $L$ σήματος $x[n]$ ορίζεται ως"
   ]
  },
  {
   "cell_type": "markdown",
   "metadata": {},
   "source": [
    "$$ \n",
    " \n",
    "P_{x x}(f) \\triangleq \\frac{\\left|X_{d}\\left(f / f_{s}\\right)\\right|^{2}}{f_{s} L}\n",
    " \n",
    "$$"
   ]
  },
  {
   "cell_type": "markdown",
   "metadata": {},
   "source": [
    "όπου $X_d(\\phi)$ o DTFT του σήματος. Με το μήκος $L$ να τείνει στο άπειρο, το περιοδόγραμμα $P_{xx}(f)$\n",
    "τείνει στην πυκνότητα φάσματος ισχύος $S_Χ(f)$. Ο υπολογισμός του περιοδογράμματος σε\n",
    "πεπερασμένο πλήθος συχνοτήτων $kf_s/Ν$, $k=0$, $1$, $…$ , $Ν$ δίνει"
   ]
  },
  {
   "cell_type": "markdown",
   "metadata": {},
   "source": [
    "$$ \n",
    " \n",
    "P_{x x}[k]=\\frac{\\left|X_{k}\\right|^{2}}{f_{s} L}, \\quad k=0,1, \\ldots, N-1\n",
    " \n",
    "$$"
   ]
  },
  {
   "cell_type": "markdown",
   "metadata": {},
   "source": [
    "όπου $X_k$ και ο DFT της πεπερασμένου μήκους $L$ σειράς δειγμάτων του σήματος. Η ισχύς του\n",
    "σήματος είναι τότε"
   ]
  },
  {
   "cell_type": "markdown",
   "metadata": {},
   "source": [
    "$$ \n",
    " \n",
    "P_{X}=\\frac{1}{f_{s} L} \\sum_{k=0}^{N-1}\\left|X_{k}\\right|^{2} f_{o}=\\frac{1}{N L} \\sum_{k=0}^{N-1}\\left|X_{k}\\right|^{2}=\\frac{1}{L} \\sum_{n=0}^{L-1}\\left|x_{n}\\right|^{2}\n",
    " \n",
    "$$"
   ]
  },
  {
   "cell_type": "markdown",
   "metadata": {},
   "source": [
    "όπου η τελευταία ισότητα προκύπτει από το θεώρημα Parseval, που για την περίπτωση του DFT\n",
    "εκφράζεται ως:"
   ]
  },
  {
   "cell_type": "markdown",
   "metadata": {},
   "source": [
    "$$ \n",
    " \n",
    "\\sum_{n=0}^{N-1}\\left|x_{n}\\right|^{2}=\\frac{1}{N} \\sum_{k=0}^{N-1}\\left|X_{k}\\right|^{2}\n",
    " \n",
    "$$"
   ]
  },
  {
   "cell_type": "markdown",
   "metadata": {},
   "source": [
    "Στην ειδική περίπτωση περιοδικών σημάτων έχουμε"
   ]
  },
  {
   "cell_type": "markdown",
   "metadata": {},
   "source": [
    "$$ \n",
    " \n",
    "S_x(f) = \\sum_{k=-\\infty}^{\\infty} |X[k]|^2 \\delta(f - k/T_0)\n",
    " \n",
    "$$"
   ]
  },
  {
   "cell_type": "markdown",
   "metadata": {},
   "source": [
    "$$ \n",
    " \n",
    "P_x = \\sum_{k=-\\infty}^{\\infty} |X[k]|^2\n",
    " \n",
    "$$"
   ]
  },
  {
   "cell_type": "markdown",
   "metadata": {},
   "source": [
    "όπου $X[k]$ οι συντελεστές του αναπτύγματος σε σειρά Fourier και $T_o$ η περίοδος του σήματος."
   ]
  },
  {
   "cell_type": "markdown",
   "metadata": {},
   "source": [
    "## Μέρος 3:  Εφαρμογή Α"
   ]
  },
  {
   "cell_type": "markdown",
   "metadata": {},
   "source": [
    "``````{dropdown} Code\n",
    "\n",
    "`````{tab} Python\n",
    "<div class=\"cell docutils container\">\n",
    "<div class=\"cell_input docutils container\">\n",
    "<div class=\"highlight-ipython3 notranslate\"><div class=\"highlight\"><pre><span></span><span class=\"n\">s</span><span class=\"o\">=</span><span class=\"mi\">2</span>\n",
    "<span class=\"nb\">print</span><span class=\"p\">(</span><span class=\"s1\">&#39;s =&#39;</span><span class=\"p\">,</span><span class=\"n\">s</span><span class=\"p\">)</span>\n",
    "</pre></div>\n",
    "</div>\n",
    "</div>\n",
    "</div>\n",
    "`````\n",
    "`````{tab} Matlab\n",
    "````matlab\n",
    "s = 2;\n",
    "disp(['s = ', num2str(s)]);\n",
    "````\n",
    "`````\n",
    "\n",
    "``````"
   ]
  },
  {
   "cell_type": "code",
   "execution_count": 19,
   "metadata": {
    "tags": [
     "thebe-init"
    ]
   },
   "outputs": [
    {
     "data": {
      "application/vnd.jupyter.widget-view+json": {
<<<<<<< HEAD
       "model_id": "f6835b047e284845b99588f156e336ae",
=======
       "model_id": "9905398416e3476ba3e6e6768c9ad8c7",
>>>>>>> fe66cec273e0b720f222b665b24f51f6af8b0116
       "version_major": 2,
       "version_minor": 0
      },
      "text/plain": [
       "VBox(children=(HTML(value=\"\\n        <h2 style='font-weight: bold; font-size: 30px; text-align: center;'>Μέρος…"
      ]
     },
     "metadata": {},
     "output_type": "display_data"
    },
    {
     "data": {
      "application/vnd.jupyter.widget-view+json": {
<<<<<<< HEAD
       "model_id": "082f096c62fc4c65a2c11e8e6d52e2b6",
=======
       "model_id": "f2149bd94bcb43abb281dbbeb3800e60",
>>>>>>> fe66cec273e0b720f222b665b24f51f6af8b0116
       "version_major": 2,
       "version_minor": 0
      },
      "text/plain": [
       "Output()"
      ]
     },
     "metadata": {},
     "output_type": "display_data"
    }
   ],
   "source": [
    "# Callback function to update graphs\n",
    "def update_graph(selected_frequencies_part1, selected_Fo):\n",
    "    # Part 1: Create the signal\n",
    "    Fs = selected_frequencies_part1        # Sampling frequency 1000 Hz\n",
    "    Ts = 1 / Fs                      # Sampling period\n",
    "    L = 1000                         # Length of signal (number of samples)\n",
    "    T = L * Ts                       # Duration of signal\n",
    "    t = np.arange(0, (L - 1) * Ts, Ts)  # Time vector\n",
    "\n",
    "    global x \n",
    "    x = np.sin(2 * np.pi * (selected_Fo-30) * t) \\\n",
    "        + 0.8 * np.sin(2 * np.pi * (selected_Fo+20) * (t - 2)) \\\n",
    "        + np.sin(2 * np.pi * selected_Fo * t)  # 60 Hz component\n",
    "    \n",
    "    # Plotting\n",
    "    fig, axs = plt.subplots(4, 1, figsize=(12, 20))\n",
    "    \n",
    "    # Time domain plot\n",
    "    axs[0].plot(t, x, color='#00CC96')\n",
    "    axs[0].set_title('Time domain plot of x')\n",
    "    axs[0].set_xlabel('t (sec)')\n",
    "    axs[0].set_ylabel('Amplitude')\n",
    "    axs[0].grid(True)\n",
    "    \n",
    "    # Fourier transform\n",
    "    def nextpow2(i):\n",
    "        n = 1\n",
    "        while n < i:\n",
    "            n *= 2\n",
    "        return n\n",
    "\n",
    "    N = nextpow2(L)                 # Length of Fourier transform\n",
    "    Fo = Fs / N                     # Frequency resolution\n",
    "    f = np.arange(0, N) * Fo        # Frequency vector\n",
    "    X = np.fft.fft(x, N)            # Compute DFT for N points\n",
    "\n",
    "    # Frequency domain plot\n",
    "    axs[1].plot(f[1:N], abs(X[1:N]), color='#1F77B4')\n",
    "    axs[1].set_title('Frequency domain plot of x')\n",
    "    axs[1].set_xlabel('f (Hz)')\n",
    "    axs[1].set_ylabel('Amplitude')\n",
    "    axs[1].grid(True)\n",
    "\n",
    "    # Shift frequencies to center\n",
    "    f = f - Fs / 2\n",
    "    X = np.fft.fftshift(X)\n",
    "\n",
    "    # Two-sided spectrum of x\n",
    "    f_shifted = f \n",
    "\n",
    "    # Two-sided spectrum plot\n",
    "    axs[2].plot(f_shifted, abs(X), color='#1F77B4')\n",
    "    axs[2].set_title('Two sided spectrum of x')\n",
    "    axs[2].set_xlabel('f (Hz)')\n",
    "    axs[2].set_ylabel('Amplitude')\n",
    "    axs[2].grid(True)\n",
    "\n",
    "    # Calculate power\n",
    "    power = np.multiply(X, np.conj(X)) / N / L\n",
    "\n",
    "    # Periodogram plot\n",
    "    axs[3].plot(f_shifted, power.real, color='#1F77B4')\n",
    "    axs[3].set_title('Periodogram')\n",
    "    axs[3].set_xlabel('Frequency (Hz)')\n",
    "    axs[3].set_ylabel('Power')\n",
    "    axs[3].grid(True)\n",
    "\n",
    "    plt.tight_layout()\n",
    "    plt.show()\n",
    "\n",
    "# Create interactive widgets\n",
    "frequency_slider = widgets.IntSlider(\n",
    "    min=100,\n",
    "    max=2000,\n",
    "    step=100,\n",
    "    value=1000,\n",
    "    description='Sampling Frequency (Fs):',\n",
    "    layout=Layout(width='90%'),\n",
    "    style={'description_width': 'initial'},\n",
    "    continuous_update=False\n",
    ")\n",
    "\n",
    "Fo_slider = widgets.IntSlider(\n",
    "    min=40,\n",
    "    max=400,\n",
    "    step=10,\n",
    "    value=100,\n",
    "    description='Frequency (Fo):',\n",
    "    layout=Layout(width='90%'),\n",
    "    style={'description_width': 'initial'},\n",
    "    continuous_update=False\n",
    ")\n",
    "\n",
    "html_label = widgets.HTML(\n",
    "    value=\"\"\"\n",
    "        <h2 style='font-weight: bold; font-size: 30px; text-align: center;'>Μέρος 3: Part 1</h2>\n",
    "    \"\"\"\n",
    ")\n",
    "\n",
    "# Display the sliders and output\n",
    "vbox_layout = Layout(display='flex', flex_flow='column', align_items='center')\n",
    "\n",
    "ui = widgets.VBox([html_label, frequency_slider, Fo_slider], layout=vbox_layout)\n",
    "out = widgets.interactive_output(update_graph, {'selected_frequencies_part1': frequency_slider, 'selected_Fo': Fo_slider})\n",
    "\n",
    "# Display the widgets and output\n",
    "clear_output(wait=True)  # Clear the previous plot\n",
    "display(ui, out)\n"
   ]
  },
  {
   "cell_type": "code",
   "execution_count": 20,
   "metadata": {
    "tags": [
     "thebe-init"
    ]
   },
   "outputs": [
    {
     "data": {
      "application/vnd.jupyter.widget-view+json": {
<<<<<<< HEAD
       "model_id": "d562096947b7472aa10b8a0802a7a3b3",
=======
       "model_id": "c9c0d2a6f8e248f8bdc34ca47c1b88bd",
>>>>>>> fe66cec273e0b720f222b665b24f51f6af8b0116
       "version_major": 2,
       "version_minor": 0
      },
      "text/plain": [
       "VBox(children=(HTML(value=\"\\n        <h2 style='font-weight: bold; font-size: 30px; text-align: center;'>Μέρος…"
      ]
     },
     "metadata": {},
     "output_type": "display_data"
    },
    {
     "data": {
      "application/vnd.jupyter.widget-view+json": {
<<<<<<< HEAD
       "model_id": "5356acf02daf4e669adfbefd8b4a8d2c",
=======
       "model_id": "dce48a0bb17d4ed7bf8d6c5ee9d32584",
>>>>>>> fe66cec273e0b720f222b665b24f51f6af8b0116
       "version_major": 2,
       "version_minor": 0
      },
      "text/plain": [
       "Output()"
      ]
     },
     "metadata": {},
     "output_type": "display_data"
    }
   ],
   "source": [
    "# Part 2 Προσθέστε θόρυβο στο σήμα\n",
    "\n",
    "# Συμπληρώστε τον κώδικα για τη δημιουργία του σήματος θορύβου n με τη βοήθεια της συνάρτησης randn.\n",
    "# Το διάνυσμα θορύβου n θα πρέπει να είναι του ίδιου μεγέθους με αυτό της ημιτονοειδούς κυματομορφής x του πρώτου μέρους.\n",
    "# Σχεδιάστε το σήμα θορύβου στο διάστημα από 0 έως 0.2 sec και κλίμακα σε από -2 έως 2.\n",
    "# Υπολογίστε το περιοδόγραμμα του n και σχεδιάστε την πυκνότητα φάσματος ισχύος του σήματος θορύβου.\n",
    "# Προσθέστε το σήμα θορύβου και το x για να λάβετε το σήμα με θόρυβο s.\n",
    "# Σχεδιάσατε το σήμα με θόρυβο s στο πεδίο του χρόνου στην περιοχή 0 έως 0.2 sec \n",
    "# και κλίμακα από -2 έως 2 καθώς και το αμφίπλευρο φάσμα του.\n",
    "\n",
    "Fs=1000                    # συχνότητα δειγματοληψίας 1000 Hz\n",
    "Ts=1/Fs                    # περίοδος δειγματοληψίας\n",
    "L=1000                     # μήκος σήματος (αριθμός δειγμάτων)\n",
    "T=L*Ts                     # διάρκεια σήματος\n",
    "t=np.arange(0,(L-1)*Ts,Ts) # χρονικές στιγμές υπολογισμού του σήματος\n",
    "\n",
    "def nextpow2(i):\n",
    "    # Compute the next highest power of 2\n",
    "    n = 1\n",
    "    while n < i: n *= 2\n",
    "    return n\n",
    "             \n",
    "\n",
    "# Function to update plots\n",
    "def update_plots(selected_frequencies_part2):\n",
    "    x=np.sin(2*np.pi*(selected_frequencies_part2-30)*t) + 0.8*np.sin(2*np.pi*(selected_frequencies_part2+20)*(t-2))+ np.sin(2*np.pi*(selected_frequencies_part2)*t);         \n",
    "    rand_n = np.random.randn(np.size(x))\n",
    "    \n",
    "    # Plotting\n",
    "    fig, axs = plt.subplots(4, 1, figsize=(12, 20))\n",
    "\n",
    "    # Time domain plot of n\n",
    "    axs[0].plot(t, rand_n, color='#00CC96')\n",
    "    axs[0].set_title('Time domain plot of n')\n",
    "    axs[0].set_xlabel('t (sec)')\n",
    "    axs[0].set_ylabel('Amplitude')\n",
    "    axs[0].grid(True)\n",
    "    \n",
    "    # Correction for N calculation using bitwise operator\n",
    "    N = 2^nextpow2(L)\n",
    "    Fo = Fs / N   \n",
    "    f = (np.arange(0, N)) * Fo\n",
    "    f_shifted = f - Fs/2\n",
    "    rand_N = np.fft.fft(rand_n, N)\n",
    "    rand_N = np.fft.fftshift(rand_N)\n",
    "    power_n = np.multiply(rand_N, np.conj(rand_N)) / N / L\n",
    "    # Frequency domain plot of x\n",
    "    axs[1].plot(f_shifted, power_n.real, color='#1F77B4')\n",
    "    axs[1].set_title('Frequency domain plot of x')\n",
    "    axs[1].set_xlabel('f (Hz)')\n",
    "    axs[1].set_ylabel('Amplitude')\n",
    "    axs[1].grid(True)\n",
    "    \n",
    "    # Two sided spectrum of x\n",
    "    s = x + rand_n\n",
    "    axs[2].plot(t, s, color='#00CC96')\n",
    "    axs[2].set_title('Two sided spectrum of x')\n",
    "    axs[2].set_xlabel('t (sec)')\n",
    "    axs[2].set_ylabel('Amplitude')\n",
    "    axs[2].grid(True)\n",
    "    \n",
    "    # Two sided spectrum of s\n",
    "    S = np.fft.fft(s, N)\n",
    "    S = np.fft.fftshift(S)\n",
    "    axs[3].plot(f_shifted, np.abs(S), color='#1F77B4')\n",
    "    axs[3].set_title('Two sided spectrum of s')\n",
    "    axs[3].set_xlabel('f (Hz)')\n",
    "    axs[3].set_ylabel('Magnitude')\n",
    "    axs[3].grid(True)\n",
    "    \n",
    "    plt.tight_layout()\n",
    "    plt.show()\n",
    "\n",
    "# Create the slider widget\n",
    "fs_slider = widgets.IntSlider(\n",
    "    value=1000,\n",
    "    min=100,\n",
    "    max=2000,\n",
    "    step=100,\n",
    "    description='Sampling Frequency (Hz):',\n",
    "    layout=Layout(width='90%'),\n",
    "    style={'description_width': 'initial'},\n",
    "    continuous_update=False\n",
    ")\n",
    "\n",
    "html_label = widgets.HTML(\n",
    "    value=\"\"\"\n",
    "        <h2 style='font-weight: bold; font-size: 30px; text-align: center;'>Μέρος 3: Part 2</h2>\n",
    "    \"\"\"\n",
    ")\n",
    "\n",
    "# Display the sliders and output\n",
    "vbox_layout = Layout(display='flex', flex_flow='column', align_items='center')\n",
    "\n",
    "ui = widgets.VBox([html_label, frequency_slider], layout=vbox_layout)\n",
    "out = widgets.interactive_output(update_plots, {'selected_frequencies_part2': frequency_slider})\n",
    "\n",
    "# Display the slider\n",
    "clear_output(wait=True)  # Clear the previous plot\n",
    "display(ui,out)\n"
   ]
  },
  {
   "cell_type": "code",
   "execution_count": 21,
   "metadata": {
    "tags": [
     "thebe-init"
    ]
   },
   "outputs": [
    {
     "data": {
      "application/vnd.jupyter.widget-view+json": {
<<<<<<< HEAD
       "model_id": "fd30f003ab1e42c69ce28195d30dffa6",
=======
       "model_id": "128188fbf3a64200a261e4141a113665",
>>>>>>> fe66cec273e0b720f222b665b24f51f6af8b0116
       "version_major": 2,
       "version_minor": 0
      },
      "text/plain": [
       "VBox(children=(HTML(value=\"\\n        <h2 style='font-weight: bold; font-size: 30px; text-align: center;'>Μέρος…"
      ]
     },
     "metadata": {},
     "output_type": "display_data"
    },
    {
     "data": {
      "application/vnd.jupyter.widget-view+json": {
<<<<<<< HEAD
       "model_id": "9dc7b09e49f24baa9c0f397e49a9136a",
=======
       "model_id": "2bfef0acf9cd4be99ecb48c077bbdc92",
>>>>>>> fe66cec273e0b720f222b665b24f51f6af8b0116
       "version_major": 2,
       "version_minor": 0
      },
      "text/plain": [
       "Output()"
      ]
     },
     "metadata": {},
     "output_type": "display_data"
    }
   ],
   "source": [
    "# Part 3. Πολλαπλασιασμός σημάτων\n",
    "\n",
    "# Συμπληρώστε τον κώδικα δημιουργίας ενός ημιτονοειδούς σήματος συχνότητας\n",
    "# 100 Hz και πολλαπλασιάστε με το προηγούμενο σήμα s.\n",
    "# Τα δύο σήματα θα πρέπει να είναι του ίδιου μεγέθους.\n",
    "# Σχεδιάστε το αποτέλεσμα στο πεδίο του χρόνου στην περιοχή 0 έως 0.2 sec\n",
    "# και κλίμακα από -2 έως 2 καθώς και στο πεδίο της συχνότητας\n",
    "# χρησιμοποιώντας τη συνάρτηση fftshift.\n",
    "\n",
    "def update_plots(selected_frequencies_part3):\n",
    "    Fο=selected_frequencies_part3\n",
    "    z=np.sin(2*np.pi*Fο*t)\n",
    "    x = np.sin(2 * np.pi * 30 * t) \\\n",
    "        + 0.8 * np.sin(2 * np.pi * 80 * (t - 2)) \\\n",
    "        + np.sin(2 * np.pi * 60 * t)  # 60 Hz component\n",
    "    L = 1000  # Length of signal\n",
    "    rand_n = np.random.normal(0, 1, L)  # Example random noise\n",
    "    s = x + rand_n\n",
    "    y= np.multiply(z,s)\n",
    "\n",
    "    # Plotting\n",
    "    fig, axs = plt.subplots(2, 1, figsize=(12, 20))\n",
    "\n",
    "    # Time domain plot\n",
    "    axs[0].plot(t, y, color='#00CC96')\n",
    "    axs[0].set_title('Time domain plot of y')\n",
    "    axs[0].set_xlabel('t (sec)')\n",
    "    axs[0].set_ylabel('Amplitude')\n",
    "    axs[0].grid(True)\n",
    "    \n",
    "    # Fourier transform\n",
    "    def nextpow2(i):\n",
    "        n = 1\n",
    "        while n < i:\n",
    "            n *= 2\n",
    "        return n\n",
    "            \n",
    "    N = 2^nextpow2(L)\n",
    "    Fo = Fs / N   \n",
    "    f = (np.arange(0, N)) * Fo\n",
    "    Y = np.fft.fft(y, N)\n",
    "    f=f-Fs/2   \n",
    "    Y = np.fft.fftshift(Y)\n",
    "\n",
    "    axs[1].plot(f, np.abs(Y), color='#1F77B4')\n",
    "    axs[1].set_title('Frequency domain plot of y')\n",
    "    axs[1].set_xlabel('f (Hz)')\n",
    "    axs[1].set_ylabel('Amplitude')\n",
    "    axs[1].grid(True)\n",
    "\n",
    "    plt.tight_layout()\n",
    "    plt.show()\n",
    "\n",
    "# Create the slider widget for Fo\n",
    "Fo_slider = widgets.IntSlider(\n",
    "    value=100,\n",
    "    min=10,\n",
    "    max=200,\n",
    "    step=10,\n",
    "    description='Fo (Hz):',\n",
    "    layout=Layout(width='90%'),\n",
    "    style={'description_width': 'initial'},\n",
    "    continuous_update=False\n",
    ")\n",
    "\n",
    "html_label = widgets.HTML(\n",
    "    value=\"\"\"\n",
    "        <h2 style='font-weight: bold; font-size: 30px; text-align: center;'>Μέρος 3: Part 3</h2>\n",
    "    \"\"\"\n",
    ")\n",
    "\n",
    "# Display the sliders and output\n",
    "vbox_layout = Layout(display='flex', flex_flow='column', align_items='center')\n",
    "\n",
    "ui = widgets.VBox([html_label, Fo_slider], layout=vbox_layout)\n",
    "out = widgets.interactive_output(update_plots, {'selected_frequencies_part3': Fo_slider})\n",
    "\n",
    "# Display the slider\n",
    "clear_output(wait=True)  # Clear the previous plot\n",
    "display(ui,out)\n"
   ]
  },
  {
   "cell_type": "markdown",
   "metadata": {},
   "source": [
    "## Μέρος 4:  Εφαρμογή Β\n",
    "\n",
    "Να γραφεί σε Python συνάρτηση φασματικής ανάλυσης, παρόμοια με την `signal.welch()`: θα δέχεται ως είσοδο διάνυσμα πραγματικού σήματος καθώς και τη συχνότητα δειγματοληψίας, $F_s$, και θα σχεδιάζει τη μονόπλευρη φασματική πυκνότητα του σήματος στην περιοχή $[0-F_s/2)$. Το σήμα θα τεμαχίζεται σε τμήματα μήκους ίσου με τη δύναμη του $2$ την πλησιέστερη στο $1/8$ του συνολικού του μήκους, αλλά όχι μικρότερου από 256. Τα τμήματα θα είναι επικαλυπτόμενα κατά $50\\%$. Το τελευταίο τμήμα, εάν υπολείπεται σε μήκος των άλλων, θα αγνοείται. Θα υπολογίζεται με FFT το φάσμα κάθε τμήματος και θα λαμβάνεται η μέση τιμή όλων των τμημάτων. Η συνάρτηση να δοκιμαστεί με το σήμα του παραδείγματος 1.1 και να συγκριθεί το αποτέλεσμα με το αντίστοιχο της `signal.welch()`."
   ]
  },
  {
   "cell_type": "code",
   "execution_count": 22,
   "metadata": {
    "tags": [
     "thebe-init"
    ]
   },
   "outputs": [],
   "source": [
    "# Fourier transform\n",
    "def nextpow2(i):\n",
    "        n = 1\n",
    "        while n < i:\n",
    "            n *= 2\n",
    "        return n\n",
    "\n",
    "def pwelch(x,Fs):                    \n",
    "    Ts=1/Fs                    \n",
    "    L=np.size(x)+1                 \n",
    "    T=L*Ts                     \n",
    "    N = 2^nextpow2(L)\n",
    "    Fo=Fs/N                   \n",
    "    f=np.arange(0,N)*Fo       \n",
    "     \n",
    "    window_size = nextpow2(np.size(x)/8)\n",
    "    if (window_size<256):\n",
    "        window_size=256\n",
    "    windows = np.size(x)//(window_size//2)-1\n",
    "    indexer = np.arange(window_size)[None, :] + (window_size//2)*np.arange(windows)[:, None]\n",
    "    windowed_x = x[indexer]\n",
    "\n",
    "    avg_pwr=0\n",
    "    for window in windowed_x:\n",
    "        window = window * np.hanning(np.size(window))\n",
    "        L=np.size(window)+1                 \n",
    "        T=L*Ts                     \n",
    "        N = 2^nextpow2(L)\n",
    "        Fo=Fs/N                   \n",
    "        f=np.arange(0,N)*Fo\n",
    "        window_fft=np.fft.fft(window,N)\n",
    "        power=np.multiply(window_fft,np.conj(window_fft))/N/L\n",
    "        avg_pwr=avg_pwr+power\n",
    "    avg_pwr=avg_pwr/windows\n",
    "\n",
    "    \n",
    "    \n",
    "    return f[np.arange(0,N//2)], avg_pwr[np.arange(0,N//2)]\n"
   ]
  },
  {
   "cell_type": "code",
   "execution_count": 23,
   "metadata": {
    "tags": [
     "thebe-init"
    ]
   },
   "outputs": [
    {
     "data": {
      "application/vnd.jupyter.widget-view+json": {
<<<<<<< HEAD
       "model_id": "81771cac3b034bad85905ede3df95c8e",
=======
       "model_id": "18bdc6371fb44b5f9979ba63b80a6ba9",
>>>>>>> fe66cec273e0b720f222b665b24f51f6af8b0116
       "version_major": 2,
       "version_minor": 0
      },
      "text/plain": [
       "VBox(children=(HTML(value=\"\\n        <h2 style='font-weight: bold; font-size: 30px; text-align: center;'>Μέρος…"
      ]
     },
     "metadata": {},
     "output_type": "display_data"
    },
    {
     "data": {
      "application/vnd.jupyter.widget-view+json": {
<<<<<<< HEAD
       "model_id": "c28b3e1a43cb4c198f24ae9242560e4e",
=======
       "model_id": "6de275a28b5248ad9a7d069ade716f58",
>>>>>>> fe66cec273e0b720f222b665b24f51f6af8b0116
       "version_major": 2,
       "version_minor": 0
      },
      "text/plain": [
       "Output()"
      ]
     },
     "metadata": {},
     "output_type": "display_data"
    }
   ],
   "source": [
    "# Function to update plots based on slider value\n",
    "def update_plots(Fs):\n",
    "    global x, t\n",
    "    T = 1 / Fs  # Update sampling period\n",
    "    t = np.arange(0, L) * T  # Update time vector\n",
    "    \n",
    "    # Recompute signal x with new sampling frequency\n",
    "    x = np.sin(2 * np.pi * 30 * t) + 0.8 * np.sin(2 * np.pi * 80 * (t - 2)) + np.sin(2 * np.pi * 60 * t)\n",
    "    \n",
    "    # Compute pwelch\n",
    "    f1, Pxx1 = pwelch(x, Fs)\n",
    "    \n",
    "    # Compute signal.welch\n",
    "    f2, Pxx2 = welch(x, fs=Fs)\n",
    "    \n",
    "    # Plot\n",
    "    fig, axs = plt.subplots(2, 1, figsize=(18.5, 20))\n",
    "    \n",
    "    # Plot custom pwelch\n",
    "    axs[0].plot(f1, Pxx1)\n",
    "    axs[0].set(xlabel='Frequency (Hz)', ylabel='Power', title='Periodogram pwelch()')\n",
    "    axs[0].grid()\n",
    "    \n",
    "    # Plot signal.welch\n",
    "    axs[1].plot(f2, Pxx2)\n",
    "    axs[1].set(xlabel='Frequency (Hz)', ylabel='Power', title='Periodogram signal.welch()')\n",
    "    axs[1].grid()\n",
    "    \n",
    "    plt.tight_layout()\n",
    "\n",
    "# Create slider for Fs\n",
    "Fs_slider = widgets.IntSlider(\n",
    "    value=500,\n",
    "    min=100,\n",
    "    max=2000, \n",
    "    step=100,\n",
    "    description='Sampling Frequency (Fs):',\n",
    "    layout=Layout(width='90%'),\n",
    "    style={'description_width': 'initial'}, \n",
    "    continuous_update=False\n",
    ")\n",
    "\n",
    "\n",
    "html_label = widgets.HTML(\n",
    "    value=\"\"\"\n",
    "        <h2 style='font-weight: bold; font-size: 30px; text-align: center;'>Μέρος 4:</h2>\n",
    "    \"\"\"\n",
    ")\n",
    "\n",
    "# Display the sliders and output\n",
    "vbox_layout = Layout(display='flex', flex_flow='column', align_items='center')\n",
    "\n",
    "ui = widgets.VBox([html_label, Fs_slider], layout=vbox_layout)\n",
    "out = widgets.interactive_output(update_plots, {'Fs': Fs_slider})\n",
    "\n",
    "# Display the slider\n",
    "clear_output(wait=True)  # Clear the previous plot\n",
    "display(ui,out)"
   ]
  }
 ],
 "metadata": {
  "kernelspec": {
   "display_name": "Python 3 (ipykernel)",
   "language": "python",
   "name": "python3"
  },
  "language_info": {
   "codemirror_mode": {
    "name": "ipython",
    "version": 3
   },
   "file_extension": ".py",
   "mimetype": "text/x-python",
   "name": "python",
   "nbconvert_exporter": "python",
   "pygments_lexer": "ipython3",
   "version": "3.8.18"
  }
 },
 "nbformat": 4,
 "nbformat_minor": 4
}
