{
 "cells": [
  {
   "cell_type": "markdown",
   "metadata": {},
   "source": [
    "# Εργαστηριακή Άσκηση 1\n",
    "Σκοπός της πρώτης σειράς ασκήσεων είναι, αφ’ ενός η εξοικείωση με το προγραμματιστικό περιβάλλον της Python, αφ’ ετέρου, η εισαγωγή στους τρόπους παράστασης και επεξεργασίας τηλεπικοινωνιακών σημάτων στη συγκεκριμένη γλώσσα προγραμματισμού."
   ]
  },
  {
   "cell_type": "markdown",
   "metadata": {},
   "source": [
    "### Μέρος 1: Εξοικείωση με το προγραμματιστικό περιβάλλον της Python\n",
    "Λίγα λόγια για τον interactive python interpreter [ipython] και το jupyter notebook"
   ]
  },
  {
   "cell_type": "markdown",
   "metadata": {},
   "source": [
    "#### Interactive python interpreter (IPython) notebook\n",
    "Το IPython (Interactive Python) (https://ipython.org/) είναι  ένα διαδραστικό κέλυφος γραμμής εντολών σχεδιασμένο για τη γλώσσα προγραμματισμού Python.Υπερβαίνει τον παραδοσιακό διερμηνέα Python και προσφέρει βελτιωμένες δυνατότητες (REPL): \n",
    "\n",
    "1)Ανάγνωσης (Read)  \n",
    "2)Aξιολόγησης (Evaluate)   \n",
    "3)Eκτύπωσης (Print)   \n",
    "4)Επαναλάψης (Loop)"
   ]
  },
  {
   "cell_type": "markdown",
   "metadata": {},
   "source": [
    "Μην ξεχνάτε ότι η IPython μας δίνει τη δυνατότητα να 'εξερευνήσουμε' το περιεχόμενο ενός package, χρησιμοποιώντας τη δυνατότητα του tab-completion, ή τη χρήση του ? για help/documentation: \n",
    "Π.χ., για να δούμε όλα τα περιεχόμενα του signal namespace δίνουμε:\n",
    "\n",
    "In [3]: signal?\n",
    "    \n",
    "και για να καλέσουμε την ενσωμετωμένη τεκμηρίωση της numpy, δίνουμε:\n",
    "\n",
    "In [4]: np?\n",
    "\n",
    "Περισσότερες πληροφορίες μπορείτε να πάρετε από το http://www.numpy.org."
   ]
  },
  {
   "cell_type": "markdown",
   "metadata": {},
   "source": [
    "#### Jupyter notebook\n",
    "To Project Jupyter είναι ένας μη κερδοσκοπικός οργανισμός με αποστολή τη συγγραφή ανοικτού λογισμικού για διαδραστικές εφαρμογές. Ξεκίνησε από ipython, ωστόσο σήμερα προσφέρει προγράμματα σε πολλές γλώσσες προγραμματισμού. \n",
    "\n",
    "Το jupyter notebook (https://jupyter.org/) είναι μια πλατφόρμα web ανοικτού λογισμικού για την ανάπτυξη διαδραστικών εφαρμογών, κυρίως για επεξεργασία (επιστημονικών) δεδομένων και μηχανικής μάθησης."
   ]
  },
  {
   "cell_type": "code",
   "execution_count": 61,
   "metadata": {
    "tags": [
     "hide-input"
    ]
   },
   "outputs": [
    {
     "name": "stdout",
     "output_type": "stream",
     "text": [
      "Libraries added successfully!\n"
     ]
    }
   ],
   "source": [
    "from scipy import signal\n",
    "# Ανατρέξτε στην τεκμηρίωση της βιβλιοθήκης scipy.signal\n",
    "# https://docs.scipy.org/doc/scipy/reference/signal.html\n",
    "from scipy.fft import fft, fftfreq\n",
    "from dash import Dash, dcc, html, Input, Output\n",
    "import matplotlib\n",
    "import matplotlib.pyplot as plt\n",
    "import numpy as np\n",
    "from numpy import random\n",
    "import pandas\n",
    "import plotly\n",
    "import plotly.express as px\n",
    "import plotly.graph_objs as go\n",
    "# Δείτε την έκδοση της αριθμητικής βιβλιοθήκης numpy\n",
    "import dash_bootstrap_components as dbc\n",
    "import warnings\n",
    "warnings.filterwarnings('ignore')\n",
    "print(\"Libraries added successfully!\")"
   ]
  },
  {
   "cell_type": "markdown",
   "metadata": {},
   "source": [
    "#### Εξάσκηση"
   ]
  },
  {
   "cell_type": "code",
   "execution_count": 62,
   "metadata": {},
   "outputs": [
    {
     "name": "stdout",
     "output_type": "stream",
     "text": [
      "s= 2\n"
     ]
    }
   ],
   "source": [
    "# Δημιουργήστε ένα βαθμωτό (μονοδιάστατο) μέγεθος\n",
    "\n",
    "s=2\n",
    "print('s=',s)"
   ]
  },
  {
   "cell_type": "code",
   "execution_count": 63,
   "metadata": {},
   "outputs": [
    {
     "name": "stdout",
     "output_type": "stream",
     "text": [
      "v= [1 5 9]\n"
     ]
    }
   ],
   "source": [
    "# Δημιουργείστε ένα διάνυσμα πραγματικών τιμών:\n",
    "# Στο MATLAB: v = [1,5,9] ή v = [1 5 9]\n",
    "\n",
    "v=np.array([1,5,9])\n",
    "print('v=',v)"
   ]
  },
  {
   "cell_type": "code",
   "execution_count": 64,
   "metadata": {},
   "outputs": [
    {
     "name": "stdout",
     "output_type": "stream",
     "text": [
      "a= [[1 2 3]\n",
      " [4 5 6]\n",
      " [7 8 9]]\n"
     ]
    }
   ],
   "source": [
    "# Δημιουργείστε έναν πίνακα πραγματικών τιμών:\n",
    "# Στο MATLAB: a = a=[[1,2,3];[4,5,6];[7,8,9]] ή a=[1,2,3;4,5,6;7,8,9]\n",
    "a=np.array([[1,2,3],[4,5,6],[7,8,9]])\n",
    "print('a=',a)"
   ]
  },
  {
   "cell_type": "code",
   "execution_count": 65,
   "metadata": {},
   "outputs": [
    {
     "data": {
      "text/plain": [
       "array([[ 6,  7,  8],\n",
       "       [ 9, 10, 11],\n",
       "       [12, 13, 14]])"
      ]
     },
     "execution_count": 65,
     "metadata": {},
     "output_type": "execute_result"
    }
   ],
   "source": [
    "# Αθροίστε\n",
    "\n",
    "a+5"
   ]
  },
  {
   "cell_type": "code",
   "execution_count": 66,
   "metadata": {},
   "outputs": [
    {
     "name": "stdout",
     "output_type": "stream",
     "text": [
      "b= [ 4 20 36]\n"
     ]
    }
   ],
   "source": [
    "#Πολλαπλασιάστε\n",
    "\n",
    "b=s*v*2\n",
    "print('b=',b)"
   ]
  },
  {
   "cell_type": "code",
   "execution_count": 67,
   "metadata": {},
   "outputs": [
    {
     "data": {
      "text/plain": [
       "array([  4, 100, 324])"
      ]
     },
     "execution_count": 67,
     "metadata": {},
     "output_type": "execute_result"
    }
   ],
   "source": [
    "# Πολλαπλασιάστε στοιχείο-προς-στοιχείο (elementwise)\n",
    "# MATLAB: v.*b\n",
    "\n",
    "np.multiply(v,b)"
   ]
  },
  {
   "cell_type": "code",
   "execution_count": 68,
   "metadata": {},
   "outputs": [
    {
     "data": {
      "text/plain": [
       "3"
      ]
     },
     "execution_count": 68,
     "metadata": {},
     "output_type": "execute_result"
    }
   ],
   "source": [
    "#Ελέγξτε το μήκος ενός διανύσματος\n",
    "# MATLAB: length(v)\n",
    "\n",
    "len(v)"
   ]
  },
  {
   "cell_type": "code",
   "execution_count": 69,
   "metadata": {},
   "outputs": [
    {
     "data": {
      "text/plain": [
       "(3, 3)"
      ]
     },
     "execution_count": 69,
     "metadata": {},
     "output_type": "execute_result"
    }
   ],
   "source": [
    "# Ελέγξτε το μέγεθος ενός πίνακα\n",
    "# MATLAB: size(a)\n",
    "\n",
    "a.shape   # για array: np.array(a.shape)"
   ]
  },
  {
   "cell_type": "code",
   "execution_count": 70,
   "metadata": {},
   "outputs": [
    {
     "data": {
      "text/plain": [
       "2"
      ]
     },
     "execution_count": 70,
     "metadata": {},
     "output_type": "execute_result"
    }
   ],
   "source": [
    "# Προσπελάστε συγκεκριμένα στοιχεία ενός πίνακα\n",
    "# Η δεικτοδότηση αρχίζει από το 0. \n",
    "# MATLAB: a(1,2)  \n",
    "# --- ΠΡΟΣΟΧΗ, στο MATLAB η δεικτοδ΄ότηση αρχ΄ίζει από το 1!\n",
    "\n",
    "a[0,1]"
   ]
  },
  {
   "cell_type": "code",
   "execution_count": 71,
   "metadata": {},
   "outputs": [
    {
     "data": {
      "text/plain": [
       "6"
      ]
     },
     "execution_count": 71,
     "metadata": {},
     "output_type": "execute_result"
    }
   ],
   "source": [
    "# Προσπελάστε συγκεκριμένα στοιχεία ενός πίνακα (συνέχεια)\n",
    "# Αρνητικές τιμές μετρούν από το τέλος, π.χ. το -1 \n",
    "# αναφέρεται στο τελευταίο στοιχείο)\n",
    "\n",
    "a[1,-1]"
   ]
  },
  {
   "cell_type": "code",
   "execution_count": 72,
   "metadata": {},
   "outputs": [
    {
     "data": {
      "text/plain": [
       "array([5, 9])"
      ]
     },
     "execution_count": 72,
     "metadata": {},
     "output_type": "execute_result"
    }
   ],
   "source": [
    "# Προσπελάστε συγκεκριμένο τμήμα ενός διανύσματος\n",
    "# MATLAB: v(1:9)\n",
    "\n",
    "v[1:3]\n",
    "\n",
    "# ΠΡΟΣΟΧΗ: τα στοιχεία [2ο,3ο] δίνονται ως 1:3 και όχι ως 1:2\n",
    "# Δοκιμάστε το v[1:2]..."
   ]
  },
  {
   "cell_type": "code",
   "execution_count": 73,
   "metadata": {},
   "outputs": [
    {
     "data": {
      "text/plain": [
       "array([[1, 2, 3],\n",
       "       [4, 5, 6]])"
      ]
     },
     "execution_count": 73,
     "metadata": {},
     "output_type": "execute_result"
    }
   ],
   "source": [
    "# Προσπελάστε συγκεκριμένα τμήματα ενός πίνακα\n",
    "\n",
    "a[0:2,:]\n",
    "\n",
    "# Ομοίως: οι γραμμές 1 & 2 δίνονται ως 0:2 και όχι ως 0:1"
   ]
  },
  {
   "cell_type": "code",
   "execution_count": 74,
   "metadata": {},
   "outputs": [
    {
     "name": "stdout",
     "output_type": "stream",
     "text": [
      "t= [0.  0.1 0.2 0.3 0.4]\n"
     ]
    }
   ],
   "source": [
    "# Δημιουργήστε ένα διάνυσμα με στοιχεία από το 0 έως το 0.5 και βήμα 0.1\n",
    "# MATLAB: t=(0:0.1:0.4)\n",
    "\n",
    "t=np.arange(0,0.5,0.1)\n",
    "print('t=',t)"
   ]
  },
  {
   "cell_type": "markdown",
   "metadata": {},
   "source": [
    "\n",
    "### Μέρος 2:  Δειγματοληψία - Ψηφιοποίηση\n",
    "\n",
    "Τα πρωτογενή σήματα είναι κυρίως αναλογικά (συνεχούς χρόνου). Για να τα παραστήσουμε και επεξεργαστούμε στον υπολογιστή μας (ή άλλη ψηφιακή μηχανή) θα πρέπει πρώτα να τα ψηφιοποιήσουμε. Υποθέστε ένα σήμα συνεχούς χρόνου $x(t)$ με μετασχηματισμό Fourier (Continuous Time Fourier Transform – CTFT):\n",
    "  \n",
    "$$\n",
    " \n",
    "X(f)=\\int_{-\\infty}^{\\infty} x(t)e^{-j2\\pi ft} dt\n",
    " \n",
    "$$\n"
   ]
  },
  {
   "cell_type": "code",
   "execution_count": 75,
   "metadata": {
    "tags": [
     "hide-input"
    ]
   },
   "outputs": [
    {
     "data": {
      "text/html": [
       "\n",
       "        <iframe\n",
       "            width=\"100%\"\n",
       "            height=\"650\"\n",
       "            src=\"http://127.0.0.1:8050/\"\n",
       "            frameborder=\"0\"\n",
       "            allowfullscreen\n",
       "            \n",
       "        ></iframe>\n",
       "        "
      ],
      "text/plain": [
       "<IPython.lib.display.IFrame at 0x29d3367d450>"
      ]
     },
     "metadata": {},
     "output_type": "display_data"
    }
   ],
   "source": [
    "app1 = Dash(__name__, external_stylesheets=[dbc.themes.BOOTSTRAP])\n",
    "\n",
    "# Παράμετροι δειγματοληψίας\n",
    "fs = 1000  # Sampling frequency in Hz\n",
    "T = 1 / fs  # Sampling period\n",
    "L = 1000  # Number of samples\n",
    "\n",
    "# Create time vector\n",
    "t = np.arange(0, L) * T\n",
    "\n",
    "# Layout of the Dash app\n",
    "app1.layout = html.Div(\n",
    "    children=[\n",
    "        html.H2('Interactive Signal and Fourier Transformation'),\n",
    "        dcc.RangeSlider(\n",
    "            id='frequency-slider',\n",
    "            min=1,\n",
    "            max=51,\n",
    "            step=1,\n",
    "            value=[5, 10],\n",
    "            marks={i: f'{i} Hz' for i in range(1, 51, 5)}\n",
    "        ),\n",
    "        dbc.Row(\n",
    "            children=[\n",
    "                dbc.Col(\n",
    "                    dcc.Graph(id='original-signal'),\n",
    "                    width=6\n",
    "                ),\n",
    "                dbc.Col(\n",
    "                    dcc.Graph(id='fourier-transform'),\n",
    "                    width=6\n",
    "                )\n",
    "            ]\n",
    "        )\n",
    "    ],\n",
    "    style={'backgroundColor': 'white', 'padding': '20px'}\n",
    ")\n",
    "\n",
    "# Callback to update graphs\n",
    "@app1.callback(\n",
    "    [Output('original-signal', 'figure'),\n",
    "     Output('fourier-transform', 'figure')],\n",
    "    [Input('frequency-slider', 'value')]\n",
    ")\n",
    "def update_graph(selected_frequencies):\n",
    "    # Generate the signal with the selected frequencies\n",
    "    signal = np.zeros(len(t))\n",
    "    for f in range(selected_frequencies[0], selected_frequencies[1] + 1):\n",
    "        signal += np.sin(2 * np.pi * f * t)\n",
    "                    \n",
    "\n",
    "    # Calculate the FFT of the original signal\n",
    "    original_signal_fft = fft(signal)\n",
    "    # Calculate frequencies for the FFT of the original signal\n",
    "    original_freqs = fftfreq(L, T)[:L // 2]\n",
    "    # Calculate magnitude of Fourier coefficients (amplitude) for the original signal\n",
    "    original_magnitude = np.abs(original_signal_fft)[:L // 2]\n",
    "   \n",
    "\n",
    "    # Original signal graph\n",
    "    original_signal_figure = {\n",
    "        'data': [go.Scatter(x=t, y=signal, mode='lines', line=dict(color='#00CC96', width=2))],\n",
    "        'layout': go.Layout(\n",
    "            title='Original Signal',\n",
    "            xaxis={'title': 'Time (s)', 'showgrid': True, 'gridcolor': 'LightGrey'},\n",
    "            yaxis={'title': 'Amplitude', 'showgrid': True, 'gridcolor': 'LightGrey'},\n",
    "            margin={'l': 40, 'b': 40, 't': 40, 'r': 40},\n",
    "            hovermode='closest',\n",
    "            paper_bgcolor='white',\n",
    "            plot_bgcolor='white',\n",
    "            template='plotly_white'\n",
    "        )\n",
    "    }\n",
    "\n",
    "    # Fourier Transformation graph\n",
    "    fourier_transform_figure = {\n",
    "        'data': [go.Scatter(x=original_freqs, y=original_magnitude, mode='lines', line=dict(color='#1F77B4', width=2))],\n",
    "        'layout': go.Layout(\n",
    "            title='Fourier Transformation of Original Signal',\n",
    "            xaxis={'title': 'Frequency (Hz)', 'showgrid': True, 'gridcolor': 'LightGrey'},\n",
    "            yaxis={'title': 'Amplitude', 'showgrid': True, 'gridcolor': 'LightGrey'},\n",
    "            margin={'l': 40, 'b': 40, 't': 40, 'r': 40},\n",
    "            hovermode='closest',\n",
    "            paper_bgcolor='white',\n",
    "            plot_bgcolor='white',\n",
    "            template='plotly_white'\n",
    "        )\n",
    "    }\n",
    "\n",
    "    \n",
    "    # Return this additional figure in the callback\n",
    "    return original_signal_figure, fourier_transform_figure\n",
    "\n",
    "    \n",
    "\n",
    "if __name__ == '__main__':\n",
    "    app1.run_server(debug=True, port=8050)\n"
   ]
  },
  {
   "cell_type": "markdown",
   "metadata": {},
   "source": [
    "\n",
    "Λαμβάνοντας δείγματα του $x(t)$ με ρυθμό $f_s=1/T_s$ παράγεται σήμα διακριτού χρόνου $x(nT_s)$. Μαθηματικά το αναπαριστάνουμε ως σειρά συναρτήσεων δέλτα\n",
    "\n",
    "$$\n",
    " \n",
    "x_\\delta (t)=\\sum_{n=-\\infty}^{\\infty}x(nT_s)\\delta(t-nT_s)=x(t)\\sum_{n=-\\infty}^{\\infty}\\delta(t-nT_s)\n",
    " \n",
    "$$\n",
    "\n",
    "με μετασχηματισμό Fourier\n",
    "\n",
    "$$\n",
    " \n",
    "X_\\delta (f)=\\sum_{n=-\\infty}^{\\infty}x(nT_s)e^{-j2\\pi fnT_s}=X(f)*1/T_s\\sum_{n=-\\infty}^{\\infty}\\delta(f-k/T_s)=1/T_s\\sum_{n=-\\infty}^{\\infty}X(f-k/T_s)\n",
    " \n",
    "$$\n",
    "\n",
    "που είναι περιοδική συνάρτηση."
   ]
  },
  {
   "cell_type": "code",
   "execution_count": 76,
   "metadata": {
    "tags": [
     "hide-input"
    ]
   },
   "outputs": [
    {
     "data": {
      "text/html": [
       "\n",
       "        <iframe\n",
       "            width=\"100%\"\n",
       "            height=\"650\"\n",
       "            src=\"http://127.0.0.1:8051/\"\n",
       "            frameborder=\"0\"\n",
       "            allowfullscreen\n",
       "            \n",
       "        ></iframe>\n",
       "        "
      ],
      "text/plain": [
       "<IPython.lib.display.IFrame at 0x29d33f20810>"
      ]
     },
     "metadata": {},
     "output_type": "display_data"
    }
   ],
   "source": [
    "from scipy.fftpack import fftshift, ifftshift\n",
    "\n",
    "\n",
    "app2 = Dash(__name__, external_stylesheets=[dbc.themes.BOOTSTRAP])\n",
    "\n",
    "# Παράμετροι δειγματοληψίας\n",
    "T = 1 / fs  # Sampling period\n",
    "L = 1000  # Number of samples\n",
    "\n",
    "# Create time vector\n",
    "t = np.arange(0, L) * T\n",
    "\n",
    "# Layout of the Dash app\n",
    "app2.layout = html.Div(\n",
    "    children=[\n",
    "        html.H2('Interactive Signal and Fourier Transformation'),\n",
    "        dcc.Slider(\n",
    "            id='samples-slider',\n",
    "            min=100,\n",
    "            max=1000,\n",
    "            step=25,\n",
    "            value=500, \n",
    "            marks={i: f'{i} samples' for i in range(100, 1000, 100)},\n",
    "            included=False,  # To remove the color fill\n",
    "            updatemode='drag',  # Update slider continuously while dragging\n",
    "            tooltip={'placement': 'bottom'}  # Show tooltip at the bottom\n",
    "        ),\n",
    "        dcc.RangeSlider(\n",
    "            id='frequency-slider',\n",
    "            min=1,\n",
    "            max=51,\n",
    "            step=1,\n",
    "            value=[5, 10],\n",
    "            marks={i: f'{i} Hz' for i in range(1, 51, 5)}\n",
    "        ),\n",
    "        dbc.Row(\n",
    "            children=[\n",
    "                dbc.Col(\n",
    "                    dcc.Graph(id='sampled-signal'),\n",
    "                    width=6\n",
    "                ),\n",
    "                dbc.Col(\n",
    "                    dcc.Graph(id='sampled-fourier-signal'),\n",
    "                    width=6\n",
    "                )\n",
    "\n",
    "            ]\n",
    "        )\n",
    "    ],\n",
    "    style={'backgroundColor': 'white', 'padding': '20px'}\n",
    ")\n",
    "\n",
    "# Callback to update graphs\n",
    "@app2.callback(\n",
    "    [Output('sampled-signal', 'figure'),\n",
    "     Output('sampled-fourier-signal', 'figure')],\n",
    "    [Input('frequency-slider', 'value'),\n",
    "    Input('samples-slider', 'value')]\n",
    ")\n",
    "def update_graph(selected_frequencies,selected_samples):\n",
    "    # Generate the signal with the selected frequencies\n",
    "    signal = np.zeros(len(t))\n",
    "    for f in range(selected_frequencies[0], selected_frequencies[1] + 1):\n",
    "        signal += np.sin(2 * np.pi * f * t)\n",
    "    \n",
    "   # Correct downsampling approach\n",
    "    sample_rate = selected_samples  # Directly using selected_samples as an integer\n",
    "    downsampling_factor = int(fs / sample_rate)  # Downsampling factor\n",
    "\n",
    "    # Select every nth sample from the original time vector to match the downsampled signal\n",
    "    sample_points = t[::downsampling_factor]\n",
    "\n",
    "    # Downsample the signal by selecting every nth sample\n",
    "    downsampled_signal = signal[::downsampling_factor]\n",
    "\n",
    "    # Recalculate L for the downsampled signal if needed\n",
    "    L_downsampled = len(downsampled_signal)\n",
    "\n",
    "    # Calculate the DFT of the downsampled signal\n",
    "    sampled_signal_fft = fft(downsampled_signal)\n",
    "\n",
    "    # Calculate frequencies for the FFT of the downsampled signal\n",
    "    # Note: The new sampling period is the inverse of the new sampling rate\n",
    "    sampled_freqs = fftfreq(L_downsampled, 1/sample_rate)[:L_downsampled // 2]\n",
    "\n",
    "    # Calculate magnitude of Fourier coefficients (amplitude) for the downsampled signal\n",
    "    sampled_magnitude = np.abs(sampled_signal_fft)[:L_downsampled // 2]\n",
    "\n",
    "    n = len(downsampled_signal)\n",
    "    T = 1 / sample_rate  # Recalculate the sampling period with the selected sample rate\n",
    "\n",
    "    # After calculating the magnitude of Fourier coefficients\n",
    "    sampled_magnitude = np.abs(sampled_signal_fft)[:L_downsampled // 2]\n",
    "\n",
    "    # Create a new frequency vector that includes the replicated frequencies\n",
    "    # First, calculate the original frequency bins for the positive frequencies\n",
    "    original_sampled_freqs = fftfreq(L_downsampled, T)[:L_downsampled // 2]\n",
    "\n",
    "    shifted_freqs_negative = original_sampled_freqs - 1/T  # Shift for -1/Ts\n",
    "    shifted_freqs_positive = original_sampled_freqs + 1/T  # Shift for +1/Ts\n",
    "\n",
    "    # Concatenate the original and shifted (replicated) frequencies and magnitudes\n",
    "    # This includes the original frequencies, and the replications at -1/Ts and +1/Ts\n",
    "    replicated_freqs = np.concatenate([shifted_freqs_negative, original_sampled_freqs, shifted_freqs_positive])\n",
    "    replicated_magnitude = np.concatenate([sampled_magnitude, sampled_magnitude, sampled_magnitude])\n",
    "\n",
    "    # Sort the replicated frequencies and magnitudes in ascending order for proper plotting\n",
    "    sorted_indices = np.argsort(replicated_freqs)\n",
    "    sorted_replicated_freqs = replicated_freqs[sorted_indices]\n",
    "    sorted_replicated_magnitude = replicated_magnitude[sorted_indices]\n",
    "\n",
    "    # Sampled signal graph\n",
    "    sampled_signal_figure = {\n",
    "        'data': [go.Scatter(x=sample_points, y=downsampled_signal, mode='markers', marker=dict(color='#00CC96', size=7))],\n",
    "        'layout': go.Layout(\n",
    "            title='Sampled Signal',\n",
    "            xaxis={'title': 'Time (s)', 'showgrid': True, 'gridcolor': 'LightGrey'},\n",
    "            yaxis={'title': 'Amplitude', 'showgrid': True, 'gridcolor': 'LightGrey'},\n",
    "            margin={'l': 40, 'b': 40, 't': 40, 'r': 40},\n",
    "            hovermode='closest',\n",
    "            paper_bgcolor='white',\n",
    "            plot_bgcolor='white',\n",
    "            template='plotly_white'\n",
    "        )\n",
    "    }\n",
    "\n",
    "    # Fourier Transformation graph for the sampled signal\n",
    "    sampled_fourier_transform_figure = {\n",
    "        'data': [go.Scatter(x=sorted_replicated_freqs, y=sorted_replicated_magnitude, mode='lines', line=dict(color='#1F77B4', width=2))],\n",
    "        'layout': go.Layout(\n",
    "            title='Fourier Transformation of Sampled Signal',\n",
    "            xaxis={'title': 'Frequency (Hz)', 'showgrid': True, 'gridcolor': 'LightGrey'},\n",
    "            yaxis={'title': 'Amplitude', 'showgrid': True, 'gridcolor': 'LightGrey'},\n",
    "            margin={'l': 40, 'b': 40, 't': 40, 'r': 40},\n",
    "            hovermode='closest',\n",
    "            paper_bgcolor='white',\n",
    "            plot_bgcolor='white',\n",
    "            template='plotly_white'\n",
    "        )\n",
    "    }\n",
    "\n",
    "    # Return this additional figure in the callback\n",
    "    return sampled_signal_figure, sampled_fourier_transform_figure\n",
    "\n",
    "    \n",
    "    \n",
    "\n",
    "if __name__ == '__main__':\n",
    "    app2.run_server(debug=True, port=8051)"
   ]
  },
  {
   "cell_type": "markdown",
   "metadata": {},
   "source": [
    "Για βαθυπερατά σήματα $x(t)$ εύρους ζώνης W, με την υπόθεση ότι ο ρυθμός δειγματοληψίας $fs ≥\n",
    "2W$, ισχύει ότι $X(f) = T_s X_\\delta(f)$, $0 ≤ f ≤ W$, δηλαδή, το σήμα $X(f)$ προκύπτει μετά από διάβαση του\n",
    "δειγματοληπτημένου $x_\\delta(t)$ μέσω ιδανικού βαθυπερατού φίλτρου κέρδους $T_s$. Από το προηγούμενο\n",
    "σχήμα γίνεται φανερό ότι εάν η δειγματοληψία γίνει με συχνότητα μικρότερη του διπλασίου της\n",
    "ανώτερης συχνότητας $W$ του σήματος (υποδειγμάτιση – undersampling), τότε εμφανίζονται στην\n",
    "περιοχή συχνοτήτων του σήματος «είδωλα» φάσματος από ανώτερες συχνότητες που δεν\n",
    "επιτρέπουν την ακριβή αποκατάσταση του αρχικού σήματος συνεχούς χρόνου. Το φαινόμενο αυτό\n",
    "ονομάζεται __αναδίπλωση__ ή __επικάλυψη__ (aliasing), το δε σφάλμα κατά την αποκατάσταση του\n",
    "αρχικού σήματος αποκαλείται σφάλμα αναδίπλωσης (aliasing error).\n",
    "Η δειγματοληψία στο πεδίο του χρόνου αποτελεί τη βάση για τον ορισμό του μετασχηματισμού\n",
    "Fourier διακριτού χρόνου (Discrete Time Fourier Transform – DTFT). Για μια σειρά διακριτών\n",
    "αριθμών $x[n]$, ο μετασχηματισμός Fourier διακριτού χρόνου ορίζεται ως:"
   ]
  },
  {
   "cell_type": "markdown",
   "metadata": {},
   "source": [
    "$$ \n",
    " \n",
    "X_d(\\phi) \\triangleq \\sum_{n=-\\infty}^{\\infty} x[n] \\exp (-j 2 \\pi n \\phi)\n",
    " \n",
    "$$"
   ]
  },
  {
   "cell_type": "markdown",
   "metadata": {},
   "source": [
    "O DTFT είναι περιοδική συνάρτηση με περίοδο $1$, επομένως, αρκεί ο υπολογισμός του στο\n",
    "διάστημα συχνοτήτων $[0,1]$ ή ισοδύναμα $[-½,½]$. Να σημειωθεί ότι ο DTFT, παρότι προκύπτει από\n",
    "μια σειρά διακριτών αριθμών $x[n]$, είναι συνεχής συνάρτηση της μεταβλητής $\\phi$ όπως παραστατικά\n",
    "φαίνεται στο επόμενο σχήμα."
   ]
  },
  {
   "cell_type": "code",
   "execution_count": 77,
   "metadata": {
    "tags": [
     "hide-input"
    ]
   },
   "outputs": [
    {
     "data": {
      "text/html": [
       "\n",
       "        <iframe\n",
       "            width=\"100%\"\n",
       "            height=\"650\"\n",
       "            src=\"http://127.0.0.1:8052/\"\n",
       "            frameborder=\"0\"\n",
       "            allowfullscreen\n",
       "            \n",
       "        ></iframe>\n",
       "        "
      ],
      "text/plain": [
       "<IPython.lib.display.IFrame at 0x29d32b66490>"
      ]
     },
     "metadata": {},
     "output_type": "display_data"
    }
   ],
   "source": [
    "from scipy.fftpack import fftshift, ifftshift\n",
    "\n",
    "\n",
    "app3 = Dash(__name__, external_stylesheets=[dbc.themes.BOOTSTRAP])\n",
    "\n",
    "# Παράμετροι δειγματοληψίας\n",
    "T = 1 / fs  # Sampling period\n",
    "L = 1000  # Number of samples\n",
    "\n",
    "# Create time vector\n",
    "t = np.arange(0, L) * T\n",
    "\n",
    "# Layout of the Dash app\n",
    "app3.layout = html.Div(\n",
    "    children=[\n",
    "        html.H2('Interactive Signal and Fourier Transformation'),\n",
    "        dcc.Slider(\n",
    "            id='samples-slider',\n",
    "            min=100,\n",
    "            max=1000,\n",
    "            step=25,\n",
    "            value=500, \n",
    "            marks={i: f'{i} samples' for i in range(100, 1000, 100)},\n",
    "            included=False,  # To remove the color fill\n",
    "            updatemode='drag',  # Update slider continuously while dragging\n",
    "            tooltip={'placement': 'bottom'}  # Show tooltip at the bottom\n",
    "        ),\n",
    "        dcc.RangeSlider(\n",
    "            id='frequency-slider',\n",
    "            min=1,\n",
    "            max=51,\n",
    "            step=1,\n",
    "            value=[5, 10],\n",
    "            marks={i: f'{i} Hz' for i in range(1, 51, 5)}\n",
    "        ),\n",
    "        dbc.Row(\n",
    "            children=[\n",
    "                dbc.Col(\n",
    "                    dcc.Graph(id='sampled-signal'),\n",
    "                    width=6\n",
    "                ),\n",
    "                dbc.Col(\n",
    "                    dcc.Graph(id='sampled-fourier-signal'),\n",
    "                    width=6\n",
    "                )\n",
    "\n",
    "            ]\n",
    "        )\n",
    "    ],\n",
    "    style={'backgroundColor': 'white', 'padding': '20px'}\n",
    ")\n",
    "\n",
    "# Callback to update graphs\n",
    "@app3.callback(\n",
    "    [Output('sampled-signal', 'figure'),\n",
    "     Output('sampled-fourier-signal', 'figure')],\n",
    "    [Input('frequency-slider', 'value'),\n",
    "    Input('samples-slider', 'value')]\n",
    ")\n",
    "def update_graph(selected_frequencies,selected_samples):\n",
    "    # Generate the signal with the selected frequencies\n",
    "    signal = np.zeros(len(t))\n",
    "    for f in range(selected_frequencies[0], selected_frequencies[1] + 1):\n",
    "        signal += np.sin(2 * np.pi * f * t)\n",
    "    \n",
    "   # Correct downsampling approach\n",
    "    sample_rate = selected_samples  # Directly using selected_samples as an integer\n",
    "    downsampling_factor = int(fs / sample_rate)  # Downsampling factor\n",
    "\n",
    "    # Downsample the signal by selecting every nth sample\n",
    "    downsampled_signal = signal[::downsampling_factor]\n",
    "\n",
    "    # Recalculate L for the downsampled signal if needed\n",
    "    L_downsampled = len(downsampled_signal)\n",
    "\n",
    "    # Calculate the DFT of the downsampled signal\n",
    "    sampled_signal_fft = fft(downsampled_signal)\n",
    "\n",
    "    # Calculate magnitude of Fourier coefficients (amplitude) for the downsampled signal\n",
    "    sampled_magnitude = np.abs(sampled_signal_fft)[:L_downsampled // 2]\n",
    "\n",
    "    n = len(downsampled_signal)\n",
    "    T = 1 / sample_rate  # Recalculate the sampling period with the selected sample rate\n",
    "\n",
    "    # After calculating the magnitude of Fourier coefficients\n",
    "    sampled_magnitude = np.abs(sampled_signal_fft)[:L_downsampled // 2]\n",
    "\n",
    "    # Create a new frequency vector that includes the replicated frequencies\n",
    "    # First, calculate the original frequency bins for the positive frequencies\n",
    "    original_sampled_freqs = fftfreq(L_downsampled, T)[:L_downsampled // 2]\n",
    "\n",
    "    shifted_freqs_negative = original_sampled_freqs - 1/T  # Shift for -1/Ts\n",
    "    shifted_freqs_positive = original_sampled_freqs + 1/T  # Shift for +1/Ts\n",
    "\n",
    "    # Concatenate the original and shifted (replicated) frequencies and magnitudes\n",
    "    # This includes the original frequencies, and the replications at -1/Ts and +1/Ts\n",
    "    replicated_freqs = np.concatenate([shifted_freqs_negative, original_sampled_freqs, shifted_freqs_positive])\n",
    "    replicated_magnitude = np.concatenate([sampled_magnitude, sampled_magnitude, sampled_magnitude])\n",
    "\n",
    "    # Sort the replicated frequencies and magnitudes in ascending order for proper plotting\n",
    "    sorted_indices = np.argsort(replicated_freqs)\n",
    "    sorted_replicated_freqs = replicated_freqs[sorted_indices]\n",
    "    sorted_replicated_magnitude = replicated_magnitude[sorted_indices]\n",
    "\n",
    "    # Generate an array of sample indices for the downsampled signal\n",
    "    sample_indices = np.arange(len(downsampled_signal))\n",
    "\n",
    "    # Update the Sampled signal graph to plot against sample indices\n",
    "    sampled_signal_figure = {\n",
    "        'data': [go.Scatter(x=sample_indices, y=downsampled_signal, mode='markers', marker=dict(color='#00CC96', size=7))],\n",
    "        'layout': go.Layout(\n",
    "            title='Sampled Signal',\n",
    "            xaxis={'title': 'Sample Number', 'showgrid': True, 'gridcolor': 'LightGrey'},\n",
    "            yaxis={'title': 'Amplitude', 'showgrid': True, 'gridcolor': 'LightGrey'},\n",
    "            margin={'l': 40, 'b': 40, 't': 40, 'r': 40},\n",
    "            hovermode='closest',\n",
    "            paper_bgcolor='white',\n",
    "            plot_bgcolor='white',\n",
    "            template='plotly_white'\n",
    "        )\n",
    "    }\n",
    "\n",
    "    # Normalize the frequency values\n",
    "    normalized_freqs = original_sampled_freqs / (1/T)\n",
    "\n",
    "    # Since you previously concatenated and sorted for replication, ensure to apply normalization there as well\n",
    "    normalized_replicated_freqs = np.concatenate([\n",
    "        (shifted_freqs_negative / (1/T)),  # Normalize -1/Ts shifted frequencies\n",
    "        normalized_freqs,  # Already normalized original frequencies\n",
    "        (shifted_freqs_positive / (1/T))   # Normalize +1/Ts shifted frequencies\n",
    "    ])\n",
    "\n",
    "    # Sort the normalized and replicated frequencies for proper plotting\n",
    "    sorted_indices = np.argsort(normalized_replicated_freqs)\n",
    "    sorted_normalized_replicated_freqs = normalized_replicated_freqs[sorted_indices]\n",
    "    sorted_replicated_magnitude = replicated_magnitude[sorted_indices]\n",
    "\n",
    "    # Update the Fourier Transformation graph with normalized frequencies\n",
    "    sampled_fourier_transform_figure = {\n",
    "        'data': [go.Scatter(x=sorted_normalized_replicated_freqs, y=sorted_replicated_magnitude, mode='lines', line=dict(color='#1F77B4', width=2))],\n",
    "        'layout': go.Layout(\n",
    "            title='Normalized Fourier Transformation of Sampled Signal',\n",
    "            xaxis={'title': 'Normalized Frequency (f/fs)', 'showgrid': True, 'gridcolor': 'LightGrey'},\n",
    "            yaxis={'title': 'Amplitude', 'showgrid': True, 'gridcolor': 'LightGrey'},\n",
    "            margin={'l': 40, 'b': 40, 't': 40, 'r': 40},\n",
    "            hovermode='closest',\n",
    "            paper_bgcolor='white',\n",
    "            plot_bgcolor='white',\n",
    "            template='plotly_white'\n",
    "        )\n",
    "    }\n",
    "\n",
    "    # Return this additional figure in the callback\n",
    "    return sampled_signal_figure, sampled_fourier_transform_figure\n",
    "\n",
    "    \n",
    "    \n",
    "\n",
    "if __name__ == '__main__':\n",
    "    app3.run_server(debug=True, port=8052)"
   ]
  },
  {
   "cell_type": "markdown",
   "metadata": {},
   "source": [
    "Με τη σειρά των διακριτών αριθμών να προκύπτει ως αποτέλεσμα δειγματοληψίας, $x[n]=x(nT_s)$, ο\n",
    "DTFT και ο μετασχηματισμός Fourier $X_\\delta(f)$ του δειγματοληπτημένου σήματος συνδέονται μέσω\n",
    "της αντιστοιχίας $\\phi ↔ f/f_s$. Η συνήθης πρακτική είναι να παριστάνουμε τον λόγο $f/f_s$ ως\n",
    "κανονικοποιημένη συχνότητα $\\phi$ ($f_D$, στις σημειώσεις σας) και οι πραγματικές συχνότητες να\n",
    "προκύπτουν ως πολλαπλάσιά της (συνήθως κλασματικά). Για τη σύνδεση του DTFT με τον μετασχηματισμό Fourier $X(f)$ του σήματος πρέπει επιπλέον να γίνει αναγωγή στην περίοδο δειγματοληψίας με πολλαπλασιασμό επί $T_s$ (ή διαίρεση με $f_s$).\n",
    "Κατ΄ αναλογία με τη δειγματοληψία σημάτων στο χρόνο μπορούμε να κάνουμε δειγματοληψία στο\n",
    "πεδίο της συχνότητας λαμβάνοντας διακριτές τιμές $X(kf_o)$ του μετασχηματισμού Fourier που\n",
    "αντιστοιχούν σε ανάλυση συχνότητας $f_o=1/T_o$. Αυτό ισοδυναμεί με περιοδική επανάληψη του\n",
    "σήματος συνεχούς χρόνου $x(t)$ κάθε $Τ_ο$, αφού το περιοδικό σήμα"
   ]
  },
  {
   "cell_type": "markdown",
   "metadata": {},
   "source": [
    "$$\n",
    " \n",
    "x_p(t)=\\sum_{n=-\\infty}^{\\infty} x\\left(t-n T_{o}\\right)\n",
    " \n",
    "$$"
   ]
  },
  {
   "cell_type": "markdown",
   "metadata": {},
   "source": [
    "έχει μετασχηματισμό Fourier"
   ]
  },
  {
   "cell_type": "markdown",
   "metadata": {},
   "source": [
    "$$\n",
    " \n",
    "X(f) \\sum_{n=-\\infty}^{\\infty} \\exp \\left(-j 2 \\pi f n T_{o}\\right)=X(f) \\frac{1}{T_{o}} \\sum_{k=-\\infty}^{\\infty} \\delta\\left(f-k / T_{o}\\right)=\\frac{1}{T_{o}} \\sum_{k=-\\infty}^{\\infty} X\\left(k / T_{o}\\right) \\delta\\left(f-k / T_{o}\\right)\n",
    " \n",
    "$$"
   ]
  },
  {
   "cell_type": "markdown",
   "metadata": {},
   "source": [
    "Επομένως, $X[k] = X(kf_o)/Τ_o$ είναι οι συντελεστές του αναπτύγματος σε σειρά Fourier.του περιοδικού\n",
    "σήματος $x_p(t)$. Προφανώς, για σήματα $x(t)$ πεπερασμένης διάρκειας, όπου $x(t)=0$ για $|t| ≥ T$, με την\n",
    "υπόθεση ότι η περίοδος $T_o ≥ 2T$, ισχύει ότι $x(t) = x_p(t)$ για $|t| ≤ T$.\n",
    "Στην πράξη, τα σήματα έχουν πολύ μεγάλη διάρκεια για να μπορέσουμε να τα αναλύσουμε στην\n",
    "ολότητά τους. Έτσι εφαρμόζουμε ένα ορθογωνικό χρονικό παράθυρο, ώστε να διατηρήσουμε μόνο\n",
    "το πιο σημαντικό τους μέρος για το διάστημα παρατήρησης και $x(t)= 0$, αλλού. Κατά τον\n",
    "υπολογισμό του DTFT $X_d(\\phi)$ ενός τέτοιου ακρωτηριασμένου σήματος, αντί του απείρου\n",
    "αθροίσματος, περιοριζόμαστε σε μια πεπερασμένου μήκους $L$ σειρά αριθμών $x[n]$, οπότε"
   ]
  },
  {
   "cell_type": "markdown",
   "metadata": {},
   "source": [
    "$$ \n",
    " \n",
    "X_d(\\phi)=\\sum_{n=0}^{L-1} x[n] \\exp (-j 2 \\pi n \\phi)\n",
    " \n",
    "$$"
   ]
  },
  {
   "cell_type": "markdown",
   "metadata": {},
   "source": [
    "H δειγματοληψία του $X_d(\\phi)$ στο πεδίο συχνότητας σε $Ν$ ισαπέχουσες κανονικοποιημένες συχνότητες $0$, $1/Ν$, $2/Ν$, $…$, $(Ν-1)/Ν$, δίνει"
   ]
  },
  {
   "cell_type": "markdown",
   "metadata": {},
   "source": [
    "$$ \n",
    " \n",
    "X[k]=X_{d}\\left(\\frac{k}{N}\\right)=\\sum_{n=0}^{N-1} x[n] \\exp \\left(-j 2 \\pi n \\frac{k}{N}\\right), \\quad 0 \\leq k \\leq N-1\n",
    " \n",
    "$$"
   ]
  },
  {
   "cell_type": "markdown",
   "metadata": {},
   "source": [
    "όπου, εάν $N≥L$, θέτουμε $x[n]=0$ για $n≥L$. Η τελευταία σχέση αναγνωρίζεται ως ο διακριτός μετασχηματισμός Fourier (Discrete Fourier Transform – DFT), ο οποίος για μια πεπερασμένη σειρά $xn$, $n=0$, $1$, $…$, $N-1$, ορίζεται ως:"
   ]
  },
  {
   "cell_type": "markdown",
   "metadata": {},
   "source": [
    "$$ \n",
    " \n",
    "X_{k} \\triangleq \\sum_{n=0}^{N-1} x_{n} \\exp \\left(-j 2 \\pi n \\frac{k}{N}\\right), \\quad 0 \\leq k \\leq N-1\n",
    " \n",
    "$$"
   ]
  },
  {
   "cell_type": "markdown",
   "metadata": {},
   "source": [
    "και ο αντίστροφός του είναι"
   ]
  },
  {
   "cell_type": "markdown",
   "metadata": {},
   "source": [
    "$$ \n",
    " \n",
    "x_{n}=\\frac{1}{N} \\sum_{k=0}^{N-1} X_{k} \\exp \\left(j 2 \\pi n \\frac{k}{N}\\right), \\quad 0 \\leq n \\leq N-1\n",
    " \n",
    "$$"
   ]
  },
  {
   "cell_type": "markdown",
   "metadata": {},
   "source": [
    "Η $X_d(\\phi)$ ως DTFT είναι περιοδική συνάρτηση και εάν η αρχική σειρά xn ήταν περιοδική (και δεν\n",
    "εφαρμόζαμε το παράθυρο), τότε η $X_d(\\phi)$ θα ήταν μηδέν παντού εκτός των σημείων της\n",
    "δειγματοληψίας $k/Ν$. Δηλαδή, εάν θεωρήσουμε μια πεπερασμένου μήκους σειρά αριθμών που\n",
    "επαναλαμβάνεται περιοδικά, o διακριτού χρόνου μετασχηματισμός Fourier της (DTFT) είναι και\n",
    "αυτός περιοδικός και διακριτός. Επιπλέον, ο DFT και ο αντίστροφός του IDFT, εάν δεν\n",
    "περιορίζαμε τους δείκτες $n$ και $k$ μεταξύ $0$ και $N-1$, θα ήταν περιοδικές συναρτήσεις. Άρα η\n",
    "πεπερασμένη σειρά xn μπορεί να θεωρηθεί ως ένα περιοδικό σήμα διακριτού χρόνου ιδωμένο μόνο\n",
    "κατά τη διάρκεια μιας περιόδου και ο DFT, η σειρά $X_k$, ως τα δείγματα με ανάλυση $1/Ν$ του DTFT\n",
    "$X_d(\\phi)$ στο πεδίο κανονικοποιημένων συχνοτήτων $[0,1]$, όπως φαίνεται στο επόμενο σχήμα."
   ]
  },
  {
   "cell_type": "code",
   "execution_count": 78,
   "metadata": {
    "tags": [
     "hide-input"
    ]
   },
   "outputs": [
    {
     "data": {
      "text/html": [
       "\n",
       "        <iframe\n",
       "            width=\"100%\"\n",
       "            height=\"650\"\n",
       "            src=\"http://127.0.0.1:8053/\"\n",
       "            frameborder=\"0\"\n",
       "            allowfullscreen\n",
       "            \n",
       "        ></iframe>\n",
       "        "
      ],
      "text/plain": [
       "<IPython.lib.display.IFrame at 0x29d338baf90>"
      ]
     },
     "metadata": {},
     "output_type": "display_data"
    }
   ],
   "source": [
    "from scipy.fftpack import fftshift, ifftshift\n",
    "\n",
    "\n",
    "app4 = Dash(__name__, external_stylesheets=[dbc.themes.BOOTSTRAP])\n",
    "\n",
    "# Παράμετροι δειγματοληψίας\n",
    "T = 1 / fs  # Sampling period\n",
    "L = 1000  # Number of samples\n",
    "\n",
    "# Create time vector\n",
    "t = np.arange(0, L) * T\n",
    "\n",
    "# Layout of the Dash app\n",
    "app4.layout = html.Div(\n",
    "    children=[\n",
    "        html.H2('Interactive Signal and Fourier Transformation'),\n",
    "        dcc.Slider(\n",
    "            id='samples-slider',\n",
    "            min=100,\n",
    "            max=1000,\n",
    "            step=25,\n",
    "            value=500, \n",
    "            marks={i: f'{i} samples' for i in range(100, 1000, 100)},\n",
    "            included=False,  # To remove the color fill\n",
    "            updatemode='drag',  # Update slider continuously while dragging\n",
    "            tooltip={'placement': 'bottom'}  # Show tooltip at the bottom\n",
    "        ),\n",
    "        dcc.RangeSlider(\n",
    "            id='frequency-slider',\n",
    "            min=1,\n",
    "            max=51,\n",
    "            step=1,\n",
    "            value=[5, 40],\n",
    "            marks={i: f'{i} Hz' for i in range(1, 51, 5)}\n",
    "        ),\n",
    "        dcc.Slider(\n",
    "            id='N-slider',\n",
    "            min=1,\n",
    "            max=25,\n",
    "            step=1,\n",
    "            value=1, \n",
    "            marks={i: f'{i} N' for i in range(1, 25, 1)},\n",
    "            included=False,  # To remove the color fill\n",
    "            updatemode='drag',  # Update slider continuously while dragging\n",
    "            tooltip={'placement': 'bottom'}  # Show tooltip at the bottom\n",
    "        ),\n",
    "        dbc.Row(\n",
    "            children=[\n",
    "                dbc.Col(\n",
    "                    dcc.Graph(id='sampled-signal'),\n",
    "                    width=6\n",
    "                ),\n",
    "                dbc.Col(\n",
    "                    dcc.Graph(id='sampled-fourier-signal'),\n",
    "                    width=6\n",
    "                )\n",
    "            ]\n",
    "        )\n",
    "    ],\n",
    "    style={'backgroundColor': 'white', 'padding': '20px'}\n",
    ")\n",
    "\n",
    "# Callback to update graphs\n",
    "@app4.callback(\n",
    "    [Output('sampled-signal', 'figure'),\n",
    "     Output('sampled-fourier-signal', 'figure')],\n",
    "    [Input('frequency-slider', 'value'),\n",
    "    Input('samples-slider', 'value'),\n",
    "    Input('N-slider','value')]\n",
    ")\n",
    "def update_graph(selected_frequencies,selected_samples,selected_N):\n",
    "    # Generate the signal with the selected frequencies\n",
    "    signal = np.zeros(len(t))\n",
    "    for f in range(selected_frequencies[0], selected_frequencies[1] + 1):\n",
    "        signal += np.sin(2 * np.pi * f * t)\n",
    "    \n",
    "   # Correct downsampling approach\n",
    "    sample_rate = selected_samples  # Directly using selected_samples as an integer\n",
    "    downsampling_factor = int(fs / sample_rate)  # Downsampling factor\n",
    "\n",
    "    # Downsample the signal by selecting every nth sample\n",
    "    downsampled_signal = signal[::downsampling_factor]\n",
    "\n",
    "    # Recalculate L for the downsampled signal if needed\n",
    "    L_downsampled = len(downsampled_signal)\n",
    "\n",
    "    # Calculate the DFT of the downsampled signal\n",
    "    sampled_signal_fft = fft(downsampled_signal)\n",
    "\n",
    "    # Calculate magnitude of Fourier coefficients (amplitude) for the downsampled signal\n",
    "    sampled_magnitude = np.abs(sampled_signal_fft)[:L_downsampled // 2]\n",
    "\n",
    "    n = len(downsampled_signal)\n",
    "    T = 1 / sample_rate  # Recalculate the sampling period with the selected sample rate\n",
    "\n",
    "    # After calculating the magnitude of Fourier coefficients\n",
    "    sampled_magnitude = np.abs(sampled_signal_fft)[:L_downsampled // 2]\n",
    "\n",
    "    # Create a new frequency vector that includes the replicated frequencies\n",
    "    # First, calculate the original frequency bins for the positive frequencies\n",
    "    original_sampled_freqs = fftfreq(L_downsampled, T)[:L_downsampled // 2]\n",
    "\n",
    "    shifted_freqs_negative = original_sampled_freqs - 1/T  # Shift for -1/Ts\n",
    "    shifted_freqs_positive = original_sampled_freqs + 1/T  # Shift for +1/Ts\n",
    "\n",
    "    # Concatenate the original and shifted (replicated) frequencies and magnitudes\n",
    "    # This includes the original frequencies, and the replications at -1/Ts and +1/Ts\n",
    "    replicated_freqs = np.concatenate([shifted_freqs_negative, original_sampled_freqs, shifted_freqs_positive])\n",
    "    replicated_magnitude = np.concatenate([sampled_magnitude, sampled_magnitude, sampled_magnitude])\n",
    "\n",
    "    # Sort the replicated frequencies and magnitudes in ascending order for proper plotting\n",
    "    sorted_indices = np.argsort(replicated_freqs)\n",
    "    sorted_replicated_freqs = replicated_freqs[sorted_indices]\n",
    "    sorted_replicated_magnitude = replicated_magnitude[sorted_indices]\n",
    "\n",
    "    # Generate an array of sample indices for the downsampled signal\n",
    "    sample_indices = np.arange(len(downsampled_signal))\n",
    "\n",
    "    # Create data for the markers on top of the stems\n",
    "    sampled_signal_markers = go.Scatter(\n",
    "        x=sample_indices, \n",
    "        y=downsampled_signal, \n",
    "        mode='markers', \n",
    "        marker=dict(color='#00CC96', size=5),\n",
    "        name='Markers'\n",
    "    )\n",
    "\n",
    "    # Create a list to hold all the scatter plots for the stems\n",
    "    sampled_signal_stems = []\n",
    "\n",
    "    # For each sample point, create a line from the x-axis to the point\n",
    "    for x, y in zip(sample_indices, downsampled_signal):\n",
    "        sampled_signal_stems.append(\n",
    "            go.Scatter(\n",
    "                x=[x, x],\n",
    "                y=[0, y],\n",
    "                mode='lines',\n",
    "                line=dict(color='#00CC96', width=0.3),\n",
    "                showlegend=False  # Hide legend for each stem\n",
    "            )\n",
    "        )\n",
    "\n",
    "    # Combine markers and stems for the plot\n",
    "    sampled_signal_data = [sampled_signal_markers] + sampled_signal_stems\n",
    "\n",
    "    # Update the figure with the new layout\n",
    "    sampled_signal_figure = {\n",
    "        'data': sampled_signal_data,\n",
    "        'layout': go.Layout(\n",
    "            title='Sampled Signal',\n",
    "            xaxis={'title': 'Sample Number', 'showgrid': True, 'gridcolor': 'LightGrey'},\n",
    "            yaxis={'title': 'Amplitude', 'showgrid': True, 'gridcolor': 'LightGrey'},\n",
    "            margin={'l': 40, 'b': 40, 't': 40, 'r': 40},\n",
    "            hovermode='closest',\n",
    "            paper_bgcolor='white',\n",
    "            plot_bgcolor='white',\n",
    "            template='plotly_white'\n",
    "        )\n",
    "    }\n",
    "\n",
    "    # Normalize the frequency values\n",
    "    normalized_freqs = original_sampled_freqs / (1/T)\n",
    "\n",
    "    # Since you previously concatenated and sorted for replication, ensure to apply normalization there as well\n",
    "    normalized_replicated_freqs = np.concatenate([\n",
    "        (shifted_freqs_negative / (1/T)),  # Normalize -1/Ts shifted frequencies\n",
    "        normalized_freqs,  # Already normalized original frequencies\n",
    "        (shifted_freqs_positive / (1/T))   # Normalize +1/Ts shifted frequencies\n",
    "    ])\n",
    "\n",
    "    # Sort the normalized and replicated frequencies for proper plotting\n",
    "    sorted_indices = np.argsort(normalized_replicated_freqs)\n",
    "    sorted_normalized_replicated_freqs = normalized_replicated_freqs[sorted_indices]\n",
    "    sorted_replicated_magnitude = replicated_magnitude[sorted_indices]\n",
    "\n",
    "    # Let's assume N is defined; for example, N could be 10 for sampling every 1/10th\n",
    "    N=selected_N\n",
    "\n",
    "    # Adjust the sampling interval for selecting frequencies and magnitudes\n",
    "    sampled_indices = np.arange(0, len(sorted_normalized_replicated_freqs), N)\n",
    "    sampled_normalized_replicated_freqs = sorted_normalized_replicated_freqs[sampled_indices]\n",
    "    sampled_replicated_magnitude = sorted_replicated_magnitude[sampled_indices]\n",
    "\n",
    "    markers_data = go.Scatter(\n",
    "    x=sampled_normalized_replicated_freqs, \n",
    "    y=sampled_replicated_magnitude, \n",
    "    mode='markers', \n",
    "    marker=dict(color='#00CC96', size=5),\n",
    "    name='Markers',\n",
    "    showlegend=False\n",
    ")\n",
    "\n",
    "    # Create a list to hold all the scatter plots for the stems\n",
    "    stems_data = []\n",
    "\n",
    "    # For each point, create a line from the x-axis to the point\n",
    "    for x, y in zip(sampled_normalized_replicated_freqs, sampled_replicated_magnitude):\n",
    "        stems_data.append(\n",
    "            go.Scatter(\n",
    "                x=[x, x],\n",
    "                y=[0, y],\n",
    "                mode='lines',\n",
    "                line=dict(color='#00CC96', width=0.25),\n",
    "                showlegend=False  # Hide legend for each stem\n",
    "            )\n",
    "        )\n",
    "\n",
    "    # Combine markers and stems for the plot\n",
    "    data = [markers_data] + stems_data\n",
    "\n",
    "    # Update the figure with the new layout\n",
    "    sampled_fourier_transform_figure = {\n",
    "        'data': data,\n",
    "        'layout': go.Layout(\n",
    "            title='Sampled Normalized Fourier Transformation of Sampled Signal',\n",
    "            xaxis={'title': 'Sampled Normalized Frequency (f/fs)', 'showgrid': True, 'gridcolor': 'LightGrey'},\n",
    "            yaxis={'title': 'Amplitude', 'showgrid': True, 'gridcolor': 'LightGrey'},\n",
    "            margin={'l': 40, 'b': 40, 't': 40, 'r': 40},\n",
    "            hovermode='closest',\n",
    "            paper_bgcolor='white',\n",
    "            plot_bgcolor='white',\n",
    "            template='plotly_white'\n",
    "        )\n",
    "    }\n",
    "\n",
    "    # Return this additional figure in the callback\n",
    "    return sampled_signal_figure, sampled_fourier_transform_figure\n",
    "\n",
    "    \n",
    "    \n",
    "\n",
    "if __name__ == '__main__':\n",
    "    app4.run_server(debug=True, port=8053)"
   ]
  },
  {
   "cell_type": "markdown",
   "metadata": {},
   "source": [
    "#### Φασματική Ανάλυση\n",
    "Για τον υπολογισμό της ενέργειας ή ισχύος της κυματομορφής $x(t)$, ανάλογα με την περίπτωση\n",
    "σήματος, ισχύει"
   ]
  },
  {
   "cell_type": "markdown",
   "metadata": {},
   "source": [
    "$$\n",
    " \n",
    "E_{X}=\\int_{-\\infty}^{\\infty} x^{2}(t) d t=\\int_{-\\infty}^{\\infty}|X(f)|^{2} d f\n",
    " \n",
    "$$"
   ]
  },
  {
   "cell_type": "markdown",
   "metadata": {},
   "source": [
    "$$ \n",
    " \n",
    "P_{X}=\\lim _{T \\rightarrow \\infty} \\frac{1}{T} \\int_{-T / 2}^{T / 2} x^{2}(t) d t=\\int_{-\\infty}^{\\infty} S_{X}(f) d f\n",
    " \n",
    "$$"
   ]
  },
  {
   "cell_type": "markdown",
   "metadata": {},
   "source": [
    "όπου για σήματα ισχύος $S_Χ(f)$ είναι η πυκνότητα φάσματος ισχύος (Power Spectral Density – PSD)\n",
    "της $x(t)$. Για σήματα διακριτού χρόνου που προκύπτουν από δειγματοληψία της $x(t)$ με περίοδο $T_s$,\n",
    "οι αντίστοιχες σχέσεις υπολογισμό της ενέργειας ή ισχύος γίνονται"
   ]
  },
  {
   "cell_type": "markdown",
   "metadata": {},
   "source": [
    "$$ \n",
    " \n",
    "E_{X}=T_{s} \\sum_{n=-\\infty}^{\\infty} x^{2}[n]\n",
    " \n",
    "$$"
   ]
  },
  {
   "cell_type": "markdown",
   "metadata": {},
   "source": [
    "$$ \n",
    " \n",
    "P_{X}=\\lim _{N \\rightarrow \\infty} \\frac{1}{2 N+1} \\sum_{n=-N}^{N} x^{2}[n]\n",
    " \n",
    "$$"
   ]
  },
  {
   "cell_type": "markdown",
   "metadata": {},
   "source": [
    "Ένας απλός τρόπος να εκτιμηθεί η πυκνότητα φάσματος ισχύος της κυματομορφής $x(t)$ είναι να\n",
    "ληφθεί ο DTFT των δειγμάτων του σήματος και μετά να υψωθεί στο τετράγωνο το μέτρο του\n",
    "αποτελέσματος. Αυτός ο εκτιμητής αποκαλείται περιοδόγραμμα (periodogram). Το περιοδόγραμμα\n",
    "ενός πεπερασμένου μήκους $L$ σήματος $x[n]$ ορίζεται ως"
   ]
  },
  {
   "cell_type": "markdown",
   "metadata": {},
   "source": [
    "$$ \n",
    " \n",
    "P_{x x}(f) \\triangleq \\frac{\\left|X_{d}\\left(f / f_{s}\\right)\\right|^{2}}{f_{s} L}\n",
    " \n",
    "$$"
   ]
  },
  {
   "cell_type": "markdown",
   "metadata": {},
   "source": [
    "όπου $X_d(\\phi)$ o DTFT του σήματος. Με το μήκος $L$ να τείνει στο άπειρο, το περιοδόγραμμα $P_{xx}(f)$\n",
    "τείνει στην πυκνότητα φάσματος ισχύος $S_Χ(f)$. Ο υπολογισμός του περιοδογράμματος σε\n",
    "πεπερασμένο πλήθος συχνοτήτων $kf_s/Ν$, $k=0$, $1$, $…$ , $Ν$ δίνει"
   ]
  },
  {
   "cell_type": "markdown",
   "metadata": {},
   "source": [
    "$$ \n",
    " \n",
    "P_{x x}[k]=\\frac{\\left|X_{k}\\right|^{2}}{f_{s} L}, \\quad k=0,1, \\ldots, N-1\n",
    " \n",
    "$$"
   ]
  },
  {
   "cell_type": "markdown",
   "metadata": {},
   "source": [
    "όπου $X_k$ και ο DFT της πεπερασμένου μήκους $L$ σειράς δειγμάτων του σήματος. Η ισχύς του\n",
    "σήματος είναι τότε"
   ]
  },
  {
   "cell_type": "markdown",
   "metadata": {},
   "source": [
    "$$ \n",
    " \n",
    "P_{X}=\\frac{1}{f_{s} L} \\sum_{k=0}^{N-1}\\left|X_{k}\\right|^{2} f_{o}=\\frac{1}{N L} \\sum_{k=0}^{N-1}\\left|X_{k}\\right|^{2}=\\frac{1}{L} \\sum_{n=0}^{L-1}\\left|x_{n}\\right|^{2}\n",
    " \n",
    "$$"
   ]
  },
  {
   "cell_type": "markdown",
   "metadata": {},
   "source": [
    "όπου η τελευταία ισότητα προκύπτει από το θεώρημα Parseval, που για την περίπτωση του DFT\n",
    "εκφράζεται ως:"
   ]
  },
  {
   "cell_type": "markdown",
   "metadata": {},
   "source": [
    "$$ \n",
    " \n",
    "\\sum_{n=0}^{N-1}\\left|x_{n}\\right|^{2}=\\frac{1}{N} \\sum_{k=0}^{N-1}\\left|X_{k}\\right|^{2}\n",
    " \n",
    "$$"
   ]
  },
  {
   "cell_type": "markdown",
   "metadata": {},
   "source": [
    "Στην ειδική περίπτωση περιοδικών σημάτων έχουμε"
   ]
  },
  {
   "cell_type": "markdown",
   "metadata": {},
   "source": [
    "$$ \n",
    " \n",
    "S_x(f) = \\sum_{k=-\\infty}^{\\infty} |X[k]|^2 \\delta(f - k/T_0)\n",
    " \n",
    "$$"
   ]
  },
  {
   "cell_type": "markdown",
   "metadata": {},
   "source": [
    "$$ \n",
    " \n",
    "P_x = \\sum_{k=-\\infty}^{\\infty} |X[k]|^2\n",
    " \n",
    "$$"
   ]
  },
  {
   "cell_type": "markdown",
   "metadata": {},
   "source": [
    "όπου $X[k]$ οι συντελεστές του αναπτύγματος σε σειρά Fourier και $T_o$ η περίοδος του σήματος."
   ]
  },
  {
   "cell_type": "markdown",
   "metadata": {},
   "source": [
    "### Μέρος 3:  Εφαρμογή Α"
   ]
  },
  {
   "cell_type": "code",
   "execution_count": 84,
   "metadata": {
    "tags": [
     "hide-input"
    ]
   },
   "outputs": [
    {
     "data": {
      "text/html": [
       "\n",
       "        <iframe\n",
       "            width=\"100%\"\n",
       "            height=\"650\"\n",
       "            src=\"http://127.0.0.1:8059/\"\n",
       "            frameborder=\"0\"\n",
       "            allowfullscreen\n",
       "            \n",
       "        ></iframe>\n",
       "        "
      ],
      "text/plain": [
       "<IPython.lib.display.IFrame at 0x29d33b0b050>"
      ]
     },
     "metadata": {},
     "output_type": "display_data"
    }
   ],
   "source": [
    "app10 = Dash(__name__, external_stylesheets=[dbc.themes.BOOTSTRAP])\n",
    "\n",
    "\n",
    "# Layout of the Dash app\n",
    "app10.layout = html.Div(\n",
    "    children=[\n",
    "        html.H2('Interactive Signal'),\n",
    "        dcc.Slider(\n",
    "            id='Fs_slider',\n",
    "            min=100,\n",
    "            max=2000,\n",
    "            step=100,\n",
    "            value=1000, \n",
    "            marks={i: f'{i} Hz' for i in range(100, 2000, 100)},\n",
    "            included=False,  # To remove the color fill\n",
    "            updatemode='drag',  # Update slider continuously while dragging\n",
    "            tooltip={'placement': 'bottom'}  # Show tooltip at the bottom\n",
    "        ),\n",
    "        dcc.Slider(\n",
    "            id='Fo_slider',\n",
    "            min=40,\n",
    "            max=400,\n",
    "            step=10,\n",
    "            value=100, \n",
    "            marks={i: f'{i} Hz' for i in range(40, 400, 20)},\n",
    "            included=False,  # To remove the color fill\n",
    "            updatemode='drag',  # Update slider continuously while dragging\n",
    "            tooltip={'placement': 'bottom'}  # Show tooltip at the bottom\n",
    "        ),\n",
    "        dbc.Row(\n",
    "            children=[\n",
    "                dbc.Col(\n",
    "                    dcc.Graph(id='signal'),\n",
    "                    width=12\n",
    "                ),\n",
    "                dbc.Col(\n",
    "                    dcc.Graph(id='freq_signal'),\n",
    "                    width=12\n",
    "                ),\n",
    "                dbc.Col(\n",
    "                    dcc.Graph(id='double_signal'),\n",
    "                    width=12\n",
    "                ),\n",
    "                dbc.Col(\n",
    "                    dcc.Graph(id='spectrum_signal'),\n",
    "                    width=12\n",
    "                )\n",
    "            ]\n",
    "        )\n",
    "    ],\n",
    "    style={'backgroundColor': 'white', 'padding': '20px'}\n",
    ")\n",
    "\n",
    "# Callback to update graphs\n",
    "@app10.callback(\n",
    "    [Output('signal', 'figure'),\n",
    "     Output('freq_signal', 'figure'),\n",
    "     Output('double_signal', 'figure'),\n",
    "     Output('spectrum_signal', 'figure')],\n",
    "    [Input('Fs_slider', 'value'),\n",
    "     Input('Fo_slider', 'value')]\n",
    ")\n",
    "def update_graph(selected_frequencies,selected_Fo):\n",
    "    # Part 1: Create the signal\n",
    "    Fs = selected_frequencies        # Sampling frequency 1000 Hz\n",
    "    Ts = 1 / Fs                      # Sampling period\n",
    "    L = 1000                         # Length of signal (number of samples)\n",
    "    T = L * Ts                       # Duration of signal\n",
    "    t = np.arange(0, (L - 1) * Ts, Ts)  # Time vector\n",
    "\n",
    "    global x \n",
    "    x = np.sin(2 * np.pi * (selected_Fo-30) * t) \\\n",
    "        + 0.8 * np.sin(2 * np.pi * (selected_Fo+20) * (t - 2)) \\\n",
    "        + np.sin(2 * np.pi * selected_Fo * t)  # 60 Hz component\n",
    "\n",
    "    # Original signal graph\n",
    "    signal = {\n",
    "        'data': [go.Scatter(x=t, y=x, mode='lines', line=dict(color='#00CC96'))],\n",
    "        'layout': go.Layout(\n",
    "            title='Time domain plot of x',\n",
    "            xaxis={'title': 't (sec)', 'showgrid': True, 'gridcolor': 'LightGrey'},\n",
    "            yaxis={'title': 'Amplitude', 'showgrid': True, 'gridcolor': 'LightGrey'},\n",
    "            margin={'l': 40, 'b': 40, 't': 40, 'r': 40},\n",
    "            hovermode='closest',\n",
    "            paper_bgcolor='white',\n",
    "            plot_bgcolor='white',\n",
    "            template='plotly_white'\n",
    "        )\n",
    "    }\n",
    "    \n",
    "    # Fourier transform\n",
    "    def nextpow2(i):\n",
    "        n = 1\n",
    "        while n < i:\n",
    "            n *= 2\n",
    "        return n\n",
    "\n",
    "    N = nextpow2(L)                 # Length of Fourier transform\n",
    "    Fo = Fs / N                     # Frequency resolution\n",
    "    f = np.arange(0, N) * Fo        # Frequency vector\n",
    "    X = np.fft.fft(x, N)            # Compute DFT for N points\n",
    "\n",
    "\n",
    "    freq_signal = {\n",
    "        'data': [go.Scatter(x=f[1:N], y=abs(X[1:N]), mode='lines', line=dict(color='#1F77B4'))],\n",
    "        'layout': go.Layout(\n",
    "            title='Frequency domain plot of x',\n",
    "            xaxis={'title': 'f (Hz)', 'showgrid': True, 'gridcolor': 'LightGrey'},\n",
    "            yaxis={'title': 'Amplitude', 'showgrid': True, 'gridcolor': 'LightGrey'},\n",
    "            margin={'l': 40, 'b': 40, 't': 40, 'r': 40},\n",
    "            hovermode='closest',\n",
    "            paper_bgcolor='white',\n",
    "            plot_bgcolor='white',\n",
    "            template='plotly_white'\n",
    "        )\n",
    "    }\n",
    "\n",
    "    # Shift frequencies to center\n",
    "    f = f - Fs / 2\n",
    "    X = np.fft.fftshift(X)\n",
    "\n",
    "    # Two-sided spectrum of x\n",
    "    f_shifted = f \n",
    "\n",
    "    double_signal = {\n",
    "        'data': [go.Scatter(x=f_shifted, y=abs(X), mode='lines', line=dict(color='#1F77B4'))],\n",
    "        'layout': go.Layout(\n",
    "            title='Two sided spectrum of x',\n",
    "            xaxis={'title': 'f (Hz)', 'showgrid': True, 'gridcolor': 'LightGrey'},\n",
    "            yaxis={'title': 'Amplitude', 'showgrid': True, 'gridcolor': 'LightGrey'},\n",
    "            margin={'l': 40, 'b': 40, 't': 40, 'r': 40},\n",
    "            hovermode='closest',\n",
    "            paper_bgcolor='white',\n",
    "            plot_bgcolor='white',\n",
    "            template='plotly_white'\n",
    "        )\n",
    "    }\n",
    "\n",
    "    # Calculate power\n",
    "    power = np.multiply(X, np.conj(X)) / N / L\n",
    "\n",
    "    spectrum_signal = {\n",
    "        'data': [go.Scatter(x=f_shifted, y=power.real, mode='lines', line=dict(color='#1F77B4'))],\n",
    "        'layout': go.Layout(\n",
    "            title='Periodogram',\n",
    "            xaxis={'title': 'Frequency (Hz)', 'showgrid': True, 'gridcolor': 'LightGrey'},\n",
    "            yaxis={'title': 'Power', 'showgrid': True, 'gridcolor': 'LightGrey'},\n",
    "            margin={'l': 40, 'b': 40, 't': 40, 'r': 40},\n",
    "            hovermode='closest',\n",
    "            paper_bgcolor='white',\n",
    "            plot_bgcolor='white',\n",
    "            template='plotly_white'\n",
    "        )\n",
    "    }\n",
    "\n",
    "    # Return this additional figure in the callback\n",
    "    return signal,freq_signal,double_signal,spectrum_signal\n",
    "\n",
    "    \n",
    "\n",
    "if __name__ == '__main__':\n",
    "    app10.run_server(debug=True, port=8059)\n"
   ]
  },
  {
   "cell_type": "code",
   "execution_count": 80,
   "metadata": {
    "tags": [
     "hide-input"
    ]
   },
   "outputs": [
    {
     "data": {
      "text/html": [
       "\n",
       "        <iframe\n",
       "            width=\"100%\"\n",
       "            height=\"650\"\n",
       "            src=\"http://127.0.0.1:8060/\"\n",
       "            frameborder=\"0\"\n",
       "            allowfullscreen\n",
       "            \n",
       "        ></iframe>\n",
       "        "
      ],
      "text/plain": [
       "<IPython.lib.display.IFrame at 0x29d337e3310>"
      ]
     },
     "metadata": {},
     "output_type": "display_data"
    }
   ],
   "source": [
    "# Part 2 Προσθέστε θόρυβο στο σήμα\n",
    "\n",
    "# Συμπληρώστε τον κώδικα για τη δημιουργία του σήματος θορύβου n με τη βοήθεια της συνάρτησης randn.\n",
    "# Το διάνυσμα θορύβου n θα πρέπει να είναι του ίδιου μεγέθους με αυτό της ημιτονοειδούς κυματομορφής x του πρώτου μέρους.\n",
    "# Σχεδιάστε το σήμα θορύβου στο διάστημα από 0 έως 0.2 sec και κλίμακα σε από -2 έως 2.\n",
    "# Υπολογίστε το περιοδόγραμμα του n και σχεδιάστε την πυκνότητα φάσματος ισχύος του σήματος θορύβου.\n",
    "# Προσθέστε το σήμα θορύβου και το x για να λάβετε το σήμα με θόρυβο s.\n",
    "# Σχεδιάσατε το σήμα με θόρυβο s στο πεδίο του χρόνου στην περιοχή 0 έως 0.2 sec \n",
    "# και κλίμακα από -2 έως 2 καθώς και το αμφίπλευρο φάσμα του.\n",
    "\n",
    "app11 = Dash(__name__, external_stylesheets=[dbc.themes.BOOTSTRAP])\n",
    "\n",
    "\n",
    "# Layout of the Dash app\n",
    "app11.layout = html.Div(\n",
    "    children=[\n",
    "        html.H2(''),\n",
    "        dcc.Slider(\n",
    "            id='Fs_slider',\n",
    "            min=100,\n",
    "            max=2000,\n",
    "            step=100,\n",
    "            value=1000, \n",
    "            marks={i: f'{i} Hz' for i in range(100, 2000, 100)},\n",
    "            included=False,  # To remove the color fill\n",
    "            updatemode='drag',  # Update slider continuously while dragging\n",
    "            tooltip={'placement': 'bottom'}  # Show tooltip at the bottom\n",
    "        ),\n",
    "        dbc.Row(\n",
    "            children=[\n",
    "                dbc.Col(\n",
    "                    dcc.Graph(id='signal'),\n",
    "                    width=12\n",
    "                ),\n",
    "                dbc.Col(\n",
    "                    dcc.Graph(id='freq_signal'),\n",
    "                    width=12\n",
    "                ),\n",
    "                dbc.Col(\n",
    "                    dcc.Graph(id='double_signal'),\n",
    "                    width=12\n",
    "                ),\n",
    "                dbc.Col(\n",
    "                    dcc.Graph(id='spectrum_signal'),\n",
    "                    width=12\n",
    "                )\n",
    "            ]\n",
    "        )\n",
    "    ],\n",
    "    style={'backgroundColor': 'white', 'padding': '20px'}\n",
    ")\n",
    "\n",
    "# Callback to update graphs\n",
    "@app11.callback(\n",
    "    [Output('signal', 'figure'),\n",
    "     Output('freq_signal', 'figure'),\n",
    "     Output('double_signal', 'figure'),\n",
    "     Output('spectrum_signal', 'figure')],\n",
    "    [Input('Fs_slider', 'value')]\n",
    ")\n",
    "def update_graph(selected_frequencies):\n",
    "\n",
    "    rand_n = np.random.randn(np.size(x))\n",
    "    Fs=selected_frequencies\n",
    "    # Original signal graph\n",
    "    domain_n = {\n",
    "        'data': [go.Scatter(x=t, y=rand_n, mode='lines', line=dict(color='#00CC96'))],\n",
    "        'layout': go.Layout(\n",
    "            title='Time domain plot of n',\n",
    "            xaxis={'title': 't (sec)', 'showgrid': True, 'gridcolor': 'LightGrey', 'range': [0, 0.2]},\n",
    "            yaxis={'title': 'Amplitude', 'showgrid': True, 'gridcolor': 'LightGrey'},\n",
    "            margin={'l': 40, 'b': 40, 't': 40, 'r': 40},\n",
    "            hovermode='closest',\n",
    "            paper_bgcolor='white',\n",
    "            plot_bgcolor='white',\n",
    "            template='plotly_white'\n",
    "        )\n",
    "    }\n",
    "    \n",
    "\n",
    "    # Fourier transform\n",
    "    def nextpow2(i):\n",
    "        n = 1\n",
    "        while n < i:\n",
    "            n *= 2\n",
    "        return n\n",
    "    \n",
    "\n",
    "    # Correction for N calculation using bitwise operator\n",
    "    N = 2^nextpow2(L)\n",
    "    Fo = Fs / N   \n",
    "    f = (np.arange(0, N)) * Fo\n",
    "    f_shifted = f - Fs/2\n",
    "    rand_N = np.fft.fft(rand_n, N)\n",
    "    rand_N = np.fft.fftshift(rand_N)\n",
    "    power_n = np.multiply(rand_N, np.conj(rand_N)) / N / L\n",
    "\n",
    "    freq_domain = {\n",
    "        'data': [go.Scatter(x=f_shifted, y=power_n.real, mode='lines', line=dict(color='#1F77B4'))],\n",
    "        'layout': go.Layout(\n",
    "            title='Frequency domain plot of x',\n",
    "            xaxis={'title': 'f (Hz)', 'showgrid': True, 'gridcolor': 'LightGrey'},\n",
    "            yaxis={'title': 'Amplitude', 'showgrid': True, 'gridcolor': 'LightGrey'},\n",
    "            margin={'l': 40, 'b': 40, 't': 40, 'r': 40},\n",
    "            hovermode='closest',\n",
    "            paper_bgcolor='white',\n",
    "            plot_bgcolor='white',\n",
    "            template='plotly_white'\n",
    "        )\n",
    "    }\n",
    "    \n",
    "\n",
    "    s = x + rand_n\n",
    "    spectrum = {\n",
    "        'data': [go.Scatter(x=t, y=s, mode='lines', line=dict(color='#00CC96'))],\n",
    "        'layout': go.Layout(\n",
    "            title='Two sided spectrum of x',\n",
    "            xaxis={'title': 't (sec)', 'showgrid': True, 'gridcolor': 'LightGrey', 'range': [0, 0.2]},\n",
    "            yaxis={'title': 'Amplitude', 'showgrid': True, 'gridcolor': 'LightGrey'},\n",
    "            margin={'l': 40, 'b': 40, 't': 40, 'r': 40},\n",
    "            hovermode='closest',\n",
    "            paper_bgcolor='white',\n",
    "            plot_bgcolor='white',\n",
    "            template='plotly_white'\n",
    "        )\n",
    "    }\n",
    "    \n",
    "    S = np.fft.fft(s, N)\n",
    "    S = np.fft.fftshift(S)\n",
    "\n",
    "\n",
    "    spectrum_two_sided = {\n",
    "        'data': [go.Scatter(x=f_shifted, y=np.abs(S), mode='lines', line=dict(color='#1F77B4'))],\n",
    "        'layout': go.Layout(\n",
    "            title='Two sided spectrum of s',\n",
    "            xaxis={'title': 'f (Hz)', 'showgrid': True, 'gridcolor': 'LightGrey'},\n",
    "            yaxis={'title': 'Amplitude', 'showgrid': True, 'gridcolor': 'LightGrey'},\n",
    "            margin={'l': 40, 'b': 40, 't': 40, 'r': 40},\n",
    "            hovermode='closest',\n",
    "            paper_bgcolor='white',\n",
    "            plot_bgcolor='white',\n",
    "            template='plotly_white'\n",
    "        )\n",
    "    }\n",
    "\n",
    "\n",
    "    # Return this additional figure in the callback\n",
    "    return domain_n,freq_domain,spectrum,spectrum_two_sided\n",
    "\n",
    "    \n",
    "\n",
    "if __name__ == '__main__':\n",
    "    app11.run_server(debug=True, port=8060)"
   ]
  },
  {
   "cell_type": "code",
   "execution_count": 81,
   "metadata": {
    "tags": [
     "hide-input"
    ]
   },
   "outputs": [
    {
     "data": {
      "text/html": [
       "\n",
       "        <iframe\n",
       "            width=\"100%\"\n",
       "            height=\"650\"\n",
       "            src=\"http://127.0.0.1:8063/\"\n",
       "            frameborder=\"0\"\n",
       "            allowfullscreen\n",
       "            \n",
       "        ></iframe>\n",
       "        "
      ],
      "text/plain": [
       "<IPython.lib.display.IFrame at 0x29d33208ed0>"
      ]
     },
     "metadata": {},
     "output_type": "display_data"
    }
   ],
   "source": [
    "# Part 3. Πολλαπλασιασμός σημάτων\n",
    "\n",
    "# Συμπληρώστε τον κώδικα δημιουργίας ενός ημιτονοειδούς σήματος συχνότητας\n",
    "# 100 Hz και πολλαπλασιάστε με το προηγούμενο σήμα s.\n",
    "# Τα δύο σήματα θα πρέπει να είναι του ίδιου μεγέθους.\n",
    "# Σχεδιάστε το αποτέλεσμα στο πεδίο του χρόνου στην περιοχή 0 έως 0.2 sec\n",
    "# και κλίμακα από -2 έως 2 καθώς και στο πεδίο της συχνότητας\n",
    "# χρησιμοποιώντας τη συνάρτηση fftshift.\n",
    "\n",
    "\n",
    "app12 = Dash(__name__, external_stylesheets=[dbc.themes.BOOTSTRAP])\n",
    "\n",
    "\n",
    "# Layout of the Dash app\n",
    "app12.layout = html.Div(\n",
    "    children=[\n",
    "        html.H2(''),\n",
    "        dcc.Slider(\n",
    "            id='Fο_slider',\n",
    "            min=10,\n",
    "            max=200,\n",
    "            step=10,\n",
    "            value=100, \n",
    "            marks={i: f'{i} Hz' for i in range(10, 200, 10)},\n",
    "            included=False,  # To remove the color fill\n",
    "            updatemode='drag',  # Update slider continuously while dragging\n",
    "            tooltip={'placement': 'bottom'}  # Show tooltip at the bottom\n",
    "        ),\n",
    "        dbc.Row(\n",
    "            children=[\n",
    "                dbc.Col(\n",
    "                    dcc.Graph(id='domain_y'),\n",
    "                    width=12\n",
    "                ),\n",
    "                dbc.Col(\n",
    "                    dcc.Graph(id='domain_f_y'),\n",
    "                    width=12\n",
    "                )\n",
    "            ]\n",
    "        )\n",
    "    ],\n",
    "    style={'backgroundColor': 'white', 'padding': '20px'}\n",
    ")\n",
    "\n",
    "# Callback to update graphs\n",
    "@app12.callback(\n",
    "    [Output('domain_y', 'figure'),\n",
    "    Output('domain_f_y', 'figure')],\n",
    "    [Input('Fο_slider', 'value')]\n",
    ")\n",
    "def update_graph(selected_frequencies):\n",
    "\n",
    "    Fο=selected_frequencies\n",
    "    z=np.sin(2*np.pi*Fο*t)\n",
    "    x = np.sin(2 * np.pi * 30 * t) \\\n",
    "        + 0.8 * np.sin(2 * np.pi * 80 * (t - 2)) \\\n",
    "        + np.sin(2 * np.pi * 60 * t)  # 60 Hz component\n",
    "    L = 1000  # Length of signal\n",
    "    rand_n = np.random.normal(0, 1, L)  # Example random noise\n",
    "    s = x + rand_n\n",
    "    y= np.multiply(z,s)\n",
    "\n",
    "    # Time domain plot of y\n",
    "\n",
    "    domain_y = {\n",
    "        'data': [go.Scatter(x=t, y=y, mode='lines', line=dict(color='#00CC96'))],\n",
    "        'layout': go.Layout(\n",
    "            title='Time domain plot of y',\n",
    "            xaxis={'title': 't (sec)', 'showgrid': True, 'gridcolor': 'LightGrey'},\n",
    "            yaxis={'title': 'Amplitude', 'showgrid': True, 'gridcolor': 'LightGrey'},\n",
    "            margin={'l': 40, 'b': 40, 't': 40, 'r': 40},\n",
    "            hovermode='closest',\n",
    "            paper_bgcolor='white',\n",
    "            plot_bgcolor='white',\n",
    "            template='plotly_white'\n",
    "        )\n",
    "    }\n",
    "    \n",
    "\n",
    "    # Fourier transform\n",
    "    def nextpow2(i):\n",
    "        n = 1\n",
    "        while n < i:\n",
    "            n *= 2\n",
    "        return n\n",
    "            \n",
    "    N = 2^nextpow2(L)\n",
    "    Fo = Fs / N   \n",
    "    f = (np.arange(0, N)) * Fo\n",
    "    Y = np.fft.fft(y, N)\n",
    "    f=f-Fs/2   \n",
    "    Y = np.fft.fftshift(Y)\n",
    "\n",
    "    # Frequency domain plot of y\n",
    "\n",
    "    domain_f_y = {\n",
    "        'data': [go.Scatter(x=f, y=np.abs(Y), mode='lines', line=dict(color='#1F77B4'))],\n",
    "        'layout': go.Layout(\n",
    "            title='Frequency domain plot of y',\n",
    "            xaxis={'title': 'f (Hz)', 'showgrid': True, 'gridcolor': 'LightGrey'},\n",
    "            yaxis={'title': 'Amplitude', 'showgrid': True, 'gridcolor': 'LightGrey'},\n",
    "            margin={'l': 40, 'b': 40, 't': 40, 'r': 40},\n",
    "            hovermode='closest',\n",
    "            paper_bgcolor='white',\n",
    "            plot_bgcolor='white',\n",
    "            template='plotly_white'\n",
    "        )\n",
    "    }\n",
    "\n",
    "    # Return this additional figure in the callback\n",
    "    return domain_y, domain_f_y\n",
    "\n",
    "    \n",
    "\n",
    "if __name__ == '__main__':\n",
    "    app12.run_server(debug=True, port=8063)"
   ]
  },
  {
   "cell_type": "markdown",
   "metadata": {},
   "source": [
    "### Μέρος 4:  Εφαρμογή Β\n",
    "\n",
    "Να γραφεί σε Python συνάρτηση φασματικής ανάλυσης, παρόμοια με την `signal.welch()`: θα δέχεται ως είσοδο διάνυσμα πραγματικού σήματος καθώς και τη συχνότητα δειγματοληψίας, $F_s$, και θα σχεδιάζει τη μονόπλευρη φασματική πυκνότητα του σήματος στην περιοχή $[0-F_s/2)$. Το σήμα θα τεμαχίζεται σε τμήματα μήκους ίσου με τη δύναμη του $2$ την πλησιέστερη στο $1/8$ του συνολικού του μήκους, αλλά όχι μικρότερου από 256. Τα τμήματα θα είναι επικαλυπτόμενα κατά $50\\%$. Το τελευταίο τμήμα, εάν υπολείπεται σε μήκος των άλλων, θα αγνοείται. Θα υπολογίζεται με FFT το φάσμα κάθε τμήματος και θα λαμβάνεται η μέση τιμή όλων των τμημάτων. Η συνάρτηση να δοκιμαστεί με το σήμα του παραδείγματος 1.1 και να συγκριθεί το αποτέλεσμα με το αντίστοιχο της `signal.welch()`."
   ]
  },
  {
   "cell_type": "code",
   "execution_count": 87,
   "metadata": {
    "tags": [
     "hide-input"
    ]
   },
   "outputs": [],
   "source": [
    "# Fourier transform\n",
    "def nextpow2(i):\n",
    "        n = 1\n",
    "        while n < i:\n",
    "            n *= 2\n",
    "        return n\n",
    "\n",
    "def pwelch(x,Fs):                    \n",
    "    Ts=1/Fs                    \n",
    "    L=np.size(x)+1                 \n",
    "    T=L*Ts                     \n",
    "    N = 2^nextpow2(L)\n",
    "    Fo=Fs/N                   \n",
    "    f=np.arange(0,N)*Fo       \n",
    "     \n",
    "    window_size = nextpow2(np.size(x)/8)\n",
    "    if (window_size<256):\n",
    "        window_size=256\n",
    "    windows = np.size(x)//(window_size//2)-1\n",
    "    indexer = np.arange(window_size)[None, :] + (window_size//2)*np.arange(windows)[:, None]\n",
    "    windowed_x = x[indexer]\n",
    "\n",
    "    avg_pwr=0\n",
    "    for window in windowed_x:\n",
    "        window = window * np.hanning(np.size(window))\n",
    "        L=np.size(window)+1                 \n",
    "        T=L*Ts                     \n",
    "        N = 2^nextpow2(L)\n",
    "        Fo=Fs/N                   \n",
    "        f=np.arange(0,N)*Fo\n",
    "        window_fft=np.fft.fft(window,N)\n",
    "        power=np.multiply(window_fft,np.conj(window_fft))/N/L\n",
    "        avg_pwr=avg_pwr+power\n",
    "    avg_pwr=avg_pwr/windows\n",
    "\n",
    "    fig = go.Figure()\n",
    "    fig.add_trace(go.Scatter(x=f[:N//2], y=avg_pwr[:N//2].real, mode='lines', line=dict(color='#1F77B4')))\n",
    "    fig.update_layout(title='Periodogram pwelch()', title_x=0.5, \n",
    "                      title_font=dict(size=20, color='black', family=\"Arial, sans-serif\"),\n",
    "                      xaxis_title='Frequency (Hz)', yaxis_title='Power',\n",
    "                      template='plotly_white')\n",
    "    fig.show()\n",
    "    \n",
    "    return f[np.arange(0,N//2)], avg_pwr[np.arange(0,N//2)]"
   ]
  },
  {
   "cell_type": "code",
   "execution_count": 88,
   "metadata": {
    "tags": [
     "hide-input"
    ]
   },
   "outputs": [
    {
     "data": {
      "application/vnd.plotly.v1+json": {
       "config": {
        "plotlyServerURL": "https://plot.ly"
       },
       "data": [
        {
         "line": {
          "color": "#1F77B4"
         },
         "mode": "lines",
         "type": "scatter",
         "x": [
          0,
          0.9727626459143969,
          1.9455252918287937,
          2.9182879377431905,
          3.8910505836575875,
          4.863813229571984,
          5.836575875486381,
          6.809338521400778,
          7.782101167315175,
          8.754863813229571,
          9.727626459143968,
          10.700389105058365,
          11.673151750972762,
          12.645914396887159,
          13.618677042801556,
          14.591439688715953,
          15.56420233463035,
          16.536964980544745,
          17.509727626459142,
          18.48249027237354,
          19.455252918287936,
          20.428015564202333,
          21.40077821011673,
          22.373540856031127,
          23.346303501945524,
          24.31906614785992,
          25.291828793774318,
          26.264591439688715,
          27.237354085603112,
          28.21011673151751,
          29.182879377431906,
          30.155642023346303,
          31.1284046692607,
          32.1011673151751,
          33.07392996108949,
          34.04669260700389,
          35.019455252918284,
          35.992217898832685,
          36.96498054474708,
          37.93774319066148,
          38.91050583657587,
          39.88326848249027,
          40.856031128404666,
          41.82879377431907,
          42.80155642023346,
          43.77431906614786,
          44.747081712062254,
          45.719844357976655,
          46.69260700389105,
          47.66536964980545,
          48.63813229571984,
          49.61089494163424,
          50.583657587548636,
          51.55642023346304,
          52.52918287937743,
          53.50194552529183,
          54.474708171206224,
          55.447470817120625,
          56.42023346303502,
          57.39299610894942,
          58.36575875486381,
          59.33852140077821,
          60.311284046692606,
          61.284046692607006,
          62.2568093385214,
          63.22957198443579,
          64.2023346303502,
          65.1750972762646,
          66.14785992217898,
          67.12062256809338,
          68.09338521400778,
          69.06614785992218,
          70.03891050583657,
          71.01167315175097,
          71.98443579766537,
          72.95719844357977,
          73.92996108949416,
          74.90272373540856,
          75.87548638132296,
          76.84824902723736,
          77.82101167315174,
          78.79377431906615,
          79.76653696498055,
          80.73929961089495,
          81.71206225680933,
          82.68482490272373,
          83.65758754863813,
          84.63035019455253,
          85.60311284046692,
          86.57587548638132,
          87.54863813229572,
          88.52140077821012,
          89.49416342412451,
          90.46692607003891,
          91.43968871595331,
          92.41245136186771,
          93.3852140077821,
          94.3579766536965,
          95.3307392996109,
          96.30350194552528,
          97.27626459143968,
          98.24902723735408,
          99.22178988326849,
          100.19455252918287,
          101.16731517509727,
          102.14007782101167,
          103.11284046692607,
          104.08560311284046,
          105.05836575875486,
          106.03112840466926,
          107.00389105058366,
          107.97665369649805,
          108.94941634241245,
          109.92217898832685,
          110.89494163424125,
          111.86770428015564,
          112.84046692607004,
          113.81322957198444,
          114.78599221789884,
          115.75875486381322,
          116.73151750972762,
          117.70428015564202,
          118.67704280155642,
          119.64980544747081,
          120.62256809338521,
          121.59533073929961,
          122.56809338521401,
          123.5408560311284,
          124.5136186770428,
          125.4863813229572,
          126.45914396887159,
          127.43190661478599,
          128.4046692607004,
          129.3774319066148,
          130.3501945525292,
          131.3229571984436,
          132.29571984435796,
          133.26848249027236,
          134.24124513618676,
          135.21400778210116,
          136.18677042801556,
          137.15953307392996,
          138.13229571984436,
          139.10505836575877,
          140.07782101167314,
          141.05058365758754,
          142.02334630350194,
          142.99610894941634,
          143.96887159533074,
          144.94163424124514,
          145.91439688715954,
          146.88715953307394,
          147.8599221789883,
          148.8326848249027,
          149.8054474708171,
          150.77821011673151,
          151.75097276264592,
          152.72373540856032,
          153.69649805447472,
          154.66926070038912,
          155.6420233463035,
          156.6147859922179,
          157.5875486381323,
          158.5603112840467,
          159.5330739299611,
          160.5058365758755,
          161.4785992217899,
          162.45136186770426,
          163.42412451361866,
          164.39688715953307,
          165.36964980544747,
          166.34241245136187,
          167.31517509727627,
          168.28793774319067,
          169.26070038910507,
          170.23346303501944,
          171.20622568093384,
          172.17898832684824,
          173.15175097276264,
          174.12451361867704,
          175.09727626459144,
          176.07003891050584,
          177.04280155642024,
          178.01556420233462,
          178.98832684824902,
          179.96108949416342,
          180.93385214007782,
          181.90661478599222,
          182.87937743190662,
          183.85214007782102,
          184.82490272373542,
          185.7976653696498,
          186.7704280155642,
          187.7431906614786,
          188.715953307393,
          189.6887159533074,
          190.6614785992218,
          191.6342412451362,
          192.60700389105057,
          193.57976653696497,
          194.55252918287937,
          195.52529182879377,
          196.49805447470817,
          197.47081712062257,
          198.44357976653697,
          199.41634241245137,
          200.38910505836574,
          201.36186770428014,
          202.33463035019454,
          203.30739299610894,
          204.28015564202335,
          205.25291828793775,
          206.22568093385215,
          207.19844357976655,
          208.17120622568092,
          209.14396887159532,
          210.11673151750972,
          211.08949416342412,
          212.06225680933852,
          213.03501945525292,
          214.00778210116732,
          214.98054474708172,
          215.9533073929961,
          216.9260700389105,
          217.8988326848249,
          218.8715953307393,
          219.8443579766537,
          220.8171206225681,
          221.7898832684825,
          222.76264591439687,
          223.73540856031127,
          224.70817120622567,
          225.68093385214007,
          226.65369649805447,
          227.62645914396887,
          228.59922178988327,
          229.57198443579767,
          230.54474708171205,
          231.51750972762645,
          232.49027237354085,
          233.46303501945525,
          234.43579766536965,
          235.40856031128405,
          236.38132295719845,
          237.35408560311285,
          238.32684824902722,
          239.29961089494162,
          240.27237354085602,
          241.24513618677042,
          242.21789883268482,
          243.19066147859922,
          244.16342412451363,
          245.13618677042803,
          246.1089494163424,
          247.0817120622568,
          248.0544747081712,
          249.0272373540856
         ],
         "y": [
          1.7834448127925272e-8,
          6.718943708711515e-12,
          2.3257254853870312e-8,
          4.588643633085982e-11,
          4.600846919098817e-8,
          2.7226576651615215e-10,
          1.1935310937540026e-7,
          1.5485582239822718e-9,
          3.9684079489896705e-7,
          9.914665708393177e-9,
          0.0000018499767656931063,
          8.878128385075157e-8,
          0.000015638217025545726,
          0.0000018075943522301186,
          0.0006244163685125261,
          0.0064102604190072205,
          0.020287434979734197,
          0.03059228938300458,
          0.024168703101533205,
          0.00949750876815405,
          0.001387454690838107,
          0.00000760352072466092,
          0.000021306474345391585,
          5.074913544105545e-7,
          0.000002187689345232316,
          9.147126162286096e-8,
          4.3138597605724414e-7,
          2.594413119518541e-8,
          1.207041589798873e-7,
          9.608447484709607e-9,
          4.2138180700842096e-8,
          4.263114340373887e-9,
          1.7151727136422477e-8,
          2.1741671831588894e-9,
          7.822601313316548e-9,
          1.258936776364778e-9,
          3.903851819261487e-9,
          8.386202715832126e-10,
          2.108779552659298e-9,
          6.637075993867172e-10,
          1.2407886316231913e-9,
          6.419262587932057e-10,
          8.247106366338889e-10,
          7.545822128845884e-10,
          6.698088609141328e-10,
          1.0376071130256923e-9,
          7.239190483582665e-10,
          1.6005439571372877e-9,
          1.0440432927405476e-9,
          2.6989036921332384e-9,
          1.8575756318691743e-9,
          4.935819234200379e-9,
          3.803437441750571e-9,
          9.850983471835471e-9,
          8.742931886592556e-9,
          2.1853839113934868e-8,
          2.2796281525116965e-8,
          5.568154386874743e-8,
          7.000730927394203e-8,
          1.7226914337363177e-7,
          2.723615074672447e-7,
          7.165206448781533e-7,
          0.0000015520620142437115,
          0.00000499068376292912,
          0.00001859829740418077,
          0.0001159070181126248,
          0.0030632127454728736,
          0.014152961532219167,
          0.028097519547872277,
          0.028703587332463094,
          0.015157899214547327,
          0.0035138300023002207,
          0.00016334316722729,
          0.000016346945928074096,
          0.000006482419069161607,
          0.0000012970885609958092,
          8.99520132806474e-7,
          2.2069777281987488e-7,
          2.1143858051753954e-7,
          5.5385933827316044e-8,
          6.737213035080855e-8,
          1.780475448904899e-8,
          2.6698615675835905e-8,
          7.049876624555926e-9,
          1.3337000993254434e-8,
          3.7234429753430382e-9,
          9.807312720371819e-9,
          3.2199919798054946e-9,
          1.2719823376797882e-8,
          4.834443478799657e-9,
          2.6480386504270924e-8,
          1.0457596212797318e-8,
          7.38238392623317e-8,
          2.909190662239609e-8,
          2.664759257414407e-7,
          1.0797781027461306e-7,
          0.0000013811973083617633,
          6.410692404386487e-7,
          0.000013980900473079055,
          0.000010712287720082756,
          0.0010569087382531653,
          0.006634772055605212,
          0.016036189875513848,
          0.019441283646345335,
          0.01233023998818996,
          0.0036760025344191004,
          0.0003172268335093092,
          0.0000027777459056795598,
          0.000008799021352990876,
          1.6425020053743636e-7,
          0.0000010746219966484575,
          2.2477938110210578e-8,
          2.3401403442951774e-7,
          4.56642656135363e-9,
          7.030458547091804e-8,
          1.1581010254307383e-9,
          2.598886164399843e-8,
          3.3389681842766366e-10,
          1.1110670893092776e-8,
          1.0258212693386833e-10,
          5.29068618302615e-9,
          3.166670569266849e-11,
          2.7378357833252615e-9,
          9.125115702001701e-12,
          1.513645276163347e-9,
          2.1612835773212933e-12,
          8.831161982353598e-10,
          3.333690542279973e-13,
          5.38764509336324e-10,
          1.4110938779663853e-13,
          3.4127691865345224e-10,
          3.9058777486088177e-13,
          2.2322354491703604e-10,
          6.872142866269763e-13,
          1.500987777027186e-10,
          9.174072343663378e-13,
          1.0338469739155813e-10,
          1.063831953848997e-12,
          7.272585606183756e-11,
          1.1387033563700003e-12,
          5.211932539140909e-11,
          1.1601983302572125e-12,
          3.797321582407587e-11,
          1.1447954241733876e-12,
          2.8076935040860218e-11,
          1.1054075074109446e-12,
          2.103531800958422e-11,
          1.0514863623777192e-12,
          1.5947677017854468e-11,
          9.89675004068522e-13,
          1.2220523469118363e-11,
          9.24503647860013e-13,
          9.455451185691898e-12,
          8.589755302929148e-13,
          7.3804363254706e-12,
          7.950169147273849e-13,
          5.8068385180714e-12,
          7.338075062793525e-13,
          4.601960410556067e-12,
          6.760170107290642e-13,
          3.671220720701289e-12,
          6.219718909164211e-13,
          2.946380588869439e-12,
          5.717717009497529e-13,
          2.377648475216856e-12,
          5.253695696010506e-13,
          1.9283105988111902e-12,
          4.826274751444936e-13,
          1.571030709053124e-12,
          4.433538855360053e-13,
          1.2852687908766493e-12,
          4.073291296109157e-13,
          1.055459600436092e-12,
          3.743222662511798e-13,
          8.697134964560151e-13,
          3.44102076248863e-13,
          7.188804362246894e-13,
          3.164440112610534e-13,
          5.958692128883814e-13,
          2.9113439432798963e-13,
          4.951478780792443e-13,
          2.6797273618458137e-13,
          4.123740603576122e-13,
          2.467728090786546e-13,
          3.4411920405703524e-13,
          2.2736289185000284e-13,
          2.876613263564698e-13,
          2.0958548593972682e-13,
          2.408281577754896e-13,
          1.9329670937605353e-13,
          2.0187760440500384e-13,
          1.7836549693675928e-13,
          1.6940608210536745e-13,
          1.6467271437070682e-13,
          1.4227777706849048e-13,
          1.5211023120095835e-13,
          1.1956975946723655e-13,
          1.4058001438714504e-13,
          1.0052914054186451e-13,
          1.2999324247492554e-13,
          8.453947375555287e-14,
          1.2026947935641637e-13,
          7.109426165915691e-14,
          1.1133590015742017e-13,
          5.977596806589935e-14,
          1.031265745702161e-13,
          5.02393234931621e-14,
          9.55818211117175e-14,
          4.2197971380152107e-14,
          8.864760459299988e-14,
          3.541376318258366e-14,
          8.227500494492032e-14,
          2.9688123276672024e-14,
          7.641972583199184e-14,
          2.485507149482061e-14,
          7.104165963315524e-14,
          2.0775556596463933e-14,
          6.610449324167087e-14,
          1.733284118554948e-14,
          6.157535351750228e-14,
          1.442873224100723e-14,
          5.742449203703832e-14,
          1.1980489670268667e-14,
          5.362500149593167e-14,
          9.918286097908857e-15,
          5.0152561194353705e-14,
          8.183113452039015e-15,
          4.698521291296072e-14,
          6.725052103700757e-15,
          4.410315707567322e-14,
          5.501838956021184e-15,
          4.148857467688821e-14,
          4.4776781256267225e-15,
          3.912546587406081e-14,
          3.62225428640673e-15,
          3.6999510874386806e-14,
          2.909909302269111e-15,
          3.509794110919721e-14,
          2.3189603398651084e-15,
          3.340943185104766e-14,
          1.8311292957945643e-15,
          3.1924003348151716e-14,
          1.431070596770269e-15,
          3.0632936835727276e-14,
          1.105979375602281e-15,
          2.952870108828701e-14,
          8.452680383028171e-16,
          2.860488968759539e-14,
          6.403021466878681e-16,
          2.7856168205372458e-14,
          4.841866229199973e-16,
          2.7278229915133452e-14,
          3.7159650054833396e-16,
          2.6867761143645966e-14,
          2.986470495056798e-16,
          2.6622413689590253e-14,
          2.627994551543282e-16
         ]
        }
       ],
       "layout": {
        "template": {
         "data": {
          "bar": [
           {
            "error_x": {
             "color": "#2a3f5f"
            },
            "error_y": {
             "color": "#2a3f5f"
            },
            "marker": {
             "line": {
              "color": "white",
              "width": 0.5
             },
             "pattern": {
              "fillmode": "overlay",
              "size": 10,
              "solidity": 0.2
             }
            },
            "type": "bar"
           }
          ],
          "barpolar": [
           {
            "marker": {
             "line": {
              "color": "white",
              "width": 0.5
             },
             "pattern": {
              "fillmode": "overlay",
              "size": 10,
              "solidity": 0.2
             }
            },
            "type": "barpolar"
           }
          ],
          "carpet": [
           {
            "aaxis": {
             "endlinecolor": "#2a3f5f",
             "gridcolor": "#C8D4E3",
             "linecolor": "#C8D4E3",
             "minorgridcolor": "#C8D4E3",
             "startlinecolor": "#2a3f5f"
            },
            "baxis": {
             "endlinecolor": "#2a3f5f",
             "gridcolor": "#C8D4E3",
             "linecolor": "#C8D4E3",
             "minorgridcolor": "#C8D4E3",
             "startlinecolor": "#2a3f5f"
            },
            "type": "carpet"
           }
          ],
          "choropleth": [
           {
            "colorbar": {
             "outlinewidth": 0,
             "ticks": ""
            },
            "type": "choropleth"
           }
          ],
          "contour": [
           {
            "colorbar": {
             "outlinewidth": 0,
             "ticks": ""
            },
            "colorscale": [
             [
              0,
              "#0d0887"
             ],
             [
              0.1111111111111111,
              "#46039f"
             ],
             [
              0.2222222222222222,
              "#7201a8"
             ],
             [
              0.3333333333333333,
              "#9c179e"
             ],
             [
              0.4444444444444444,
              "#bd3786"
             ],
             [
              0.5555555555555556,
              "#d8576b"
             ],
             [
              0.6666666666666666,
              "#ed7953"
             ],
             [
              0.7777777777777778,
              "#fb9f3a"
             ],
             [
              0.8888888888888888,
              "#fdca26"
             ],
             [
              1,
              "#f0f921"
             ]
            ],
            "type": "contour"
           }
          ],
          "contourcarpet": [
           {
            "colorbar": {
             "outlinewidth": 0,
             "ticks": ""
            },
            "type": "contourcarpet"
           }
          ],
          "heatmap": [
           {
            "colorbar": {
             "outlinewidth": 0,
             "ticks": ""
            },
            "colorscale": [
             [
              0,
              "#0d0887"
             ],
             [
              0.1111111111111111,
              "#46039f"
             ],
             [
              0.2222222222222222,
              "#7201a8"
             ],
             [
              0.3333333333333333,
              "#9c179e"
             ],
             [
              0.4444444444444444,
              "#bd3786"
             ],
             [
              0.5555555555555556,
              "#d8576b"
             ],
             [
              0.6666666666666666,
              "#ed7953"
             ],
             [
              0.7777777777777778,
              "#fb9f3a"
             ],
             [
              0.8888888888888888,
              "#fdca26"
             ],
             [
              1,
              "#f0f921"
             ]
            ],
            "type": "heatmap"
           }
          ],
          "heatmapgl": [
           {
            "colorbar": {
             "outlinewidth": 0,
             "ticks": ""
            },
            "colorscale": [
             [
              0,
              "#0d0887"
             ],
             [
              0.1111111111111111,
              "#46039f"
             ],
             [
              0.2222222222222222,
              "#7201a8"
             ],
             [
              0.3333333333333333,
              "#9c179e"
             ],
             [
              0.4444444444444444,
              "#bd3786"
             ],
             [
              0.5555555555555556,
              "#d8576b"
             ],
             [
              0.6666666666666666,
              "#ed7953"
             ],
             [
              0.7777777777777778,
              "#fb9f3a"
             ],
             [
              0.8888888888888888,
              "#fdca26"
             ],
             [
              1,
              "#f0f921"
             ]
            ],
            "type": "heatmapgl"
           }
          ],
          "histogram": [
           {
            "marker": {
             "pattern": {
              "fillmode": "overlay",
              "size": 10,
              "solidity": 0.2
             }
            },
            "type": "histogram"
           }
          ],
          "histogram2d": [
           {
            "colorbar": {
             "outlinewidth": 0,
             "ticks": ""
            },
            "colorscale": [
             [
              0,
              "#0d0887"
             ],
             [
              0.1111111111111111,
              "#46039f"
             ],
             [
              0.2222222222222222,
              "#7201a8"
             ],
             [
              0.3333333333333333,
              "#9c179e"
             ],
             [
              0.4444444444444444,
              "#bd3786"
             ],
             [
              0.5555555555555556,
              "#d8576b"
             ],
             [
              0.6666666666666666,
              "#ed7953"
             ],
             [
              0.7777777777777778,
              "#fb9f3a"
             ],
             [
              0.8888888888888888,
              "#fdca26"
             ],
             [
              1,
              "#f0f921"
             ]
            ],
            "type": "histogram2d"
           }
          ],
          "histogram2dcontour": [
           {
            "colorbar": {
             "outlinewidth": 0,
             "ticks": ""
            },
            "colorscale": [
             [
              0,
              "#0d0887"
             ],
             [
              0.1111111111111111,
              "#46039f"
             ],
             [
              0.2222222222222222,
              "#7201a8"
             ],
             [
              0.3333333333333333,
              "#9c179e"
             ],
             [
              0.4444444444444444,
              "#bd3786"
             ],
             [
              0.5555555555555556,
              "#d8576b"
             ],
             [
              0.6666666666666666,
              "#ed7953"
             ],
             [
              0.7777777777777778,
              "#fb9f3a"
             ],
             [
              0.8888888888888888,
              "#fdca26"
             ],
             [
              1,
              "#f0f921"
             ]
            ],
            "type": "histogram2dcontour"
           }
          ],
          "mesh3d": [
           {
            "colorbar": {
             "outlinewidth": 0,
             "ticks": ""
            },
            "type": "mesh3d"
           }
          ],
          "parcoords": [
           {
            "line": {
             "colorbar": {
              "outlinewidth": 0,
              "ticks": ""
             }
            },
            "type": "parcoords"
           }
          ],
          "pie": [
           {
            "automargin": true,
            "type": "pie"
           }
          ],
          "scatter": [
           {
            "fillpattern": {
             "fillmode": "overlay",
             "size": 10,
             "solidity": 0.2
            },
            "type": "scatter"
           }
          ],
          "scatter3d": [
           {
            "line": {
             "colorbar": {
              "outlinewidth": 0,
              "ticks": ""
             }
            },
            "marker": {
             "colorbar": {
              "outlinewidth": 0,
              "ticks": ""
             }
            },
            "type": "scatter3d"
           }
          ],
          "scattercarpet": [
           {
            "marker": {
             "colorbar": {
              "outlinewidth": 0,
              "ticks": ""
             }
            },
            "type": "scattercarpet"
           }
          ],
          "scattergeo": [
           {
            "marker": {
             "colorbar": {
              "outlinewidth": 0,
              "ticks": ""
             }
            },
            "type": "scattergeo"
           }
          ],
          "scattergl": [
           {
            "marker": {
             "colorbar": {
              "outlinewidth": 0,
              "ticks": ""
             }
            },
            "type": "scattergl"
           }
          ],
          "scattermapbox": [
           {
            "marker": {
             "colorbar": {
              "outlinewidth": 0,
              "ticks": ""
             }
            },
            "type": "scattermapbox"
           }
          ],
          "scatterpolar": [
           {
            "marker": {
             "colorbar": {
              "outlinewidth": 0,
              "ticks": ""
             }
            },
            "type": "scatterpolar"
           }
          ],
          "scatterpolargl": [
           {
            "marker": {
             "colorbar": {
              "outlinewidth": 0,
              "ticks": ""
             }
            },
            "type": "scatterpolargl"
           }
          ],
          "scatterternary": [
           {
            "marker": {
             "colorbar": {
              "outlinewidth": 0,
              "ticks": ""
             }
            },
            "type": "scatterternary"
           }
          ],
          "surface": [
           {
            "colorbar": {
             "outlinewidth": 0,
             "ticks": ""
            },
            "colorscale": [
             [
              0,
              "#0d0887"
             ],
             [
              0.1111111111111111,
              "#46039f"
             ],
             [
              0.2222222222222222,
              "#7201a8"
             ],
             [
              0.3333333333333333,
              "#9c179e"
             ],
             [
              0.4444444444444444,
              "#bd3786"
             ],
             [
              0.5555555555555556,
              "#d8576b"
             ],
             [
              0.6666666666666666,
              "#ed7953"
             ],
             [
              0.7777777777777778,
              "#fb9f3a"
             ],
             [
              0.8888888888888888,
              "#fdca26"
             ],
             [
              1,
              "#f0f921"
             ]
            ],
            "type": "surface"
           }
          ],
          "table": [
           {
            "cells": {
             "fill": {
              "color": "#EBF0F8"
             },
             "line": {
              "color": "white"
             }
            },
            "header": {
             "fill": {
              "color": "#C8D4E3"
             },
             "line": {
              "color": "white"
             }
            },
            "type": "table"
           }
          ]
         },
         "layout": {
          "annotationdefaults": {
           "arrowcolor": "#2a3f5f",
           "arrowhead": 0,
           "arrowwidth": 1
          },
          "autotypenumbers": "strict",
          "coloraxis": {
           "colorbar": {
            "outlinewidth": 0,
            "ticks": ""
           }
          },
          "colorscale": {
           "diverging": [
            [
             0,
             "#8e0152"
            ],
            [
             0.1,
             "#c51b7d"
            ],
            [
             0.2,
             "#de77ae"
            ],
            [
             0.3,
             "#f1b6da"
            ],
            [
             0.4,
             "#fde0ef"
            ],
            [
             0.5,
             "#f7f7f7"
            ],
            [
             0.6,
             "#e6f5d0"
            ],
            [
             0.7,
             "#b8e186"
            ],
            [
             0.8,
             "#7fbc41"
            ],
            [
             0.9,
             "#4d9221"
            ],
            [
             1,
             "#276419"
            ]
           ],
           "sequential": [
            [
             0,
             "#0d0887"
            ],
            [
             0.1111111111111111,
             "#46039f"
            ],
            [
             0.2222222222222222,
             "#7201a8"
            ],
            [
             0.3333333333333333,
             "#9c179e"
            ],
            [
             0.4444444444444444,
             "#bd3786"
            ],
            [
             0.5555555555555556,
             "#d8576b"
            ],
            [
             0.6666666666666666,
             "#ed7953"
            ],
            [
             0.7777777777777778,
             "#fb9f3a"
            ],
            [
             0.8888888888888888,
             "#fdca26"
            ],
            [
             1,
             "#f0f921"
            ]
           ],
           "sequentialminus": [
            [
             0,
             "#0d0887"
            ],
            [
             0.1111111111111111,
             "#46039f"
            ],
            [
             0.2222222222222222,
             "#7201a8"
            ],
            [
             0.3333333333333333,
             "#9c179e"
            ],
            [
             0.4444444444444444,
             "#bd3786"
            ],
            [
             0.5555555555555556,
             "#d8576b"
            ],
            [
             0.6666666666666666,
             "#ed7953"
            ],
            [
             0.7777777777777778,
             "#fb9f3a"
            ],
            [
             0.8888888888888888,
             "#fdca26"
            ],
            [
             1,
             "#f0f921"
            ]
           ]
          },
          "colorway": [
           "#636efa",
           "#EF553B",
           "#00cc96",
           "#ab63fa",
           "#FFA15A",
           "#19d3f3",
           "#FF6692",
           "#B6E880",
           "#FF97FF",
           "#FECB52"
          ],
          "font": {
           "color": "#2a3f5f"
          },
          "geo": {
           "bgcolor": "white",
           "lakecolor": "white",
           "landcolor": "white",
           "showlakes": true,
           "showland": true,
           "subunitcolor": "#C8D4E3"
          },
          "hoverlabel": {
           "align": "left"
          },
          "hovermode": "closest",
          "mapbox": {
           "style": "light"
          },
          "paper_bgcolor": "white",
          "plot_bgcolor": "white",
          "polar": {
           "angularaxis": {
            "gridcolor": "#EBF0F8",
            "linecolor": "#EBF0F8",
            "ticks": ""
           },
           "bgcolor": "white",
           "radialaxis": {
            "gridcolor": "#EBF0F8",
            "linecolor": "#EBF0F8",
            "ticks": ""
           }
          },
          "scene": {
           "xaxis": {
            "backgroundcolor": "white",
            "gridcolor": "#DFE8F3",
            "gridwidth": 2,
            "linecolor": "#EBF0F8",
            "showbackground": true,
            "ticks": "",
            "zerolinecolor": "#EBF0F8"
           },
           "yaxis": {
            "backgroundcolor": "white",
            "gridcolor": "#DFE8F3",
            "gridwidth": 2,
            "linecolor": "#EBF0F8",
            "showbackground": true,
            "ticks": "",
            "zerolinecolor": "#EBF0F8"
           },
           "zaxis": {
            "backgroundcolor": "white",
            "gridcolor": "#DFE8F3",
            "gridwidth": 2,
            "linecolor": "#EBF0F8",
            "showbackground": true,
            "ticks": "",
            "zerolinecolor": "#EBF0F8"
           }
          },
          "shapedefaults": {
           "line": {
            "color": "#2a3f5f"
           }
          },
          "ternary": {
           "aaxis": {
            "gridcolor": "#DFE8F3",
            "linecolor": "#A2B1C6",
            "ticks": ""
           },
           "baxis": {
            "gridcolor": "#DFE8F3",
            "linecolor": "#A2B1C6",
            "ticks": ""
           },
           "bgcolor": "white",
           "caxis": {
            "gridcolor": "#DFE8F3",
            "linecolor": "#A2B1C6",
            "ticks": ""
           }
          },
          "title": {
           "x": 0.05
          },
          "xaxis": {
           "automargin": true,
           "gridcolor": "#EBF0F8",
           "linecolor": "#EBF0F8",
           "ticks": "",
           "title": {
            "standoff": 15
           },
           "zerolinecolor": "#EBF0F8",
           "zerolinewidth": 2
          },
          "yaxis": {
           "automargin": true,
           "gridcolor": "#EBF0F8",
           "linecolor": "#EBF0F8",
           "ticks": "",
           "title": {
            "standoff": 15
           },
           "zerolinecolor": "#EBF0F8",
           "zerolinewidth": 2
          }
         }
        },
        "title": {
         "font": {
          "color": "black",
          "family": "Arial, sans-serif",
          "size": 20
         },
         "text": "Periodogram pwelch()",
         "x": 0.5
        },
        "xaxis": {
         "title": {
          "text": "Frequency (Hz)"
         }
        },
        "yaxis": {
         "title": {
          "text": "Power"
         }
        }
       }
      }
     },
     "metadata": {},
     "output_type": "display_data"
    },
    {
     "data": {
      "application/vnd.plotly.v1+json": {
       "config": {
        "plotlyServerURL": "https://plot.ly"
       },
       "data": [
        {
         "line": {
          "color": "#1F77B4"
         },
         "mode": "lines",
         "type": "scatter",
         "x": [
          0,
          1.953125,
          3.90625,
          5.859375,
          7.8125,
          9.765625,
          11.71875,
          13.671875,
          15.625,
          17.578125,
          19.53125,
          21.484375,
          23.4375,
          25.390625,
          27.34375,
          29.296875,
          31.25,
          33.203125,
          35.15625,
          37.109375,
          39.0625,
          41.015625,
          42.96875,
          44.921875,
          46.875,
          48.828125,
          50.78125,
          52.734375,
          54.6875,
          56.640625,
          58.59375,
          60.546875,
          62.5,
          64.453125,
          66.40625,
          68.359375,
          70.3125,
          72.265625,
          74.21875,
          76.171875,
          78.125,
          80.078125,
          82.03125,
          83.984375,
          85.9375,
          87.890625,
          89.84375,
          91.796875,
          93.75,
          95.703125,
          97.65625,
          99.609375,
          101.5625,
          103.515625,
          105.46875,
          107.421875,
          109.375,
          111.328125,
          113.28125,
          115.234375,
          117.1875,
          119.140625,
          121.09375,
          123.046875,
          125,
          126.953125,
          128.90625,
          130.859375,
          132.8125,
          134.765625,
          136.71875,
          138.671875,
          140.625,
          142.578125,
          144.53125,
          146.484375,
          148.4375,
          150.390625,
          152.34375,
          154.296875,
          156.25,
          158.203125,
          160.15625,
          162.109375,
          164.0625,
          166.015625,
          167.96875,
          169.921875,
          171.875,
          173.828125,
          175.78125,
          177.734375,
          179.6875,
          181.640625,
          183.59375,
          185.546875,
          187.5,
          189.453125,
          191.40625,
          193.359375,
          195.3125,
          197.265625,
          199.21875,
          201.171875,
          203.125,
          205.078125,
          207.03125,
          208.984375,
          210.9375,
          212.890625,
          214.84375,
          216.796875,
          218.75,
          220.703125,
          222.65625,
          224.609375,
          226.5625,
          228.515625,
          230.46875,
          232.421875,
          234.375,
          236.328125,
          238.28125,
          240.234375,
          242.1875,
          244.140625,
          246.09375,
          248.046875,
          250
         ],
         "y": [
          0.00025040755195845547,
          0.00011456383968685552,
          2.5047690989664193e-7,
          6.531989960002571e-7,
          0.0000021947148189278756,
          0.000010412502420381253,
          0.00009084912031016665,
          0.003985246406625204,
          0.11743253107695954,
          0.12835356984695473,
          0.006000170906026812,
          0.00010870780607870334,
          0.000011715774863788814,
          0.0000023837264363601346,
          6.844134723610415e-7,
          2.4463953290073716e-7,
          1.0185623583392517e-7,
          4.748230486781749e-8,
          2.4180565842867038e-8,
          1.326334398092114e-8,
          7.811223027457347e-9,
          5.008307692784784e-9,
          3.6481968539499364e-9,
          3.2536981724684397e-9,
          3.794820685322213e-9,
          5.744917534608613e-9,
          1.061152451494851e-8,
          2.282089775332446e-8,
          5.6794981067230915e-8,
          1.6888087436984993e-7,
          6.471144007342546e-7,
          0.0000037474902539107076,
          0.000049847463558901475,
          0.02752749393023604,
          0.16679293647373125,
          0.06148406645492557,
          0.00013298988944961685,
          0.000006676549629510234,
          9.8073600186111e-7,
          2.339124242137279e-7,
          7.489715385977731e-8,
          3.067975953068264e-8,
          1.77531781305249e-8,
          1.7814158599915476e-8,
          3.0399461097813616e-8,
          7.116069110446239e-8,
          2.0747258596193752e-7,
          7.802024688668894e-7,
          0.000004367576534171789,
          0.00005355668290980181,
          0.013714840512797694,
          0.10372088832629868,
          0.04609759482667556,
          0.00023521368523456667,
          0.000010427847903942349,
          0.0000014671515661760818,
          3.421880136000704e-7,
          1.069711777351067e-7,
          4.056439221692496e-8,
          1.7650663260980654e-8,
          8.515289820370037e-9,
          4.4521164520932e-9,
          2.4828452361660227e-9,
          1.459897102788796e-9,
          8.972452424458988e-10,
          5.72545061605439e-10,
          3.7733710495773897e-10,
          2.557619456917887e-10,
          1.77678291594487e-10,
          1.2615096456583997e-10,
          9.132145760186858e-11,
          6.72681450986023e-11,
          5.0333465181597725e-11,
          3.82010357588693e-11,
          2.9370375785719536e-11,
          2.2849425230771618e-11,
          1.7969929915335762e-11,
          1.427400843857162e-11,
          1.1442970747993453e-11,
          9.251778621845017e-12,
          7.539387836348737e-12,
          6.189113294860841e-12,
          5.115430217021586e-12,
          4.254975362188069e-12,
          3.560330172497448e-12,
          2.995672691058626e-12,
          2.533701147071539e-12,
          2.1534336140537967e-12,
          1.8386181407995906e-12,
          1.5765729652016671e-12,
          1.3573326959670589e-12,
          1.1730144118072096e-12,
          1.0173431740203651e-12,
          8.852941262001553e-13,
          7.728205766558411e-13,
          6.766459355684751e-13,
          5.941035070283919e-13,
          5.230122852069527e-13,
          4.615801677290482e-13,
          4.0832800942846104e-13,
          3.62029775335664e-13,
          3.2166509756047133e-13,
          2.863814657897979e-13,
          2.5546400769555486e-13,
          2.283111245733884e-13,
          2.0441488173684459e-13,
          1.8334504878048202e-13,
          1.647361388124226e-13,
          1.4827679394178076e-13,
          1.3370108330786183e-13,
          1.207813381217314e-13,
          1.0932223044520233e-13,
          9.915586790193043e-14,
          9.013772026600084e-14,
          8.214321857414232e-14,
          7.50649256139916e-14,
          6.881015431057614e-14,
          6.329899338358144e-14,
          5.846262389570674e-14,
          5.4241936681094355e-14,
          5.0586349380508847e-14,
          4.7452834688831654e-14,
          4.480509919612084e-14,
          4.261291260836924e-14,
          4.085155192667922e-14,
          3.950135990167847e-14,
          3.85473933423676e-14,
          3.7979159254410096e-14,
          1.889521775210961e-14
         ]
        }
       ],
       "layout": {
        "template": {
         "data": {
          "bar": [
           {
            "error_x": {
             "color": "#2a3f5f"
            },
            "error_y": {
             "color": "#2a3f5f"
            },
            "marker": {
             "line": {
              "color": "white",
              "width": 0.5
             },
             "pattern": {
              "fillmode": "overlay",
              "size": 10,
              "solidity": 0.2
             }
            },
            "type": "bar"
           }
          ],
          "barpolar": [
           {
            "marker": {
             "line": {
              "color": "white",
              "width": 0.5
             },
             "pattern": {
              "fillmode": "overlay",
              "size": 10,
              "solidity": 0.2
             }
            },
            "type": "barpolar"
           }
          ],
          "carpet": [
           {
            "aaxis": {
             "endlinecolor": "#2a3f5f",
             "gridcolor": "#C8D4E3",
             "linecolor": "#C8D4E3",
             "minorgridcolor": "#C8D4E3",
             "startlinecolor": "#2a3f5f"
            },
            "baxis": {
             "endlinecolor": "#2a3f5f",
             "gridcolor": "#C8D4E3",
             "linecolor": "#C8D4E3",
             "minorgridcolor": "#C8D4E3",
             "startlinecolor": "#2a3f5f"
            },
            "type": "carpet"
           }
          ],
          "choropleth": [
           {
            "colorbar": {
             "outlinewidth": 0,
             "ticks": ""
            },
            "type": "choropleth"
           }
          ],
          "contour": [
           {
            "colorbar": {
             "outlinewidth": 0,
             "ticks": ""
            },
            "colorscale": [
             [
              0,
              "#0d0887"
             ],
             [
              0.1111111111111111,
              "#46039f"
             ],
             [
              0.2222222222222222,
              "#7201a8"
             ],
             [
              0.3333333333333333,
              "#9c179e"
             ],
             [
              0.4444444444444444,
              "#bd3786"
             ],
             [
              0.5555555555555556,
              "#d8576b"
             ],
             [
              0.6666666666666666,
              "#ed7953"
             ],
             [
              0.7777777777777778,
              "#fb9f3a"
             ],
             [
              0.8888888888888888,
              "#fdca26"
             ],
             [
              1,
              "#f0f921"
             ]
            ],
            "type": "contour"
           }
          ],
          "contourcarpet": [
           {
            "colorbar": {
             "outlinewidth": 0,
             "ticks": ""
            },
            "type": "contourcarpet"
           }
          ],
          "heatmap": [
           {
            "colorbar": {
             "outlinewidth": 0,
             "ticks": ""
            },
            "colorscale": [
             [
              0,
              "#0d0887"
             ],
             [
              0.1111111111111111,
              "#46039f"
             ],
             [
              0.2222222222222222,
              "#7201a8"
             ],
             [
              0.3333333333333333,
              "#9c179e"
             ],
             [
              0.4444444444444444,
              "#bd3786"
             ],
             [
              0.5555555555555556,
              "#d8576b"
             ],
             [
              0.6666666666666666,
              "#ed7953"
             ],
             [
              0.7777777777777778,
              "#fb9f3a"
             ],
             [
              0.8888888888888888,
              "#fdca26"
             ],
             [
              1,
              "#f0f921"
             ]
            ],
            "type": "heatmap"
           }
          ],
          "heatmapgl": [
           {
            "colorbar": {
             "outlinewidth": 0,
             "ticks": ""
            },
            "colorscale": [
             [
              0,
              "#0d0887"
             ],
             [
              0.1111111111111111,
              "#46039f"
             ],
             [
              0.2222222222222222,
              "#7201a8"
             ],
             [
              0.3333333333333333,
              "#9c179e"
             ],
             [
              0.4444444444444444,
              "#bd3786"
             ],
             [
              0.5555555555555556,
              "#d8576b"
             ],
             [
              0.6666666666666666,
              "#ed7953"
             ],
             [
              0.7777777777777778,
              "#fb9f3a"
             ],
             [
              0.8888888888888888,
              "#fdca26"
             ],
             [
              1,
              "#f0f921"
             ]
            ],
            "type": "heatmapgl"
           }
          ],
          "histogram": [
           {
            "marker": {
             "pattern": {
              "fillmode": "overlay",
              "size": 10,
              "solidity": 0.2
             }
            },
            "type": "histogram"
           }
          ],
          "histogram2d": [
           {
            "colorbar": {
             "outlinewidth": 0,
             "ticks": ""
            },
            "colorscale": [
             [
              0,
              "#0d0887"
             ],
             [
              0.1111111111111111,
              "#46039f"
             ],
             [
              0.2222222222222222,
              "#7201a8"
             ],
             [
              0.3333333333333333,
              "#9c179e"
             ],
             [
              0.4444444444444444,
              "#bd3786"
             ],
             [
              0.5555555555555556,
              "#d8576b"
             ],
             [
              0.6666666666666666,
              "#ed7953"
             ],
             [
              0.7777777777777778,
              "#fb9f3a"
             ],
             [
              0.8888888888888888,
              "#fdca26"
             ],
             [
              1,
              "#f0f921"
             ]
            ],
            "type": "histogram2d"
           }
          ],
          "histogram2dcontour": [
           {
            "colorbar": {
             "outlinewidth": 0,
             "ticks": ""
            },
            "colorscale": [
             [
              0,
              "#0d0887"
             ],
             [
              0.1111111111111111,
              "#46039f"
             ],
             [
              0.2222222222222222,
              "#7201a8"
             ],
             [
              0.3333333333333333,
              "#9c179e"
             ],
             [
              0.4444444444444444,
              "#bd3786"
             ],
             [
              0.5555555555555556,
              "#d8576b"
             ],
             [
              0.6666666666666666,
              "#ed7953"
             ],
             [
              0.7777777777777778,
              "#fb9f3a"
             ],
             [
              0.8888888888888888,
              "#fdca26"
             ],
             [
              1,
              "#f0f921"
             ]
            ],
            "type": "histogram2dcontour"
           }
          ],
          "mesh3d": [
           {
            "colorbar": {
             "outlinewidth": 0,
             "ticks": ""
            },
            "type": "mesh3d"
           }
          ],
          "parcoords": [
           {
            "line": {
             "colorbar": {
              "outlinewidth": 0,
              "ticks": ""
             }
            },
            "type": "parcoords"
           }
          ],
          "pie": [
           {
            "automargin": true,
            "type": "pie"
           }
          ],
          "scatter": [
           {
            "fillpattern": {
             "fillmode": "overlay",
             "size": 10,
             "solidity": 0.2
            },
            "type": "scatter"
           }
          ],
          "scatter3d": [
           {
            "line": {
             "colorbar": {
              "outlinewidth": 0,
              "ticks": ""
             }
            },
            "marker": {
             "colorbar": {
              "outlinewidth": 0,
              "ticks": ""
             }
            },
            "type": "scatter3d"
           }
          ],
          "scattercarpet": [
           {
            "marker": {
             "colorbar": {
              "outlinewidth": 0,
              "ticks": ""
             }
            },
            "type": "scattercarpet"
           }
          ],
          "scattergeo": [
           {
            "marker": {
             "colorbar": {
              "outlinewidth": 0,
              "ticks": ""
             }
            },
            "type": "scattergeo"
           }
          ],
          "scattergl": [
           {
            "marker": {
             "colorbar": {
              "outlinewidth": 0,
              "ticks": ""
             }
            },
            "type": "scattergl"
           }
          ],
          "scattermapbox": [
           {
            "marker": {
             "colorbar": {
              "outlinewidth": 0,
              "ticks": ""
             }
            },
            "type": "scattermapbox"
           }
          ],
          "scatterpolar": [
           {
            "marker": {
             "colorbar": {
              "outlinewidth": 0,
              "ticks": ""
             }
            },
            "type": "scatterpolar"
           }
          ],
          "scatterpolargl": [
           {
            "marker": {
             "colorbar": {
              "outlinewidth": 0,
              "ticks": ""
             }
            },
            "type": "scatterpolargl"
           }
          ],
          "scatterternary": [
           {
            "marker": {
             "colorbar": {
              "outlinewidth": 0,
              "ticks": ""
             }
            },
            "type": "scatterternary"
           }
          ],
          "surface": [
           {
            "colorbar": {
             "outlinewidth": 0,
             "ticks": ""
            },
            "colorscale": [
             [
              0,
              "#0d0887"
             ],
             [
              0.1111111111111111,
              "#46039f"
             ],
             [
              0.2222222222222222,
              "#7201a8"
             ],
             [
              0.3333333333333333,
              "#9c179e"
             ],
             [
              0.4444444444444444,
              "#bd3786"
             ],
             [
              0.5555555555555556,
              "#d8576b"
             ],
             [
              0.6666666666666666,
              "#ed7953"
             ],
             [
              0.7777777777777778,
              "#fb9f3a"
             ],
             [
              0.8888888888888888,
              "#fdca26"
             ],
             [
              1,
              "#f0f921"
             ]
            ],
            "type": "surface"
           }
          ],
          "table": [
           {
            "cells": {
             "fill": {
              "color": "#EBF0F8"
             },
             "line": {
              "color": "white"
             }
            },
            "header": {
             "fill": {
              "color": "#C8D4E3"
             },
             "line": {
              "color": "white"
             }
            },
            "type": "table"
           }
          ]
         },
         "layout": {
          "annotationdefaults": {
           "arrowcolor": "#2a3f5f",
           "arrowhead": 0,
           "arrowwidth": 1
          },
          "autotypenumbers": "strict",
          "coloraxis": {
           "colorbar": {
            "outlinewidth": 0,
            "ticks": ""
           }
          },
          "colorscale": {
           "diverging": [
            [
             0,
             "#8e0152"
            ],
            [
             0.1,
             "#c51b7d"
            ],
            [
             0.2,
             "#de77ae"
            ],
            [
             0.3,
             "#f1b6da"
            ],
            [
             0.4,
             "#fde0ef"
            ],
            [
             0.5,
             "#f7f7f7"
            ],
            [
             0.6,
             "#e6f5d0"
            ],
            [
             0.7,
             "#b8e186"
            ],
            [
             0.8,
             "#7fbc41"
            ],
            [
             0.9,
             "#4d9221"
            ],
            [
             1,
             "#276419"
            ]
           ],
           "sequential": [
            [
             0,
             "#0d0887"
            ],
            [
             0.1111111111111111,
             "#46039f"
            ],
            [
             0.2222222222222222,
             "#7201a8"
            ],
            [
             0.3333333333333333,
             "#9c179e"
            ],
            [
             0.4444444444444444,
             "#bd3786"
            ],
            [
             0.5555555555555556,
             "#d8576b"
            ],
            [
             0.6666666666666666,
             "#ed7953"
            ],
            [
             0.7777777777777778,
             "#fb9f3a"
            ],
            [
             0.8888888888888888,
             "#fdca26"
            ],
            [
             1,
             "#f0f921"
            ]
           ],
           "sequentialminus": [
            [
             0,
             "#0d0887"
            ],
            [
             0.1111111111111111,
             "#46039f"
            ],
            [
             0.2222222222222222,
             "#7201a8"
            ],
            [
             0.3333333333333333,
             "#9c179e"
            ],
            [
             0.4444444444444444,
             "#bd3786"
            ],
            [
             0.5555555555555556,
             "#d8576b"
            ],
            [
             0.6666666666666666,
             "#ed7953"
            ],
            [
             0.7777777777777778,
             "#fb9f3a"
            ],
            [
             0.8888888888888888,
             "#fdca26"
            ],
            [
             1,
             "#f0f921"
            ]
           ]
          },
          "colorway": [
           "#636efa",
           "#EF553B",
           "#00cc96",
           "#ab63fa",
           "#FFA15A",
           "#19d3f3",
           "#FF6692",
           "#B6E880",
           "#FF97FF",
           "#FECB52"
          ],
          "font": {
           "color": "#2a3f5f"
          },
          "geo": {
           "bgcolor": "white",
           "lakecolor": "white",
           "landcolor": "white",
           "showlakes": true,
           "showland": true,
           "subunitcolor": "#C8D4E3"
          },
          "hoverlabel": {
           "align": "left"
          },
          "hovermode": "closest",
          "mapbox": {
           "style": "light"
          },
          "paper_bgcolor": "white",
          "plot_bgcolor": "white",
          "polar": {
           "angularaxis": {
            "gridcolor": "#EBF0F8",
            "linecolor": "#EBF0F8",
            "ticks": ""
           },
           "bgcolor": "white",
           "radialaxis": {
            "gridcolor": "#EBF0F8",
            "linecolor": "#EBF0F8",
            "ticks": ""
           }
          },
          "scene": {
           "xaxis": {
            "backgroundcolor": "white",
            "gridcolor": "#DFE8F3",
            "gridwidth": 2,
            "linecolor": "#EBF0F8",
            "showbackground": true,
            "ticks": "",
            "zerolinecolor": "#EBF0F8"
           },
           "yaxis": {
            "backgroundcolor": "white",
            "gridcolor": "#DFE8F3",
            "gridwidth": 2,
            "linecolor": "#EBF0F8",
            "showbackground": true,
            "ticks": "",
            "zerolinecolor": "#EBF0F8"
           },
           "zaxis": {
            "backgroundcolor": "white",
            "gridcolor": "#DFE8F3",
            "gridwidth": 2,
            "linecolor": "#EBF0F8",
            "showbackground": true,
            "ticks": "",
            "zerolinecolor": "#EBF0F8"
           }
          },
          "shapedefaults": {
           "line": {
            "color": "#2a3f5f"
           }
          },
          "ternary": {
           "aaxis": {
            "gridcolor": "#DFE8F3",
            "linecolor": "#A2B1C6",
            "ticks": ""
           },
           "baxis": {
            "gridcolor": "#DFE8F3",
            "linecolor": "#A2B1C6",
            "ticks": ""
           },
           "bgcolor": "white",
           "caxis": {
            "gridcolor": "#DFE8F3",
            "linecolor": "#A2B1C6",
            "ticks": ""
           }
          },
          "title": {
           "x": 0.05
          },
          "xaxis": {
           "automargin": true,
           "gridcolor": "#EBF0F8",
           "linecolor": "#EBF0F8",
           "ticks": "",
           "title": {
            "standoff": 15
           },
           "zerolinecolor": "#EBF0F8",
           "zerolinewidth": 2
          },
          "yaxis": {
           "automargin": true,
           "gridcolor": "#EBF0F8",
           "linecolor": "#EBF0F8",
           "ticks": "",
           "title": {
            "standoff": 15
           },
           "zerolinecolor": "#EBF0F8",
           "zerolinewidth": 2
          }
         }
        },
        "title": {
         "font": {
          "color": "black",
          "family": "Arial, sans-serif",
          "size": 20
         },
         "text": "Periodogram signal.welch()",
         "x": 0.5
        },
        "xaxis": {
         "title": {
          "text": "Frequency (Hz)"
         }
        },
        "yaxis": {
         "title": {
          "text": "Power"
         }
        }
       }
      }
     },
     "metadata": {},
     "output_type": "display_data"
    }
   ],
   "source": [
    "Fs=500\n",
    "f1,Pxx1 = pwelch(x,Fs)\n",
    "f2,Pxx2 = signal.welch(x,fs=Fs)\n",
    "\n",
    "fig = go.Figure()\n",
    "fig.add_trace(go.Scatter(x=f2, y=Pxx2, mode='lines', line=dict(color='#1F77B4')))\n",
    "fig.update_layout(title='Periodogram signal.welch()', title_x=0.5, \n",
    "                  title_font=dict(size=20, color='black', family=\"Arial, sans-serif\"),\n",
    "                  xaxis_title='Frequency (Hz)', yaxis_title='Power',\n",
    "                  template='plotly_white')\n",
    "fig.show()"
   ]
  }
 ],
 "metadata": {
  "kernelspec": {
   "display_name": "Python 3 (ipykernel)",
   "language": "python",
   "name": "python3"
  },
  "language_info": {
   "codemirror_mode": {
    "name": "ipython",
    "version": 3
   },
   "file_extension": ".py",
   "mimetype": "text/x-python",
   "name": "python",
   "nbconvert_exporter": "python",
   "pygments_lexer": "ipython3",
   "version": "3.11.5"
  }
 },
 "nbformat": 4,
 "nbformat_minor": 4
}
