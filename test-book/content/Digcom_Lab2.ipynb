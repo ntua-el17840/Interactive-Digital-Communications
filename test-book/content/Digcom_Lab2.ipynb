{
 "cells": [
  {
   "cell_type": "markdown",
   "metadata": {},
   "source": [
    "# Εργαστηριακή Άσκηση 2\n",
    "Σκοπός της δεύτερης σειράς ασκήσεων είναι η εξοικείωση με τις συναρτήσεις σχεδιασμού φίλτρων πεπερασμένης κρουστικής απόκρισης (FIR) και την υλοποίησή τους στο MATLAB. **Προτού ξεκινήσετε την άσκηση θα πρέπει να μελετήσετε με προσοχή το Κεφάλαιο 1 και, ειδικότερα, την παράγραφο 1.3 του τεύχους του μαθήματος.** Το MATLAB (www.mathworks.com) είναι ένα διαδραστικό εμπορικό πρόγραμμα (Windows, Linux, Unix) με το οποίο μπορείτε να κάνετε εύκολα αριθμητικές πράξεις με πίνακες. Μπορεί να το έχετε εγκατεστημένο τοπικά, στον προσωπικό σας υπολογιστή ή να εργάζεστε σε κάποιο Εργαστήριο Προσωπικών Υπολογιστών (ΕΠΥ) της Σχολής σας που διαθέτει το συγκεκριμένο λογισμικό.\n"
   ]
  },
  {
   "cell_type": "markdown",
   "metadata": {},
   "source": [
    "## Μέρος 1: Εισαγωγή\n",
    "Στο MATLAB οι συναρτήσεις $fft$ και $ifft$ υποθέτουν ζεύγος μετασχηματισμού Fourier $x(t)$ και $X(f)$ υπολογισμένων σε μη αρνητικά διαστήματα \n",
    "$ t=[0:N-1]ts $ και $ f=[0:N-1]fo. $ Όπως έχετε ήδη δει στην Εργαστηριακή άσκηση 1, το άνω μισό μέρος του διαστήματος συχνοτήτων αντιστοιχεί στις αρνητικές συχνότητες του σήματος, όταν υπολογίζουμε το $X(f)$ με τη βοήθεια της συνάρτησης $fft$ (για σήματα πραγματικών τιμών, αυτά τα δυο μισά είναι κατοπτρικά ως προς το μέσο του διαστήματος). Ακριβώς το ίδιο ισχύει και για το άνω μισό μέρος του χρονικού διαστήματος, όταν το σήμα $x(t)$ προκύπτει από τον αντίστροφο μετασχηματισμό Fourier μέσω της $ifft$.\n",
    "\n",
    "Το MATLAB διαθέτει τη συνάρτηση $fftshift$ για να ολισθήσει κυκλικά τις τιμές του σήματος ή του μετασχηματισμού Fourier, ώστε να αντιστοιχούν σε κεντραρισμένα στο μηδέν αμφίπλευρα διαστήματα, δηλαδή, στις χρονικές στιγμές $tb=[-ceil((N-1)/2): floor((N-1)/2)]ts$ ή στις συχνότητες $fb=[–ceil((N-1)/2): floor((N-1)/2)]fo$. Με τον τρόπο αυτό μπορούμε να παράγουμε τα $xb(t)$ και $Xb(f)$ που αντιστοιχούν στην αμφίπλευρη αναπαράσταση του σήματος και του μετασχηματισμού Fourier.\n",
    "\n",
    "Για να κατανοήσετε τα ανωτέρω θεωρείστε το διάνυσμα $[1 2 3 4]$ ως το αποτέλεσμα του $FFT$ μήκους 4. Τότε, το πρώτο στοιχείο (1) είναι ο όρος dc, το τρίτο στοιχείο (3) είναι το σημείο στο μισό της συχνότητας δειγματοληψίας $fs/2$, που μπορεί να εκληφθεί ότι αντιστοιχεί είτε στην $–fs/2$ είτε στην $+fs/2$. Τα στοιχεία 2 και 4 αντιστοιχούν στις συχνότητες $+fs/4$ και $–fs/4$. Εφαρμόζοντας την $fftshift$, το στοιχείο 3 εμφανίζεται πρώτο, που σημαίνει ότι στο MATLAB αντιστοιχεί στην αρνητική συχνότητα $–fs/2$, το επόμενο στοιχείο 4 αντιστοιχεί στη συχνότητα $–fs/4$ ακολουθούμενο από το dc και τη συχνότητα $+fs/4$. Για ένα μετασχηματισμό περιττού μήκους, δεν υφίσταται σημείο για το $±fs/2$. Έτσι για το διάνυσμα $[1 2 3]$, η εφαρμογή της $fftshift$ θα δώσει τα στοιχεία που αντιστοιχούν στις συχνότητες $–fs/3, 0, +fs/3$.\n",
    "\n",
    "Εκτός του ότι παράγουν εξόδους με τις αρνητικές συχνότητες ή χρόνους στο άνω μισό του διανύσματος, αμφότερες οι συναρτήσεις $fft$ και $ifft$ αναμένουν ως είσοδο διάνυσμα με την ίδια μορφή, αφού προφανώς ισχύουν οι ταυτότητες\n",
    "\n",
    "<center>\n",
    "\n",
    "$h == \\text{ifft}(\\text{fft}(h))$ και $H == \\text{fft}(\\text{ifft}(H))$\n",
    "\n",
    "</center>\n",
    "\n",
    "\n",
    "Η πρώτη υποδεικνύει ότι η είσοδος της $ifft$ πρέπει να είναι αντεστραμμένη, όπως την παράγει η $fft$, και η δεύτερη ότι η είσοδος της $fft$ πρέπει να είναι αντεστραμμένη, όπως την παράγει η $ifft$.\n",
    "\n",
    "Στο επόμενο σχήμα βλέπετε παραστατικά ένα ημιτονικό σήμα που έχει πολλαπλασιασθεί με παράθυρο Blackman τόσο στην αμφίπλευρη, όσο και την μονόπλευρη αναπαράστασή του."
   ]
  },
  {
   "cell_type": "markdown",
   "metadata": {},
   "source": [
    "<button title=\"Launch thebe\" class=\"thebelab-button thebe-launch-button\" onclick=\"initThebe()\">Interactive Code</button>"
   ]
  },
  {
   "cell_type": "code",
   "execution_count": null,
   "metadata": {
    "tags": [
     "hide-input",
     "thebe-init"
    ]
   },
   "outputs": [],
   "source": [
    "import numpy as np\n",
    "import matplotlib.pyplot as plt\n",
    "import ipywidgets as widgets\n",
    "from IPython.display import display, clear_output\n",
    "\n",
    "np.random.seed(0)\n",
    "\n",
    "# Generate random data\n",
    "t = np.linspace(-40, 40, 80)  # 80 samples\n",
    "random_data = np.random.randn(len(t))\n",
    "\n",
    "# Initial start and end points for the window\n",
    "start, end = 30, 50\n",
    "\n",
    "# Output widget for the plots\n",
    "output = widgets.Output()\n",
    "\n",
    "def apply_window_and_plot(start, end):\n",
    "    with output:\n",
    "        clear_output(wait=True)\n",
    "        # Create a sinusoidal window\n",
    "        sin_window = np.zeros_like(t)\n",
    "        sin_window[start:end] = np.sin(np.linspace(0, np.pi, end - start))\n",
    "\n",
    "        # Apply sinusoidal window to random data\n",
    "        windowed_data = sin_window * random_data\n",
    "\n",
    "        # Append the negative times to the end of the time array\n",
    "        t_append_negative = np.concatenate((t[t >= 0], t[t < 0] + t[-1] - t[0] + (t[1] - t[0])))\n",
    "        windowed_data_append_negative = np.concatenate((windowed_data[t >= 0], windowed_data[t < 0]))\n",
    "        plt.close('all')  # Close all existing figures\n",
    "        # Create subplots\n",
    "        fig, axs = plt.subplots(2, 1, figsize=(10, 10))\n",
    "\n",
    "        # Plot original windowed data\n",
    "        axs[0].stem(t, windowed_data, linefmt='C0-', markerfmt='C0o', basefmt=\" \")\n",
    "        axs[0].set_title(\"Original Sinusoidal Windowed Random Data\", fontsize=16)\n",
    "        axs[0].set_xlabel(\"Time (samples)\", fontsize=12)\n",
    "        axs[0].set_ylabel(\"Amplitude\", fontsize=12)\n",
    "\n",
    "        # Plot with negative times appended\n",
    "        axs[1].stem(t_append_negative, windowed_data_append_negative, linefmt='C1-', markerfmt='C1o', basefmt=\" \")\n",
    "        axs[1].set_title(\"Sinusoidal Windowed Random Data with Negative Times Appended\", fontsize=16)\n",
    "        axs[1].set_xlabel(\"Time (samples)\", fontsize=12)\n",
    "        axs[1].set_ylabel(\"Amplitude\", fontsize=12)\n",
    "\n",
    "        # Adjust layout and show plot\n",
    "        plt.tight_layout()\n",
    "        \n",
    "        plt.show()\n",
    "        \n",
    "\n",
    "# Define the range slider\n",
    "window_range_slider = widgets.IntRangeSlider(\n",
    "    value=[start, end],\n",
    "    min=0,\n",
    "    max=len(t),\n",
    "    step=1,\n",
    "    description='Window Range:',\n",
    "    continuous_update=False\n",
    ")\n",
    "\n",
    "# Function to update the plot based on the range slider\n",
    "def on_range_change(change):\n",
    "    new_start, new_end = change['new']\n",
    "    apply_window_and_plot(new_start, new_end)\n",
    "\n",
    "# Observe the range slider for changes\n",
    "window_range_slider.observe(on_range_change, names='value')\n",
    "\n",
    "# Group the slider and output widget in a vertical box layout\n",
    "vbox = widgets.VBox([window_range_slider, output])\n",
    "\n",
    "# Display the VBox\n",
    "display(vbox)\n",
    "\n",
    "# Initialize with the default plot\n",
    "apply_window_and_plot(start, end)\n"
   ]
  },
  {
   "cell_type": "markdown",
   "metadata": {},
   "source": [
    "Οι αντίστοιχοι μετασχηματισμοί Fourier, σε αμφίπλευρη και μονόπλευρη αναπαράσταση, φαίνονται στο επόμενο σχήμα:"
   ]
  },
  {
   "cell_type": "markdown",
   "metadata": {},
   "source": [
    "<div style=\"text-align: center;\">\n",
    "    <img src=\"../content/images/lab2_2.png\" alt=\"lab2_2.png\">\n",
    "</div>"
   ]
  },
  {
   "cell_type": "markdown",
   "metadata": {},
   "source": [
    "Όταν τα $x(t)$ και $X(f)$ παράγονται από το MATLAB, δεν χρειάζεται κάποια ιδιαίτερη προσοχή, πλην της κυκλικής ολίσθησης σε περίπτωση που θέλουμε π.χ. να σχεδιάσουμε το αμφίπλευρο φάσμα ή σήμα. Όταν όμως ένα εκ των $x(t)$ ή $X(f)$ ορίζεται από τον χρήστη απαιτείται περισσότερη προσοχή, διότι, συνήθως χρησιμοποιούνται τα αμφίπλευρα σήματα ή φάσματα. Μπορείτε να μεταβείτε από τη μία αναπαράσταση στην άλλη ως εξής:\n",
    "\n",
    "$x = ifftshift(xb)$, $X = fft(x)$, $Xb = fftshift(X)$, εάν ξεκινάτε από αμφίπλευρο σήμα και θέλετε να καταλήξετε σε αμφίπλευρο φάσμα, και\n",
    "\n",
    "$X = ifftshift(Xb)$, $x = ifft(X)$, $xb = fftshift(x)$, εάν ξεκινάτε από αμφίπλευρο φάσμα και θέλετε να καταλήξετε σε αμφίπλευρο σήμα,\n",
    "\n",
    "όπου η συνάρτηση $ifftshift$ του MATLAB εκτελεί την αντίστροφη λειτουργία της $fftshift$. Όταν το $N$ είναι άρτιο, οι $fftshift$ και $ifftshift$ δίνουν το ίδιο αποτέλεσμα. Όταν όμως το $N$ είναι περιττό αυτό δεν ισχύει και χρειάζεται προσοχή στη χρήση τους. Στην πράξη, η προσεκτική εφαρμογή των ανωτέρω έχει σημασία όταν υπολογίζεται η φάση του φάσματος. Το πλάτος του φάσματος δεν επηρεάζεται από την κυκλική ολίσθηση των στοιχείων που προκαλούν οι $fftshift$ και $ifftshift$ (δείτε ιδιότητες DFT)."
   ]
  },
  {
   "cell_type": "markdown",
   "metadata": {},
   "source": [
    "### Εξάσκηση\n",
    "Δοκιμάστε στο παράθυρο εντολών τα ακόλουθα προκειμένου να εμπεδώσετε τη χρήση των συναρτήσεων $fftshift$ και $ifftshift$.\n"
   ]
  },
  {
   "cell_type": "code",
   "execution_count": null,
   "metadata": {
    "tags": [
     "hide-input",
     "thebe-init"
    ]
   },
   "outputs": [],
   "source": [
    "import numpy as np\n",
    "\n",
    "# Create the array X\n",
    "X = np.arange(-2, 3)  # equivalent to MATLAB's -2:2\n",
    "\n",
    "# Apply fftshift and ifftshift\n",
    "fftshifted_X = np.fft.fftshift(X)\n",
    "ifftshifted_X = np.fft.ifftshift(X)\n",
    "\n",
    "# Double fftshift and a combination of fftshift and ifftshift\n",
    "Y = np.fft.fftshift(np.fft.fftshift(X))\n",
    "Z = np.fft.ifftshift(np.fft.fftshift(X))\n",
    "\n",
    "# Check if arrays are equal\n",
    "X_equals_Y = np.array_equal(X, Y)\n",
    "X_equals_Z = np.array_equal(X, Z)\n",
    "\n",
    "print(f\"X equals Y: {X_equals_Y}\")\n",
    "print(f\"X equals Z: {X_equals_Z}\")"
   ]
  },
  {
   "cell_type": "markdown",
   "metadata": {
    "vscode": {
     "languageId": "xml"
    }
   },
   "source": [
    "<details>\n",
    "    <summary style=\"background-color: #3383FF; color: white; cursor: pointer; padding: 2px; border-radius: 5px;\"><strong>Αντίστοιχος κώδικας MatLab</strong></summary>\n",
    "    <div >\n",
    "        <pre>\n",
    "X = [-2:2]\n",
    "fftshift(X)\n",
    "ifftshift(X)\n",
    "Y = fftshift(fftshift(X));\n",
    "Z = ifftshift(fftshift(X));\n",
    "isequal(X,Y)\n",
    "isequal(X,Z)\n",
    "        </pre>\n",
    "    </div>\n",
    "</details>\n"
   ]
  },
  {
   "cell_type": "markdown",
   "metadata": {},
   "source": [
    "\n",
    "Ερώτηση 1: Ποιο εκ των διανυσμάτων Υ και Ζ ισούται με το X; Γράψτε την απάντησή σας σε ένα αρχείο κειμένου lab2_nnnnn.txt, όπου nnnnn τα πέντε τελευταία νούμερα του αριθμού μητρώου σας, χρησιμοποιώντας το Notepad από το μενού των Windows (Start → Programs → Accessories → Notepad) και αποθηκεύστε το στον φάκελο My Documents. Θα υποβάλετε το αρχείο αυτό ηλεκτρονικά στο τέλος, αφού απαντήσετε και τις επόμενες ερωτήσεις, οπότε μπορείτε να τα αφήσετε ανοικτό.\n",
    "Ερώτηση 2: Επαναλάβατε με $X=[-1:2]$. Τι παρατηρείτε; Γράψτε την απάντησή σας στο αρχείο κειμένου lab2_nnnnn.txt.\n",
    "Δοκιμάστε στο παράθυρο εντολών τα ακόλουθα δύο παραδείγματα για να εμπεδώσετε τη χρήση των συναρτήσεων $fftshift$ και $ifftshift$ σε συνδυασμό με τις $fft$ και $ifft$.\n",
    "\n",
    "\n"
   ]
  },
  {
   "cell_type": "code",
   "execution_count": null,
   "metadata": {
    "tags": [
     "hide-input",
     "thebe-init"
    ]
   },
   "outputs": [],
   "source": [
    "import numpy as np\n",
    "from scipy.fft import fft, ifft, fftshift, ifftshift\n",
    "import matplotlib.pyplot as plt\n",
    "from ipywidgets import interact, Layout\n",
    "import ipywidgets as widgets\n",
    "\n",
    "# First part: Original signal and its FFT\n",
    "xb = np.array([1, 2, 3, 4, 5, 4, 3, 2, 1])\n",
    "x = ifftshift(xb)\n",
    "X = fft(x)\n",
    "Xb = fftshift(X)  # Spectrum with DC component in the center\n",
    "\n",
    "# Second part: Low-pass filter effect\n",
    "Xb_low_pass = np.array([0, 0, 1, 1, 1, 1, 1, 0, 0])\n",
    "X_low_pass = ifftshift(Xb_low_pass)\n",
    "x_low_pass = ifft(X_low_pass)\n",
    "xb_low_pass = fftshift(x_low_pass.real)\n",
    "\n",
    "# Function to plot\n",
    "def plot_signals():\n",
    "    fig1, axs = plt.subplots(2, 2, figsize=(15, 10))\n",
    "\n",
    "    time_range = np.arange(-4, 5)\n",
    "    \n",
    "    axs[0, 0].stem(time_range, xb, linefmt='blue', markerfmt='bo', basefmt='r-')\n",
    "    axs[0, 0].set_title('Original Signal')\n",
    "    axs[0, 0].set_xlabel('Time (s)')\n",
    "    axs[0, 0].set_ylabel('Amplitude')\n",
    "\n",
    "    axs[0, 1].stem(time_range, np.abs(Xb), linefmt='red', markerfmt='ro', basefmt='r-')\n",
    "    axs[0, 1].set_title('Magnitude Spectrum')\n",
    "    axs[0, 1].set_xlabel('Frequency (Hz)')\n",
    "    axs[0, 1].set_ylabel('Magnitude')\n",
    "\n",
    "    axs[1, 0].stem(time_range, Xb_low_pass, linefmt='green', markerfmt='go', basefmt='r-')\n",
    "    axs[1, 0].set_title('Low-pass Spectrum')\n",
    "    axs[1, 0].set_xlabel('Frequency (Hz)')\n",
    "    axs[1, 0].set_ylabel('Magnitude')\n",
    "\n",
    "    axs[1, 1].stem(time_range, xb_low_pass, linefmt='purple', markerfmt='mo', basefmt='r-')\n",
    "    axs[1, 1].set_title('Reconstructed Signal')\n",
    "    axs[1, 1].set_xlabel('Time (s)')\n",
    "    axs[1, 1].set_ylabel('Amplitude')\n",
    "\n",
    "    plt.tight_layout()\n",
    "    plt.show()\n",
    "\n",
    "plot_signals()\n"
   ]
  },
  {
   "cell_type": "markdown",
   "metadata": {},
   "source": [
    "<details>\n",
    "    <summary style=\"background-color: #3383FF; color: white; cursor: pointer; padding: 2px; border-radius: 5px;\"><strong>Αντίστοιχος κώδικας MatLab</strong></summary>\n",
    "    <div>\n",
    "        <pre>\n",
    "close all;\n",
    "clear all;\n",
    "clc;\n",
    "xb=[1 2 3 4 5 4 3 2 1]                          % πραγματικό σήμα με άρτια συμμετρία\n",
    "figure;\n",
    "subplot (2,1,1);\n",
    "plot([-4:4],xb);\n",
    "ylabel('xb');\n",
    "x=ifftshift(xb)                                 % το σήμα με τις αρνητικές συνιστώσες στο άνω μέρος\n",
    "X=fft(x)                                        % FFT\n",
    "Xb=fftshift(X)                                  % το φάσμα με τη dc συνιστώσα στο κέντρο, πραγματικές\n",
    "                                                % τιμές με άρτια συμμετρία όπως αναμένεται\n",
    "subplot (2,1,2);\n",
    "plot([-4:4],Xb);\n",
    "ylabel('Xb');\n",
    "close all;\n",
    "clear all;\n",
    "clc;\n",
    "Xb=[0 0 1 1 1 1 1 0 0]                          % φάσμα βαθυπερατού σήματος με άρτια συμμετρία\n",
    "figure;\n",
    "subplot (2,1,1);\n",
    "plot([-4:4],Xb);\n",
    "ylabel('Xb');\n",
    "X=ifftshift(Xb)                                 % το φάσμα με τις αρνητικές συνιστώσες στο άνω μέρος\n",
    "x=ifft(X)                                       % IFFT\n",
    "xb=fftshift(x)                                  % πραγματικό σήμα με άρτια συμμετρία όπως αναμένεται\n",
    "subplot (2,1,2);\n",
    "plot([-4:4],xb);\n",
    "ylabel('xb');\n",
    "        </pre>\n",
    "    </div>\n",
    "</details>\n"
   ]
  },
  {
   "cell_type": "markdown",
   "metadata": {},
   "source": [
    "\n",
    "Ερώτηση 3: Τροποποιείστε το προηγούμενο παράδειγμα ώστε να ξεκινήσετε απευθείας με τον ορισμό του φάσματος του βαθυπερατού σήματος $X$ όπως το αναμένει η $ifft$. Γράψτε την απάντησή σας στο αρχείο κειμένου lab2_nnnnn.txt."
   ]
  },
  {
   "cell_type": "code",
   "execution_count": null,
   "metadata": {
    "tags": [
     "hide-input",
     "thebe-init"
    ]
   },
   "outputs": [],
   "source": [
    "from scipy import signal\n",
    "import scipy.io.wavfile\n",
    "# Ανατρέξτε στην τεκμηρίωση της βιβλιοθήκης scipy.signal\n",
    "# https://docs.scipy.org/doc/scipy/reference/signal.html\n",
    "from scipy.fft import fft, fftfreq\n",
    "from dash import Dash, dcc, html, Input, Output\n",
    "import matplotlib\n",
    "import matplotlib.pyplot as plt\n",
    "import numpy as np\n",
    "from numpy import random\n",
    "import pandas\n",
    "import plotly\n",
    "import plotly.express as px\n",
    "import plotly.graph_objs as go\n",
    "import dash_bootstrap_components as dbc\n",
    "import warnings\n",
    "warnings.filterwarnings('ignore')\n",
    "print(\"Libraries added successfully!\")"
   ]
  },
  {
   "cell_type": "markdown",
   "metadata": {},
   "source": [
    "## Μέρος 2: Σχεδιασμός και υλοποίηση φίλτρων\n",
    "\n",
    "Θα ασχοληθούμε με το Παράδειγμα 1.2 της παραγράφου 1.5 του τεύχους Μαθήματος. Το παράδειγμα αυτό παρουσιάζει δύο εναλλακτικές μεθόδους σχεδιασμού FIR φίλτρων:\n",
    "α) τη μέθοδο των παραθύρων και\n",
    "β) τη μέθοδο των ισοϋψών κυματώσεων\n",
    "τις οποίες εφαρμόζει στην περίπτωση βαθυπερατών φίλτρων. \n",
    "\n",
    "Στο παράδειγμα, τα φίλτρα δοκιμάζονται σε ένα πραγματικό σήμα, s, το οποίο είναι αποθηκευμένο  στο αρχείο sima.mat (binary αρχείο MATLAB). Πρόκειται για ένα σήμα sonar με φάσμα που εκτείνεται μέχρι περίπου τα 4 KHz και συχνότητα δειγματοληψίας Fs=8192 (είναι και αυτή αποθηκευμένη στο αρχείο sima.mat, μαζί με το σήμα).\n",
    "\n",
    "Εδώ θα πειραματιστούμε με δύο σήματα: (i) το sonar του παραδείγματος, το οποίο εδώ διαβάζεται από ένα .txt αρχείο (έχει προέλθει με εξαγωγή του s από το MATLAB) και (ii) ένα σήμα μουσικής, το violin.wav (σήμα από μουσική βιολιού), το οποίο περιέχει υψηλότερες συχνότητες και έχει προέλθει με δειγματοληψία στα Fs_viol=44100 Hz.\n"
   ]
  },
  {
   "cell_type": "markdown",
   "metadata": {},
   "source": [
    "### Σήμα sonar"
   ]
  },
  {
   "cell_type": "code",
   "execution_count": 2,
   "metadata": {
    "tags": [
     "hide-input",
     "thebe-init"
    ]
   },
   "outputs": [
    {
     "name": "stdout",
     "output_type": "stream",
     "text": [
      "μέγεθος σήματος= (6565,)\n"
     ]
    }
   ],
   "source": [
    "# Ανάγνωση δειγμάτων σήματος από txt file\n",
    "with open('test-book/ files/sima.txt') as f:\n",
    "    s = [float(x) for x in f]\n",
    "s=np.array(s)   \n",
    "print('μέγεθος σήματος=', s.shape)\n",
    "Fs=8192"
   ]
  },
  {
   "cell_type": "markdown",
   "metadata": {},
   "source": [
    "#### Στο πεδίο του χρόνου"
   ]
  },
  {
   "cell_type": "code",
   "execution_count": null,
   "metadata": {
    "tags": [
     "hide-input",
     "thebe-init"
    ]
   },
   "outputs": [],
   "source": [
    "import numpy as np\n",
    "import matplotlib.pyplot as plt\n",
    "from ipywidgets import FloatRangeSlider, VBox, HTML, Output, Layout\n",
    "import ipywidgets as widgets\n",
    "from IPython.display import display, clear_output\n",
    "\n",
    "\n",
    "t = np.arange(0, len(s)) / Fs  # Time vector corrected to match the signal length\n",
    "\n",
    "# Output widget for the plots\n",
    "output1 = widgets.Output()\n",
    "\n",
    "# Plotting function\n",
    "def plot_signal(t_range):\n",
    "    with output1:\n",
    "        clear_output(wait=True)  # Clear the previous plot\n",
    "        plt.close('all')  # Close all existing figures\n",
    "        fig, ax = plt.subplots(figsize=(10, 4))\n",
    "        ax.plot(t, s, label='Signal', color='#00CC96')\n",
    "        ax.set_xlim(t_range)\n",
    "        ax.set_ylim([-0.05, 0.05])\n",
    "        ax.set_title('Time Domain Plot of x')\n",
    "        ax.set_xlabel('t (sec)')\n",
    "        ax.set_ylabel('Amplitude')\n",
    "        ax.grid(True)\n",
    "        ax.legend()\n",
    "        plt.tight_layout()\n",
    "        plt.show()\n",
    "\n",
    "# Create a range slider for time range selection\n",
    "time_range_slider = FloatRangeSlider(\n",
    "    value=[0, 0.8],\n",
    "    min=0,\n",
    "    max=t[-1],\n",
    "    step=0.01,\n",
    "    description='Time Range:',\n",
    "    style={'description_width': 'initial'},\n",
    "    continuous_update=False\n",
    ")\n",
    "\n",
    "# Function to update the plot based on slider changes\n",
    "def response(change):\n",
    "    plot_signal(time_range_slider.value)\n",
    "\n",
    "# Observe changes in the slider and update the plot accordingly\n",
    "time_range_slider.observe(response, names='value')\n",
    "\n",
    "# Group the slider and output widget in a vertical box layout\n",
    "vbox = widgets.VBox([time_range_slider, output1])\n",
    "\n",
    "\n",
    "# Display the VBox\n",
    "display(vbox)\n",
    "\n",
    "# Initial call to display the plot\n",
    "plot_signal(time_range_slider.value)\n",
    "\n"
   ]
  },
  {
   "cell_type": "markdown",
   "metadata": {},
   "source": [
    "#### Ακούμε το σήμα "
   ]
  },
  {
   "cell_type": "code",
   "execution_count": null,
   "metadata": {
    "tags": [
     "hide-input",
     "thebe-init"
    ]
   },
   "outputs": [],
   "source": [
    "import ipywidgets as widgets\n",
    "from IPython.display import Audio, display\n",
    "\n",
    "# Function to play the sound\n",
    "def play_sound(b):\n",
    "    display(Audio(data=20*s, rate=Fs))\n",
    "\n",
    "# Create a button widget\n",
    "button1 = widgets.Button(description=\"Play Sound\")\n",
    "\n",
    "# Display the button\n",
    "display(button1)\n",
    "\n",
    "# On button click, play the sound\n",
    "button1.on_click(play_sound)"
   ]
  },
  {
   "cell_type": "markdown",
   "metadata": {},
   "source": [
    "#### Φάσμα (spectrum) "
   ]
  },
  {
   "cell_type": "code",
   "execution_count": null,
   "metadata": {
    "tags": [
     "hide-input",
     "thebe-init"
    ]
   },
   "outputs": [],
   "source": [
    "import matplotlib.pyplot as plt\n",
    "from scipy import signal\n",
    "\n",
    "# Assuming `s` (your signal) and `Fs` (your sampling frequency) are defined\n",
    "f, Pxx_den = signal.welch(s, Fs, noverlap=128, nperseg=256)\n",
    "\n",
    "# Create matplotlib figure and axis\n",
    "fig, ax = plt.subplots(figsize=(10, 6))\n",
    "\n",
    "# Plot the Power Spectral Density (PSD) with a logarithmic scale on the y-axis\n",
    "ax.semilogy(f, Pxx_den, color='#1F77B4')\n",
    "\n",
    "# Update layout for a semilog plot similar to the Plotly configuration\n",
    "ax.set_title('Φάσμα σήματος sonar')\n",
    "ax.set_xlabel('Συχνότητα (Hz)')\n",
    "ax.set_ylabel('Πυκνότητα φάσματος ισχύος')\n",
    "ax.grid(True, which=\"both\", linestyle='--', linewidth=0.5, color='gray')\n",
    "\n",
    "# Display the figure\n",
    "plt.tight_layout()  # Adjust layout to make room for the plot's elements\n",
    "plt.show()\n"
   ]
  },
  {
   "cell_type": "markdown",
   "metadata": {},
   "source": [
    "### Σήμα βιολιού"
   ]
  },
  {
   "cell_type": "code",
   "execution_count": null,
   "metadata": {
    "scrolled": true,
    "tags": [
     "hide-input",
     "thebe-init"
    ]
   },
   "outputs": [],
   "source": [
    "f=open(\"files/violin.wav\", 'rb')\n",
    "Fs_viol, s_viol = scipy.io.wavfile.read(f)\n",
    "print('Fs_viol=',Fs_viol, ' number of samples=',len(s_viol))\n",
    "f.close()"
   ]
  },
  {
   "cell_type": "markdown",
   "metadata": {},
   "source": [
    "#### Στο πεδίο του χρόνου"
   ]
  },
  {
   "cell_type": "code",
   "execution_count": null,
   "metadata": {
    "tags": [
     "hide-input",
     "thebe-init"
    ]
   },
   "outputs": [],
   "source": [
    "import matplotlib.pyplot as plt\n",
    "import numpy as np\n",
    "\n",
    "# Assuming s_viol (your signal) and Fs_viol (your sampling frequency) are defined\n",
    "tvl = np.arange(0, len(s_viol)) / Fs_viol\n",
    "\n",
    "# Create matplotlib figure and axis\n",
    "fig, ax = plt.subplots(figsize=(10, 6))\n",
    "\n",
    "# Plot the signal\n",
    "ax.plot(tvl, s_viol, color='#1F77B4', linestyle='-')\n",
    "\n",
    "# Update layout\n",
    "ax.set_title('Signal over time')\n",
    "ax.set_xlabel('Time (s)')\n",
    "ax.set_ylabel('Amplitude')\n",
    "ax.grid(True, which=\"both\", linestyle='--', linewidth=0.5, color='gray')\n",
    "\n",
    "# Display the figure\n",
    "plt.tight_layout()  # Adjust layout to make room for the plot's elements\n",
    "plt.show()\n"
   ]
  },
  {
   "cell_type": "code",
   "execution_count": null,
   "metadata": {
    "tags": [
     "hide-input",
     "thebe-init"
    ]
   },
   "outputs": [],
   "source": [
    "import ipywidgets as widgets\n",
    "from IPython.display import display\n",
    "import sounddevice as sd\n",
    "import threading\n",
    "\n",
    "# Define your sound and its sampling rate\n",
    "# s_viol and Fs_viol should be defined before this point\n",
    "\n",
    "def play_sound():\n",
    "    sd.play(s_viol, Fs_viol)\n",
    "\n",
    "def on_button_clicked(b):\n",
    "    threading.Thread(target=play_sound).start()\n",
    "\n",
    "# Create a button widget\n",
    "play_button = widgets.Button(description=\"Play Sound\")\n",
    "\n",
    "# Link the button to the function that plays the sound\n",
    "play_button.on_click(on_button_clicked)\n",
    "\n",
    "# Display the button\n",
    "display(play_button)\n"
   ]
  },
  {
   "cell_type": "markdown",
   "metadata": {},
   "source": [
    "#### Φάσμα (spectrum) και Φασματόγραμμα  (spectorgram)"
   ]
  },
  {
   "cell_type": "code",
   "execution_count": null,
   "metadata": {
    "tags": [
     "hide-input",
     "thebe-init"
    ]
   },
   "outputs": [],
   "source": [
    "import matplotlib.pyplot as plt\n",
    "from scipy import signal\n",
    "import numpy as np\n",
    "\n",
    "# Assuming s_viol (your signal) and Fs_viol (your sampling frequency) are defined\n",
    "f, Pxx_den = signal.welch(s_viol, Fs_viol, nperseg=1024, noverlap=256)\n",
    "\n",
    "# Create matplotlib figure and axis\n",
    "fig, ax = plt.subplots(figsize=(10, 6))\n",
    "\n",
    "# Plot the Power Spectral Density (PSD) with a logarithmic scale on the y-axis\n",
    "ax.semilogy(f, Pxx_den, color='#1F77B4')\n",
    "\n",
    "# Update layout for a semilog plot\n",
    "ax.set_title('Power Spectral Density')\n",
    "ax.set_xlabel('Συχνότητα [Hz]')\n",
    "ax.set_ylabel('Πυκνότητα φάσματος ισχύος [V^2/Hz]')\n",
    "ax.grid(True, which=\"both\", linestyle='--', linewidth=0.5, color='gray')\n",
    "\n",
    "\n",
    "# Display the figure\n",
    "plt.tight_layout()  # Adjust layout to make room for the plot's elements\n",
    "plt.show()\n"
   ]
  },
  {
   "cell_type": "code",
   "execution_count": null,
   "metadata": {
    "tags": [
     "hide-input",
     "thebe-init"
    ]
   },
   "outputs": [],
   "source": [
    "import matplotlib.pyplot as plt\n",
    "from scipy import signal\n",
    "import numpy as np\n",
    "\n",
    "# Assuming `s` (your signal) and `Fs` (your sampling frequency) are defined\n",
    "f, tsp, Sxx = signal.spectrogram(s, Fs)\n",
    "\n",
    "# Create matplotlib figure and axis\n",
    "fig, ax = plt.subplots(figsize=(10, 6))\n",
    "\n",
    "# Convert power to dB\n",
    "Sxx_dB = 10 * np.log10(Sxx)\n",
    "\n",
    "# Create the spectrogram\n",
    "c = ax.pcolormesh(tsp, f, Sxx_dB)\n",
    "\n",
    "# Add a colorbar\n",
    "fig.colorbar(c, ax=ax, label='Intensity [dB]')\n",
    "\n",
    "# Update layout\n",
    "ax.set_title('Spectrogram')\n",
    "ax.set_xlabel('Χρόνος [sec]')\n",
    "ax.set_ylabel('Συχνότητα [Hz]')\n",
    "\n",
    "# Display the figure\n",
    "plt.show()\n"
   ]
  },
  {
   "cell_type": "markdown",
   "metadata": {},
   "source": [
    "### Βαθυπερατά φίλτρα"
   ]
  },
  {
   "cell_type": "markdown",
   "metadata": {},
   "source": [
    "#### Η μέθοδος των παραθύρων\n",
    "...\n",
    "...\n"
   ]
  },
  {
   "cell_type": "code",
   "execution_count": null,
   "metadata": {
    "scrolled": true,
    "tags": [
     "hide-input",
     "thebe-init"
    ]
   },
   "outputs": [],
   "source": [
    "from scipy import signal\n",
    "import numpy as np\n",
    "import matplotlib.pyplot as plt\n",
    "\n",
    "# Assuming Fs is defined somewhere in your code\n",
    "H = np.hstack((np.ones(int(Fs/8)), np.zeros(int(Fs-Fs/4)), np.ones(int(Fs/8))))\n",
    "\n",
    "# Create the x values for the stem plot\n",
    "x_values = np.arange(len(H))\n",
    "\n",
    "# Create matplotlib figure and axis\n",
    "fig, ax = plt.subplots(figsize=(10, 6))\n",
    "\n",
    "# Create a stem plot\n",
    "markerline, stemlines, baseline = ax.stem(x_values, H, linefmt='b-', markerfmt='bo', basefmt=\"r-\")\n",
    "plt.setp(stemlines, 'color', '#1F77B4')  # setting the color of the stem lines\n",
    "plt.setp(markerline, 'color', '#1F77B4')  # setting the color of the markers\n",
    "\n",
    "# Update layout\n",
    "ax.set_title('Stem plot')\n",
    "ax.set_xlabel('Index')\n",
    "ax.set_ylabel('Amplitude')\n",
    "\n",
    "# Show figure\n",
    "plt.show()\n"
   ]
  },
  {
   "cell_type": "markdown",
   "metadata": {},
   "source": [
    "#### _Ορθογωνικό παράθυρο (απλή περικοπή της h)_"
   ]
  },
  {
   "cell_type": "code",
   "execution_count": null,
   "metadata": {
    "tags": [
     "hide-input",
     "thebe-init"
    ]
   },
   "outputs": [],
   "source": [
    "%matplotlib inline\n",
    "import ipywidgets as widgets\n",
    "from IPython.display import display, clear_output\n",
    "import matplotlib.pyplot as plt\n",
    "import numpy as np\n",
    "\n",
    "# Assuming H is defined and calculated as before\n",
    "h = np.real(np.fft.ifft(H))\n",
    "middle = int(len(h)/2)\n",
    "h = np.hstack((h[middle:], h[:middle]))\n",
    "h32 = h[middle-16:middle+16]\n",
    "h64 = h[middle-32:middle+32]\n",
    "h128 = h[middle-64:middle+64]\n",
    "h160 = h[middle-80:middle+80]\n",
    "h256 = h[middle-128:middle+128]\n",
    "\n",
    "h_variants = {\n",
    "    'h32': h[middle-16:middle+16],\n",
    "    'h64': h[middle-32:middle+32],\n",
    "    'h128': h[middle-64:middle+64],\n",
    "    'h160': h[middle-80:middle+80],\n",
    "    'h256': h[middle-128:middle+128],\n",
    "}\n",
    "\n",
    "output2 = widgets.Output()\n",
    "\n",
    "# Function to plot\n",
    "def plot_stem(h_key):\n",
    "    with output2:\n",
    "        clear_output(wait=True)  # Clear the previous plots\n",
    "        h_data = h_variants[h_key]\n",
    "        x_values = np.arange(len(h_data))\n",
    "        plt.close('all')  # Close all existing figures\n",
    "        fig, ax = plt.subplots()\n",
    "        markerline, stemlines, baseline = ax.stem(x_values, h_data, '-.')\n",
    "        plt.setp(baseline, 'color', 'k', 'linewidth', 2)\n",
    "        plt.title('Stem plot of selected filter')\n",
    "        plt.xlabel('Index')\n",
    "        plt.ylabel('Amplitude')\n",
    "        plt.show()\n",
    "\n",
    "# Setup the widgets\n",
    "dropdown = widgets.Dropdown(options=list(h_variants.keys()), value='h32', description='Filter:')\n",
    "\n",
    "# Function that updates the plot based on dropdown\n",
    "def update_plot(change):\n",
    "    plot_stem(change['new'])\n",
    "\n",
    "# Observe dropdown for changes\n",
    "dropdown.observe(update_plot, names='value')\n",
    "\n",
    "# Group the dropdown and output widget in a vertical box layout\n",
    "vbox = widgets.VBox([dropdown, output2])\n",
    "\n",
    "# Display the VBox\n",
    "display(vbox)\n",
    "\n",
    "# Initial call to display the plot\n",
    "plot_stem(dropdown.value)  # Use the dropdown's value\n"
   ]
  },
  {
   "cell_type": "code",
   "execution_count": null,
   "metadata": {
    "tags": [
     "hide-input",
     "thebe-init"
    ]
   },
   "outputs": [],
   "source": [
    "%matplotlib inline\n",
    "import numpy as np\n",
    "import matplotlib.pyplot as plt\n",
    "from scipy import signal\n",
    "import ipywidgets as widgets\n",
    "from IPython.display import display\n",
    "\n",
    "# Compute frequency responses\n",
    "freq32, resp32 = signal.freqz(h32)\n",
    "freq64, resp64 = signal.freqz(h64)\n",
    "freq128, resp128 = signal.freqz(h128)\n",
    "freq160, resp160 = signal.freqz(h160)\n",
    "freq256, resp256 = signal.freqz(h256)\n",
    "\n",
    "# Compute frequency responses\n",
    "freqs = {}\n",
    "resps = {}\n",
    "for filt in [32, 64, 128, 160, 256]:\n",
    "    freqs[f'h{filt}'], resps[f'h{filt}'] = signal.freqz(eval(f'h{filt}'))\n",
    "\n",
    "output3 = widgets.Output()\n",
    "\n",
    "# Function to plot the frequency response\n",
    "def update_plot():\n",
    "    with output3:\n",
    "        clear_output(wait=True)\n",
    "        plt.figure(figsize=(10, 5))\n",
    "        # For each filter, if the checkbox is checked, plot its frequency response\n",
    "        for filt, cb in checkboxes.items():\n",
    "            if cb.value:  # If the checkbox is checked\n",
    "                w, h = freqs[filt], resps[filt]\n",
    "                plt.plot(0.5 * Fs * w / np.pi, np.abs(h), label=filt)\n",
    "        plt.title('Frequency Response')\n",
    "        plt.xlabel('Frequency (Hz)')\n",
    "        plt.ylabel('Gain')\n",
    "        plt.xscale('linear')\n",
    "        plt.yscale('log')\n",
    "        plt.grid(True)\n",
    "        plt.legend()\n",
    "        plt.show()\n",
    "\n",
    "# Create checkboxes for each filter\n",
    "checkboxes = {}\n",
    "for filt in ['h32', 'h64', 'h128', 'h160', 'h256']:\n",
    "    checkboxes[filt] = widgets.Checkbox(value=False, description=filt)\n",
    "\n",
    "# A button to update the plot\n",
    "update_button = widgets.Button(description='Update Plot')\n",
    "\n",
    "# Event handler for the button click event\n",
    "def on_update_button_clicked(b):\n",
    "    update_plot()\n",
    "\n",
    "update_button.on_click(on_update_button_clicked)\n",
    "\n",
    "# VBox to hold the checkboxes and the button\n",
    "vbox_checkboxes = widgets.VBox(list(checkboxes.values()))\n",
    "vbox = widgets.VBox([vbox_checkboxes, update_button, output3])\n",
    "\n",
    "# Display the VBox\n",
    "display(vbox)"
   ]
  },
  {
   "cell_type": "markdown",
   "metadata": {},
   "source": [
    "#### _Παράθυρα Hamming και Kaiser_"
   ]
  },
  {
   "cell_type": "code",
   "execution_count": null,
   "metadata": {
    "tags": [
     "hide-input",
     "thebe-init"
    ]
   },
   "outputs": [],
   "source": [
    "%matplotlib inline\n",
    "import numpy as np\n",
    "import matplotlib.pyplot as plt\n",
    "from scipy import signal\n",
    "\n",
    "w_hamming=signal.hamming(len(h64))\n",
    "h64_hamming = np.multiply(h64,w_hamming)\n",
    "w_kaiser=signal.kaiser(len(h64),5)\n",
    "h64_kaiser = np.multiply(h64,w_kaiser)\n",
    "\n",
    "freq,resp64_hamming = signal.freqz(h64_hamming)\n",
    "freq,resp64_kaiser = signal.freqz(h64_kaiser)\n",
    "\n",
    "# Create the plot\n",
    "plt.figure(figsize=(12, 6))\n",
    "\n",
    "# Plot h64 (rectangular window)\n",
    "plt.semilogy(0.5 * Fs * freq / np.pi, np.abs(resp64), label='Rectangular', color='#1F77B4')\n",
    "\n",
    "# Plot h64 with Hamming window\n",
    "plt.semilogy(0.5 * Fs * freq / np.pi, np.abs(resp64_hamming), label='Hamming', color='green')\n",
    "\n",
    "# Plot h64 with Kaiser window\n",
    "plt.semilogy(0.5 * Fs * freq / np.pi, np.abs(resp64_kaiser), label='Kaiser', color='red')\n",
    "\n",
    "# Add title and labels\n",
    "plt.title('Frequency Response of Lowpass Filter\\nHamming (green) and Kaiser (red) windows\\n(Rectangular in blue)', fontsize=16)\n",
    "plt.xlabel('Frequency (Hz)', fontsize=14)\n",
    "plt.ylabel('Gain', fontsize=14)\n",
    "\n",
    "# Add grid, legend, and set axis limits\n",
    "plt.grid(True, which='both', axis='both', linestyle='--', linewidth=0.5)\n",
    "plt.legend()\n",
    "plt.xlim(0, 3000)\n",
    "\n",
    "# Display the plot\n",
    "plt.show()\n"
   ]
  },
  {
   "cell_type": "markdown",
   "metadata": {},
   "source": [
    "#### Φίλτρα ισοϋψών κυματώσεων"
   ]
  },
  {
   "cell_type": "code",
   "execution_count": null,
   "metadata": {
    "tags": [
     "hide-input",
     "thebe-init"
    ]
   },
   "outputs": [],
   "source": [
    "%matplotlib inline\n",
    "import numpy as np\n",
    "import matplotlib.pyplot as plt\n",
    "from scipy import signal\n",
    "import ipywidgets as widgets\n",
    "from IPython.display import display, clear_output\n",
    "\n",
    "# Define the filters using the Remez algorithm\n",
    "Fs = 8000  # Define the sampling frequency Fs here\n",
    "filters = {\n",
    "    'Equiripple Filter 32+1': signal.remez(33, [0, 1000, 1300, Fs/2], [1, 0], fs=Fs),\n",
    "    'Equiripple Filter 64+1': signal.remez(65, [0, 1000, 1300, Fs/2], [1, 0], fs=Fs),\n",
    "    'Equiripple Filter 128+1': signal.remez(129, [0, 1000, 1300, Fs/2], [1, 0], fs=Fs),\n",
    "    'Equiripple Filter 160+1': signal.remez(161, [0, 1000, 1300, Fs/2], [1, 0], fs=Fs),\n",
    "    'Equiripple Filter 256+1': signal.remez(257, [0, 1000, 1300, Fs/2], [1, 0], fs=Fs),\n",
    "}\n",
    "\n",
    "output_plot = widgets.Output()\n",
    "\n",
    "# Function to update the plot based on selected filters\n",
    "def update_plot(change):\n",
    "    selected_filters = [cb.description for cb in checkboxes if cb.value]\n",
    "    with output_plot:\n",
    "        clear_output(wait=True)\n",
    "        plt.figure(figsize=(10, 5))\n",
    "        for filter_name in selected_filters:\n",
    "            filter_coeffs = filters[filter_name]\n",
    "            w, h = signal.freqz(filter_coeffs, worN=8000)\n",
    "            plt.semilogy(w * Fs / (2 * np.pi), np.abs(h), label=filter_name)\n",
    "        plt.title('Frequency Response')\n",
    "        plt.xlabel('Frequency (Hz)')\n",
    "        plt.ylabel('Gain')\n",
    "        plt.legend()\n",
    "        plt.grid(True)\n",
    "        plt.show()\n",
    "\n",
    "# Create checkboxes for each filter\n",
    "checkboxes = [widgets.Checkbox(value=False, description=name) for name in filters.keys()]\n",
    "\n",
    "# Register the update function with each checkbox\n",
    "for cb in checkboxes:\n",
    "    cb.observe(update_plot, names='value')\n",
    "\n",
    "# VBox to hold the checkboxes and output\n",
    "vbox = widgets.VBox([widgets.Label('Select Equiripple Filter Length:')] + checkboxes + [output_plot])\n",
    "\n",
    "# Display the VBox\n",
    "display(vbox)\n"
   ]
  },
  {
   "cell_type": "markdown",
   "metadata": {},
   "source": [
    "#### Εφαρμογή του φίλτρου"
   ]
  },
  {
   "cell_type": "code",
   "execution_count": null,
   "metadata": {
    "tags": [
     "hide-input",
     "thebe-init"
    ]
   },
   "outputs": [],
   "source": [
    "%matplotlib inline\n",
    "import numpy as np\n",
    "import matplotlib.pyplot as plt\n",
    "from scipy import signal\n",
    "from scipy.io.wavfile import write\n",
    "from IPython.display import display, Audio, clear_output\n",
    "import ipywidgets as widgets\n",
    "import io\n",
    "\n",
    "# Design the filters\n",
    "lp_filters = {\n",
    "    'lpass32': signal.remez(33, [0, 1000, 1300, Fs/2], [1, 0], fs=Fs),\n",
    "    'lpass64': signal.remez(65, [0, 1000, 1300, Fs/2], [1, 0], fs=Fs),\n",
    "    'lpass128': signal.remez(129, [0, 1000, 1300, Fs/2], [1, 0], fs=Fs),\n",
    "    'lpass160': signal.remez(161, [0, 1000, 1300, Fs/2], [1, 0], fs=Fs),\n",
    "    'lpass256': signal.remez(257, [0, 1000, 1300, Fs/2], [1, 0], fs=Fs)\n",
    "}\n",
    "\n",
    "# Prepare audio data\n",
    "audio_data = {}\n",
    "\n",
    "for name, lp_filter_coeffs in lp_filters.items():\n",
    "    # Apply the filter to the signal\n",
    "    s_lp_filtered = signal.convolve(s, lp_filter_coeffs, mode='same') / np.sum(lp_filter_coeffs)\n",
    "    \n",
    "    # Normalize the filtered signal to prevent clipping\n",
    "    s_lp_filtered_normalized = np.int16((s_lp_filtered / np.max(np.abs(s_lp_filtered))) * 32767)\n",
    "    \n",
    "    # Write to an in-memory file\n",
    "    audio_buf = io.BytesIO()\n",
    "    write(audio_buf, Fs, s_lp_filtered_normalized)\n",
    "    audio_buf.seek(0)  # Go back to the beginning of the BytesIO object\n",
    "    \n",
    "    # Store the audio buffer\n",
    "    audio_data[name] = audio_buf\n",
    "\n",
    "# Function to display the frequency response of the filtered signal\n",
    "def plot_freq_response(filter_name):\n",
    "    with plot_output:\n",
    "        clear_output(wait=True)\n",
    "        # Apply the filter to the original signal\n",
    "        s_lp_filtered = signal.convolve(s, lp_filters[filter_name], mode='same') / np.sum(lp_filters[filter_name])\n",
    "        \n",
    "        # Calculate FFT\n",
    "        freqs = np.fft.rfftfreq(len(s_lp_filtered), 1/Fs)\n",
    "        fft_mag = np.abs(np.fft.rfft(s_lp_filtered))\n",
    "        \n",
    "        # Convert magnitude to dB\n",
    "        fft_mag_db = 20 * np.log10(fft_mag)\n",
    "        \n",
    "        plt.figure(figsize=(10, 5))\n",
    "        plt.plot(freqs, fft_mag_db)\n",
    "        plt.title(f'Frequency Response of Filtered Signal with {filter_name}')\n",
    "        plt.xlabel('Frequency (Hz)')\n",
    "        plt.ylabel('Magnitude (dB)')\n",
    "        plt.grid(True)\n",
    "        plt.xlim(0, Fs/2)\n",
    "        plt.show()\n",
    "\n",
    "# Audio playback function\n",
    "def show_audio_player(filter_name):\n",
    "    with audio_output:\n",
    "        clear_output(wait=True)\n",
    "        display(Audio(data=audio_data[filter_name].getvalue(), rate=Fs))\n",
    "\n",
    "# Widget setup\n",
    "filter_dropdown = widgets.Dropdown(\n",
    "    options=[(name, name) for name in lp_filters.keys()],\n",
    "    value='lpass32',\n",
    "    description='Filter:'\n",
    ")\n",
    "\n",
    "plot_output = widgets.Output()\n",
    "audio_output = widgets.Output()\n",
    "\n",
    "def on_filter_change(change):\n",
    "    filter_name = change['new']\n",
    "    plot_freq_response(filter_name)\n",
    "    show_audio_player(filter_name)\n",
    "\n",
    "filter_dropdown.observe(on_filter_change, names='value')\n",
    "\n",
    "# Display the UI\n",
    "vbox = widgets.VBox([filter_dropdown, plot_output, audio_output])\n",
    "display(vbox)\n",
    "\n",
    "# Initialize\n",
    "on_filter_change({'new': filter_dropdown.value})\n"
   ]
  },
  {
   "cell_type": "code",
   "execution_count": null,
   "metadata": {
    "tags": [
     "hide-input"
    ]
   },
   "outputs": [],
   "source": [
    "# Παράμετροι σήματος\n",
    "Fs = 8192  # Συχνότητα δειγματοληψίας\n",
    "t = np.arange(0, 1.0, 1/Fs)  # Διάρκεια σήματος 1 δευτερόλεπτο\n",
    "\n",
    "# Δημιουργία του σήματος\n",
    "s1 = np.sin(2*np.pi*700*t) + np.sin(2*np.pi*900*t) + np.sin(2*np.pi*1400*t) + np.sin(2*np.pi*2500*t)\n",
    "\n",
    "# Σχεδιασμός των φίλτρων Parks-McClellan\n",
    "lpass32 = signal.remez(32, [0, 1000, 1300, Fs/2], [1, 0], fs=Fs)\n",
    "lpass64 = signal.remez(64, [0, 1000, 1300, Fs/2], [1, 0], fs=Fs)\n",
    "lpass128 = signal.remez(128, [0, 1000, 1300, Fs/2], [1, 0], fs=Fs)\n",
    "lpass160 = signal.remez(160, [0, 1000, 1300, Fs/2], [1, 0], fs=Fs)\n",
    "lpass256 = signal.remez(256, [0, 1000, 1300, Fs/2], [1, 0], fs=Fs)\n",
    "\n",
    "# Φιλτράρισμα του σήματος\n",
    "s1_filtered32 = signal.lfilter(lpass32, 1.0, s1)\n",
    "s1_filtered64 = signal.lfilter(lpass64, 1.0, s1)\n",
    "s1_filtered128 = signal.lfilter(lpass128, 1.0, s1)\n",
    "s1_filtered160 = signal.lfilter(lpass160, 1.0, s1)\n",
    "s1_filtered256 = signal.lfilter(lpass256, 1.0, s1)\n",
    "\n",
    "# Φασματική πυκνότητα των φιλτραρισμένων σημάτων\n",
    "f, Pxx1_den = signal.welch(s1, Fs, nperseg=1024)\n",
    "f32, Pxx1_den32 = signal.welch(s1_filtered32, Fs, nperseg=1024)\n",
    "f64, Pxx1_den64 = signal.welch(s1_filtered64, Fs, nperseg=1024)\n",
    "f128, Pxx1_den128 = signal.welch(s1_filtered128, Fs, nperseg=1024)\n",
    "f160, Pxx1_den160 = signal.welch(s1_filtered160, Fs, nperseg=1024)\n",
    "f256, Pxx1_den256 = signal.welch(s1_filtered256, Fs, nperseg=1024)\n",
    "\n",
    "# Σχεδίαση των φασματικών πυκνοτήτων σε Plotly\n",
    "fig = go.Figure()\n",
    "\n",
    "\n",
    "# Αρχικό σήμα\n",
    "fig.add_trace(go.Scatter(x=f, y=10*np.log10(Pxx1_den), mode='lines', name='Original Signal'))\n",
    "\n",
    "# Φιλτραρισμένο σήμα 32\n",
    "fig.add_trace(go.Scatter(x=f32, y=10*np.log10(Pxx1_den32), mode='lines', name='Filtered Signal 32'))\n",
    "\n",
    "# Φιλτραρισμένο σήμα 64\n",
    "fig.add_trace(go.Scatter(x=f64, y=10*np.log10(Pxx1_den64), mode='lines', name='Filtered Signal 64'))\n",
    "\n",
    "# Φιλτραρισμένο σήμα 128\n",
    "fig.add_trace(go.Scatter(x=f128, y=10*np.log10(Pxx1_den128), mode='lines', name='Filtered Signal 128'))\n",
    "\n",
    "# Φιλτραρισμένο σήμα 160\n",
    "fig.add_trace(go.Scatter(x=f160, y=10*np.log10(Pxx1_den160), mode='lines', name='Filtered Signal 256'))\n",
    "\n",
    "# Ενημέρωση layout\n",
    "fig.update_layout(title='Φασματική Πυκνότητα Ισχύος',\n",
    "                  xaxis_title='Συχνότητα (Hz)',\n",
    "                  yaxis_title='Πυκνότητα Ισχύος (dB)',\n",
    "                  template='plotly_white')\n",
    "\n",
    "fig.show(renderer='notebook')\n",
    "# Convert figure to HTML\n",
    "fig_html = pio.to_html(fig, full_html=False, include_plotlyjs='cdn')\n",
    "display(HTML(fig_html))\n"
   ]
  },
  {
   "cell_type": "markdown",
   "metadata": {},
   "source": [
    "### Ζωνοπερατά φίλτρα"
   ]
  },
  {
   "cell_type": "markdown",
   "metadata": {},
   "source": [
    "#### _Με αναλυτικό υπολογισμό της κρουστικής απόκρισης και παράθυρο_ "
   ]
  },
  {
   "cell_type": "code",
   "execution_count": null,
   "metadata": {
    "tags": [
     "hide-input"
    ]
   },
   "outputs": [],
   "source": [
    "# Με αναλυτικό υπολογισμό της κρουστικής απόκρισης και παράθυρο kaiser\n",
    "f1=700; f2=1500;  \n",
    "Ts=1/Fs\n",
    "f2m1=(f2-f1); f2p1=(f2+f1)/2; N=256\n",
    "t=np.arange(-(N-1),N-1,2)*Ts/2\n",
    "hbp=2/Fs*np.divide(np.multiply(np.cos(2*np.pi*f2p1*t),np.sin(np.pi*f2m1*t))/np.pi,t)\n",
    "hbpw=np.multiply(hbp,signal.kaiser(len(hbp),5))\n",
    "\n",
    "s1_bp=signal.convolve(s1,hbp,'same')"
   ]
  },
  {
   "cell_type": "code",
   "execution_count": null,
   "metadata": {
    "scrolled": true,
    "tags": [
     "hide-input"
    ]
   },
   "outputs": [],
   "source": [
    "f0, Pxx1_den = signal.welch(s1_bp, Fs, noverlap=128, nperseg=256)\n",
    "\n",
    "# Create Plotly figure\n",
    "fig = go.Figure()\n",
    "\n",
    "# Add trace for the power spectral density\n",
    "fig.add_trace(go.Scatter(x=f0, y=Pxx1_den, mode='lines', line=dict(color='blue')))\n",
    "\n",
    "# Update layout for a semilog plot\n",
    "fig.update_layout(\n",
    "    title='Φάσμα ζωνοπερατού σήματος sonar',title_x=0.5,title_font=dict(size=20, color='black', family=\"Arial, sans-serif\"),\n",
    "    xaxis_title='Συχνότητα (Hz)',\n",
    "    yaxis_title='Πυκνότητα φάσματος ισχύος',\n",
    "    yaxis_type='log',  # Set y-axis to logarithmic scale\n",
    "    template='plotly_white',\n",
    "    xaxis=dict(showgrid=True),\n",
    "    yaxis=dict(showgrid=True, range=[np.log10(1e-15), np.log10(1e-7)])  # Adjust y-axis range\n",
    ")\n",
    "\n",
    "# Show figure\n",
    "fig.show(renderer='notebook')\n",
    "# Convert figure to HTML\n",
    "fig_html = pio.to_html(fig, full_html=False, include_plotlyjs='cdn')\n",
    "display(HTML(fig_html))\n",
    "\n",
    "def play_sound(b):\n",
    "    sd.play(20 * s1_bp, Fs)\n",
    "\n",
    "# Create a button widget\n",
    "play_button = widgets.Button(description=\"Play Sound\")\n",
    "\n",
    "# Link the button to the function that plays the sound\n",
    "play_button.on_click(play_sound)\n",
    "\n",
    "# Display the button\n",
    "display(play_button)"
   ]
  },
  {
   "cell_type": "markdown",
   "metadata": {},
   "source": [
    "#### _Ζωνοπερατό ισουψών κυματώσεων_ "
   ]
  },
  {
   "cell_type": "code",
   "execution_count": null,
   "metadata": {
    "tags": [
     "hide-input"
    ]
   },
   "outputs": [],
   "source": [
    "bpass = signal.remez(128, [0, f1*0.95, f1*1.1, f2*0.95, f2*1.05, Fs/2], [0, 1, 0], fs=Fs)\n",
    "freq,resp_pm = signal.freqz(bpass)\n",
    "\n",
    "# Compute frequency response for the equiripple bandpass filter\n",
    "freq, resp_pm = signal.freqz(bpass)\n",
    "\n",
    "# Create Plotly figure\n",
    "fig = go.Figure()\n",
    "\n",
    "# Add trace for equiripple bandpass filter response\n",
    "fig.add_trace(go.Scatter(x=0.5 * Fs * freq / np.pi, y=np.abs(resp_pm), mode='lines', name='Equiripple Bandpass', line=dict(color='green')))\n",
    "\n",
    "# Update layout for a semilog plot\n",
    "fig.update_layout(\n",
    "    title='Απόκριση συχνότητας ζωνοπερατού φίλτρου equirriple',title_x=0.5,title_font=dict(size=20, color='black', family=\"Arial, sans-serif\"),\n",
    "    xaxis_title='Συχνότητα (Hz)',\n",
    "    yaxis_title='Κέρδος',\n",
    "    yaxis_type='log',  # Set y-axis to logarithmic scale\n",
    "    template='plotly_white',\n",
    "    xaxis=dict(showgrid=True),\n",
    "    yaxis=dict(showgrid=True)\n",
    ")\n",
    "\n",
    "# Show figure\n",
    "fig.show(renderer='notebook')\n",
    "\n",
    "# Convert figure to HTML\n",
    "fig_html = pio.to_html(fig, full_html=False, include_plotlyjs='cdn')\n",
    "display(HTML(fig_html))"
   ]
  }
 ],
 "metadata": {
  "kernelspec": {
   "display_name": "Python 3",
   "language": "python",
   "name": "python3"
  },
  "language_info": {
   "codemirror_mode": {
    "name": "ipython",
    "version": 3
   },
   "file_extension": ".py",
   "mimetype": "text/x-python",
   "name": "python",
   "nbconvert_exporter": "python",
   "pygments_lexer": "ipython3",
   "version": "3.11.5"
  }
 },
 "nbformat": 4,
 "nbformat_minor": 2
}
