{
 "cells": [
  {
   "cell_type": "markdown",
   "metadata": {},
   "source": [
    "# Εργαστηριακή Άσκηση 3\n",
    "### Προσαρμοσμένα φίλτρα και L-ASK\n",
    "Αφού μελετήσετε το Κεφάλαιο 3 και, ειδικότερα, το Παράδειγμα 3.2 των\n",
    "σημειώσεων, να αντιγράψετε τον Κώδικα 3.3 αυτού του παραδείγματος σε αρχείο με\n",
    "το όνομα ask_errors.m (ο κώδικας επαναλαμβάνεται εδώ για διευκόλυνση). Να\n",
    "εκτελέσετε στη συνέχεια τα ακόλουθα:\n"
   ]
  },
  {
   "cell_type": "markdown",
   "metadata": {},
   "source": [
    "```{admonition} Live Code\n",
    "Press the following button to make python code interactive. It will connect you to a kernel once it says \"ready\" (might take a bit, especially the first time it runs).\n",
    "```\n",
    "\n",
    "<div style=\"text-align: center;\">\n",
    "  <button title=\"Launch thebe\" class=\"thebelab-button thebe-launch-button\" onclick=\"initThebe()\">Python Interactive Code</button>\n",
    "</div>\n"
   ]
  },
  {
   "cell_type": "markdown",
   "metadata": {},
   "source": [
    "#### Importing packages we will need later in Python"
   ]
  },
  {
   "cell_type": "code",
   "execution_count": 1,
   "metadata": {
    "tags": [
     "remove-output"
    ]
   },
   "outputs": [
    {
     "name": "stdout",
     "output_type": "stream",
     "text": [
      "Libraries added successfully!\n"
     ]
    }
   ],
   "source": [
    "from scipy import signal\n",
    "import numpy as np\n",
    "import matplotlib.pyplot as plt\n",
    "from scipy.special import erfc\n",
    "import ipywidgets as widgets\n",
    "from IPython.display import display, clear_output\n",
    "from scipy.signal import convolve\n",
    "from ipywidgets import Checkbox, VBox, Button, Output\n",
    "print(\"Libraries added successfully!\")"
   ]
  },
  {
   "cell_type": "markdown",
   "metadata": {},
   "source": [
    "## Μέρος 1: Διερεύνηση του κώδικα εξομοίωσης\n",
    "\n",
    "(α) Να τροποποιηθεί ο κώδικας, ώστε τα L στοιχεία του διανύσματος x στην εντολή\n",
    "14 να λαμβάνουν τιμές από το σύνολο {±d/2, ±3d/2, ±5d/2... }, όπου η απόσταση\n",
    "d των σημείων θα δίνεται ως παράμετρος. Χρησιμοποιώντας για τη συνέχεια την\n",
    "τιμή d=5, να επαληθεύσετε, με υπολογισμό και προβολή σχετικού ιστογράμματος,\n",
    "ότι τα στοιχεία του διανύσματος x ακολουθούν πράγματι την ομοιόμορφη\n",
    "κατανομή. Χρησιμοποιήστε k=mod(nnnnn,2)+3, όπου nnnnn το τελευταίο 5-\n",
    "ψήφιο τμήμα του αριθμού μητρώου σας."
   ]
  },
  {
   "cell_type": "markdown",
   "metadata": {},
   "source": [
    "Κώδικας 3.3: Υπολογισμός πιθανότητας εσφαλμένου συμβόλου σύμφωνης ASK με ορθογωνικούς "
   ]
  },
  {
   "cell_type": "markdown",
   "metadata": {
    "vscode": {
     "languageId": "matlab"
    }
   },
   "source": [
    "`````{tab} Python\n",
    "````python\n",
    "\n",
    "def ask_errors(k,M,nsamp,EbN0_db):\n",
    "    \n",
    "    L = 2**k\n",
    "    SNR_db = EbN0_db - 10*np.log10(nsamp/2/k)\n",
    "    SNR = 10 ** (SNR_db * 0.1)\n",
    "    x = 2*np.floor(L*np.random.rand(M)) - L + 1\n",
    "    P_x = (L*L-1) / 3\n",
    "    Measured_x = np.sum(x*x)/len(x)\n",
    "\n",
    "    y = []\n",
    "    for i in range(len(x)):\n",
    "        for j in range(nsamp):\n",
    "            y.append(x[i])\n",
    "    y = np.array(y)\n",
    "\n",
    "    noise = np.random.normal(0, np.sqrt(Measured_x/SNR),len(y))\n",
    "    y_noisy = y + noise\n",
    "\n",
    "    y = np.reshape(y_noisy, (M, nsamp))\n",
    "    matched = np.ones((nsamp,1))\n",
    "    z = np.matmul(y, matched)\n",
    "    z = z / nsamp\n",
    "    l = np.arange(-L+1,L,2)\n",
    "\n",
    "    z = z[:,0]\n",
    "    for i in range(len(z)):\n",
    "        differences = np.abs(l-z[i]) # Πίνακας με τις διαφορές του σήματος από τα επίπεδα\n",
    "        m = min(differences)\n",
    "        [index], = np.where(differences == m)\n",
    "        z[i] = l[index]\n",
    "    \n",
    "    errors = 0\n",
    "    for i in range(len(z)):\n",
    "        if x[i] != z[i]:\n",
    "            errors += 1\n",
    "    \n",
    "    return errors\n",
    "\n",
    "````\n",
    "`````\n",
    "`````{tab} Matlab\n",
    "````matlab\n",
    "function errors=ask_errors(k,Nsymb,nsamp,EbNo)\n",
    "% Η συνάρτηση αυτή εξομοιώνει την παραγωγή και αποκωδικοποίηση\n",
    "% θορυβώδους σήματος L-ASK και μετρά τον αριθμό των εσφαλμένων συμβόλων.\n",
    "% Επιστρέφει τον αριθμό των εσφαλμένων συμβόλων (στη μεταβλητή errors).\n",
    "% k είναι ο αριθμός των bits/σύμβολο, επομένως L=2^k -- ο αριθμός των\n",
    "% διαφορετικών πλατών\n",
    "% Nsymb είναι ο αριθμός των παραγόμενων συμβόλων (μήκος ακολουθίας LASK)\n",
    "% nsamp ο αριθμός των δειγμάτων ανά σύμβολο (oversampling ratio)\n",
    "% EbNo είναι ο ανηγμένος σηματοθορυβικός λόγος Eb/No, σε db\n",
    "%\n",
    "L=2^k;\n",
    "SNR=EbNo-10*log10(nsamp/2/k); % SNR ανά δείγμα σήματος\n",
    "% Διάνυσμα τυχαίων ακεραίων {±1, ±3, ... ±(L-1)}. Να επαληθευθεί\n",
    "x=2*floor(L*rand(1,Nsymb))-L+1;\n",
    "Px=(L^2-1)/3; % θεωρητική ισχύς σήματος\n",
    "sum(x.^2)/length(x); % μετρούμενη ισχύς σήματος (για επαλήθευση)\n",
    "y=rectpulse(x,nsamp);\n",
    "n=wgn(1,length(y),10*log10(Px)-SNR);\n",
    "ynoisy=y+n; % θορυβώδες σήμα\n",
    "y=reshape(ynoisy,nsamp,length(ynoisy)/nsamp);\n",
    "matched=ones(1,nsamp);\n",
    "z=matched*y/nsamp;\n",
    "A=[-L+1:2:L-1];\n",
    "for i=1:length(z)\n",
    "[m,j]=min(abs(A-z(i)));\n",
    "z(i)=A(j);\n",
    "end\n",
    "err=not(x==z);\n",
    "errors=sum(err);\n",
    "end\n",
    "````\n",
    "`````\n",
    "\n"
   ]
  },
  {
   "cell_type": "markdown",
   "metadata": {},
   "source": [
    "Υπόδειξη: Να παραχθούν (με την εντολή 14) τουλάχιστον 40.000 τυχαίοι ακέραιοι, και να\n",
    "χρησιμοποιηθεί η εντολή hist(x,A) για τον υπολογισμό και την προβολή του ιστογράμματος,όπου Α το διάνυσμα των L διαφορετικών τιμών αυτών των ακεραίων. Να τροποποιηθεί\n",
    "κατάλληλα η εντολή 15 για τον θεωρητικό υπολογισμό της ισχύος και να γίνει\n",
    "επαλήθευση με την εντολή 16. Ομοίως, να τροποποιηθεί κατάλληλα και η εντολή 23.\n"
   ]
  },
  {
   "cell_type": "code",
   "execution_count": 2,
   "metadata": {
    "tags": [
     "remove-input",
     "remove-output",
     "thenbe-init"
    ]
   },
   "outputs": [],
   "source": [
    "def ask_errors(k,M,nsamp,EbN0_db):\n",
    "    \n",
    "    L = 2**k\n",
    "    SNR_db = EbN0_db - 10*np.log10(nsamp/2/k)\n",
    "    SNR = 10 ** (SNR_db * 0.1)\n",
    "    x = 2*np.floor(L*np.random.rand(M)) - L + 1\n",
    "    P_x = (L*L-1) / 3\n",
    "    Measured_x = np.sum(x*x)/len(x)\n",
    "\n",
    "    y = []\n",
    "    for i in range(len(x)):\n",
    "        for j in range(nsamp):\n",
    "            y.append(x[i])\n",
    "    y = np.array(y)\n",
    "\n",
    "    noise = np.random.normal(0, np.sqrt(Measured_x/SNR),len(y))\n",
    "    y_noisy = y + noise\n",
    "\n",
    "    y = np.reshape(y_noisy, (M, nsamp))\n",
    "    matched = np.ones((nsamp,1))\n",
    "    z = np.matmul(y, matched)\n",
    "    z = z / nsamp\n",
    "    l = np.arange(-L+1,L,2)\n",
    "\n",
    "    z = z[:,0]\n",
    "    for i in range(len(z)):\n",
    "        differences = np.abs(l-z[i]) # Πίνακας με τις διαφορές του σήματος από τα επίπεδα\n",
    "        m = min(differences)\n",
    "        [index], = np.where(differences == m)\n",
    "        z[i] = l[index]\n",
    "    \n",
    "    errors = 0\n",
    "    for i in range(len(z)):\n",
    "        if x[i] != z[i]:\n",
    "            errors += 1\n",
    "    \n",
    "    return errors\n"
   ]
  },
  {
   "cell_type": "code",
   "execution_count": 3,
   "metadata": {
    "tags": [
     "hide-code-cell",
     "thebe-init"
    ]
   },
   "outputs": [
    {
     "data": {
      "application/vnd.jupyter.widget-view+json": {
       "model_id": "b4990aa8589d4bbd8b0469c87aef2d8a",
       "version_major": 2,
       "version_minor": 0
      },
      "text/plain": [
       "VBox(children=(IntText(value=3, description='k:'),))"
      ]
     },
     "metadata": {},
     "output_type": "display_data"
    },
    {
     "data": {
      "application/vnd.jupyter.widget-view+json": {
       "model_id": "abd28b8fc23a4c218d3d5541b86fda08",
       "version_major": 2,
       "version_minor": 0
      },
      "text/plain": [
       "Output()"
      ]
     },
     "metadata": {},
     "output_type": "display_data"
    }
   ],
   "source": [
    "def generate_histogram(k):\n",
    "    M = 40000\n",
    "    L = 2 ** k\n",
    "\n",
    "    x = 2 * np.floor(L * np.random.rand(M)) - L + 1\n",
    "    bins = np.arange(-L, L + 2, 2)\n",
    "    A = np.arange(-(L - 1), L, 2)\n",
    "    \n",
    "    fig, ax = plt.subplots(1, 1, figsize=(14, 4))\n",
    "    ax.hist(x, bins=bins, edgecolor='white', color='#1F77B4')  # Use ax.hist for compatibility with widgets\n",
    "    ax.set_xticks(A)\n",
    "    ax.set_xlabel(\"Integers\")\n",
    "    ax.set_ylabel(\"Frequency\")\n",
    "    ax.set_title(\"Histogram of array x elements\")\n",
    "    plt.show()\n",
    "\n",
    "k_input = widgets.IntText(\n",
    "    value=3,  # default value\n",
    "    description='k:',\n",
    "    continuous_update=False\n",
    ")\n",
    "\n",
    "ui = widgets.VBox([k_input])\n",
    "out = widgets.interactive_output(generate_histogram, {'k': k_input})\n",
    "\n",
    "# Display the UI components\n",
    "display(ui, out)"
   ]
  },
  {
   "cell_type": "markdown",
   "metadata": {},
   "source": [
    "(β) Με τιμές των παραμέτρων της συνάρτησης k=4, M=60000, nsamp=20 και\n",
    "EbNo=12 να εκτελέσετε τις εντολές 11 έως 22 και, στη συνέχεια, να σχεδιάσετε το\n",
    "ιστόγραμμα του z με την εντολή hist(z,200). Να επαναλάβετε το παραπάνω για\n",
    "EbNo=16 και EbNo=20. Τι παρατηρείτε; Να εξηγήσετε τις διαφορές στα τρία\n",
    "διαγράμματα."
   ]
  },
  {
   "cell_type": "code",
   "execution_count": 4,
   "metadata": {
    "tags": [
     "thebe-init",
     "hide-code-cell"
    ]
   },
   "outputs": [
    {
     "data": {
      "application/vnd.jupyter.widget-view+json": {
       "model_id": "278ef2636c5b4362818bcdb2c2857db7",
       "version_major": 2,
       "version_minor": 0
      },
      "text/plain": [
       "VBox(children=(IntText(value=4, description='k:'), FloatSlider(value=10.0, continuous_update=False, descriptio…"
      ]
     },
     "metadata": {},
     "output_type": "display_data"
    },
    {
     "data": {
      "application/vnd.jupyter.widget-view+json": {
       "model_id": "9f1a732618c84d66a51ffa69a75969a0",
       "version_major": 2,
       "version_minor": 0
      },
      "text/plain": [
       "Output()"
      ]
     },
     "metadata": {},
     "output_type": "display_data"
    }
   ],
   "source": [
    "def generate_histogram(k, EbN0_db):\n",
    "    M = 60000\n",
    "    nsamp = 16\n",
    "\n",
    "    L = 2**k\n",
    "    SNR_db = EbN0_db - 10*np.log10(nsamp/2/k)\n",
    "    SNR = 10 ** (SNR_db * 0.1)\n",
    "    x = 2*np.floor(L*np.random.rand(M)) - L + 1\n",
    "    P_x = (L**2 - 1) / 3\n",
    "    Measured_x = np.sum(x**2)/len(x)\n",
    "\n",
    "    y = np.repeat(x, nsamp)\n",
    "\n",
    "    noise = np.random.normal(0, np.sqrt(Measured_x/SNR), len(y))\n",
    "    y_noisy = y + noise\n",
    "\n",
    "    y_reshaped = np.reshape(y_noisy, (M, nsamp))\n",
    "    matched = np.ones((nsamp, 1))\n",
    "    z = np.matmul(y_reshaped, matched) / nsamp\n",
    "\n",
    "    A = np.arange(-(L-1), L, 2)  # Adjusted to use inside plotting\n",
    "    \n",
    "    fig, ax = plt.subplots(1, 1, figsize=(14, 4))\n",
    "    ax.hist(z, bins=200,  edgecolor='white', color='#1F77B4')\n",
    "    ax.set_xticks(A)\n",
    "    ax.set_xlabel(\"Integers\")\n",
    "    ax.set_ylabel(\"Frequency\")\n",
    "    ax.legend([\"Eb/N0 = \" + str(EbN0_db)])\n",
    "    ax.set_title('Histogram of the Noisy Signal')\n",
    "    plt.show()\n",
    "\n",
    "k_input = widgets.IntText(\n",
    "    value=4,  # default value\n",
    "    description='k:',\n",
    "    continuous_update=False\n",
    ")\n",
    "\n",
    "EbN0_db_slider = widgets.FloatSlider(\n",
    "    value=10,  # default value\n",
    "    min=0,    # minimum value\n",
    "    max=20,   # maximum value\n",
    "    step=0.1,   # step size\n",
    "    description='Eb/N0 (dB):',\n",
    "    continuous_update=False\n",
    ")\n",
    "\n",
    "ui = widgets.VBox([k_input, EbN0_db_slider])\n",
    "\n",
    "out = widgets.interactive_output(generate_histogram, {'k': k_input, 'EbN0_db': EbN0_db_slider})\n",
    "\n",
    "# Display the UI components\n",
    "display(ui, out)"
   ]
  },
  {
   "cell_type": "markdown",
   "metadata": {},
   "source": [
    "(γ) Τι κάνει η εντολή 20 και τι κάνει η εντολή 22; Τι τύπου και τι διάστασης είναι οι\n",
    "μεταβλητές: x στην εντολή 14, y στην εντολή 17, y στην εντολή 20, matched, z, err\n",
    "και errors; "
   ]
  },
  {
   "cell_type": "markdown",
   "metadata": {},
   "source": [
    "(δ) Να εξηγηθεί η λειτουργία του βρόχου 24-27 του Κώδικα 3.3 ως ανιχνευτή\n",
    "ελάχιστης απόστασης για την L-ASK."
   ]
  },
  {
   "cell_type": "markdown",
   "metadata": {},
   "source": [
    "## Μέρος 2ο: Καμπύλες επίδοσης (BER συναρτήσει του σηματοθορυβικού λόγου)\n",
    "\n",
    "Να επαληθεύσετε την καμπύλη του σχήματος 3.10 των σημειώσεων (για ευκολία\n",
    "επαναλαμβάνεται πιο κάτω) για την L-ASK, με L=2k, k=mod(nnnnn, 2)+3, όπου nnnnn\n",
    "το τελευταίο 5-ψήφιο τμήμα του αριθμού μητρώου σας. Να σχεδιάσετε τη θεωρητική\n",
    "καμπύλη και να υπερθέσετε τα αποτελέσματα της εξομοίωσης (διακριτά σημεία),\n",
    "όπως στο σχήμα. Να ‘διαβάσετε’ από την καμπύλη 8-ASK και να γράψετε στο αρχείο\n",
    "υποβολής τις τιμές BER για Eb/No={8,14,18}db. Αντίστροφα, βρείτε την κατάλληλη\n",
    "τιμή Eb/No για σύστημα 8-ASK με ρυθμό μετάδοσης R=1Mbps, έτσι ώστε ο ρυθμός\n",
    "λαθών να μην υπερβαίνει την τιμή {10, 100, 1000} bps."
   ]
  },
  {
   "cell_type": "markdown",
   "metadata": {},
   "source": [
    "![lab3_1.png](../content/images/lab3_1.png)"
   ]
  },
  {
   "cell_type": "markdown",
   "metadata": {},
   "source": [
    "Το παραπάνω να γίνει με δύο τρόπους:\n",
    "\n",
    "(α) Με δικό σας κύριο πρόγραμμα,το οποίο (i) θα σχεδιάζει την καμπύλη με χρήση\n",
    "της σχέσης (3.33) των σημειώσεων και την προσέγγιση BER≈Pe /log2L, και (ii) θα\n",
    "καλεί κατάλληλα τη συνάρτηση ask_errors()για τον υπολογισμό των\n",
    "διακριτών σημείων.\n",
    "\n",
    "Υπόδειξη: (α) Καλέστε την ask_errors(), μία φορά για κάθε διαφορετική τιμή του\n",
    "EbNo, με επαρκώς υψηλή τιμή του Μ (π.χ. 20000) και υπολογίστε τη συχνότητα\n",
    "λαθών.\n",
    "\n",
    "(β) Με τη χρήση του εργαλείου BERTOOL του MATLAB. Το εργαλείο καλείται με\n",
    "πληκτρολόγηση της εντολής bertool στο παράθυρο εντολών του MATLAB. Στο\n",
    "παράθυρο που θα εμφανισθεί θα πρέπει να κάνετε τις κατάλληλες, για κάθε\n",
    "περίπτωση, ρυθμίσεις, όπως υποδεικνύεται στα παρακάτω πλαίσια. Όπως\n",
    "εξηγείται και στο Παράδειγμα 3.2 των σημειώσεων, το bertool καλεί τη\n",
    "συνάρτησή μας, ask_errors(), μέσω της συνάρτησης ask_ber_func.m\n",
    "του κώδικα 3.4, στην οποία και πρέπει να τεθούν κατάλληλες τιμές για τις\n",
    "παραμέτρους k, Nsymb, και nsamp. Τα αρχεία και των δύο συναρτήσεων θα\n",
    "πρέπει να βρίσκονται στο current folder (ή σε folder το οποίο βρίσκεται στο\n",
    "path) του MATLAB. "
   ]
  },
  {
   "cell_type": "markdown",
   "metadata": {},
   "source": [
    "![lab3_2.png](../content/images/lab3_2.png)"
   ]
  },
  {
   "cell_type": "markdown",
   "metadata": {},
   "source": [
    "![lab3_3.png](../content/images/lab3_3.png)"
   ]
  },
  {
   "cell_type": "code",
   "execution_count": 5,
   "metadata": {
    "tags": [
     "hide-code-cell",
     "thebe-init"
    ]
   },
   "outputs": [
    {
     "data": {
      "application/vnd.jupyter.widget-view+json": {
       "model_id": "4caa3a51e1794af693fa91807fd589ec",
       "version_major": 2,
       "version_minor": 0
      },
      "text/plain": [
       "VBox(children=(Checkbox(value=True, description='4-QAM'), Checkbox(value=False, description='8-QAM'), Checkbox…"
      ]
     },
     "metadata": {},
     "output_type": "display_data"
    },
    {
     "data": {
      "application/vnd.jupyter.widget-view+json": {
       "model_id": "0df99a1f8b04429e8d6781fbcf4265c0",
       "version_major": 2,
       "version_minor": 0
      },
      "text/plain": [
       "Output()"
      ]
     },
     "metadata": {},
     "output_type": "display_data"
    }
   ],
   "source": [
    "M = 20000\n",
    "nsamp = 16\n",
    "EbN0_db = np.arange(0, 18, 1)\n",
    "EbN0 = 10**(EbN0_db / 10)\n",
    "\n",
    "# Create checkboxes for each modulation level\n",
    "checkbox_4qam = Checkbox(value=True, description='4-QAM')\n",
    "checkbox_8qam = Checkbox(value=False, description='8-QAM')\n",
    "checkbox_16qam = Checkbox(value=False, description='16-QAM')\n",
    "\n",
    "plot_output = Output()\n",
    "\n",
    "def plot_selected_modulations(btn=None):\n",
    "    with plot_output:\n",
    "        clear_output(wait=True)\n",
    "        plt.figure(figsize=(10, 7))\n",
    "        \n",
    "        # Define colors for each modulation level\n",
    "        colors = {\n",
    "            '4-QAM': ('red', 'tomato'),\n",
    "            '8-QAM': ('green', 'limegreen'),\n",
    "            '16-QAM': ('blue', 'dodgerblue')\n",
    "        }\n",
    "        \n",
    "        for i, (k, checkbox) in enumerate(zip([2, 3, 4], [checkbox_4qam, checkbox_8qam, checkbox_16qam])):\n",
    "            if checkbox.value:\n",
    "                L = 2**k\n",
    "                modulation_name = f'{L}-QAM'\n",
    "                ber = np.zeros(len(EbN0_db))\n",
    "                for index, eb_n0 in enumerate(EbN0_db):\n",
    "                    # Simulate experimental BER using a placeholder function\n",
    "                    ber[index] = ask_errors(k, M, nsamp, index) / M / np.log2(L)\n",
    "                \n",
    "                # Plot experimental BER as points without connecting lines, using specific colors\n",
    "                plt.semilogy(EbN0_db, ber, 'o', label=f'Experimental {modulation_name}', color=colors[modulation_name][0])\n",
    "                \n",
    "                # Theoretical BER for comparison, with distinct line color\n",
    "                ber_theoretical = (((L-1)/L) * erfc(np.sqrt(EbN0 * (3 * np.log2(L)) / (L**2 - 1)))) / k\n",
    "                plt.semilogy(EbN0_db, ber_theoretical, linestyle='-', label=f'Theoretical {modulation_name}', color=colors[modulation_name][1])\n",
    "\n",
    "        plt.grid(True, which='both')\n",
    "        plt.xlabel(\"Eb/N0 (dB)\")\n",
    "        plt.ylabel(\"BER\")\n",
    "        plt.legend()\n",
    "        plt.show()\n",
    "\n",
    "# Button to update the plot\n",
    "plot_button = Button(description=\"Plot\")\n",
    "plot_button.on_click(plot_selected_modulations)\n",
    "\n",
    "# Initially plot with default settings\n",
    "plot_selected_modulations()\n",
    "\n",
    "# Displaying the widgets and the output container\n",
    "display(VBox([checkbox_4qam, checkbox_8qam, checkbox_16qam, plot_button]), plot_output)"
   ]
  },
  {
   "cell_type": "markdown",
   "metadata": {},
   "source": [
    "## Μέρος 3ο: Υλοποίηση με συνέλιξη - Χρήση άλλων παλμών\n",
    "\n",
    "Να αντικατασταθεί η εντολή 17 του Κώδικα 3.3 με τις εξής εντολές"
   ]
  },
  {
   "cell_type": "markdown",
   "metadata": {},
   "source": [
    "`````{tab} Python\n",
    "````python\n",
    "# Create a rectangular pulse (orthogonal pulse) of unit energy\n",
    "h = np.ones(nsamp) / np.sqrt(np.sum(np.ones(nsamp)**2))\n",
    "\n",
    "# Upsample x to the dense grid\n",
    "y = np.zeros(len(x) * nsamp)\n",
    "y[::nsamp] = x  # Place the original signal values at the start of each upsampling period\n",
    "\n",
    "# Convolve the upsampled signal with the filter's impulse response\n",
    "y = convolve(y, h, mode='full')\n",
    "\n",
    "# Truncate the tail left by the convolution to maintain the original signal length after upsampling\n",
    "y = y[:M*nsamp]\n",
    "\n",
    "````\n",
    "`````\n",
    "`````{tab} Matlab\n",
    "````matlab\n",
    "\n",
    "h=ones(1,nsamp); h=h/sqrt(h*h'); % κρουστική απόκριση φίλτρου\n",
    " % πομπού (ορθογωνικός παλμός μοναδιαίας ενέργειας)\n",
    "y=upsample(x,nsamp); % μετατροπή στο πυκνό πλέγμα\n",
    "y=conv(y,h); % το προς εκπομπή σήμα\n",
    "y=y(1:M*nsamp); % περικόπτεται η ουρά που αφήνει η συνέλιξη\n",
    "\n",
    "````\n",
    "`````"
   ]
  },
  {
   "cell_type": "markdown",
   "metadata": {},
   "source": [
    "Επίσης, το θορυβώδες σήμα, ynoisy, να παραχθεί με την εντολή"
   ]
  },
  {
   "cell_type": "markdown",
   "metadata": {},
   "source": [
    "`````{tab} Python\n",
    "````python\n",
    "def add_awgn_noise(signal, SNR_dB):\n",
    "    \"\"\"\n",
    "    Add White Gaussian Noise (AWGN) to the signal.\n",
    "    \n",
    "    Parameters:\n",
    "    signal (numpy.ndarray): Input signal to which noise will be added.\n",
    "    SNR_dB (float): Desired signal to noise ratio in dB.\n",
    "    \n",
    "    Returns:\n",
    "    numpy.ndarray: Signal with added AWGN noise.\n",
    "    \"\"\"\n",
    "    # Calculate signal power and convert from dB to linear scale\n",
    "    sig_avg_watts = np.mean(signal ** 2)\n",
    "    sig_avg_db = 10 * np.log10(sig_avg_watts)\n",
    "    noise_avg_db = sig_avg_db - SNR_dB\n",
    "    noise_avg_watts = 10 ** (noise_avg_db / 10)\n",
    "    \n",
    "    # Generate an sample of white noise\n",
    "    mean_noise = 0\n",
    "    noise_volts = np.random.normal(mean_noise, np.sqrt(noise_avg_watts), len(signal))\n",
    "    \n",
    "    # Noise up the original signal\n",
    "    y_noisy = signal + noise_volts\n",
    "    return y_noisy\n",
    "\n",
    "# Assuming y (signal) and SNR (signal-to-noise ratio in dB) are defined\n",
    "# Example: SNR = 10\n",
    "y_noisy = add_awgn_noise(y, SNR)\n",
    "\n",
    "````\n",
    "`````\n",
    "`````{tab} Matlab\n",
    "````matlab\n",
    "ynoisy=awgn(y,SNR,'measured'); % θορυβώδες σήμα\n",
    "````\n",
    "`````"
   ]
  },
  {
   "cell_type": "markdown",
   "metadata": {},
   "source": [
    "και το προσαρμοσμένο φίλτρο (εντολές 21,22) να υλοποιηθεί με συνέλιξη ως:"
   ]
  },
  {
   "cell_type": "markdown",
   "metadata": {},
   "source": [
    "`````{tab} Python\n",
    "````python\n",
    "\n",
    "# Create the matched filter by reversing h\n",
    "matched = h[::-1]\n",
    "\n",
    "# Convolve the noisy signal with the matched filter\n",
    "yrx = convolve(ynoisy, matched, mode='full')\n",
    "\n",
    "# Downsample the result to simulate sampling at the end of each symbol period\n",
    "# Note: In Python indexing starts from 0, so we adjust the starting index accordingly\n",
    "z = yrx[nsamp-1::nsamp]\n",
    "\n",
    "````\n",
    "`````\n",
    "`````{tab} Matlab\n",
    "````matlab\n",
    "for i=1:nsamp matched(i)=h(end-i+1); end\n",
    "yrx=conv(ynoisy,matched);\n",
    "z = yrx(nsamp:nsamp:M*nsamp); % Yποδειγμάτιση -- στο τέλος\n",
    "% κάθε περιόδου Τ\n",
    "\n",
    "````\n",
    "`````"
   ]
  },
  {
   "cell_type": "markdown",
   "metadata": {},
   "source": [
    "(η εντολή που κάνει reshape το σήμα ynoisy πρέπει, φυσικά, εδώ να καταργηθεί).\n",
    "\n",
    "(α) Να επιβεβαιωθεί ότι ο τροποποιημένος κώδικας παράγει τα ίδια αποτελέσματα,\n",
    "όπως ο Κώδικας 3.3."
   ]
  },
  {
   "cell_type": "markdown",
   "metadata": {},
   "source": [
    "(β) Αφού εκτελέσετε το σώμα της τροποποιημένης συνάρτησης ask_errors()\n",
    "χωρίς την προσθήκη θορύβου (δηλ. με ynoisy=y), σχεδιάστε τμήμα των σημάτων\n",
    "x, y και yrx."
   ]
  },
  {
   "cell_type": "markdown",
   "metadata": {},
   "source": [
    "Γράψτε μια σύντομη εξήγηση του δεύτερου και τρίτου σχήματος.\n",
    "\n",
    "(γ) Αντικαταστήστε τον ορθογωνικό παλμό h με άλλον, π.χ. συνημιτονικό μιας\n",
    "περιόδου: h=cos(2*pi*(1:nsamp)/nsamp); h=h/sqrt(h*h’);"
   ]
  },
  {
   "cell_type": "markdown",
   "metadata": {},
   "source": [
    "Εκτελέστε και πάλι την εξομοίωση με το bertool. Ποιο είναι το συμπέρασμα για την\n",
    "επίδοση του νέου συστήματος L-ASK; Αν επαναφέρουμε την εντολή matched=h για\n",
    "το προσαρμοσμένο φίλτρο, θα παρατηρήσουμε ότι δεν παίρνουμε σωστά\n",
    "αποτελέσματα, ειδικότερα για μικρές τιμές του nsamp (π.χ. nsamp=8). Εξηγήστε το,\n",
    "αφού παρατηρήσετε τη μορφή του παλμού h στις δύο περιπτώσεις (ορθογωνικό\n",
    "παλμό και ημιτονικό παλμό), σχεδιάζοντάς τον με μίσχους (stem(h)). Να\n",
    "επαναλάβετε το πείραμα για nsamp=32 και 64."
   ]
  }
 ],
 "metadata": {
  "kernelspec": {
   "display_name": "Python 3",
   "language": "python",
   "name": "python3"
  },
  "language_info": {
   "codemirror_mode": {
    "name": "ipython",
    "version": 3
   },
   "file_extension": ".py",
   "mimetype": "text/x-python",
   "name": "python",
   "nbconvert_exporter": "python",
   "pygments_lexer": "ipython3",
   "version": "3.11.0"
  }
 },
 "nbformat": 4,
 "nbformat_minor": 2
}
