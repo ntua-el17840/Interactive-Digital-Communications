{
 "cells": [
  {
   "cell_type": "markdown",
   "metadata": {},
   "source": [
    "# Εργαστηριακή Άσκηση 3\n",
    "### Προσαρμοσμένα φίλτρα και L-ASK\n",
    "Αφού μελετήσετε το Κεφάλαιο 3 και, ειδικότερα, το Παράδειγμα 3.2 των\n",
    "σημειώσεων, να αντιγράψετε τον Κώδικα 3.3 αυτού του παραδείγματος σε αρχείο με\n",
    "το όνομα ask_errors.m (ο κώδικας επαναλαμβάνεται εδώ για διευκόλυνση). Να\n",
    "εκτελέσετε στη συνέχεια τα ακόλουθα:\n"
   ]
  },
  {
   "cell_type": "markdown",
   "metadata": {},
   "source": [
    "```{admonition} Live Code\n",
    "Press the following button to make python code interactive. It will connect you to a kernel once it says \"ready\" (might take a bit, especially the first time it runs).\n",
    "```\n",
    "\n",
    "<div style=\"text-align: center;\">\n",
    "  <button title=\"Launch thebe\" class=\"thebelab-button thebe-launch-button\" onclick=\"initThebe()\">Python Interactive Code</button>\n",
    "</div>\n"
   ]
  },
  {
   "cell_type": "markdown",
   "metadata": {},
   "source": [
    "#### Importing packages we will need later in Python"
   ]
  },
  {
   "cell_type": "code",
   "execution_count": 17,
   "metadata": {
    "tags": [
     "remove-input"
    ]
   },
   "outputs": [
    {
     "name": "stdout",
     "output_type": "stream",
     "text": [
      "Libraries added successfully!\n"
     ]
    }
   ],
   "source": [
    "from scipy import signal\n",
    "import numpy as np\n",
    "import matplotlib.pyplot as plt\n",
    "import ipywidgets as widgets\n",
    "from IPython.display import display\n",
    "print(\"Libraries added successfully!\")"
   ]
  },
  {
   "cell_type": "markdown",
   "metadata": {},
   "source": [
    "## Μέρος 1: Διερεύνηση του κώδικα εξομοίωσης\n",
    "\n",
    "(α) Να τροποποιηθεί ο κώδικας, ώστε τα L στοιχεία του διανύσματος x στην εντολή\n",
    "14 να λαμβάνουν τιμές από το σύνολο {±d/2, ±3d/2, ±5d/2... }, όπου η απόσταση\n",
    "d των σημείων θα δίνεται ως παράμετρος. Χρησιμοποιώντας για τη συνέχεια την\n",
    "τιμή d=5, να επαληθεύσετε, με υπολογισμό και προβολή σχετικού ιστογράμματος,\n",
    "ότι τα στοιχεία του διανύσματος x ακολουθούν πράγματι την ομοιόμορφη\n",
    "κατανομή. Χρησιμοποιήστε k=mod(nnnnn,2)+3, όπου nnnnn το τελευταίο 5-\n",
    "ψήφιο τμήμα του αριθμού μητρώου σας."
   ]
  },
  {
   "cell_type": "markdown",
   "metadata": {},
   "source": [
    "Κώδικας 3.3: Υπολογισμός πιθανότητας εσφαλμένου συμβόλου σύμφωνης ASK με ορθογωνικούς "
   ]
  },
  {
   "cell_type": "markdown",
   "metadata": {
    "vscode": {
     "languageId": "matlab"
    }
   },
   "source": [
    "`````{tab} Python\n",
    "````python\n",
    "\n",
    "def ask_errors(k,M,nsamp,EbN0_db):\n",
    "    \n",
    "    L = 2**k\n",
    "    SNR_db = EbN0_db - 10*np.log10(nsamp/2/k)\n",
    "    SNR = 10 ** (SNR_db * 0.1)\n",
    "    x = 2*np.floor(L*np.random.rand(M)) - L + 1\n",
    "    P_x = (L*L-1) / 3\n",
    "    Measured_x = np.sum(x*x)/len(x)\n",
    "\n",
    "    y = []\n",
    "    for i in range(len(x)):\n",
    "        for j in range(nsamp):\n",
    "            y.append(x[i])\n",
    "    y = np.array(y)\n",
    "\n",
    "    noise = np.random.normal(0, np.sqrt(Measured_x/SNR),len(y))\n",
    "    y_noisy = y + noise\n",
    "\n",
    "    y = np.reshape(y_noisy, (M, nsamp))\n",
    "    matched = np.ones((nsamp,1))\n",
    "    z = np.matmul(y, matched)\n",
    "    z = z / nsamp\n",
    "    l = np.arange(-L+1,L,2)\n",
    "\n",
    "    z = z[:,0]\n",
    "    for i in range(len(z)):\n",
    "        differences = np.abs(l-z[i]) # Πίνακας με τις διαφορές του σήματος από τα επίπεδα\n",
    "        m = min(differences)\n",
    "        [index], = np.where(differences == m)\n",
    "        z[i] = l[index]\n",
    "    \n",
    "    errors = 0\n",
    "    for i in range(len(z)):\n",
    "        if x[i] != z[i]:\n",
    "            errors += 1\n",
    "    \n",
    "    return errors\n",
    "\n",
    "````\n",
    "`````\n",
    "`````{tab} Matlab\n",
    "````matlab\n",
    "function errors=ask_errors(k,Nsymb,nsamp,EbNo)\n",
    "% Η συνάρτηση αυτή εξομοιώνει την παραγωγή και αποκωδικοποίηση\n",
    "% θορυβώδους σήματος L-ASK και μετρά τον αριθμό των εσφαλμένων συμβόλων.\n",
    "% Επιστρέφει τον αριθμό των εσφαλμένων συμβόλων (στη μεταβλητή errors).\n",
    "% k είναι ο αριθμός των bits/σύμβολο, επομένως L=2^k -- ο αριθμός των\n",
    "% διαφορετικών πλατών\n",
    "% Nsymb είναι ο αριθμός των παραγόμενων συμβόλων (μήκος ακολουθίας LASK)\n",
    "% nsamp ο αριθμός των δειγμάτων ανά σύμβολο (oversampling ratio)\n",
    "% EbNo είναι ο ανηγμένος σηματοθορυβικός λόγος Eb/No, σε db\n",
    "%\n",
    "L=2^k;\n",
    "SNR=EbNo-10*log10(nsamp/2/k); % SNR ανά δείγμα σήματος\n",
    "% Διάνυσμα τυχαίων ακεραίων {±1, ±3, ... ±(L-1)}. Να επαληθευθεί\n",
    "x=2*floor(L*rand(1,Nsymb))-L+1;\n",
    "Px=(L^2-1)/3; % θεωρητική ισχύς σήματος\n",
    "sum(x.^2)/length(x); % μετρούμενη ισχύς σήματος (για επαλήθευση)\n",
    "y=rectpulse(x,nsamp);\n",
    "n=wgn(1,length(y),10*log10(Px)-SNR);\n",
    "ynoisy=y+n; % θορυβώδες σήμα\n",
    "y=reshape(ynoisy,nsamp,length(ynoisy)/nsamp);\n",
    "matched=ones(1,nsamp);\n",
    "z=matched*y/nsamp;\n",
    "A=[-L+1:2:L-1];\n",
    "for i=1:length(z)\n",
    "[m,j]=min(abs(A-z(i)));\n",
    "z(i)=A(j);\n",
    "end\n",
    "err=not(x==z);\n",
    "errors=sum(err);\n",
    "end\n",
    "````\n",
    "`````\n",
    "\n"
   ]
  },
  {
   "cell_type": "markdown",
   "metadata": {},
   "source": [
    "Υπόδειξη: Να παραχθούν (με την εντολή 14) τουλάχιστον 40.000 τυχαίοι ακέραιοι, και να\n",
    "χρησιμοποιηθεί η εντολή hist(x,A) για τον υπολογισμό και την προβολή του ιστογράμματος,όπου Α το διάνυσμα των L διαφορετικών τιμών αυτών των ακεραίων. Να τροποποιηθεί\n",
    "κατάλληλα η εντολή 15 για τον θεωρητικό υπολογισμό της ισχύος και να γίνει\n",
    "επαλήθευση με την εντολή 16. Ομοίως, να τροποποιηθεί κατάλληλα και η εντολή 23.\n"
   ]
  },
  {
   "cell_type": "code",
   "execution_count": 33,
   "metadata": {
    "tags": [
     "remove-input",
     "remove-output"
    ]
   },
   "outputs": [],
   "source": [
    "def ask_errors(k,M,nsamp,EbN0_db):\n",
    "    \n",
    "    L = 2**k\n",
    "    SNR_db = EbN0_db - 10*np.log10(nsamp/2/k)\n",
    "    SNR = 10 ** (SNR_db * 0.1)\n",
    "    x = 2*np.floor(L*np.random.rand(M)) - L + 1\n",
    "    P_x = (L*L-1) / 3\n",
    "    Measured_x = np.sum(x*x)/len(x)\n",
    "\n",
    "    y = []\n",
    "    for i in range(len(x)):\n",
    "        for j in range(nsamp):\n",
    "            y.append(x[i])\n",
    "    y = np.array(y)\n",
    "\n",
    "    noise = np.random.normal(0, np.sqrt(Measured_x/SNR),len(y))\n",
    "    y_noisy = y + noise\n",
    "\n",
    "    y = np.reshape(y_noisy, (M, nsamp))\n",
    "    matched = np.ones((nsamp,1))\n",
    "    z = np.matmul(y, matched)\n",
    "    z = z / nsamp\n",
    "    l = np.arange(-L+1,L,2)\n",
    "\n",
    "    z = z[:,0]\n",
    "    for i in range(len(z)):\n",
    "        differences = np.abs(l-z[i]) # Πίνακας με τις διαφορές του σήματος από τα επίπεδα\n",
    "        m = min(differences)\n",
    "        [index], = np.where(differences == m)\n",
    "        z[i] = l[index]\n",
    "    \n",
    "    errors = 0\n",
    "    for i in range(len(z)):\n",
    "        if x[i] != z[i]:\n",
    "            errors += 1\n",
    "    \n",
    "    return errors\n"
   ]
  },
  {
   "cell_type": "code",
   "execution_count": 31,
   "metadata": {
    "tags": [
     "hide-code-cell",
     "thebe-init"
    ]
   },
   "outputs": [
    {
     "data": {
      "application/vnd.jupyter.widget-view+json": {
       "model_id": "10b975ce937344c39776bfa5fdbf0255",
       "version_major": 2,
       "version_minor": 0
      },
      "text/plain": [
       "VBox(children=(IntText(value=3, description='k:'),))"
      ]
     },
     "metadata": {},
     "output_type": "display_data"
    },
    {
     "data": {
      "application/vnd.jupyter.widget-view+json": {
       "model_id": "5a30ff3a1b68454f87dad606582e0ea4",
       "version_major": 2,
       "version_minor": 0
      },
      "text/plain": [
       "Output()"
      ]
     },
     "metadata": {},
     "output_type": "display_data"
    }
   ],
   "source": [
    "def generate_histogram(k):\n",
    "    M = 40000\n",
    "    L = 2 ** k\n",
    "\n",
    "    x = 2 * np.floor(L * np.random.rand(M)) - L + 1\n",
    "    bins = np.arange(-L, L + 2, 2)\n",
    "    A = np.arange(-(L - 1), L, 2)\n",
    "    \n",
    "    fig, ax = plt.subplots(1, 1, figsize=(14, 4))\n",
    "    ax.hist(x, bins=bins, edgecolor='white', color='#1F77B4')  # Use ax.hist for compatibility with widgets\n",
    "    ax.set_xticks(A)\n",
    "    ax.set_xlabel(\"Integers\")\n",
    "    ax.set_ylabel(\"Frequency\")\n",
    "    ax.set_title(\"Histogram of array x elements\")\n",
    "    plt.show()\n",
    "\n",
    "k_input = widgets.IntText(\n",
    "    value=3,  # default value\n",
    "    description='k:',\n",
    "    continuous_update=False\n",
    ")\n",
    "\n",
    "ui = widgets.VBox([k_input])\n",
    "out = widgets.interactive_output(generate_histogram, {'k': k_input})\n",
    "\n",
    "# Display the UI components\n",
    "display(ui, out)"
   ]
  },
  {
   "cell_type": "markdown",
   "metadata": {},
   "source": [
    "(β) Με τιμές των παραμέτρων της συνάρτησης k=4, M=60000, nsamp=20 και\n",
    "EbNo=12 να εκτελέσετε τις εντολές 11 έως 22 και, στη συνέχεια, να σχεδιάσετε το\n",
    "ιστόγραμμα του z με την εντολή hist(z,200). Να επαναλάβετε το παραπάνω για\n",
    "EbNo=16 και EbNo=20. Τι παρατηρείτε; Να εξηγήσετε τις διαφορές στα τρία\n",
    "διαγράμματα."
   ]
  },
  {
   "cell_type": "code",
   "execution_count": 37,
   "metadata": {
    "tags": [
     "thebe-init",
     "hide-code-cell"
    ]
   },
   "outputs": [
    {
     "data": {
      "application/vnd.jupyter.widget-view+json": {
       "model_id": "84a1ca67a6f644ebb3e4d30b5ee3a4b9",
       "version_major": 2,
       "version_minor": 0
      },
      "text/plain": [
       "VBox(children=(IntText(value=4, description='k:'), FloatSlider(value=10.0, continuous_update=False, descriptio…"
      ]
     },
     "metadata": {},
     "output_type": "display_data"
    },
    {
     "data": {
      "application/vnd.jupyter.widget-view+json": {
       "model_id": "80666e292f64487ca87f57352f07629d",
       "version_major": 2,
       "version_minor": 0
      },
      "text/plain": [
       "Output()"
      ]
     },
     "metadata": {},
     "output_type": "display_data"
    }
   ],
   "source": [
    "def generate_histogram(k, EbN0_db):\n",
    "    M = 60000\n",
    "    nsamp = 16\n",
    "\n",
    "    L = 2**k\n",
    "    SNR_db = EbN0_db - 10*np.log10(nsamp/2/k)\n",
    "    SNR = 10 ** (SNR_db * 0.1)\n",
    "    x = 2*np.floor(L*np.random.rand(M)) - L + 1\n",
    "    P_x = (L**2 - 1) / 3\n",
    "    Measured_x = np.sum(x**2)/len(x)\n",
    "\n",
    "    y = np.repeat(x, nsamp)\n",
    "\n",
    "    noise = np.random.normal(0, np.sqrt(Measured_x/SNR), len(y))\n",
    "    y_noisy = y + noise\n",
    "\n",
    "    y_reshaped = np.reshape(y_noisy, (M, nsamp))\n",
    "    matched = np.ones((nsamp, 1))\n",
    "    z = np.matmul(y_reshaped, matched) / nsamp\n",
    "\n",
    "    A = np.arange(-(L-1), L, 2)  # Adjusted to use inside plotting\n",
    "    \n",
    "    fig, ax = plt.subplots(1, 1, figsize=(14, 4))\n",
    "    ax.hist(z, bins=200,  edgecolor='white', color='#1F77B4')\n",
    "    ax.set_xticks(A)\n",
    "    ax.set_xlabel(\"Integers\")\n",
    "    ax.set_ylabel(\"Frequency\")\n",
    "    ax.legend([\"Eb/N0 = \" + str(EbN0_db)])\n",
    "    ax.set_title('Histogram of the Noisy Signal')\n",
    "    plt.show()\n",
    "\n",
    "k_input = widgets.IntText(\n",
    "    value=4,  # default value\n",
    "    description='k:',\n",
    "    continuous_update=False\n",
    ")\n",
    "\n",
    "EbN0_db_slider = widgets.FloatSlider(\n",
    "    value=10,  # default value\n",
    "    min=0,    # minimum value\n",
    "    max=20,   # maximum value\n",
    "    step=0.1,   # step size\n",
    "    description='Eb/N0 (dB):',\n",
    "    continuous_update=False\n",
    ")\n",
    "\n",
    "ui = widgets.VBox([k_input, EbN0_db_slider])\n",
    "\n",
    "out = widgets.interactive_output(generate_histogram, {'k': k_input, 'EbN0_db': EbN0_db_slider})\n",
    "\n",
    "# Display the UI components\n",
    "display(ui, out)"
   ]
  },
  {
   "cell_type": "markdown",
   "metadata": {},
   "source": [
    "(γ) Τι κάνει η εντολή 20 και τι κάνει η εντολή 22; Τι τύπου και τι διάστασης είναι οι\n",
    "μεταβλητές: x στην εντολή 14, y στην εντολή 17, y στην εντολή 20, matched, z, err\n",
    "και errors; "
   ]
  },
  {
   "cell_type": "markdown",
   "metadata": {},
   "source": [
    "(δ) Να εξηγηθεί η λειτουργία του βρόχου 24-27 του Κώδικα 3.3 ως ανιχνευτή\n",
    "ελάχιστης απόστασης για την L-ASK."
   ]
  },
  {
   "cell_type": "markdown",
   "metadata": {},
   "source": [
    "## Μέρος 2ο: Καμπύλες επίδοσης (BER συναρτήσει του σηματοθορυβικού λόγου)\n",
    "\n",
    "Να επαληθεύσετε την καμπύλη του σχήματος 3.10 των σημειώσεων (για ευκολία\n",
    "επαναλαμβάνεται πιο κάτω) για την L-ASK, με L=2k, k=mod(nnnnn, 2)+3, όπου nnnnn\n",
    "το τελευταίο 5-ψήφιο τμήμα του αριθμού μητρώου σας. Να σχεδιάσετε τη θεωρητική\n",
    "καμπύλη και να υπερθέσετε τα αποτελέσματα της εξομοίωσης (διακριτά σημεία),\n",
    "όπως στο σχήμα. Να ‘διαβάσετε’ από την καμπύλη 8-ASK και να γράψετε στο αρχείο\n",
    "υποβολής τις τιμές BER για Eb/No={8,14,18}db. Αντίστροφα, βρείτε την κατάλληλη\n",
    "τιμή Eb/No για σύστημα 8-ASK με ρυθμό μετάδοσης R=1Mbps, έτσι ώστε ο ρυθμός\n",
    "λαθών να μην υπερβαίνει την τιμή {10, 100, 1000} bps."
   ]
  },
  {
   "cell_type": "markdown",
   "metadata": {},
   "source": [
    "![lab3_1.png](../content/images/lab3_1.png)"
   ]
  },
  {
   "cell_type": "code",
   "execution_count": 38,
   "metadata": {
    "tags": [
     "hide-input"
    ]
   },
   "outputs": [
    {
     "data": {
      "image/png": "[encoded data removed]",
      "text/plain": [
       "<Figure size 640x480 with 1 Axes>"
      ]
     },
     "metadata": {},
     "output_type": "display_data"
    }
   ],
   "source": [
    "from scipy.special import erfc\n",
    "\n",
    "M = 20000\n",
    "k = 4\n",
    "L = 2**k\n",
    "nsamp = 16\n",
    "\n",
    "ber = np.zeros(18)\n",
    "for index in range (0,18):\n",
    "    ber[index] = ask_errors(k,M,nsamp,index)/M/np.log2(L)\n",
    "\n",
    "plt.semilogy(ber,'o')\n",
    "plt.grid(True,which='both')\n",
    "plt.xlabel(\"Eb/N0 (dB)\")\n",
    "plt.ylabel(\"BER\")\n",
    "\n",
    "EbN0_db = np.arange(0,18,1)\n",
    "EbN0 = 10**(EbN0_db/10)\n",
    "ber_theoretical = (((L-1)/L)*erfc(np.sqrt(EbN0*(3*np.log2(L))/(L**2-1))))/k\n",
    "plt.semilogy(ber_theoretical)\n",
    "\n",
    "plt.legend(['Experimental','Theoretical'])\n",
    "\n",
    "plt.show()"
   ]
  }
 ],
 "metadata": {
  "kernelspec": {
   "display_name": "Python 3",
   "language": "python",
   "name": "python3"
  },
  "language_info": {
   "codemirror_mode": {
    "name": "ipython",
    "version": 3
   },
   "file_extension": ".py",
   "mimetype": "text/x-python",
   "name": "python",
   "nbconvert_exporter": "python",
   "pygments_lexer": "ipython3",
   "version": "3.11.0"
  }
 },
 "nbformat": 4,
 "nbformat_minor": 2
}
